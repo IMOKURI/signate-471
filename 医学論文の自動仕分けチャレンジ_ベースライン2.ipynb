{
  "nbformat": 4,
  "nbformat_minor": 0,
  "metadata": {
    "colab": {
      "name": "医学論文の自動仕分けチャレンジ ベースライン2.ipynb",
      "provenance": [],
      "collapsed_sections": [],
      "toc_visible": true,
      "authorship_tag": "ABX9TyNCpJnLLGYxpphwAzDFvENB",
      "include_colab_link": true
    },
    "kernelspec": {
      "name": "python3",
      "display_name": "Python 3"
    },
    "language_info": {
      "name": "python"
    }
  },
  "cells": [
    {
      "cell_type": "markdown",
      "metadata": {
        "id": "view-in-github",
        "colab_type": "text"
      },
      "source": [
        "<a href=\"https://colab.research.google.com/github/IMOKURI/signate-471/blob/main/%E5%8C%BB%E5%AD%A6%E8%AB%96%E6%96%87%E3%81%AE%E8%87%AA%E5%8B%95%E4%BB%95%E5%88%86%E3%81%91%E3%83%81%E3%83%A3%E3%83%AC%E3%83%B3%E3%82%B8_%E3%83%99%E3%83%BC%E3%82%B9%E3%83%A9%E3%82%A4%E3%83%B32.ipynb\" target=\"_parent\"><img src=\"https://colab.research.google.com/assets/colab-badge.svg\" alt=\"Open In Colab\"/></a>"
      ]
    },
    {
      "cell_type": "markdown",
      "metadata": {
        "id": "l_ArH5IAFij8"
      },
      "source": [
        "# 医学論文の自動仕分けチャレンジ ベースライン\n",
        "\n",
        "\n",
        "\n",
        "## 前提\n",
        "\n",
        "- Google Colab で動かすことを想定します。\n",
        "\n",
        "## 事前準備\n",
        "\n",
        "- Google Drive の `マイドライブ/Datasets/signate-471` というフォルダに 本コンペのデータを配置してください。\n",
        "\n",
        "## アウトプット\n",
        "\n",
        "- `oof_df.csv`: 交差検証でのモデルの出力などが入っています。\n",
        "- `submission.csv`: 提出用のファイルです。\n",
        "\n",
        "## スコア\n",
        "\n",
        "- CV (交差検証): \n",
        "- LB (リーダーボード): \n",
        "\n",
        "## 謝辞\n",
        "\n",
        "この notebook は Kaggle で [@ruchi798](https://www.kaggle.com/ruchi798) さんが別コンペで公開されていた notebook をベースにしています。"
      ]
    },
    {
      "cell_type": "markdown",
      "metadata": {
        "id": "mbNCHAD_Ft8Z"
      },
      "source": [
        "## データをドライブからコピー"
      ]
    },
    {
      "cell_type": "code",
      "metadata": {
        "colab": {
          "base_uri": "https://localhost:8080/"
        },
        "id": "QsVqYGC4Facg",
        "outputId": "f0daf0ad-f43b-46c8-9e52-4b8ada8fb15c"
      },
      "source": [
        "import os\n",
        "import sys\n",
        "\n",
        "from google.colab import drive\n",
        "drive.mount('/gdrive')\n",
        "\n",
        "!cp /gdrive/MyDrive/Datasets/signate-471/train.csv .\n",
        "!cp /gdrive/MyDrive/Datasets/signate-471/test.csv .\n",
        "!cp /gdrive/MyDrive/Datasets/signate-471/sample_submit.csv ."
      ],
      "execution_count": null,
      "outputs": [
        {
          "output_type": "stream",
          "text": [
            "Mounted at /gdrive\n"
          ],
          "name": "stdout"
        }
      ]
    },
    {
      "cell_type": "markdown",
      "metadata": {
        "id": "BfaD8focF02P"
      },
      "source": [
        "## ライブラリ インストール、インポート"
      ]
    },
    {
      "cell_type": "code",
      "metadata": {
        "colab": {
          "base_uri": "https://localhost:8080/"
        },
        "id": "6rMbojbgF1eZ",
        "outputId": "e791cbf6-f3ee-4ae3-8ad1-316ae96783c0"
      },
      "source": [
        "!pip install -q textstat"
      ],
      "execution_count": null,
      "outputs": [
        {
          "output_type": "stream",
          "text": [
            "\u001b[K     |████████████████████████████████| 99 kB 3.5 MB/s \n",
            "\u001b[K     |████████████████████████████████| 2.0 MB 18.5 MB/s \n",
            "\u001b[?25h"
          ],
          "name": "stdout"
        }
      ]
    },
    {
      "cell_type": "code",
      "metadata": {
        "id": "UYXx-wWNF4CY"
      },
      "source": [
        "import math\n",
        "import random\n",
        "import re\n",
        "import time\n",
        "import warnings\n",
        "\n",
        "import nltk\n",
        "import numpy as np\n",
        "import pandas as pd\n",
        "import textstat\n",
        "from sklearn.feature_extraction.text import CountVectorizer\n",
        "from sklearn.feature_extraction.text import TfidfVectorizer\n",
        "from sklearn.linear_model import LinearRegression, Ridge\n",
        "from sklearn.metrics import fbeta_score, mean_squared_error\n",
        "from sklearn.model_selection import StratifiedKFold, train_test_split\n",
        "from sklearn.pipeline import make_pipeline\n",
        "from torch.utils.data import DataLoader, Dataset\n",
        "from tqdm.notebook import tqdm"
      ],
      "execution_count": null,
      "outputs": []
    },
    {
      "cell_type": "code",
      "metadata": {
        "id": "SoRtqMKqGWrm"
      },
      "source": [
        "DATA_DIR = \"./\"\n",
        "OUTPUT_DIR = \"./\""
      ],
      "execution_count": null,
      "outputs": []
    },
    {
      "cell_type": "code",
      "metadata": {
        "id": "FekOVKMOGMDD"
      },
      "source": [
        "warnings.filterwarnings(\"ignore\")"
      ],
      "execution_count": null,
      "outputs": []
    },
    {
      "cell_type": "code",
      "metadata": {
        "id": "MGvf-4pqGN7h"
      },
      "source": [
        "device = torch.device(\"cuda\" if torch.cuda.is_available() else \"cpu\")"
      ],
      "execution_count": null,
      "outputs": []
    },
    {
      "cell_type": "code",
      "metadata": {
        "colab": {
          "base_uri": "https://localhost:8080/"
        },
        "id": "-AajtTX3GQXd",
        "outputId": "1272718c-6039-4ba6-a854-94b9c2eaab57"
      },
      "source": [
        "nltk.download('stopwords')\n",
        "nltk.download('punkt')\n",
        "nltk.download('wordnet')"
      ],
      "execution_count": null,
      "outputs": [
        {
          "output_type": "stream",
          "text": [
            "[nltk_data] Downloading package stopwords to /root/nltk_data...\n",
            "[nltk_data]   Unzipping corpora/stopwords.zip.\n",
            "[nltk_data] Downloading package punkt to /root/nltk_data...\n",
            "[nltk_data]   Unzipping tokenizers/punkt.zip.\n",
            "[nltk_data] Downloading package wordnet to /root/nltk_data...\n",
            "[nltk_data]   Unzipping corpora/wordnet.zip.\n"
          ],
          "name": "stdout"
        },
        {
          "output_type": "execute_result",
          "data": {
            "text/plain": [
              "True"
            ]
          },
          "metadata": {
            "tags": []
          },
          "execution_count": 7
        }
      ]
    },
    {
      "cell_type": "code",
      "metadata": {
        "id": "7h7vMGezGYbI"
      },
      "source": [
        "def init_logger(log_file=OUTPUT_DIR + \"train.log\"):\n",
        "    from logging import INFO, FileHandler, Formatter, StreamHandler, getLogger\n",
        "\n",
        "    logger = getLogger(__name__)\n",
        "    logger.setLevel(INFO)\n",
        "    handler1 = StreamHandler()\n",
        "    handler1.setFormatter(Formatter(\"%(message)s\"))\n",
        "    handler2 = FileHandler(filename=log_file)\n",
        "    handler2.setFormatter(Formatter(\"%(message)s\"))\n",
        "    logger.addHandler(handler1)\n",
        "    logger.addHandler(handler2)\n",
        "    return logger\n",
        "\n",
        "LOGGER = init_logger()"
      ],
      "execution_count": null,
      "outputs": []
    },
    {
      "cell_type": "code",
      "metadata": {
        "id": "QlnWKK7oGZDT"
      },
      "source": [
        "def seed_torch(seed=42):\n",
        "    random.seed(seed)\n",
        "    os.environ[\"PYTHONHASHSEED\"] = str(seed)\n",
        "    np.random.seed(seed)\n",
        "    torch.manual_seed(seed)\n",
        "    torch.cuda.manual_seed(seed)\n",
        "    torch.cuda.manual_seed_all(seed)\n",
        "    torch.backends.cudnn.deterministic = True\n",
        "\n",
        "seed = 471\n",
        "seed_torch(seed)"
      ],
      "execution_count": null,
      "outputs": []
    },
    {
      "cell_type": "markdown",
      "metadata": {
        "id": "Nyp6fmjGGck3"
      },
      "source": [
        "## データ読み込み"
      ]
    },
    {
      "cell_type": "code",
      "metadata": {
        "id": "-jyi3_GfGdr2"
      },
      "source": [
        "train = pd.read_csv(DATA_DIR + \"train.csv\")\n",
        "test = pd.read_csv(DATA_DIR + \"test.csv\")\n",
        "sub = pd.read_csv(DATA_DIR + \"sample_submit.csv\", header=None)\n",
        "sub.columns = [\"id\", \"judgement\"]"
      ],
      "execution_count": null,
      "outputs": []
    },
    {
      "cell_type": "code",
      "metadata": {
        "colab": {
          "base_uri": "https://localhost:8080/"
        },
        "id": "EuXSykf3ixTT",
        "outputId": "da9e277d-372f-4f3f-f5e1-7bea32aec8dd"
      },
      "source": [
        "# この値を境に、モデルの出力を 0 と 1 にします。\n",
        "border = len(train[train[\"judgement\"] == 1]) / len(train[\"judgement\"])\n",
        "print(border)"
      ],
      "execution_count": null,
      "outputs": [
        {
          "output_type": "stream",
          "text": [
            "0.023282372444280715\n"
          ],
          "name": "stdout"
        }
      ]
    },
    {
      "cell_type": "markdown",
      "metadata": {
        "id": "Jjnt0lSEGkJc"
      },
      "source": [
        "## 前処理"
      ]
    },
    {
      "cell_type": "code",
      "metadata": {
        "id": "h2TMI4kaTg4I"
      },
      "source": [
        "def preprocess(data):\n",
        "    \n",
        "    title_abstract = []\n",
        "    for e in data:\n",
        "\n",
        "        # アルファベット以外は空白に置換します。\n",
        "        e = re.sub(\"[^a-zA-Z]\", \" \", e)\n",
        "\n",
        "        # 小文字に変換します。\n",
        "        e = e.lower()\n",
        "\n",
        "        # token に分割します。\n",
        "        e = nltk.word_tokenize(e)\n",
        "\n",
        "        # stop word を削除します。\n",
        "        e = [word for word in e if not word in set(nltk.corpus.stopwords.words(\"english\"))]\n",
        "\n",
        "        # 見出し語化します。\n",
        "        lemma = nltk.WordNetLemmatizer()\n",
        "        e = [lemma.lemmatize(word) for word in e]\n",
        "        e = \" \".join(e)\n",
        "\n",
        "        title_abstract.append(e)\n",
        "\n",
        "    return title_abstract"
      ],
      "execution_count": null,
      "outputs": []
    },
    {
      "cell_type": "code",
      "metadata": {
        "id": "3ZBPtdFOGk8S"
      },
      "source": [
        "def get_train_data(train):\n",
        "\n",
        "    # 交差検証 用の番号を振ります。\n",
        "    Fold = StratifiedKFold(n_splits=5, shuffle=True, random_state=seed)\n",
        "    for n, (train_index, val_index) in enumerate(Fold.split(train, train[\"judgement\"])):\n",
        "        train.loc[val_index, \"fold\"] = int(n)\n",
        "    train[\"fold\"] = train[\"fold\"].astype(np.uint8)\n",
        "\n",
        "    # NaN を空白で埋めます。\n",
        "    train.fillna(\"\", inplace=True)\n",
        "\n",
        "    # title と abstract を接続します。\n",
        "    train[\"title_abstract\"] = train[[\"title\", \"abstract\"]].agg(\" \".join, axis=1)\n",
        "\n",
        "    train[\"preprocessed_title_abstract\"] = preprocess(train[\"title_abstract\"])\n",
        "\n",
        "    return train"
      ],
      "execution_count": null,
      "outputs": []
    },
    {
      "cell_type": "code",
      "metadata": {
        "id": "0fQzuDVvGnEa"
      },
      "source": [
        "def get_test_data(test):\n",
        "\n",
        "    # NaN を空白で埋めます。\n",
        "    test.fillna(\"\", inplace=True)\n",
        "\n",
        "    # title と abstract を接続します。\n",
        "    test[\"title_abstract\"] = test[[\"title\", \"abstract\"]].agg(\" \".join, axis=1)\n",
        "\n",
        "    test[\"preprocessed_title_abstract\"] = preprocess(test[\"title_abstract\"])\n",
        "\n",
        "    return test"
      ],
      "execution_count": null,
      "outputs": []
    },
    {
      "cell_type": "code",
      "metadata": {
        "id": "menH08DiWbak"
      },
      "source": [
        "if os.path.exists(\"/gdrive/MyDrive/Datasets/signate-471/preprocessed_train.csv\"):\n",
        "    !cp -f /gdrive/MyDrive/Datasets/signate-471/preprocessed_train.csv .\n",
        "    train = pd.read_csv(\"preprocessed_train.csv\")\n",
        "\n",
        "else:\n",
        "    # 時間がかかる(30分くらい？)ので、一度、前処理したものは保存しておきます。\n",
        "    train = get_train_data(train)\n",
        "    train.to_csv(\"preprocessed_train.csv\")\n",
        "    !cp -f preprocessed_train.csv /gdrive/MyDrive/Datasets/signate-471/"
      ],
      "execution_count": null,
      "outputs": []
    },
    {
      "cell_type": "code",
      "metadata": {
        "id": "j3_-N3B6W1BC"
      },
      "source": [
        "if os.path.exists(\"/gdrive/MyDrive/Datasets/signate-471/preprocessed_test.csv\"):\n",
        "    !cp -f /gdrive/MyDrive/Datasets/signate-471/preprocessed_test.csv .\n",
        "    test = pd.read_csv(\"preprocessed_test.csv\")\n",
        "\n",
        "else:\n",
        "    # 時間がかかる(30分くらい？)ので、一度、前処理したものは保存しておきます。\n",
        "    test = get_test_data(test)\n",
        "    test.to_csv(\"preprocessed_test.csv\")\n",
        "    !cp -f preprocessed_test.csv /gdrive/MyDrive/Datasets/signate-471/"
      ],
      "execution_count": null,
      "outputs": []
    },
    {
      "cell_type": "markdown",
      "metadata": {
        "id": "mepmT4FreSZt"
      },
      "source": [
        "## 学習"
      ]
    },
    {
      "cell_type": "code",
      "metadata": {
        "id": "347MnucdczvJ"
      },
      "source": [
        "def training(model, X_train, y_train, X_test, y_test, model_name):\n",
        "    t1 = time.time()\n",
        "    \n",
        "    model = make_pipeline(\n",
        "        TfidfVectorizer(binary=True, ngram_range=(1,1)),\n",
        "        model,\n",
        "    )\n",
        "    model.fit(X_train, y_train)\n",
        "    y_pred = model.predict(X_test)\n",
        "    MSE = mean_squared_error(y_test, y_pred)\n",
        "    \n",
        "    t2 = time.time()\n",
        "    training_time = t2-t1 \n",
        "    \n",
        "    LOGGER.info(f\"--- Model: {model_name} ---\")\n",
        "    LOGGER.info(f\"MSE: {MSE:.5f}\")\n",
        "    LOGGER.info(f\"Training time: {training_time:.5f}\")"
      ],
      "execution_count": null,
      "outputs": []
    },
    {
      "cell_type": "code",
      "metadata": {
        "colab": {
          "base_uri": "https://localhost:8080/"
        },
        "id": "KtvGSyJGfqiW",
        "outputId": "715792ed-1564-4616-8cf8-d826db06126d"
      },
      "source": [
        "ridge = Ridge(fit_intercept=True, normalize=False)\n",
        "lr = LinearRegression()\n",
        "m = [ridge, lr]\n",
        "mn = [\"Ridge Regression\", \"Linear Regression\"]\n",
        "\n",
        "X = train[\"preprocessed_title_abstract\"]\n",
        "y = train['judgement']\n",
        "\n",
        "X_train, X_test, y_train, y_test = train_test_split(X, y, test_size=0.33, random_state=471)\n",
        "\n",
        "for i in range(0, len(m)):\n",
        "    training(model=m[i], X_train=X_train, y_train=y_train, X_test=X_test, y_test=y_test, model_name=mn[i])"
      ],
      "execution_count": null,
      "outputs": [
        {
          "output_type": "stream",
          "text": [
            "--- Model: Ridge Regression ---\n",
            "MSE: 0.01500\n",
            "Training time: 3.52279\n",
            "--- Model: Linear Regression ---\n",
            "MSE: 0.16198\n",
            "Training time: 47.18153\n"
          ],
          "name": "stderr"
        }
      ]
    },
    {
      "cell_type": "markdown",
      "metadata": {
        "id": "kYWs5N4sgdo1"
      },
      "source": [
        "## 推論"
      ]
    },
    {
      "cell_type": "code",
      "metadata": {
        "id": "7BU0VcjMgFMd"
      },
      "source": [
        "def training_all(model, X, y):\n",
        "    \n",
        "    model = make_pipeline(\n",
        "        TfidfVectorizer(binary=True, ngram_range=(1,1)),\n",
        "        model,\n",
        "    )\n",
        "    model.fit(X, y)\n",
        "    y_pred = model.predict(test[\"preprocessed_title_abstract\"])\n",
        "    \n",
        "    return y_pred"
      ],
      "execution_count": null,
      "outputs": []
    },
    {
      "cell_type": "code",
      "metadata": {
        "colab": {
          "base_uri": "https://localhost:8080/",
          "height": 419
        },
        "id": "TneuOzdIgsr9",
        "outputId": "5ed86ab5-89b7-4ba8-e8a1-0798c5b2235b"
      },
      "source": [
        "predictions = training_all(ridge, X, y)\n",
        "predictions = np.where(predictions < border, 0, 1)\n",
        "sub[\"judgement\"] = predictions\n",
        "sub.to_csv(OUTPUT_DIR + \"submission.csv\", index=False, header=False)"
      ],
      "execution_count": null,
      "outputs": [
        {
          "output_type": "execute_result",
          "data": {
            "text/html": [
              "<div>\n",
              "<style scoped>\n",
              "    .dataframe tbody tr th:only-of-type {\n",
              "        vertical-align: middle;\n",
              "    }\n",
              "\n",
              "    .dataframe tbody tr th {\n",
              "        vertical-align: top;\n",
              "    }\n",
              "\n",
              "    .dataframe thead th {\n",
              "        text-align: right;\n",
              "    }\n",
              "</style>\n",
              "<table border=\"1\" class=\"dataframe\">\n",
              "  <thead>\n",
              "    <tr style=\"text-align: right;\">\n",
              "      <th></th>\n",
              "      <th>id</th>\n",
              "      <th>judgement</th>\n",
              "    </tr>\n",
              "  </thead>\n",
              "  <tbody>\n",
              "    <tr>\n",
              "      <th>0</th>\n",
              "      <td>27145</td>\n",
              "      <td>1</td>\n",
              "    </tr>\n",
              "    <tr>\n",
              "      <th>1</th>\n",
              "      <td>27146</td>\n",
              "      <td>1</td>\n",
              "    </tr>\n",
              "    <tr>\n",
              "      <th>2</th>\n",
              "      <td>27147</td>\n",
              "      <td>0</td>\n",
              "    </tr>\n",
              "    <tr>\n",
              "      <th>3</th>\n",
              "      <td>27148</td>\n",
              "      <td>0</td>\n",
              "    </tr>\n",
              "    <tr>\n",
              "      <th>4</th>\n",
              "      <td>27149</td>\n",
              "      <td>0</td>\n",
              "    </tr>\n",
              "    <tr>\n",
              "      <th>...</th>\n",
              "      <td>...</td>\n",
              "      <td>...</td>\n",
              "    </tr>\n",
              "    <tr>\n",
              "      <th>40829</th>\n",
              "      <td>67974</td>\n",
              "      <td>0</td>\n",
              "    </tr>\n",
              "    <tr>\n",
              "      <th>40830</th>\n",
              "      <td>67975</td>\n",
              "      <td>0</td>\n",
              "    </tr>\n",
              "    <tr>\n",
              "      <th>40831</th>\n",
              "      <td>67976</td>\n",
              "      <td>1</td>\n",
              "    </tr>\n",
              "    <tr>\n",
              "      <th>40832</th>\n",
              "      <td>67977</td>\n",
              "      <td>0</td>\n",
              "    </tr>\n",
              "    <tr>\n",
              "      <th>40833</th>\n",
              "      <td>67978</td>\n",
              "      <td>1</td>\n",
              "    </tr>\n",
              "  </tbody>\n",
              "</table>\n",
              "<p>40834 rows × 2 columns</p>\n",
              "</div>"
            ],
            "text/plain": [
              "          id  judgement\n",
              "0      27145          1\n",
              "1      27146          1\n",
              "2      27147          0\n",
              "3      27148          0\n",
              "4      27149          0\n",
              "...      ...        ...\n",
              "40829  67974          0\n",
              "40830  67975          0\n",
              "40831  67976          1\n",
              "40832  67977          0\n",
              "40833  67978          1\n",
              "\n",
              "[40834 rows x 2 columns]"
            ]
          },
          "metadata": {
            "tags": []
          },
          "execution_count": 77
        }
      ]
    },
    {
      "cell_type": "code",
      "metadata": {
        "colab": {
          "base_uri": "https://localhost:8080/"
        },
        "id": "IOBv5Ftli9O1",
        "outputId": "acc7d02a-c7be-4b09-ecd2-df7198f3e9d3"
      },
      "source": [
        "sub[\"judgement\"].value_counts()"
      ],
      "execution_count": null,
      "outputs": [
        {
          "output_type": "execute_result",
          "data": {
            "text/plain": [
              "0    25401\n",
              "1    15433\n",
              "Name: judgement, dtype: int64"
            ]
          },
          "metadata": {
            "tags": []
          },
          "execution_count": 80
        }
      ]
    }
  ]
}