{
  "nbformat": 4,
  "nbformat_minor": 0,
  "metadata": {
    "accelerator": "GPU",
    "colab": {
      "name": "医学論文の自動仕分けチャレンジ.ipynb",
      "provenance": [],
      "collapsed_sections": [],
      "toc_visible": true,
      "machine_shape": "hm",
      "include_colab_link": true
    },
    "kernelspec": {
      "display_name": "Python 3",
      "language": "python",
      "name": "python3"
    },
    "language_info": {
      "codemirror_mode": {
        "name": "ipython",
        "version": 3
      },
      "file_extension": ".py",
      "mimetype": "text/x-python",
      "name": "python",
      "nbconvert_exporter": "python",
      "pygments_lexer": "ipython3",
      "version": "3.6.4"
    },
    "widgets": {
      "application/vnd.jupyter.widget-state+json": {
        "a0ce3464391849d3b63fcae454cd803c": {
          "model_module": "@jupyter-widgets/controls",
          "model_name": "VBoxModel",
          "model_module_version": "1.5.0",
          "state": {
            "_view_name": "VBoxView",
            "_dom_classes": [],
            "_model_name": "VBoxModel",
            "_view_module": "@jupyter-widgets/controls",
            "_model_module_version": "1.5.0",
            "_view_count": null,
            "_view_module_version": "1.5.0",
            "box_style": "",
            "layout": "IPY_MODEL_0f9e3940cc06497c948547bd1704ba1e",
            "_model_module": "@jupyter-widgets/controls",
            "children": [
              "IPY_MODEL_1b2350dcf5c24f5fb4cb7a386f9a2c49",
              "IPY_MODEL_961fa3ab4da643b9ab4cef86111018ec"
            ]
          }
        },
        "0f9e3940cc06497c948547bd1704ba1e": {
          "model_module": "@jupyter-widgets/base",
          "model_name": "LayoutModel",
          "model_module_version": "1.2.0",
          "state": {
            "_view_name": "LayoutView",
            "grid_template_rows": null,
            "right": null,
            "justify_content": null,
            "_view_module": "@jupyter-widgets/base",
            "overflow": null,
            "_model_module_version": "1.2.0",
            "_view_count": null,
            "flex_flow": null,
            "width": null,
            "min_width": null,
            "border": null,
            "align_items": null,
            "bottom": null,
            "_model_module": "@jupyter-widgets/base",
            "top": null,
            "grid_column": null,
            "overflow_y": null,
            "overflow_x": null,
            "grid_auto_flow": null,
            "grid_area": null,
            "grid_template_columns": null,
            "flex": null,
            "_model_name": "LayoutModel",
            "justify_items": null,
            "grid_row": null,
            "max_height": null,
            "align_content": null,
            "visibility": null,
            "align_self": null,
            "height": null,
            "min_height": null,
            "padding": null,
            "grid_auto_rows": null,
            "grid_gap": null,
            "max_width": null,
            "order": null,
            "_view_module_version": "1.2.0",
            "grid_template_areas": null,
            "object_position": null,
            "object_fit": null,
            "grid_auto_columns": null,
            "margin": null,
            "display": null,
            "left": null
          }
        },
        "1b2350dcf5c24f5fb4cb7a386f9a2c49": {
          "model_module": "@jupyter-widgets/controls",
          "model_name": "LabelModel",
          "model_module_version": "1.5.0",
          "state": {
            "_view_name": "LabelView",
            "style": "IPY_MODEL_6b160083366440f29bcd39395bab546a",
            "_dom_classes": [],
            "description": "",
            "_model_name": "LabelModel",
            "placeholder": "​",
            "_view_module": "@jupyter-widgets/controls",
            "_model_module_version": "1.5.0",
            "value": " 118.77MB of 118.77MB uploaded (0.45MB deduped)\r",
            "_view_count": null,
            "_view_module_version": "1.5.0",
            "description_tooltip": null,
            "_model_module": "@jupyter-widgets/controls",
            "layout": "IPY_MODEL_dc2cfcd461b84fafb23957355761d8ab"
          }
        },
        "961fa3ab4da643b9ab4cef86111018ec": {
          "model_module": "@jupyter-widgets/controls",
          "model_name": "FloatProgressModel",
          "model_module_version": "1.5.0",
          "state": {
            "_view_name": "ProgressView",
            "style": "IPY_MODEL_ed0ae24bb29e44cf8460f8d433ad26fc",
            "_dom_classes": [],
            "description": "",
            "_model_name": "FloatProgressModel",
            "bar_style": "",
            "max": 1,
            "_view_module": "@jupyter-widgets/controls",
            "_model_module_version": "1.5.0",
            "value": 1,
            "_view_count": null,
            "_view_module_version": "1.5.0",
            "orientation": "horizontal",
            "min": 0,
            "description_tooltip": null,
            "_model_module": "@jupyter-widgets/controls",
            "layout": "IPY_MODEL_e17cd2c9fa7e496194c565d3ae62c0f2"
          }
        },
        "6b160083366440f29bcd39395bab546a": {
          "model_module": "@jupyter-widgets/controls",
          "model_name": "DescriptionStyleModel",
          "model_module_version": "1.5.0",
          "state": {
            "_view_name": "StyleView",
            "_model_name": "DescriptionStyleModel",
            "description_width": "",
            "_view_module": "@jupyter-widgets/base",
            "_model_module_version": "1.5.0",
            "_view_count": null,
            "_view_module_version": "1.2.0",
            "_model_module": "@jupyter-widgets/controls"
          }
        },
        "dc2cfcd461b84fafb23957355761d8ab": {
          "model_module": "@jupyter-widgets/base",
          "model_name": "LayoutModel",
          "model_module_version": "1.2.0",
          "state": {
            "_view_name": "LayoutView",
            "grid_template_rows": null,
            "right": null,
            "justify_content": null,
            "_view_module": "@jupyter-widgets/base",
            "overflow": null,
            "_model_module_version": "1.2.0",
            "_view_count": null,
            "flex_flow": null,
            "width": null,
            "min_width": null,
            "border": null,
            "align_items": null,
            "bottom": null,
            "_model_module": "@jupyter-widgets/base",
            "top": null,
            "grid_column": null,
            "overflow_y": null,
            "overflow_x": null,
            "grid_auto_flow": null,
            "grid_area": null,
            "grid_template_columns": null,
            "flex": null,
            "_model_name": "LayoutModel",
            "justify_items": null,
            "grid_row": null,
            "max_height": null,
            "align_content": null,
            "visibility": null,
            "align_self": null,
            "height": null,
            "min_height": null,
            "padding": null,
            "grid_auto_rows": null,
            "grid_gap": null,
            "max_width": null,
            "order": null,
            "_view_module_version": "1.2.0",
            "grid_template_areas": null,
            "object_position": null,
            "object_fit": null,
            "grid_auto_columns": null,
            "margin": null,
            "display": null,
            "left": null
          }
        },
        "ed0ae24bb29e44cf8460f8d433ad26fc": {
          "model_module": "@jupyter-widgets/controls",
          "model_name": "ProgressStyleModel",
          "model_module_version": "1.5.0",
          "state": {
            "_view_name": "StyleView",
            "_model_name": "ProgressStyleModel",
            "description_width": "",
            "_view_module": "@jupyter-widgets/base",
            "_model_module_version": "1.5.0",
            "_view_count": null,
            "_view_module_version": "1.2.0",
            "bar_color": null,
            "_model_module": "@jupyter-widgets/controls"
          }
        },
        "e17cd2c9fa7e496194c565d3ae62c0f2": {
          "model_module": "@jupyter-widgets/base",
          "model_name": "LayoutModel",
          "model_module_version": "1.2.0",
          "state": {
            "_view_name": "LayoutView",
            "grid_template_rows": null,
            "right": null,
            "justify_content": null,
            "_view_module": "@jupyter-widgets/base",
            "overflow": null,
            "_model_module_version": "1.2.0",
            "_view_count": null,
            "flex_flow": null,
            "width": null,
            "min_width": null,
            "border": null,
            "align_items": null,
            "bottom": null,
            "_model_module": "@jupyter-widgets/base",
            "top": null,
            "grid_column": null,
            "overflow_y": null,
            "overflow_x": null,
            "grid_auto_flow": null,
            "grid_area": null,
            "grid_template_columns": null,
            "flex": null,
            "_model_name": "LayoutModel",
            "justify_items": null,
            "grid_row": null,
            "max_height": null,
            "align_content": null,
            "visibility": null,
            "align_self": null,
            "height": null,
            "min_height": null,
            "padding": null,
            "grid_auto_rows": null,
            "grid_gap": null,
            "max_width": null,
            "order": null,
            "_view_module_version": "1.2.0",
            "grid_template_areas": null,
            "object_position": null,
            "object_fit": null,
            "grid_auto_columns": null,
            "margin": null,
            "display": null,
            "left": null
          }
        }
      }
    }
  },
  "cells": [
    {
      "cell_type": "markdown",
      "metadata": {
        "id": "view-in-github",
        "colab_type": "text"
      },
      "source": [
        "<a href=\"https://colab.research.google.com/github/IMOKURI/signate-471/blob/main/%E5%8C%BB%E5%AD%A6%E8%AB%96%E6%96%87%E3%81%AE%E8%87%AA%E5%8B%95%E4%BB%95%E5%88%86%E3%81%91%E3%83%81%E3%83%A3%E3%83%AC%E3%83%B3%E3%82%B8.ipynb\" target=\"_parent\"><img src=\"https://colab.research.google.com/assets/colab-badge.svg\" alt=\"Open In Colab\"/></a>"
      ]
    },
    {
      "cell_type": "markdown",
      "metadata": {
        "id": "5e4660c1"
      },
      "source": [
        "# About this notebook ...\n",
        "\n",
        "competition site: https://signate.jp/competitions/471\n",
        "\n",
        "\n",
        "\n",
        "\n",
        "\n"
      ]
    },
    {
      "cell_type": "markdown",
      "metadata": {
        "id": "1Dhs2SIWJzKz"
      },
      "source": [
        "## ToDo\n",
        "\n",
        "- [ ] pre train のモデルの save と load\n",
        "- [ ] preprocess したデータの save と load (wandb)\n",
        "- [ ] optune の seed 固定 https://book-read-yoshi.hatenablog.com/entry/2021/03/22/lightgbm_optuna_deterministic\n",
        "\n",
        "### Idea\n",
        "\n",
        "- [x] [ラベル判定結果の誤りに関するお知らせ](https://signate.jp/competitions/471/discussions/20210816152356-59) をとりこむ \n",
        "- [ ] 分類で推論、回帰で推論\n",
        "- [x] 回帰の場合の境界値の最適化\n",
        "    - [ ] second stage で学習べきかも\n",
        "        - [ ] heamy という stacking のライブラリがある\n",
        "        - [ ] CNN で stacking がいいかもしれない https://tawara.hatenablog.com/entry/2020/12/16/132415\n",
        "            - 縦・横、チャネル数が、クラス数（１）・モデル数（ｎ）・１で、 1xn で畳み込む \n",
        "    - [ ] Nelder-Mead 法 という最適化手法を調べる\n",
        "- [ ] 最適な境界値はモデルによって異なるので、アンサンブルの時は、 vote ensemble がいいかもしれない\n",
        "- [x] アブストで事前学習して、タイトルでメイン学習 https://www.kaggle.com/maunish/clrp-pytorch-roberta-pretrain\n",
        "    - 事前学習は、Masked LM\n",
        "- [x] タイトルだけで学習・推論\n",
        "- [ ] タイトル + アブストで学習・推論\n",
        "    - [ ] タイトルだけで推論したのとアンサンブルができる\n",
        "    - [ ] Longformer がいいかもしれない `allenai/longformer-base-4096`\n",
        "    - [ ] large モデルためす\n",
        "- [ ] アブスト + タイトル で学習・推論\n",
        "- [ ] アブストが空 or not でモデルわける\n",
        "- [ ] アブストの max length 調整\n",
        "    - [ ] 途中で切る。デフォルトの 512 はありそう。ほとんどのアブストがその長さで収まる\n",
        "    - [ ] 要約する方法があるかなぁ\n",
        "- [x] dropout を 0 にする\n",
        "- [x] gradient cripping を 0.2 or 0.5 で試す\n",
        "- [ ] re-initialization\n",
        "    - This paper (https://arxiv.org/pdf/2006.05987.pdf) shows that fine-tuning with reinitialization last N layers works well.\n",
        "    - Different models have different optimal N. Almost models set N=4~5, gpt2-models set N=6.\n",
        "    - https://github.com/kurupical/commonlit/blob/8781139c8ed4cc59f7c7ac9d97c72c351ee91377/exp/exp502.py#L497\n",
        "- [ ] Pre trained なレイヤーのfreeze https://raphaelb.org/posts/freezing-bert/\n",
        "- [ ] Recall を伸ばすための loss function は考えられるか。 https://openreview.net/pdf?id=SlprFTIQP3\n",
        "    - [x] f1 score を微分可能にして、 loss 関数に使うアプローチ https://gist.github.com/SuperShinyEyes/dcc68a08ff8b615442e3bc6a9b55a354 https://towardsdatascience.com/the-unknown-benefits-of-using-a-soft-f1-loss-in-classification-systems-753902c0105d\n",
        "    - [ ] epoch ごとに beta の値を増やしていく epoch * 2 とか\n",
        "- [ ] 出現する単語のクラスタリング\n",
        "- [x] TF-IDF して、 リッジ回帰 → ベースライン2 でやった\n",
        "    - IF-IDF の結果もBERTの特徴量にできないだろうか\n",
        "    - https://www.kaggle.com/semyonkoshkarov/tf-idf-linearsvr-baseline も参考になるかも\n",
        "- [ ] 医療用語で事前学習されたモデルを使ってみる\n",
        "    - [x] BioBERT https://github.com/dmis-lab/biobert `dmis-lab/biobert-base-cased-v1.1` 286k downloads\n",
        "        - [ ] large モデル試す\n",
        "    - [ ] Med-BERT https://github.com/ZhiGroup/Med-BERT\n",
        "        - 診断精度に貢献しているかもしれない(いや、一般的な話だったｗ) https://www.nature.com/articles/s41746-021-00455-y\n",
        "    - [x] `microsoft/BiomedNLP-PubMedBERT-base-uncased-abstract-fulltext` 30.8k downloads https://www.axion.zone/microsoft-researchers-claim-state-of-the-art-biomedical-nlp-model/\n",
        "    - [x] `bionlp/bluebert_pubmed_uncased_L-12_H-768_A-12` 4.3k downloads https://github.com/ncbi-nlp/bluebert\n",
        "        - [ ] large モデル試す\n",
        "    - [x] `emilyalsentzer/Bio_ClinicalBERT` https://huggingface.co/emilyalsentzer/Bio_ClinicalBERT\n",
        "    - [ ] `emilyalsentzer/Bio_Discharge_Summary_BERT` https://huggingface.co/emilyalsentzer/Bio_Discharge_Summary_BERT\n",
        "    - [x] `lordtt13/COVID-SciBERT` https://huggingface.co/lordtt13/COVID-SciBERT\n",
        "    - [ ] `allenai/scibert_scivocab_uncased` https://huggingface.co/allenai/scibert_scivocab_uncased\n",
        "- [ ] Augmentation https://neptune.ai/blog/data-augmentation-nlp\n",
        "    - [ ] Back translation: 他言語に翻訳して、もう一回翻訳する（英語→フランス語→英語） https://qiita.com/nena0undefined/items/c2926bad07039e5540ab\n",
        "    - [ ] Synonym Replacement: 単語のいくつかを、同じ意味の別の単語に置き換える\n",
        "        - [ ] 自然言語の augmentation ができるライブラリ https://github.com/makcedward/nlpaug\n",
        "- [ ] TTA\n",
        "- [ ] ベースラインのシンプルさを取り戻す。(思ったよりベースラインのスコアが良かったので、それを取り込む・・・）\n",
        "    - [ ] weight decay を調整 0.01 or 0\n",
        "\n",
        "\n",
        "### Experiments\n",
        "\n",
        "- BERT でアブストの　pre train をしてもスコアは上がっていない（学習の方法を工夫した方がよいかも）\n",
        "- BERT Large は title の学習には大きすぎて？ loss が Base モデルに及ばない。\n",
        "- epoch 3 で val loss が下がらないので、 epoch 3 で aug かけるとかありかもしれない\n",
        "- `dmis-lab/biobert-base-cased-v1.1` と `bionlp/bluebert_pubmed_uncased_L-12_H-768_A-12` の成績がよい\n"
      ]
    },
    {
      "cell_type": "markdown",
      "metadata": {
        "id": "68842c71"
      },
      "source": [
        "## Prepare for Colab"
      ]
    },
    {
      "cell_type": "code",
      "metadata": {
        "colab": {
          "base_uri": "https://localhost:8080/"
        },
        "id": "14137a0f",
        "outputId": "5f6dcee4-e263-4ba8-9f5d-b6b3f3b78efc"
      },
      "source": [
        "!nvidia-smi"
      ],
      "execution_count": 1,
      "outputs": [
        {
          "output_type": "stream",
          "name": "stdout",
          "text": [
            "Thu Sep  2 12:12:21 2021       \n",
            "+-----------------------------------------------------------------------------+\n",
            "| NVIDIA-SMI 470.57.02    Driver Version: 460.32.03    CUDA Version: 11.2     |\n",
            "|-------------------------------+----------------------+----------------------+\n",
            "| GPU  Name        Persistence-M| Bus-Id        Disp.A | Volatile Uncorr. ECC |\n",
            "| Fan  Temp  Perf  Pwr:Usage/Cap|         Memory-Usage | GPU-Util  Compute M. |\n",
            "|                               |                      |               MIG M. |\n",
            "|===============================+======================+======================|\n",
            "|   0  Tesla V100-SXM2...  Off  | 00000000:00:04.0 Off |                    0 |\n",
            "| N/A   37C    P0    26W / 300W |      0MiB / 16160MiB |      0%      Default |\n",
            "|                               |                      |                  N/A |\n",
            "+-------------------------------+----------------------+----------------------+\n",
            "                                                                               \n",
            "+-----------------------------------------------------------------------------+\n",
            "| Processes:                                                                  |\n",
            "|  GPU   GI   CI        PID   Type   Process name                  GPU Memory |\n",
            "|        ID   ID                                                   Usage      |\n",
            "|=============================================================================|\n",
            "|  No running processes found                                                 |\n",
            "+-----------------------------------------------------------------------------+\n"
          ]
        }
      ]
    },
    {
      "cell_type": "code",
      "metadata": {
        "colab": {
          "base_uri": "https://localhost:8080/"
        },
        "id": "4871daf1",
        "outputId": "fbe25cc9-7872-4cca-eafd-10bfa5e50ae6"
      },
      "source": [
        "import os\n",
        "import sys\n",
        "\n",
        "if os.path.exists('init.txt'):\n",
        "    print(\"Already initialized.\")\n",
        "\n",
        "else:\n",
        "    if 'google.colab' in sys.modules:\n",
        "        from google.colab import drive\n",
        "        drive.mount('/gdrive')\n",
        "\n",
        "        !cp /gdrive/MyDrive/Datasets/signate-471/train.csv .\n",
        "        !cp /gdrive/MyDrive/Datasets/signate-471/test.csv .\n",
        "        !cp /gdrive/MyDrive/Datasets/signate-471/sample_submit.csv .\n",
        "\n",
        "    # for StratifiedGroupKFold\n",
        "    # !pip uninstall -y scikit-learn\n",
        "    # !pip install --pre --extra-index https://pypi.anaconda.org/scipy-wheels-nightly/simple scikit-learn\n",
        "\n",
        "    # for MultilabelStratifiedKFold\n",
        "    !pip install -q iterative-stratification\n",
        "\n",
        "    # !pip install -qU 'git+https://github.com/katsura-jp/pytorch-cosine-annealing-with-warmup'\n",
        "\n",
        "    !pip install -q wandb\n",
        "    !pip install -q optuna\n",
        "    !pip install -q transformers\n",
        "    !pip install -q textstat\n",
        "\n",
        "    !touch init.txt"
      ],
      "execution_count": 2,
      "outputs": [
        {
          "output_type": "stream",
          "name": "stdout",
          "text": [
            "Already initialized.\n"
          ]
        }
      ]
    },
    {
      "cell_type": "code",
      "metadata": {
        "colab": {
          "base_uri": "https://localhost:8080/"
        },
        "id": "FkZ4bEVgUxxa",
        "outputId": "c1a2c071-deba-4581-e781-f0586e56cff9"
      },
      "source": [
        "# Install_LightGBM_with_GPU\n",
        "\n",
        "if os.path.exists('init_lightgbm.txt'):\n",
        "    print(\"Already initialized.\")\n",
        "\n",
        "else:\n",
        "    ! git clone --recursive https://github.com/Microsoft/LightGBM\n",
        "\n",
        "    %cd /content/LightGBM\n",
        "    ! mkdir -p build\n",
        "\n",
        "    %cd build\n",
        "    ! cmake -DUSE_GPU=1 /content/LightGBM\n",
        "    ! make -j$(nproc)\n",
        "    ! sudo apt-get -y install python-pip\n",
        "    ! sudo -H pip install setuptools pandas==1.3.0 numpy scipy scikit-learn -U\n",
        "\n",
        "    %cd /content/LightGBM/python-package\n",
        "    ! sudo python setup.py install --precompile\n",
        "\n",
        "    %cd /content/\n",
        "\n",
        "    !touch init_lightgbm.txt"
      ],
      "execution_count": 3,
      "outputs": [
        {
          "output_type": "stream",
          "name": "stdout",
          "text": [
            "Already initialized.\n"
          ]
        }
      ]
    },
    {
      "cell_type": "markdown",
      "metadata": {
        "id": "c39b7222"
      },
      "source": [
        "## Library"
      ]
    },
    {
      "cell_type": "code",
      "metadata": {
        "id": "f63096cb"
      },
      "source": [
        "import glob\n",
        "import json\n",
        "import math\n",
        "import os\n",
        "import random\n",
        "import re\n",
        "import time\n",
        "import warnings\n",
        "from contextlib import contextmanager\n",
        "\n",
        "# import lightgbm as lgb\n",
        "import optuna.integration.lightgbm as lgb\n",
        "import matplotlib.pyplot as plt\n",
        "import nltk\n",
        "import numpy as np\n",
        "import pandas as pd\n",
        "import scipy as sp\n",
        "import seaborn as sns\n",
        "import textstat\n",
        "import torch\n",
        "import torch.nn as nn\n",
        "import torch.nn.functional as F\n",
        "import transformers as T\n",
        "import wandb\n",
        "# from cosine_annealing_warmup import CosineAnnealingWarmupRestarts\n",
        "from iterstrat.ml_stratifiers import MultilabelStratifiedKFold\n",
        "from sklearn.metrics import mean_squared_error, fbeta_score\n",
        "from sklearn.model_selection import KFold, StratifiedKFold  # , StratifiedGroupKFold\n",
        "from torch.optim import SGD, Adam  # , AdamW\n",
        "from torch.optim.lr_scheduler import CosineAnnealingLR, CosineAnnealingWarmRestarts, ReduceLROnPlateau\n",
        "from torch.utils.data import DataLoader, Dataset\n",
        "from tqdm.notebook import tqdm\n"
      ],
      "execution_count": 4,
      "outputs": []
    },
    {
      "cell_type": "code",
      "metadata": {
        "id": "c830faec"
      },
      "source": [
        "warnings.filterwarnings(\"ignore\")"
      ],
      "execution_count": 5,
      "outputs": []
    },
    {
      "cell_type": "code",
      "metadata": {
        "id": "16eb8ed5"
      },
      "source": [
        "device = torch.device(\"cuda\" if torch.cuda.is_available() else \"cpu\")"
      ],
      "execution_count": 6,
      "outputs": []
    },
    {
      "cell_type": "code",
      "metadata": {
        "colab": {
          "base_uri": "https://localhost:8080/"
        },
        "id": "3cZeQJ7Xw7d8",
        "outputId": "f14f4a5c-87dc-4875-fe48-0038ef277bdc"
      },
      "source": [
        "nltk.download('stopwords')\n",
        "nltk.download('punkt')\n",
        "nltk.download('wordnet')"
      ],
      "execution_count": 7,
      "outputs": [
        {
          "output_type": "stream",
          "name": "stdout",
          "text": [
            "[nltk_data] Downloading package stopwords to /root/nltk_data...\n",
            "[nltk_data]   Package stopwords is already up-to-date!\n",
            "[nltk_data] Downloading package punkt to /root/nltk_data...\n",
            "[nltk_data]   Package punkt is already up-to-date!\n",
            "[nltk_data] Downloading package wordnet to /root/nltk_data...\n",
            "[nltk_data]   Package wordnet is already up-to-date!\n"
          ]
        },
        {
          "output_type": "execute_result",
          "data": {
            "text/plain": [
              "True"
            ]
          },
          "metadata": {},
          "execution_count": 7
        }
      ]
    },
    {
      "cell_type": "code",
      "metadata": {
        "colab": {
          "base_uri": "https://localhost:8080/"
        },
        "id": "7cc53e8c",
        "outputId": "fb3370ed-4a77-4c51-a20b-b8025d20780c"
      },
      "source": [
        "netrc = \"../input/wandbtoken/.netrc\"\n",
        "\n",
        "if 'google.colab' in sys.modules:\n",
        "    netrc = \"/gdrive/MyDrive/.netrc\"\n",
        "\n",
        "!cp -f {netrc} ~/\n",
        "\n",
        "!wandb login"
      ],
      "execution_count": 8,
      "outputs": [
        {
          "output_type": "stream",
          "name": "stdout",
          "text": [
            "\u001b[34m\u001b[1mwandb\u001b[0m: Currently logged in as: \u001b[33mimokuri\u001b[0m (use `wandb login --relogin` to force relogin)\n"
          ]
        }
      ]
    },
    {
      "cell_type": "code",
      "metadata": {
        "id": "fB5QkUQJq_6U"
      },
      "source": [
        "wandb_job_type = \"\"\n",
        "wandb_notes = \"\"\n",
        "wandb_tags = []"
      ],
      "execution_count": 9,
      "outputs": []
    },
    {
      "cell_type": "markdown",
      "metadata": {
        "id": "71d9ccbd"
      },
      "source": [
        "## Load Data"
      ]
    },
    {
      "cell_type": "code",
      "metadata": {
        "id": "4a62a05f"
      },
      "source": [
        "DATA_DIR = \"../input/signate-471/\"\n",
        "OUTPUT_DIR = \"./\"\n",
        "\n",
        "if 'google.colab' in sys.modules:\n",
        "    DATA_DIR = \"./\"\n",
        "\n",
        "if not os.path.exists(OUTPUT_DIR):\n",
        "    os.makedirs(OUTPUT_DIR)"
      ],
      "execution_count": 10,
      "outputs": []
    },
    {
      "cell_type": "code",
      "metadata": {
        "id": "26350797"
      },
      "source": [
        "train = pd.read_csv(DATA_DIR + \"train.csv\")\n",
        "test = pd.read_csv(DATA_DIR + \"test.csv\")\n",
        "sub = pd.read_csv(DATA_DIR + \"sample_submit.csv\", header=None)\n",
        "sub.columns = [\"id\", \"judgement\"]"
      ],
      "execution_count": 11,
      "outputs": []
    },
    {
      "cell_type": "markdown",
      "metadata": {
        "id": "b7ef06f8"
      },
      "source": [
        "## Config"
      ]
    },
    {
      "cell_type": "code",
      "metadata": {
        "id": "c0177571"
      },
      "source": [
        "class Config:\n",
        "    wandb_entity = \"ponkots\"\n",
        "    wandb_project = \"signate-471\"\n",
        "    print_freq = 100\n",
        "\n",
        "    pre_train = False\n",
        "    train = False\n",
        "    validate = False\n",
        "    inference = False\n",
        "    stack = True\n",
        "    stack_optuna = True\n",
        "\n",
        "    debug = False\n",
        "    multi_gpu = False\n",
        "    apex = False\n"
      ],
      "execution_count": 12,
      "outputs": []
    },
    {
      "cell_type": "code",
      "metadata": {
        "id": "0a195fe0"
      },
      "source": [
        "if Config.pre_train:\n",
        "    wandb_job_type = \"pre_training\"\n",
        "\n",
        "elif Config.train:\n",
        "    wandb_job_type = \"training\"\n",
        "\n",
        "elif Config.inference:\n",
        "    wandb_job_type = \"inference\"\n",
        "\n",
        "elif Config.validate:\n",
        "    wandb_job_type = \"validation\"\n",
        "\n",
        "elif Config.stack:\n",
        "    wandb_job_type = \"stacking\""
      ],
      "execution_count": 13,
      "outputs": []
    },
    {
      "cell_type": "code",
      "metadata": {
        "id": "ccb61787"
      },
      "source": [
        "if Config.apex:\n",
        "    from apex import amp"
      ],
      "execution_count": 14,
      "outputs": []
    },
    {
      "cell_type": "code",
      "metadata": {
        "colab": {
          "base_uri": "https://localhost:8080/"
        },
        "id": "fWDHvHvNxoD3",
        "outputId": "5503f34a-1210-43d3-b090-5876d86eadb7"
      },
      "source": [
        "# seed = random.randrange(10000)\n",
        "seed = 440\n",
        "\n",
        "print(seed)"
      ],
      "execution_count": 15,
      "outputs": [
        {
          "output_type": "stream",
          "name": "stdout",
          "text": [
            "440\n"
          ]
        }
      ]
    },
    {
      "cell_type": "code",
      "metadata": {
        "id": "daf057a9"
      },
      "source": [
        "config_defaults = {\n",
        "    \"seed\": seed,\n",
        "    \"input\": \"title_abstract\",  # \"abstract_title\",  # \"preprocessed_title_abstract\",  # \"title\", # \"title_abstract\",\n",
        "    \"max_len\": 512,\n",
        "    \"border\": \"minimize\", # \"fixed\", \"minimize\",\n",
        "    \"n_class\": 1,\n",
        "    \"n_fold\": 5,\n",
        "    \"gradient_accumulation_steps\": 2,\n",
        "    \"max_grad_norm\": 1000,\n",
        "    \"num_workers\": 4,\n",
        "    \"batch_size\": 12,\n",
        "    \"epochs\": 3,\n",
        "    \"optimizer\": \"BertAdamW\",\n",
        "    \"scheduler\": \"get_cosine_schedule_with_warmup\",\n",
        "    \"criterion\": \"BCEWithLogitsLoss\",  # \"FBetaLoss\",  # \"BCEWithLogitsLoss\",\n",
        "    \"lr\": 2e-5,\n",
        "    \"min_lr\": 1e-5,\n",
        "    \"weight_decay\": 0.01,\n",
        "    \"dropout\": 0.1,\n",
        "    \"model_name\": \"\",\n",
        "    \"reinit_layers\": 0,\n",
        "    \"freeze_layers\": 0,\n",
        "    \"best\": \"loss\",  # \"score\",\n",
        "    \"inference_runs\": [\n",
        "        \"1uv8m7j0\", # 56\n",
        "        \"x2rmxctu\", # 59\n",
        "        \"258um1kf\", # 60\n",
        "    ],\n",
        "}"
      ],
      "execution_count": 16,
      "outputs": []
    },
    {
      "cell_type": "code",
      "metadata": {
        "id": "WFOA0aiExa5R"
      },
      "source": [
        "if Config.stack:\n",
        "    config_stack = {\n",
        "        \"objective\": \"binary\",\n",
        "        \"criterion\": \"binary_logloss\",\n",
        "    }\n",
        "    config_defaults.update(config_stack)\n",
        "\n",
        "    if not Config.stack_optuna:\n",
        "        config_stack_manual = {\n",
        "            \"lr\": 0.01,\n",
        "            \"max_depth\": 7,\n",
        "            \"num_leaves\": 31,\n",
        "            \"min_data_in_leaf\": 20,\n",
        "            \"dropout\": 0.1,\n",
        "        }\n",
        "        config_defaults.update(config_stack_manual)\n"
      ],
      "execution_count": 17,
      "outputs": []
    },
    {
      "cell_type": "code",
      "metadata": {
        "id": "VUQbknvvbZR5"
      },
      "source": [
        "if not (Config.validate or Config.inference or Config.stack):\n",
        "    config_defaults[\"inference_runs\"] = []"
      ],
      "execution_count": 18,
      "outputs": []
    },
    {
      "cell_type": "code",
      "metadata": {
        "id": "fd440361"
      },
      "source": [
        "if Config.debug:\n",
        "    config_defaults[\"epochs\"] = 1\n",
        "    Config.print_freq = 10"
      ],
      "execution_count": 19,
      "outputs": []
    },
    {
      "cell_type": "code",
      "metadata": {
        "id": "HgjHEBuwETmp"
      },
      "source": [
        "if config_defaults[\"optimizer\"] == \"BertAdamW\":\n",
        "    config_defaults[\"lr_69\"] = 5e-5\n",
        "    config_defaults[\"lr_133\"] = 1e-4"
      ],
      "execution_count": 20,
      "outputs": []
    },
    {
      "cell_type": "code",
      "metadata": {
        "colab": {
          "base_uri": "https://localhost:8080/"
        },
        "id": "b5a710ed",
        "outputId": "0cd80fec-33f6-46b2-b16b-ebb7cd7884dc"
      },
      "source": [
        "# Update by epoch\n",
        "# num_steps = config_defaults[\"epochs\"]\n",
        "\n",
        "# Update by batch\n",
        "num_data = 1000 if Config.debug else len(train)\n",
        "num_steps = num_data // config_defaults[\"n_fold\"] * (config_defaults[\"n_fold\"] - 1) // config_defaults[\"batch_size\"] // config_defaults[\"gradient_accumulation_steps\"] * config_defaults[\"epochs\"]\n",
        "\n",
        "print(num_steps)\n",
        "\n",
        "if config_defaults[\"scheduler\"] == \"CosineAnnealingWarmRestarts\":\n",
        "    config_defaults[\"T_0\"] = num_steps\n",
        "\n",
        "elif config_defaults[\"scheduler\"] == \"CosineAnnealingLR\":\n",
        "    config_defaults[\"T_max\"] = num_steps\n",
        "\n",
        "elif config_defaults[\"scheduler\"] == \"ReduceLROnPlateau\":\n",
        "    config_defaults[\"factor\"] = 0.2\n",
        "    config_defaults[\"patience\"] = 4\n",
        "    config_defaults[\"eps\"] = 1e-6\n",
        "\n",
        "elif config_defaults[\"scheduler\"] == \"CosineAnnealingWarmupRestarts\":\n",
        "    config_defaults[\"first_cycle_steps\"] = num_steps\n",
        "    config_defaults[\"warmup_steps\"] = num_steps // 10\n",
        "\n",
        "elif config_defaults[\"scheduler\"] == \"get_cosine_schedule_with_warmup\":\n",
        "    config_defaults[\"num_training_steps\"] = num_steps\n",
        "    config_defaults[\"num_warmup_steps\"] = max(50, num_steps // 10)"
      ],
      "execution_count": 21,
      "outputs": [
        {
          "output_type": "stream",
          "name": "stdout",
          "text": [
            "2712\n"
          ]
        }
      ]
    },
    {
      "cell_type": "code",
      "metadata": {
        "id": "a6a78770",
        "colab": {
          "base_uri": "https://localhost:8080/",
          "height": 136
        },
        "outputId": "7bcdc3d7-09e6-4b8c-909d-78f7b3be456d"
      },
      "source": [
        "if Config.debug:\n",
        "    run = wandb.init(entity=Config.wandb_entity, project=Config.wandb_project, config=config_defaults, mode=\"disabled\")\n",
        "else:\n",
        "    run = wandb.init(entity=Config.wandb_entity, project=Config.wandb_project, config=config_defaults, notes=wandb_notes, tags=wandb_tags, job_type=wandb_job_type, save_code=True)"
      ],
      "execution_count": 22,
      "outputs": [
        {
          "output_type": "stream",
          "name": "stderr",
          "text": [
            "\u001b[34m\u001b[1mwandb\u001b[0m: Currently logged in as: \u001b[33mimokuri\u001b[0m (use `wandb login --relogin` to force relogin)\n"
          ]
        },
        {
          "output_type": "display_data",
          "data": {
            "text/html": [
              "\n",
              "                Tracking run with wandb version 0.12.1<br/>\n",
              "                Syncing run <strong style=\"color:#cdcd00\">fragrant-forest-64</strong> to <a href=\"https://wandb.ai\" target=\"_blank\">Weights & Biases</a> <a href=\"https://docs.wandb.com/integrations/jupyter.html\" target=\"_blank\">(Documentation)</a>.<br/>\n",
              "                Project page: <a href=\"https://wandb.ai/ponkots/signate-471\" target=\"_blank\">https://wandb.ai/ponkots/signate-471</a><br/>\n",
              "                Run page: <a href=\"https://wandb.ai/ponkots/signate-471/runs/5wvzwu48\" target=\"_blank\">https://wandb.ai/ponkots/signate-471/runs/5wvzwu48</a><br/>\n",
              "                Run data is saved locally in <code>/content/wandb/run-20210902_121229-5wvzwu48</code><br/><br/>\n",
              "            "
            ],
            "text/plain": [
              "<IPython.core.display.HTML object>"
            ]
          },
          "metadata": {}
        }
      ]
    },
    {
      "cell_type": "code",
      "metadata": {
        "id": "2408ee43"
      },
      "source": [
        "config = wandb.config"
      ],
      "execution_count": 23,
      "outputs": []
    },
    {
      "cell_type": "markdown",
      "metadata": {
        "id": "ezOfV_OKnV2I"
      },
      "source": [
        "## EDA-1"
      ]
    },
    {
      "cell_type": "code",
      "metadata": {
        "colab": {
          "base_uri": "https://localhost:8080/"
        },
        "id": "e1C7cU7ka70h",
        "outputId": "12907354-fa89-4523-bb68-1b9c628ab27e"
      },
      "source": [
        "# アブストが空っぽのが結構ある\n",
        "print(train.isnull().sum())\n",
        "print(test.isnull().sum())"
      ],
      "execution_count": 24,
      "outputs": [
        {
          "output_type": "stream",
          "name": "stdout",
          "text": [
            "id              0\n",
            "title           0\n",
            "abstract     4390\n",
            "judgement       0\n",
            "dtype: int64\n",
            "id             0\n",
            "title          0\n",
            "abstract    6546\n",
            "dtype: int64\n"
          ]
        }
      ]
    },
    {
      "cell_type": "markdown",
      "metadata": {
        "id": "N4fTaf66DiXj"
      },
      "source": [
        "## Preprocessing"
      ]
    },
    {
      "cell_type": "code",
      "metadata": {
        "id": "iuuU17phnFMz"
      },
      "source": [
        "def preprocess(data):\n",
        "    \n",
        "    title_abstract = []\n",
        "    for e in data:\n",
        "\n",
        "        # アルファベット以外は空白に置換します。\n",
        "        e = re.sub(\"[^a-zA-Z]\", \" \", e)\n",
        "\n",
        "        # 小文字に変換します。\n",
        "        e = e.lower()\n",
        "\n",
        "        # token に分割します。\n",
        "        e = nltk.word_tokenize(e)\n",
        "\n",
        "        # stop word を削除します。\n",
        "        e = [word for word in e if not word in set(nltk.corpus.stopwords.words(\"english\"))]\n",
        "\n",
        "        # 見出し語化します。\n",
        "        lemma = nltk.WordNetLemmatizer()\n",
        "        e = [lemma.lemmatize(word) for word in e]\n",
        "        e = \" \".join(e)\n",
        "\n",
        "        title_abstract.append(e)\n",
        "\n",
        "    return title_abstract"
      ],
      "execution_count": 25,
      "outputs": []
    },
    {
      "cell_type": "code",
      "metadata": {
        "id": "ylcVBT02nIGZ"
      },
      "source": [
        "def get_train_data(train):\n",
        "\n",
        "    # NaN を空白で埋めます。\n",
        "    train = train.fillna(\"\")\n",
        "\n",
        "    # abstract の有無を Stratified KFold で使います。\n",
        "    train[\"nan_abstract\"] = np.where(train[\"abstract\"] == \"\", 1, 0)\n",
        "\n",
        "    # title の単語数\n",
        "    train[\"len_title\"] = train[\"title\"].apply(lambda x: len(x.split()))\n",
        "\n",
        "    # abstract の単語数\n",
        "    train[\"len_abstract\"] = train[\"abstract\"].apply(lambda x: len(x.split()))\n",
        "\n",
        "    # title と abstract を接続します。\n",
        "    train[\"title_abstract\"] = train[[\"title\", \"abstract\"]].agg(\" \".join, axis=1)\n",
        "    train[\"abstract_title\"] = train[[\"abstract\", \"title\"]].agg(\" \".join, axis=1)\n",
        "\n",
        "    # train[\"preprocessed_title_abstract\"] = preprocess(train[\"title_abstract\"])\n",
        "\n",
        "    # 前処理した文の単語数\n",
        "    # train[\"len_preprocessed_title_abstract\"] = train[\"preprocessed_title_abstract\"].apply(lambda x: len(x.split()))\n",
        "\n",
        "    return train"
      ],
      "execution_count": 26,
      "outputs": []
    },
    {
      "cell_type": "code",
      "metadata": {
        "id": "6YskezxynKkm"
      },
      "source": [
        "def get_test_data(test):\n",
        "\n",
        "    # NaN を空白で埋めます。\n",
        "    test = test.fillna(\"\")\n",
        "\n",
        "    # title の単語数\n",
        "    test[\"len_title\"] = test[\"title\"].apply(lambda x: len(x.split()))\n",
        "\n",
        "    # abstract の単語数\n",
        "    test[\"len_abstract\"] = test[\"abstract\"].apply(lambda x: len(x.split()))\n",
        "\n",
        "    # title と abstract を接続します。\n",
        "    test[\"title_abstract\"] = test[[\"title\", \"abstract\"]].agg(\" \".join, axis=1)\n",
        "    test[\"abstract_title\"] = test[[\"abstract\", \"title\"]].agg(\" \".join, axis=1)\n",
        "\n",
        "    # test[\"preprocessed_title_abstract\"] = preprocess(test[\"title_abstract\"])\n",
        "\n",
        "    # 前処理した文の単語数\n",
        "    # test[\"len_preprocessed_title_abstract\"] = test[\"preprocessed_title_abstract\"].apply(lambda x: len(x.split()))\n",
        "\n",
        "    return test"
      ],
      "execution_count": 27,
      "outputs": []
    },
    {
      "cell_type": "code",
      "metadata": {
        "id": "M_0CPmvZnQFP"
      },
      "source": [
        "if False:  # os.path.exists(\"/gdrive/MyDrive/Datasets/signate-471/preprocessed_train.csv\"):\n",
        "    !cp -f /gdrive/MyDrive/Datasets/signate-471/preprocessed_train.csv .\n",
        "    train = pd.read_csv(\"preprocessed_train.csv\")\n",
        "\n",
        "    # csv を再読み込みすると NaN に戻ってしまうので、再度変換します。\n",
        "    train = train.fillna(\"\")\n",
        "\n",
        "else:\n",
        "    # 一度、前処理したものは保存しておきます。\n",
        "    train = get_train_data(train)\n",
        "    # train.to_csv(\"preprocessed_train.csv\")\n",
        "\n",
        "    # artifact = wandb.Artifact('preprocessed_train', type='dataset')\n",
        "    # artifact.add_file(\"preprocessed_train.csv\")\n",
        "    # run.log_artifact(artifact)\n",
        "\n",
        "    # !cp -f preprocessed_train.csv /gdrive/MyDrive/Datasets/signate-471/"
      ],
      "execution_count": 28,
      "outputs": []
    },
    {
      "cell_type": "code",
      "metadata": {
        "id": "A248D057nSd6"
      },
      "source": [
        "if False:  # os.path.exists(\"/gdrive/MyDrive/Datasets/signate-471/preprocessed_test.csv\"):\n",
        "    !cp -f /gdrive/MyDrive/Datasets/signate-471/preprocessed_test.csv .\n",
        "    test = pd.read_csv(\"preprocessed_test.csv\")\n",
        "\n",
        "    # csv を再読み込みすると NaN に戻ってしまうので、再度変換します。\n",
        "    test = test.fillna(\"\")\n",
        "\n",
        "else:\n",
        "    # 一度、前処理したものは保存しておきます。\n",
        "    test = get_test_data(test)\n",
        "    # test.to_csv(\"preprocessed_test.csv\")\n",
        "\n",
        "    # artifact = wandb.Artifact('preprocessed_test', type='dataset')\n",
        "    # artifact.add_file(\"preprocessed_test.csv\")\n",
        "    # run.log_artifact(artifact)\n",
        "\n",
        "    # !cp -f preprocessed_test.csv /gdrive/MyDrive/Datasets/signate-471/"
      ],
      "execution_count": 29,
      "outputs": []
    },
    {
      "cell_type": "markdown",
      "metadata": {
        "id": "6UPOk9WroUmX"
      },
      "source": [
        "## EDA-2"
      ]
    },
    {
      "cell_type": "code",
      "metadata": {
        "colab": {
          "base_uri": "https://localhost:8080/"
        },
        "id": "BloR0mcceTWK",
        "outputId": "bac7d548-85d5-419d-877c-4b06dae3590c"
      },
      "source": [
        "# abstract に改行は含まれていない\n",
        "print(len(train[train[\"abstract\"].str.contains(\"\\n\")]))\n",
        "print(len(test[test[\"abstract\"].str.contains(\"\\n\")]))"
      ],
      "execution_count": 30,
      "outputs": [
        {
          "output_type": "stream",
          "name": "stdout",
          "text": [
            "0\n",
            "0\n"
          ]
        }
      ]
    },
    {
      "cell_type": "code",
      "metadata": {
        "colab": {
          "base_uri": "https://localhost:8080/"
        },
        "id": "VHfTQdU8Cezv",
        "outputId": "ebe4ef7b-1531-4466-9440-2d33be82eff6"
      },
      "source": [
        "# title の単語数\n",
        "print(train[\"len_title\"].max())\n",
        "print(test[\"len_title\"].max())"
      ],
      "execution_count": 31,
      "outputs": [
        {
          "output_type": "stream",
          "name": "stdout",
          "text": [
            "53\n",
            "69\n"
          ]
        }
      ]
    },
    {
      "cell_type": "code",
      "metadata": {
        "colab": {
          "base_uri": "https://localhost:8080/"
        },
        "id": "Rx2M2402NSOU",
        "outputId": "e5a708e8-f5cf-44d9-9fb7-6cbddef6c6ee"
      },
      "source": [
        "# abstract の単語数\n",
        "print(train[\"len_abstract\"].max())\n",
        "print(test[\"len_abstract\"].max())"
      ],
      "execution_count": 32,
      "outputs": [
        {
          "output_type": "stream",
          "name": "stdout",
          "text": [
            "1535\n",
            "1445\n"
          ]
        }
      ]
    },
    {
      "cell_type": "code",
      "metadata": {
        "id": "O1WviNuCdGec"
      },
      "source": [
        "# 前処理した文の単語数\n",
        "# print(train[\"len_preprocessed_title_abstract\"].max())\n",
        "# print(test[\"len_preprocessed_title_abstract\"].max())"
      ],
      "execution_count": 33,
      "outputs": []
    },
    {
      "cell_type": "code",
      "metadata": {
        "colab": {
          "base_uri": "https://localhost:8080/",
          "height": 1000
        },
        "id": "18097672",
        "outputId": "9e723bae-3c51-487c-8865-382b7af8e9a4"
      },
      "source": [
        "for ds in [train, test, sub]:\n",
        "    print(f\"=\" * 80)\n",
        "    ds.info()\n",
        "    display(ds.head())"
      ],
      "execution_count": 34,
      "outputs": [
        {
          "output_type": "stream",
          "name": "stdout",
          "text": [
            "================================================================================\n",
            "<class 'pandas.core.frame.DataFrame'>\n",
            "RangeIndex: 27145 entries, 0 to 27144\n",
            "Data columns (total 9 columns):\n",
            " #   Column          Non-Null Count  Dtype \n",
            "---  ------          --------------  ----- \n",
            " 0   id              27145 non-null  int64 \n",
            " 1   title           27145 non-null  object\n",
            " 2   abstract        27145 non-null  object\n",
            " 3   judgement       27145 non-null  int64 \n",
            " 4   nan_abstract    27145 non-null  int64 \n",
            " 5   len_title       27145 non-null  int64 \n",
            " 6   len_abstract    27145 non-null  int64 \n",
            " 7   title_abstract  27145 non-null  object\n",
            " 8   abstract_title  27145 non-null  object\n",
            "dtypes: int64(5), object(4)\n",
            "memory usage: 1.9+ MB\n"
          ]
        },
        {
          "output_type": "display_data",
          "data": {
            "text/html": [
              "<div>\n",
              "<style scoped>\n",
              "    .dataframe tbody tr th:only-of-type {\n",
              "        vertical-align: middle;\n",
              "    }\n",
              "\n",
              "    .dataframe tbody tr th {\n",
              "        vertical-align: top;\n",
              "    }\n",
              "\n",
              "    .dataframe thead th {\n",
              "        text-align: right;\n",
              "    }\n",
              "</style>\n",
              "<table border=\"1\" class=\"dataframe\">\n",
              "  <thead>\n",
              "    <tr style=\"text-align: right;\">\n",
              "      <th></th>\n",
              "      <th>id</th>\n",
              "      <th>title</th>\n",
              "      <th>abstract</th>\n",
              "      <th>judgement</th>\n",
              "      <th>nan_abstract</th>\n",
              "      <th>len_title</th>\n",
              "      <th>len_abstract</th>\n",
              "      <th>title_abstract</th>\n",
              "      <th>abstract_title</th>\n",
              "    </tr>\n",
              "  </thead>\n",
              "  <tbody>\n",
              "    <tr>\n",
              "      <th>0</th>\n",
              "      <td>0</td>\n",
              "      <td>One-year age changes in MRI brain volumes in o...</td>\n",
              "      <td>Longitudinal studies indicate that declines in...</td>\n",
              "      <td>0</td>\n",
              "      <td>0</td>\n",
              "      <td>10</td>\n",
              "      <td>193</td>\n",
              "      <td>One-year age changes in MRI brain volumes in o...</td>\n",
              "      <td>Longitudinal studies indicate that declines in...</td>\n",
              "    </tr>\n",
              "    <tr>\n",
              "      <th>1</th>\n",
              "      <td>1</td>\n",
              "      <td>Supportive CSF biomarker evidence to enhance t...</td>\n",
              "      <td>The present study was undertaken to validate t...</td>\n",
              "      <td>0</td>\n",
              "      <td>0</td>\n",
              "      <td>23</td>\n",
              "      <td>214</td>\n",
              "      <td>Supportive CSF biomarker evidence to enhance t...</td>\n",
              "      <td>The present study was undertaken to validate t...</td>\n",
              "    </tr>\n",
              "    <tr>\n",
              "      <th>2</th>\n",
              "      <td>2</td>\n",
              "      <td>Occurrence of basal ganglia germ cell tumors w...</td>\n",
              "      <td>Objective: To report a case series in which ba...</td>\n",
              "      <td>0</td>\n",
              "      <td>0</td>\n",
              "      <td>10</td>\n",
              "      <td>133</td>\n",
              "      <td>Occurrence of basal ganglia germ cell tumors w...</td>\n",
              "      <td>Objective: To report a case series in which ba...</td>\n",
              "    </tr>\n",
              "    <tr>\n",
              "      <th>3</th>\n",
              "      <td>3</td>\n",
              "      <td>New developments in diagnosis and therapy of C...</td>\n",
              "      <td>The etiology and pathogenesis of idiopathic ch...</td>\n",
              "      <td>0</td>\n",
              "      <td>0</td>\n",
              "      <td>13</td>\n",
              "      <td>374</td>\n",
              "      <td>New developments in diagnosis and therapy of C...</td>\n",
              "      <td>The etiology and pathogenesis of idiopathic ch...</td>\n",
              "    </tr>\n",
              "    <tr>\n",
              "      <th>4</th>\n",
              "      <td>4</td>\n",
              "      <td>Prolonged shedding of SARS-CoV-2 in an elderly...</td>\n",
              "      <td></td>\n",
              "      <td>0</td>\n",
              "      <td>1</td>\n",
              "      <td>16</td>\n",
              "      <td>0</td>\n",
              "      <td>Prolonged shedding of SARS-CoV-2 in an elderly...</td>\n",
              "      <td>Prolonged shedding of SARS-CoV-2 in an elderl...</td>\n",
              "    </tr>\n",
              "  </tbody>\n",
              "</table>\n",
              "</div>"
            ],
            "text/plain": [
              "   id  ...                                     abstract_title\n",
              "0   0  ...  Longitudinal studies indicate that declines in...\n",
              "1   1  ...  The present study was undertaken to validate t...\n",
              "2   2  ...  Objective: To report a case series in which ba...\n",
              "3   3  ...  The etiology and pathogenesis of idiopathic ch...\n",
              "4   4  ...   Prolonged shedding of SARS-CoV-2 in an elderl...\n",
              "\n",
              "[5 rows x 9 columns]"
            ]
          },
          "metadata": {}
        },
        {
          "output_type": "stream",
          "name": "stdout",
          "text": [
            "================================================================================\n",
            "<class 'pandas.core.frame.DataFrame'>\n",
            "RangeIndex: 40834 entries, 0 to 40833\n",
            "Data columns (total 7 columns):\n",
            " #   Column          Non-Null Count  Dtype \n",
            "---  ------          --------------  ----- \n",
            " 0   id              40834 non-null  int64 \n",
            " 1   title           40834 non-null  object\n",
            " 2   abstract        40834 non-null  object\n",
            " 3   len_title       40834 non-null  int64 \n",
            " 4   len_abstract    40834 non-null  int64 \n",
            " 5   title_abstract  40834 non-null  object\n",
            " 6   abstract_title  40834 non-null  object\n",
            "dtypes: int64(3), object(4)\n",
            "memory usage: 2.2+ MB\n"
          ]
        },
        {
          "output_type": "display_data",
          "data": {
            "text/html": [
              "<div>\n",
              "<style scoped>\n",
              "    .dataframe tbody tr th:only-of-type {\n",
              "        vertical-align: middle;\n",
              "    }\n",
              "\n",
              "    .dataframe tbody tr th {\n",
              "        vertical-align: top;\n",
              "    }\n",
              "\n",
              "    .dataframe thead th {\n",
              "        text-align: right;\n",
              "    }\n",
              "</style>\n",
              "<table border=\"1\" class=\"dataframe\">\n",
              "  <thead>\n",
              "    <tr style=\"text-align: right;\">\n",
              "      <th></th>\n",
              "      <th>id</th>\n",
              "      <th>title</th>\n",
              "      <th>abstract</th>\n",
              "      <th>len_title</th>\n",
              "      <th>len_abstract</th>\n",
              "      <th>title_abstract</th>\n",
              "      <th>abstract_title</th>\n",
              "    </tr>\n",
              "  </thead>\n",
              "  <tbody>\n",
              "    <tr>\n",
              "      <th>0</th>\n",
              "      <td>27145</td>\n",
              "      <td>Estimating the potential effects of COVID-19 p...</td>\n",
              "      <td>The objective of the paper is to analyse chang...</td>\n",
              "      <td>16</td>\n",
              "      <td>245</td>\n",
              "      <td>Estimating the potential effects of COVID-19 p...</td>\n",
              "      <td>The objective of the paper is to analyse chang...</td>\n",
              "    </tr>\n",
              "    <tr>\n",
              "      <th>1</th>\n",
              "      <td>27146</td>\n",
              "      <td>Leukoerythroblastic reaction in a patient with...</td>\n",
              "      <td></td>\n",
              "      <td>8</td>\n",
              "      <td>0</td>\n",
              "      <td>Leukoerythroblastic reaction in a patient with...</td>\n",
              "      <td>Leukoerythroblastic reaction in a patient wit...</td>\n",
              "    </tr>\n",
              "    <tr>\n",
              "      <th>2</th>\n",
              "      <td>27147</td>\n",
              "      <td>[15O]-water PET and intraoperative brain mappi...</td>\n",
              "      <td>[15O]-water PET was performed on 12 patients w...</td>\n",
              "      <td>14</td>\n",
              "      <td>315</td>\n",
              "      <td>[15O]-water PET and intraoperative brain mappi...</td>\n",
              "      <td>[15O]-water PET was performed on 12 patients w...</td>\n",
              "    </tr>\n",
              "    <tr>\n",
              "      <th>3</th>\n",
              "      <td>27148</td>\n",
              "      <td>Adaptive image segmentation for robust measure...</td>\n",
              "      <td>We present a method that significantly improve...</td>\n",
              "      <td>11</td>\n",
              "      <td>119</td>\n",
              "      <td>Adaptive image segmentation for robust measure...</td>\n",
              "      <td>We present a method that significantly improve...</td>\n",
              "    </tr>\n",
              "    <tr>\n",
              "      <th>4</th>\n",
              "      <td>27149</td>\n",
              "      <td>Comparison of Epidemiological Variations in CO...</td>\n",
              "      <td>The objective of this study is to compare the ...</td>\n",
              "      <td>13</td>\n",
              "      <td>224</td>\n",
              "      <td>Comparison of Epidemiological Variations in CO...</td>\n",
              "      <td>The objective of this study is to compare the ...</td>\n",
              "    </tr>\n",
              "  </tbody>\n",
              "</table>\n",
              "</div>"
            ],
            "text/plain": [
              "      id  ...                                     abstract_title\n",
              "0  27145  ...  The objective of the paper is to analyse chang...\n",
              "1  27146  ...   Leukoerythroblastic reaction in a patient wit...\n",
              "2  27147  ...  [15O]-water PET was performed on 12 patients w...\n",
              "3  27148  ...  We present a method that significantly improve...\n",
              "4  27149  ...  The objective of this study is to compare the ...\n",
              "\n",
              "[5 rows x 7 columns]"
            ]
          },
          "metadata": {}
        },
        {
          "output_type": "stream",
          "name": "stdout",
          "text": [
            "================================================================================\n",
            "<class 'pandas.core.frame.DataFrame'>\n",
            "RangeIndex: 40834 entries, 0 to 40833\n",
            "Data columns (total 2 columns):\n",
            " #   Column     Non-Null Count  Dtype\n",
            "---  ------     --------------  -----\n",
            " 0   id         40834 non-null  int64\n",
            " 1   judgement  40834 non-null  int64\n",
            "dtypes: int64(2)\n",
            "memory usage: 638.2 KB\n"
          ]
        },
        {
          "output_type": "display_data",
          "data": {
            "text/html": [
              "<div>\n",
              "<style scoped>\n",
              "    .dataframe tbody tr th:only-of-type {\n",
              "        vertical-align: middle;\n",
              "    }\n",
              "\n",
              "    .dataframe tbody tr th {\n",
              "        vertical-align: top;\n",
              "    }\n",
              "\n",
              "    .dataframe thead th {\n",
              "        text-align: right;\n",
              "    }\n",
              "</style>\n",
              "<table border=\"1\" class=\"dataframe\">\n",
              "  <thead>\n",
              "    <tr style=\"text-align: right;\">\n",
              "      <th></th>\n",
              "      <th>id</th>\n",
              "      <th>judgement</th>\n",
              "    </tr>\n",
              "  </thead>\n",
              "  <tbody>\n",
              "    <tr>\n",
              "      <th>0</th>\n",
              "      <td>27145</td>\n",
              "      <td>0</td>\n",
              "    </tr>\n",
              "    <tr>\n",
              "      <th>1</th>\n",
              "      <td>27146</td>\n",
              "      <td>1</td>\n",
              "    </tr>\n",
              "    <tr>\n",
              "      <th>2</th>\n",
              "      <td>27147</td>\n",
              "      <td>1</td>\n",
              "    </tr>\n",
              "    <tr>\n",
              "      <th>3</th>\n",
              "      <td>27148</td>\n",
              "      <td>0</td>\n",
              "    </tr>\n",
              "    <tr>\n",
              "      <th>4</th>\n",
              "      <td>27149</td>\n",
              "      <td>1</td>\n",
              "    </tr>\n",
              "  </tbody>\n",
              "</table>\n",
              "</div>"
            ],
            "text/plain": [
              "      id  judgement\n",
              "0  27145          0\n",
              "1  27146          1\n",
              "2  27147          1\n",
              "3  27148          0\n",
              "4  27149          1"
            ]
          },
          "metadata": {}
        }
      ]
    },
    {
      "cell_type": "markdown",
      "metadata": {
        "id": "a9L3nMYzDMqJ"
      },
      "source": [
        "### 目的変数 judgement の分布"
      ]
    },
    {
      "cell_type": "code",
      "metadata": {
        "colab": {
          "base_uri": "https://localhost:8080/",
          "height": 296
        },
        "id": "3f5772d0",
        "outputId": "dd1e54c3-b67a-45dc-a90d-44dff02b6801"
      },
      "source": [
        "sns.distplot(train[\"judgement\"], kde=False)"
      ],
      "execution_count": 35,
      "outputs": [
        {
          "output_type": "execute_result",
          "data": {
            "text/plain": [
              "<matplotlib.axes._subplots.AxesSubplot at 0x7f0211cd8350>"
            ]
          },
          "metadata": {},
          "execution_count": 35
        },
        {
          "output_type": "display_data",
          "data": {
            "image/png": "[encoded data removed]",
            "text/plain": [
              "<Figure size 432x288 with 1 Axes>"
            ]
          },
          "metadata": {
            "needs_background": "light"
          }
        }
      ]
    },
    {
      "cell_type": "code",
      "metadata": {
        "colab": {
          "base_uri": "https://localhost:8080/"
        },
        "id": "PuZVvlM8Xy91",
        "outputId": "08421bc5-22b0-4433-8cb3-6bcf71e1b35f"
      },
      "source": [
        "train[\"judgement\"].value_counts()"
      ],
      "execution_count": 36,
      "outputs": [
        {
          "output_type": "execute_result",
          "data": {
            "text/plain": [
              "0    26515\n",
              "1      630\n",
              "Name: judgement, dtype: int64"
            ]
          },
          "metadata": {},
          "execution_count": 36
        }
      ]
    },
    {
      "cell_type": "code",
      "metadata": {
        "colab": {
          "base_uri": "https://localhost:8080/"
        },
        "id": "2E-56356_L3T",
        "outputId": "c299fa7b-f64f-47cc-824f-81fd69343871"
      },
      "source": [
        "border = len(train[train[\"judgement\"] == 1]) / len(train[\"judgement\"])\n",
        "print(border)"
      ],
      "execution_count": 37,
      "outputs": [
        {
          "output_type": "stream",
          "name": "stdout",
          "text": [
            "0.0232086940504697\n"
          ]
        }
      ]
    },
    {
      "cell_type": "markdown",
      "metadata": {
        "id": "LZNrZoksDSMb"
      },
      "source": [
        "### title の単語数の分布"
      ]
    },
    {
      "cell_type": "code",
      "metadata": {
        "colab": {
          "base_uri": "https://localhost:8080/",
          "height": 242
        },
        "id": "ixixzShVH80j",
        "outputId": "11f6c5a1-8523-46fa-8833-16c6de8da195"
      },
      "source": [
        "g = sns.FacetGrid(train[[\"judgement\", \"len_title\"]], hue='judgement')\n",
        "g.map(sns.distplot, 'len_title', label='judgement', hist=True, rug=False)\n",
        "g.add_legend()"
      ],
      "execution_count": 38,
      "outputs": [
        {
          "output_type": "execute_result",
          "data": {
            "text/plain": [
              "<seaborn.axisgrid.FacetGrid at 0x7f02137380d0>"
            ]
          },
          "metadata": {},
          "execution_count": 38
        },
        {
          "output_type": "display_data",
          "data": {
            "image/png": "[encoded data removed]",
            "text/plain": [
              "<Figure size 278.125x216 with 1 Axes>"
            ]
          },
          "metadata": {
            "needs_background": "light"
          }
        }
      ]
    },
    {
      "cell_type": "code",
      "metadata": {
        "colab": {
          "base_uri": "https://localhost:8080/",
          "height": 297
        },
        "id": "W_kt9XDpGTm2",
        "outputId": "9186b9c0-3e77-4dbd-e0a2-949f2ac12b8b"
      },
      "source": [
        "sns.distplot(test[\"len_title\"], hist=True, rug=False)"
      ],
      "execution_count": 39,
      "outputs": [
        {
          "output_type": "execute_result",
          "data": {
            "text/plain": [
              "<matplotlib.axes._subplots.AxesSubplot at 0x7f02133b3d10>"
            ]
          },
          "metadata": {},
          "execution_count": 39
        },
        {
          "output_type": "display_data",
          "data": {
            "image/png": "[encoded data removed]",
            "text/plain": [
              "<Figure size 432x288 with 1 Axes>"
            ]
          },
          "metadata": {
            "needs_background": "light"
          }
        }
      ]
    },
    {
      "cell_type": "markdown",
      "metadata": {
        "id": "z6gm9NCpDZ6V"
      },
      "source": [
        "### abstract の単語数の分布"
      ]
    },
    {
      "cell_type": "code",
      "metadata": {
        "colab": {
          "base_uri": "https://localhost:8080/",
          "height": 242
        },
        "id": "EqwDn4hUImd6",
        "outputId": "6ce8e82c-9c43-496d-eb19-7295a2cd6798"
      },
      "source": [
        "g = sns.FacetGrid(train[[\"judgement\", \"len_abstract\"]], hue='judgement')\n",
        "g.map(sns.distplot, 'len_abstract', label='judgement', hist=True, rug=False)\n",
        "g.add_legend()"
      ],
      "execution_count": 40,
      "outputs": [
        {
          "output_type": "execute_result",
          "data": {
            "text/plain": [
              "<seaborn.axisgrid.FacetGrid at 0x7f0213e4e050>"
            ]
          },
          "metadata": {},
          "execution_count": 40
        },
        {
          "output_type": "display_data",
          "data": {
            "image/png": "[encoded data removed]",
            "text/plain": [
              "<Figure size 278.125x216 with 1 Axes>"
            ]
          },
          "metadata": {
            "needs_background": "light"
          }
        }
      ]
    },
    {
      "cell_type": "code",
      "metadata": {
        "colab": {
          "base_uri": "https://localhost:8080/",
          "height": 297
        },
        "id": "xHnKSMahIqI7",
        "outputId": "0fb7f7c1-ee39-483f-fb2a-89d2e3b92e21"
      },
      "source": [
        "sns.distplot(test[\"len_abstract\"], hist=True, rug=False)"
      ],
      "execution_count": 41,
      "outputs": [
        {
          "output_type": "execute_result",
          "data": {
            "text/plain": [
              "<matplotlib.axes._subplots.AxesSubplot at 0x7f02138fff90>"
            ]
          },
          "metadata": {},
          "execution_count": 41
        },
        {
          "output_type": "display_data",
          "data": {
            "image/png": "[encoded data removed]",
            "text/plain": [
              "<Figure size 432x288 with 1 Axes>"
            ]
          },
          "metadata": {
            "needs_background": "light"
          }
        }
      ]
    },
    {
      "cell_type": "markdown",
      "metadata": {
        "id": "XeZesLBHnfl5"
      },
      "source": [
        "## Load Models"
      ]
    },
    {
      "cell_type": "code",
      "metadata": {
        "id": "wOdN4h2grTzx"
      },
      "source": [
        "if Config.validate:\n",
        "    api = wandb.Api()\n",
        "\n",
        "    for n, run_id in enumerate(config.inference_runs):\n",
        "        if not os.path.exists(run_id):\n",
        "            os.makedirs(run_id)\n",
        "\n",
        "        run_path = f\"{Config.wandb_entity}/{Config.wandb_project}/{run_id}\"\n",
        "        run = api.run(run_path)\n",
        "\n",
        "        try:\n",
        "            run.file(\"oof_df.csv\").download(run_id)\n",
        "        except wandb.CommError:\n",
        "            # Already downloaded.\n",
        "            pass\n",
        "\n",
        "        oof = pd.read_csv(f\"{run_id}/oof_df.csv\")[[\"id\", \"preds\"]]\n",
        "        oof.columns = [\"id\", f\"preds{n}\"]\n",
        "        train = pd.merge(train, oof, on=\"id\")\n",
        "    \n",
        "    print(train.columns)"
      ],
      "execution_count": 42,
      "outputs": []
    },
    {
      "cell_type": "code",
      "metadata": {
        "id": "JM2fDBrNi2_K"
      },
      "source": [
        "if Config.inference:\n",
        "    api = wandb.Api()\n",
        "    inference_models = []\n",
        "\n",
        "    for n, run_id in enumerate(config.inference_runs):\n",
        "        if not os.path.exists(run_id):\n",
        "            os.makedirs(run_id)\n",
        "\n",
        "        run_path = f\"{Config.wandb_entity}/{Config.wandb_project}/{run_id}\"\n",
        "        run = api.run(run_path)\n",
        "\n",
        "        inference_model = {}\n",
        "        inference_model[\"run_id\"] = run_id\n",
        "        inference_model[\"model_name\"] = run.config[\"model_name\"]\n",
        "\n",
        "        for fold in range(config.n_fold):\n",
        "            try:\n",
        "                run.file(f\"{inference_model['model_name'].replace('/', '-')}_fold{fold}_best.pth\").download(run_id)\n",
        "            except wandb.CommError:\n",
        "                # Already downloaded.\n",
        "                pass\n",
        "\n",
        "            model_preds = torch.load(f\"{run_id}/{inference_model['model_name'].replace('/', '-')}_fold{fold}_best.pth\")\n",
        "            inference_model[f\"state_fold{fold}\"] = model_preds[\"model\"]\n",
        "            inference_model[f\"preds_fold{fold}\"] = model_preds[\"preds\"]\n",
        "\n",
        "        inference_models.append(inference_model)\n",
        "    \n",
        "    print({m['run_id']: m['model_name'] for m in inference_models})"
      ],
      "execution_count": 43,
      "outputs": []
    },
    {
      "cell_type": "code",
      "metadata": {
        "id": "UXmpjcJxQhBc",
        "colab": {
          "base_uri": "https://localhost:8080/"
        },
        "outputId": "5487b798-4e9c-46ca-e882-865e1ae4c164"
      },
      "source": [
        "if Config.stack:\n",
        "    api = wandb.Api()\n",
        "\n",
        "    feat_id = 0\n",
        "    for n, run_id in enumerate(config.inference_runs):\n",
        "        if not os.path.exists(run_id):\n",
        "            os.makedirs(run_id)\n",
        "\n",
        "        run_path = f\"{Config.wandb_entity}/{Config.wandb_project}/{run_id}\"\n",
        "        run = api.run(run_path)\n",
        "\n",
        "        try:\n",
        "            run.file(\"validation_df.csv\").download(run_id)\n",
        "        except wandb.CommError:\n",
        "            # Already downloaded.\n",
        "            pass\n",
        "\n",
        "        try:\n",
        "            run.file(\"prediction_df.csv\").download(run_id)\n",
        "        except wandb.CommError:\n",
        "            # Already downloaded.\n",
        "            pass\n",
        "\n",
        "        val = pd.read_csv(f\"{run_id}/validation_df.csv\")\n",
        "        pred = pd.read_csv(f\"{run_id}/prediction_df.csv\")\n",
        "\n",
        "        cols = [c for c in val.columns if c.startswith(\"preds\")]\n",
        "        val = val[[\"id\"] + cols]\n",
        "        pred = pred[[\"id\"] + cols]\n",
        "\n",
        "        adjust_cols = [\"id\"] + [f\"preds{n}\" for n in range(feat_id, feat_id + len(cols))]\n",
        "        val.columns = adjust_cols\n",
        "        pred.columns = adjust_cols\n",
        "\n",
        "        feat_id += len(cols)\n",
        "\n",
        "        train = pd.merge(train, val, on=\"id\")\n",
        "        test = pd.merge(test, pred, on=\"id\")\n",
        "    \n",
        "    print(f\"train: {train.columns}\")\n",
        "    print(f\"test: {test.columns}\")"
      ],
      "execution_count": 44,
      "outputs": [
        {
          "output_type": "stream",
          "name": "stdout",
          "text": [
            "train: Index(['id', 'title', 'abstract', 'judgement', 'nan_abstract', 'len_title',\n",
            "       'len_abstract', 'title_abstract', 'abstract_title', 'preds0', 'preds1',\n",
            "       'preds2', 'preds3', 'preds4', 'preds5', 'preds6', 'preds7', 'preds8'],\n",
            "      dtype='object')\n",
            "test: Index(['id', 'title', 'abstract', 'len_title', 'len_abstract',\n",
            "       'title_abstract', 'abstract_title', 'preds0', 'preds1', 'preds2',\n",
            "       'preds3', 'preds4', 'preds5', 'preds6', 'preds7', 'preds8'],\n",
            "      dtype='object')\n"
          ]
        }
      ]
    },
    {
      "cell_type": "code",
      "metadata": {
        "id": "ba31d893"
      },
      "source": [
        "if Config.debug and not Config.stack:\n",
        "    train = train.sample(n=1000, random_state=config.seed).reset_index(drop=True)\n",
        "    test = test.sample(n=1000, random_state=config.seed).reset_index(drop=True)\n",
        "    sub = sub.sample(n=1000, random_state=config.seed).reset_index(drop=True)"
      ],
      "execution_count": 45,
      "outputs": []
    },
    {
      "cell_type": "markdown",
      "metadata": {
        "id": "_pQ7fKQ2IC6i"
      },
      "source": [
        "## CV Split"
      ]
    },
    {
      "cell_type": "code",
      "metadata": {
        "colab": {
          "base_uri": "https://localhost:8080/"
        },
        "id": "D5Lt-ZLtIHCG",
        "outputId": "ff600dd0-a185-4c72-c184-de16f7d52203"
      },
      "source": [
        "Fold = MultilabelStratifiedKFold(n_splits=5, shuffle=True, random_state=seed)\n",
        "for n, (train_index, val_index) in enumerate(Fold.split(train, train[[\"judgement\", \"nan_abstract\"]])):\n",
        "    train.loc[val_index, \"fold\"] = int(n)\n",
        "train[\"fold\"] = train[\"fold\"].astype(np.uint8)\n",
        "print(train.groupby([\"fold\", \"judgement\", \"nan_abstract\"]).size())"
      ],
      "execution_count": 46,
      "outputs": [
        {
          "output_type": "stream",
          "name": "stdout",
          "text": [
            "fold  judgement  nan_abstract\n",
            "0     0          0               4446\n",
            "                 1                857\n",
            "      1          0                105\n",
            "                 1                 21\n",
            "1     0          0               4448\n",
            "                 1                855\n",
            "      1          0                103\n",
            "                 1                 23\n",
            "2     0          0               4448\n",
            "                 1                855\n",
            "      1          0                103\n",
            "                 1                 23\n",
            "3     0          0               4448\n",
            "                 1                855\n",
            "      1          0                103\n",
            "                 1                 23\n",
            "4     0          0               4455\n",
            "                 1                848\n",
            "      1          0                 96\n",
            "                 1                 30\n",
            "dtype: int64\n"
          ]
        }
      ]
    },
    {
      "cell_type": "markdown",
      "metadata": {
        "id": "7d423ea8"
      },
      "source": [
        "## Utils"
      ]
    },
    {
      "cell_type": "code",
      "metadata": {
        "id": "5985d91d"
      },
      "source": [
        "@contextmanager\n",
        "def timer(name):\n",
        "    t0 = time.time()\n",
        "    LOGGER.info(f\"[{name}] start\")\n",
        "    yield\n",
        "    LOGGER.info(f\"[{name}] done in {time.time() - t0:.0f} s.\")\n",
        "\n",
        "\n",
        "def init_logger(log_file=OUTPUT_DIR + \"train.log\"):\n",
        "    from logging import INFO, FileHandler, Formatter, StreamHandler, getLogger\n",
        "\n",
        "    logger = getLogger(__name__)\n",
        "    logger.setLevel(INFO)\n",
        "    handler1 = StreamHandler()\n",
        "    handler1.setFormatter(Formatter(\"%(message)s\"))\n",
        "    handler2 = FileHandler(filename=log_file)\n",
        "    handler2.setFormatter(Formatter(\"%(message)s\"))\n",
        "    logger.addHandler(handler1)\n",
        "    logger.addHandler(handler2)\n",
        "    return logger\n",
        "\n",
        "\n",
        "LOGGER = init_logger()\n",
        "\n",
        "\n",
        "def seed_torch(seed=42):\n",
        "    random.seed(seed)\n",
        "    os.environ[\"PYTHONHASHSEED\"] = str(seed)\n",
        "    np.random.seed(seed)\n",
        "    torch.manual_seed(seed)\n",
        "    torch.cuda.manual_seed(seed)\n",
        "    torch.cuda.manual_seed_all(seed)\n",
        "    torch.backends.cudnn.deterministic = True\n",
        "\n",
        "\n",
        "seed_torch(seed=config.seed)\n"
      ],
      "execution_count": 47,
      "outputs": []
    },
    {
      "cell_type": "markdown",
      "metadata": {
        "id": "596efb85"
      },
      "source": [
        "## Dataset"
      ]
    },
    {
      "cell_type": "code",
      "metadata": {
        "id": "c2721636"
      },
      "source": [
        "class BaseDataset(Dataset):\n",
        "    def __init__(self, df, model_name, include_labels=True):\n",
        "        tokenizer = T.AutoTokenizer.from_pretrained(model_name)\n",
        "\n",
        "        self.df = df\n",
        "        self.include_labels = include_labels\n",
        "\n",
        "        self.title = df[config.input].tolist()\n",
        "        self.encoded = tokenizer.batch_encode_plus(\n",
        "            self.title,\n",
        "            padding = 'max_length',            \n",
        "            max_length = config.max_len,\n",
        "            truncation = True,\n",
        "            return_attention_mask=True\n",
        "        )\n",
        "        \n",
        "        if self.include_labels:\n",
        "            self.labels = df[\"judgement\"].values\n",
        "\n",
        "    def __len__(self):\n",
        "        return len(self.df)\n",
        "\n",
        "    def __getitem__(self, idx):\n",
        "        input_ids = torch.tensor(self.encoded['input_ids'][idx])\n",
        "        attention_mask = torch.tensor(self.encoded['attention_mask'][idx])\n",
        "\n",
        "        if self.include_labels:\n",
        "            label = torch.tensor(self.labels[idx]).float()\n",
        "            return input_ids, attention_mask, label\n",
        "\n",
        "        return input_ids, attention_mask\n"
      ],
      "execution_count": 48,
      "outputs": []
    },
    {
      "cell_type": "code",
      "metadata": {
        "id": "e56a1c49"
      },
      "source": [
        "# Test\n",
        "\n",
        "if config.model_name != \"\":\n",
        "\n",
        "    train_ds = BaseDataset(train, config.model_name)\n",
        "\n",
        "    for i in range(1):\n",
        "        input_ids, attention_mask, label = train_ds[i]\n",
        "        print(input_ids)\n",
        "        print(attention_mask)\n",
        "        print(f\"label: {label}\")\n"
      ],
      "execution_count": 49,
      "outputs": []
    },
    {
      "cell_type": "markdown",
      "metadata": {
        "id": "d681dabf"
      },
      "source": [
        "## Model"
      ]
    },
    {
      "cell_type": "markdown",
      "metadata": {
        "id": "R6Y5LnDCMPcC"
      },
      "source": [
        "### BaseModel"
      ]
    },
    {
      "cell_type": "code",
      "metadata": {
        "id": "MHPwf3JzPmjI"
      },
      "source": [
        "if config.model_name != \"\":\n",
        "    print(T.AutoConfig.from_pretrained(config.model_name))"
      ],
      "execution_count": 50,
      "outputs": []
    },
    {
      "cell_type": "code",
      "metadata": {
        "id": "229d18e7"
      },
      "source": [
        "class BaseModel(nn.Module):\n",
        "    def __init__(self, model_name):\n",
        "        super().__init__()\n",
        "\n",
        "        if \"base\" in model_name or \"L-12\" in model_name or \"COVID-SciBERT\" in model_name:\n",
        "            out_dim = 768\n",
        "        elif \"large\" in model_name or \"L-24\" in model_name:\n",
        "            out_dim = 1024\n",
        "\n",
        "        auto_config = T.AutoConfig.from_pretrained(model_name)\n",
        "        auto_config.update({\n",
        "            \"output_hidden_states\": True,\n",
        "            \"hidden_dropout_prob\": config.dropout,\n",
        "            # \"layer_norm_eps\": 1e-7,\n",
        "        })\n",
        "        \n",
        "        self.auto_model = T.AutoModel.from_pretrained(model_name, config=auto_config)  \n",
        "\n",
        "        self.attention = nn.Sequential(\n",
        "            nn.Linear(out_dim, 512),            \n",
        "            nn.Tanh(),                       \n",
        "            nn.Linear(512, 1),\n",
        "            nn.Softmax(dim=1)\n",
        "        )        \n",
        "\n",
        "        self.regressor = nn.Sequential(\n",
        "            nn.Linear(out_dim, 1)                        \n",
        "        )\n",
        "\n",
        "        if config.reinit_layers > 0:\n",
        "            self.re_init()\n",
        "\n",
        "        if config.freeze_layers > 0:\n",
        "            self.freeze()\n",
        "\n",
        "    def forward(self, input_ids, attention_mask):\n",
        "        bert_output = self.auto_model(input_ids=input_ids, attention_mask=attention_mask)        \n",
        "\n",
        "        # There are a total of 13 layers of hidden states.\n",
        "        # 1 for the embedding layer, and 12 for the 12 Roberta layers.\n",
        "        # We take the hidden states from the last Roberta layer.\n",
        "        last_layer_hidden_states = bert_output.hidden_states[-1]\n",
        "\n",
        "        # The number of cells is config.max_len.\n",
        "        # The size of the hidden state of each cell is 768 (for roberta-base).\n",
        "        # In order to condense hidden states of all cells to a context vector,\n",
        "        # we compute a weighted average of the hidden states of all cells.\n",
        "        # We compute the weight of each cell, using the attention neural network.\n",
        "        weights = self.attention(last_layer_hidden_states)\n",
        "                \n",
        "        # weights.shape is config.batch_size x config.max_len x 1\n",
        "        # last_layer_hidden_states.shape is config.batch_size x config.max_len x 768        \n",
        "        # Now we compute context_vector as the weighted average.\n",
        "        # context_vector.shape is config.batch_size x 768\n",
        "        context_vector = torch.sum(weights * last_layer_hidden_states, dim=1)        \n",
        "        \n",
        "        # Now we reduce the context vector to the prediction score.\n",
        "        out = self.regressor(context_vector).squeeze()\n",
        "\n",
        "        return out\n",
        "\n",
        "    def re_init(self):\n",
        "        # re-init pooler\n",
        "        self.auto_model.pooler.dense.weight.data.normal_(mean=0.0, std=self.auto_model.config.initializer_range)\n",
        "        self.auto_model.pooler.dense.bias.data.zero_()\n",
        "        for p in self.auto_model.pooler.parameters():\n",
        "            p.requires_grad = True\n",
        "\n",
        "        # re-init encoder\n",
        "        layers = self.auto_model.encoder.layer[-config.reinit_layers:]\n",
        "        for layer in layers:\n",
        "            for module in layer.modules():\n",
        "                if isinstance(module, nn.Linear):\n",
        "                    # Slightly different from the TF version which uses truncated_normal for initialization\n",
        "                    # cf https://github.com/pytorch/pytorch/pull/5617\n",
        "                    module.weight.data.normal_(mean=0.0, std=self.auto_model.config.initializer_range)\n",
        "                    if module.bias is not None:\n",
        "                        module.bias.data.zero_()\n",
        "                elif isinstance(module, nn.Embedding):\n",
        "                    module.weight.data.normal_(mean=0.0, std=self.auto_model.config.initializer_range)\n",
        "                    if module.padding_idx is not None:\n",
        "                        module.weight.data[module.padding_idx].zero_()\n",
        "                elif isinstance(module, nn.LayerNorm):\n",
        "                    module.bias.data.zero_()\n",
        "                    module.weight.data.fill_(1.0)\n",
        "\n",
        "    def freeze(self):\n",
        "        # freeze embedding\n",
        "        for param in self.auto_model.embeddings.parameters():\n",
        "            param.requires_grad = False\n",
        "\n",
        "        # freeze encoder\n",
        "        layers = self.auto_model.encoder.layer[:config.freeze_layers]\n",
        "        for layer in layers:\n",
        "            for param in layer.parameters():\n",
        "                param.requires_grad = False"
      ],
      "execution_count": 51,
      "outputs": []
    },
    {
      "cell_type": "code",
      "metadata": {
        "id": "0a3978b1"
      },
      "source": [
        "# Test\n",
        "\n",
        "if config.model_name != \"\":\n",
        "\n",
        "    model = BaseModel(config.model_name)\n",
        "    print(model)\n",
        "\n",
        "    train_dataset = BaseDataset(train, config.model_name)\n",
        "    train_loader = DataLoader(train_dataset, batch_size=4, shuffle=True, num_workers=4, drop_last=True)\n",
        "\n",
        "    for input_ids, attention_mask, labels in train_loader:\n",
        "        output = model(input_ids, attention_mask)\n",
        "        print(output)\n",
        "        break\n"
      ],
      "execution_count": 52,
      "outputs": []
    },
    {
      "cell_type": "code",
      "metadata": {
        "id": "GlpHUm-SrcLV"
      },
      "source": [
        "# Test\n",
        "\n",
        "if config.model_name != \"\":\n",
        "    for n, (name, tensor) in enumerate(list(model.named_parameters())):\n",
        "        print(f\"{n:>4}: {tensor.requires_grad}, {name}\")"
      ],
      "execution_count": 53,
      "outputs": []
    },
    {
      "cell_type": "markdown",
      "metadata": {
        "id": "FYPJSbAxMTN7"
      },
      "source": [
        "### StackingModel"
      ]
    },
    {
      "cell_type": "code",
      "metadata": {
        "id": "Am2WTaLaMVRQ"
      },
      "source": [
        ""
      ],
      "execution_count": 53,
      "outputs": []
    },
    {
      "cell_type": "markdown",
      "metadata": {
        "id": "_PcTNCYuDeuC"
      },
      "source": [
        "## Optimizer"
      ]
    },
    {
      "cell_type": "code",
      "metadata": {
        "id": "RzoJMxr3DeVG"
      },
      "source": [
        "def bert_optimizer(model):\n",
        "    named_parameters = list(model.named_parameters())    \n",
        "    \n",
        "    if \"albert-base\" in config.model_name:\n",
        "        bert_parameters = named_parameters[:23]    \n",
        "        attention_parameters = named_parameters[25:29]\n",
        "        regressor_parameters = named_parameters[29:]\n",
        "        second_block = 999\n",
        "        third_block = 999\n",
        "\n",
        "    elif \"base\" in config.model_name or \"L-12\" in config.model_name or \"COVID-SciBERT\" in config.model_name:\n",
        "        bert_parameters = named_parameters[:197]    \n",
        "        attention_parameters = named_parameters[199:203]\n",
        "        regressor_parameters = named_parameters[203:]\n",
        "        second_block = 69\n",
        "        third_block = 133\n",
        "\n",
        "    elif \"large\" in config.model_name or \"L-24\" in config.model_name:\n",
        "        bert_parameters = named_parameters[:388]    \n",
        "        attention_parameters = named_parameters[391:395]\n",
        "        regressor_parameters = named_parameters[395:]\n",
        "        second_block = 133\n",
        "        third_block = 261\n",
        "        \n",
        "    attention_group = [params for (name, params) in attention_parameters]\n",
        "    regressor_group = [params for (name, params) in regressor_parameters]\n",
        "\n",
        "    parameters = []\n",
        "    parameters.append({\"params\": attention_group})\n",
        "    parameters.append({\"params\": regressor_group})\n",
        "\n",
        "    for layer_num, (name, params) in enumerate(bert_parameters):\n",
        "        weight_decay = 0.0 if \"bias\" in name else config.weight_decay\n",
        "\n",
        "        lr = config.lr\n",
        "\n",
        "        if layer_num >= second_block:        \n",
        "            lr = config.lr_69\n",
        "\n",
        "        if layer_num >= third_block:\n",
        "            lr = config.lr_133\n",
        "\n",
        "        parameters.append({\"params\": params, \"weight_decay\": weight_decay, \"lr\": lr})\n",
        "\n",
        "    return T.AdamW(parameters)\n"
      ],
      "execution_count": 54,
      "outputs": []
    },
    {
      "cell_type": "markdown",
      "metadata": {
        "id": "de50761e"
      },
      "source": [
        "## Loss"
      ]
    },
    {
      "cell_type": "code",
      "metadata": {
        "id": "47fcae06"
      },
      "source": [
        "class RMSELoss(nn.Module):\n",
        "    def __init__(self, eps=1e-7):\n",
        "        super().__init__()\n",
        "        self.mse = nn.MSELoss()\n",
        "        self.eps = eps\n",
        "        \n",
        "    def forward(self, yhat, y):\n",
        "        loss = torch.sqrt(self.mse(yhat, y) + self.eps)\n",
        "        return loss"
      ],
      "execution_count": 55,
      "outputs": []
    },
    {
      "cell_type": "code",
      "metadata": {
        "id": "cjpp5Rh-4jKW"
      },
      "source": [
        "# https://gist.github.com/SuperShinyEyes/dcc68a08ff8b615442e3bc6a9b55a354\n",
        "class FBetaLoss(nn.Module):\n",
        "\n",
        "    def __init__(self, beta=1.0, epsilon=1e-7):\n",
        "        super().__init__()\n",
        "        self.beta = beta\n",
        "        self.epsilon = epsilon\n",
        "        \n",
        "    def forward(self, y_pred, y_true):\n",
        "        tp = (y_true * y_pred).sum(dim=0).to(torch.float32)\n",
        "        tn = ((1 - y_true) * (1 - y_pred)).sum(dim=0).to(torch.float32)\n",
        "        fp = ((1 - y_true) * y_pred).sum(dim=0).to(torch.float32)\n",
        "        fn = (y_true * (1 - y_pred)).sum(dim=0).to(torch.float32)\n",
        "\n",
        "        precision = tp / (tp + fp + self.epsilon)\n",
        "        recall = tp / (tp + fn + self.epsilon)\n",
        "\n",
        "        beta_squared = self.beta ** 2\n",
        "        fbeta = (1 + beta_squared) * precision * recall / (beta_squared * precision + recall + self.epsilon)\n",
        "        fbeta = fbeta.clamp(min=self.epsilon, max=1-self.epsilon)\n",
        "        return 1 - fbeta.mean()"
      ],
      "execution_count": 56,
      "outputs": []
    },
    {
      "cell_type": "markdown",
      "metadata": {
        "id": "93661540"
      },
      "source": [
        "## Scoring"
      ]
    },
    {
      "cell_type": "code",
      "metadata": {
        "id": "19d9d03c"
      },
      "source": [
        "def get_score(y_true, y_pred, b=border):\n",
        "    y_pred = np.where(y_pred < b, 0, 1)\n",
        "    return fbeta_score(y_true, y_pred, beta=7.0)"
      ],
      "execution_count": 57,
      "outputs": []
    },
    {
      "cell_type": "code",
      "metadata": {
        "id": "a1b92d4f"
      },
      "source": [
        "def get_result(result_df, fold=config.n_fold):\n",
        "    preds = result_df[\"preds\"].values\n",
        "    labels = result_df[\"judgement\"].values\n",
        "    score = get_score(labels, preds)\n",
        "    LOGGER.info(f\"Score: {score:<.5f}\")\n",
        "    # wandb.log({\"fold\": fold, \"CV\": score})\n",
        "    if fold == config.n_fold:\n",
        "        wandb.run.summary[f\"CV\"] = score\n",
        "    else:\n",
        "        wandb.run.summary[f\"CV_fold{fold}\"] = score\n"
      ],
      "execution_count": 58,
      "outputs": []
    },
    {
      "cell_type": "code",
      "metadata": {
        "id": "puJUo-Mjlv_2"
      },
      "source": [
        "def determine_border(b, y_true, y_pred):\n",
        "    return -1 * get_score(y_true, y_pred, b)\n"
      ],
      "execution_count": 59,
      "outputs": []
    },
    {
      "cell_type": "markdown",
      "metadata": {
        "id": "1bf498df"
      },
      "source": [
        "## Helper functions"
      ]
    },
    {
      "cell_type": "code",
      "metadata": {
        "id": "c5b0e152"
      },
      "source": [
        "class AverageMeter(object):\n",
        "    \"\"\"Computes and stores the average and current value\"\"\"\n",
        "\n",
        "    def __init__(self):\n",
        "        self.reset()\n",
        "\n",
        "    def reset(self):\n",
        "        self.val = 0\n",
        "        self.avg = 0\n",
        "        self.sum = 0\n",
        "        self.count = 0\n",
        "\n",
        "    def update(self, val, n=1):\n",
        "        self.val = val\n",
        "        self.sum += val * n\n",
        "        self.count += n\n",
        "        self.avg = self.sum / self.count\n",
        "\n",
        "\n",
        "def asMinutes(s):\n",
        "    m = math.floor(s / 60)\n",
        "    s -= m * 60\n",
        "    return \"%dm %ds\" % (m, s)\n",
        "\n",
        "\n",
        "def timeSince(since, percent):\n",
        "    now = time.time()\n",
        "    s = now - since\n",
        "    es = s / (percent)\n",
        "    rs = es - s\n",
        "    return \"%s (remain %s)\" % (asMinutes(s), asMinutes(rs))"
      ],
      "execution_count": 60,
      "outputs": []
    },
    {
      "cell_type": "code",
      "metadata": {
        "id": "MNxJNSgwg-0E"
      },
      "source": [
        "def pre_train_fn():\n",
        "    tokenizer = T.AutoTokenizer.from_pretrained(config.model_name)\n",
        "    model = T.AutoModelForMaskedLM.from_pretrained(config.model_name)\n",
        "\n",
        "    tokenizer.save_pretrained(f\"./pretrained_{config.model_name}\")\n",
        "\n",
        "    train_dataset = T.LineByLineTextDataset(tokenizer=tokenizer, file_path=\"abstracts.txt\", block_size=512)\n",
        "    valid_dataset = T.LineByLineTextDataset(tokenizer=tokenizer, file_path=\"abstracts.txt\", block_size=512)\n",
        "\n",
        "    data_collator = T.DataCollatorForLanguageModeling(\n",
        "        tokenizer=tokenizer, mlm=True, mlm_probability=0.15\n",
        "    )\n",
        "\n",
        "    training_args = T.TrainingArguments(\n",
        "        output_dir = f\"./pretrained_{config.model_name}_chk\",\n",
        "        overwrite_output_dir = True,\n",
        "        num_train_epochs = 5,\n",
        "        per_device_train_batch_size = 4,\n",
        "        per_device_eval_batch_size = 4,\n",
        "        gradient_accumulation_steps = 4,\n",
        "        evaluation_strategy = 'steps',\n",
        "        save_total_limit = 2,\n",
        "        eval_steps = 105,\n",
        "        save_steps = 105,\n",
        "        metric_for_best_model = 'eval_loss',\n",
        "        greater_is_better = False,\n",
        "        load_best_model_at_end = True,\n",
        "        prediction_loss_only = True,\n",
        "        report_to = \"wandb\",\n",
        "    )\n",
        "\n",
        "    trainer = T.Trainer(\n",
        "        model=model,\n",
        "        args=training_args,\n",
        "        data_collator=data_collator,\n",
        "        train_dataset=train_dataset,\n",
        "        eval_dataset=valid_dataset,\n",
        "    )\n",
        "\n",
        "    trainer.train()\n",
        "\n",
        "    trainer.save_model(f\"./pretrained_{config.model_name}\")"
      ],
      "execution_count": 61,
      "outputs": []
    },
    {
      "cell_type": "code",
      "metadata": {
        "id": "99a3bfb5"
      },
      "source": [
        "def train_fn(train_loader, model, criterion, optimizer, epoch, scheduler, device):\n",
        "    batch_time = AverageMeter()\n",
        "    data_time = AverageMeter()\n",
        "    losses = AverageMeter()\n",
        "    scores = AverageMeter()\n",
        "\n",
        "    # switch to train mode\n",
        "    model.train()\n",
        "    start = end = time.time()\n",
        "    global_step = 0\n",
        "    optimizer.zero_grad()\n",
        "\n",
        "    for step, (input_ids, attention_mask, labels) in enumerate(train_loader):\n",
        "        # measure data loading time\n",
        "        data_time.update(time.time() - end)\n",
        "\n",
        "        input_ids = input_ids.to(device)\n",
        "        attention_mask = attention_mask.to(device)\n",
        "        labels = labels.to(device)\n",
        "        batch_size = labels.size(0)\n",
        "\n",
        "        y_preds = model(input_ids, attention_mask)\n",
        "\n",
        "        loss = criterion(y_preds, labels)\n",
        "\n",
        "        # record loss\n",
        "        losses.update(loss.item(), batch_size)\n",
        "        if config.gradient_accumulation_steps > 1:\n",
        "            loss = loss / config.gradient_accumulation_steps\n",
        "        if Config.apex:\n",
        "            with amp.scale_loss(loss, optimizer) as scaled_loss:\n",
        "                scaled_loss.backward()\n",
        "        else:\n",
        "            loss.backward()\n",
        "\n",
        "        grad_norm = torch.nn.utils.clip_grad_norm_(model.parameters(), config.max_grad_norm)\n",
        "\n",
        "        if (step + 1) % config.gradient_accumulation_steps == 0:\n",
        "            optimizer.step()\n",
        "            optimizer.zero_grad()\n",
        "\n",
        "            if isinstance(scheduler, ReduceLROnPlateau):\n",
        "                scheduler.step(avg_val_loss)\n",
        "            else:\n",
        "                scheduler.step()\n",
        "            \n",
        "            global_step += 1\n",
        "\n",
        "        # measure elapsed time\n",
        "        batch_time.update(time.time() - end)\n",
        "        end = time.time()\n",
        "\n",
        "        if step % Config.print_freq == 0 or step == (len(train_loader) - 1):\n",
        "            print(\n",
        "                f\"Epoch: [{epoch + 1}][{step}/{len(train_loader)}] \"\n",
        "                f\"Elapsed {timeSince(start, float(step + 1) / len(train_loader)):s} \"\n",
        "                f\"Loss: {losses.avg:.4f} \"\n",
        "                f\"Grad: {grad_norm:.4f} \"\n",
        "                # f\"LR: {scheduler.get_last_lr()[0]:.6f}  \"\n",
        "                f\"LR: {scheduler.get_lr()[0]:.6f}  \"\n",
        "            )\n",
        "\n",
        "    return losses.avg"
      ],
      "execution_count": 62,
      "outputs": []
    },
    {
      "cell_type": "code",
      "metadata": {
        "id": "186c441d"
      },
      "source": [
        "def valid_fn(valid_loader, model, criterion, device):\n",
        "    batch_time = AverageMeter()\n",
        "    data_time = AverageMeter()\n",
        "    losses = AverageMeter()\n",
        "    scores = AverageMeter()\n",
        "\n",
        "    # switch to evaluation mode\n",
        "    model.eval()\n",
        "    preds = []\n",
        "    start = end = time.time()\n",
        "\n",
        "    for step, (input_ids, attention_mask, labels) in enumerate(valid_loader):\n",
        "        # measure data loading time\n",
        "        data_time.update(time.time() - end)\n",
        "\n",
        "        input_ids = input_ids.to(device)\n",
        "        attention_mask = attention_mask.to(device)\n",
        "        labels = labels.to(device)\n",
        "        batch_size = labels.size(0)\n",
        "\n",
        "        # compute loss\n",
        "        with torch.no_grad():\n",
        "            y_preds = model(input_ids, attention_mask)\n",
        "\n",
        "        loss = criterion(y_preds, labels)\n",
        "        losses.update(loss.item(), batch_size)\n",
        "\n",
        "        # record score\n",
        "        # preds.append(y_preds.softmax(1).to(\"cpu\").numpy())\n",
        "        preds.append(y_preds.to(\"cpu\").numpy())\n",
        "        if config.gradient_accumulation_steps > 1:\n",
        "            loss = loss / config.gradient_accumulation_steps\n",
        "\n",
        "        # measure elapsed time\n",
        "        batch_time.update(time.time() - end)\n",
        "        end = time.time()\n",
        "\n",
        "        if step % Config.print_freq == 0 or step == (len(valid_loader) - 1):\n",
        "            print(\n",
        "                f\"EVAL: [{step}/{len(valid_loader)}] \"\n",
        "                f\"Elapsed {timeSince(start, float(step + 1) / len(valid_loader)):s} \"\n",
        "                f\"Loss: {losses.avg:.4f} \"\n",
        "            )\n",
        "    predictions = np.concatenate(preds)\n",
        "    return losses.avg, predictions"
      ],
      "execution_count": 63,
      "outputs": []
    },
    {
      "cell_type": "code",
      "metadata": {
        "id": "db7cdfc9"
      },
      "source": [
        "def inference():\n",
        "    predictions = sub.copy()\n",
        "\n",
        "    for n, model_item in enumerate(inference_models):\n",
        "        test_dataset = BaseDataset(test, model_item['model_name'], include_labels=False)\n",
        "        test_loader = DataLoader(\n",
        "            test_dataset, batch_size=config.batch_size, shuffle=False, num_workers=config.num_workers, pin_memory=True\n",
        "        )\n",
        "\n",
        "        preds = []\n",
        "        for fold in range(config.n_fold):\n",
        "            LOGGER.info(f\"========== ID: {model_item['run_id']} model: {model_item['model_name']} fold: {fold} inference ==========\")\n",
        "            model = BaseModel(model_item['model_name'])\n",
        "            model.to(device)\n",
        "            model.load_state_dict(model_item[f\"state_fold{fold}\"])\n",
        "            model.eval()\n",
        "            fold_preds = []\n",
        "            for i, (input_ids, attention_mask) in tqdm(enumerate(test_loader), total=len(test_loader)):\n",
        "                input_ids = input_ids.to(device)\n",
        "                attention_mask = attention_mask.to(device)\n",
        "                with torch.no_grad():\n",
        "                    y_preds = model(input_ids, attention_mask)\n",
        "                # avg_preds.append(y_preds.softmax(1).to(\"cpu\").numpy())\n",
        "                fold_preds.append(y_preds.to(\"cpu\").numpy())\n",
        "            preds.append(np.concatenate(fold_preds))\n",
        "\n",
        "        preds = np.mean(preds, axis=0)\n",
        "\n",
        "        if config.criterion == \"BCEWithLogitsLoss\":\n",
        "            preds = 1 / (1 + np.exp(-preds))\n",
        "\n",
        "        predictions[f\"preds{n}\"] = preds\n",
        "\n",
        "    return predictions"
      ],
      "execution_count": 64,
      "outputs": []
    },
    {
      "cell_type": "code",
      "metadata": {
        "id": "xuZncamGqu8I"
      },
      "source": [
        "def stacking_inference():\n",
        "    feature_cols = [col for col in test.columns if col.startswith(\"preds\")]\n",
        "    predictions = sub.copy()\n",
        "\n",
        "    preds = []\n",
        "    for fold in range(config.n_fold):\n",
        "        LOGGER.info(f\"========== fold: {fold} inference ==========\")\n",
        "        bst = lgb.Booster(model_file=OUTPUT_DIR + f\"lgb_fold{fold}_best.txt\")\n",
        "        fold_preds = bst.predict(test[feature_cols])\n",
        "        preds.append(fold_preds)\n",
        "\n",
        "    preds = np.mean(preds, axis=0)\n",
        "    predictions[f\"preds\"] = preds\n",
        "\n",
        "    return predictions"
      ],
      "execution_count": 65,
      "outputs": []
    },
    {
      "cell_type": "markdown",
      "metadata": {
        "id": "df9663c1"
      },
      "source": [
        "## Train loop"
      ]
    },
    {
      "cell_type": "code",
      "metadata": {
        "id": "357969e6"
      },
      "source": [
        "def train_loop(df, fold):\n",
        "\n",
        "    LOGGER.info(f\"========== fold: {fold} training ==========\")\n",
        "\n",
        "    # ====================================================\n",
        "    # Data Loader\n",
        "    # ====================================================\n",
        "    trn_idx = df[df[\"fold\"] != fold].index\n",
        "    val_idx = df[df[\"fold\"] == fold].index\n",
        "\n",
        "    train_folds = df.loc[trn_idx].reset_index(drop=True)\n",
        "    valid_folds = df.loc[val_idx].reset_index(drop=True)\n",
        "\n",
        "    train_dataset = BaseDataset(train_folds, config.model_name)\n",
        "    valid_dataset = BaseDataset(valid_folds, config.model_name)\n",
        "\n",
        "    train_loader = DataLoader(\n",
        "        train_dataset,\n",
        "        batch_size=config.batch_size,\n",
        "        shuffle=True,\n",
        "        num_workers=config.num_workers,\n",
        "        pin_memory=True,\n",
        "        drop_last=True,\n",
        "    )\n",
        "    valid_loader = DataLoader(\n",
        "        valid_dataset,\n",
        "        batch_size=config.batch_size,\n",
        "        shuffle=False,\n",
        "        num_workers=config.num_workers,\n",
        "        pin_memory=True,\n",
        "        drop_last=False,\n",
        "    )\n",
        "\n",
        "    # ====================================================\n",
        "    # Optimizer\n",
        "    # ====================================================\n",
        "    def get_optimizer(model):\n",
        "        if config.optimizer == \"Adam\":\n",
        "            optimizer = Adam(model.parameters(), lr=config.lr, weight_decay=config.weight_decay, amsgrad=False)\n",
        "        elif config.optimizer == \"AdamW\":\n",
        "            optimizer = T.AdamW(model.parameters(), lr=config.lr, weight_decay=config.weight_decay)\n",
        "        elif config.optimizer == \"BertAdamW\":\n",
        "            optimizer = bert_optimizer(model)\n",
        "        return optimizer\n",
        "\n",
        "    # ====================================================\n",
        "    # Scheduler\n",
        "    # ====================================================\n",
        "    def get_scheduler(optimizer):\n",
        "        if config.scheduler == \"ReduceLROnPlateau\":\n",
        "            scheduler = ReduceLROnPlateau(\n",
        "                optimizer, mode=\"min\", factor=config.factor, patience=config.patience, verbose=True, eps=config.eps\n",
        "            )\n",
        "        elif config.scheduler == \"CosineAnnealingLR\":\n",
        "            scheduler = CosineAnnealingLR(optimizer, T_max=config.T_max, eta_min=config.min_lr, last_epoch=-1)\n",
        "        elif config.scheduler == \"CosineAnnealingWarmRestarts\":\n",
        "            scheduler = CosineAnnealingWarmRestarts(\n",
        "                optimizer, T_0=config.T_0, T_mult=1, eta_min=config.min_lr, last_epoch=-1\n",
        "            )\n",
        "        elif config.scheduler == \"CosineAnnealingWarmupRestarts\":\n",
        "            scheduler = CosineAnnealingWarmupRestarts(\n",
        "                optimizer, first_cycle_steps=config.first_cycle_steps, max_lr=config.lr, min_lr=config.min_lr, warmup_steps=config.warmup_steps\n",
        "            )\n",
        "        elif config.scheduler == \"get_cosine_schedule_with_warmup\":\n",
        "            scheduler = T.get_cosine_schedule_with_warmup(\n",
        "                optimizer,\n",
        "                num_training_steps=config.num_training_steps, \n",
        "                num_warmup_steps=config.num_warmup_steps\n",
        "            )\n",
        "        return scheduler\n",
        "\n",
        "    # ====================================================\n",
        "    # Model\n",
        "    # ====================================================\n",
        "    model = BaseModel(config.model_name)\n",
        "    model.to(device)\n",
        "\n",
        "    # Use multi GPU\n",
        "    if device == torch.device(\"cuda\") and not Config.apex and Config.multi_gpu:\n",
        "        model = torch.nn.DataParallel(model)  # make parallel\n",
        "        # torch.backends.cudnn.benchmark=True\n",
        "\n",
        "    optimizer = get_optimizer(model)\n",
        "    scheduler = get_scheduler(optimizer)\n",
        "\n",
        "    # ====================================================\n",
        "    # Apex\n",
        "    # ====================================================\n",
        "    if Config.apex:\n",
        "        model, optimizer = amp.initialize(model, optimizer, opt_level=\"O1\", verbosity=0)\n",
        "\n",
        "    # ====================================================\n",
        "    # Criterion\n",
        "    # ====================================================\n",
        "    def get_criterion():\n",
        "        if config.criterion == \"CrossEntropyLoss\":\n",
        "            criterion = nn.CrossEntropyLoss()\n",
        "        elif config.criterion == \"BCEWithLogitsLoss\":\n",
        "            criterion = nn.BCEWithLogitsLoss()\n",
        "        elif config.criterion == \"MSELoss\":\n",
        "            criterion = nn.MSELoss()\n",
        "        elif config.criterion == \"RMSELoss\":\n",
        "            criterion = RMSELoss()\n",
        "        elif config.criterion == \"FBetaLoss\":\n",
        "            criterion = FBetaLoss(7.0)\n",
        "\n",
        "        return criterion\n",
        "\n",
        "    criterion = get_criterion()\n",
        "\n",
        "    # ====================================================\n",
        "    # Loop\n",
        "    # ====================================================\n",
        "    best_score = -1\n",
        "    best_loss = np.inf\n",
        "\n",
        "    # if not Config.multi_gpu:\n",
        "    #     wandb.watch(model, log_freq=Config.print_freq)\n",
        "\n",
        "    for epoch in range(config.epochs):\n",
        "\n",
        "        start_time = time.time()\n",
        "\n",
        "        # train\n",
        "        avg_loss = train_fn(train_loader, model, criterion, optimizer, epoch, scheduler, device)\n",
        "\n",
        "        # eval\n",
        "        avg_val_loss, preds = valid_fn(valid_loader, model, criterion, device)\n",
        "        valid_labels = valid_folds[\"judgement\"].values\n",
        "\n",
        "        # if isinstance(scheduler, ReduceLROnPlateau):\n",
        "        #     scheduler.step(avg_val_loss)\n",
        "        # else:\n",
        "        #     scheduler.step()\n",
        "\n",
        "        if config.criterion == \"BCEWithLogitsLoss\":\n",
        "            preds = 1 / (1 + np.exp(-preds))\n",
        "\n",
        "        # scoring\n",
        "        # score = get_score(valid_labels, preds.argmax(1))\n",
        "        score = get_score(valid_labels, preds)\n",
        "\n",
        "        elapsed = time.time() - start_time\n",
        "\n",
        "        LOGGER.info(\n",
        "            f\"Epoch {epoch+1} - avg_train_loss: {avg_loss:.4f}  avg_val_loss: {avg_val_loss:.4f}  time: {elapsed:.0f}s\"\n",
        "        )\n",
        "        LOGGER.info(f\"Epoch {epoch+1} - Score: {score}\")\n",
        "\n",
        "        wandb.log(\n",
        "            {\n",
        "                \"epoch\": epoch + 1,\n",
        "                f\"loss/train_fold{fold}\": avg_loss,\n",
        "                f\"loss/val_fold{fold}\": avg_val_loss,\n",
        "                f\"score/fold{fold}\": score,\n",
        "            }\n",
        "        )\n",
        "\n",
        "        if (\n",
        "            (config.best == \"score\" and score > best_score)\n",
        "            or (config.best == \"loss\" and avg_val_loss < best_loss)\n",
        "        ):\n",
        "            best_score = score\n",
        "            best_loss = avg_val_loss\n",
        "\n",
        "            LOGGER.info(f\"Epoch {epoch+1} - Save Best Score: {best_score:.4f} Model (Loss: {best_loss:.4f})\")\n",
        "            wandb.run.summary[f\"loss_fold{fold}\"] = score\n",
        "\n",
        "            torch.save(\n",
        "                {\"model\": model.state_dict(), \"preds\": preds}, OUTPUT_DIR + f\"{config.model_name.replace('/', '-')}_fold{fold}_best.pth\"\n",
        "            )\n",
        "            wandb.save(OUTPUT_DIR + f\"{config.model_name.replace('/', '-')}_fold{fold}_best.pth\")\n",
        "\n",
        "        # if epoch == config.epochs - 1:\n",
        "        #     LOGGER.info(f\"Epoch {epoch+1} - Save final model\")\n",
        "        #     torch.save(\n",
        "        #         {\"model\": model.state_dict(), \"preds\": preds}, OUTPUT_DIR + f\"{config.model_name}_fold{fold}_final.pth\"\n",
        "        #     )\n",
        "\n",
        "    check_point = torch.load(OUTPUT_DIR + f\"{config.model_name.replace('/', '-')}_fold{fold}_best.pth\")\n",
        "\n",
        "    valid_folds[[str(c) for c in range(config.n_class)]] = check_point[\"preds\"]\n",
        "    valid_folds[\"preds\"] = check_point[\"preds\"]  # .argmax(1)\n",
        "\n",
        "    return valid_folds"
      ],
      "execution_count": 66,
      "outputs": []
    },
    {
      "cell_type": "markdown",
      "metadata": {
        "id": "c8mXDD4u0G3R"
      },
      "source": [
        "## Stack loop"
      ]
    },
    {
      "cell_type": "code",
      "metadata": {
        "id": "VejK7F2hzIsK"
      },
      "source": [
        "def stack_loop(df, fold):\n",
        "\n",
        "    LOGGER.info(f\"========== fold: {fold} training ==========\")\n",
        "    start_time = time.time()\n",
        "\n",
        "    # ====================================================\n",
        "    # Dataset\n",
        "    # ====================================================\n",
        "    trn_idx = df[df[\"fold\"] != fold].index\n",
        "    val_idx = df[df[\"fold\"] == fold].index\n",
        "\n",
        "    train_folds = df.loc[trn_idx].reset_index(drop=True)\n",
        "    valid_folds = df.loc[val_idx].reset_index(drop=True)\n",
        "\n",
        "    feature_cols = [col for col in df.columns if col.startswith(\"preds\")]\n",
        "    label_cols = [\"judgement\"]\n",
        "\n",
        "    train_dataset = lgb.Dataset(data=train_folds[feature_cols], label=train_folds[label_cols], free_raw_data=False)\n",
        "    valid_dataset = lgb.Dataset(data=valid_folds[feature_cols], label=valid_folds[label_cols], free_raw_data=False)\n",
        "\n",
        "    # ====================================================\n",
        "    # Parameters\n",
        "    # ====================================================\n",
        "\n",
        "    lgb_params = {\n",
        "        \"objective\": config.objective,\n",
        "        \"metric\": config.criterion,\n",
        "        \"device_type\": \"gpu\" if torch.cuda.is_available() else \"cpu\",\n",
        "        \"seed\": seed + fold,\n",
        "    }\n",
        "\n",
        "    if Config.stack_optuna:\n",
        "        lgb_params_manual = {\n",
        "            \"verbosity\": -1,\n",
        "        }\n",
        "    else:\n",
        "        lgb_params_manual = {\n",
        "            \"learning_rate\": config.lr,\n",
        "            \"max_depth\": config.max_depth,\n",
        "            \"num_leaves\": config.num_leaves,\n",
        "            \"min_data_in_leaf\": config.min_data_in_leaf,\n",
        "            \"drop_rate\": config.dropout,\n",
        "        }\n",
        "    lgb_params.update(lgb_params_manual)\n",
        "\n",
        "\n",
        "    # ====================================================\n",
        "    # Loop\n",
        "    # ====================================================\n",
        "\n",
        "    evaluation_results = {}\n",
        "    clf = lgb.train(\n",
        "        params=lgb_params,\n",
        "        train_set=train_dataset,\n",
        "        num_boost_round=10000,\n",
        "        valid_sets=[train_dataset, valid_dataset], \n",
        "        valid_names=['train', 'eval'],\n",
        "        early_stopping_rounds=100,\n",
        "        evals_result=evaluation_results,\n",
        "        verbose_eval=100,\n",
        "    )\n",
        "\n",
        "    importances = pd.DataFrame({\n",
        "        'features': clf.feature_name(),\n",
        "        'importance': clf.feature_importance()\n",
        "    }).sort_values('importance', ascending=False)\n",
        "\n",
        "    preds = clf.predict(valid_folds[feature_cols], num_iteration=clf.best_iteration)\n",
        "    valid_labels = valid_folds[\"judgement\"].values\n",
        "\n",
        "    if Config.stack_optuna:\n",
        "        LOGGER.info(f\"Best Params {fold} - {clf.params}\")\n",
        "\n",
        "    # scoring\n",
        "    # score = get_score(valid_labels, preds.argmax(1))\n",
        "    score = get_score(valid_labels, preds)\n",
        "\n",
        "    elapsed = time.time() - start_time\n",
        "\n",
        "    LOGGER.info(f\"Result {fold} - Score: {score}, time: {elapsed:.0f}s\")\n",
        "\n",
        "    LOGGER.info(f\"Result {fold} - Save Best Model\")\n",
        "    # wandb.run.summary[f\"loss_fold{fold}\"] = score\n",
        "\n",
        "    clf.save_model(OUTPUT_DIR + f\"lgb_fold{fold}_best.txt\", clf.best_iteration)\n",
        "    wandb.save(OUTPUT_DIR + f\"lgb_fold{fold}_best.txt\")\n",
        "\n",
        "    #valid_folds[[str(c) for c in range(config.n_class)]] = preds\n",
        "    valid_folds[\"preds\"] = preds  # .argmax(1)\n",
        "\n",
        "    return valid_folds"
      ],
      "execution_count": 67,
      "outputs": []
    },
    {
      "cell_type": "markdown",
      "metadata": {
        "id": "97b42fa3"
      },
      "source": [
        "## Main\n"
      ]
    },
    {
      "cell_type": "code",
      "metadata": {
        "id": "5baf150d"
      },
      "source": [
        "def main():\n",
        "    if Config.pre_train:\n",
        "        abstract_df = pd.concat([train[\"abstract\"], test[\"abstract\"]])\n",
        "        abstracts  = '\\n'.join(abstract_df.tolist())\n",
        "        with open(\"abstracts.txt\", \"w\") as f:\n",
        "            f.write(abstracts)\n",
        "\n",
        "        pre_train_fn()\n",
        "\n",
        "    if Config.train:\n",
        "        oof_df = pd.DataFrame()\n",
        "        for fold in range(config.n_fold):\n",
        "            seed_torch(seed + fold)\n",
        "\n",
        "            _oof_df = train_loop(train, fold)\n",
        "            oof_df = pd.concat([oof_df, _oof_df])\n",
        "            LOGGER.info(f\"========== fold: {fold} result ==========\")\n",
        "            get_result(_oof_df, fold)\n",
        "            \n",
        "        # CV result\n",
        "        LOGGER.info(f\"========== CV ==========\")\n",
        "        get_result(oof_df)\n",
        "        \n",
        "        # save result\n",
        "        oof_df.to_csv(OUTPUT_DIR + \"oof_df.csv\", index=False)\n",
        "        wandb.save(OUTPUT_DIR + \"oof_df.csv\")\n",
        "\n",
        "    if Config.validate:\n",
        "        probs = []\n",
        "        for n in range(len(config.inference_runs)):\n",
        "            probs.append(train[f\"preds{n}\"].values)\n",
        "        preds = np.mean(probs, axis=0)\n",
        "        train[\"predictions\"] = preds\n",
        "\n",
        "        # Post process\n",
        "        if config.border == \"minimize\":\n",
        "            res = sp.optimize.minimize_scalar(determine_border, method='bounded', bounds=(0, 1), args=(train[\"judgement\"].values, preds))\n",
        "            LOGGER.info(f\"========== Border Optimization ==========\")\n",
        "            LOGGER.info(f\"Border: {res.x:<.5f}, Score: {-res.fun:<.5f}\")\n",
        "            wandb.run.summary[f\"CV\"] = -res.fun\n",
        "\n",
        "        elif config.border == \"fixed\":\n",
        "            # CV result\n",
        "            LOGGER.info(f\"========== CV ==========\")\n",
        "            get_result(train)\n",
        "\n",
        "        # save result\n",
        "        train.to_csv(OUTPUT_DIR + \"validation_df.csv\", index=False)\n",
        "        wandb.save(OUTPUT_DIR + \"validation_df.csv\")\n",
        "\n",
        "    if Config.inference:\n",
        "        prediction_df = inference()\n",
        "\n",
        "        probs = []\n",
        "        for n in range(len(config.inference_runs)):\n",
        "            probs.append(prediction_df[f\"preds{n}\"].values)\n",
        "        preds = np.mean(probs, axis=0)\n",
        "        prediction_df[\"predictions\"] = preds\n",
        "\n",
        "        # Post process\n",
        "        try:\n",
        "            b = res.x\n",
        "        except Exception:\n",
        "            b = border\n",
        "        wandb.run.summary[f\"border\"] = b\n",
        "\n",
        "        predictions = np.where(preds < b, 0, 1)\n",
        "\n",
        "        # submission\n",
        "        sub[\"judgement\"] = predictions  # .argmax(1)\n",
        "        print(sub[\"judgement\"].value_counts())\n",
        "\n",
        "        sub.to_csv(OUTPUT_DIR + \"submission.csv\", index=False, header=False)\n",
        "        wandb.save(OUTPUT_DIR + \"submission.csv\")\n",
        "\n",
        "        prediction_df.to_csv(OUTPUT_DIR + \"prediction_df.csv\", index=False)\n",
        "        wandb.save(OUTPUT_DIR + \"prediction_df.csv\")\n",
        "        \n",
        "    if Config.stack:\n",
        "        # Training\n",
        "        oof_df = pd.DataFrame()\n",
        "        for fold in range(config.n_fold):\n",
        "            seed_torch(seed + fold)\n",
        "\n",
        "            _oof_df = stack_loop(train, fold)\n",
        "            oof_df = pd.concat([oof_df, _oof_df])\n",
        "            LOGGER.info(f\"========== fold: {fold} result ==========\")\n",
        "            get_result(_oof_df, fold)\n",
        "\n",
        "        # CV result\n",
        "        if config.border == \"minimize\":\n",
        "            res = sp.optimize.minimize_scalar(determine_border, method='bounded', bounds=(0, 1), args=(oof_df[\"judgement\"].values, oof_df[\"preds\"].values))\n",
        "            LOGGER.info(f\"========== CV: Border Optimization ==========\")\n",
        "            LOGGER.info(f\"Border: {res.x:<.5f}, Score: {-res.fun:<.5f}\")\n",
        "            wandb.run.summary[f\"CV\"] = -res.fun\n",
        "            b = res.x\n",
        "\n",
        "        elif config.border == \"fixed\":\n",
        "            # CV result\n",
        "            LOGGER.info(f\"========== CV ==========\")\n",
        "            get_result(oof_df)\n",
        "            b = border\n",
        "        \n",
        "        wandb.run.summary[f\"border\"] = b\n",
        "\n",
        "        # save result\n",
        "        oof_df.to_csv(OUTPUT_DIR + \"stacking_oof_df.csv\", index=False)\n",
        "        wandb.save(OUTPUT_DIR + \"stacking_oof_df.csv\")\n",
        "\n",
        "        # Inference\n",
        "        prediction_df = stacking_inference()\n",
        "\n",
        "        predictions = np.where(prediction_df[\"preds\"].values < b, 0, 1)\n",
        "\n",
        "        # submission\n",
        "        sub[\"judgement\"] = predictions  # .argmax(1)\n",
        "        print(sub[\"judgement\"].value_counts())\n",
        "\n",
        "        sub.to_csv(OUTPUT_DIR + \"submission.csv\", index=False, header=False)\n",
        "        wandb.save(OUTPUT_DIR + \"submission.csv\")\n",
        "\n",
        "        prediction_df.to_csv(OUTPUT_DIR + \"stacking_prediction_df.csv\", index=False)\n",
        "        wandb.save(OUTPUT_DIR + \"stacking_prediction_df.csv\")"
      ],
      "execution_count": 68,
      "outputs": []
    },
    {
      "cell_type": "code",
      "metadata": {
        "colab": {
          "base_uri": "https://localhost:8080/"
        },
        "id": "726e744f",
        "outputId": "0754a517-92f7-4202-926d-2792f1cdd896"
      },
      "source": [
        "if __name__ == \"__main__\":\n",
        "    main()\n"
      ],
      "execution_count": 69,
      "outputs": [
        {
          "output_type": "stream",
          "name": "stderr",
          "text": [
            "========== fold: 0 training ==========\n",
            "\u001b[32m[I 2021-09-02 12:14:25,166]\u001b[0m A new study created in memory with name: no-name-a2036b2a-8071-4521-9e68-034611c45620\u001b[0m\n",
            "feature_fraction, val_score: inf:   0%|          | 0/7 [00:00<?, ?it/s]"
          ]
        },
        {
          "output_type": "stream",
          "name": "stdout",
          "text": [
            "Training until validation scores don't improve for 100 rounds\n"
          ]
        },
        {
          "output_type": "stream",
          "name": "stderr",
          "text": [
            "feature_fraction, val_score: 0.039843:  14%|#4        | 1/7 [00:00<00:04,  1.41it/s]\u001b[32m[I 2021-09-02 12:14:25,881]\u001b[0m Trial 0 finished with value: 0.03984288598361432 and parameters: {'feature_fraction': 0.4}. Best is trial 0 with value: 0.03984288598361432.\u001b[0m\n",
            "feature_fraction, val_score: 0.039843:  14%|#4        | 1/7 [00:00<00:04,  1.41it/s]"
          ]
        },
        {
          "output_type": "stream",
          "name": "stdout",
          "text": [
            "[100]\ttrain's binary_logloss: 0.0109998\teval's binary_logloss: 0.0445516\n",
            "Early stopping, best iteration is:\n",
            "[33]\ttrain's binary_logloss: 0.0197788\teval's binary_logloss: 0.0398429\n",
            "Training until validation scores don't improve for 100 rounds\n"
          ]
        },
        {
          "output_type": "stream",
          "name": "stderr",
          "text": [
            "feature_fraction, val_score: 0.039159:  29%|##8       | 2/7 [00:01<00:03,  1.51it/s]\u001b[32m[I 2021-09-02 12:14:26,509]\u001b[0m Trial 1 finished with value: 0.03915936366478884 and parameters: {'feature_fraction': 0.5}. Best is trial 1 with value: 0.03915936366478884.\u001b[0m\n",
            "feature_fraction, val_score: 0.039159:  29%|##8       | 2/7 [00:01<00:03,  1.51it/s]"
          ]
        },
        {
          "output_type": "stream",
          "name": "stdout",
          "text": [
            "[100]\ttrain's binary_logloss: 0.0100363\teval's binary_logloss: 0.0427903\n",
            "Early stopping, best iteration is:\n",
            "[27]\ttrain's binary_logloss: 0.0205067\teval's binary_logloss: 0.0391594\n",
            "Training until validation scores don't improve for 100 rounds\n"
          ]
        },
        {
          "output_type": "stream",
          "name": "stderr",
          "text": [
            "feature_fraction, val_score: 0.039159:  43%|####2     | 3/7 [00:01<00:02,  1.52it/s]\u001b[32m[I 2021-09-02 12:14:27,165]\u001b[0m Trial 2 finished with value: 0.04024213294404556 and parameters: {'feature_fraction': 0.8}. Best is trial 1 with value: 0.03915936366478884.\u001b[0m\n",
            "feature_fraction, val_score: 0.039159:  43%|####2     | 3/7 [00:02<00:02,  1.52it/s]"
          ]
        },
        {
          "output_type": "stream",
          "name": "stdout",
          "text": [
            "[100]\ttrain's binary_logloss: 0.00916501\teval's binary_logloss: 0.0444304\n",
            "Early stopping, best iteration is:\n",
            "[29]\ttrain's binary_logloss: 0.019181\teval's binary_logloss: 0.0402421\n",
            "Training until validation scores don't improve for 100 rounds\n"
          ]
        },
        {
          "output_type": "stream",
          "name": "stderr",
          "text": [
            "feature_fraction, val_score: 0.039159:  57%|#####7    | 4/7 [00:02<00:01,  1.51it/s]\u001b[32m[I 2021-09-02 12:14:27,835]\u001b[0m Trial 3 finished with value: 0.04121285310827243 and parameters: {'feature_fraction': 0.8999999999999999}. Best is trial 1 with value: 0.03915936366478884.\u001b[0m\n",
            "feature_fraction, val_score: 0.039159:  57%|#####7    | 4/7 [00:02<00:01,  1.51it/s]"
          ]
        },
        {
          "output_type": "stream",
          "name": "stdout",
          "text": [
            "[100]\ttrain's binary_logloss: 0.00922375\teval's binary_logloss: 0.0452445\n",
            "Early stopping, best iteration is:\n",
            "[31]\ttrain's binary_logloss: 0.018274\teval's binary_logloss: 0.0412129\n",
            "Training until validation scores don't improve for 100 rounds\n"
          ]
        },
        {
          "output_type": "stream",
          "name": "stderr",
          "text": [
            "feature_fraction, val_score: 0.039159:  71%|#######1  | 5/7 [00:03<00:01,  1.54it/s]\u001b[32m[I 2021-09-02 12:14:28,462]\u001b[0m Trial 4 finished with value: 0.03915937071004819 and parameters: {'feature_fraction': 0.6}. Best is trial 1 with value: 0.03915936366478884.\u001b[0m\n",
            "feature_fraction, val_score: 0.039159:  71%|#######1  | 5/7 [00:03<00:01,  1.54it/s]"
          ]
        },
        {
          "output_type": "stream",
          "name": "stdout",
          "text": [
            "[100]\ttrain's binary_logloss: 0.0100363\teval's binary_logloss: 0.0427903\n",
            "Early stopping, best iteration is:\n",
            "[27]\ttrain's binary_logloss: 0.0205067\teval's binary_logloss: 0.0391594\n",
            "Training until validation scores don't improve for 100 rounds\n"
          ]
        },
        {
          "output_type": "stream",
          "name": "stderr",
          "text": [
            "feature_fraction, val_score: 0.039159:  86%|########5 | 6/7 [00:03<00:00,  1.52it/s]\u001b[32m[I 2021-09-02 12:14:29,132]\u001b[0m Trial 5 finished with value: 0.039431007471457384 and parameters: {'feature_fraction': 0.7}. Best is trial 1 with value: 0.03915936366478884.\u001b[0m\n",
            "feature_fraction, val_score: 0.039159:  86%|########5 | 6/7 [00:03<00:00,  1.52it/s]"
          ]
        },
        {
          "output_type": "stream",
          "name": "stdout",
          "text": [
            "[100]\ttrain's binary_logloss: 0.00970935\teval's binary_logloss: 0.0440216\n",
            "Early stopping, best iteration is:\n",
            "[33]\ttrain's binary_logloss: 0.0185219\teval's binary_logloss: 0.039431\n",
            "Training until validation scores don't improve for 100 rounds\n"
          ]
        },
        {
          "output_type": "stream",
          "name": "stderr",
          "text": [
            "feature_fraction, val_score: 0.039159: 100%|##########| 7/7 [00:04<00:00,  1.56it/s]\u001b[32m[I 2021-09-02 12:14:29,736]\u001b[0m Trial 6 finished with value: 0.040974404455455034 and parameters: {'feature_fraction': 1.0}. Best is trial 1 with value: 0.03915936366478884.\u001b[0m\n",
            "feature_fraction, val_score: 0.039159: 100%|##########| 7/7 [00:04<00:00,  1.53it/s]\n"
          ]
        },
        {
          "output_type": "stream",
          "name": "stdout",
          "text": [
            "[100]\ttrain's binary_logloss: 0.00880619\teval's binary_logloss: 0.0457435\n",
            "Early stopping, best iteration is:\n",
            "[28]\ttrain's binary_logloss: 0.0194475\teval's binary_logloss: 0.0409744\n"
          ]
        },
        {
          "output_type": "stream",
          "name": "stderr",
          "text": [
            "num_leaves, val_score: 0.039159:   0%|          | 0/20 [00:00<?, ?it/s]"
          ]
        },
        {
          "output_type": "stream",
          "name": "stdout",
          "text": [
            "Training until validation scores don't improve for 100 rounds\n",
            "[100]\ttrain's binary_logloss: 0.0045076\teval's binary_logloss: 0.0529107\n"
          ]
        },
        {
          "output_type": "stream",
          "name": "stderr",
          "text": [
            "num_leaves, val_score: 0.039159:   5%|5         | 1/20 [00:01<00:24,  1.28s/it]\u001b[32m[I 2021-09-02 12:14:31,029]\u001b[0m Trial 7 finished with value: 0.03930739274789099 and parameters: {'num_leaves': 98}. Best is trial 7 with value: 0.03930739274789099.\u001b[0m\n",
            "num_leaves, val_score: 0.039159:   5%|5         | 1/20 [00:01<00:24,  1.28s/it]"
          ]
        },
        {
          "output_type": "stream",
          "name": "stdout",
          "text": [
            "Early stopping, best iteration is:\n",
            "[26]\ttrain's binary_logloss: 0.015861\teval's binary_logloss: 0.0393074\n",
            "Training until validation scores don't improve for 100 rounds\n",
            "[100]\ttrain's binary_logloss: 0.0044723\teval's binary_logloss: 0.0519023\n"
          ]
        },
        {
          "output_type": "stream",
          "name": "stderr",
          "text": [
            "num_leaves, val_score: 0.039159:  10%|#         | 2/20 [00:02<00:22,  1.27s/it]\u001b[32m[I 2021-09-02 12:14:32,287]\u001b[0m Trial 8 finished with value: 0.039309306144087126 and parameters: {'num_leaves': 97}. Best is trial 7 with value: 0.03930739274789099.\u001b[0m\n",
            "num_leaves, val_score: 0.039159:  10%|#         | 2/20 [00:02<00:22,  1.27s/it]"
          ]
        },
        {
          "output_type": "stream",
          "name": "stdout",
          "text": [
            "Early stopping, best iteration is:\n",
            "[26]\ttrain's binary_logloss: 0.0158608\teval's binary_logloss: 0.0393093\n",
            "Training until validation scores don't improve for 100 rounds\n",
            "[100]\ttrain's binary_logloss: 0.00438222\teval's binary_logloss: 0.0522768\n"
          ]
        },
        {
          "output_type": "stream",
          "name": "stderr",
          "text": [
            "num_leaves, val_score: 0.039159:  15%|#5        | 3/20 [00:04<00:30,  1.79s/it]\u001b[32m[I 2021-09-02 12:14:34,693]\u001b[0m Trial 9 finished with value: 0.03930637208568193 and parameters: {'num_leaves': 224}. Best is trial 9 with value: 0.03930637208568193.\u001b[0m\n",
            "num_leaves, val_score: 0.039159:  15%|#5        | 3/20 [00:04<00:30,  1.79s/it]"
          ]
        },
        {
          "output_type": "stream",
          "name": "stdout",
          "text": [
            "Early stopping, best iteration is:\n",
            "[26]\ttrain's binary_logloss: 0.0158596\teval's binary_logloss: 0.0393064\n",
            "Training until validation scores don't improve for 100 rounds\n",
            "[100]\ttrain's binary_logloss: 0.0043822\teval's binary_logloss: 0.0522803\n"
          ]
        },
        {
          "output_type": "stream",
          "name": "stderr",
          "text": [
            "num_leaves, val_score: 0.039159:  20%|##        | 4/20 [00:07<00:31,  1.99s/it]\u001b[32m[I 2021-09-02 12:14:37,002]\u001b[0m Trial 10 finished with value: 0.03930745832922528 and parameters: {'num_leaves': 213}. Best is trial 9 with value: 0.03930637208568193.\u001b[0m\n",
            "num_leaves, val_score: 0.039159:  20%|##        | 4/20 [00:07<00:31,  1.99s/it]"
          ]
        },
        {
          "output_type": "stream",
          "name": "stdout",
          "text": [
            "Early stopping, best iteration is:\n",
            "[26]\ttrain's binary_logloss: 0.0158596\teval's binary_logloss: 0.0393075\n",
            "Training until validation scores don't improve for 100 rounds\n",
            "[100]\ttrain's binary_logloss: 0.00438222\teval's binary_logloss: 0.0522781\n"
          ]
        },
        {
          "output_type": "stream",
          "name": "stderr",
          "text": [
            "num_leaves, val_score: 0.039159:  25%|##5       | 5/20 [00:09<00:29,  1.98s/it]\u001b[32m[I 2021-09-02 12:14:38,957]\u001b[0m Trial 11 finished with value: 0.03930635939139265 and parameters: {'num_leaves': 166}. Best is trial 11 with value: 0.03930635939139265.\u001b[0m\n",
            "num_leaves, val_score: 0.039159:  25%|##5       | 5/20 [00:09<00:29,  1.98s/it]"
          ]
        },
        {
          "output_type": "stream",
          "name": "stdout",
          "text": [
            "Early stopping, best iteration is:\n",
            "[26]\ttrain's binary_logloss: 0.0158597\teval's binary_logloss: 0.0393064\n",
            "Training until validation scores don't improve for 100 rounds\n",
            "[100]\ttrain's binary_logloss: 0.00438222\teval's binary_logloss: 0.0522775\n"
          ]
        },
        {
          "output_type": "stream",
          "name": "stderr",
          "text": [
            "num_leaves, val_score: 0.039159:  30%|###       | 6/20 [00:11<00:28,  2.04s/it]\u001b[32m[I 2021-09-02 12:14:41,120]\u001b[0m Trial 12 finished with value: 0.03930637114874997 and parameters: {'num_leaves': 192}. Best is trial 11 with value: 0.03930635939139265.\u001b[0m\n",
            "num_leaves, val_score: 0.039159:  30%|###       | 6/20 [00:11<00:28,  2.04s/it]"
          ]
        },
        {
          "output_type": "stream",
          "name": "stdout",
          "text": [
            "Early stopping, best iteration is:\n",
            "[26]\ttrain's binary_logloss: 0.0158596\teval's binary_logloss: 0.0393064\n",
            "Training until validation scores don't improve for 100 rounds\n",
            "[100]\ttrain's binary_logloss: 0.00438222\teval's binary_logloss: 0.052278\n"
          ]
        },
        {
          "output_type": "stream",
          "name": "stderr",
          "text": [
            "num_leaves, val_score: 0.039159:  35%|###5      | 7/20 [00:13<00:27,  2.10s/it]\u001b[32m[I 2021-09-02 12:14:43,332]\u001b[0m Trial 13 finished with value: 0.0393074047664361 and parameters: {'num_leaves': 202}. Best is trial 11 with value: 0.03930635939139265.\u001b[0m\n",
            "num_leaves, val_score: 0.039159:  35%|###5      | 7/20 [00:13<00:27,  2.10s/it]"
          ]
        },
        {
          "output_type": "stream",
          "name": "stdout",
          "text": [
            "Early stopping, best iteration is:\n",
            "[26]\ttrain's binary_logloss: 0.0158596\teval's binary_logloss: 0.0393074\n",
            "Training until validation scores don't improve for 100 rounds\n",
            "[100]\ttrain's binary_logloss: 0.00447434\teval's binary_logloss: 0.0513766\n"
          ]
        },
        {
          "output_type": "stream",
          "name": "stderr",
          "text": [
            "num_leaves, val_score: 0.039159:  40%|####      | 8/20 [00:14<00:21,  1.78s/it]\u001b[32m[I 2021-09-02 12:14:44,441]\u001b[0m Trial 14 finished with value: 0.03967288559714049 and parameters: {'num_leaves': 81}. Best is trial 11 with value: 0.03930635939139265.\u001b[0m\n",
            "num_leaves, val_score: 0.039159:  40%|####      | 8/20 [00:14<00:21,  1.78s/it]"
          ]
        },
        {
          "output_type": "stream",
          "name": "stdout",
          "text": [
            "Early stopping, best iteration is:\n",
            "[26]\ttrain's binary_logloss: 0.016008\teval's binary_logloss: 0.0396729\n",
            "Training until validation scores don't improve for 100 rounds\n",
            "[100]\ttrain's binary_logloss: 0.00443295\teval's binary_logloss: 0.0535693\n"
          ]
        },
        {
          "output_type": "stream",
          "name": "stderr",
          "text": [
            "num_leaves, val_score: 0.039159:  45%|####5     | 9/20 [00:15<00:17,  1.63s/it]\u001b[32m[I 2021-09-02 12:14:45,747]\u001b[0m Trial 15 finished with value: 0.03930737247136849 and parameters: {'num_leaves': 101}. Best is trial 11 with value: 0.03930635939139265.\u001b[0m\n",
            "num_leaves, val_score: 0.039159:  45%|####5     | 9/20 [00:16<00:17,  1.63s/it]"
          ]
        },
        {
          "output_type": "stream",
          "name": "stdout",
          "text": [
            "Early stopping, best iteration is:\n",
            "[26]\ttrain's binary_logloss: 0.0158609\teval's binary_logloss: 0.0393074\n",
            "Training until validation scores don't improve for 100 rounds\n",
            "[100]\ttrain's binary_logloss: 0.00439548\teval's binary_logloss: 0.0526434\n"
          ]
        },
        {
          "output_type": "stream",
          "name": "stderr",
          "text": [
            "num_leaves, val_score: 0.039159:  50%|#####     | 10/20 [00:17<00:15,  1.51s/it]\u001b[32m[I 2021-09-02 12:14:46,996]\u001b[0m Trial 16 finished with value: 0.03930856302072031 and parameters: {'num_leaves': 95}. Best is trial 11 with value: 0.03930635939139265.\u001b[0m\n",
            "num_leaves, val_score: 0.039159:  50%|#####     | 10/20 [00:17<00:15,  1.51s/it]"
          ]
        },
        {
          "output_type": "stream",
          "name": "stdout",
          "text": [
            "Early stopping, best iteration is:\n",
            "[26]\ttrain's binary_logloss: 0.0158612\teval's binary_logloss: 0.0393086\n",
            "Training until validation scores don't improve for 100 rounds\n"
          ]
        },
        {
          "output_type": "stream",
          "name": "stderr",
          "text": [
            "num_leaves, val_score: 0.039159:  55%|#####5    | 11/20 [00:17<00:11,  1.26s/it]\u001b[32m[I 2021-09-02 12:14:47,678]\u001b[0m Trial 17 finished with value: 0.03927140996659475 and parameters: {'num_leaves': 34}. Best is trial 17 with value: 0.03927140996659475.\u001b[0m\n",
            "num_leaves, val_score: 0.039159:  55%|#####5    | 11/20 [00:17<00:11,  1.26s/it]"
          ]
        },
        {
          "output_type": "stream",
          "name": "stdout",
          "text": [
            "[100]\ttrain's binary_logloss: 0.00922632\teval's binary_logloss: 0.0431853\n",
            "Early stopping, best iteration is:\n",
            "[33]\ttrain's binary_logloss: 0.0182642\teval's binary_logloss: 0.0392714\n",
            "Training until validation scores don't improve for 100 rounds\n",
            "[100]\ttrain's binary_logloss: 0.0296021\teval's binary_logloss: 0.0372587\n",
            "[200]\ttrain's binary_logloss: 0.027676\teval's binary_logloss: 0.0373933\n"
          ]
        },
        {
          "output_type": "stream",
          "name": "stderr",
          "text": [
            "num_leaves, val_score: 0.036935:  60%|######    | 12/20 [00:18<00:08,  1.01s/it]\u001b[32m[I 2021-09-02 12:14:48,132]\u001b[0m Trial 18 finished with value: 0.03693548364711469 and parameters: {'num_leaves': 3}. Best is trial 18 with value: 0.03693548364711469.\u001b[0m\n",
            "num_leaves, val_score: 0.036935:  60%|######    | 12/20 [00:18<00:08,  1.01s/it]"
          ]
        },
        {
          "output_type": "stream",
          "name": "stdout",
          "text": [
            "Early stopping, best iteration is:\n",
            "[177]\ttrain's binary_logloss: 0.0281453\teval's binary_logloss: 0.0369355\n",
            "Training until validation scores don't improve for 100 rounds\n"
          ]
        },
        {
          "output_type": "stream",
          "name": "stderr",
          "text": [
            "num_leaves, val_score: 0.036935:  65%|######5   | 13/20 [00:18<00:05,  1.22it/s]\u001b[32m[I 2021-09-02 12:14:48,493]\u001b[0m Trial 19 finished with value: 0.03882826740196543 and parameters: {'num_leaves': 6}. Best is trial 18 with value: 0.03693548364711469.\u001b[0m\n",
            "num_leaves, val_score: 0.036935:  65%|######5   | 13/20 [00:18<00:05,  1.22it/s]"
          ]
        },
        {
          "output_type": "stream",
          "name": "stdout",
          "text": [
            "[100]\ttrain's binary_logloss: 0.0251748\teval's binary_logloss: 0.0394597\n",
            "Early stopping, best iteration is:\n",
            "[36]\ttrain's binary_logloss: 0.0291863\teval's binary_logloss: 0.0388283\n",
            "Training until validation scores don't improve for 100 rounds\n",
            "[100]\ttrain's binary_logloss: 0.0237416\teval's binary_logloss: 0.0401107\n",
            "Early stopping, best iteration is:\n",
            "[37]\ttrain's binary_logloss: 0.0280253\teval's binary_logloss: 0.038721\n"
          ]
        },
        {
          "output_type": "stream",
          "name": "stderr",
          "text": [
            "num_leaves, val_score: 0.036935:  70%|#######   | 14/20 [00:19<00:04,  1.48it/s]\u001b[32m[I 2021-09-02 12:14:48,850]\u001b[0m Trial 20 finished with value: 0.038721030958343346 and parameters: {'num_leaves': 7}. Best is trial 18 with value: 0.03693548364711469.\u001b[0m\n",
            "num_leaves, val_score: 0.036935:  70%|#######   | 14/20 [00:19<00:04,  1.48it/s]"
          ]
        },
        {
          "output_type": "stream",
          "name": "stdout",
          "text": [
            "Training until validation scores don't improve for 100 rounds\n",
            "[100]\ttrain's binary_logloss: 0.00798826\teval's binary_logloss: 0.0439378\n",
            "Early stopping, best iteration is:\n",
            "[38]\ttrain's binary_logloss: 0.0159182\teval's binary_logloss: 0.0391381\n"
          ]
        },
        {
          "output_type": "stream",
          "name": "stderr",
          "text": [
            "num_leaves, val_score: 0.036935:  75%|#######5  | 15/20 [00:19<00:03,  1.41it/s]\u001b[32m[I 2021-09-02 12:14:49,641]\u001b[0m Trial 21 finished with value: 0.0391381007071096 and parameters: {'num_leaves': 40}. Best is trial 18 with value: 0.03693548364711469.\u001b[0m\n",
            "num_leaves, val_score: 0.036935:  75%|#######5  | 15/20 [00:19<00:03,  1.41it/s]"
          ]
        },
        {
          "output_type": "stream",
          "name": "stdout",
          "text": [
            "Training until validation scores don't improve for 100 rounds\n",
            "[100]\ttrain's binary_logloss: 0.0257653\teval's binary_logloss: 0.0399416\n",
            "Early stopping, best iteration is:\n",
            "[37]\ttrain's binary_logloss: 0.0297364\teval's binary_logloss: 0.0388826\n"
          ]
        },
        {
          "output_type": "stream",
          "name": "stderr",
          "text": [
            "num_leaves, val_score: 0.036935:  80%|########  | 16/20 [00:20<00:02,  1.68it/s]\u001b[32m[I 2021-09-02 12:14:49,969]\u001b[0m Trial 22 finished with value: 0.03888263630357835 and parameters: {'num_leaves': 5}. Best is trial 18 with value: 0.03693548364711469.\u001b[0m\n",
            "num_leaves, val_score: 0.036935:  80%|########  | 16/20 [00:20<00:02,  1.68it/s]"
          ]
        },
        {
          "output_type": "stream",
          "name": "stdout",
          "text": [
            "Training until validation scores don't improve for 100 rounds\n"
          ]
        },
        {
          "output_type": "stream",
          "name": "stderr",
          "text": [
            "num_leaves, val_score: 0.036935:  85%|########5 | 17/20 [00:21<00:02,  1.46it/s]\u001b[32m[I 2021-09-02 12:14:50,854]\u001b[0m Trial 23 finished with value: 0.03941749970006286 and parameters: {'num_leaves': 54}. Best is trial 18 with value: 0.03693548364711469.\u001b[0m\n",
            "num_leaves, val_score: 0.036935:  85%|########5 | 17/20 [00:21<00:02,  1.46it/s]"
          ]
        },
        {
          "output_type": "stream",
          "name": "stdout",
          "text": [
            "[100]\ttrain's binary_logloss: 0.00578954\teval's binary_logloss: 0.0465638\n",
            "Early stopping, best iteration is:\n",
            "[26]\ttrain's binary_logloss: 0.0174599\teval's binary_logloss: 0.0394175\n",
            "Training until validation scores don't improve for 100 rounds\n",
            "[100]\ttrain's binary_logloss: 0.00438222\teval's binary_logloss: 0.0522781\n"
          ]
        },
        {
          "output_type": "stream",
          "name": "stderr",
          "text": [
            "num_leaves, val_score: 0.036935:  90%|######### | 18/20 [00:22<00:02,  1.01s/it]\u001b[32m[I 2021-09-02 12:14:52,625]\u001b[0m Trial 24 finished with value: 0.039307498026907854 and parameters: {'num_leaves': 148}. Best is trial 18 with value: 0.03693548364711469.\u001b[0m\n",
            "num_leaves, val_score: 0.036935:  90%|######### | 18/20 [00:22<00:02,  1.01s/it]"
          ]
        },
        {
          "output_type": "stream",
          "name": "stdout",
          "text": [
            "Early stopping, best iteration is:\n",
            "[26]\ttrain's binary_logloss: 0.0158597\teval's binary_logloss: 0.0393075\n",
            "Training until validation scores don't improve for 100 rounds\n",
            "[100]\ttrain's binary_logloss: 0.0043822\teval's binary_logloss: 0.0522797\n"
          ]
        },
        {
          "output_type": "stream",
          "name": "stderr",
          "text": [
            "num_leaves, val_score: 0.036935:  95%|#########5| 19/20 [00:25<00:01,  1.48s/it]\u001b[32m[I 2021-09-02 12:14:55,193]\u001b[0m Trial 25 finished with value: 0.039306393363608555 and parameters: {'num_leaves': 245}. Best is trial 18 with value: 0.03693548364711469.\u001b[0m\n",
            "num_leaves, val_score: 0.036935:  95%|#########5| 19/20 [00:25<00:01,  1.48s/it]"
          ]
        },
        {
          "output_type": "stream",
          "name": "stdout",
          "text": [
            "Early stopping, best iteration is:\n",
            "[26]\ttrain's binary_logloss: 0.0158596\teval's binary_logloss: 0.0393064\n",
            "Training until validation scores don't improve for 100 rounds\n",
            "[100]\ttrain's binary_logloss: 0.00513811\teval's binary_logloss: 0.0467331\n",
            "Early stopping, best iteration is:\n",
            "[26]\ttrain's binary_logloss: 0.0167023\teval's binary_logloss: 0.0394798\n"
          ]
        },
        {
          "output_type": "stream",
          "name": "stderr",
          "text": [
            "num_leaves, val_score: 0.036935: 100%|##########| 20/20 [00:26<00:00,  1.32s/it]\u001b[32m[I 2021-09-02 12:14:56,131]\u001b[0m Trial 26 finished with value: 0.039479753721352935 and parameters: {'num_leaves': 62}. Best is trial 18 with value: 0.03693548364711469.\u001b[0m\n",
            "num_leaves, val_score: 0.036935: 100%|##########| 20/20 [00:26<00:00,  1.32s/it]\n",
            "bagging, val_score: 0.036935:   0%|          | 0/10 [00:00<?, ?it/s]"
          ]
        },
        {
          "output_type": "stream",
          "name": "stdout",
          "text": [
            "Training until validation scores don't improve for 100 rounds\n",
            "[100]\ttrain's binary_logloss: 0.0297733\teval's binary_logloss: 0.0389071\n"
          ]
        },
        {
          "output_type": "stream",
          "name": "stderr",
          "text": [
            "bagging, val_score: 0.036935:  10%|#         | 1/10 [00:00<00:06,  1.41it/s]\u001b[32m[I 2021-09-02 12:14:56,849]\u001b[0m Trial 27 finished with value: 0.03844578993580095 and parameters: {'bagging_fraction': 0.6521257762105398, 'bagging_freq': 2}. Best is trial 27 with value: 0.03844578993580095.\u001b[0m\n",
            "bagging, val_score: 0.036935:  10%|#         | 1/10 [00:00<00:06,  1.41it/s]"
          ]
        },
        {
          "output_type": "stream",
          "name": "stdout",
          "text": [
            "Early stopping, best iteration is:\n",
            "[75]\ttrain's binary_logloss: 0.0305741\teval's binary_logloss: 0.0384458\n",
            "Training until validation scores don't improve for 100 rounds\n"
          ]
        },
        {
          "output_type": "stream",
          "name": "stderr",
          "text": [
            "bagging, val_score: 0.036935:  20%|##        | 2/10 [00:01<00:04,  1.83it/s]\u001b[32m[I 2021-09-02 12:14:57,284]\u001b[0m Trial 28 finished with value: 0.039889243782495754 and parameters: {'bagging_fraction': 0.46928124184297393, 'bagging_freq': 4}. Best is trial 27 with value: 0.03844578993580095.\u001b[0m\n",
            "bagging, val_score: 0.036935:  20%|##        | 2/10 [00:01<00:04,  1.83it/s]"
          ]
        },
        {
          "output_type": "stream",
          "name": "stdout",
          "text": [
            "[100]\ttrain's binary_logloss: 0.0307391\teval's binary_logloss: 0.0439265\n",
            "Early stopping, best iteration is:\n",
            "[39]\ttrain's binary_logloss: 0.032421\teval's binary_logloss: 0.0398892\n",
            "Training until validation scores don't improve for 100 rounds\n",
            "[100]\ttrain's binary_logloss: 0.0300371\teval's binary_logloss: 0.0428222\n"
          ]
        },
        {
          "output_type": "stream",
          "name": "stderr",
          "text": [
            "bagging, val_score: 0.036935:  30%|###       | 3/10 [00:01<00:03,  2.05it/s]\u001b[32m[I 2021-09-02 12:14:57,704]\u001b[0m Trial 29 finished with value: 0.04004473543657092 and parameters: {'bagging_fraction': 0.418104440445971, 'bagging_freq': 7}. Best is trial 27 with value: 0.03844578993580095.\u001b[0m\n",
            "bagging, val_score: 0.036935:  30%|###       | 3/10 [00:01<00:03,  2.05it/s]"
          ]
        },
        {
          "output_type": "stream",
          "name": "stdout",
          "text": [
            "Early stopping, best iteration is:\n",
            "[70]\ttrain's binary_logloss: 0.0309244\teval's binary_logloss: 0.0400447\n",
            "Training until validation scores don't improve for 100 rounds\n"
          ]
        },
        {
          "output_type": "stream",
          "name": "stderr",
          "text": [
            "bagging, val_score: 0.036935:  40%|####      | 4/10 [00:01<00:02,  2.15it/s]\u001b[32m[I 2021-09-02 12:14:58,133]\u001b[0m Trial 30 finished with value: 0.03806394868239537 and parameters: {'bagging_fraction': 0.8042525380732402, 'bagging_freq': 6}. Best is trial 30 with value: 0.03806394868239537.\u001b[0m\n",
            "bagging, val_score: 0.036935:  40%|####      | 4/10 [00:01<00:02,  2.15it/s]"
          ]
        },
        {
          "output_type": "stream",
          "name": "stdout",
          "text": [
            "[100]\ttrain's binary_logloss: 0.0305244\teval's binary_logloss: 0.0387655\n",
            "Early stopping, best iteration is:\n",
            "[42]\ttrain's binary_logloss: 0.0319906\teval's binary_logloss: 0.0380639\n",
            "Training until validation scores don't improve for 100 rounds\n",
            "[100]\ttrain's binary_logloss: 0.0297007\teval's binary_logloss: 0.0388391\n"
          ]
        },
        {
          "output_type": "stream",
          "name": "stderr",
          "text": [
            "bagging, val_score: 0.036935:  50%|#####     | 5/10 [00:02<00:03,  1.54it/s]\u001b[32m[I 2021-09-02 12:14:59,111]\u001b[0m Trial 31 finished with value: 0.03839708296385575 and parameters: {'bagging_fraction': 0.9646143830794802, 'bagging_freq': 2}. Best is trial 30 with value: 0.03806394868239537.\u001b[0m\n",
            "bagging, val_score: 0.036935:  50%|#####     | 5/10 [00:02<00:03,  1.54it/s]"
          ]
        },
        {
          "output_type": "stream",
          "name": "stdout",
          "text": [
            "[200]\ttrain's binary_logloss: 0.0274617\teval's binary_logloss: 0.039453\n",
            "Early stopping, best iteration is:\n",
            "[142]\ttrain's binary_logloss: 0.0286267\teval's binary_logloss: 0.0383971\n",
            "Training until validation scores don't improve for 100 rounds\n",
            "[100]\ttrain's binary_logloss: 0.0297935\teval's binary_logloss: 0.0393773\n"
          ]
        },
        {
          "output_type": "stream",
          "name": "stderr",
          "text": [
            "bagging, val_score: 0.036935:  60%|######    | 6/10 [00:03<00:02,  1.53it/s]\u001b[32m[I 2021-09-02 12:14:59,765]\u001b[0m Trial 32 finished with value: 0.03854562136015192 and parameters: {'bagging_fraction': 0.9066958485722262, 'bagging_freq': 7}. Best is trial 30 with value: 0.03806394868239537.\u001b[0m\n",
            "bagging, val_score: 0.036935:  60%|######    | 6/10 [00:03<00:02,  1.53it/s]"
          ]
        },
        {
          "output_type": "stream",
          "name": "stdout",
          "text": [
            "[200]\ttrain's binary_logloss: 0.0275406\teval's binary_logloss: 0.0388857\n",
            "Early stopping, best iteration is:\n",
            "[169]\ttrain's binary_logloss: 0.028136\teval's binary_logloss: 0.0385456\n",
            "Training until validation scores don't improve for 100 rounds\n",
            "[100]\ttrain's binary_logloss: 0.0297768\teval's binary_logloss: 0.0389904\n"
          ]
        },
        {
          "output_type": "stream",
          "name": "stderr",
          "text": [
            "bagging, val_score: 0.036935:  70%|#######   | 7/10 [00:04<00:01,  1.62it/s]\u001b[32m[I 2021-09-02 12:15:00,310]\u001b[0m Trial 33 finished with value: 0.038686065976959956 and parameters: {'bagging_fraction': 0.5440247064357141, 'bagging_freq': 5}. Best is trial 30 with value: 0.03806394868239537.\u001b[0m\n",
            "bagging, val_score: 0.036935:  70%|#######   | 7/10 [00:04<00:01,  1.62it/s]"
          ]
        },
        {
          "output_type": "stream",
          "name": "stdout",
          "text": [
            "[200]\ttrain's binary_logloss: 0.0296741\teval's binary_logloss: 0.0486195\n",
            "Early stopping, best iteration is:\n",
            "[114]\ttrain's binary_logloss: 0.0294401\teval's binary_logloss: 0.0386861\n",
            "Training until validation scores don't improve for 100 rounds\n"
          ]
        },
        {
          "output_type": "stream",
          "name": "stderr",
          "text": [
            "bagging, val_score: 0.036935:  80%|########  | 8/10 [00:04<00:01,  1.88it/s]\u001b[32m[I 2021-09-02 12:15:00,662]\u001b[0m Trial 34 finished with value: 0.038351385356940916 and parameters: {'bagging_fraction': 0.5193277668729681, 'bagging_freq': 1}. Best is trial 30 with value: 0.03806394868239537.\u001b[0m\n",
            "bagging, val_score: 0.036935:  80%|########  | 8/10 [00:04<00:01,  1.88it/s]"
          ]
        },
        {
          "output_type": "stream",
          "name": "stdout",
          "text": [
            "[100]\ttrain's binary_logloss: 0.02941\teval's binary_logloss: 0.0389138\n",
            "Early stopping, best iteration is:\n",
            "[70]\ttrain's binary_logloss: 0.030685\teval's binary_logloss: 0.0383514\n",
            "Training until validation scores don't improve for 100 rounds\n",
            "[100]\ttrain's binary_logloss: 0.0296846\teval's binary_logloss: 0.0389349\n"
          ]
        },
        {
          "output_type": "stream",
          "name": "stderr",
          "text": [
            "bagging, val_score: 0.036935:  90%|######### | 9/10 [00:05<00:00,  1.77it/s]\u001b[32m[I 2021-09-02 12:15:01,295]\u001b[0m Trial 35 finished with value: 0.038363079651534356 and parameters: {'bagging_fraction': 0.940700789421055, 'bagging_freq': 7}. Best is trial 30 with value: 0.03806394868239537.\u001b[0m\n",
            "bagging, val_score: 0.036935:  90%|######### | 9/10 [00:05<00:00,  1.77it/s]"
          ]
        },
        {
          "output_type": "stream",
          "name": "stdout",
          "text": [
            "[200]\ttrain's binary_logloss: 0.0279721\teval's binary_logloss: 0.0401552\n",
            "Early stopping, best iteration is:\n",
            "[164]\ttrain's binary_logloss: 0.028339\teval's binary_logloss: 0.0383631\n"
          ]
        },
        {
          "output_type": "stream",
          "name": "stderr",
          "text": [
            "bagging, val_score: 0.036935: 100%|##########| 10/10 [00:05<00:00,  2.07it/s]\u001b[32m[I 2021-09-02 12:15:01,598]\u001b[0m Trial 36 finished with value: 0.038372062234990935 and parameters: {'bagging_fraction': 0.5872894762049327, 'bagging_freq': 1}. Best is trial 30 with value: 0.03806394868239537.\u001b[0m\n",
            "bagging, val_score: 0.036935: 100%|##########| 10/10 [00:05<00:00,  1.83it/s]\n"
          ]
        },
        {
          "output_type": "stream",
          "name": "stdout",
          "text": [
            "Training until validation scores don't improve for 100 rounds\n",
            "[100]\ttrain's binary_logloss: 0.0319309\teval's binary_logloss: 0.0430789\n",
            "Early stopping, best iteration is:\n",
            "[40]\ttrain's binary_logloss: 0.0323772\teval's binary_logloss: 0.0383721\n"
          ]
        },
        {
          "output_type": "stream",
          "name": "stderr",
          "text": [
            "feature_fraction_stage2, val_score: 0.036935:   0%|          | 0/6 [00:00<?, ?it/s]"
          ]
        },
        {
          "output_type": "stream",
          "name": "stdout",
          "text": [
            "Training until validation scores don't improve for 100 rounds\n",
            "[100]\ttrain's binary_logloss: 0.0295592\teval's binary_logloss: 0.0374788\n",
            "[200]\ttrain's binary_logloss: 0.0279942\teval's binary_logloss: 0.0387385\n"
          ]
        },
        {
          "output_type": "stream",
          "name": "stderr",
          "text": [
            "feature_fraction_stage2, val_score: 0.036935:  17%|#6        | 1/6 [00:00<00:01,  2.68it/s]\u001b[32m[I 2021-09-02 12:15:01,983]\u001b[0m Trial 37 finished with value: 0.03732865888590155 and parameters: {'feature_fraction': 0.42}. Best is trial 37 with value: 0.03732865888590155.\u001b[0m\n",
            "feature_fraction_stage2, val_score: 0.036935:  17%|#6        | 1/6 [00:00<00:01,  2.68it/s]"
          ]
        },
        {
          "output_type": "stream",
          "name": "stdout",
          "text": [
            "Early stopping, best iteration is:\n",
            "[115]\ttrain's binary_logloss: 0.0292643\teval's binary_logloss: 0.0373287\n",
            "Training until validation scores don't improve for 100 rounds\n",
            "[100]\ttrain's binary_logloss: 0.0296021\teval's binary_logloss: 0.0372587\n",
            "[200]\ttrain's binary_logloss: 0.027676\teval's binary_logloss: 0.0373933\n",
            "Early stopping, best iteration is:\n",
            "[177]\ttrain's binary_logloss: 0.0281453\teval's binary_logloss: 0.0369355\n"
          ]
        },
        {
          "output_type": "stream",
          "name": "stderr",
          "text": [
            "feature_fraction_stage2, val_score: 0.036935:  33%|###3      | 2/6 [00:00<00:01,  2.40it/s]\u001b[32m[I 2021-09-02 12:15:02,430]\u001b[0m Trial 38 finished with value: 0.036935479859333355 and parameters: {'feature_fraction': 0.516}. Best is trial 38 with value: 0.036935479859333355.\u001b[0m\n",
            "feature_fraction_stage2, val_score: 0.036935:  33%|###3      | 2/6 [00:00<00:01,  2.40it/s]"
          ]
        },
        {
          "output_type": "stream",
          "name": "stdout",
          "text": [
            "Training until validation scores don't improve for 100 rounds\n",
            "[100]\ttrain's binary_logloss: 0.0295592\teval's binary_logloss: 0.0374788\n",
            "[200]\ttrain's binary_logloss: 0.0279942\teval's binary_logloss: 0.0387385\n"
          ]
        },
        {
          "output_type": "stream",
          "name": "stderr",
          "text": [
            "feature_fraction_stage2, val_score: 0.036935:  50%|#####     | 3/6 [00:01<00:01,  2.52it/s]\u001b[32m[I 2021-09-02 12:15:02,805]\u001b[0m Trial 39 finished with value: 0.037328673345535385 and parameters: {'feature_fraction': 0.484}. Best is trial 38 with value: 0.036935479859333355.\u001b[0m\n",
            "feature_fraction_stage2, val_score: 0.036935:  50%|#####     | 3/6 [00:01<00:01,  2.52it/s]"
          ]
        },
        {
          "output_type": "stream",
          "name": "stdout",
          "text": [
            "Early stopping, best iteration is:\n",
            "[115]\ttrain's binary_logloss: 0.0292644\teval's binary_logloss: 0.0373287\n",
            "Training until validation scores don't improve for 100 rounds\n",
            "[100]\ttrain's binary_logloss: 0.0296021\teval's binary_logloss: 0.0372587\n",
            "[200]\ttrain's binary_logloss: 0.027676\teval's binary_logloss: 0.0373933\n",
            "Early stopping, best iteration is:\n",
            "[177]\ttrain's binary_logloss: 0.0281453\teval's binary_logloss: 0.0369355\n"
          ]
        },
        {
          "output_type": "stream",
          "name": "stderr",
          "text": [
            "feature_fraction_stage2, val_score: 0.036935:  67%|######6   | 4/6 [00:01<00:00,  2.42it/s]\u001b[32m[I 2021-09-02 12:15:03,249]\u001b[0m Trial 40 finished with value: 0.03693549781983366 and parameters: {'feature_fraction': 0.58}. Best is trial 38 with value: 0.036935479859333355.\u001b[0m\n",
            "feature_fraction_stage2, val_score: 0.036935:  67%|######6   | 4/6 [00:01<00:00,  2.42it/s]"
          ]
        },
        {
          "output_type": "stream",
          "name": "stdout",
          "text": [
            "Training until validation scores don't improve for 100 rounds\n",
            "[100]\ttrain's binary_logloss: 0.0296021\teval's binary_logloss: 0.0372587\n"
          ]
        },
        {
          "output_type": "stream",
          "name": "stderr",
          "text": [
            "feature_fraction_stage2, val_score: 0.036935:  83%|########3 | 5/6 [00:02<00:00,  2.33it/s]\u001b[32m[I 2021-09-02 12:15:03,702]\u001b[0m Trial 41 finished with value: 0.036935492441409645 and parameters: {'feature_fraction': 0.5479999999999999}. Best is trial 38 with value: 0.036935479859333355.\u001b[0m\n",
            "feature_fraction_stage2, val_score: 0.036935:  83%|########3 | 5/6 [00:02<00:00,  2.33it/s]"
          ]
        },
        {
          "output_type": "stream",
          "name": "stdout",
          "text": [
            "[200]\ttrain's binary_logloss: 0.027676\teval's binary_logloss: 0.0373933\n",
            "Early stopping, best iteration is:\n",
            "[177]\ttrain's binary_logloss: 0.0281453\teval's binary_logloss: 0.0369355\n",
            "Training until validation scores don't improve for 100 rounds\n",
            "[100]\ttrain's binary_logloss: 0.029543\teval's binary_logloss: 0.0374889\n",
            "Early stopping, best iteration is:\n",
            "[91]\ttrain's binary_logloss: 0.0298306\teval's binary_logloss: 0.0373208\n"
          ]
        },
        {
          "output_type": "stream",
          "name": "stderr",
          "text": [
            "feature_fraction_stage2, val_score: 0.036935: 100%|##########| 6/6 [00:02<00:00,  2.49it/s]\u001b[32m[I 2021-09-02 12:15:04,050]\u001b[0m Trial 42 finished with value: 0.03732076201936455 and parameters: {'feature_fraction': 0.45199999999999996}. Best is trial 38 with value: 0.036935479859333355.\u001b[0m\n",
            "feature_fraction_stage2, val_score: 0.036935: 100%|##########| 6/6 [00:02<00:00,  2.45it/s]\n",
            "regularization_factors, val_score: 0.036935:   5%|5         | 1/20 [00:00<00:05,  3.20it/s]\u001b[32m[I 2021-09-02 12:15:04,374]\u001b[0m Trial 43 finished with value: 0.03858168848444308 and parameters: {'lambda_l1': 4.228206714283995, 'lambda_l2': 1.7067685613095722e-06}. Best is trial 43 with value: 0.03858168848444308.\u001b[0m\n",
            "regularization_factors, val_score: 0.036935:   5%|5         | 1/20 [00:00<00:05,  3.20it/s]"
          ]
        },
        {
          "output_type": "stream",
          "name": "stdout",
          "text": [
            "Training until validation scores don't improve for 100 rounds\n",
            "[100]\ttrain's binary_logloss: 0.0307998\teval's binary_logloss: 0.0386807\n",
            "Early stopping, best iteration is:\n",
            "[56]\ttrain's binary_logloss: 0.0317177\teval's binary_logloss: 0.0385817\n"
          ]
        },
        {
          "output_type": "stream",
          "name": "stderr",
          "text": [
            "regularization_factors, val_score: 0.036935:  10%|#         | 2/20 [00:00<00:05,  3.16it/s]\u001b[32m[I 2021-09-02 12:15:04,694]\u001b[0m Trial 44 finished with value: 0.038336828303919816 and parameters: {'lambda_l1': 3.516846527564132, 'lambda_l2': 0.009358815878593885}. Best is trial 44 with value: 0.038336828303919816.\u001b[0m\n",
            "regularization_factors, val_score: 0.036935:  10%|#         | 2/20 [00:00<00:05,  3.16it/s]"
          ]
        },
        {
          "output_type": "stream",
          "name": "stdout",
          "text": [
            "Training until validation scores don't improve for 100 rounds\n",
            "[100]\ttrain's binary_logloss: 0.0306714\teval's binary_logloss: 0.0384702\n",
            "Early stopping, best iteration is:\n",
            "[68]\ttrain's binary_logloss: 0.0312472\teval's binary_logloss: 0.0383368\n",
            "Training until validation scores don't improve for 100 rounds\n",
            "[100]\ttrain's binary_logloss: 0.02992\teval's binary_logloss: 0.0378973\n",
            "[200]\ttrain's binary_logloss: 0.028153\teval's binary_logloss: 0.0376689\n"
          ]
        },
        {
          "output_type": "stream",
          "name": "stderr",
          "text": [
            "regularization_factors, val_score: 0.036935:  15%|#5        | 3/20 [00:01<00:06,  2.72it/s]\u001b[32m[I 2021-09-02 12:15:05,124]\u001b[0m Trial 45 finished with value: 0.037573918124715146 and parameters: {'lambda_l1': 5.316062323597251e-05, 'lambda_l2': 0.20806723331033877}. Best is trial 45 with value: 0.037573918124715146.\u001b[0m\n",
            "regularization_factors, val_score: 0.036935:  15%|#5        | 3/20 [00:01<00:06,  2.72it/s]"
          ]
        },
        {
          "output_type": "stream",
          "name": "stdout",
          "text": [
            "Early stopping, best iteration is:\n",
            "[155]\ttrain's binary_logloss: 0.0289045\teval's binary_logloss: 0.0375739\n",
            "Training until validation scores don't improve for 100 rounds\n",
            "[100]\ttrain's binary_logloss: 0.029602\teval's binary_logloss: 0.0372584\n"
          ]
        },
        {
          "output_type": "stream",
          "name": "stderr",
          "text": [
            "regularization_factors, val_score: 0.036839:  20%|##        | 4/20 [00:01<00:06,  2.49it/s]\u001b[32m[I 2021-09-02 12:15:05,577]\u001b[0m Trial 46 finished with value: 0.03683941801838301 and parameters: {'lambda_l1': 7.574456653518001e-05, 'lambda_l2': 1.4757211080429927e-05}. Best is trial 46 with value: 0.03683941801838301.\u001b[0m\n",
            "regularization_factors, val_score: 0.036839:  20%|##        | 4/20 [00:01<00:06,  2.49it/s]"
          ]
        },
        {
          "output_type": "stream",
          "name": "stdout",
          "text": [
            "[200]\ttrain's binary_logloss: 0.0276478\teval's binary_logloss: 0.0370797\n",
            "Early stopping, best iteration is:\n",
            "[172]\ttrain's binary_logloss: 0.0282208\teval's binary_logloss: 0.0368394\n",
            "Training until validation scores don't improve for 100 rounds\n",
            "[100]\ttrain's binary_logloss: 0.0296021\teval's binary_logloss: 0.0372587\n"
          ]
        },
        {
          "output_type": "stream",
          "name": "stderr",
          "text": [
            "regularization_factors, val_score: 0.036839:  25%|##5       | 5/20 [00:01<00:06,  2.37it/s]\u001b[32m[I 2021-09-02 12:15:06,032]\u001b[0m Trial 47 finished with value: 0.03693546375242366 and parameters: {'lambda_l1': 7.744733542106714e-07, 'lambda_l2': 2.085189458617677e-06}. Best is trial 46 with value: 0.03683941801838301.\u001b[0m\n",
            "regularization_factors, val_score: 0.036839:  25%|##5       | 5/20 [00:01<00:06,  2.37it/s]"
          ]
        },
        {
          "output_type": "stream",
          "name": "stdout",
          "text": [
            "[200]\ttrain's binary_logloss: 0.027676\teval's binary_logloss: 0.0373931\n",
            "Early stopping, best iteration is:\n",
            "[177]\ttrain's binary_logloss: 0.0281454\teval's binary_logloss: 0.0369355\n",
            "Training until validation scores don't improve for 100 rounds\n",
            "[100]\ttrain's binary_logloss: 0.0296557\teval's binary_logloss: 0.0375309\n",
            "[200]\ttrain's binary_logloss: 0.0276964\teval's binary_logloss: 0.0371352\n"
          ]
        },
        {
          "output_type": "stream",
          "name": "stderr",
          "text": [
            "regularization_factors, val_score: 0.036839:  30%|###       | 6/20 [00:02<00:05,  2.34it/s]\u001b[32m[I 2021-09-02 12:15:06,469]\u001b[0m Trial 48 finished with value: 0.03703804310304383 and parameters: {'lambda_l1': 0.04335499944578481, 'lambda_l2': 6.595326206967734e-07}. Best is trial 46 with value: 0.03683941801838301.\u001b[0m\n",
            "regularization_factors, val_score: 0.036839:  30%|###       | 6/20 [00:02<00:05,  2.34it/s]"
          ]
        },
        {
          "output_type": "stream",
          "name": "stdout",
          "text": [
            "Early stopping, best iteration is:\n",
            "[174]\ttrain's binary_logloss: 0.028195\teval's binary_logloss: 0.037038\n",
            "Training until validation scores don't improve for 100 rounds\n",
            "[100]\ttrain's binary_logloss: 0.0300766\teval's binary_logloss: 0.0387596\n",
            "[200]\ttrain's binary_logloss: 0.0284833\teval's binary_logloss: 0.0382875\n"
          ]
        },
        {
          "output_type": "stream",
          "name": "stderr",
          "text": [
            "regularization_factors, val_score: 0.036839:  35%|###5      | 7/20 [00:02<00:05,  2.24it/s]\u001b[32m[I 2021-09-02 12:15:06,956]\u001b[0m Trial 49 finished with value: 0.03824554361137078 and parameters: {'lambda_l1': 0.0038056705407657513, 'lambda_l2': 0.4914503248002352}. Best is trial 46 with value: 0.03683941801838301.\u001b[0m\n",
            "regularization_factors, val_score: 0.036839:  35%|###5      | 7/20 [00:02<00:05,  2.24it/s]"
          ]
        },
        {
          "output_type": "stream",
          "name": "stdout",
          "text": [
            "[300]\ttrain's binary_logloss: 0.0272724\teval's binary_logloss: 0.0384745\n",
            "Early stopping, best iteration is:\n",
            "[218]\ttrain's binary_logloss: 0.0282803\teval's binary_logloss: 0.0382455\n",
            "Training until validation scores don't improve for 100 rounds\n"
          ]
        },
        {
          "output_type": "stream",
          "name": "stderr",
          "text": [
            "regularization_factors, val_score: 0.036839:  40%|####      | 8/20 [00:03<00:05,  2.37it/s]\u001b[32m[I 2021-09-02 12:15:07,326]\u001b[0m Trial 50 finished with value: 0.038573007667276976 and parameters: {'lambda_l1': 7.853065210573999e-06, 'lambda_l2': 5.245187382992555}. Best is trial 46 with value: 0.03683941801838301.\u001b[0m\n",
            "regularization_factors, val_score: 0.036839:  40%|####      | 8/20 [00:03<00:05,  2.37it/s]"
          ]
        },
        {
          "output_type": "stream",
          "name": "stdout",
          "text": [
            "[100]\ttrain's binary_logloss: 0.0304527\teval's binary_logloss: 0.0386146\n",
            "[200]\ttrain's binary_logloss: 0.029425\teval's binary_logloss: 0.038787\n",
            "Early stopping, best iteration is:\n",
            "[117]\ttrain's binary_logloss: 0.0302368\teval's binary_logloss: 0.038573\n",
            "Training until validation scores don't improve for 100 rounds\n",
            "[100]\ttrain's binary_logloss: 0.0301484\teval's binary_logloss: 0.0388287\n",
            "[200]\ttrain's binary_logloss: 0.0285238\teval's binary_logloss: 0.0384614\n",
            "[300]\ttrain's binary_logloss: 0.0274999\teval's binary_logloss: 0.0384638\n",
            "[400]\ttrain's binary_logloss: 0.0264356\teval's binary_logloss: 0.0384377\n"
          ]
        },
        {
          "output_type": "stream",
          "name": "stderr",
          "text": [
            "regularization_factors, val_score: 0.036839:  45%|####5     | 9/20 [00:03<00:05,  2.06it/s]\u001b[32m[I 2021-09-02 12:15:07,954]\u001b[0m Trial 51 finished with value: 0.038347130527542 and parameters: {'lambda_l1': 0.00010357178168518598, 'lambda_l2': 0.7632081305107585}. Best is trial 46 with value: 0.03683941801838301.\u001b[0m\n",
            "regularization_factors, val_score: 0.036839:  45%|####5     | 9/20 [00:03<00:05,  2.06it/s]"
          ]
        },
        {
          "output_type": "stream",
          "name": "stdout",
          "text": [
            "Early stopping, best iteration is:\n",
            "[341]\ttrain's binary_logloss: 0.0270604\teval's binary_logloss: 0.0383471\n",
            "Training until validation scores don't improve for 100 rounds\n"
          ]
        },
        {
          "output_type": "stream",
          "name": "stderr",
          "text": [
            "regularization_factors, val_score: 0.036839:  50%|#####     | 10/20 [00:04<00:04,  2.17it/s]\u001b[32m[I 2021-09-02 12:15:08,361]\u001b[0m Trial 52 finished with value: 0.03705503260097403 and parameters: {'lambda_l1': 1.13734839213136e-06, 'lambda_l2': 0.00018822692326532636}. Best is trial 46 with value: 0.03683941801838301.\u001b[0m\n",
            "regularization_factors, val_score: 0.036839:  50%|#####     | 10/20 [00:04<00:04,  2.17it/s]"
          ]
        },
        {
          "output_type": "stream",
          "name": "stdout",
          "text": [
            "[100]\ttrain's binary_logloss: 0.0295987\teval's binary_logloss: 0.0373035\n",
            "[200]\ttrain's binary_logloss: 0.0276575\teval's binary_logloss: 0.0371741\n",
            "Early stopping, best iteration is:\n",
            "[151]\ttrain's binary_logloss: 0.0285623\teval's binary_logloss: 0.037055\n",
            "Training until validation scores don't improve for 100 rounds\n",
            "[100]\ttrain's binary_logloss: 0.0296021\teval's binary_logloss: 0.0372587\n",
            "[200]\ttrain's binary_logloss: 0.027676\teval's binary_logloss: 0.0373933\n"
          ]
        },
        {
          "output_type": "stream",
          "name": "stderr",
          "text": [
            "regularization_factors, val_score: 0.036839:  55%|#####5    | 11/20 [00:04<00:04,  2.18it/s]\u001b[32m[I 2021-09-02 12:15:08,812]\u001b[0m Trial 53 finished with value: 0.036935480839798744 and parameters: {'lambda_l1': 1.1374290983876878e-08, 'lambda_l2': 1.1665352823188197e-08}. Best is trial 46 with value: 0.03683941801838301.\u001b[0m\n",
            "regularization_factors, val_score: 0.036839:  55%|#####5    | 11/20 [00:04<00:04,  2.18it/s]"
          ]
        },
        {
          "output_type": "stream",
          "name": "stdout",
          "text": [
            "Early stopping, best iteration is:\n",
            "[177]\ttrain's binary_logloss: 0.0281453\teval's binary_logloss: 0.0369355\n",
            "Training until validation scores don't improve for 100 rounds\n"
          ]
        },
        {
          "output_type": "stream",
          "name": "stderr",
          "text": [
            "regularization_factors, val_score: 0.036839:  60%|######    | 12/20 [00:05<00:03,  2.20it/s]"
          ]
        },
        {
          "output_type": "stream",
          "name": "stdout",
          "text": [
            "[100]\ttrain's binary_logloss: 0.0296068\teval's binary_logloss: 0.0373076\n",
            "[200]\ttrain's binary_logloss: 0.0276548\teval's binary_logloss: 0.0371483\n",
            "Early stopping, best iteration is:\n",
            "[165]\ttrain's binary_logloss: 0.0282843\teval's binary_logloss: 0.0369532\n"
          ]
        },
        {
          "output_type": "stream",
          "name": "stderr",
          "text": [
            "\u001b[32m[I 2021-09-02 12:15:09,264]\u001b[0m Trial 54 finished with value: 0.03695317890837546 and parameters: {'lambda_l1': 2.3238539782592185e-07, 'lambda_l2': 3.847060353815261e-05}. Best is trial 46 with value: 0.03683941801838301.\u001b[0m\n",
            "regularization_factors, val_score: 0.036839:  60%|######    | 12/20 [00:05<00:03,  2.20it/s]"
          ]
        },
        {
          "output_type": "stream",
          "name": "stdout",
          "text": [
            "Training until validation scores don't improve for 100 rounds\n",
            "[100]\ttrain's binary_logloss: 0.0296075\teval's binary_logloss: 0.0373082\n"
          ]
        },
        {
          "output_type": "stream",
          "name": "stderr",
          "text": [
            "regularization_factors, val_score: 0.036839:  65%|######5   | 13/20 [00:05<00:03,  2.18it/s]\u001b[32m[I 2021-09-02 12:15:09,722]\u001b[0m Trial 55 finished with value: 0.036942679126412 and parameters: {'lambda_l1': 0.0016225467164051903, 'lambda_l2': 3.952331516891216e-06}. Best is trial 46 with value: 0.03683941801838301.\u001b[0m\n",
            "regularization_factors, val_score: 0.036839:  65%|######5   | 13/20 [00:05<00:03,  2.18it/s]"
          ]
        },
        {
          "output_type": "stream",
          "name": "stdout",
          "text": [
            "[200]\ttrain's binary_logloss: 0.0275849\teval's binary_logloss: 0.0372272\n",
            "Early stopping, best iteration is:\n",
            "[171]\ttrain's binary_logloss: 0.0281567\teval's binary_logloss: 0.0369427\n",
            "Training until validation scores don't improve for 100 rounds\n",
            "[100]\ttrain's binary_logloss: 0.0296021\teval's binary_logloss: 0.0372587\n",
            "[200]\ttrain's binary_logloss: 0.027676\teval's binary_logloss: 0.0373933\n"
          ]
        },
        {
          "output_type": "stream",
          "name": "stderr",
          "text": [
            "regularization_factors, val_score: 0.036839:  70%|#######   | 14/20 [00:06<00:02,  2.20it/s]\u001b[32m[I 2021-09-02 12:15:10,172]\u001b[0m Trial 56 finished with value: 0.03693548965185683 and parameters: {'lambda_l1': 1.0979626417150869e-07, 'lambda_l2': 5.1710572878609516e-08}. Best is trial 46 with value: 0.03683941801838301.\u001b[0m\n",
            "regularization_factors, val_score: 0.036839:  70%|#######   | 14/20 [00:06<00:02,  2.20it/s]"
          ]
        },
        {
          "output_type": "stream",
          "name": "stdout",
          "text": [
            "Early stopping, best iteration is:\n",
            "[177]\ttrain's binary_logloss: 0.0281453\teval's binary_logloss: 0.0369355\n",
            "Training until validation scores don't improve for 100 rounds\n"
          ]
        },
        {
          "output_type": "stream",
          "name": "stderr",
          "text": [
            "regularization_factors, val_score: 0.036839:  75%|#######5  | 15/20 [00:06<00:02,  2.26it/s]\u001b[32m[I 2021-09-02 12:15:10,588]\u001b[0m Trial 57 finished with value: 0.037242580862463424 and parameters: {'lambda_l1': 3.177643374375105e-06, 'lambda_l2': 0.0029539844391231968}. Best is trial 46 with value: 0.03683941801838301.\u001b[0m\n",
            "regularization_factors, val_score: 0.036839:  75%|#######5  | 15/20 [00:06<00:02,  2.26it/s]"
          ]
        },
        {
          "output_type": "stream",
          "name": "stdout",
          "text": [
            "[100]\ttrain's binary_logloss: 0.029613\teval's binary_logloss: 0.0374818\n",
            "[200]\ttrain's binary_logloss: 0.0277071\teval's binary_logloss: 0.0375132\n",
            "Early stopping, best iteration is:\n",
            "[138]\ttrain's binary_logloss: 0.0288971\teval's binary_logloss: 0.0372426\n",
            "Training until validation scores don't improve for 100 rounds\n",
            "[100]\ttrain's binary_logloss: 0.0296237\teval's binary_logloss: 0.0373193\n"
          ]
        },
        {
          "output_type": "stream",
          "name": "stderr",
          "text": [
            "regularization_factors, val_score: 0.036839:  80%|########  | 16/20 [00:06<00:01,  2.32it/s]\u001b[32m[I 2021-09-02 12:15:10,991]\u001b[0m Trial 58 finished with value: 0.03712276019429029 and parameters: {'lambda_l1': 1.82732528577407e-05, 'lambda_l2': 2.8809113368472712e-05}. Best is trial 46 with value: 0.03683941801838301.\u001b[0m\n",
            "regularization_factors, val_score: 0.036839:  80%|########  | 16/20 [00:06<00:01,  2.32it/s]"
          ]
        },
        {
          "output_type": "stream",
          "name": "stdout",
          "text": [
            "[200]\ttrain's binary_logloss: 0.0279106\teval's binary_logloss: 0.0394566\n",
            "Early stopping, best iteration is:\n",
            "[122]\ttrain's binary_logloss: 0.0291197\teval's binary_logloss: 0.0371228\n",
            "Training until validation scores don't improve for 100 rounds\n",
            "[100]\ttrain's binary_logloss: 0.0296862\teval's binary_logloss: 0.0373731\n",
            "[200]\ttrain's binary_logloss: 0.0277878\teval's binary_logloss: 0.0373302\n",
            "Early stopping, best iteration is:\n",
            "[154]\ttrain's binary_logloss: 0.0286106\teval's binary_logloss: 0.0370386\n"
          ]
        },
        {
          "output_type": "stream",
          "name": "stderr",
          "text": [
            "regularization_factors, val_score: 0.036839:  85%|########5 | 17/20 [00:07<00:01,  2.30it/s]\u001b[32m[I 2021-09-02 12:15:11,433]\u001b[0m Trial 59 finished with value: 0.037038556881318595 and parameters: {'lambda_l1': 0.05213335984866681, 'lambda_l2': 1.854680644504117e-07}. Best is trial 46 with value: 0.03683941801838301.\u001b[0m\n",
            "regularization_factors, val_score: 0.036839:  85%|########5 | 17/20 [00:07<00:01,  2.30it/s]"
          ]
        },
        {
          "output_type": "stream",
          "name": "stdout",
          "text": [
            "Training until validation scores don't improve for 100 rounds\n",
            "[100]\ttrain's binary_logloss: 0.0296809\teval's binary_logloss: 0.0375514\n"
          ]
        },
        {
          "output_type": "stream",
          "name": "stderr",
          "text": [
            "regularization_factors, val_score: 0.036839:  90%|######### | 18/20 [00:07<00:00,  2.31it/s]\u001b[32m[I 2021-09-02 12:15:11,864]\u001b[0m Trial 60 finished with value: 0.037215962839500086 and parameters: {'lambda_l1': 0.0008326840160570436, 'lambda_l2': 0.0018648399697414027}. Best is trial 46 with value: 0.03683941801838301.\u001b[0m\n",
            "regularization_factors, val_score: 0.036839:  90%|######### | 18/20 [00:07<00:00,  2.31it/s]"
          ]
        },
        {
          "output_type": "stream",
          "name": "stdout",
          "text": [
            "[200]\ttrain's binary_logloss: 0.0276789\teval's binary_logloss: 0.0377349\n",
            "Early stopping, best iteration is:\n",
            "[138]\ttrain's binary_logloss: 0.028857\teval's binary_logloss: 0.037216\n",
            "Training until validation scores don't improve for 100 rounds\n",
            "[100]\ttrain's binary_logloss: 0.0296019\teval's binary_logloss: 0.0372584\n",
            "[200]\ttrain's binary_logloss: 0.0276477\teval's binary_logloss: 0.0370797\n"
          ]
        },
        {
          "output_type": "stream",
          "name": "stderr",
          "text": [
            "regularization_factors, val_score: 0.036839:  95%|#########5| 19/20 [00:08<00:00,  2.30it/s]\u001b[32m[I 2021-09-02 12:15:12,306]\u001b[0m Trial 61 finished with value: 0.03683943864148304 and parameters: {'lambda_l1': 1.0811793568051404e-08, 'lambda_l2': 1.6330793874539025e-05}. Best is trial 46 with value: 0.03683941801838301.\u001b[0m\n",
            "regularization_factors, val_score: 0.036839:  95%|#########5| 19/20 [00:08<00:00,  2.30it/s]"
          ]
        },
        {
          "output_type": "stream",
          "name": "stdout",
          "text": [
            "Early stopping, best iteration is:\n",
            "[172]\ttrain's binary_logloss: 0.0282207\teval's binary_logloss: 0.0368394\n",
            "Training until validation scores don't improve for 100 rounds\n",
            "[100]\ttrain's binary_logloss: 0.0296019\teval's binary_logloss: 0.0372583\n",
            "[200]\ttrain's binary_logloss: 0.0276478\teval's binary_logloss: 0.0370796\n",
            "Early stopping, best iteration is:\n",
            "[172]\ttrain's binary_logloss: 0.0282208\teval's binary_logloss: 0.0368393\n"
          ]
        },
        {
          "output_type": "stream",
          "name": "stderr",
          "text": [
            "regularization_factors, val_score: 0.036839: 100%|##########| 20/20 [00:08<00:00,  2.27it/s]\u001b[32m[I 2021-09-02 12:15:12,759]\u001b[0m Trial 62 finished with value: 0.036839336207317976 and parameters: {'lambda_l1': 1.3826846814253365e-08, 'lambda_l2': 2.218127318379021e-05}. Best is trial 62 with value: 0.036839336207317976.\u001b[0m\n",
            "regularization_factors, val_score: 0.036839: 100%|##########| 20/20 [00:08<00:00,  2.30it/s]\n",
            "min_data_in_leaf, val_score: 0.036839:   0%|          | 0/5 [00:00<?, ?it/s]"
          ]
        },
        {
          "output_type": "stream",
          "name": "stdout",
          "text": [
            "Training until validation scores don't improve for 100 rounds\n",
            "[100]\ttrain's binary_logloss: 0.0293964\teval's binary_logloss: 0.0374869\n"
          ]
        },
        {
          "output_type": "stream",
          "name": "stderr",
          "text": [
            "min_data_in_leaf, val_score: 0.036839:  20%|##        | 1/5 [00:00<00:01,  2.57it/s]\u001b[32m[I 2021-09-02 12:15:13,165]\u001b[0m Trial 63 finished with value: 0.03737710113645178 and parameters: {'min_child_samples': 10}. Best is trial 63 with value: 0.03737710113645178.\u001b[0m\n",
            "min_data_in_leaf, val_score: 0.036839:  20%|##        | 1/5 [00:00<00:01,  2.57it/s]"
          ]
        },
        {
          "output_type": "stream",
          "name": "stdout",
          "text": [
            "[200]\ttrain's binary_logloss: 0.0274325\teval's binary_logloss: 0.0376029\n",
            "Early stopping, best iteration is:\n",
            "[109]\ttrain's binary_logloss: 0.0291357\teval's binary_logloss: 0.0373771\n",
            "Training until validation scores don't improve for 100 rounds\n"
          ]
        },
        {
          "output_type": "stream",
          "name": "stderr",
          "text": [
            "min_data_in_leaf, val_score: 0.036839:  40%|####      | 2/5 [00:00<00:01,  2.76it/s]\u001b[32m[I 2021-09-02 12:15:13,503]\u001b[0m Trial 64 finished with value: 0.03770275160774222 and parameters: {'min_child_samples': 100}. Best is trial 63 with value: 0.03737710113645178.\u001b[0m\n",
            "min_data_in_leaf, val_score: 0.036839:  40%|####      | 2/5 [00:00<00:01,  2.76it/s]"
          ]
        },
        {
          "output_type": "stream",
          "name": "stdout",
          "text": [
            "[100]\ttrain's binary_logloss: 0.0298597\teval's binary_logloss: 0.0379233\n",
            "Early stopping, best iteration is:\n",
            "[76]\ttrain's binary_logloss: 0.0305512\teval's binary_logloss: 0.0377028\n",
            "Training until validation scores don't improve for 100 rounds\n",
            "[100]\ttrain's binary_logloss: 0.0293415\teval's binary_logloss: 0.0376593\n",
            "[200]\ttrain's binary_logloss: 0.0273329\teval's binary_logloss: 0.0373382\n"
          ]
        },
        {
          "output_type": "stream",
          "name": "stderr",
          "text": [
            "min_data_in_leaf, val_score: 0.036839:  60%|######    | 3/5 [00:01<00:00,  2.40it/s]\u001b[32m[I 2021-09-02 12:15:13,986]\u001b[0m Trial 65 finished with value: 0.03733057441770605 and parameters: {'min_child_samples': 5}. Best is trial 65 with value: 0.03733057441770605.\u001b[0m\n",
            "min_data_in_leaf, val_score: 0.036839:  60%|######    | 3/5 [00:01<00:00,  2.40it/s]"
          ]
        },
        {
          "output_type": "stream",
          "name": "stdout",
          "text": [
            "[300]\ttrain's binary_logloss: 0.0257543\teval's binary_logloss: 0.0379042\n",
            "Early stopping, best iteration is:\n",
            "[220]\ttrain's binary_logloss: 0.0269652\teval's binary_logloss: 0.0373306\n",
            "Training until validation scores don't improve for 100 rounds\n"
          ]
        },
        {
          "output_type": "stream",
          "name": "stderr",
          "text": [
            "min_data_in_leaf, val_score: 0.036839:  80%|########  | 4/5 [00:01<00:00,  2.40it/s]\u001b[32m[I 2021-09-02 12:15:14,401]\u001b[0m Trial 66 finished with value: 0.03723266313636997 and parameters: {'min_child_samples': 25}. Best is trial 66 with value: 0.03723266313636997.\u001b[0m\n",
            "min_data_in_leaf, val_score: 0.036839:  80%|########  | 4/5 [00:01<00:00,  2.40it/s]"
          ]
        },
        {
          "output_type": "stream",
          "name": "stdout",
          "text": [
            "[100]\ttrain's binary_logloss: 0.0296403\teval's binary_logloss: 0.0375773\n",
            "[200]\ttrain's binary_logloss: 0.0278916\teval's binary_logloss: 0.0391042\n",
            "Early stopping, best iteration is:\n",
            "[146]\ttrain's binary_logloss: 0.0287457\teval's binary_logloss: 0.0372327\n",
            "Training until validation scores don't improve for 100 rounds\n",
            "[100]\ttrain's binary_logloss: 0.0299202\teval's binary_logloss: 0.037488\n"
          ]
        },
        {
          "output_type": "stream",
          "name": "stderr",
          "text": [
            "min_data_in_leaf, val_score: 0.036839: 100%|##########| 5/5 [00:01<00:00,  2.51it/s]\u001b[32m[I 2021-09-02 12:15:14,770]\u001b[0m Trial 67 finished with value: 0.037477842921354275 and parameters: {'min_child_samples': 50}. Best is trial 66 with value: 0.03723266313636997.\u001b[0m\n",
            "min_data_in_leaf, val_score: 0.036839: 100%|##########| 5/5 [00:02<00:00,  2.49it/s]\n",
            "Best Params 0 - {'objective': 'binary', 'metric': 'binary_logloss', 'device_type': 'gpu', 'seed': 440, 'verbosity': -1, 'feature_pre_filter': False, 'lambda_l1': 1.3826846814253365e-08, 'lambda_l2': 2.218127318379021e-05, 'num_leaves': 3, 'feature_fraction': 0.516, 'bagging_fraction': 1.0, 'bagging_freq': 0, 'min_child_samples': 20, 'num_iterations': 10000, 'early_stopping_round': 100}\n",
            "Result 0 - Score: 0.8781307269395235, time: 50s\n",
            "Result 0 - Save Best Model\n",
            "========== fold: 0 result ==========\n",
            "Score: 0.87813\n",
            "========== fold: 1 training ==========\n",
            "\u001b[32m[I 2021-09-02 12:15:14,838]\u001b[0m A new study created in memory with name: no-name-f6d5a85c-f1a6-417e-83a9-aa1cae29003f\u001b[0m\n"
          ]
        },
        {
          "output_type": "stream",
          "name": "stdout",
          "text": [
            "Early stopping, best iteration is:\n",
            "[94]\ttrain's binary_logloss: 0.0300235\teval's binary_logloss: 0.0374778\n"
          ]
        },
        {
          "output_type": "stream",
          "name": "stderr",
          "text": [
            "feature_fraction, val_score: inf:   0%|          | 0/7 [00:00<?, ?it/s]"
          ]
        },
        {
          "output_type": "stream",
          "name": "stdout",
          "text": [
            "Training until validation scores don't improve for 100 rounds\n"
          ]
        },
        {
          "output_type": "stream",
          "name": "stderr",
          "text": [
            "feature_fraction, val_score: 0.035548:  14%|#4        | 1/7 [00:00<00:04,  1.46it/s]\u001b[32m[I 2021-09-02 12:15:15,531]\u001b[0m Trial 0 finished with value: 0.0355476508098122 and parameters: {'feature_fraction': 0.5}. Best is trial 0 with value: 0.0355476508098122.\u001b[0m\n",
            "feature_fraction, val_score: 0.035548:  14%|#4        | 1/7 [00:00<00:04,  1.46it/s]"
          ]
        },
        {
          "output_type": "stream",
          "name": "stdout",
          "text": [
            "[100]\ttrain's binary_logloss: 0.0103734\teval's binary_logloss: 0.0389737\n",
            "Early stopping, best iteration is:\n",
            "[35]\ttrain's binary_logloss: 0.0187901\teval's binary_logloss: 0.0355477\n",
            "Training until validation scores don't improve for 100 rounds\n"
          ]
        },
        {
          "output_type": "stream",
          "name": "stderr",
          "text": [
            "\rfeature_fraction, val_score: 0.035548:  14%|#4        | 1/7 [00:01<00:04,  1.46it/s]"
          ]
        },
        {
          "output_type": "stream",
          "name": "stdout",
          "text": [
            "[100]\ttrain's binary_logloss: 0.00957786\teval's binary_logloss: 0.0408833\n",
            "Early stopping, best iteration is:\n",
            "[42]\ttrain's binary_logloss: 0.0164718\teval's binary_logloss: 0.0364451\n"
          ]
        },
        {
          "output_type": "stream",
          "name": "stderr",
          "text": [
            "feature_fraction, val_score: 0.035548:  29%|##8       | 2/7 [00:01<00:03,  1.45it/s]\u001b[32m[I 2021-09-02 12:15:16,230]\u001b[0m Trial 1 finished with value: 0.03644508785862305 and parameters: {'feature_fraction': 0.8}. Best is trial 0 with value: 0.0355476508098122.\u001b[0m\n",
            "feature_fraction, val_score: 0.035548:  29%|##8       | 2/7 [00:01<00:03,  1.45it/s]"
          ]
        },
        {
          "output_type": "stream",
          "name": "stdout",
          "text": [
            "Training until validation scores don't improve for 100 rounds\n"
          ]
        },
        {
          "output_type": "stream",
          "name": "stderr",
          "text": [
            "feature_fraction, val_score: 0.035548:  43%|####2     | 3/7 [00:02<00:02,  1.35it/s]\u001b[32m[I 2021-09-02 12:15:17,031]\u001b[0m Trial 2 finished with value: 0.03685295408179395 and parameters: {'feature_fraction': 1.0}. Best is trial 0 with value: 0.0355476508098122.\u001b[0m\n",
            "feature_fraction, val_score: 0.035548:  43%|####2     | 3/7 [00:02<00:02,  1.35it/s]"
          ]
        },
        {
          "output_type": "stream",
          "name": "stdout",
          "text": [
            "[100]\ttrain's binary_logloss: 0.00871224\teval's binary_logloss: 0.0412659\n",
            "Early stopping, best iteration is:\n",
            "[32]\ttrain's binary_logloss: 0.0182232\teval's binary_logloss: 0.036853\n",
            "Training until validation scores don't improve for 100 rounds\n"
          ]
        },
        {
          "output_type": "stream",
          "name": "stderr",
          "text": [
            "feature_fraction, val_score: 0.035548:  57%|#####7    | 4/7 [00:02<00:02,  1.40it/s]\u001b[32m[I 2021-09-02 12:15:17,696]\u001b[0m Trial 3 finished with value: 0.03554765156464892 and parameters: {'feature_fraction': 0.6}. Best is trial 0 with value: 0.0355476508098122.\u001b[0m\n",
            "feature_fraction, val_score: 0.035548:  57%|#####7    | 4/7 [00:02<00:02,  1.40it/s]"
          ]
        },
        {
          "output_type": "stream",
          "name": "stdout",
          "text": [
            "[100]\ttrain's binary_logloss: 0.0103734\teval's binary_logloss: 0.0389734\n",
            "Early stopping, best iteration is:\n",
            "[35]\ttrain's binary_logloss: 0.0187901\teval's binary_logloss: 0.0355477\n",
            "Training until validation scores don't improve for 100 rounds\n",
            "[100]\ttrain's binary_logloss: 0.00974368\teval's binary_logloss: 0.0409064\n",
            "Early stopping, best iteration is:\n",
            "[44]\ttrain's binary_logloss: 0.0164193\teval's binary_logloss: 0.036921\n"
          ]
        },
        {
          "output_type": "stream",
          "name": "stderr",
          "text": [
            "feature_fraction, val_score: 0.035548:  71%|#######1  | 5/7 [00:03<00:01,  1.43it/s]\u001b[32m[I 2021-09-02 12:15:18,374]\u001b[0m Trial 4 finished with value: 0.036920999834153624 and parameters: {'feature_fraction': 0.7}. Best is trial 0 with value: 0.0355476508098122.\u001b[0m\n",
            "feature_fraction, val_score: 0.035548:  71%|#######1  | 5/7 [00:03<00:01,  1.43it/s]"
          ]
        },
        {
          "output_type": "stream",
          "name": "stdout",
          "text": [
            "Training until validation scores don't improve for 100 rounds\n"
          ]
        },
        {
          "output_type": "stream",
          "name": "stderr",
          "text": [
            "feature_fraction, val_score: 0.035548:  86%|########5 | 6/7 [00:04<00:00,  1.47it/s]\u001b[32m[I 2021-09-02 12:15:19,024]\u001b[0m Trial 5 finished with value: 0.03622033154662379 and parameters: {'feature_fraction': 0.4}. Best is trial 0 with value: 0.0355476508098122.\u001b[0m\n",
            "feature_fraction, val_score: 0.035548:  86%|########5 | 6/7 [00:04<00:00,  1.47it/s]"
          ]
        },
        {
          "output_type": "stream",
          "name": "stdout",
          "text": [
            "[100]\ttrain's binary_logloss: 0.011103\teval's binary_logloss: 0.0397312\n",
            "Early stopping, best iteration is:\n",
            "[33]\ttrain's binary_logloss: 0.0198532\teval's binary_logloss: 0.0362203\n",
            "Training until validation scores don't improve for 100 rounds\n"
          ]
        },
        {
          "output_type": "stream",
          "name": "stderr",
          "text": [
            "feature_fraction, val_score: 0.035548: 100%|##########| 7/7 [00:04<00:00,  1.48it/s]\u001b[32m[I 2021-09-02 12:15:19,694]\u001b[0m Trial 6 finished with value: 0.035966446717332366 and parameters: {'feature_fraction': 0.8999999999999999}. Best is trial 0 with value: 0.0355476508098122.\u001b[0m\n",
            "feature_fraction, val_score: 0.035548: 100%|##########| 7/7 [00:04<00:00,  1.44it/s]\n"
          ]
        },
        {
          "output_type": "stream",
          "name": "stdout",
          "text": [
            "[100]\ttrain's binary_logloss: 0.00915678\teval's binary_logloss: 0.0400156\n",
            "Early stopping, best iteration is:\n",
            "[35]\ttrain's binary_logloss: 0.0177338\teval's binary_logloss: 0.0359664\n"
          ]
        },
        {
          "output_type": "stream",
          "name": "stderr",
          "text": [
            "num_leaves, val_score: 0.035548:   0%|          | 0/20 [00:00<?, ?it/s]"
          ]
        },
        {
          "output_type": "stream",
          "name": "stdout",
          "text": [
            "Training until validation scores don't improve for 100 rounds\n"
          ]
        },
        {
          "output_type": "stream",
          "name": "stderr",
          "text": [
            "num_leaves, val_score: 0.035548:   5%|5         | 1/20 [00:00<00:11,  1.68it/s]\u001b[32m[I 2021-09-02 12:15:20,300]\u001b[0m Trial 7 finished with value: 0.03557184842361483 and parameters: {'num_leaves': 27}. Best is trial 7 with value: 0.03557184842361483.\u001b[0m\n",
            "num_leaves, val_score: 0.035548:   5%|5         | 1/20 [00:00<00:11,  1.68it/s]"
          ]
        },
        {
          "output_type": "stream",
          "name": "stdout",
          "text": [
            "[100]\ttrain's binary_logloss: 0.0116554\teval's binary_logloss: 0.0394553\n",
            "Early stopping, best iteration is:\n",
            "[34]\ttrain's binary_logloss: 0.0200053\teval's binary_logloss: 0.0355718\n",
            "Training until validation scores don't improve for 100 rounds\n",
            "[100]\ttrain's binary_logloss: 0.00450422\teval's binary_logloss: 0.0489538\n"
          ]
        },
        {
          "output_type": "stream",
          "name": "stderr",
          "text": [
            "num_leaves, val_score: 0.035548:  10%|#         | 2/20 [00:02<00:20,  1.13s/it]\u001b[32m[I 2021-09-02 12:15:21,803]\u001b[0m Trial 8 finished with value: 0.036951897490519185 and parameters: {'num_leaves': 118}. Best is trial 7 with value: 0.03557184842361483.\u001b[0m\n",
            "num_leaves, val_score: 0.035548:  10%|#         | 2/20 [00:02<00:20,  1.13s/it]"
          ]
        },
        {
          "output_type": "stream",
          "name": "stdout",
          "text": [
            "Early stopping, best iteration is:\n",
            "[27]\ttrain's binary_logloss: 0.015696\teval's binary_logloss: 0.0369519\n",
            "Training until validation scores don't improve for 100 rounds\n",
            "[100]\ttrain's binary_logloss: 0.00472843\teval's binary_logloss: 0.0487826\n"
          ]
        },
        {
          "output_type": "stream",
          "name": "stderr",
          "text": [
            "num_leaves, val_score: 0.035548:  15%|#5        | 3/20 [00:04<00:26,  1.57s/it]\u001b[32m[I 2021-09-02 12:15:23,903]\u001b[0m Trial 9 finished with value: 0.03714885373647156 and parameters: {'num_leaves': 185}. Best is trial 7 with value: 0.03557184842361483.\u001b[0m\n",
            "num_leaves, val_score: 0.035548:  15%|#5        | 3/20 [00:04<00:26,  1.57s/it]"
          ]
        },
        {
          "output_type": "stream",
          "name": "stdout",
          "text": [
            "Early stopping, best iteration is:\n",
            "[26]\ttrain's binary_logloss: 0.0160208\teval's binary_logloss: 0.0371489\n",
            "Training until validation scores don't improve for 100 rounds\n"
          ]
        },
        {
          "output_type": "stream",
          "name": "stderr",
          "text": [
            "num_leaves, val_score: 0.034380:  20%|##        | 4/20 [00:04<00:18,  1.14s/it]\u001b[32m[I 2021-09-02 12:15:24,374]\u001b[0m Trial 10 finished with value: 0.03437978187156853 and parameters: {'num_leaves': 13}. Best is trial 10 with value: 0.03437978187156853.\u001b[0m\n",
            "num_leaves, val_score: 0.034380:  20%|##        | 4/20 [00:04<00:18,  1.14s/it]"
          ]
        },
        {
          "output_type": "stream",
          "name": "stdout",
          "text": [
            "[100]\ttrain's binary_logloss: 0.0183887\teval's binary_logloss: 0.0362318\n",
            "Early stopping, best iteration is:\n",
            "[53]\ttrain's binary_logloss: 0.0226177\teval's binary_logloss: 0.0343798\n",
            "Training until validation scores don't improve for 100 rounds\n",
            "[100]\ttrain's binary_logloss: 0.0047266\teval's binary_logloss: 0.047372\n"
          ]
        },
        {
          "output_type": "stream",
          "name": "stderr",
          "text": [
            "num_leaves, val_score: 0.034380:  25%|##5       | 5/20 [00:05<00:16,  1.13s/it]\u001b[32m[I 2021-09-02 12:15:25,498]\u001b[0m Trial 11 finished with value: 0.03745671324833381 and parameters: {'num_leaves': 73}. Best is trial 10 with value: 0.03437978187156853.\u001b[0m\n",
            "num_leaves, val_score: 0.034380:  25%|##5       | 5/20 [00:05<00:16,  1.13s/it]"
          ]
        },
        {
          "output_type": "stream",
          "name": "stdout",
          "text": [
            "Early stopping, best iteration is:\n",
            "[29]\ttrain's binary_logloss: 0.0152912\teval's binary_logloss: 0.0374567\n",
            "Training until validation scores don't improve for 100 rounds\n",
            "[100]\ttrain's binary_logloss: 0.00450555\teval's binary_logloss: 0.0483583\n"
          ]
        },
        {
          "output_type": "stream",
          "name": "stderr",
          "text": [
            "num_leaves, val_score: 0.034380:  30%|###       | 6/20 [00:07<00:20,  1.45s/it]\u001b[32m[I 2021-09-02 12:15:27,556]\u001b[0m Trial 12 finished with value: 0.03695760136734492 and parameters: {'num_leaves': 175}. Best is trial 10 with value: 0.03437978187156853.\u001b[0m\n",
            "num_leaves, val_score: 0.034380:  30%|###       | 6/20 [00:07<00:20,  1.45s/it]"
          ]
        },
        {
          "output_type": "stream",
          "name": "stdout",
          "text": [
            "Early stopping, best iteration is:\n",
            "[27]\ttrain's binary_logloss: 0.015696\teval's binary_logloss: 0.0369576\n",
            "Training until validation scores don't improve for 100 rounds\n",
            "[100]\ttrain's binary_logloss: 0.00450555\teval's binary_logloss: 0.0483682\n"
          ]
        },
        {
          "output_type": "stream",
          "name": "stderr",
          "text": [
            "num_leaves, val_score: 0.034380:  35%|###5      | 7/20 [00:09<00:20,  1.57s/it]\u001b[32m[I 2021-09-02 12:15:29,391]\u001b[0m Trial 13 finished with value: 0.03695896059281046 and parameters: {'num_leaves': 151}. Best is trial 10 with value: 0.03437978187156853.\u001b[0m\n",
            "num_leaves, val_score: 0.034380:  35%|###5      | 7/20 [00:09<00:20,  1.57s/it]"
          ]
        },
        {
          "output_type": "stream",
          "name": "stdout",
          "text": [
            "Early stopping, best iteration is:\n",
            "[27]\ttrain's binary_logloss: 0.015696\teval's binary_logloss: 0.036959\n",
            "Training until validation scores don't improve for 100 rounds\n",
            "[100]\ttrain's binary_logloss: 0.00459065\teval's binary_logloss: 0.0490483\n"
          ]
        },
        {
          "output_type": "stream",
          "name": "stderr",
          "text": [
            "num_leaves, val_score: 0.034380:  40%|####      | 8/20 [00:10<00:17,  1.49s/it]\u001b[32m[I 2021-09-02 12:15:30,698]\u001b[0m Trial 14 finished with value: 0.03779104298045305 and parameters: {'num_leaves': 101}. Best is trial 10 with value: 0.03437978187156853.\u001b[0m\n",
            "num_leaves, val_score: 0.034380:  40%|####      | 8/20 [00:10<00:17,  1.49s/it]"
          ]
        },
        {
          "output_type": "stream",
          "name": "stdout",
          "text": [
            "Early stopping, best iteration is:\n",
            "[26]\ttrain's binary_logloss: 0.0160144\teval's binary_logloss: 0.037791\n",
            "Training until validation scores don't improve for 100 rounds\n",
            "[100]\ttrain's binary_logloss: 0.00453152\teval's binary_logloss: 0.048802\n"
          ]
        },
        {
          "output_type": "stream",
          "name": "stderr",
          "text": [
            "num_leaves, val_score: 0.034380:  45%|####5     | 9/20 [00:12<00:16,  1.52s/it]\u001b[32m[I 2021-09-02 12:15:32,274]\u001b[0m Trial 15 finished with value: 0.03727770549005072 and parameters: {'num_leaves': 125}. Best is trial 10 with value: 0.03437978187156853.\u001b[0m\n",
            "num_leaves, val_score: 0.034380:  45%|####5     | 9/20 [00:12<00:16,  1.52s/it]"
          ]
        },
        {
          "output_type": "stream",
          "name": "stdout",
          "text": [
            "Early stopping, best iteration is:\n",
            "[26]\ttrain's binary_logloss: 0.0160115\teval's binary_logloss: 0.0372777\n",
            "Training until validation scores don't improve for 100 rounds\n",
            "[100]\ttrain's binary_logloss: 0.00455391\teval's binary_logloss: 0.0484851\n"
          ]
        },
        {
          "output_type": "stream",
          "name": "stderr",
          "text": [
            "num_leaves, val_score: 0.034380:  50%|#####     | 10/20 [00:14<00:16,  1.68s/it]\u001b[32m[I 2021-09-02 12:15:34,326]\u001b[0m Trial 16 finished with value: 0.03695663593543329 and parameters: {'num_leaves': 170}. Best is trial 10 with value: 0.03437978187156853.\u001b[0m\n",
            "num_leaves, val_score: 0.034380:  50%|#####     | 10/20 [00:14<00:16,  1.68s/it]"
          ]
        },
        {
          "output_type": "stream",
          "name": "stdout",
          "text": [
            "Early stopping, best iteration is:\n",
            "[31]\ttrain's binary_logloss: 0.0140457\teval's binary_logloss: 0.0369566\n",
            "Training until validation scores don't improve for 100 rounds\n",
            "[100]\ttrain's binary_logloss: 0.00463514\teval's binary_logloss: 0.0480748\n"
          ]
        },
        {
          "output_type": "stream",
          "name": "stderr",
          "text": [
            "num_leaves, val_score: 0.034380:  55%|#####5    | 11/20 [00:17<00:17,  1.97s/it]\u001b[32m[I 2021-09-02 12:15:36,955]\u001b[0m Trial 17 finished with value: 0.03695640014499537 and parameters: {'num_leaves': 247}. Best is trial 10 with value: 0.03437978187156853.\u001b[0m\n",
            "num_leaves, val_score: 0.034380:  55%|#####5    | 11/20 [00:17<00:17,  1.97s/it]"
          ]
        },
        {
          "output_type": "stream",
          "name": "stdout",
          "text": [
            "Early stopping, best iteration is:\n",
            "[31]\ttrain's binary_logloss: 0.0140457\teval's binary_logloss: 0.0369564\n",
            "Training until validation scores don't improve for 100 rounds\n"
          ]
        },
        {
          "output_type": "stream",
          "name": "stderr",
          "text": [
            "num_leaves, val_score: 0.034325:  60%|######    | 12/20 [00:17<00:12,  1.51s/it]\u001b[32m[I 2021-09-02 12:15:37,401]\u001b[0m Trial 18 finished with value: 0.03432473210998482 and parameters: {'num_leaves': 11}. Best is trial 18 with value: 0.03432473210998482.\u001b[0m\n",
            "num_leaves, val_score: 0.034325:  60%|######    | 12/20 [00:17<00:12,  1.51s/it]"
          ]
        },
        {
          "output_type": "stream",
          "name": "stdout",
          "text": [
            "[100]\ttrain's binary_logloss: 0.0200884\teval's binary_logloss: 0.035478\n",
            "Early stopping, best iteration is:\n",
            "[42]\ttrain's binary_logloss: 0.0251183\teval's binary_logloss: 0.0343247\n",
            "Training until validation scores don't improve for 100 rounds\n",
            "[100]\ttrain's binary_logloss: 0.0311165\teval's binary_logloss: 0.0336344\n",
            "[200]\ttrain's binary_logloss: 0.0290259\teval's binary_logloss: 0.0338921\n"
          ]
        },
        {
          "output_type": "stream",
          "name": "stderr",
          "text": [
            "num_leaves, val_score: 0.033509:  65%|######5   | 13/20 [00:18<00:08,  1.17s/it]\u001b[32m[I 2021-09-02 12:15:37,779]\u001b[0m Trial 19 finished with value: 0.03350931465241915 and parameters: {'num_leaves': 3}. Best is trial 19 with value: 0.03350931465241915.\u001b[0m\n",
            "num_leaves, val_score: 0.033509:  65%|######5   | 13/20 [00:18<00:08,  1.17s/it]"
          ]
        },
        {
          "output_type": "stream",
          "name": "stdout",
          "text": [
            "Early stopping, best iteration is:\n",
            "[121]\ttrain's binary_logloss: 0.0306124\teval's binary_logloss: 0.0335093\n",
            "Training until validation scores don't improve for 100 rounds\n"
          ]
        },
        {
          "output_type": "stream",
          "name": "stderr",
          "text": [
            "num_leaves, val_score: 0.033509:  70%|#######   | 14/20 [00:18<00:06,  1.08s/it]"
          ]
        },
        {
          "output_type": "stream",
          "name": "stdout",
          "text": [
            "[100]\ttrain's binary_logloss: 0.00610377\teval's binary_logloss: 0.0440862\n",
            "Early stopping, best iteration is:\n",
            "[28]\ttrain's binary_logloss: 0.0174209\teval's binary_logloss: 0.0364634\n"
          ]
        },
        {
          "output_type": "stream",
          "name": "stderr",
          "text": [
            "\u001b[32m[I 2021-09-02 12:15:38,660]\u001b[0m Trial 20 finished with value: 0.03646341956184823 and parameters: {'num_leaves': 54}. Best is trial 19 with value: 0.03350931465241915.\u001b[0m\n",
            "num_leaves, val_score: 0.033509:  70%|#######   | 14/20 [00:18<00:06,  1.08s/it]"
          ]
        },
        {
          "output_type": "stream",
          "name": "stdout",
          "text": [
            "Training until validation scores don't improve for 100 rounds\n",
            "[100]\ttrain's binary_logloss: 0.0334434\teval's binary_logloss: 0.0346392\n",
            "[200]\ttrain's binary_logloss: 0.0320405\teval's binary_logloss: 0.0338821\n"
          ]
        },
        {
          "output_type": "stream",
          "name": "stderr",
          "text": [
            "num_leaves, val_score: 0.033509:  75%|#######5  | 15/20 [00:19<00:04,  1.11it/s]\u001b[32m[I 2021-09-02 12:15:39,155]\u001b[0m Trial 21 finished with value: 0.03369408662301063 and parameters: {'num_leaves': 2}. Best is trial 19 with value: 0.03350931465241915.\u001b[0m\n",
            "num_leaves, val_score: 0.033509:  75%|#######5  | 15/20 [00:19<00:04,  1.11it/s]"
          ]
        },
        {
          "output_type": "stream",
          "name": "stdout",
          "text": [
            "[300]\ttrain's binary_logloss: 0.0314585\teval's binary_logloss: 0.0337506\n",
            "Early stopping, best iteration is:\n",
            "[279]\ttrain's binary_logloss: 0.0315548\teval's binary_logloss: 0.0336941\n",
            "Training until validation scores don't improve for 100 rounds\n",
            "[100]\ttrain's binary_logloss: 0.00610326\teval's binary_logloss: 0.043517\n",
            "Early stopping, best iteration is:\n",
            "[31]\ttrain's binary_logloss: 0.0165463\teval's binary_logloss: 0.0362488\n"
          ]
        },
        {
          "output_type": "stream",
          "name": "stderr",
          "text": [
            "num_leaves, val_score: 0.033509:  80%|########  | 16/20 [00:20<00:03,  1.12it/s]\u001b[32m[I 2021-09-02 12:15:40,044]\u001b[0m Trial 22 finished with value: 0.036248801038977214 and parameters: {'num_leaves': 52}. Best is trial 19 with value: 0.03350931465241915.\u001b[0m\n",
            "num_leaves, val_score: 0.033509:  80%|########  | 16/20 [00:20<00:03,  1.12it/s]"
          ]
        },
        {
          "output_type": "stream",
          "name": "stdout",
          "text": [
            "Training until validation scores don't improve for 100 rounds\n",
            "[100]\ttrain's binary_logloss: 0.0311165\teval's binary_logloss: 0.0336344\n"
          ]
        },
        {
          "output_type": "stream",
          "name": "stderr",
          "text": [
            "num_leaves, val_score: 0.033509:  85%|########5 | 17/20 [00:20<00:02,  1.33it/s]\u001b[32m[I 2021-09-02 12:15:40,455]\u001b[0m Trial 23 finished with value: 0.03350931498679744 and parameters: {'num_leaves': 3}. Best is trial 19 with value: 0.03350931465241915.\u001b[0m\n",
            "num_leaves, val_score: 0.033509:  85%|########5 | 17/20 [00:20<00:02,  1.33it/s]"
          ]
        },
        {
          "output_type": "stream",
          "name": "stdout",
          "text": [
            "[200]\ttrain's binary_logloss: 0.0290259\teval's binary_logloss: 0.0338921\n",
            "Early stopping, best iteration is:\n",
            "[121]\ttrain's binary_logloss: 0.0306124\teval's binary_logloss: 0.0335093\n",
            "Training until validation scores don't improve for 100 rounds\n",
            "[100]\ttrain's binary_logloss: 0.00473691\teval's binary_logloss: 0.0478434\n"
          ]
        },
        {
          "output_type": "stream",
          "name": "stderr",
          "text": [
            "num_leaves, val_score: 0.033509:  90%|######### | 18/20 [00:21<00:01,  1.16it/s]\u001b[32m[I 2021-09-02 12:15:41,574]\u001b[0m Trial 24 finished with value: 0.03742347132890088 and parameters: {'num_leaves': 74}. Best is trial 19 with value: 0.03350931465241915.\u001b[0m\n",
            "num_leaves, val_score: 0.033509:  90%|######### | 18/20 [00:21<00:01,  1.16it/s]"
          ]
        },
        {
          "output_type": "stream",
          "name": "stdout",
          "text": [
            "Early stopping, best iteration is:\n",
            "[31]\ttrain's binary_logloss: 0.0143811\teval's binary_logloss: 0.0374235\n",
            "Training until validation scores don't improve for 100 rounds\n"
          ]
        },
        {
          "output_type": "stream",
          "name": "stderr",
          "text": [
            "num_leaves, val_score: 0.033509:  95%|#########5| 19/20 [00:22<00:00,  1.21it/s]\u001b[32m[I 2021-09-02 12:15:42,305]\u001b[0m Trial 25 finished with value: 0.03618397843313395 and parameters: {'num_leaves': 40}. Best is trial 19 with value: 0.03350931465241915.\u001b[0m\n",
            "num_leaves, val_score: 0.033509:  95%|#########5| 19/20 [00:22<00:00,  1.21it/s]"
          ]
        },
        {
          "output_type": "stream",
          "name": "stdout",
          "text": [
            "[100]\ttrain's binary_logloss: 0.00807067\teval's binary_logloss: 0.0417641\n",
            "Early stopping, best iteration is:\n",
            "[31]\ttrain's binary_logloss: 0.0180049\teval's binary_logloss: 0.036184\n",
            "Training until validation scores don't improve for 100 rounds\n",
            "[100]\ttrain's binary_logloss: 0.00472843\teval's binary_logloss: 0.048785\n"
          ]
        },
        {
          "output_type": "stream",
          "name": "stderr",
          "text": [
            "num_leaves, val_score: 0.033509: 100%|##########| 20/20 [00:25<00:00,  1.32s/it]\u001b[32m[I 2021-09-02 12:15:44,777]\u001b[0m Trial 26 finished with value: 0.0371488461356333 and parameters: {'num_leaves': 232}. Best is trial 19 with value: 0.03350931465241915.\u001b[0m\n",
            "num_leaves, val_score: 0.033509: 100%|##########| 20/20 [00:25<00:00,  1.25s/it]\n"
          ]
        },
        {
          "output_type": "stream",
          "name": "stdout",
          "text": [
            "Early stopping, best iteration is:\n",
            "[26]\ttrain's binary_logloss: 0.0160208\teval's binary_logloss: 0.0371488\n"
          ]
        },
        {
          "output_type": "stream",
          "name": "stderr",
          "text": [
            "bagging, val_score: 0.033509:   0%|          | 0/10 [00:00<?, ?it/s]"
          ]
        },
        {
          "output_type": "stream",
          "name": "stdout",
          "text": [
            "Training until validation scores don't improve for 100 rounds\n",
            "[100]\ttrain's binary_logloss: 0.0308675\teval's binary_logloss: 0.033485\n",
            "[200]\ttrain's binary_logloss: 0.0283722\teval's binary_logloss: 0.0337892\n"
          ]
        },
        {
          "output_type": "stream",
          "name": "stderr",
          "text": [
            "bagging, val_score: 0.033452:  10%|#         | 1/10 [00:00<00:06,  1.43it/s]\u001b[32m[I 2021-09-02 12:15:45,488]\u001b[0m Trial 27 finished with value: 0.03345208858016343 and parameters: {'bagging_fraction': 0.8707765061512552, 'bagging_freq': 7}. Best is trial 27 with value: 0.03345208858016343.\u001b[0m\n"
          ]
        },
        {
          "output_type": "stream",
          "name": "stdout",
          "text": [
            "Early stopping, best iteration is:\n",
            "[175]\ttrain's binary_logloss: 0.0287942\teval's binary_logloss: 0.0334521\n"
          ]
        },
        {
          "output_type": "stream",
          "name": "stderr",
          "text": [
            "\rbagging, val_score: 0.033452:  10%|#         | 1/10 [00:00<00:06,  1.43it/s]"
          ]
        },
        {
          "output_type": "stream",
          "name": "stdout",
          "text": [
            "Training until validation scores don't improve for 100 rounds\n",
            "[100]\ttrain's binary_logloss: 0.0315399\teval's binary_logloss: 0.035249\n"
          ]
        },
        {
          "output_type": "stream",
          "name": "stderr",
          "text": [
            "bagging, val_score: 0.033452:  20%|##        | 2/10 [00:01<00:05,  1.37it/s]\u001b[32m[I 2021-09-02 12:15:46,241]\u001b[0m Trial 28 finished with value: 0.03360973346468391 and parameters: {'bagging_fraction': 0.8075727855333392, 'bagging_freq': 2}. Best is trial 27 with value: 0.03345208858016343.\u001b[0m\n",
            "bagging, val_score: 0.033452:  20%|##        | 2/10 [00:01<00:05,  1.37it/s]"
          ]
        },
        {
          "output_type": "stream",
          "name": "stdout",
          "text": [
            "Early stopping, best iteration is:\n",
            "[79]\ttrain's binary_logloss: 0.0315094\teval's binary_logloss: 0.0336097\n",
            "Training until validation scores don't improve for 100 rounds\n",
            "[100]\ttrain's binary_logloss: 0.0307317\teval's binary_logloss: 0.0335319\n"
          ]
        },
        {
          "output_type": "stream",
          "name": "stderr",
          "text": [
            "bagging, val_score: 0.033374:  30%|###       | 3/10 [00:02<00:04,  1.44it/s]\u001b[32m[I 2021-09-02 12:15:46,895]\u001b[0m Trial 29 finished with value: 0.03337424065965717 and parameters: {'bagging_fraction': 0.7996128639872111, 'bagging_freq': 3}. Best is trial 29 with value: 0.03337424065965717.\u001b[0m\n",
            "bagging, val_score: 0.033374:  30%|###       | 3/10 [00:02<00:04,  1.44it/s]"
          ]
        },
        {
          "output_type": "stream",
          "name": "stdout",
          "text": [
            "Early stopping, best iteration is:\n",
            "[81]\ttrain's binary_logloss: 0.0314236\teval's binary_logloss: 0.0333742\n",
            "Training until validation scores don't improve for 100 rounds\n",
            "[100]\ttrain's binary_logloss: 0.0311325\teval's binary_logloss: 0.0363018\n"
          ]
        },
        {
          "output_type": "stream",
          "name": "stderr",
          "text": [
            "bagging, val_score: 0.033374:  40%|####      | 4/10 [00:02<00:04,  1.50it/s]\u001b[32m[I 2021-09-02 12:15:47,520]\u001b[0m Trial 30 finished with value: 0.03463677618877876 and parameters: {'bagging_fraction': 0.6550750326928898, 'bagging_freq': 3}. Best is trial 29 with value: 0.03337424065965717.\u001b[0m\n",
            "bagging, val_score: 0.033374:  40%|####      | 4/10 [00:02<00:04,  1.50it/s]"
          ]
        },
        {
          "output_type": "stream",
          "name": "stdout",
          "text": [
            "Early stopping, best iteration is:\n",
            "[80]\ttrain's binary_logloss: 0.0316884\teval's binary_logloss: 0.0346368\n",
            "Training until validation scores don't improve for 100 rounds\n"
          ]
        },
        {
          "output_type": "stream",
          "name": "stderr",
          "text": [
            "bagging, val_score: 0.033374:  50%|#####     | 5/10 [00:03<00:03,  1.64it/s]\u001b[32m[I 2021-09-02 12:15:48,028]\u001b[0m Trial 31 finished with value: 0.03422250288926411 and parameters: {'bagging_fraction': 0.44422400533091994, 'bagging_freq': 4}. Best is trial 29 with value: 0.03337424065965717.\u001b[0m\n",
            "bagging, val_score: 0.033374:  50%|#####     | 5/10 [00:03<00:03,  1.64it/s]"
          ]
        },
        {
          "output_type": "stream",
          "name": "stdout",
          "text": [
            "[100]\ttrain's binary_logloss: 0.0309653\teval's binary_logloss: 0.0347609\n",
            "Early stopping, best iteration is:\n",
            "[71]\ttrain's binary_logloss: 0.0317098\teval's binary_logloss: 0.0342225\n",
            "Training until validation scores don't improve for 100 rounds\n",
            "[100]\ttrain's binary_logloss: 0.0307501\teval's binary_logloss: 0.0347578\n"
          ]
        },
        {
          "output_type": "stream",
          "name": "stderr",
          "text": [
            "bagging, val_score: 0.033374:  60%|######    | 6/10 [00:03<00:02,  1.75it/s]\u001b[32m[I 2021-09-02 12:15:48,524]\u001b[0m Trial 32 finished with value: 0.03458301092437072 and parameters: {'bagging_fraction': 0.532123150675752, 'bagging_freq': 4}. Best is trial 29 with value: 0.03337424065965717.\u001b[0m\n",
            "bagging, val_score: 0.033374:  60%|######    | 6/10 [00:03<00:02,  1.75it/s]"
          ]
        },
        {
          "output_type": "stream",
          "name": "stdout",
          "text": [
            "Early stopping, best iteration is:\n",
            "[65]\ttrain's binary_logloss: 0.0323339\teval's binary_logloss: 0.034583\n",
            "Training until validation scores don't improve for 100 rounds\n",
            "[100]\ttrain's binary_logloss: 0.0306869\teval's binary_logloss: 0.033301\n",
            "Early stopping, best iteration is:\n",
            "[98]\ttrain's binary_logloss: 0.0308156\teval's binary_logloss: 0.0332717\n"
          ]
        },
        {
          "output_type": "stream",
          "name": "stderr",
          "text": [
            "bagging, val_score: 0.033272:  70%|#######   | 7/10 [00:04<00:01,  1.76it/s]\u001b[32m[I 2021-09-02 12:15:49,085]\u001b[0m Trial 33 finished with value: 0.03327172539093386 and parameters: {'bagging_fraction': 0.8040506047469914, 'bagging_freq': 5}. Best is trial 33 with value: 0.03327172539093386.\u001b[0m\n",
            "bagging, val_score: 0.033272:  70%|#######   | 7/10 [00:04<00:01,  1.76it/s]"
          ]
        },
        {
          "output_type": "stream",
          "name": "stdout",
          "text": [
            "Training until validation scores don't improve for 100 rounds\n",
            "[100]\ttrain's binary_logloss: 0.0309523\teval's binary_logloss: 0.0344908\n"
          ]
        },
        {
          "output_type": "stream",
          "name": "stderr",
          "text": [
            "bagging, val_score: 0.033272:  80%|########  | 8/10 [00:04<00:01,  1.81it/s]\u001b[32m[I 2021-09-02 12:15:49,602]\u001b[0m Trial 34 finished with value: 0.03421590449567388 and parameters: {'bagging_fraction': 0.6344202298480399, 'bagging_freq': 4}. Best is trial 33 with value: 0.03327172539093386.\u001b[0m\n",
            "bagging, val_score: 0.033272:  80%|########  | 8/10 [00:04<00:01,  1.81it/s]"
          ]
        },
        {
          "output_type": "stream",
          "name": "stdout",
          "text": [
            "Early stopping, best iteration is:\n",
            "[64]\ttrain's binary_logloss: 0.0323413\teval's binary_logloss: 0.0342159\n",
            "Training until validation scores don't improve for 100 rounds\n",
            "[100]\ttrain's binary_logloss: 0.0305021\teval's binary_logloss: 0.0336155\n"
          ]
        },
        {
          "output_type": "stream",
          "name": "stderr",
          "text": [
            "bagging, val_score: 0.033272:  90%|######### | 9/10 [00:05<00:00,  1.42it/s]\u001b[32m[I 2021-09-02 12:15:50,634]\u001b[0m Trial 35 finished with value: 0.03350234429539205 and parameters: {'bagging_fraction': 0.42672707359138073, 'bagging_freq': 1}. Best is trial 33 with value: 0.03327172539093386.\u001b[0m\n",
            "bagging, val_score: 0.033272:  90%|######### | 9/10 [00:05<00:00,  1.42it/s]"
          ]
        },
        {
          "output_type": "stream",
          "name": "stdout",
          "text": [
            "Early stopping, best iteration is:\n",
            "[65]\ttrain's binary_logloss: 0.0318438\teval's binary_logloss: 0.0335023\n",
            "Training until validation scores don't improve for 100 rounds\n",
            "[100]\ttrain's binary_logloss: 0.0307538\teval's binary_logloss: 0.0337609\n",
            "[200]\ttrain's binary_logloss: 0.0280931\teval's binary_logloss: 0.0340079\n"
          ]
        },
        {
          "output_type": "stream",
          "name": "stderr",
          "text": [
            "bagging, val_score: 0.033272: 100%|##########| 10/10 [00:06<00:00,  1.45it/s]\u001b[32m[I 2021-09-02 12:15:51,297]\u001b[0m Trial 36 finished with value: 0.033647481496725765 and parameters: {'bagging_fraction': 0.8195408944119635, 'bagging_freq': 6}. Best is trial 33 with value: 0.03327172539093386.\u001b[0m\n",
            "bagging, val_score: 0.033272: 100%|##########| 10/10 [00:06<00:00,  1.54it/s]\n"
          ]
        },
        {
          "output_type": "stream",
          "name": "stdout",
          "text": [
            "Early stopping, best iteration is:\n",
            "[163]\ttrain's binary_logloss: 0.0288402\teval's binary_logloss: 0.0336475\n"
          ]
        },
        {
          "output_type": "stream",
          "name": "stderr",
          "text": [
            "feature_fraction_stage2, val_score: 0.033272:   0%|          | 0/6 [00:00<?, ?it/s]"
          ]
        },
        {
          "output_type": "stream",
          "name": "stdout",
          "text": [
            "Training until validation scores don't improve for 100 rounds\n",
            "[100]\ttrain's binary_logloss: 0.0306869\teval's binary_logloss: 0.033301\n",
            "Early stopping, best iteration is:\n",
            "[98]\ttrain's binary_logloss: 0.0308156\teval's binary_logloss: 0.0332717\n"
          ]
        },
        {
          "output_type": "stream",
          "name": "stderr",
          "text": [
            "feature_fraction_stage2, val_score: 0.033272:  17%|#6        | 1/6 [00:00<00:02,  1.74it/s]\u001b[32m[I 2021-09-02 12:15:51,883]\u001b[0m Trial 37 finished with value: 0.03327172128392226 and parameters: {'feature_fraction': 0.58}. Best is trial 37 with value: 0.03327172128392226.\u001b[0m\n",
            "feature_fraction_stage2, val_score: 0.033272:  17%|#6        | 1/6 [00:00<00:02,  1.74it/s]"
          ]
        },
        {
          "output_type": "stream",
          "name": "stdout",
          "text": [
            "Training until validation scores don't improve for 100 rounds\n",
            "[100]\ttrain's binary_logloss: 0.0312912\teval's binary_logloss: 0.0340773\n"
          ]
        },
        {
          "output_type": "stream",
          "name": "stderr",
          "text": [
            "feature_fraction_stage2, val_score: 0.033272:  33%|###3      | 2/6 [00:01<00:02,  1.87it/s]\u001b[32m[I 2021-09-02 12:15:52,391]\u001b[0m Trial 38 finished with value: 0.03363771546215905 and parameters: {'feature_fraction': 0.484}. Best is trial 37 with value: 0.03327172128392226.\u001b[0m\n",
            "feature_fraction_stage2, val_score: 0.033272:  33%|###3      | 2/6 [00:01<00:02,  1.87it/s]"
          ]
        },
        {
          "output_type": "stream",
          "name": "stdout",
          "text": [
            "Early stopping, best iteration is:\n",
            "[74]\ttrain's binary_logloss: 0.0321321\teval's binary_logloss: 0.0336377\n",
            "Training until validation scores don't improve for 100 rounds\n"
          ]
        },
        {
          "output_type": "stream",
          "name": "stderr",
          "text": [
            "feature_fraction_stage2, val_score: 0.033272:  50%|#####     | 3/6 [00:01<00:01,  1.90it/s]\u001b[32m[I 2021-09-02 12:15:52,907]\u001b[0m Trial 39 finished with value: 0.033637714642396975 and parameters: {'feature_fraction': 0.42}. Best is trial 37 with value: 0.03327172128392226.\u001b[0m\n",
            "feature_fraction_stage2, val_score: 0.033272:  50%|#####     | 3/6 [00:01<00:01,  1.90it/s]"
          ]
        },
        {
          "output_type": "stream",
          "name": "stdout",
          "text": [
            "[100]\ttrain's binary_logloss: 0.0312912\teval's binary_logloss: 0.0340773\n",
            "Early stopping, best iteration is:\n",
            "[74]\ttrain's binary_logloss: 0.0321321\teval's binary_logloss: 0.0336377\n",
            "Training until validation scores don't improve for 100 rounds\n",
            "[100]\ttrain's binary_logloss: 0.0306869\teval's binary_logloss: 0.033301\n",
            "Early stopping, best iteration is:\n",
            "[98]\ttrain's binary_logloss: 0.0308156\teval's binary_logloss: 0.0332717\n"
          ]
        },
        {
          "output_type": "stream",
          "name": "stderr",
          "text": [
            "feature_fraction_stage2, val_score: 0.033272:  67%|######6   | 4/6 [00:02<00:01,  1.84it/s]\u001b[32m[I 2021-09-02 12:15:53,482]\u001b[0m Trial 40 finished with value: 0.033271725787657906 and parameters: {'feature_fraction': 0.516}. Best is trial 37 with value: 0.03327172128392226.\u001b[0m\n",
            "feature_fraction_stage2, val_score: 0.033272:  67%|######6   | 4/6 [00:02<00:01,  1.84it/s]"
          ]
        },
        {
          "output_type": "stream",
          "name": "stdout",
          "text": [
            "Training until validation scores don't improve for 100 rounds\n",
            "[100]\ttrain's binary_logloss: 0.0306869\teval's binary_logloss: 0.033301\n"
          ]
        },
        {
          "output_type": "stream",
          "name": "stderr",
          "text": [
            "feature_fraction_stage2, val_score: 0.033272:  83%|########3 | 5/6 [00:02<00:00,  1.80it/s]\u001b[32m[I 2021-09-02 12:15:54,062]\u001b[0m Trial 41 finished with value: 0.033271721510983544 and parameters: {'feature_fraction': 0.5479999999999999}. Best is trial 37 with value: 0.03327172128392226.\u001b[0m\n",
            "feature_fraction_stage2, val_score: 0.033272:  83%|########3 | 5/6 [00:02<00:00,  1.80it/s]"
          ]
        },
        {
          "output_type": "stream",
          "name": "stdout",
          "text": [
            "Early stopping, best iteration is:\n",
            "[98]\ttrain's binary_logloss: 0.0308156\teval's binary_logloss: 0.0332717\n",
            "Training until validation scores don't improve for 100 rounds\n"
          ]
        },
        {
          "output_type": "stream",
          "name": "stderr",
          "text": [
            "feature_fraction_stage2, val_score: 0.033272: 100%|##########| 6/6 [00:03<00:00,  1.85it/s]\u001b[32m[I 2021-09-02 12:15:54,570]\u001b[0m Trial 42 finished with value: 0.033637714252008 and parameters: {'feature_fraction': 0.45199999999999996}. Best is trial 37 with value: 0.03327172128392226.\u001b[0m\n",
            "feature_fraction_stage2, val_score: 0.033272: 100%|##########| 6/6 [00:03<00:00,  1.84it/s]\n"
          ]
        },
        {
          "output_type": "stream",
          "name": "stdout",
          "text": [
            "[100]\ttrain's binary_logloss: 0.0312912\teval's binary_logloss: 0.0340773\n",
            "Early stopping, best iteration is:\n",
            "[74]\ttrain's binary_logloss: 0.0321321\teval's binary_logloss: 0.0336377\n"
          ]
        },
        {
          "output_type": "stream",
          "name": "stderr",
          "text": [
            "regularization_factors, val_score: 0.033272:   0%|          | 0/20 [00:00<?, ?it/s]"
          ]
        },
        {
          "output_type": "stream",
          "name": "stdout",
          "text": [
            "Training until validation scores don't improve for 100 rounds\n",
            "[100]\ttrain's binary_logloss: 0.0315917\teval's binary_logloss: 0.0337421\n"
          ]
        },
        {
          "output_type": "stream",
          "name": "stderr",
          "text": [
            "regularization_factors, val_score: 0.033272:   5%|5         | 1/20 [00:00<00:11,  1.72it/s]\u001b[32m[I 2021-09-02 12:15:55,169]\u001b[0m Trial 43 finished with value: 0.03371688065165506 and parameters: {'lambda_l1': 0.8991735758962146, 'lambda_l2': 0.40757386188454975}. Best is trial 43 with value: 0.03371688065165506.\u001b[0m\n",
            "regularization_factors, val_score: 0.033272:   5%|5         | 1/20 [00:00<00:11,  1.72it/s]"
          ]
        },
        {
          "output_type": "stream",
          "name": "stdout",
          "text": [
            "[200]\ttrain's binary_logloss: 0.0297173\teval's binary_logloss: 0.0340006\n",
            "Early stopping, best iteration is:\n",
            "[111]\ttrain's binary_logloss: 0.0312685\teval's binary_logloss: 0.0337169\n",
            "Training until validation scores don't improve for 100 rounds\n",
            "[100]\ttrain's binary_logloss: 0.0317595\teval's binary_logloss: 0.0340578\n",
            "Early stopping, best iteration is:\n",
            "[76]\ttrain's binary_logloss: 0.0321856\teval's binary_logloss: 0.0338962\n"
          ]
        },
        {
          "output_type": "stream",
          "name": "stderr",
          "text": [
            "regularization_factors, val_score: 0.033272:  10%|#         | 2/20 [00:01<00:10,  1.78it/s]\u001b[32m[I 2021-09-02 12:15:55,719]\u001b[0m Trial 44 finished with value: 0.033896194690303104 and parameters: {'lambda_l1': 0.0005079697450631113, 'lambda_l2': 7.088298344712383}. Best is trial 43 with value: 0.03371688065165506.\u001b[0m\n",
            "regularization_factors, val_score: 0.033272:  10%|#         | 2/20 [00:01<00:10,  1.78it/s]"
          ]
        },
        {
          "output_type": "stream",
          "name": "stdout",
          "text": [
            "Training until validation scores don't improve for 100 rounds\n",
            "[100]\ttrain's binary_logloss: 0.0309925\teval's binary_logloss: 0.0335056\n"
          ]
        },
        {
          "output_type": "stream",
          "name": "stderr",
          "text": [
            "regularization_factors, val_score: 0.033272:  15%|#5        | 3/20 [00:01<00:09,  1.75it/s]\u001b[32m[I 2021-09-02 12:15:56,304]\u001b[0m Trial 45 finished with value: 0.03342999578646119 and parameters: {'lambda_l1': 0.07864525040251474, 'lambda_l2': 0.00032946426810610103}. Best is trial 45 with value: 0.03342999578646119.\u001b[0m\n",
            "regularization_factors, val_score: 0.033272:  15%|#5        | 3/20 [00:01<00:09,  1.75it/s]"
          ]
        },
        {
          "output_type": "stream",
          "name": "stdout",
          "text": [
            "[200]\ttrain's binary_logloss: 0.0284787\teval's binary_logloss: 0.0346126\n",
            "Early stopping, best iteration is:\n",
            "[109]\ttrain's binary_logloss: 0.0306218\teval's binary_logloss: 0.03343\n",
            "Training until validation scores don't improve for 100 rounds\n",
            "[100]\ttrain's binary_logloss: 0.0312652\teval's binary_logloss: 0.0336213\n"
          ]
        },
        {
          "output_type": "stream",
          "name": "stderr",
          "text": [
            "regularization_factors, val_score: 0.033272:  20%|##        | 4/20 [00:02<00:09,  1.70it/s]\u001b[32m[I 2021-09-02 12:15:56,915]\u001b[0m Trial 46 finished with value: 0.033582186490957615 and parameters: {'lambda_l1': 0.04394628875099065, 'lambda_l2': 0.3089448868267443}. Best is trial 45 with value: 0.03342999578646119.\u001b[0m\n",
            "regularization_factors, val_score: 0.033272:  20%|##        | 4/20 [00:02<00:09,  1.70it/s]"
          ]
        },
        {
          "output_type": "stream",
          "name": "stdout",
          "text": [
            "[200]\ttrain's binary_logloss: 0.0290131\teval's binary_logloss: 0.0338164\n",
            "Early stopping, best iteration is:\n",
            "[105]\ttrain's binary_logloss: 0.0310809\teval's binary_logloss: 0.0335822\n",
            "Training until validation scores don't improve for 100 rounds\n",
            "[100]\ttrain's binary_logloss: 0.032542\teval's binary_logloss: 0.0335358\n",
            "[200]\ttrain's binary_logloss: 0.0317182\teval's binary_logloss: 0.0334451\n"
          ]
        },
        {
          "output_type": "stream",
          "name": "stderr",
          "text": [
            "regularization_factors, val_score: 0.033272:  25%|##5       | 5/20 [00:03<00:09,  1.59it/s]\u001b[32m[I 2021-09-02 12:15:57,613]\u001b[0m Trial 47 finished with value: 0.03338792908733284 and parameters: {'lambda_l1': 5.766807040448036, 'lambda_l2': 0.045584095732394025}. Best is trial 47 with value: 0.03338792908733284.\u001b[0m\n",
            "regularization_factors, val_score: 0.033272:  25%|##5       | 5/20 [00:03<00:09,  1.59it/s]"
          ]
        },
        {
          "output_type": "stream",
          "name": "stdout",
          "text": [
            "Early stopping, best iteration is:\n",
            "[160]\ttrain's binary_logloss: 0.0319764\teval's binary_logloss: 0.0333879\n",
            "Training until validation scores don't improve for 100 rounds\n",
            "[100]\ttrain's binary_logloss: 0.0308307\teval's binary_logloss: 0.0337311\n",
            "Early stopping, best iteration is:\n",
            "[96]\ttrain's binary_logloss: 0.0308688\teval's binary_logloss: 0.0331951\n"
          ]
        },
        {
          "output_type": "stream",
          "name": "stderr",
          "text": [
            "regularization_factors, val_score: 0.033195:  30%|###       | 6/20 [00:03<00:08,  1.65it/s]\u001b[32m[I 2021-09-02 12:15:58,182]\u001b[0m Trial 48 finished with value: 0.033195087426792766 and parameters: {'lambda_l1': 0.006139455462106154, 'lambda_l2': 0.0005763740833208998}. Best is trial 48 with value: 0.033195087426792766.\u001b[0m\n",
            "regularization_factors, val_score: 0.033195:  30%|###       | 6/20 [00:03<00:08,  1.65it/s]"
          ]
        },
        {
          "output_type": "stream",
          "name": "stdout",
          "text": [
            "Training until validation scores don't improve for 100 rounds\n",
            "[100]\ttrain's binary_logloss: 0.0317264\teval's binary_logloss: 0.0347171\n",
            "Early stopping, best iteration is:\n",
            "[76]\ttrain's binary_logloss: 0.0321464\teval's binary_logloss: 0.0346582\n"
          ]
        },
        {
          "output_type": "stream",
          "name": "stderr",
          "text": [
            "regularization_factors, val_score: 0.033195:  35%|###5      | 7/20 [00:04<00:07,  1.70it/s]\u001b[32m[I 2021-09-02 12:15:58,727]\u001b[0m Trial 49 finished with value: 0.03465823617582196 and parameters: {'lambda_l1': 4.763708435504185e-08, 'lambda_l2': 5.623107923232515}. Best is trial 48 with value: 0.033195087426792766.\u001b[0m\n",
            "regularization_factors, val_score: 0.033195:  35%|###5      | 7/20 [00:04<00:07,  1.70it/s]"
          ]
        },
        {
          "output_type": "stream",
          "name": "stdout",
          "text": [
            "Training until validation scores don't improve for 100 rounds\n",
            "[100]\ttrain's binary_logloss: 0.0306871\teval's binary_logloss: 0.033301\n"
          ]
        },
        {
          "output_type": "stream",
          "name": "stderr",
          "text": [
            "regularization_factors, val_score: 0.033195:  40%|####      | 8/20 [00:04<00:06,  1.72it/s]\u001b[32m[I 2021-09-02 12:15:59,300]\u001b[0m Trial 50 finished with value: 0.03327174099575013 and parameters: {'lambda_l1': 0.00038504825877639184, 'lambda_l2': 1.6067848089398577e-08}. Best is trial 48 with value: 0.033195087426792766.\u001b[0m\n",
            "regularization_factors, val_score: 0.033195:  40%|####      | 8/20 [00:04<00:06,  1.72it/s]"
          ]
        },
        {
          "output_type": "stream",
          "name": "stdout",
          "text": [
            "Early stopping, best iteration is:\n",
            "[98]\ttrain's binary_logloss: 0.0308158\teval's binary_logloss: 0.0332717\n",
            "Training until validation scores don't improve for 100 rounds\n",
            "[100]\ttrain's binary_logloss: 0.0316897\teval's binary_logloss: 0.0346873\n",
            "Early stopping, best iteration is:\n",
            "[76]\ttrain's binary_logloss: 0.032113\teval's binary_logloss: 0.0346156\n"
          ]
        },
        {
          "output_type": "stream",
          "name": "stderr",
          "text": [
            "regularization_factors, val_score: 0.033195:  45%|####5     | 9/20 [00:05<00:06,  1.75it/s]\u001b[32m[I 2021-09-02 12:15:59,845]\u001b[0m Trial 51 finished with value: 0.03461555920882224 and parameters: {'lambda_l1': 0.08071251629944305, 'lambda_l2': 5.506123779781643}. Best is trial 48 with value: 0.033195087426792766.\u001b[0m\n",
            "regularization_factors, val_score: 0.033195:  45%|####5     | 9/20 [00:05<00:06,  1.75it/s]"
          ]
        },
        {
          "output_type": "stream",
          "name": "stdout",
          "text": [
            "Training until validation scores don't improve for 100 rounds\n",
            "[100]\ttrain's binary_logloss: 0.0310982\teval's binary_logloss: 0.0333726\n"
          ]
        },
        {
          "output_type": "stream",
          "name": "stderr",
          "text": [
            "regularization_factors, val_score: 0.033195:  50%|#####     | 10/20 [00:05<00:05,  1.77it/s]\u001b[32m[I 2021-09-02 12:16:00,398]\u001b[0m Trial 52 finished with value: 0.03336477764343965 and parameters: {'lambda_l1': 0.3020675699035348, 'lambda_l2': 1.404490442633688e-06}. Best is trial 48 with value: 0.033195087426792766.\u001b[0m\n",
            "regularization_factors, val_score: 0.033195:  50%|#####     | 10/20 [00:05<00:05,  1.77it/s]"
          ]
        },
        {
          "output_type": "stream",
          "name": "stdout",
          "text": [
            "[200]\ttrain's binary_logloss: 0.0286941\teval's binary_logloss: 0.0339445\n",
            "Early stopping, best iteration is:\n",
            "[101]\ttrain's binary_logloss: 0.0310502\teval's binary_logloss: 0.0333648\n",
            "Training until validation scores don't improve for 100 rounds\n",
            "[100]\ttrain's binary_logloss: 0.0306898\teval's binary_logloss: 0.0333311\n",
            "Early stopping, best iteration is:\n",
            "[98]\ttrain's binary_logloss: 0.030817\teval's binary_logloss: 0.0333038\n"
          ]
        },
        {
          "output_type": "stream",
          "name": "stderr",
          "text": [
            "regularization_factors, val_score: 0.033195:  55%|#####5    | 11/20 [00:06<00:05,  1.77it/s]\u001b[32m[I 2021-09-02 12:16:00,965]\u001b[0m Trial 53 finished with value: 0.03330383093223031 and parameters: {'lambda_l1': 3.807441673070736e-07, 'lambda_l2': 0.00030476668480563287}. Best is trial 48 with value: 0.033195087426792766.\u001b[0m\n",
            "regularization_factors, val_score: 0.033195:  55%|#####5    | 11/20 [00:06<00:05,  1.77it/s]"
          ]
        },
        {
          "output_type": "stream",
          "name": "stdout",
          "text": [
            "Training until validation scores don't improve for 100 rounds\n",
            "[100]\ttrain's binary_logloss: 0.0306869\teval's binary_logloss: 0.033301\n",
            "Early stopping, best iteration is:\n",
            "[98]\ttrain's binary_logloss: 0.0308157\teval's binary_logloss: 0.0332717\n"
          ]
        },
        {
          "output_type": "stream",
          "name": "stderr",
          "text": [
            "regularization_factors, val_score: 0.033195:  60%|######    | 12/20 [00:06<00:04,  1.75it/s]\u001b[32m[I 2021-09-02 12:16:01,551]\u001b[0m Trial 54 finished with value: 0.03327172596410327 and parameters: {'lambda_l1': 9.749074282902419e-05, 'lambda_l2': 3.0877256912995136e-08}. Best is trial 48 with value: 0.033195087426792766.\u001b[0m\n",
            "regularization_factors, val_score: 0.033195:  60%|######    | 12/20 [00:06<00:04,  1.75it/s]"
          ]
        },
        {
          "output_type": "stream",
          "name": "stdout",
          "text": [
            "Training until validation scores don't improve for 100 rounds\n",
            "[100]\ttrain's binary_logloss: 0.0306867\teval's binary_logloss: 0.0333011\n"
          ]
        },
        {
          "output_type": "stream",
          "name": "stderr",
          "text": [
            "regularization_factors, val_score: 0.033195:  65%|######5   | 13/20 [00:07<00:04,  1.73it/s]\u001b[32m[I 2021-09-02 12:16:02,146]\u001b[0m Trial 55 finished with value: 0.033271804501822225 and parameters: {'lambda_l1': 1.5900051701190394e-05, 'lambda_l2': 5.430300213194314e-05}. Best is trial 48 with value: 0.033195087426792766.\u001b[0m\n",
            "regularization_factors, val_score: 0.033195:  65%|######5   | 13/20 [00:07<00:04,  1.73it/s]"
          ]
        },
        {
          "output_type": "stream",
          "name": "stdout",
          "text": [
            "Early stopping, best iteration is:\n",
            "[98]\ttrain's binary_logloss: 0.0308154\teval's binary_logloss: 0.0332718\n",
            "Training until validation scores don't improve for 100 rounds\n",
            "[100]\ttrain's binary_logloss: 0.0306869\teval's binary_logloss: 0.033301\n",
            "Early stopping, best iteration is:\n",
            "[98]\ttrain's binary_logloss: 0.0308156\teval's binary_logloss: 0.0332717\n"
          ]
        },
        {
          "output_type": "stream",
          "name": "stderr",
          "text": [
            "regularization_factors, val_score: 0.033195:  70%|#######   | 14/20 [00:08<00:03,  1.74it/s]\u001b[32m[I 2021-09-02 12:16:02,717]\u001b[0m Trial 56 finished with value: 0.03327172315772278 and parameters: {'lambda_l1': 1.2984723591188334e-05, 'lambda_l2': 1.0946519927440366e-08}. Best is trial 48 with value: 0.033195087426792766.\u001b[0m\n",
            "regularization_factors, val_score: 0.033195:  70%|#######   | 14/20 [00:08<00:03,  1.74it/s]"
          ]
        },
        {
          "output_type": "stream",
          "name": "stdout",
          "text": [
            "Training until validation scores don't improve for 100 rounds\n",
            "[100]\ttrain's binary_logloss: 0.0306869\teval's binary_logloss: 0.033301\n"
          ]
        },
        {
          "output_type": "stream",
          "name": "stderr",
          "text": [
            "regularization_factors, val_score: 0.033195:  75%|#######5  | 15/20 [00:08<00:02,  1.73it/s]\u001b[32m[I 2021-09-02 12:16:03,295]\u001b[0m Trial 57 finished with value: 0.03327173664574606 and parameters: {'lambda_l1': 1.3376308559312997e-06, 'lambda_l2': 8.780468099300585e-06}. Best is trial 48 with value: 0.033195087426792766.\u001b[0m\n",
            "regularization_factors, val_score: 0.033195:  75%|#######5  | 15/20 [00:08<00:02,  1.73it/s]"
          ]
        },
        {
          "output_type": "stream",
          "name": "stdout",
          "text": [
            "Early stopping, best iteration is:\n",
            "[98]\ttrain's binary_logloss: 0.0308156\teval's binary_logloss: 0.0332717\n",
            "Training until validation scores don't improve for 100 rounds\n",
            "[100]\ttrain's binary_logloss: 0.0307192\teval's binary_logloss: 0.0334461\n"
          ]
        },
        {
          "output_type": "stream",
          "name": "stderr",
          "text": [
            "regularization_factors, val_score: 0.033195:  80%|########  | 16/20 [00:09<00:02,  1.71it/s]\u001b[32m[I 2021-09-02 12:16:03,899]\u001b[0m Trial 58 finished with value: 0.033328100789081126 and parameters: {'lambda_l1': 0.0026354822696128535, 'lambda_l2': 0.005424720001942932}. Best is trial 48 with value: 0.033195087426792766.\u001b[0m\n",
            "regularization_factors, val_score: 0.033195:  80%|########  | 16/20 [00:09<00:02,  1.71it/s]"
          ]
        },
        {
          "output_type": "stream",
          "name": "stdout",
          "text": [
            "[200]\ttrain's binary_logloss: 0.0280814\teval's binary_logloss: 0.0336463\n",
            "Early stopping, best iteration is:\n",
            "[110]\ttrain's binary_logloss: 0.0302465\teval's binary_logloss: 0.0333281\n",
            "Training until validation scores don't improve for 100 rounds\n",
            "[100]\ttrain's binary_logloss: 0.0306869\teval's binary_logloss: 0.033301\n",
            "Early stopping, best iteration is:\n",
            "[98]\ttrain's binary_logloss: 0.0308156\teval's binary_logloss: 0.0332717\n"
          ]
        },
        {
          "output_type": "stream",
          "name": "stderr",
          "text": [
            "regularization_factors, val_score: 0.033195:  85%|########5 | 17/20 [00:09<00:01,  1.73it/s]\u001b[32m[I 2021-09-02 12:16:04,461]\u001b[0m Trial 59 finished with value: 0.033271722707969124 and parameters: {'lambda_l1': 9.809739798750098e-06, 'lambda_l2': 4.295330051291832e-07}. Best is trial 48 with value: 0.033195087426792766.\u001b[0m\n",
            "regularization_factors, val_score: 0.033195:  85%|########5 | 17/20 [00:09<00:01,  1.73it/s]"
          ]
        },
        {
          "output_type": "stream",
          "name": "stdout",
          "text": [
            "Training until validation scores don't improve for 100 rounds\n",
            "[100]\ttrain's binary_logloss: 0.0306816\teval's binary_logloss: 0.0332814\n"
          ]
        },
        {
          "output_type": "stream",
          "name": "stderr",
          "text": [
            "regularization_factors, val_score: 0.033195:  90%|######### | 18/20 [00:10<00:01,  1.72it/s]\u001b[32m[I 2021-09-02 12:16:05,047]\u001b[0m Trial 60 finished with value: 0.033252713751711536 and parameters: {'lambda_l1': 0.004346685080700033, 'lambda_l2': 4.0266975796208507e-07}. Best is trial 48 with value: 0.033195087426792766.\u001b[0m\n",
            "regularization_factors, val_score: 0.033195:  90%|######### | 18/20 [00:10<00:01,  1.72it/s]"
          ]
        },
        {
          "output_type": "stream",
          "name": "stdout",
          "text": [
            "Early stopping, best iteration is:\n",
            "[98]\ttrain's binary_logloss: 0.0308105\teval's binary_logloss: 0.0332527\n",
            "Training until validation scores don't improve for 100 rounds\n",
            "[100]\ttrain's binary_logloss: 0.0316689\teval's binary_logloss: 0.0375565\n",
            "Early stopping, best iteration is:\n",
            "[98]\ttrain's binary_logloss: 0.0308238\teval's binary_logloss: 0.0332949\n"
          ]
        },
        {
          "output_type": "stream",
          "name": "stderr",
          "text": [
            "regularization_factors, val_score: 0.033195:  95%|#########5| 19/20 [00:11<00:00,  1.74it/s]\u001b[32m[I 2021-09-02 12:16:05,607]\u001b[0m Trial 61 finished with value: 0.03329485148209924 and parameters: {'lambda_l1': 0.00353181968625902, 'lambda_l2': 0.00419351728651466}. Best is trial 48 with value: 0.033195087426792766.\u001b[0m\n",
            "regularization_factors, val_score: 0.033195:  95%|#########5| 19/20 [00:11<00:00,  1.74it/s]"
          ]
        },
        {
          "output_type": "stream",
          "name": "stdout",
          "text": [
            "Training until validation scores don't improve for 100 rounds\n",
            "[100]\ttrain's binary_logloss: 0.037499\teval's binary_logloss: 0.0526131\n",
            "Early stopping, best iteration is:\n",
            "[98]\ttrain's binary_logloss: 0.0308141\teval's binary_logloss: 0.0332215\n"
          ]
        },
        {
          "output_type": "stream",
          "name": "stderr",
          "text": [
            "regularization_factors, val_score: 0.033195: 100%|##########| 20/20 [00:11<00:00,  1.73it/s]\u001b[32m[I 2021-09-02 12:16:06,192]\u001b[0m Trial 62 finished with value: 0.03322147163539038 and parameters: {'lambda_l1': 0.006479294190157058, 'lambda_l2': 7.23844302610131e-07}. Best is trial 48 with value: 0.033195087426792766.\u001b[0m\n",
            "regularization_factors, val_score: 0.033195: 100%|##########| 20/20 [00:11<00:00,  1.72it/s]\n",
            "min_data_in_leaf, val_score: 0.033195:   0%|          | 0/5 [00:00<?, ?it/s]"
          ]
        },
        {
          "output_type": "stream",
          "name": "stdout",
          "text": [
            "Training until validation scores don't improve for 100 rounds\n",
            "[100]\ttrain's binary_logloss: 0.0314562\teval's binary_logloss: 0.0334665\n"
          ]
        },
        {
          "output_type": "stream",
          "name": "stderr",
          "text": [
            "min_data_in_leaf, val_score: 0.033195:  20%|##        | 1/5 [00:00<00:02,  1.84it/s]\u001b[32m[I 2021-09-02 12:16:06,754]\u001b[0m Trial 63 finished with value: 0.03341251025512221 and parameters: {'min_child_samples': 100}. Best is trial 63 with value: 0.03341251025512221.\u001b[0m\n",
            "min_data_in_leaf, val_score: 0.033195:  20%|##        | 1/5 [00:00<00:02,  1.84it/s]"
          ]
        },
        {
          "output_type": "stream",
          "name": "stdout",
          "text": [
            "Early stopping, best iteration is:\n",
            "[92]\ttrain's binary_logloss: 0.0316839\teval's binary_logloss: 0.0334125\n",
            "Training until validation scores don't improve for 100 rounds\n",
            "[100]\ttrain's binary_logloss: 0.0309596\teval's binary_logloss: 0.0345734\n",
            "Early stopping, best iteration is:\n",
            "[76]\ttrain's binary_logloss: 0.0317585\teval's binary_logloss: 0.0337177\n"
          ]
        },
        {
          "output_type": "stream",
          "name": "stderr",
          "text": [
            "min_data_in_leaf, val_score: 0.033195:  40%|####      | 2/5 [00:01<00:01,  1.83it/s]\u001b[32m[I 2021-09-02 12:16:07,304]\u001b[0m Trial 64 finished with value: 0.03371770051764289 and parameters: {'min_child_samples': 25}. Best is trial 63 with value: 0.03341251025512221.\u001b[0m\n",
            "min_data_in_leaf, val_score: 0.033195:  40%|####      | 2/5 [00:01<00:01,  1.83it/s]"
          ]
        },
        {
          "output_type": "stream",
          "name": "stdout",
          "text": [
            "Training until validation scores don't improve for 100 rounds\n",
            "[100]\ttrain's binary_logloss: 0.0313425\teval's binary_logloss: 0.0339767\n"
          ]
        },
        {
          "output_type": "stream",
          "name": "stderr",
          "text": [
            "min_data_in_leaf, val_score: 0.033195:  60%|######    | 3/5 [00:01<00:01,  1.88it/s]\u001b[32m[I 2021-09-02 12:16:07,821]\u001b[0m Trial 65 finished with value: 0.03359613446658283 and parameters: {'min_child_samples': 50}. Best is trial 63 with value: 0.03341251025512221.\u001b[0m\n",
            "min_data_in_leaf, val_score: 0.033195:  60%|######    | 3/5 [00:01<00:01,  1.88it/s]"
          ]
        },
        {
          "output_type": "stream",
          "name": "stdout",
          "text": [
            "Early stopping, best iteration is:\n",
            "[76]\ttrain's binary_logloss: 0.0318961\teval's binary_logloss: 0.0335961\n",
            "Training until validation scores don't improve for 100 rounds\n",
            "[100]\ttrain's binary_logloss: 0.0303757\teval's binary_logloss: 0.0335908\n",
            "Early stopping, best iteration is:\n",
            "[94]\ttrain's binary_logloss: 0.0306613\teval's binary_logloss: 0.0335143\n"
          ]
        },
        {
          "output_type": "stream",
          "name": "stderr",
          "text": [
            "min_data_in_leaf, val_score: 0.033195:  80%|########  | 4/5 [00:02<00:00,  1.85it/s]\u001b[32m[I 2021-09-02 12:16:08,382]\u001b[0m Trial 66 finished with value: 0.033514253914598134 and parameters: {'min_child_samples': 5}. Best is trial 63 with value: 0.03341251025512221.\u001b[0m\n",
            "min_data_in_leaf, val_score: 0.033195:  80%|########  | 4/5 [00:02<00:00,  1.85it/s]"
          ]
        },
        {
          "output_type": "stream",
          "name": "stdout",
          "text": [
            "Training until validation scores don't improve for 100 rounds\n",
            "[100]\ttrain's binary_logloss: 0.0304027\teval's binary_logloss: 0.0334154\n"
          ]
        },
        {
          "output_type": "stream",
          "name": "stderr",
          "text": [
            "min_data_in_leaf, val_score: 0.033195: 100%|##########| 5/5 [00:02<00:00,  1.79it/s]\u001b[32m[I 2021-09-02 12:16:08,963]\u001b[0m Trial 67 finished with value: 0.033363290782287586 and parameters: {'min_child_samples': 10}. Best is trial 67 with value: 0.033363290782287586.\u001b[0m\n",
            "min_data_in_leaf, val_score: 0.033195: 100%|##########| 5/5 [00:02<00:00,  1.81it/s]\n",
            "Best Params 1 - {'objective': 'binary', 'metric': 'binary_logloss', 'device_type': 'gpu', 'seed': 441, 'verbosity': -1, 'feature_pre_filter': False, 'lambda_l1': 0.006139455462106154, 'lambda_l2': 0.0005763740833208998, 'num_leaves': 3, 'feature_fraction': 0.58, 'bagging_fraction': 0.8040506047469914, 'bagging_freq': 5, 'min_child_samples': 20, 'num_iterations': 10000, 'early_stopping_round': 100}\n",
            "Result 1 - Score: 0.9183363691560413, time: 54s\n",
            "Result 1 - Save Best Model\n",
            "========== fold: 1 result ==========\n",
            "Score: 0.91834\n",
            "========== fold: 2 training ==========\n",
            "\u001b[32m[I 2021-09-02 12:16:09,035]\u001b[0m A new study created in memory with name: no-name-e7d9ff73-5332-4654-a842-43d5590e439f\u001b[0m\n"
          ]
        },
        {
          "output_type": "stream",
          "name": "stdout",
          "text": [
            "Early stopping, best iteration is:\n",
            "[98]\ttrain's binary_logloss: 0.0305231\teval's binary_logloss: 0.0333633\n"
          ]
        },
        {
          "output_type": "stream",
          "name": "stderr",
          "text": [
            "feature_fraction, val_score: inf:   0%|          | 0/7 [00:00<?, ?it/s]"
          ]
        },
        {
          "output_type": "stream",
          "name": "stdout",
          "text": [
            "Training until validation scores don't improve for 100 rounds\n"
          ]
        },
        {
          "output_type": "stream",
          "name": "stderr",
          "text": [
            "\rfeature_fraction, val_score: 0.031117:   0%|          | 0/7 [00:00<?, ?it/s]"
          ]
        },
        {
          "output_type": "stream",
          "name": "stdout",
          "text": [
            "[100]\ttrain's binary_logloss: 0.0108012\teval's binary_logloss: 0.0341148\n",
            "Early stopping, best iteration is:\n",
            "[43]\ttrain's binary_logloss: 0.0173763\teval's binary_logloss: 0.0311175\n"
          ]
        },
        {
          "output_type": "stream",
          "name": "stderr",
          "text": [
            "feature_fraction, val_score: 0.031117:  14%|#4        | 1/7 [00:00<00:04,  1.41it/s]\u001b[32m[I 2021-09-02 12:16:09,753]\u001b[0m Trial 0 finished with value: 0.031117486956826573 and parameters: {'feature_fraction': 0.6}. Best is trial 0 with value: 0.031117486956826573.\u001b[0m\n",
            "feature_fraction, val_score: 0.031117:  14%|#4        | 1/7 [00:00<00:04,  1.41it/s]"
          ]
        },
        {
          "output_type": "stream",
          "name": "stdout",
          "text": [
            "Training until validation scores don't improve for 100 rounds\n"
          ]
        },
        {
          "output_type": "stream",
          "name": "stderr",
          "text": [
            "feature_fraction, val_score: 0.031117:  29%|##8       | 2/7 [00:01<00:03,  1.42it/s]"
          ]
        },
        {
          "output_type": "stream",
          "name": "stdout",
          "text": [
            "[100]\ttrain's binary_logloss: 0.0102224\teval's binary_logloss: 0.0358383\n",
            "Early stopping, best iteration is:\n",
            "[40]\ttrain's binary_logloss: 0.0176776\teval's binary_logloss: 0.0330517\n"
          ]
        },
        {
          "output_type": "stream",
          "name": "stderr",
          "text": [
            "\u001b[32m[I 2021-09-02 12:16:10,464]\u001b[0m Trial 1 finished with value: 0.03305174734523764 and parameters: {'feature_fraction': 0.8}. Best is trial 0 with value: 0.031117486956826573.\u001b[0m\n",
            "feature_fraction, val_score: 0.031117:  29%|##8       | 2/7 [00:01<00:03,  1.42it/s]"
          ]
        },
        {
          "output_type": "stream",
          "name": "stdout",
          "text": [
            "Training until validation scores don't improve for 100 rounds\n"
          ]
        },
        {
          "output_type": "stream",
          "name": "stderr",
          "text": [
            "feature_fraction, val_score: 0.031117:  43%|####2     | 3/7 [00:02<00:02,  1.45it/s]\u001b[32m[I 2021-09-02 12:16:11,122]\u001b[0m Trial 2 finished with value: 0.03408489086054158 and parameters: {'feature_fraction': 1.0}. Best is trial 0 with value: 0.031117486956826573.\u001b[0m\n",
            "feature_fraction, val_score: 0.031117:  43%|####2     | 3/7 [00:02<00:02,  1.45it/s]"
          ]
        },
        {
          "output_type": "stream",
          "name": "stdout",
          "text": [
            "[100]\ttrain's binary_logloss: 0.00930862\teval's binary_logloss: 0.0378321\n",
            "Early stopping, best iteration is:\n",
            "[36]\ttrain's binary_logloss: 0.0178663\teval's binary_logloss: 0.0340849\n",
            "Training until validation scores don't improve for 100 rounds\n"
          ]
        },
        {
          "output_type": "stream",
          "name": "stderr",
          "text": [
            "feature_fraction, val_score: 0.031117:  57%|#####7    | 4/7 [00:02<00:02,  1.46it/s]\u001b[32m[I 2021-09-02 12:16:11,801]\u001b[0m Trial 3 finished with value: 0.03289806488780281 and parameters: {'feature_fraction': 0.8999999999999999}. Best is trial 0 with value: 0.031117486956826573.\u001b[0m\n",
            "feature_fraction, val_score: 0.031117:  57%|#####7    | 4/7 [00:02<00:02,  1.46it/s]"
          ]
        },
        {
          "output_type": "stream",
          "name": "stdout",
          "text": [
            "[100]\ttrain's binary_logloss: 0.0100903\teval's binary_logloss: 0.035703\n",
            "Early stopping, best iteration is:\n",
            "[34]\ttrain's binary_logloss: 0.0189052\teval's binary_logloss: 0.0328981\n",
            "Training until validation scores don't improve for 100 rounds\n"
          ]
        },
        {
          "output_type": "stream",
          "name": "stderr",
          "text": [
            "feature_fraction, val_score: 0.031117:  71%|#######1  | 5/7 [00:03<00:01,  1.45it/s]"
          ]
        },
        {
          "output_type": "stream",
          "name": "stdout",
          "text": [
            "[100]\ttrain's binary_logloss: 0.0108012\teval's binary_logloss: 0.0341149\n",
            "Early stopping, best iteration is:\n",
            "[43]\ttrain's binary_logloss: 0.0173763\teval's binary_logloss: 0.0311182\n"
          ]
        },
        {
          "output_type": "stream",
          "name": "stderr",
          "text": [
            "\u001b[32m[I 2021-09-02 12:16:12,495]\u001b[0m Trial 4 finished with value: 0.031118166036648225 and parameters: {'feature_fraction': 0.5}. Best is trial 0 with value: 0.031117486956826573.\u001b[0m\n",
            "feature_fraction, val_score: 0.031117:  71%|#######1  | 5/7 [00:03<00:01,  1.45it/s]"
          ]
        },
        {
          "output_type": "stream",
          "name": "stdout",
          "text": [
            "Training until validation scores don't improve for 100 rounds\n"
          ]
        },
        {
          "output_type": "stream",
          "name": "stderr",
          "text": [
            "feature_fraction, val_score: 0.031117:  86%|########5 | 6/7 [00:04<00:00,  1.48it/s]\u001b[32m[I 2021-09-02 12:16:13,152]\u001b[0m Trial 5 finished with value: 0.03285413471958652 and parameters: {'feature_fraction': 0.7}. Best is trial 0 with value: 0.031117486956826573.\u001b[0m\n",
            "feature_fraction, val_score: 0.031117:  86%|########5 | 6/7 [00:04<00:00,  1.48it/s]"
          ]
        },
        {
          "output_type": "stream",
          "name": "stdout",
          "text": [
            "[100]\ttrain's binary_logloss: 0.0104962\teval's binary_logloss: 0.0355308\n",
            "Early stopping, best iteration is:\n",
            "[32]\ttrain's binary_logloss: 0.0198856\teval's binary_logloss: 0.0328541\n",
            "Training until validation scores don't improve for 100 rounds\n"
          ]
        },
        {
          "output_type": "stream",
          "name": "stderr",
          "text": [
            "feature_fraction, val_score: 0.031117: 100%|##########| 7/7 [00:04<00:00,  1.48it/s]\u001b[32m[I 2021-09-02 12:16:13,834]\u001b[0m Trial 6 finished with value: 0.033316580520445886 and parameters: {'feature_fraction': 0.4}. Best is trial 0 with value: 0.031117486956826573.\u001b[0m\n",
            "feature_fraction, val_score: 0.031117: 100%|##########| 7/7 [00:04<00:00,  1.46it/s]\n"
          ]
        },
        {
          "output_type": "stream",
          "name": "stdout",
          "text": [
            "[100]\ttrain's binary_logloss: 0.0114201\teval's binary_logloss: 0.0355711\n",
            "Early stopping, best iteration is:\n",
            "[38]\ttrain's binary_logloss: 0.0191714\teval's binary_logloss: 0.0333166\n"
          ]
        },
        {
          "output_type": "stream",
          "name": "stderr",
          "text": [
            "num_leaves, val_score: 0.031117:   0%|          | 0/20 [00:00<?, ?it/s]"
          ]
        },
        {
          "output_type": "stream",
          "name": "stdout",
          "text": [
            "Training until validation scores don't improve for 100 rounds\n",
            "[100]\ttrain's binary_logloss: 0.00461826\teval's binary_logloss: 0.0425428\n"
          ]
        },
        {
          "output_type": "stream",
          "name": "stderr",
          "text": [
            "num_leaves, val_score: 0.031117:   5%|5         | 1/20 [00:01<00:23,  1.26s/it]\u001b[32m[I 2021-09-02 12:16:15,103]\u001b[0m Trial 7 finished with value: 0.03270957820982178 and parameters: {'num_leaves': 90}. Best is trial 7 with value: 0.03270957820982178.\u001b[0m\n",
            "num_leaves, val_score: 0.031117:   5%|5         | 1/20 [00:01<00:23,  1.26s/it]"
          ]
        },
        {
          "output_type": "stream",
          "name": "stdout",
          "text": [
            "Early stopping, best iteration is:\n",
            "[31]\ttrain's binary_logloss: 0.0142566\teval's binary_logloss: 0.0327096\n",
            "Training until validation scores don't improve for 100 rounds\n"
          ]
        },
        {
          "output_type": "stream",
          "name": "stderr",
          "text": [
            "num_leaves, val_score: 0.031117:  10%|#         | 2/20 [00:01<00:15,  1.14it/s]\u001b[32m[I 2021-09-02 12:16:15,717]\u001b[0m Trial 8 finished with value: 0.032424938102118855 and parameters: {'num_leaves': 24}. Best is trial 8 with value: 0.032424938102118855.\u001b[0m\n",
            "num_leaves, val_score: 0.031117:  10%|#         | 2/20 [00:01<00:15,  1.14it/s]"
          ]
        },
        {
          "output_type": "stream",
          "name": "stdout",
          "text": [
            "[100]\ttrain's binary_logloss: 0.0132013\teval's binary_logloss: 0.034521\n",
            "Early stopping, best iteration is:\n",
            "[47]\ttrain's binary_logloss: 0.0189621\teval's binary_logloss: 0.0324249\n",
            "Training until validation scores don't improve for 100 rounds\n",
            "[100]\ttrain's binary_logloss: 0.00471329\teval's binary_logloss: 0.044055\n"
          ]
        },
        {
          "output_type": "stream",
          "name": "stderr",
          "text": [
            "num_leaves, val_score: 0.031117:  15%|#5        | 3/20 [00:04<00:27,  1.62s/it]\u001b[32m[I 2021-09-02 12:16:18,227]\u001b[0m Trial 9 finished with value: 0.03306455833441623 and parameters: {'num_leaves': 226}. Best is trial 8 with value: 0.032424938102118855.\u001b[0m\n",
            "num_leaves, val_score: 0.031117:  15%|#5        | 3/20 [00:04<00:27,  1.62s/it]"
          ]
        },
        {
          "output_type": "stream",
          "name": "stdout",
          "text": [
            "Early stopping, best iteration is:\n",
            "[27]\ttrain's binary_logloss: 0.0157223\teval's binary_logloss: 0.0330646\n",
            "Training until validation scores don't improve for 100 rounds\n",
            "[100]\ttrain's binary_logloss: 0.0046288\teval's binary_logloss: 0.043284\n"
          ]
        },
        {
          "output_type": "stream",
          "name": "stderr",
          "text": [
            "num_leaves, val_score: 0.031117:  20%|##        | 4/20 [00:05<00:23,  1.49s/it]\u001b[32m[I 2021-09-02 12:16:19,519]\u001b[0m Trial 10 finished with value: 0.032897613541208987 and parameters: {'num_leaves': 92}. Best is trial 8 with value: 0.032424938102118855.\u001b[0m\n",
            "num_leaves, val_score: 0.031117:  20%|##        | 4/20 [00:05<00:23,  1.49s/it]"
          ]
        },
        {
          "output_type": "stream",
          "name": "stdout",
          "text": [
            "Early stopping, best iteration is:\n",
            "[32]\ttrain's binary_logloss: 0.0137926\teval's binary_logloss: 0.0328976\n",
            "Training until validation scores don't improve for 100 rounds\n",
            "[100]\ttrain's binary_logloss: 0.00463163\teval's binary_logloss: 0.0435387\n"
          ]
        },
        {
          "output_type": "stream",
          "name": "stderr",
          "text": [
            "num_leaves, val_score: 0.031117:  25%|##5       | 5/20 [00:07<00:24,  1.63s/it]\u001b[32m[I 2021-09-02 12:16:21,402]\u001b[0m Trial 11 finished with value: 0.032815658392668166 and parameters: {'num_leaves': 149}. Best is trial 8 with value: 0.032424938102118855.\u001b[0m\n",
            "num_leaves, val_score: 0.031117:  25%|##5       | 5/20 [00:07<00:24,  1.63s/it]"
          ]
        },
        {
          "output_type": "stream",
          "name": "stdout",
          "text": [
            "Early stopping, best iteration is:\n",
            "[31]\ttrain's binary_logloss: 0.0140108\teval's binary_logloss: 0.0328157\n",
            "Training until validation scores don't improve for 100 rounds\n",
            "[100]\ttrain's binary_logloss: 0.00476798\teval's binary_logloss: 0.0434591\n"
          ]
        },
        {
          "output_type": "stream",
          "name": "stderr",
          "text": [
            "num_leaves, val_score: 0.031117:  30%|###       | 6/20 [00:09<00:24,  1.72s/it]\u001b[32m[I 2021-09-02 12:16:23,295]\u001b[0m Trial 12 finished with value: 0.033062010370896344 and parameters: {'num_leaves': 156}. Best is trial 8 with value: 0.032424938102118855.\u001b[0m\n",
            "num_leaves, val_score: 0.031117:  30%|###       | 6/20 [00:09<00:24,  1.72s/it]"
          ]
        },
        {
          "output_type": "stream",
          "name": "stdout",
          "text": [
            "Early stopping, best iteration is:\n",
            "[27]\ttrain's binary_logloss: 0.0157223\teval's binary_logloss: 0.033062\n",
            "Training until validation scores don't improve for 100 rounds\n",
            "[100]\ttrain's binary_logloss: 0.00475887\teval's binary_logloss: 0.0436231\n"
          ]
        },
        {
          "output_type": "stream",
          "name": "stderr",
          "text": [
            "num_leaves, val_score: 0.031117:  35%|###5      | 7/20 [00:11<00:25,  1.97s/it]\u001b[32m[I 2021-09-02 12:16:25,792]\u001b[0m Trial 13 finished with value: 0.03276836861474725 and parameters: {'num_leaves': 222}. Best is trial 8 with value: 0.032424938102118855.\u001b[0m\n",
            "num_leaves, val_score: 0.031117:  35%|###5      | 7/20 [00:11<00:25,  1.97s/it]"
          ]
        },
        {
          "output_type": "stream",
          "name": "stdout",
          "text": [
            "Early stopping, best iteration is:\n",
            "[30]\ttrain's binary_logloss: 0.014423\teval's binary_logloss: 0.0327684\n",
            "Training until validation scores don't improve for 100 rounds\n",
            "[100]\ttrain's binary_logloss: 0.00463163\teval's binary_logloss: 0.0435381\n"
          ]
        },
        {
          "output_type": "stream",
          "name": "stderr",
          "text": [
            "num_leaves, val_score: 0.031117:  40%|####      | 8/20 [00:13<00:23,  1.94s/it]\u001b[32m[I 2021-09-02 12:16:27,643]\u001b[0m Trial 14 finished with value: 0.03281481603365366 and parameters: {'num_leaves': 144}. Best is trial 8 with value: 0.032424938102118855.\u001b[0m\n",
            "num_leaves, val_score: 0.031117:  40%|####      | 8/20 [00:13<00:23,  1.94s/it]"
          ]
        },
        {
          "output_type": "stream",
          "name": "stdout",
          "text": [
            "Early stopping, best iteration is:\n",
            "[31]\ttrain's binary_logloss: 0.0140108\teval's binary_logloss: 0.0328148\n",
            "Training until validation scores don't improve for 100 rounds\n",
            "[100]\ttrain's binary_logloss: 0.00463163\teval's binary_logloss: 0.0435372\n"
          ]
        },
        {
          "output_type": "stream",
          "name": "stderr",
          "text": [
            "num_leaves, val_score: 0.031117:  45%|####5     | 9/20 [00:16<00:22,  2.03s/it]\u001b[32m[I 2021-09-02 12:16:29,869]\u001b[0m Trial 15 finished with value: 0.032812849923887305 and parameters: {'num_leaves': 189}. Best is trial 8 with value: 0.032424938102118855.\u001b[0m\n",
            "num_leaves, val_score: 0.031117:  45%|####5     | 9/20 [00:16<00:22,  2.03s/it]"
          ]
        },
        {
          "output_type": "stream",
          "name": "stdout",
          "text": [
            "Early stopping, best iteration is:\n",
            "[31]\ttrain's binary_logloss: 0.0140107\teval's binary_logloss: 0.0328128\n",
            "Training until validation scores don't improve for 100 rounds\n",
            "[100]\ttrain's binary_logloss: 0.00463163\teval's binary_logloss: 0.0435379\n"
          ]
        },
        {
          "output_type": "stream",
          "name": "stderr",
          "text": [
            "num_leaves, val_score: 0.031117:  50%|#####     | 10/20 [00:18<00:20,  2.09s/it]\u001b[32m[I 2021-09-02 12:16:32,099]\u001b[0m Trial 16 finished with value: 0.032813616379668425 and parameters: {'num_leaves': 192}. Best is trial 8 with value: 0.032424938102118855.\u001b[0m\n",
            "num_leaves, val_score: 0.031117:  50%|#####     | 10/20 [00:18<00:20,  2.09s/it]"
          ]
        },
        {
          "output_type": "stream",
          "name": "stdout",
          "text": [
            "Early stopping, best iteration is:\n",
            "[31]\ttrain's binary_logloss: 0.0140107\teval's binary_logloss: 0.0328136\n",
            "Training until validation scores don't improve for 100 rounds\n"
          ]
        },
        {
          "output_type": "stream",
          "name": "stderr",
          "text": [
            "num_leaves, val_score: 0.031117:  55%|#####5    | 11/20 [00:18<00:14,  1.59s/it]\u001b[32m[I 2021-09-02 12:16:32,571]\u001b[0m Trial 17 finished with value: 0.03205389295758078 and parameters: {'num_leaves': 12}. Best is trial 17 with value: 0.03205389295758078.\u001b[0m\n",
            "num_leaves, val_score: 0.031117:  55%|#####5    | 11/20 [00:18<00:14,  1.59s/it]"
          ]
        },
        {
          "output_type": "stream",
          "name": "stdout",
          "text": [
            "[100]\ttrain's binary_logloss: 0.0199714\teval's binary_logloss: 0.0331004\n",
            "Early stopping, best iteration is:\n",
            "[43]\ttrain's binary_logloss: 0.0246251\teval's binary_logloss: 0.0320539\n",
            "Training until validation scores don't improve for 100 rounds\n",
            "[100]\ttrain's binary_logloss: 0.0318187\teval's binary_logloss: 0.0312699\n",
            "[200]\ttrain's binary_logloss: 0.0296271\teval's binary_logloss: 0.0308959\n"
          ]
        },
        {
          "output_type": "stream",
          "name": "stderr",
          "text": [
            "num_leaves, val_score: 0.030775:  60%|######    | 12/20 [00:19<00:09,  1.24s/it]\u001b[32m[I 2021-09-02 12:16:33,002]\u001b[0m Trial 18 finished with value: 0.03077499731783521 and parameters: {'num_leaves': 3}. Best is trial 18 with value: 0.03077499731783521.\u001b[0m\n",
            "num_leaves, val_score: 0.030775:  60%|######    | 12/20 [00:19<00:09,  1.24s/it]"
          ]
        },
        {
          "output_type": "stream",
          "name": "stdout",
          "text": [
            "Early stopping, best iteration is:\n",
            "[163]\ttrain's binary_logloss: 0.030383\teval's binary_logloss: 0.030775\n",
            "Training until validation scores don't improve for 100 rounds\n",
            "[100]\ttrain's binary_logloss: 0.0340311\teval's binary_logloss: 0.0322822\n",
            "[200]\ttrain's binary_logloss: 0.0326841\teval's binary_logloss: 0.0311642\n",
            "[300]\ttrain's binary_logloss: 0.0321686\teval's binary_logloss: 0.0309114\n",
            "[400]\ttrain's binary_logloss: 0.0318062\teval's binary_logloss: 0.0308143\n",
            "[500]\ttrain's binary_logloss: 0.0315146\teval's binary_logloss: 0.0307678\n",
            "[600]\ttrain's binary_logloss: 0.0312693\teval's binary_logloss: 0.0307164\n"
          ]
        },
        {
          "output_type": "stream",
          "name": "stderr",
          "text": [
            "num_leaves, val_score: 0.030712:  65%|######5   | 13/20 [00:19<00:07,  1.12s/it]\u001b[32m[I 2021-09-02 12:16:33,830]\u001b[0m Trial 19 finished with value: 0.030711748568444393 and parameters: {'num_leaves': 2}. Best is trial 19 with value: 0.030711748568444393.\u001b[0m\n",
            "num_leaves, val_score: 0.030712:  65%|######5   | 13/20 [00:19<00:07,  1.12s/it]"
          ]
        },
        {
          "output_type": "stream",
          "name": "stdout",
          "text": [
            "[700]\ttrain's binary_logloss: 0.0310496\teval's binary_logloss: 0.0307912\n",
            "Early stopping, best iteration is:\n",
            "[602]\ttrain's binary_logloss: 0.0312647\teval's binary_logloss: 0.0307117\n",
            "Training until validation scores don't improve for 100 rounds\n",
            "[100]\ttrain's binary_logloss: 0.00583708\teval's binary_logloss: 0.0375311\n",
            "Early stopping, best iteration is:\n",
            "[31]\ttrain's binary_logloss: 0.0160703\teval's binary_logloss: 0.0323661\n"
          ]
        },
        {
          "output_type": "stream",
          "name": "stderr",
          "text": [
            "num_leaves, val_score: 0.030712:  70%|#######   | 14/20 [00:20<00:06,  1.06s/it]\u001b[32m[I 2021-09-02 12:16:34,752]\u001b[0m Trial 20 finished with value: 0.03236605368570255 and parameters: {'num_leaves': 55}. Best is trial 19 with value: 0.030711748568444393.\u001b[0m\n",
            "num_leaves, val_score: 0.030712:  70%|#######   | 14/20 [00:20<00:06,  1.06s/it]"
          ]
        },
        {
          "output_type": "stream",
          "name": "stdout",
          "text": [
            "Training until validation scores don't improve for 100 rounds\n",
            "[100]\ttrain's binary_logloss: 0.0318187\teval's binary_logloss: 0.0312699\n"
          ]
        },
        {
          "output_type": "stream",
          "name": "stderr",
          "text": [
            "num_leaves, val_score: 0.030712:  75%|#######5  | 15/20 [00:21<00:04,  1.14it/s]\u001b[32m[I 2021-09-02 12:16:35,205]\u001b[0m Trial 21 finished with value: 0.03077499839729585 and parameters: {'num_leaves': 3}. Best is trial 19 with value: 0.030711748568444393.\u001b[0m\n",
            "num_leaves, val_score: 0.030712:  75%|#######5  | 15/20 [00:21<00:04,  1.14it/s]"
          ]
        },
        {
          "output_type": "stream",
          "name": "stdout",
          "text": [
            "[200]\ttrain's binary_logloss: 0.0296271\teval's binary_logloss: 0.0308959\n",
            "Early stopping, best iteration is:\n",
            "[163]\ttrain's binary_logloss: 0.030383\teval's binary_logloss: 0.030775\n",
            "Training until validation scores don't improve for 100 rounds\n",
            "[100]\ttrain's binary_logloss: 0.0058972\teval's binary_logloss: 0.0376107\n",
            "Early stopping, best iteration is:\n",
            "[32]\ttrain's binary_logloss: 0.0155132\teval's binary_logloss: 0.0323844\n"
          ]
        },
        {
          "output_type": "stream",
          "name": "stderr",
          "text": [
            "num_leaves, val_score: 0.030712:  80%|########  | 16/20 [00:22<00:03,  1.12it/s]\u001b[32m[I 2021-09-02 12:16:36,146]\u001b[0m Trial 22 finished with value: 0.032384384086693856 and parameters: {'num_leaves': 56}. Best is trial 19 with value: 0.030711748568444393.\u001b[0m\n",
            "num_leaves, val_score: 0.030712:  80%|########  | 16/20 [00:22<00:03,  1.12it/s]"
          ]
        },
        {
          "output_type": "stream",
          "name": "stdout",
          "text": [
            "Training until validation scores don't improve for 100 rounds\n",
            "[100]\ttrain's binary_logloss: 0.00692297\teval's binary_logloss: 0.0370711\n",
            "Early stopping, best iteration is:\n",
            "[36]\ttrain's binary_logloss: 0.0155626\teval's binary_logloss: 0.0324552\n"
          ]
        },
        {
          "output_type": "stream",
          "name": "stderr",
          "text": [
            "num_leaves, val_score: 0.030712:  85%|########5 | 17/20 [00:23<00:02,  1.13it/s]\u001b[32m[I 2021-09-02 12:16:37,007]\u001b[0m Trial 23 finished with value: 0.03245519224491364 and parameters: {'num_leaves': 48}. Best is trial 19 with value: 0.030711748568444393.\u001b[0m\n",
            "num_leaves, val_score: 0.030712:  85%|########5 | 17/20 [00:23<00:02,  1.13it/s]"
          ]
        },
        {
          "output_type": "stream",
          "name": "stdout",
          "text": [
            "Training until validation scores don't improve for 100 rounds\n",
            "[100]\ttrain's binary_logloss: 0.00461313\teval's binary_logloss: 0.0431547\n"
          ]
        },
        {
          "output_type": "stream",
          "name": "stderr",
          "text": [
            "num_leaves, val_score: 0.030712:  90%|######### | 18/20 [00:24<00:02,  1.04s/it]\u001b[32m[I 2021-09-02 12:16:38,404]\u001b[0m Trial 24 finished with value: 0.03273013903925134 and parameters: {'num_leaves': 100}. Best is trial 19 with value: 0.030711748568444393.\u001b[0m\n",
            "num_leaves, val_score: 0.030712:  90%|######### | 18/20 [00:24<00:02,  1.04s/it]"
          ]
        },
        {
          "output_type": "stream",
          "name": "stdout",
          "text": [
            "Early stopping, best iteration is:\n",
            "[33]\ttrain's binary_logloss: 0.0133557\teval's binary_logloss: 0.0327301\n",
            "Training until validation scores don't improve for 100 rounds\n"
          ]
        },
        {
          "output_type": "stream",
          "name": "stderr",
          "text": [
            "num_leaves, val_score: 0.030712:  95%|#########5| 19/20 [00:25<00:00,  1.05it/s]\u001b[32m[I 2021-09-02 12:16:39,155]\u001b[0m Trial 25 finished with value: 0.032335296632531804 and parameters: {'num_leaves': 36}. Best is trial 19 with value: 0.030711748568444393.\u001b[0m\n",
            "num_leaves, val_score: 0.030712:  95%|#########5| 19/20 [00:25<00:00,  1.05it/s]"
          ]
        },
        {
          "output_type": "stream",
          "name": "stdout",
          "text": [
            "[100]\ttrain's binary_logloss: 0.00935046\teval's binary_logloss: 0.0358155\n",
            "Early stopping, best iteration is:\n",
            "[36]\ttrain's binary_logloss: 0.0179199\teval's binary_logloss: 0.0323353\n",
            "Training until validation scores don't improve for 100 rounds\n",
            "[100]\ttrain's binary_logloss: 0.00498767\teval's binary_logloss: 0.0404732\n"
          ]
        },
        {
          "output_type": "stream",
          "name": "stderr",
          "text": [
            "num_leaves, val_score: 0.030712: 100%|##########| 20/20 [00:26<00:00,  1.00s/it]\u001b[32m[I 2021-09-02 12:16:40,272]\u001b[0m Trial 26 finished with value: 0.032486184197629935 and parameters: {'num_leaves': 69}. Best is trial 19 with value: 0.030711748568444393.\u001b[0m\n",
            "num_leaves, val_score: 0.030712: 100%|##########| 20/20 [00:26<00:00,  1.32s/it]\n"
          ]
        },
        {
          "output_type": "stream",
          "name": "stdout",
          "text": [
            "Early stopping, best iteration is:\n",
            "[35]\ttrain's binary_logloss: 0.0134559\teval's binary_logloss: 0.0324862\n"
          ]
        },
        {
          "output_type": "stream",
          "name": "stderr",
          "text": [
            "bagging, val_score: 0.030712:   0%|          | 0/10 [00:00<?, ?it/s]"
          ]
        },
        {
          "output_type": "stream",
          "name": "stdout",
          "text": [
            "Training until validation scores don't improve for 100 rounds\n",
            "[100]\ttrain's binary_logloss: 0.0341025\teval's binary_logloss: 0.0322765\n",
            "[200]\ttrain's binary_logloss: 0.0325838\teval's binary_logloss: 0.031005\n",
            "[300]\ttrain's binary_logloss: 0.0319437\teval's binary_logloss: 0.031212\n"
          ]
        },
        {
          "output_type": "stream",
          "name": "stderr",
          "text": [
            "bagging, val_score: 0.030712:  10%|#         | 1/10 [00:00<00:07,  1.24it/s]\u001b[32m[I 2021-09-02 12:16:41,102]\u001b[0m Trial 27 finished with value: 0.03093680346880445 and parameters: {'bagging_fraction': 0.5593012388651144, 'bagging_freq': 5}. Best is trial 27 with value: 0.03093680346880445.\u001b[0m\n",
            "bagging, val_score: 0.030712:  10%|#         | 1/10 [00:00<00:07,  1.24it/s]"
          ]
        },
        {
          "output_type": "stream",
          "name": "stdout",
          "text": [
            "Early stopping, best iteration is:\n",
            "[275]\ttrain's binary_logloss: 0.0320823\teval's binary_logloss: 0.0309368\n",
            "Training until validation scores don't improve for 100 rounds\n",
            "[100]\ttrain's binary_logloss: 0.0339854\teval's binary_logloss: 0.0321928\n",
            "[200]\ttrain's binary_logloss: 0.0326758\teval's binary_logloss: 0.0313748\n",
            "[300]\ttrain's binary_logloss: 0.0320976\teval's binary_logloss: 0.0314149\n"
          ]
        },
        {
          "output_type": "stream",
          "name": "stderr",
          "text": [
            "bagging, val_score: 0.030712:  20%|##        | 2/10 [00:01<00:06,  1.27it/s]\u001b[32m[I 2021-09-02 12:16:41,875]\u001b[0m Trial 28 finished with value: 0.031208053552665944 and parameters: {'bagging_fraction': 0.8950065973321131, 'bagging_freq': 7}. Best is trial 27 with value: 0.03093680346880445.\u001b[0m\n",
            "bagging, val_score: 0.030712:  20%|##        | 2/10 [00:01<00:06,  1.27it/s]"
          ]
        },
        {
          "output_type": "stream",
          "name": "stdout",
          "text": [
            "Early stopping, best iteration is:\n",
            "[259]\ttrain's binary_logloss: 0.0323071\teval's binary_logloss: 0.0312081\n",
            "Training until validation scores don't improve for 100 rounds\n",
            "[100]\ttrain's binary_logloss: 0.0341076\teval's binary_logloss: 0.0322368\n",
            "[200]\ttrain's binary_logloss: 0.0326068\teval's binary_logloss: 0.0310531\n",
            "[300]\ttrain's binary_logloss: 0.0319531\teval's binary_logloss: 0.0314655\n",
            "Early stopping, best iteration is:\n",
            "[200]\ttrain's binary_logloss: 0.0326068\teval's binary_logloss: 0.0310531\n"
          ]
        },
        {
          "output_type": "stream",
          "name": "stderr",
          "text": [
            "bagging, val_score: 0.030712:  30%|###       | 3/10 [00:02<00:05,  1.36it/s]\u001b[32m[I 2021-09-02 12:16:42,542]\u001b[0m Trial 29 finished with value: 0.031053070982811466 and parameters: {'bagging_fraction': 0.5658419045514951, 'bagging_freq': 5}. Best is trial 27 with value: 0.03093680346880445.\u001b[0m\n",
            "bagging, val_score: 0.030712:  30%|###       | 3/10 [00:02<00:05,  1.36it/s]"
          ]
        },
        {
          "output_type": "stream",
          "name": "stdout",
          "text": [
            "Training until validation scores don't improve for 100 rounds\n",
            "[100]\ttrain's binary_logloss: 0.0339671\teval's binary_logloss: 0.0323248\n",
            "[200]\ttrain's binary_logloss: 0.0326248\teval's binary_logloss: 0.0311229\n",
            "[300]\ttrain's binary_logloss: 0.0319928\teval's binary_logloss: 0.0311199\n"
          ]
        },
        {
          "output_type": "stream",
          "name": "stderr",
          "text": [
            "bagging, val_score: 0.030712:  40%|####      | 4/10 [00:03<00:04,  1.32it/s]\u001b[32m[I 2021-09-02 12:16:43,335]\u001b[0m Trial 30 finished with value: 0.031058764144941065 and parameters: {'bagging_fraction': 0.866346627770044, 'bagging_freq': 5}. Best is trial 27 with value: 0.03093680346880445.\u001b[0m\n",
            "bagging, val_score: 0.030712:  40%|####      | 4/10 [00:03<00:04,  1.32it/s]"
          ]
        },
        {
          "output_type": "stream",
          "name": "stdout",
          "text": [
            "Early stopping, best iteration is:\n",
            "[229]\ttrain's binary_logloss: 0.0324238\teval's binary_logloss: 0.0310588\n",
            "Training until validation scores don't improve for 100 rounds\n",
            "[100]\ttrain's binary_logloss: 0.0339968\teval's binary_logloss: 0.0323072\n",
            "[200]\ttrain's binary_logloss: 0.0326564\teval's binary_logloss: 0.0312107\n"
          ]
        },
        {
          "output_type": "stream",
          "name": "stderr",
          "text": [
            "bagging, val_score: 0.030712:  50%|#####     | 5/10 [00:04<00:04,  1.20it/s]"
          ]
        },
        {
          "output_type": "stream",
          "name": "stdout",
          "text": [
            "[300]\ttrain's binary_logloss: 0.032002\teval's binary_logloss: 0.0313208\n",
            "Early stopping, best iteration is:\n",
            "[280]\ttrain's binary_logloss: 0.0320975\teval's binary_logloss: 0.0311003\n"
          ]
        },
        {
          "output_type": "stream",
          "name": "stderr",
          "text": [
            "\u001b[32m[I 2021-09-02 12:16:44,305]\u001b[0m Trial 31 finished with value: 0.031100286861493288 and parameters: {'bagging_fraction': 0.8385561476944152, 'bagging_freq': 4}. Best is trial 27 with value: 0.03093680346880445.\u001b[0m\n",
            "bagging, val_score: 0.030712:  50%|#####     | 5/10 [00:04<00:04,  1.20it/s]"
          ]
        },
        {
          "output_type": "stream",
          "name": "stdout",
          "text": [
            "Training until validation scores don't improve for 100 rounds\n",
            "[100]\ttrain's binary_logloss: 0.0339845\teval's binary_logloss: 0.0323249\n",
            "[200]\ttrain's binary_logloss: 0.0326683\teval's binary_logloss: 0.0310695\n",
            "[300]\ttrain's binary_logloss: 0.0321149\teval's binary_logloss: 0.0308728\n"
          ]
        },
        {
          "output_type": "stream",
          "name": "stderr",
          "text": [
            "bagging, val_score: 0.030712:  60%|######    | 6/10 [00:05<00:03,  1.12it/s]\u001b[32m[I 2021-09-02 12:16:45,313]\u001b[0m Trial 32 finished with value: 0.030850406487892005 and parameters: {'bagging_fraction': 0.9857662224762369, 'bagging_freq': 5}. Best is trial 32 with value: 0.030850406487892005.\u001b[0m\n",
            "bagging, val_score: 0.030712:  60%|######    | 6/10 [00:05<00:03,  1.12it/s]"
          ]
        },
        {
          "output_type": "stream",
          "name": "stdout",
          "text": [
            "[400]\ttrain's binary_logloss: 0.0317134\teval's binary_logloss: 0.0309721\n",
            "Early stopping, best iteration is:\n",
            "[350]\ttrain's binary_logloss: 0.0319072\teval's binary_logloss: 0.0308504\n",
            "Training until validation scores don't improve for 100 rounds\n",
            "[100]\ttrain's binary_logloss: 0.0339495\teval's binary_logloss: 0.0324571\n",
            "[200]\ttrain's binary_logloss: 0.0326279\teval's binary_logloss: 0.0313195\n"
          ]
        },
        {
          "output_type": "stream",
          "name": "stderr",
          "text": [
            "bagging, val_score: 0.030712:  70%|#######   | 7/10 [00:05<00:02,  1.10it/s]\u001b[32m[I 2021-09-02 12:16:46,250]\u001b[0m Trial 33 finished with value: 0.031241594944499167 and parameters: {'bagging_fraction': 0.8832316359113132, 'bagging_freq': 3}. Best is trial 32 with value: 0.030850406487892005.\u001b[0m\n",
            "bagging, val_score: 0.030712:  70%|#######   | 7/10 [00:05<00:02,  1.10it/s]"
          ]
        },
        {
          "output_type": "stream",
          "name": "stdout",
          "text": [
            "[300]\ttrain's binary_logloss: 0.0320114\teval's binary_logloss: 0.031537\n",
            "Early stopping, best iteration is:\n",
            "[208]\ttrain's binary_logloss: 0.0325697\teval's binary_logloss: 0.0312416\n",
            "Training until validation scores don't improve for 100 rounds\n",
            "[100]\ttrain's binary_logloss: 0.033922\teval's binary_logloss: 0.0320728\n",
            "[200]\ttrain's binary_logloss: 0.0327019\teval's binary_logloss: 0.0315275\n"
          ]
        },
        {
          "output_type": "stream",
          "name": "stderr",
          "text": [
            "bagging, val_score: 0.030712:  80%|########  | 8/10 [00:06<00:01,  1.22it/s]\u001b[32m[I 2021-09-02 12:16:46,882]\u001b[0m Trial 34 finished with value: 0.03142857338364282 and parameters: {'bagging_fraction': 0.46349537627011783, 'bagging_freq': 4}. Best is trial 32 with value: 0.030850406487892005.\u001b[0m\n",
            "bagging, val_score: 0.030712:  80%|########  | 8/10 [00:06<00:01,  1.22it/s]"
          ]
        },
        {
          "output_type": "stream",
          "name": "stdout",
          "text": [
            "Early stopping, best iteration is:\n",
            "[150]\ttrain's binary_logloss: 0.033142\teval's binary_logloss: 0.0314286\n",
            "Training until validation scores don't improve for 100 rounds\n"
          ]
        },
        {
          "output_type": "stream",
          "name": "stderr",
          "text": [
            "bagging, val_score: 0.030712:  90%|######### | 9/10 [00:06<00:00,  1.46it/s]\u001b[32m[I 2021-09-02 12:16:47,280]\u001b[0m Trial 35 finished with value: 0.03163074567838643 and parameters: {'bagging_fraction': 0.5688678998290844, 'bagging_freq': 1}. Best is trial 32 with value: 0.030850406487892005.\u001b[0m\n",
            "bagging, val_score: 0.030712:  90%|######### | 9/10 [00:06<00:00,  1.46it/s]"
          ]
        },
        {
          "output_type": "stream",
          "name": "stdout",
          "text": [
            "[100]\ttrain's binary_logloss: 0.0338843\teval's binary_logloss: 0.0320956\n",
            "[200]\ttrain's binary_logloss: 0.0326627\teval's binary_logloss: 0.0317619\n",
            "Early stopping, best iteration is:\n",
            "[143]\ttrain's binary_logloss: 0.0331855\teval's binary_logloss: 0.0316307\n",
            "Training until validation scores don't improve for 100 rounds\n",
            "[100]\ttrain's binary_logloss: 0.0338749\teval's binary_logloss: 0.0319142\n"
          ]
        },
        {
          "output_type": "stream",
          "name": "stderr",
          "text": [
            "bagging, val_score: 0.030712: 100%|##########| 10/10 [00:07<00:00,  1.49it/s]\u001b[32m[I 2021-09-02 12:16:47,923]\u001b[0m Trial 36 finished with value: 0.03141582221428218 and parameters: {'bagging_fraction': 0.4136557915250652, 'bagging_freq': 4}. Best is trial 32 with value: 0.030850406487892005.\u001b[0m\n",
            "bagging, val_score: 0.030712: 100%|##########| 10/10 [00:07<00:00,  1.31it/s]\n"
          ]
        },
        {
          "output_type": "stream",
          "name": "stdout",
          "text": [
            "[200]\ttrain's binary_logloss: 0.032749\teval's binary_logloss: 0.031672\n",
            "Early stopping, best iteration is:\n",
            "[149]\ttrain's binary_logloss: 0.0331958\teval's binary_logloss: 0.0314158\n"
          ]
        },
        {
          "output_type": "stream",
          "name": "stderr",
          "text": [
            "feature_fraction_stage2, val_score: 0.030712:   0%|          | 0/6 [00:00<?, ?it/s]"
          ]
        },
        {
          "output_type": "stream",
          "name": "stdout",
          "text": [
            "Training until validation scores don't improve for 100 rounds\n",
            "[100]\ttrain's binary_logloss: 0.0340325\teval's binary_logloss: 0.0323054\n",
            "[200]\ttrain's binary_logloss: 0.0326912\teval's binary_logloss: 0.0312576\n",
            "[300]\ttrain's binary_logloss: 0.0321764\teval's binary_logloss: 0.0309893\n",
            "[400]\ttrain's binary_logloss: 0.0318148\teval's binary_logloss: 0.0308864\n",
            "[500]\ttrain's binary_logloss: 0.0315248\teval's binary_logloss: 0.0307976\n"
          ]
        },
        {
          "output_type": "stream",
          "name": "stderr",
          "text": [
            "feature_fraction_stage2, val_score: 0.030712:  17%|#6        | 1/6 [00:00<00:04,  1.22it/s]\u001b[32m[I 2021-09-02 12:16:48,757]\u001b[0m Trial 37 finished with value: 0.030726742178065237 and parameters: {'feature_fraction': 0.616}. Best is trial 37 with value: 0.030726742178065237.\u001b[0m\n",
            "feature_fraction_stage2, val_score: 0.030712:  17%|#6        | 1/6 [00:00<00:04,  1.22it/s]"
          ]
        },
        {
          "output_type": "stream",
          "name": "stdout",
          "text": [
            "[600]\ttrain's binary_logloss: 0.031278\teval's binary_logloss: 0.0307497\n",
            "[700]\ttrain's binary_logloss: 0.0310563\teval's binary_logloss: 0.0307358\n",
            "Early stopping, best iteration is:\n",
            "[644]\ttrain's binary_logloss: 0.0311784\teval's binary_logloss: 0.0307267\n",
            "Training until validation scores don't improve for 100 rounds\n",
            "[100]\ttrain's binary_logloss: 0.0340311\teval's binary_logloss: 0.0322822\n",
            "[200]\ttrain's binary_logloss: 0.0326841\teval's binary_logloss: 0.0311642\n",
            "[300]\ttrain's binary_logloss: 0.0321686\teval's binary_logloss: 0.0309114\n",
            "[400]\ttrain's binary_logloss: 0.0318062\teval's binary_logloss: 0.0308143\n",
            "[500]\ttrain's binary_logloss: 0.0315146\teval's binary_logloss: 0.0307678\n"
          ]
        },
        {
          "output_type": "stream",
          "name": "stderr",
          "text": [
            "feature_fraction_stage2, val_score: 0.030712:  33%|###3      | 2/6 [00:01<00:03,  1.22it/s]\u001b[32m[I 2021-09-02 12:16:49,584]\u001b[0m Trial 38 finished with value: 0.030711748552633703 and parameters: {'feature_fraction': 0.552}. Best is trial 38 with value: 0.030711748552633703.\u001b[0m\n",
            "feature_fraction_stage2, val_score: 0.030712:  33%|###3      | 2/6 [00:01<00:03,  1.22it/s]"
          ]
        },
        {
          "output_type": "stream",
          "name": "stdout",
          "text": [
            "[600]\ttrain's binary_logloss: 0.0312693\teval's binary_logloss: 0.0307164\n",
            "[700]\ttrain's binary_logloss: 0.0310496\teval's binary_logloss: 0.0307912\n",
            "Early stopping, best iteration is:\n",
            "[602]\ttrain's binary_logloss: 0.0312647\teval's binary_logloss: 0.0307117\n",
            "Training until validation scores don't improve for 100 rounds\n",
            "[100]\ttrain's binary_logloss: 0.0340311\teval's binary_logloss: 0.0322822\n",
            "[200]\ttrain's binary_logloss: 0.0326841\teval's binary_logloss: 0.0311642\n",
            "[300]\ttrain's binary_logloss: 0.0321686\teval's binary_logloss: 0.0309114\n",
            "[400]\ttrain's binary_logloss: 0.0318062\teval's binary_logloss: 0.0308143\n",
            "[500]\ttrain's binary_logloss: 0.0315146\teval's binary_logloss: 0.0307678\n"
          ]
        },
        {
          "output_type": "stream",
          "name": "stderr",
          "text": [
            "feature_fraction_stage2, val_score: 0.030712:  50%|#####     | 3/6 [00:02<00:02,  1.21it/s]\u001b[32m[I 2021-09-02 12:16:50,406]\u001b[0m Trial 39 finished with value: 0.03071174845558819 and parameters: {'feature_fraction': 0.584}. Best is trial 39 with value: 0.03071174845558819.\u001b[0m\n",
            "feature_fraction_stage2, val_score: 0.030712:  50%|#####     | 3/6 [00:02<00:02,  1.21it/s]"
          ]
        },
        {
          "output_type": "stream",
          "name": "stdout",
          "text": [
            "[600]\ttrain's binary_logloss: 0.0312693\teval's binary_logloss: 0.0307164\n",
            "[700]\ttrain's binary_logloss: 0.0310496\teval's binary_logloss: 0.0307912\n",
            "Early stopping, best iteration is:\n",
            "[602]\ttrain's binary_logloss: 0.0312647\teval's binary_logloss: 0.0307117\n",
            "Training until validation scores don't improve for 100 rounds\n",
            "[100]\ttrain's binary_logloss: 0.0340325\teval's binary_logloss: 0.0323054\n",
            "[200]\ttrain's binary_logloss: 0.0326912\teval's binary_logloss: 0.0312576\n",
            "[300]\ttrain's binary_logloss: 0.0321764\teval's binary_logloss: 0.0309893\n",
            "[400]\ttrain's binary_logloss: 0.0318148\teval's binary_logloss: 0.0308864\n",
            "[500]\ttrain's binary_logloss: 0.0315248\teval's binary_logloss: 0.0307976\n"
          ]
        },
        {
          "output_type": "stream",
          "name": "stderr",
          "text": [
            "feature_fraction_stage2, val_score: 0.030712:  67%|######6   | 4/6 [00:03<00:01,  1.20it/s]\u001b[32m[I 2021-09-02 12:16:51,252]\u001b[0m Trial 40 finished with value: 0.030726742105445144 and parameters: {'feature_fraction': 0.6479999999999999}. Best is trial 39 with value: 0.03071174845558819.\u001b[0m\n",
            "feature_fraction_stage2, val_score: 0.030712:  67%|######6   | 4/6 [00:03<00:01,  1.20it/s]"
          ]
        },
        {
          "output_type": "stream",
          "name": "stdout",
          "text": [
            "[600]\ttrain's binary_logloss: 0.031278\teval's binary_logloss: 0.0307497\n",
            "[700]\ttrain's binary_logloss: 0.0310563\teval's binary_logloss: 0.0307358\n",
            "Early stopping, best iteration is:\n",
            "[644]\ttrain's binary_logloss: 0.0311784\teval's binary_logloss: 0.0307267\n",
            "Training until validation scores don't improve for 100 rounds\n",
            "[100]\ttrain's binary_logloss: 0.0340325\teval's binary_logloss: 0.0323054\n",
            "[200]\ttrain's binary_logloss: 0.0326912\teval's binary_logloss: 0.0312576\n",
            "[300]\ttrain's binary_logloss: 0.0321764\teval's binary_logloss: 0.0309893\n",
            "[400]\ttrain's binary_logloss: 0.0318148\teval's binary_logloss: 0.0308864\n",
            "[500]\ttrain's binary_logloss: 0.0315248\teval's binary_logloss: 0.0307976\n"
          ]
        },
        {
          "output_type": "stream",
          "name": "stderr",
          "text": [
            "feature_fraction_stage2, val_score: 0.030712:  83%|########3 | 5/6 [00:04<00:00,  1.20it/s]\u001b[32m[I 2021-09-02 12:16:52,092]\u001b[0m Trial 41 finished with value: 0.030726742093966898 and parameters: {'feature_fraction': 0.6799999999999999}. Best is trial 39 with value: 0.03071174845558819.\u001b[0m\n",
            "feature_fraction_stage2, val_score: 0.030712:  83%|########3 | 5/6 [00:04<00:00,  1.20it/s]"
          ]
        },
        {
          "output_type": "stream",
          "name": "stdout",
          "text": [
            "[600]\ttrain's binary_logloss: 0.031278\teval's binary_logloss: 0.0307497\n",
            "[700]\ttrain's binary_logloss: 0.0310563\teval's binary_logloss: 0.0307358\n",
            "Early stopping, best iteration is:\n",
            "[644]\ttrain's binary_logloss: 0.0311784\teval's binary_logloss: 0.0307267\n",
            "Training until validation scores don't improve for 100 rounds\n",
            "[100]\ttrain's binary_logloss: 0.0340311\teval's binary_logloss: 0.0322822\n",
            "[200]\ttrain's binary_logloss: 0.0326841\teval's binary_logloss: 0.0311642\n",
            "[300]\ttrain's binary_logloss: 0.0321686\teval's binary_logloss: 0.0309114\n",
            "[400]\ttrain's binary_logloss: 0.0318062\teval's binary_logloss: 0.0308143\n",
            "[500]\ttrain's binary_logloss: 0.0315146\teval's binary_logloss: 0.0307678\n"
          ]
        },
        {
          "output_type": "stream",
          "name": "stderr",
          "text": [
            "feature_fraction_stage2, val_score: 0.030712: 100%|##########| 6/6 [00:04<00:00,  1.21it/s]\u001b[32m[I 2021-09-02 12:16:52,892]\u001b[0m Trial 42 finished with value: 0.030711748404456597 and parameters: {'feature_fraction': 0.52}. Best is trial 42 with value: 0.030711748404456597.\u001b[0m\n",
            "feature_fraction_stage2, val_score: 0.030712: 100%|##########| 6/6 [00:04<00:00,  1.21it/s]\n"
          ]
        },
        {
          "output_type": "stream",
          "name": "stdout",
          "text": [
            "[600]\ttrain's binary_logloss: 0.0312693\teval's binary_logloss: 0.0307164\n",
            "[700]\ttrain's binary_logloss: 0.0310496\teval's binary_logloss: 0.0307912\n",
            "Early stopping, best iteration is:\n",
            "[602]\ttrain's binary_logloss: 0.0312647\teval's binary_logloss: 0.0307117\n"
          ]
        },
        {
          "output_type": "stream",
          "name": "stderr",
          "text": [
            "regularization_factors, val_score: 0.030712:   0%|          | 0/20 [00:00<?, ?it/s]"
          ]
        },
        {
          "output_type": "stream",
          "name": "stdout",
          "text": [
            "Training until validation scores don't improve for 100 rounds\n",
            "[100]\ttrain's binary_logloss: 0.0340311\teval's binary_logloss: 0.0322822\n",
            "[200]\ttrain's binary_logloss: 0.0326843\teval's binary_logloss: 0.0311641\n",
            "[300]\ttrain's binary_logloss: 0.0321688\teval's binary_logloss: 0.030936\n",
            "[400]\ttrain's binary_logloss: 0.0318064\teval's binary_logloss: 0.0308255\n",
            "[500]\ttrain's binary_logloss: 0.0315137\teval's binary_logloss: 0.0307266\n"
          ]
        },
        {
          "output_type": "stream",
          "name": "stderr",
          "text": [
            "regularization_factors, val_score: 0.030705:   5%|5         | 1/20 [00:00<00:13,  1.39it/s]\u001b[32m[I 2021-09-02 12:16:53,626]\u001b[0m Trial 43 finished with value: 0.030704916924888328 and parameters: {'lambda_l1': 0.00047252869369781, 'lambda_l2': 0.0006422261194100326}. Best is trial 43 with value: 0.030704916924888328.\u001b[0m\n",
            "regularization_factors, val_score: 0.030705:   5%|5         | 1/20 [00:00<00:13,  1.39it/s]"
          ]
        },
        {
          "output_type": "stream",
          "name": "stdout",
          "text": [
            "[600]\ttrain's binary_logloss: 0.0312685\teval's binary_logloss: 0.0307302\n",
            "Early stopping, best iteration is:\n",
            "[514]\ttrain's binary_logloss: 0.0314769\teval's binary_logloss: 0.0307049\n",
            "Training until validation scores don't improve for 100 rounds\n",
            "[100]\ttrain's binary_logloss: 0.0340399\teval's binary_logloss: 0.0322725\n",
            "[200]\ttrain's binary_logloss: 0.0326997\teval's binary_logloss: 0.0311402\n",
            "[300]\ttrain's binary_logloss: 0.0321981\teval's binary_logloss: 0.0309334\n",
            "[400]\ttrain's binary_logloss: 0.0318567\teval's binary_logloss: 0.0308804\n",
            "[500]\ttrain's binary_logloss: 0.0315761\teval's binary_logloss: 0.0308608\n",
            "[600]\ttrain's binary_logloss: 0.0313408\teval's binary_logloss: 0.0308186\n"
          ]
        },
        {
          "output_type": "stream",
          "name": "stderr",
          "text": [
            "regularization_factors, val_score: 0.030705:  10%|#         | 2/20 [00:01<00:13,  1.32it/s]\u001b[32m[I 2021-09-02 12:16:54,407]\u001b[0m Trial 44 finished with value: 0.030798936768621277 and parameters: {'lambda_l1': 0.09421273805042649, 'lambda_l2': 0.0019897394511661833}. Best is trial 43 with value: 0.030704916924888328.\u001b[0m\n",
            "regularization_factors, val_score: 0.030705:  10%|#         | 2/20 [00:01<00:13,  1.32it/s]"
          ]
        },
        {
          "output_type": "stream",
          "name": "stdout",
          "text": [
            "Early stopping, best iteration is:\n",
            "[581]\ttrain's binary_logloss: 0.0313817\teval's binary_logloss: 0.0307989\n",
            "Training until validation scores don't improve for 100 rounds\n",
            "[100]\ttrain's binary_logloss: 0.0340824\teval's binary_logloss: 0.0323252\n",
            "[200]\ttrain's binary_logloss: 0.0327649\teval's binary_logloss: 0.0311253\n",
            "[300]\ttrain's binary_logloss: 0.0323222\teval's binary_logloss: 0.0309898\n"
          ]
        },
        {
          "output_type": "stream",
          "name": "stderr",
          "text": [
            "regularization_factors, val_score: 0.030705:  15%|#5        | 3/20 [00:02<00:11,  1.49it/s]\u001b[32m[I 2021-09-02 12:16:54,975]\u001b[0m Trial 45 finished with value: 0.030929143167018808 and parameters: {'lambda_l1': 0.45395059194252857, 'lambda_l2': 1.8113355753201746e-08}. Best is trial 43 with value: 0.030704916924888328.\u001b[0m\n",
            "regularization_factors, val_score: 0.030705:  15%|#5        | 3/20 [00:02<00:11,  1.49it/s]"
          ]
        },
        {
          "output_type": "stream",
          "name": "stdout",
          "text": [
            "[400]\ttrain's binary_logloss: 0.0320256\teval's binary_logloss: 0.0309587\n",
            "Early stopping, best iteration is:\n",
            "[356]\ttrain's binary_logloss: 0.0321419\teval's binary_logloss: 0.0309291\n",
            "Training until validation scores don't improve for 100 rounds\n",
            "[100]\ttrain's binary_logloss: 0.0340311\teval's binary_logloss: 0.0322822\n",
            "[200]\ttrain's binary_logloss: 0.0326841\teval's binary_logloss: 0.0311642\n",
            "[300]\ttrain's binary_logloss: 0.0321686\teval's binary_logloss: 0.0309114\n",
            "[400]\ttrain's binary_logloss: 0.0318062\teval's binary_logloss: 0.0308143\n",
            "[500]\ttrain's binary_logloss: 0.0315146\teval's binary_logloss: 0.0307678\n"
          ]
        },
        {
          "output_type": "stream",
          "name": "stderr",
          "text": [
            "regularization_factors, val_score: 0.030705:  20%|##        | 4/20 [00:02<00:11,  1.38it/s]\u001b[32m[I 2021-09-02 12:16:55,777]\u001b[0m Trial 46 finished with value: 0.03071174847699741 and parameters: {'lambda_l1': 1.5237195695012105e-08, 'lambda_l2': 1.2147922808126196e-07}. Best is trial 43 with value: 0.030704916924888328.\u001b[0m\n",
            "regularization_factors, val_score: 0.030705:  20%|##        | 4/20 [00:02<00:11,  1.38it/s]"
          ]
        },
        {
          "output_type": "stream",
          "name": "stdout",
          "text": [
            "[600]\ttrain's binary_logloss: 0.0312693\teval's binary_logloss: 0.0307164\n",
            "[700]\ttrain's binary_logloss: 0.0310496\teval's binary_logloss: 0.0307912\n",
            "Early stopping, best iteration is:\n",
            "[602]\ttrain's binary_logloss: 0.0312647\teval's binary_logloss: 0.0307117\n",
            "Training until validation scores don't improve for 100 rounds\n",
            "[100]\ttrain's binary_logloss: 0.0340311\teval's binary_logloss: 0.0322822\n",
            "[200]\ttrain's binary_logloss: 0.0326841\teval's binary_logloss: 0.0311642\n",
            "[300]\ttrain's binary_logloss: 0.0321686\teval's binary_logloss: 0.0309114\n",
            "[400]\ttrain's binary_logloss: 0.0318062\teval's binary_logloss: 0.0308143\n",
            "[500]\ttrain's binary_logloss: 0.0315146\teval's binary_logloss: 0.0307678\n"
          ]
        },
        {
          "output_type": "stream",
          "name": "stderr",
          "text": [
            "regularization_factors, val_score: 0.030705:  25%|##5       | 5/20 [00:03<00:11,  1.32it/s]\u001b[32m[I 2021-09-02 12:16:56,592]\u001b[0m Trial 47 finished with value: 0.0307117489890824 and parameters: {'lambda_l1': 9.541418645825947e-08, 'lambda_l2': 1.3899132746637182e-06}. Best is trial 43 with value: 0.030704916924888328.\u001b[0m\n",
            "regularization_factors, val_score: 0.030705:  25%|##5       | 5/20 [00:03<00:11,  1.32it/s]"
          ]
        },
        {
          "output_type": "stream",
          "name": "stdout",
          "text": [
            "[600]\ttrain's binary_logloss: 0.0312693\teval's binary_logloss: 0.0307164\n",
            "[700]\ttrain's binary_logloss: 0.0310496\teval's binary_logloss: 0.0307912\n",
            "Early stopping, best iteration is:\n",
            "[602]\ttrain's binary_logloss: 0.0312647\teval's binary_logloss: 0.0307117\n",
            "Training until validation scores don't improve for 100 rounds\n",
            "[100]\ttrain's binary_logloss: 0.0340311\teval's binary_logloss: 0.0322821\n",
            "[200]\ttrain's binary_logloss: 0.0326842\teval's binary_logloss: 0.0311641\n",
            "[300]\ttrain's binary_logloss: 0.0321686\teval's binary_logloss: 0.030936\n",
            "[400]\ttrain's binary_logloss: 0.0318064\teval's binary_logloss: 0.0308131\n",
            "[500]\ttrain's binary_logloss: 0.0315135\teval's binary_logloss: 0.0307523\n",
            "[600]\ttrain's binary_logloss: 0.0312683\teval's binary_logloss: 0.0307544\n",
            "[700]\ttrain's binary_logloss: 0.03105\teval's binary_logloss: 0.0307697\n",
            "Early stopping, best iteration is:\n",
            "[673]\ttrain's binary_logloss: 0.0311073\teval's binary_logloss: 0.0307221\n"
          ]
        },
        {
          "output_type": "stream",
          "name": "stderr",
          "text": [
            "regularization_factors, val_score: 0.030705:  30%|###       | 6/20 [00:04<00:11,  1.25it/s]\u001b[32m[I 2021-09-02 12:16:57,479]\u001b[0m Trial 48 finished with value: 0.03072207254310554 and parameters: {'lambda_l1': 4.0856767285456696e-08, 'lambda_l2': 0.0006652738655219602}. Best is trial 43 with value: 0.030704916924888328.\u001b[0m\n",
            "regularization_factors, val_score: 0.030705:  30%|###       | 6/20 [00:04<00:11,  1.25it/s]"
          ]
        },
        {
          "output_type": "stream",
          "name": "stdout",
          "text": [
            "Training until validation scores don't improve for 100 rounds\n",
            "[100]\ttrain's binary_logloss: 0.0340252\teval's binary_logloss: 0.0322557\n",
            "[200]\ttrain's binary_logloss: 0.0326888\teval's binary_logloss: 0.0311826\n",
            "[300]\ttrain's binary_logloss: 0.0321828\teval's binary_logloss: 0.030963\n",
            "[400]\ttrain's binary_logloss: 0.0318302\teval's binary_logloss: 0.0308563\n",
            "[500]\ttrain's binary_logloss: 0.0315435\teval's binary_logloss: 0.0307616\n"
          ]
        },
        {
          "output_type": "stream",
          "name": "stderr",
          "text": [
            "regularization_factors, val_score: 0.030705:  35%|###5      | 7/20 [00:05<00:10,  1.24it/s]\u001b[32m[I 2021-09-02 12:16:58,298]\u001b[0m Trial 49 finished with value: 0.030729600025218243 and parameters: {'lambda_l1': 0.0003335500965994656, 'lambda_l2': 0.05629012943706355}. Best is trial 43 with value: 0.030704916924888328.\u001b[0m\n",
            "regularization_factors, val_score: 0.030705:  35%|###5      | 7/20 [00:05<00:10,  1.24it/s]"
          ]
        },
        {
          "output_type": "stream",
          "name": "stdout",
          "text": [
            "[600]\ttrain's binary_logloss: 0.0313014\teval's binary_logloss: 0.0307355\n",
            "[700]\ttrain's binary_logloss: 0.0310896\teval's binary_logloss: 0.030778\n",
            "Early stopping, best iteration is:\n",
            "[603]\ttrain's binary_logloss: 0.0312947\teval's binary_logloss: 0.0307296\n",
            "Training until validation scores don't improve for 100 rounds\n",
            "[100]\ttrain's binary_logloss: 0.0340311\teval's binary_logloss: 0.0322822\n",
            "[200]\ttrain's binary_logloss: 0.0326841\teval's binary_logloss: 0.0311642\n",
            "[300]\ttrain's binary_logloss: 0.0321686\teval's binary_logloss: 0.0309114\n",
            "[400]\ttrain's binary_logloss: 0.0318062\teval's binary_logloss: 0.0308143\n",
            "[500]\ttrain's binary_logloss: 0.0315146\teval's binary_logloss: 0.0307678\n"
          ]
        },
        {
          "output_type": "stream",
          "name": "stderr",
          "text": [
            "regularization_factors, val_score: 0.030705:  40%|####      | 8/20 [00:06<00:09,  1.23it/s]\u001b[32m[I 2021-09-02 12:16:59,124]\u001b[0m Trial 50 finished with value: 0.030711748796834 and parameters: {'lambda_l1': 2.638074912459755e-08, 'lambda_l2': 5.87591976346541e-07}. Best is trial 43 with value: 0.030704916924888328.\u001b[0m\n",
            "regularization_factors, val_score: 0.030705:  40%|####      | 8/20 [00:06<00:09,  1.23it/s]"
          ]
        },
        {
          "output_type": "stream",
          "name": "stdout",
          "text": [
            "[600]\ttrain's binary_logloss: 0.0312693\teval's binary_logloss: 0.0307164\n",
            "[700]\ttrain's binary_logloss: 0.0310496\teval's binary_logloss: 0.0307912\n",
            "Early stopping, best iteration is:\n",
            "[602]\ttrain's binary_logloss: 0.0312647\teval's binary_logloss: 0.0307117\n",
            "Training until validation scores don't improve for 100 rounds\n",
            "[100]\ttrain's binary_logloss: 0.0348619\teval's binary_logloss: 0.0329262\n",
            "[200]\ttrain's binary_logloss: 0.033784\teval's binary_logloss: 0.0317566\n",
            "[300]\ttrain's binary_logloss: 0.0334826\teval's binary_logloss: 0.0314337\n",
            "[400]\ttrain's binary_logloss: 0.0333794\teval's binary_logloss: 0.0313231\n",
            "[500]\ttrain's binary_logloss: 0.0333411\teval's binary_logloss: 0.0312818\n",
            "[600]\ttrain's binary_logloss: 0.0333255\teval's binary_logloss: 0.031264\n",
            "[700]\ttrain's binary_logloss: 0.0333183\teval's binary_logloss: 0.0312551\n",
            "[800]\ttrain's binary_logloss: 0.0333152\teval's binary_logloss: 0.0312512\n",
            "[900]\ttrain's binary_logloss: 0.0333136\teval's binary_logloss: 0.0312492\n",
            "[1000]\ttrain's binary_logloss: 0.0333127\teval's binary_logloss: 0.0312482\n",
            "[1100]\ttrain's binary_logloss: 0.0333123\teval's binary_logloss: 0.0312476\n",
            "[1200]\ttrain's binary_logloss: 0.033312\teval's binary_logloss: 0.0312473\n",
            "[1300]\ttrain's binary_logloss: 0.0333119\teval's binary_logloss: 0.0312471\n",
            "[1400]\ttrain's binary_logloss: 0.0333118\teval's binary_logloss: 0.031247\n",
            "[1500]\ttrain's binary_logloss: 0.0333117\teval's binary_logloss: 0.0312469\n",
            "[1600]\ttrain's binary_logloss: 0.0333117\teval's binary_logloss: 0.0312469\n",
            "[1700]\ttrain's binary_logloss: 0.0333117\teval's binary_logloss: 0.0312469\n",
            "[1800]\ttrain's binary_logloss: 0.0333117\teval's binary_logloss: 0.0312469\n",
            "[1900]\ttrain's binary_logloss: 0.0333117\teval's binary_logloss: 0.0312469\n",
            "[2000]\ttrain's binary_logloss: 0.0333117\teval's binary_logloss: 0.0312469\n",
            "[2100]\ttrain's binary_logloss: 0.0333117\teval's binary_logloss: 0.0312469\n",
            "[2200]\ttrain's binary_logloss: 0.0333117\teval's binary_logloss: 0.0312469\n",
            "[2300]\ttrain's binary_logloss: 0.0333117\teval's binary_logloss: 0.0312469\n",
            "[2400]\ttrain's binary_logloss: 0.0333117\teval's binary_logloss: 0.0312469\n",
            "[2500]\ttrain's binary_logloss: 0.0333117\teval's binary_logloss: 0.0312469\n",
            "[2600]\ttrain's binary_logloss: 0.0333117\teval's binary_logloss: 0.0312469\n",
            "[2700]\ttrain's binary_logloss: 0.0333117\teval's binary_logloss: 0.0312469\n",
            "[2800]\ttrain's binary_logloss: 0.0333117\teval's binary_logloss: 0.0312469\n",
            "[2900]\ttrain's binary_logloss: 0.0333117\teval's binary_logloss: 0.0312469\n"
          ]
        },
        {
          "output_type": "stream",
          "name": "stderr",
          "text": [
            "regularization_factors, val_score: 0.030705:  45%|####5     | 9/20 [00:09<00:15,  1.43s/it]\u001b[32m[I 2021-09-02 12:17:01,914]\u001b[0m Trial 51 finished with value: 0.03124685444867111 and parameters: {'lambda_l1': 7.654229702134107, 'lambda_l2': 0.6172016200212552}. Best is trial 43 with value: 0.030704916924888328.\u001b[0m\n",
            "regularization_factors, val_score: 0.030705:  45%|####5     | 9/20 [00:09<00:15,  1.43s/it]"
          ]
        },
        {
          "output_type": "stream",
          "name": "stdout",
          "text": [
            "[3000]\ttrain's binary_logloss: 0.0333117\teval's binary_logloss: 0.0312469\n",
            "[3100]\ttrain's binary_logloss: 0.0333117\teval's binary_logloss: 0.0312469\n",
            "Early stopping, best iteration is:\n",
            "[3042]\ttrain's binary_logloss: 0.0333117\teval's binary_logloss: 0.0312469\n",
            "Training until validation scores don't improve for 100 rounds\n",
            "[100]\ttrain's binary_logloss: 0.0340338\teval's binary_logloss: 0.0322842\n",
            "[200]\ttrain's binary_logloss: 0.0326877\teval's binary_logloss: 0.0311629\n",
            "[300]\ttrain's binary_logloss: 0.0321746\teval's binary_logloss: 0.0309179\n",
            "[400]\ttrain's binary_logloss: 0.031817\teval's binary_logloss: 0.0308348\n",
            "[500]\ttrain's binary_logloss: 0.0315276\teval's binary_logloss: 0.0307703\n"
          ]
        },
        {
          "output_type": "stream",
          "name": "stderr",
          "text": [
            "regularization_factors, val_score: 0.030705:  50%|#####     | 10/20 [00:09<00:12,  1.24s/it]\u001b[32m[I 2021-09-02 12:17:02,716]\u001b[0m Trial 52 finished with value: 0.030719447341867472 and parameters: {'lambda_l1': 0.02179507173469193, 'lambda_l2': 1.0502308923165878e-07}. Best is trial 43 with value: 0.030704916924888328.\u001b[0m\n",
            "regularization_factors, val_score: 0.030705:  50%|#####     | 10/20 [00:09<00:12,  1.24s/it]"
          ]
        },
        {
          "output_type": "stream",
          "name": "stdout",
          "text": [
            "[600]\ttrain's binary_logloss: 0.0312845\teval's binary_logloss: 0.0307374\n",
            "[700]\ttrain's binary_logloss: 0.031071\teval's binary_logloss: 0.0307439\n",
            "Early stopping, best iteration is:\n",
            "[607]\ttrain's binary_logloss: 0.031269\teval's binary_logloss: 0.0307194\n",
            "Training until validation scores don't improve for 100 rounds\n",
            "[100]\ttrain's binary_logloss: 0.0340311\teval's binary_logloss: 0.0322822\n",
            "[200]\ttrain's binary_logloss: 0.0326841\teval's binary_logloss: 0.0311642\n",
            "[300]\ttrain's binary_logloss: 0.0321686\teval's binary_logloss: 0.0309114\n",
            "[400]\ttrain's binary_logloss: 0.0318062\teval's binary_logloss: 0.0308143\n",
            "[500]\ttrain's binary_logloss: 0.0315146\teval's binary_logloss: 0.0307678\n"
          ]
        },
        {
          "output_type": "stream",
          "name": "stderr",
          "text": [
            "regularization_factors, val_score: 0.030705:  55%|#####5    | 11/20 [00:10<00:09,  1.11s/it]\u001b[32m[I 2021-09-02 12:17:03,528]\u001b[0m Trial 53 finished with value: 0.030711755329381047 and parameters: {'lambda_l1': 1.5420476813317048e-05, 'lambda_l2': 1.2735548954858363e-05}. Best is trial 43 with value: 0.030704916924888328.\u001b[0m\n",
            "regularization_factors, val_score: 0.030705:  55%|#####5    | 11/20 [00:10<00:09,  1.11s/it]"
          ]
        },
        {
          "output_type": "stream",
          "name": "stdout",
          "text": [
            "[600]\ttrain's binary_logloss: 0.0312693\teval's binary_logloss: 0.0307164\n",
            "[700]\ttrain's binary_logloss: 0.0310496\teval's binary_logloss: 0.0307912\n",
            "Early stopping, best iteration is:\n",
            "[602]\ttrain's binary_logloss: 0.0312647\teval's binary_logloss: 0.0307118\n",
            "Training until validation scores don't improve for 100 rounds\n",
            "[100]\ttrain's binary_logloss: 0.0340311\teval's binary_logloss: 0.0322822\n",
            "[200]\ttrain's binary_logloss: 0.0326842\teval's binary_logloss: 0.0311642\n",
            "[300]\ttrain's binary_logloss: 0.0321686\teval's binary_logloss: 0.0309115\n",
            "[400]\ttrain's binary_logloss: 0.0318062\teval's binary_logloss: 0.0308143\n",
            "[500]\ttrain's binary_logloss: 0.0315147\teval's binary_logloss: 0.0307678\n"
          ]
        },
        {
          "output_type": "stream",
          "name": "stderr",
          "text": [
            "regularization_factors, val_score: 0.030705:  60%|######    | 12/20 [00:11<00:08,  1.02s/it]\u001b[32m[I 2021-09-02 12:17:04,338]\u001b[0m Trial 54 finished with value: 0.03071176486122084 and parameters: {'lambda_l1': 3.397859777409678e-05, 'lambda_l2': 3.813975958786402e-05}. Best is trial 43 with value: 0.030704916924888328.\u001b[0m\n",
            "regularization_factors, val_score: 0.030705:  60%|######    | 12/20 [00:11<00:08,  1.02s/it]"
          ]
        },
        {
          "output_type": "stream",
          "name": "stdout",
          "text": [
            "[600]\ttrain's binary_logloss: 0.0312693\teval's binary_logloss: 0.0307164\n",
            "[700]\ttrain's binary_logloss: 0.0310496\teval's binary_logloss: 0.0307912\n",
            "Early stopping, best iteration is:\n",
            "[602]\ttrain's binary_logloss: 0.0312647\teval's binary_logloss: 0.0307118\n",
            "Training until validation scores don't improve for 100 rounds\n",
            "[100]\ttrain's binary_logloss: 0.0340305\teval's binary_logloss: 0.0322814\n",
            "[200]\ttrain's binary_logloss: 0.0326848\teval's binary_logloss: 0.0311791\n",
            "[300]\ttrain's binary_logloss: 0.0321704\teval's binary_logloss: 0.0309303\n",
            "[400]\ttrain's binary_logloss: 0.0318108\teval's binary_logloss: 0.0308104\n",
            "[500]\ttrain's binary_logloss: 0.03152\teval's binary_logloss: 0.0307607\n"
          ]
        },
        {
          "output_type": "stream",
          "name": "stderr",
          "text": [
            "regularization_factors, val_score: 0.030705:  65%|######5   | 13/20 [00:12<00:06,  1.05it/s]\u001b[32m[I 2021-09-02 12:17:05,138]\u001b[0m Trial 55 finished with value: 0.03071690234198044 and parameters: {'lambda_l1': 0.001373345047284053, 'lambda_l2': 0.011770743613764156}. Best is trial 43 with value: 0.030704916924888328.\u001b[0m\n",
            "regularization_factors, val_score: 0.030705:  65%|######5   | 13/20 [00:12<00:06,  1.05it/s]"
          ]
        },
        {
          "output_type": "stream",
          "name": "stdout",
          "text": [
            "[600]\ttrain's binary_logloss: 0.0312755\teval's binary_logloss: 0.0307351\n",
            "[700]\ttrain's binary_logloss: 0.0310594\teval's binary_logloss: 0.0307925\n",
            "Early stopping, best iteration is:\n",
            "[623]\ttrain's binary_logloss: 0.0312242\teval's binary_logloss: 0.0307169\n",
            "Training until validation scores don't improve for 100 rounds\n",
            "[100]\ttrain's binary_logloss: 0.0340311\teval's binary_logloss: 0.0322822\n",
            "[200]\ttrain's binary_logloss: 0.0326841\teval's binary_logloss: 0.0311642\n",
            "[300]\ttrain's binary_logloss: 0.0321686\teval's binary_logloss: 0.0309114\n",
            "[400]\ttrain's binary_logloss: 0.0318062\teval's binary_logloss: 0.0308143\n",
            "[500]\ttrain's binary_logloss: 0.0315146\teval's binary_logloss: 0.0307678\n"
          ]
        },
        {
          "output_type": "stream",
          "name": "stderr",
          "text": [
            "regularization_factors, val_score: 0.030705:  70%|#######   | 14/20 [00:13<00:05,  1.09it/s]\u001b[32m[I 2021-09-02 12:17:05,971]\u001b[0m Trial 56 finished with value: 0.030711758400953675 and parameters: {'lambda_l1': 1.8353375581444944e-06, 'lambda_l2': 4.250589704467447e-05}. Best is trial 43 with value: 0.030704916924888328.\u001b[0m\n",
            "regularization_factors, val_score: 0.030705:  70%|#######   | 14/20 [00:13<00:05,  1.09it/s]"
          ]
        },
        {
          "output_type": "stream",
          "name": "stdout",
          "text": [
            "[600]\ttrain's binary_logloss: 0.0312693\teval's binary_logloss: 0.0307164\n",
            "[700]\ttrain's binary_logloss: 0.0310496\teval's binary_logloss: 0.0307912\n",
            "Early stopping, best iteration is:\n",
            "[602]\ttrain's binary_logloss: 0.0312647\teval's binary_logloss: 0.0307118\n",
            "Training until validation scores don't improve for 100 rounds\n",
            "[100]\ttrain's binary_logloss: 0.0334036\teval's binary_logloss: 0.0309274\n",
            "[200]\ttrain's binary_logloss: 0.0325977\teval's binary_logloss: 0.0306369\n"
          ]
        },
        {
          "output_type": "stream",
          "name": "stderr",
          "text": [
            "regularization_factors, val_score: 0.030601:  75%|#######5  | 15/20 [00:13<00:03,  1.28it/s]\u001b[32m[I 2021-09-02 12:17:06,447]\u001b[0m Trial 57 finished with value: 0.030600675174959402 and parameters: {'lambda_l1': 0.003920433987312203, 'lambda_l2': 4.547731007501423}. Best is trial 57 with value: 0.030600675174959402.\u001b[0m\n",
            "regularization_factors, val_score: 0.030601:  75%|#######5  | 15/20 [00:13<00:03,  1.28it/s]"
          ]
        },
        {
          "output_type": "stream",
          "name": "stdout",
          "text": [
            "[300]\ttrain's binary_logloss: 0.0322909\teval's binary_logloss: 0.0306325\n",
            "Early stopping, best iteration is:\n",
            "[221]\ttrain's binary_logloss: 0.0325171\teval's binary_logloss: 0.0306007\n",
            "Training until validation scores don't improve for 100 rounds\n",
            "[100]\ttrain's binary_logloss: 0.0334054\teval's binary_logloss: 0.0309314\n",
            "[200]\ttrain's binary_logloss: 0.0325932\teval's binary_logloss: 0.030646\n",
            "[300]\ttrain's binary_logloss: 0.0322852\teval's binary_logloss: 0.0306574\n"
          ]
        },
        {
          "output_type": "stream",
          "name": "stderr",
          "text": [
            "regularization_factors, val_score: 0.030593:  80%|########  | 16/20 [00:14<00:02,  1.38it/s]\u001b[32m[I 2021-09-02 12:17:07,048]\u001b[0m Trial 58 finished with value: 0.030592775945600226 and parameters: {'lambda_l1': 0.0013470484047383706, 'lambda_l2': 4.142255382818695}. Best is trial 58 with value: 0.030592775945600226.\u001b[0m\n",
            "regularization_factors, val_score: 0.030593:  80%|########  | 16/20 [00:14<00:02,  1.38it/s]"
          ]
        },
        {
          "output_type": "stream",
          "name": "stdout",
          "text": [
            "[400]\ttrain's binary_logloss: 0.0320631\teval's binary_logloss: 0.0306129\n",
            "Early stopping, best iteration is:\n",
            "[383]\ttrain's binary_logloss: 0.0320982\teval's binary_logloss: 0.0305928\n",
            "Training until validation scores don't improve for 100 rounds\n",
            "[100]\ttrain's binary_logloss: 0.0334434\teval's binary_logloss: 0.0310077\n",
            "[200]\ttrain's binary_logloss: 0.0325858\teval's binary_logloss: 0.0306587\n"
          ]
        },
        {
          "output_type": "stream",
          "name": "stderr",
          "text": [
            "regularization_factors, val_score: 0.030569:  85%|########5 | 17/20 [00:14<00:02,  1.45it/s]\u001b[32m[I 2021-09-02 12:17:07,653]\u001b[0m Trial 59 finished with value: 0.03056919199751624 and parameters: {'lambda_l1': 0.004702165605875793, 'lambda_l2': 3.047761912212554}. Best is trial 59 with value: 0.03056919199751624.\u001b[0m\n",
            "regularization_factors, val_score: 0.030569:  85%|########5 | 17/20 [00:14<00:02,  1.45it/s]"
          ]
        },
        {
          "output_type": "stream",
          "name": "stdout",
          "text": [
            "[300]\ttrain's binary_logloss: 0.0322652\teval's binary_logloss: 0.030614\n",
            "[400]\ttrain's binary_logloss: 0.0320258\teval's binary_logloss: 0.0306044\n",
            "Early stopping, best iteration is:\n",
            "[365]\ttrain's binary_logloss: 0.0321045\teval's binary_logloss: 0.0305692\n",
            "Training until validation scores don't improve for 100 rounds\n",
            "[100]\ttrain's binary_logloss: 0.0333702\teval's binary_logloss: 0.030884\n",
            "[200]\ttrain's binary_logloss: 0.032618\teval's binary_logloss: 0.0306346\n"
          ]
        },
        {
          "output_type": "stream",
          "name": "stderr",
          "text": [
            "regularization_factors, val_score: 0.030569:  90%|######### | 18/20 [00:15<00:01,  1.62it/s]\u001b[32m[I 2021-09-02 12:17:08,099]\u001b[0m Trial 60 finished with value: 0.030619395884277378 and parameters: {'lambda_l1': 0.008728881208652924, 'lambda_l2': 6.338028572797237}. Best is trial 59 with value: 0.03056919199751624.\u001b[0m\n",
            "regularization_factors, val_score: 0.030569:  90%|######### | 18/20 [00:15<00:01,  1.62it/s]"
          ]
        },
        {
          "output_type": "stream",
          "name": "stdout",
          "text": [
            "[300]\ttrain's binary_logloss: 0.0323197\teval's binary_logloss: 0.0306907\n",
            "Early stopping, best iteration is:\n",
            "[224]\ttrain's binary_logloss: 0.0325301\teval's binary_logloss: 0.0306194\n",
            "Training until validation scores don't improve for 100 rounds\n",
            "[100]\ttrain's binary_logloss: 0.0340014\teval's binary_logloss: 0.0322512\n",
            "[200]\ttrain's binary_logloss: 0.0327136\teval's binary_logloss: 0.0311763\n",
            "[300]\ttrain's binary_logloss: 0.0322331\teval's binary_logloss: 0.0309938\n",
            "[400]\ttrain's binary_logloss: 0.0319005\teval's binary_logloss: 0.0309435\n",
            "[500]\ttrain's binary_logloss: 0.0316254\teval's binary_logloss: 0.0308629\n",
            "[600]\ttrain's binary_logloss: 0.0313883\teval's binary_logloss: 0.0308255\n"
          ]
        },
        {
          "output_type": "stream",
          "name": "stderr",
          "text": [
            "regularization_factors, val_score: 0.030569:  95%|#########5| 19/20 [00:16<00:00,  1.47it/s]\u001b[32m[I 2021-09-02 12:17:08,915]\u001b[0m Trial 61 finished with value: 0.030809212374301818 and parameters: {'lambda_l1': 3.3393773987918147e-05, 'lambda_l2': 0.24047210673921385}. Best is trial 59 with value: 0.03056919199751624.\u001b[0m\n",
            "regularization_factors, val_score: 0.030569:  95%|#########5| 19/20 [00:16<00:00,  1.47it/s]"
          ]
        },
        {
          "output_type": "stream",
          "name": "stdout",
          "text": [
            "[700]\ttrain's binary_logloss: 0.0311804\teval's binary_logloss: 0.0308765\n",
            "Early stopping, best iteration is:\n",
            "[609]\ttrain's binary_logloss: 0.0313686\teval's binary_logloss: 0.0308092\n",
            "Training until validation scores don't improve for 100 rounds\n",
            "[100]\ttrain's binary_logloss: 0.0339841\teval's binary_logloss: 0.0322032\n",
            "[200]\ttrain's binary_logloss: 0.0328297\teval's binary_logloss: 0.0311451\n",
            "[300]\ttrain's binary_logloss: 0.0324747\teval's binary_logloss: 0.0310782\n"
          ]
        },
        {
          "output_type": "stream",
          "name": "stderr",
          "text": [
            "regularization_factors, val_score: 0.030569: 100%|##########| 20/20 [00:16<00:00,  1.50it/s]\u001b[32m[I 2021-09-02 12:17:09,556]\u001b[0m Trial 62 finished with value: 0.031010909411517313 and parameters: {'lambda_l1': 0.6255980162914957, 'lambda_l2': 1.2254264121004508}. Best is trial 59 with value: 0.03056919199751624.\u001b[0m\n",
            "regularization_factors, val_score: 0.030569: 100%|##########| 20/20 [00:16<00:00,  1.20it/s]\n"
          ]
        },
        {
          "output_type": "stream",
          "name": "stdout",
          "text": [
            "[400]\ttrain's binary_logloss: 0.0322316\teval's binary_logloss: 0.0310261\n",
            "Early stopping, best iteration is:\n",
            "[394]\ttrain's binary_logloss: 0.0322452\teval's binary_logloss: 0.0310109\n"
          ]
        },
        {
          "output_type": "stream",
          "name": "stderr",
          "text": [
            "min_data_in_leaf, val_score: 0.030569:   0%|          | 0/5 [00:00<?, ?it/s]"
          ]
        },
        {
          "output_type": "stream",
          "name": "stdout",
          "text": [
            "Training until validation scores don't improve for 100 rounds\n",
            "[100]\ttrain's binary_logloss: 0.0334434\teval's binary_logloss: 0.0310077\n",
            "[200]\ttrain's binary_logloss: 0.0325858\teval's binary_logloss: 0.0306587\n"
          ]
        },
        {
          "output_type": "stream",
          "name": "stderr",
          "text": [
            "min_data_in_leaf, val_score: 0.030569:  20%|##        | 1/5 [00:00<00:02,  1.63it/s]\u001b[32m[I 2021-09-02 12:17:10,181]\u001b[0m Trial 63 finished with value: 0.030569192025638955 and parameters: {'min_child_samples': 10}. Best is trial 63 with value: 0.030569192025638955.\u001b[0m\n",
            "min_data_in_leaf, val_score: 0.030569:  20%|##        | 1/5 [00:00<00:02,  1.63it/s]"
          ]
        },
        {
          "output_type": "stream",
          "name": "stdout",
          "text": [
            "[300]\ttrain's binary_logloss: 0.0322652\teval's binary_logloss: 0.030614\n",
            "[400]\ttrain's binary_logloss: 0.0320258\teval's binary_logloss: 0.0306044\n",
            "Early stopping, best iteration is:\n",
            "[365]\ttrain's binary_logloss: 0.0321045\teval's binary_logloss: 0.0305692\n",
            "Training until validation scores don't improve for 100 rounds\n",
            "[100]\ttrain's binary_logloss: 0.0334434\teval's binary_logloss: 0.0310077\n",
            "[200]\ttrain's binary_logloss: 0.0325858\teval's binary_logloss: 0.0306587\n"
          ]
        },
        {
          "output_type": "stream",
          "name": "stderr",
          "text": [
            "min_data_in_leaf, val_score: 0.030569:  40%|####      | 2/5 [00:01<00:01,  1.63it/s]\u001b[32m[I 2021-09-02 12:17:10,794]\u001b[0m Trial 64 finished with value: 0.030569192010113728 and parameters: {'min_child_samples': 50}. Best is trial 64 with value: 0.030569192010113728.\u001b[0m\n",
            "min_data_in_leaf, val_score: 0.030569:  40%|####      | 2/5 [00:01<00:01,  1.63it/s]"
          ]
        },
        {
          "output_type": "stream",
          "name": "stdout",
          "text": [
            "[300]\ttrain's binary_logloss: 0.0322652\teval's binary_logloss: 0.030614\n",
            "[400]\ttrain's binary_logloss: 0.0320258\teval's binary_logloss: 0.0306044\n",
            "Early stopping, best iteration is:\n",
            "[365]\ttrain's binary_logloss: 0.0321045\teval's binary_logloss: 0.0305692\n",
            "Training until validation scores don't improve for 100 rounds\n",
            "[100]\ttrain's binary_logloss: 0.0334434\teval's binary_logloss: 0.0310077\n",
            "[200]\ttrain's binary_logloss: 0.0325858\teval's binary_logloss: 0.0306587\n",
            "[300]\ttrain's binary_logloss: 0.0322652\teval's binary_logloss: 0.030614\n",
            "[400]\ttrain's binary_logloss: 0.0320258\teval's binary_logloss: 0.0306044\n",
            "Early stopping, best iteration is:\n",
            "[365]\ttrain's binary_logloss: 0.0321045\teval's binary_logloss: 0.0305692\n"
          ]
        },
        {
          "output_type": "stream",
          "name": "stderr",
          "text": [
            "min_data_in_leaf, val_score: 0.030569:  60%|######    | 3/5 [00:01<00:01,  1.62it/s]\u001b[32m[I 2021-09-02 12:17:11,419]\u001b[0m Trial 65 finished with value: 0.03056919202471906 and parameters: {'min_child_samples': 5}. Best is trial 64 with value: 0.030569192010113728.\u001b[0m\n",
            "min_data_in_leaf, val_score: 0.030569:  60%|######    | 3/5 [00:01<00:01,  1.62it/s]"
          ]
        },
        {
          "output_type": "stream",
          "name": "stdout",
          "text": [
            "Training until validation scores don't improve for 100 rounds\n",
            "[100]\ttrain's binary_logloss: 0.0334434\teval's binary_logloss: 0.0310077\n",
            "[200]\ttrain's binary_logloss: 0.0325858\teval's binary_logloss: 0.0306587\n"
          ]
        },
        {
          "output_type": "stream",
          "name": "stderr",
          "text": [
            "min_data_in_leaf, val_score: 0.030569:  80%|########  | 4/5 [00:02<00:00,  1.67it/s]\u001b[32m[I 2021-09-02 12:17:11,988]\u001b[0m Trial 66 finished with value: 0.0305691920168814 and parameters: {'min_child_samples': 25}. Best is trial 64 with value: 0.030569192010113728.\u001b[0m\n",
            "min_data_in_leaf, val_score: 0.030569:  80%|########  | 4/5 [00:02<00:00,  1.67it/s]"
          ]
        },
        {
          "output_type": "stream",
          "name": "stdout",
          "text": [
            "[300]\ttrain's binary_logloss: 0.0322652\teval's binary_logloss: 0.030614\n",
            "[400]\ttrain's binary_logloss: 0.0320258\teval's binary_logloss: 0.0306044\n",
            "Early stopping, best iteration is:\n",
            "[365]\ttrain's binary_logloss: 0.0321045\teval's binary_logloss: 0.0305692\n",
            "Training until validation scores don't improve for 100 rounds\n",
            "[100]\ttrain's binary_logloss: 0.0334434\teval's binary_logloss: 0.0310077\n",
            "[200]\ttrain's binary_logloss: 0.0325858\teval's binary_logloss: 0.0306587\n",
            "[300]\ttrain's binary_logloss: 0.0322661\teval's binary_logloss: 0.0306109\n",
            "[400]\ttrain's binary_logloss: 0.0320336\teval's binary_logloss: 0.0305734\n",
            "Early stopping, best iteration is:\n",
            "[391]\ttrain's binary_logloss: 0.0320526\teval's binary_logloss: 0.0305603\n"
          ]
        },
        {
          "output_type": "stream",
          "name": "stderr",
          "text": [
            "min_data_in_leaf, val_score: 0.030560: 100%|##########| 5/5 [00:03<00:00,  1.68it/s]\u001b[32m[I 2021-09-02 12:17:12,577]\u001b[0m Trial 67 finished with value: 0.030560324761766473 and parameters: {'min_child_samples': 100}. Best is trial 67 with value: 0.030560324761766473.\u001b[0m\n",
            "min_data_in_leaf, val_score: 0.030560: 100%|##########| 5/5 [00:03<00:00,  1.66it/s]\n",
            "Best Params 2 - {'objective': 'binary', 'metric': 'binary_logloss', 'device_type': 'gpu', 'seed': 442, 'verbosity': -1, 'feature_pre_filter': False, 'lambda_l1': 0.004702165605875793, 'lambda_l2': 3.047761912212554, 'num_leaves': 2, 'feature_fraction': 0.52, 'bagging_fraction': 1.0, 'bagging_freq': 0, 'min_child_samples': 100, 'num_iterations': 10000, 'early_stopping_round': 100}\n",
            "Result 2 - Score: 0.9250764525993886, time: 64s\n",
            "Result 2 - Save Best Model\n",
            "========== fold: 2 result ==========\n",
            "Score: 0.92508\n",
            "========== fold: 3 training ==========\n",
            "\u001b[32m[I 2021-09-02 12:17:12,675]\u001b[0m A new study created in memory with name: no-name-9b149896-6609-4fbe-910f-8b1851e98548\u001b[0m\n",
            "feature_fraction, val_score: inf:   0%|          | 0/7 [00:00<?, ?it/s]"
          ]
        },
        {
          "output_type": "stream",
          "name": "stdout",
          "text": [
            "Training until validation scores don't improve for 100 rounds\n"
          ]
        },
        {
          "output_type": "stream",
          "name": "stderr",
          "text": [
            "feature_fraction, val_score: 0.037185:  14%|#4        | 1/7 [00:00<00:04,  1.42it/s]"
          ]
        },
        {
          "output_type": "stream",
          "name": "stdout",
          "text": [
            "[100]\ttrain's binary_logloss: 0.00924204\teval's binary_logloss: 0.0418858\n",
            "Early stopping, best iteration is:\n",
            "[37]\ttrain's binary_logloss: 0.0172921\teval's binary_logloss: 0.0371851\n"
          ]
        },
        {
          "output_type": "stream",
          "name": "stderr",
          "text": [
            "\u001b[32m[I 2021-09-02 12:17:13,392]\u001b[0m Trial 0 finished with value: 0.03718507294742773 and parameters: {'feature_fraction': 1.0}. Best is trial 0 with value: 0.03718507294742773.\u001b[0m\n",
            "feature_fraction, val_score: 0.037185:  14%|#4        | 1/7 [00:00<00:04,  1.42it/s]"
          ]
        },
        {
          "output_type": "stream",
          "name": "stdout",
          "text": [
            "Training until validation scores don't improve for 100 rounds\n"
          ]
        },
        {
          "output_type": "stream",
          "name": "stderr",
          "text": [
            "feature_fraction, val_score: 0.037185:  29%|##8       | 2/7 [00:01<00:03,  1.45it/s]\u001b[32m[I 2021-09-02 12:17:14,064]\u001b[0m Trial 1 finished with value: 0.037342607094545524 and parameters: {'feature_fraction': 0.5}. Best is trial 0 with value: 0.03718507294742773.\u001b[0m\n",
            "feature_fraction, val_score: 0.037185:  29%|##8       | 2/7 [00:01<00:03,  1.45it/s]"
          ]
        },
        {
          "output_type": "stream",
          "name": "stdout",
          "text": [
            "[100]\ttrain's binary_logloss: 0.0104609\teval's binary_logloss: 0.0414973\n",
            "Early stopping, best iteration is:\n",
            "[36]\ttrain's binary_logloss: 0.0185818\teval's binary_logloss: 0.0373426\n",
            "Training until validation scores don't improve for 100 rounds\n"
          ]
        },
        {
          "output_type": "stream",
          "name": "stderr",
          "text": [
            "feature_fraction, val_score: 0.037185:  43%|####2     | 3/7 [00:02<00:02,  1.44it/s]\u001b[32m[I 2021-09-02 12:17:14,767]\u001b[0m Trial 2 finished with value: 0.038581192676298934 and parameters: {'feature_fraction': 0.4}. Best is trial 0 with value: 0.03718507294742773.\u001b[0m\n",
            "feature_fraction, val_score: 0.037185:  43%|####2     | 3/7 [00:02<00:02,  1.44it/s]"
          ]
        },
        {
          "output_type": "stream",
          "name": "stdout",
          "text": [
            "[100]\ttrain's binary_logloss: 0.0111405\teval's binary_logloss: 0.0413117\n",
            "Early stopping, best iteration is:\n",
            "[41]\ttrain's binary_logloss: 0.018307\teval's binary_logloss: 0.0385812\n",
            "Training until validation scores don't improve for 100 rounds\n"
          ]
        },
        {
          "output_type": "stream",
          "name": "stderr",
          "text": [
            "feature_fraction, val_score: 0.036729:  57%|#####7    | 4/7 [00:02<00:02,  1.44it/s]\u001b[32m[I 2021-09-02 12:17:15,454]\u001b[0m Trial 3 finished with value: 0.03672884841897656 and parameters: {'feature_fraction': 0.8}. Best is trial 3 with value: 0.03672884841897656.\u001b[0m\n",
            "feature_fraction, val_score: 0.036729:  57%|#####7    | 4/7 [00:02<00:02,  1.44it/s]"
          ]
        },
        {
          "output_type": "stream",
          "name": "stdout",
          "text": [
            "[100]\ttrain's binary_logloss: 0.00924244\teval's binary_logloss: 0.0401646\n",
            "Early stopping, best iteration is:\n",
            "[32]\ttrain's binary_logloss: 0.0181595\teval's binary_logloss: 0.0367288\n",
            "Training until validation scores don't improve for 100 rounds\n"
          ]
        },
        {
          "output_type": "stream",
          "name": "stderr",
          "text": [
            "feature_fraction, val_score: 0.036729:  71%|#######1  | 5/7 [00:03<00:01,  1.46it/s]\u001b[32m[I 2021-09-02 12:17:16,133]\u001b[0m Trial 4 finished with value: 0.037218771054902636 and parameters: {'feature_fraction': 0.7}. Best is trial 3 with value: 0.03672884841897656.\u001b[0m\n",
            "feature_fraction, val_score: 0.036729:  71%|#######1  | 5/7 [00:03<00:01,  1.46it/s]"
          ]
        },
        {
          "output_type": "stream",
          "name": "stdout",
          "text": [
            "[100]\ttrain's binary_logloss: 0.00953374\teval's binary_logloss: 0.0408176\n",
            "Early stopping, best iteration is:\n",
            "[33]\ttrain's binary_logloss: 0.0184034\teval's binary_logloss: 0.0372188\n",
            "Training until validation scores don't improve for 100 rounds\n",
            "[100]\ttrain's binary_logloss: 0.00935947\teval's binary_logloss: 0.0413925\n",
            "Early stopping, best iteration is:\n",
            "[43]\ttrain's binary_logloss: 0.0165511\teval's binary_logloss: 0.0371398\n"
          ]
        },
        {
          "output_type": "stream",
          "name": "stderr",
          "text": [
            "feature_fraction, val_score: 0.036729:  86%|########5 | 6/7 [00:04<00:00,  1.42it/s]\u001b[32m[I 2021-09-02 12:17:16,865]\u001b[0m Trial 5 finished with value: 0.03713977055507016 and parameters: {'feature_fraction': 0.8999999999999999}. Best is trial 3 with value: 0.03672884841897656.\u001b[0m\n",
            "feature_fraction, val_score: 0.036729:  86%|########5 | 6/7 [00:04<00:00,  1.42it/s]"
          ]
        },
        {
          "output_type": "stream",
          "name": "stdout",
          "text": [
            "Training until validation scores don't improve for 100 rounds\n"
          ]
        },
        {
          "output_type": "stream",
          "name": "stderr",
          "text": [
            "feature_fraction, val_score: 0.036729: 100%|##########| 7/7 [00:04<00:00,  1.42it/s]"
          ]
        },
        {
          "output_type": "stream",
          "name": "stdout",
          "text": [
            "[100]\ttrain's binary_logloss: 0.0104609\teval's binary_logloss: 0.0414969\n",
            "Early stopping, best iteration is:\n",
            "[36]\ttrain's binary_logloss: 0.0185818\teval's binary_logloss: 0.0373437\n"
          ]
        },
        {
          "output_type": "stream",
          "name": "stderr",
          "text": [
            "\u001b[32m[I 2021-09-02 12:17:17,581]\u001b[0m Trial 6 finished with value: 0.03734371733736677 and parameters: {'feature_fraction': 0.6}. Best is trial 3 with value: 0.03672884841897656.\u001b[0m\n",
            "feature_fraction, val_score: 0.036729: 100%|##########| 7/7 [00:04<00:00,  1.43it/s]\n",
            "num_leaves, val_score: 0.036729:   0%|          | 0/20 [00:00<?, ?it/s]"
          ]
        },
        {
          "output_type": "stream",
          "name": "stdout",
          "text": [
            "Training until validation scores don't improve for 100 rounds\n",
            "[100]\ttrain's binary_logloss: 0.00372482\teval's binary_logloss: 0.0513356\n"
          ]
        },
        {
          "output_type": "stream",
          "name": "stderr",
          "text": [
            "num_leaves, val_score: 0.036729:   5%|5         | 1/20 [00:02<00:45,  2.40s/it]\u001b[32m[I 2021-09-02 12:17:19,989]\u001b[0m Trial 7 finished with value: 0.038118072690660566 and parameters: {'num_leaves': 208}. Best is trial 7 with value: 0.038118072690660566.\u001b[0m\n",
            "num_leaves, val_score: 0.036729:   5%|5         | 1/20 [00:02<00:45,  2.40s/it]"
          ]
        },
        {
          "output_type": "stream",
          "name": "stdout",
          "text": [
            "Early stopping, best iteration is:\n",
            "[32]\ttrain's binary_logloss: 0.0122385\teval's binary_logloss: 0.0381181\n",
            "Training until validation scores don't improve for 100 rounds\n",
            "[100]\ttrain's binary_logloss: 0.00372185\teval's binary_logloss: 0.0512932\n"
          ]
        },
        {
          "output_type": "stream",
          "name": "stderr",
          "text": [
            "num_leaves, val_score: 0.036729:  10%|#         | 2/20 [00:04<00:43,  2.41s/it]\u001b[32m[I 2021-09-02 12:17:22,416]\u001b[0m Trial 8 finished with value: 0.03811807055566837 and parameters: {'num_leaves': 213}. Best is trial 8 with value: 0.03811807055566837.\u001b[0m\n",
            "num_leaves, val_score: 0.036729:  10%|#         | 2/20 [00:04<00:43,  2.41s/it]"
          ]
        },
        {
          "output_type": "stream",
          "name": "stdout",
          "text": [
            "Early stopping, best iteration is:\n",
            "[32]\ttrain's binary_logloss: 0.0122385\teval's binary_logloss: 0.0381181\n",
            "Training until validation scores don't improve for 100 rounds\n",
            "[100]\ttrain's binary_logloss: 0.00413142\teval's binary_logloss: 0.0481779\n"
          ]
        },
        {
          "output_type": "stream",
          "name": "stderr",
          "text": [
            "num_leaves, val_score: 0.036729:  15%|#5        | 3/20 [00:05<00:30,  1.80s/it]\u001b[32m[I 2021-09-02 12:17:23,475]\u001b[0m Trial 9 finished with value: 0.03764344240128103 and parameters: {'num_leaves': 64}. Best is trial 9 with value: 0.03764344240128103.\u001b[0m\n",
            "num_leaves, val_score: 0.036729:  15%|#5        | 3/20 [00:05<00:30,  1.80s/it]"
          ]
        },
        {
          "output_type": "stream",
          "name": "stdout",
          "text": [
            "Early stopping, best iteration is:\n",
            "[32]\ttrain's binary_logloss: 0.013398\teval's binary_logloss: 0.0376434\n",
            "Training until validation scores don't improve for 100 rounds\n",
            "[100]\ttrain's binary_logloss: 0.00372482\teval's binary_logloss: 0.0513344\n"
          ]
        },
        {
          "output_type": "stream",
          "name": "stderr",
          "text": [
            "num_leaves, val_score: 0.036729:  20%|##        | 4/20 [00:08<00:34,  2.15s/it]\u001b[32m[I 2021-09-02 12:17:26,157]\u001b[0m Trial 10 finished with value: 0.03811816808986984 and parameters: {'num_leaves': 242}. Best is trial 9 with value: 0.03764344240128103.\u001b[0m\n",
            "num_leaves, val_score: 0.036729:  20%|##        | 4/20 [00:08<00:34,  2.15s/it]"
          ]
        },
        {
          "output_type": "stream",
          "name": "stdout",
          "text": [
            "Early stopping, best iteration is:\n",
            "[32]\ttrain's binary_logloss: 0.0122385\teval's binary_logloss: 0.0381182\n",
            "Training until validation scores don't improve for 100 rounds\n",
            "[100]\ttrain's binary_logloss: 0.00372481\teval's binary_logloss: 0.0513351\n"
          ]
        },
        {
          "output_type": "stream",
          "name": "stderr",
          "text": [
            "num_leaves, val_score: 0.036729:  25%|##5       | 5/20 [00:10<00:33,  2.22s/it]\u001b[32m[I 2021-09-02 12:17:28,513]\u001b[0m Trial 11 finished with value: 0.038118390861692365 and parameters: {'num_leaves': 198}. Best is trial 9 with value: 0.03764344240128103.\u001b[0m\n",
            "num_leaves, val_score: 0.036729:  25%|##5       | 5/20 [00:10<00:33,  2.22s/it]"
          ]
        },
        {
          "output_type": "stream",
          "name": "stdout",
          "text": [
            "Early stopping, best iteration is:\n",
            "[32]\ttrain's binary_logloss: 0.0122385\teval's binary_logloss: 0.0381184\n",
            "Training until validation scores don't improve for 100 rounds\n"
          ]
        },
        {
          "output_type": "stream",
          "name": "stderr",
          "text": [
            "num_leaves, val_score: 0.036729:  30%|###       | 6/20 [00:11<00:23,  1.69s/it]\u001b[32m[I 2021-09-02 12:17:29,187]\u001b[0m Trial 12 finished with value: 0.03717043097139276 and parameters: {'num_leaves': 28}. Best is trial 12 with value: 0.03717043097139276.\u001b[0m\n",
            "num_leaves, val_score: 0.036729:  30%|###       | 6/20 [00:11<00:23,  1.69s/it]"
          ]
        },
        {
          "output_type": "stream",
          "name": "stdout",
          "text": [
            "[100]\ttrain's binary_logloss: 0.0103362\teval's binary_logloss: 0.0410294\n",
            "Early stopping, best iteration is:\n",
            "[37]\ttrain's binary_logloss: 0.017972\teval's binary_logloss: 0.0371704\n",
            "Training until validation scores don't improve for 100 rounds\n",
            "[100]\ttrain's binary_logloss: 0.00372481\teval's binary_logloss: 0.0513354\n"
          ]
        },
        {
          "output_type": "stream",
          "name": "stderr",
          "text": [
            "num_leaves, val_score: 0.036729:  35%|###5      | 7/20 [00:14<00:26,  2.04s/it]\u001b[32m[I 2021-09-02 12:17:31,933]\u001b[0m Trial 13 finished with value: 0.03811839140652862 and parameters: {'num_leaves': 246}. Best is trial 12 with value: 0.03717043097139276.\u001b[0m\n",
            "num_leaves, val_score: 0.036729:  35%|###5      | 7/20 [00:14<00:26,  2.04s/it]"
          ]
        },
        {
          "output_type": "stream",
          "name": "stdout",
          "text": [
            "Early stopping, best iteration is:\n",
            "[32]\ttrain's binary_logloss: 0.0122385\teval's binary_logloss: 0.0381184\n",
            "Training until validation scores don't improve for 100 rounds\n",
            "[100]\ttrain's binary_logloss: 0.00372185\teval's binary_logloss: 0.0512989\n"
          ]
        },
        {
          "output_type": "stream",
          "name": "stderr",
          "text": [
            "num_leaves, val_score: 0.036729:  40%|####      | 8/20 [00:17<00:26,  2.25s/it]\u001b[32m[I 2021-09-02 12:17:34,629]\u001b[0m Trial 14 finished with value: 0.038118457367356105 and parameters: {'num_leaves': 249}. Best is trial 12 with value: 0.03717043097139276.\u001b[0m\n",
            "num_leaves, val_score: 0.036729:  40%|####      | 8/20 [00:17<00:26,  2.25s/it]"
          ]
        },
        {
          "output_type": "stream",
          "name": "stdout",
          "text": [
            "Early stopping, best iteration is:\n",
            "[32]\ttrain's binary_logloss: 0.0122385\teval's binary_logloss: 0.0381185\n",
            "Training until validation scores don't improve for 100 rounds\n"
          ]
        },
        {
          "output_type": "stream",
          "name": "stderr",
          "text": [
            "num_leaves, val_score: 0.033958:  45%|####5     | 9/20 [00:17<00:18,  1.69s/it]\u001b[32m[I 2021-09-02 12:17:35,081]\u001b[0m Trial 15 finished with value: 0.03395782553067333 and parameters: {'num_leaves': 8}. Best is trial 15 with value: 0.03395782553067333.\u001b[0m\n",
            "num_leaves, val_score: 0.033958:  45%|####5     | 9/20 [00:17<00:18,  1.69s/it]"
          ]
        },
        {
          "output_type": "stream",
          "name": "stdout",
          "text": [
            "[100]\ttrain's binary_logloss: 0.0224276\teval's binary_logloss: 0.0351168\n",
            "Early stopping, best iteration is:\n",
            "[63]\ttrain's binary_logloss: 0.0251142\teval's binary_logloss: 0.0339578\n",
            "Training until validation scores don't improve for 100 rounds\n",
            "[100]\ttrain's binary_logloss: 0.00373234\teval's binary_logloss: 0.0512011\n"
          ]
        },
        {
          "output_type": "stream",
          "name": "stderr",
          "text": [
            "num_leaves, val_score: 0.033958:  50%|#####     | 10/20 [00:18<00:15,  1.52s/it]\u001b[32m[I 2021-09-02 12:17:36,240]\u001b[0m Trial 16 finished with value: 0.03880539718585001 and parameters: {'num_leaves': 77}. Best is trial 15 with value: 0.03395782553067333.\u001b[0m\n",
            "num_leaves, val_score: 0.033958:  50%|#####     | 10/20 [00:18<00:15,  1.52s/it]"
          ]
        },
        {
          "output_type": "stream",
          "name": "stdout",
          "text": [
            "Early stopping, best iteration is:\n",
            "[26]\ttrain's binary_logloss: 0.0148104\teval's binary_logloss: 0.0388054\n",
            "Training until validation scores don't improve for 100 rounds\n",
            "[100]\ttrain's binary_logloss: 0.00360349\teval's binary_logloss: 0.0506076\n"
          ]
        },
        {
          "output_type": "stream",
          "name": "stderr",
          "text": [
            "num_leaves, val_score: 0.033958:  55%|#####5    | 11/20 [00:20<00:13,  1.54s/it]\u001b[32m[I 2021-09-02 12:17:37,826]\u001b[0m Trial 17 finished with value: 0.03836619155367994 and parameters: {'num_leaves': 127}. Best is trial 15 with value: 0.03395782553067333.\u001b[0m\n",
            "num_leaves, val_score: 0.033958:  55%|#####5    | 11/20 [00:20<00:13,  1.54s/it]"
          ]
        },
        {
          "output_type": "stream",
          "name": "stdout",
          "text": [
            "Early stopping, best iteration is:\n",
            "[24]\ttrain's binary_logloss: 0.0156148\teval's binary_logloss: 0.0383662\n",
            "Training until validation scores don't improve for 100 rounds\n"
          ]
        },
        {
          "output_type": "stream",
          "name": "stderr",
          "text": [
            "num_leaves, val_score: 0.033673:  60%|######    | 12/20 [00:20<00:09,  1.19s/it]\u001b[32m[I 2021-09-02 12:17:38,198]\u001b[0m Trial 18 finished with value: 0.03367264984616941 and parameters: {'num_leaves': 4}. Best is trial 18 with value: 0.03367264984616941.\u001b[0m\n",
            "num_leaves, val_score: 0.033673:  60%|######    | 12/20 [00:20<00:09,  1.19s/it]"
          ]
        },
        {
          "output_type": "stream",
          "name": "stdout",
          "text": [
            "[100]\ttrain's binary_logloss: 0.0283246\teval's binary_logloss: 0.034367\n",
            "Early stopping, best iteration is:\n",
            "[61]\ttrain's binary_logloss: 0.0303634\teval's binary_logloss: 0.0336726\n",
            "Training until validation scores don't improve for 100 rounds\n",
            "[100]\ttrain's binary_logloss: 0.0207128\teval's binary_logloss: 0.0352646\n"
          ]
        },
        {
          "output_type": "stream",
          "name": "stderr",
          "text": [
            "num_leaves, val_score: 0.033673:  65%|######5   | 13/20 [00:21<00:06,  1.03it/s]\u001b[32m[I 2021-09-02 12:17:38,667]\u001b[0m Trial 19 finished with value: 0.03414255930782006 and parameters: {'num_leaves': 10}. Best is trial 18 with value: 0.03367264984616941.\u001b[0m\n",
            "num_leaves, val_score: 0.033673:  65%|######5   | 13/20 [00:21<00:06,  1.03it/s]"
          ]
        },
        {
          "output_type": "stream",
          "name": "stdout",
          "text": [
            "Early stopping, best iteration is:\n",
            "[57]\ttrain's binary_logloss: 0.0242709\teval's binary_logloss: 0.0341426\n",
            "Training until validation scores don't improve for 100 rounds\n",
            "[100]\ttrain's binary_logloss: 0.00479049\teval's binary_logloss: 0.0452767\n"
          ]
        },
        {
          "output_type": "stream",
          "name": "stderr",
          "text": [
            "num_leaves, val_score: 0.033673:  70%|#######   | 14/20 [00:22<00:05,  1.02it/s]\u001b[32m[I 2021-09-02 12:17:39,677]\u001b[0m Trial 20 finished with value: 0.03767795572569141 and parameters: {'num_leaves': 56}. Best is trial 18 with value: 0.03367264984616941.\u001b[0m\n",
            "num_leaves, val_score: 0.033673:  70%|#######   | 14/20 [00:22<00:05,  1.02it/s]"
          ]
        },
        {
          "output_type": "stream",
          "name": "stdout",
          "text": [
            "Early stopping, best iteration is:\n",
            "[35]\ttrain's binary_logloss: 0.0133332\teval's binary_logloss: 0.037678\n",
            "Training until validation scores don't improve for 100 rounds\n",
            "[100]\ttrain's binary_logloss: 0.003612\teval's binary_logloss: 0.0512001\n"
          ]
        },
        {
          "output_type": "stream",
          "name": "stderr",
          "text": [
            "num_leaves, val_score: 0.033673:  75%|#######5  | 15/20 [00:23<00:05,  1.15s/it]\u001b[32m[I 2021-09-02 12:17:41,221]\u001b[0m Trial 21 finished with value: 0.03836578937292374 and parameters: {'num_leaves': 115}. Best is trial 18 with value: 0.03367264984616941.\u001b[0m\n",
            "num_leaves, val_score: 0.033673:  75%|#######5  | 15/20 [00:23<00:05,  1.15s/it]"
          ]
        },
        {
          "output_type": "stream",
          "name": "stdout",
          "text": [
            "Early stopping, best iteration is:\n",
            "[24]\ttrain's binary_logloss: 0.0156149\teval's binary_logloss: 0.0383658\n",
            "Training until validation scores don't improve for 100 rounds\n"
          ]
        },
        {
          "output_type": "stream",
          "name": "stderr",
          "text": [
            "num_leaves, val_score: 0.033673:  80%|########  | 16/20 [00:24<00:03,  1.03it/s]\u001b[32m[I 2021-09-02 12:17:41,758]\u001b[0m Trial 22 finished with value: 0.034448099599844365 and parameters: {'num_leaves': 15}. Best is trial 18 with value: 0.03367264984616941.\u001b[0m\n",
            "num_leaves, val_score: 0.033673:  80%|########  | 16/20 [00:24<00:03,  1.03it/s]"
          ]
        },
        {
          "output_type": "stream",
          "name": "stdout",
          "text": [
            "[100]\ttrain's binary_logloss: 0.0163441\teval's binary_logloss: 0.0360913\n",
            "Early stopping, best iteration is:\n",
            "[50]\ttrain's binary_logloss: 0.021324\teval's binary_logloss: 0.0344481\n",
            "Training until validation scores don't improve for 100 rounds\n",
            "[100]\ttrain's binary_logloss: 0.00362974\teval's binary_logloss: 0.0520041\n"
          ]
        },
        {
          "output_type": "stream",
          "name": "stderr",
          "text": [
            "num_leaves, val_score: 0.033673:  85%|########5 | 17/20 [00:25<00:03,  1.07s/it]\u001b[32m[I 2021-09-02 12:17:43,063]\u001b[0m Trial 23 finished with value: 0.03836732745336551 and parameters: {'num_leaves': 96}. Best is trial 18 with value: 0.03367264984616941.\u001b[0m\n",
            "num_leaves, val_score: 0.033673:  85%|########5 | 17/20 [00:25<00:03,  1.07s/it]"
          ]
        },
        {
          "output_type": "stream",
          "name": "stdout",
          "text": [
            "Early stopping, best iteration is:\n",
            "[24]\ttrain's binary_logloss: 0.0156155\teval's binary_logloss: 0.0383673\n",
            "Training until validation scores don't improve for 100 rounds\n",
            "[100]\ttrain's binary_logloss: 0.00372482\teval's binary_logloss: 0.051335\n"
          ]
        },
        {
          "output_type": "stream",
          "name": "stderr",
          "text": [
            "num_leaves, val_score: 0.033673:  90%|######### | 18/20 [00:27<00:02,  1.35s/it]\u001b[32m[I 2021-09-02 12:17:45,083]\u001b[0m Trial 24 finished with value: 0.038118146009672366 and parameters: {'num_leaves': 168}. Best is trial 18 with value: 0.03367264984616941.\u001b[0m\n",
            "num_leaves, val_score: 0.033673:  90%|######### | 18/20 [00:27<00:02,  1.35s/it]"
          ]
        },
        {
          "output_type": "stream",
          "name": "stdout",
          "text": [
            "Early stopping, best iteration is:\n",
            "[32]\ttrain's binary_logloss: 0.0122385\teval's binary_logloss: 0.0381181\n",
            "Training until validation scores don't improve for 100 rounds\n",
            "[100]\ttrain's binary_logloss: 0.007445\teval's binary_logloss: 0.0427131\n",
            "Early stopping, best iteration is:\n",
            "[37]\ttrain's binary_logloss: 0.0154457\teval's binary_logloss: 0.0369952\n"
          ]
        },
        {
          "output_type": "stream",
          "name": "stderr",
          "text": [
            "num_leaves, val_score: 0.033673:  95%|#########5| 19/20 [00:28<00:01,  1.19s/it]\u001b[32m[I 2021-09-02 12:17:45,897]\u001b[0m Trial 25 finished with value: 0.036995247728948445 and parameters: {'num_leaves': 39}. Best is trial 18 with value: 0.03367264984616941.\u001b[0m\n",
            "num_leaves, val_score: 0.033673:  95%|#########5| 19/20 [00:28<00:01,  1.19s/it]"
          ]
        },
        {
          "output_type": "stream",
          "name": "stdout",
          "text": [
            "Training until validation scores don't improve for 100 rounds\n",
            "[100]\ttrain's binary_logloss: 0.00372482\teval's binary_logloss: 0.051336\n"
          ]
        },
        {
          "output_type": "stream",
          "name": "stderr",
          "text": [
            "num_leaves, val_score: 0.033673: 100%|##########| 20/20 [00:30<00:00,  1.44s/it]\u001b[32m[I 2021-09-02 12:17:47,922]\u001b[0m Trial 26 finished with value: 0.038118437005849444 and parameters: {'num_leaves': 147}. Best is trial 18 with value: 0.03367264984616941.\u001b[0m\n",
            "num_leaves, val_score: 0.033673: 100%|##########| 20/20 [00:30<00:00,  1.52s/it]\n"
          ]
        },
        {
          "output_type": "stream",
          "name": "stdout",
          "text": [
            "Early stopping, best iteration is:\n",
            "[32]\ttrain's binary_logloss: 0.0122386\teval's binary_logloss: 0.0381184\n"
          ]
        },
        {
          "output_type": "stream",
          "name": "stderr",
          "text": [
            "bagging, val_score: 0.033673:   0%|          | 0/10 [00:00<?, ?it/s]"
          ]
        },
        {
          "output_type": "stream",
          "name": "stdout",
          "text": [
            "Training until validation scores don't improve for 100 rounds\n",
            "[100]\ttrain's binary_logloss: 0.0279994\teval's binary_logloss: 0.0348273\n"
          ]
        },
        {
          "output_type": "stream",
          "name": "stderr",
          "text": [
            "bagging, val_score: 0.033673:  10%|#         | 1/10 [00:00<00:06,  1.45it/s]\u001b[32m[I 2021-09-02 12:17:48,625]\u001b[0m Trial 27 finished with value: 0.03468388350764773 and parameters: {'bagging_fraction': 0.6756262809315507, 'bagging_freq': 3}. Best is trial 27 with value: 0.03468388350764773.\u001b[0m\n",
            "bagging, val_score: 0.033673:  10%|#         | 1/10 [00:00<00:06,  1.45it/s]"
          ]
        },
        {
          "output_type": "stream",
          "name": "stdout",
          "text": [
            "Early stopping, best iteration is:\n",
            "[82]\ttrain's binary_logloss: 0.0289464\teval's binary_logloss: 0.0346839\n",
            "Training until validation scores don't improve for 100 rounds\n",
            "[100]\ttrain's binary_logloss: 0.0278863\teval's binary_logloss: 0.0356758\n"
          ]
        },
        {
          "output_type": "stream",
          "name": "stderr",
          "text": [
            "bagging, val_score: 0.033673:  20%|##        | 2/10 [00:01<00:05,  1.35it/s]\u001b[32m[I 2021-09-02 12:17:49,398]\u001b[0m Trial 28 finished with value: 0.03473144366949322 and parameters: {'bagging_fraction': 0.6592439560817414, 'bagging_freq': 4}. Best is trial 27 with value: 0.03468388350764773.\u001b[0m\n",
            "bagging, val_score: 0.033673:  20%|##        | 2/10 [00:01<00:05,  1.35it/s]"
          ]
        },
        {
          "output_type": "stream",
          "name": "stdout",
          "text": [
            "[200]\ttrain's binary_logloss: 0.0246413\teval's binary_logloss: 0.0350632\n",
            "Early stopping, best iteration is:\n",
            "[160]\ttrain's binary_logloss: 0.0257226\teval's binary_logloss: 0.0347314\n",
            "Training until validation scores don't improve for 100 rounds\n"
          ]
        },
        {
          "output_type": "stream",
          "name": "stderr",
          "text": [
            "\rbagging, val_score: 0.033673:  20%|##        | 2/10 [00:02<00:05,  1.35it/s]"
          ]
        },
        {
          "output_type": "stream",
          "name": "stdout",
          "text": [
            "[100]\ttrain's binary_logloss: 0.0280484\teval's binary_logloss: 0.0347382\n",
            "Early stopping, best iteration is:\n",
            "[59]\ttrain's binary_logloss: 0.0303842\teval's binary_logloss: 0.0341376\n"
          ]
        },
        {
          "output_type": "stream",
          "name": "stderr",
          "text": [
            "bagging, val_score: 0.033673:  30%|###       | 3/10 [00:02<00:04,  1.47it/s]\u001b[32m[I 2021-09-02 12:17:50,016]\u001b[0m Trial 29 finished with value: 0.03413760358377037 and parameters: {'bagging_fraction': 0.9072171183974657, 'bagging_freq': 3}. Best is trial 29 with value: 0.03413760358377037.\u001b[0m\n",
            "bagging, val_score: 0.033673:  30%|###       | 3/10 [00:02<00:04,  1.47it/s]"
          ]
        },
        {
          "output_type": "stream",
          "name": "stdout",
          "text": [
            "Training until validation scores don't improve for 100 rounds\n",
            "[100]\ttrain's binary_logloss: 0.0281698\teval's binary_logloss: 0.0345058\n",
            "Early stopping, best iteration is:\n",
            "[87]\ttrain's binary_logloss: 0.0289943\teval's binary_logloss: 0.0339669\n"
          ]
        },
        {
          "output_type": "stream",
          "name": "stderr",
          "text": [
            "bagging, val_score: 0.033673:  40%|####      | 4/10 [00:02<00:03,  1.57it/s]\u001b[32m[I 2021-09-02 12:17:50,583]\u001b[0m Trial 30 finished with value: 0.033966933942423075 and parameters: {'bagging_fraction': 0.8990436676765705, 'bagging_freq': 6}. Best is trial 30 with value: 0.033966933942423075.\u001b[0m\n",
            "bagging, val_score: 0.033673:  40%|####      | 4/10 [00:02<00:03,  1.57it/s]"
          ]
        },
        {
          "output_type": "stream",
          "name": "stdout",
          "text": [
            "Training until validation scores don't improve for 100 rounds\n",
            "[100]\ttrain's binary_logloss: 0.0276864\teval's binary_logloss: 0.0354898\n"
          ]
        },
        {
          "output_type": "stream",
          "name": "stderr",
          "text": [
            "bagging, val_score: 0.033673:  50%|#####     | 5/10 [00:03<00:03,  1.62it/s]\u001b[32m[I 2021-09-02 12:17:51,160]\u001b[0m Trial 31 finished with value: 0.03518910933505107 and parameters: {'bagging_fraction': 0.6871659859519202, 'bagging_freq': 6}. Best is trial 30 with value: 0.033966933942423075.\u001b[0m\n",
            "bagging, val_score: 0.033673:  50%|#####     | 5/10 [00:03<00:03,  1.62it/s]"
          ]
        },
        {
          "output_type": "stream",
          "name": "stdout",
          "text": [
            "[200]\ttrain's binary_logloss: 0.0241142\teval's binary_logloss: 0.0357748\n",
            "Early stopping, best iteration is:\n",
            "[111]\ttrain's binary_logloss: 0.0270619\teval's binary_logloss: 0.0351891\n",
            "Training until validation scores don't improve for 100 rounds\n",
            "[100]\ttrain's binary_logloss: 0.0280517\teval's binary_logloss: 0.033082\n"
          ]
        },
        {
          "output_type": "stream",
          "name": "stderr",
          "text": [
            "bagging, val_score: 0.032902:  60%|######    | 6/10 [00:04<00:02,  1.46it/s]\u001b[32m[I 2021-09-02 12:17:51,976]\u001b[0m Trial 32 finished with value: 0.03290228854661356 and parameters: {'bagging_fraction': 0.809189181330457, 'bagging_freq': 3}. Best is trial 32 with value: 0.03290228854661356.\u001b[0m\n",
            "bagging, val_score: 0.032902:  60%|######    | 6/10 [00:04<00:02,  1.46it/s]"
          ]
        },
        {
          "output_type": "stream",
          "name": "stdout",
          "text": [
            "[200]\ttrain's binary_logloss: 0.0245397\teval's binary_logloss: 0.0332819\n",
            "Early stopping, best iteration is:\n",
            "[120]\ttrain's binary_logloss: 0.0271308\teval's binary_logloss: 0.0329023\n",
            "Training until validation scores don't improve for 100 rounds\n"
          ]
        },
        {
          "output_type": "stream",
          "name": "stderr",
          "text": [
            "bagging, val_score: 0.032902:  70%|#######   | 7/10 [00:04<00:01,  1.57it/s]"
          ]
        },
        {
          "output_type": "stream",
          "name": "stdout",
          "text": [
            "[100]\ttrain's binary_logloss: 0.0300947\teval's binary_logloss: 0.0413826\n",
            "Early stopping, best iteration is:\n",
            "[55]\ttrain's binary_logloss: 0.0313616\teval's binary_logloss: 0.0349551\n"
          ]
        },
        {
          "output_type": "stream",
          "name": "stderr",
          "text": [
            "\u001b[32m[I 2021-09-02 12:17:52,526]\u001b[0m Trial 33 finished with value: 0.03495513613682994 and parameters: {'bagging_fraction': 0.6246109177665194, 'bagging_freq': 4}. Best is trial 32 with value: 0.03290228854661356.\u001b[0m\n",
            "bagging, val_score: 0.032902:  70%|#######   | 7/10 [00:04<00:01,  1.57it/s]"
          ]
        },
        {
          "output_type": "stream",
          "name": "stdout",
          "text": [
            "Training until validation scores don't improve for 100 rounds\n"
          ]
        },
        {
          "output_type": "stream",
          "name": "stderr",
          "text": [
            "bagging, val_score: 0.032902:  80%|########  | 8/10 [00:05<00:01,  1.69it/s]\u001b[32m[I 2021-09-02 12:17:53,007]\u001b[0m Trial 34 finished with value: 0.03529673356362125 and parameters: {'bagging_fraction': 0.6057763585640676, 'bagging_freq': 4}. Best is trial 32 with value: 0.03290228854661356.\u001b[0m\n",
            "bagging, val_score: 0.032902:  80%|########  | 8/10 [00:05<00:01,  1.69it/s]"
          ]
        },
        {
          "output_type": "stream",
          "name": "stdout",
          "text": [
            "[100]\ttrain's binary_logloss: 0.029044\teval's binary_logloss: 0.037902\n",
            "Early stopping, best iteration is:\n",
            "[44]\ttrain's binary_logloss: 0.0314719\teval's binary_logloss: 0.0352967\n",
            "Training until validation scores don't improve for 100 rounds\n",
            "[100]\ttrain's binary_logloss: 0.0281919\teval's binary_logloss: 0.0349226\n",
            "[200]\ttrain's binary_logloss: 0.0245357\teval's binary_logloss: 0.0344127\n",
            "[300]\ttrain's binary_logloss: 0.022344\teval's binary_logloss: 0.0352823\n",
            "Early stopping, best iteration is:\n",
            "[200]\ttrain's binary_logloss: 0.0245357\teval's binary_logloss: 0.0344127\n"
          ]
        },
        {
          "output_type": "stream",
          "name": "stderr",
          "text": [
            "bagging, val_score: 0.032902:  90%|######### | 9/10 [00:05<00:00,  1.54it/s]\u001b[32m[I 2021-09-02 12:17:53,797]\u001b[0m Trial 35 finished with value: 0.034412654550223104 and parameters: {'bagging_fraction': 0.6134818740689196, 'bagging_freq': 5}. Best is trial 32 with value: 0.03290228854661356.\u001b[0m\n",
            "bagging, val_score: 0.032902:  90%|######### | 9/10 [00:05<00:00,  1.54it/s]"
          ]
        },
        {
          "output_type": "stream",
          "name": "stdout",
          "text": [
            "Training until validation scores don't improve for 100 rounds\n"
          ]
        },
        {
          "output_type": "stream",
          "name": "stderr",
          "text": [
            "bagging, val_score: 0.032902: 100%|##########| 10/10 [00:06<00:00,  1.62it/s]\u001b[32m[I 2021-09-02 12:17:54,339]\u001b[0m Trial 36 finished with value: 0.034556717705618974 and parameters: {'bagging_fraction': 0.7297663608721437, 'bagging_freq': 4}. Best is trial 32 with value: 0.03290228854661356.\u001b[0m\n",
            "bagging, val_score: 0.032902: 100%|##########| 10/10 [00:06<00:00,  1.56it/s]"
          ]
        },
        {
          "output_type": "stream",
          "name": "stdout",
          "text": [
            "[100]\ttrain's binary_logloss: 0.0276622\teval's binary_logloss: 0.0349089\n",
            "Early stopping, best iteration is:\n",
            "[69]\ttrain's binary_logloss: 0.0295903\teval's binary_logloss: 0.0345567\n"
          ]
        },
        {
          "output_type": "stream",
          "name": "stderr",
          "text": [
            "\n",
            "feature_fraction_stage2, val_score: 0.032902:   0%|          | 0/6 [00:00<?, ?it/s]"
          ]
        },
        {
          "output_type": "stream",
          "name": "stdout",
          "text": [
            "Training until validation scores don't improve for 100 rounds\n",
            "[100]\ttrain's binary_logloss: 0.0280517\teval's binary_logloss: 0.033082\n"
          ]
        },
        {
          "output_type": "stream",
          "name": "stderr",
          "text": [
            "feature_fraction_stage2, val_score: 0.032902:  17%|#6        | 1/6 [00:00<00:03,  1.29it/s]\u001b[32m[I 2021-09-02 12:17:55,128]\u001b[0m Trial 37 finished with value: 0.03290228282071805 and parameters: {'feature_fraction': 0.784}. Best is trial 37 with value: 0.03290228282071805.\u001b[0m\n",
            "feature_fraction_stage2, val_score: 0.032902:  17%|#6        | 1/6 [00:00<00:03,  1.29it/s]"
          ]
        },
        {
          "output_type": "stream",
          "name": "stdout",
          "text": [
            "[200]\ttrain's binary_logloss: 0.0245397\teval's binary_logloss: 0.0332819\n",
            "Early stopping, best iteration is:\n",
            "[120]\ttrain's binary_logloss: 0.0271308\teval's binary_logloss: 0.0329023\n",
            "Training until validation scores don't improve for 100 rounds\n",
            "[100]\ttrain's binary_logloss: 0.0280517\teval's binary_logloss: 0.033082\n"
          ]
        },
        {
          "output_type": "stream",
          "name": "stderr",
          "text": [
            "feature_fraction_stage2, val_score: 0.032902:  33%|###3      | 2/6 [00:01<00:03,  1.26it/s]\u001b[32m[I 2021-09-02 12:17:55,936]\u001b[0m Trial 38 finished with value: 0.03290228748335394 and parameters: {'feature_fraction': 0.7520000000000001}. Best is trial 37 with value: 0.03290228282071805.\u001b[0m\n",
            "feature_fraction_stage2, val_score: 0.032902:  33%|###3      | 2/6 [00:01<00:03,  1.26it/s]"
          ]
        },
        {
          "output_type": "stream",
          "name": "stdout",
          "text": [
            "[200]\ttrain's binary_logloss: 0.0245397\teval's binary_logloss: 0.0332819\n",
            "Early stopping, best iteration is:\n",
            "[120]\ttrain's binary_logloss: 0.0271308\teval's binary_logloss: 0.0329023\n",
            "Training until validation scores don't improve for 100 rounds\n",
            "[100]\ttrain's binary_logloss: 0.0285461\teval's binary_logloss: 0.0325814\n"
          ]
        },
        {
          "output_type": "stream",
          "name": "stderr",
          "text": [
            "feature_fraction_stage2, val_score: 0.032352:  50%|#####     | 3/6 [00:02<00:02,  1.32it/s]\u001b[32m[I 2021-09-02 12:17:56,647]\u001b[0m Trial 39 finished with value: 0.03235225820004473 and parameters: {'feature_fraction': 0.7200000000000001}. Best is trial 39 with value: 0.03235225820004473.\u001b[0m\n",
            "feature_fraction_stage2, val_score: 0.032352:  50%|#####     | 3/6 [00:02<00:02,  1.32it/s]"
          ]
        },
        {
          "output_type": "stream",
          "name": "stdout",
          "text": [
            "Early stopping, best iteration is:\n",
            "[81]\ttrain's binary_logloss: 0.0293351\teval's binary_logloss: 0.0323523\n",
            "Training until validation scores don't improve for 100 rounds\n",
            "[100]\ttrain's binary_logloss: 0.0284985\teval's binary_logloss: 0.0330799\n"
          ]
        },
        {
          "output_type": "stream",
          "name": "stderr",
          "text": [
            "feature_fraction_stage2, val_score: 0.032352:  67%|######6   | 4/6 [00:03<00:01,  1.35it/s]\u001b[32m[I 2021-09-02 12:17:57,370]\u001b[0m Trial 40 finished with value: 0.03302201401990508 and parameters: {'feature_fraction': 0.8480000000000001}. Best is trial 39 with value: 0.03235225820004473.\u001b[0m\n",
            "feature_fraction_stage2, val_score: 0.032352:  67%|######6   | 4/6 [00:03<00:01,  1.35it/s]"
          ]
        },
        {
          "output_type": "stream",
          "name": "stdout",
          "text": [
            "[200]\ttrain's binary_logloss: 0.0248693\teval's binary_logloss: 0.0340325\n",
            "Early stopping, best iteration is:\n",
            "[104]\ttrain's binary_logloss: 0.0283359\teval's binary_logloss: 0.033022\n",
            "Training until validation scores don't improve for 100 rounds\n",
            "[100]\ttrain's binary_logloss: 0.0280517\teval's binary_logloss: 0.0330848\n"
          ]
        },
        {
          "output_type": "stream",
          "name": "stderr",
          "text": [
            "feature_fraction_stage2, val_score: 0.032352:  83%|########3 | 5/6 [00:03<00:00,  1.32it/s]\u001b[32m[I 2021-09-02 12:17:58,147]\u001b[0m Trial 41 finished with value: 0.03290523082432099 and parameters: {'feature_fraction': 0.8160000000000001}. Best is trial 39 with value: 0.03235225820004473.\u001b[0m\n",
            "feature_fraction_stage2, val_score: 0.032352:  83%|########3 | 5/6 [00:03<00:00,  1.32it/s]"
          ]
        },
        {
          "output_type": "stream",
          "name": "stdout",
          "text": [
            "[200]\ttrain's binary_logloss: 0.0245397\teval's binary_logloss: 0.033285\n",
            "Early stopping, best iteration is:\n",
            "[120]\ttrain's binary_logloss: 0.0271308\teval's binary_logloss: 0.0329052\n",
            "Training until validation scores don't improve for 100 rounds\n",
            "[100]\ttrain's binary_logloss: 0.0284985\teval's binary_logloss: 0.0330799\n"
          ]
        },
        {
          "output_type": "stream",
          "name": "stderr",
          "text": [
            "feature_fraction_stage2, val_score: 0.032352: 100%|##########| 6/6 [00:04<00:00,  1.33it/s]\u001b[32m[I 2021-09-02 12:17:58,899]\u001b[0m Trial 42 finished with value: 0.03302201740771344 and parameters: {'feature_fraction': 0.88}. Best is trial 39 with value: 0.03235225820004473.\u001b[0m\n",
            "feature_fraction_stage2, val_score: 0.032352: 100%|##########| 6/6 [00:04<00:00,  1.32it/s]\n"
          ]
        },
        {
          "output_type": "stream",
          "name": "stdout",
          "text": [
            "[200]\ttrain's binary_logloss: 0.0248693\teval's binary_logloss: 0.0340325\n",
            "Early stopping, best iteration is:\n",
            "[104]\ttrain's binary_logloss: 0.0283359\teval's binary_logloss: 0.033022\n"
          ]
        },
        {
          "output_type": "stream",
          "name": "stderr",
          "text": [
            "regularization_factors, val_score: 0.032352:   0%|          | 0/20 [00:00<?, ?it/s]"
          ]
        },
        {
          "output_type": "stream",
          "name": "stdout",
          "text": [
            "Training until validation scores don't improve for 100 rounds\n",
            "[100]\ttrain's binary_logloss: 0.02829\teval's binary_logloss: 0.0329234\n"
          ]
        },
        {
          "output_type": "stream",
          "name": "stderr",
          "text": [
            "regularization_factors, val_score: 0.032352:   5%|5         | 1/20 [00:00<00:13,  1.43it/s]\u001b[32m[I 2021-09-02 12:17:59,608]\u001b[0m Trial 43 finished with value: 0.03258359470168758 and parameters: {'lambda_l1': 0.0017810466265245437, 'lambda_l2': 2.5115695993897903e-05}. Best is trial 43 with value: 0.03258359470168758.\u001b[0m\n",
            "regularization_factors, val_score: 0.032352:   5%|5         | 1/20 [00:00<00:13,  1.43it/s]"
          ]
        },
        {
          "output_type": "stream",
          "name": "stdout",
          "text": [
            "Early stopping, best iteration is:\n",
            "[79]\ttrain's binary_logloss: 0.029301\teval's binary_logloss: 0.0325836\n",
            "Training until validation scores don't improve for 100 rounds\n",
            "[100]\ttrain's binary_logloss: 0.0283153\teval's binary_logloss: 0.0326293\n",
            "Early stopping, best iteration is:\n",
            "[76]\ttrain's binary_logloss: 0.029515\teval's binary_logloss: 0.0323692\n"
          ]
        },
        {
          "output_type": "stream",
          "name": "stderr",
          "text": [
            "regularization_factors, val_score: 0.032352:  10%|#         | 2/20 [00:01<00:12,  1.50it/s]\u001b[32m[I 2021-09-02 12:18:00,255]\u001b[0m Trial 44 finished with value: 0.032369234549707776 and parameters: {'lambda_l1': 1.736909569250059e-07, 'lambda_l2': 0.003655827678766002}. Best is trial 44 with value: 0.032369234549707776.\u001b[0m\n",
            "regularization_factors, val_score: 0.032352:  10%|#         | 2/20 [00:01<00:12,  1.50it/s]"
          ]
        },
        {
          "output_type": "stream",
          "name": "stdout",
          "text": [
            "Training until validation scores don't improve for 100 rounds\n",
            "[100]\ttrain's binary_logloss: 0.0285223\teval's binary_logloss: 0.0329056\n",
            "Early stopping, best iteration is:\n",
            "[69]\ttrain's binary_logloss: 0.0300243\teval's binary_logloss: 0.0325771\n"
          ]
        },
        {
          "output_type": "stream",
          "name": "stderr",
          "text": [
            "regularization_factors, val_score: 0.032352:  15%|#5        | 3/20 [00:02<00:11,  1.51it/s]\u001b[32m[I 2021-09-02 12:18:00,912]\u001b[0m Trial 45 finished with value: 0.032577080134603253 and parameters: {'lambda_l1': 1.2556671682090617e-06, 'lambda_l2': 0.06436320647693294}. Best is trial 44 with value: 0.032369234549707776.\u001b[0m\n",
            "regularization_factors, val_score: 0.032352:  15%|#5        | 3/20 [00:02<00:11,  1.51it/s]"
          ]
        },
        {
          "output_type": "stream",
          "name": "stdout",
          "text": [
            "Training until validation scores don't improve for 100 rounds\n",
            "[100]\ttrain's binary_logloss: 0.0284988\teval's binary_logloss: 0.0325784\n"
          ]
        },
        {
          "output_type": "stream",
          "name": "stderr",
          "text": [
            "regularization_factors, val_score: 0.032352:  20%|##        | 4/20 [00:02<00:11,  1.41it/s]\u001b[32m[I 2021-09-02 12:18:01,698]\u001b[0m Trial 46 finished with value: 0.032458738366617695 and parameters: {'lambda_l1': 8.624609263574635e-06, 'lambda_l2': 0.026704615069246856}. Best is trial 44 with value: 0.032369234549707776.\u001b[0m\n",
            "regularization_factors, val_score: 0.032352:  20%|##        | 4/20 [00:02<00:11,  1.41it/s]"
          ]
        },
        {
          "output_type": "stream",
          "name": "stdout",
          "text": [
            "[200]\ttrain's binary_logloss: 0.0250015\teval's binary_logloss: 0.0330976\n",
            "Early stopping, best iteration is:\n",
            "[116]\ttrain's binary_logloss: 0.0277991\teval's binary_logloss: 0.0324587\n",
            "Training until validation scores don't improve for 100 rounds\n",
            "[100]\ttrain's binary_logloss: 0.0297635\teval's binary_logloss: 0.032791\n",
            "Early stopping, best iteration is:\n",
            "[69]\ttrain's binary_logloss: 0.0308386\teval's binary_logloss: 0.0325666\n"
          ]
        },
        {
          "output_type": "stream",
          "name": "stderr",
          "text": [
            "regularization_factors, val_score: 0.032352:  25%|##5       | 5/20 [00:03<00:10,  1.46it/s]\u001b[32m[I 2021-09-02 12:18:02,346]\u001b[0m Trial 47 finished with value: 0.03256656387064291 and parameters: {'lambda_l1': 1.2266366287018182, 'lambda_l2': 0.009552862529126011}. Best is trial 44 with value: 0.032369234549707776.\u001b[0m\n",
            "regularization_factors, val_score: 0.032352:  25%|##5       | 5/20 [00:03<00:10,  1.46it/s]"
          ]
        },
        {
          "output_type": "stream",
          "name": "stdout",
          "text": [
            "Training until validation scores don't improve for 100 rounds\n",
            "[100]\ttrain's binary_logloss: 0.0285461\teval's binary_logloss: 0.0325814\n"
          ]
        },
        {
          "output_type": "stream",
          "name": "stderr",
          "text": [
            "regularization_factors, val_score: 0.032352:  30%|###       | 6/20 [00:04<00:09,  1.47it/s]\u001b[32m[I 2021-09-02 12:18:03,013]\u001b[0m Trial 48 finished with value: 0.03235225729312644 and parameters: {'lambda_l1': 3.441565203691392e-08, 'lambda_l2': 2.423978025231654e-07}. Best is trial 48 with value: 0.03235225729312644.\u001b[0m\n",
            "regularization_factors, val_score: 0.032352:  30%|###       | 6/20 [00:04<00:09,  1.47it/s]"
          ]
        },
        {
          "output_type": "stream",
          "name": "stdout",
          "text": [
            "Early stopping, best iteration is:\n",
            "[81]\ttrain's binary_logloss: 0.0293351\teval's binary_logloss: 0.0323523\n",
            "Training until validation scores don't improve for 100 rounds\n",
            "[100]\ttrain's binary_logloss: 0.0292429\teval's binary_logloss: 0.0329199\n",
            "Early stopping, best iteration is:\n",
            "[68]\ttrain's binary_logloss: 0.0306957\teval's binary_logloss: 0.0324911\n"
          ]
        },
        {
          "output_type": "stream",
          "name": "stderr",
          "text": [
            "regularization_factors, val_score: 0.032352:  35%|###5      | 7/20 [00:04<00:08,  1.51it/s]\u001b[32m[I 2021-09-02 12:18:03,642]\u001b[0m Trial 49 finished with value: 0.03249111896953699 and parameters: {'lambda_l1': 0.02281466062946098, 'lambda_l2': 0.3370266832351683}. Best is trial 48 with value: 0.03235225729312644.\u001b[0m\n",
            "regularization_factors, val_score: 0.032352:  35%|###5      | 7/20 [00:04<00:08,  1.51it/s]"
          ]
        },
        {
          "output_type": "stream",
          "name": "stdout",
          "text": [
            "Training until validation scores don't improve for 100 rounds\n",
            "[100]\ttrain's binary_logloss: 0.0285461\teval's binary_logloss: 0.0325814\n"
          ]
        },
        {
          "output_type": "stream",
          "name": "stderr",
          "text": [
            "regularization_factors, val_score: 0.032352:  40%|####      | 8/20 [00:05<00:07,  1.50it/s]\u001b[32m[I 2021-09-02 12:18:04,313]\u001b[0m Trial 50 finished with value: 0.03235225761162764 and parameters: {'lambda_l1': 2.72021885291419e-07, 'lambda_l2': 1.8468223867471963e-08}. Best is trial 48 with value: 0.03235225729312644.\u001b[0m\n",
            "regularization_factors, val_score: 0.032352:  40%|####      | 8/20 [00:05<00:07,  1.50it/s]"
          ]
        },
        {
          "output_type": "stream",
          "name": "stdout",
          "text": [
            "Early stopping, best iteration is:\n",
            "[81]\ttrain's binary_logloss: 0.0293351\teval's binary_logloss: 0.0323523\n",
            "Training until validation scores don't improve for 100 rounds\n",
            "[100]\ttrain's binary_logloss: 0.0281199\teval's binary_logloss: 0.0331357\n",
            "Early stopping, best iteration is:\n",
            "[63]\ttrain's binary_logloss: 0.0302272\teval's binary_logloss: 0.0326558\n"
          ]
        },
        {
          "output_type": "stream",
          "name": "stderr",
          "text": [
            "regularization_factors, val_score: 0.032352:  45%|####5     | 9/20 [00:06<00:07,  1.52it/s]\u001b[32m[I 2021-09-02 12:18:04,952]\u001b[0m Trial 51 finished with value: 0.03265575518395441 and parameters: {'lambda_l1': 0.028335240129336272, 'lambda_l2': 6.642346400685355e-06}. Best is trial 48 with value: 0.03235225729312644.\u001b[0m\n",
            "regularization_factors, val_score: 0.032352:  45%|####5     | 9/20 [00:06<00:07,  1.52it/s]"
          ]
        },
        {
          "output_type": "stream",
          "name": "stdout",
          "text": [
            "Training until validation scores don't improve for 100 rounds\n",
            "[100]\ttrain's binary_logloss: 0.0285468\teval's binary_logloss: 0.0325824\n"
          ]
        },
        {
          "output_type": "stream",
          "name": "stderr",
          "text": [
            "regularization_factors, val_score: 0.032352:  50%|#####     | 10/20 [00:06<00:06,  1.50it/s]\u001b[32m[I 2021-09-02 12:18:05,634]\u001b[0m Trial 52 finished with value: 0.03235362566205787 and parameters: {'lambda_l1': 1.5709031481604437e-08, 'lambda_l2': 0.00014539387856192239}. Best is trial 48 with value: 0.03235225729312644.\u001b[0m\n",
            "regularization_factors, val_score: 0.032352:  50%|#####     | 10/20 [00:06<00:06,  1.50it/s]"
          ]
        },
        {
          "output_type": "stream",
          "name": "stdout",
          "text": [
            "Early stopping, best iteration is:\n",
            "[81]\ttrain's binary_logloss: 0.0293359\teval's binary_logloss: 0.0323536\n",
            "Training until validation scores don't improve for 100 rounds\n",
            "[100]\ttrain's binary_logloss: 0.0285462\teval's binary_logloss: 0.0325814\n"
          ]
        },
        {
          "output_type": "stream",
          "name": "stderr",
          "text": [
            "regularization_factors, val_score: 0.032352:  55%|#####5    | 11/20 [00:07<00:06,  1.49it/s]\u001b[32m[I 2021-09-02 12:18:06,331]\u001b[0m Trial 53 finished with value: 0.03235225391261753 and parameters: {'lambda_l1': 4.3930541032193785e-05, 'lambda_l2': 1.5152316966752548e-08}. Best is trial 53 with value: 0.03235225391261753.\u001b[0m\n",
            "regularization_factors, val_score: 0.032352:  55%|#####5    | 11/20 [00:07<00:06,  1.49it/s]"
          ]
        },
        {
          "output_type": "stream",
          "name": "stdout",
          "text": [
            "Early stopping, best iteration is:\n",
            "[81]\ttrain's binary_logloss: 0.0293351\teval's binary_logloss: 0.0323523\n",
            "Training until validation scores don't improve for 100 rounds\n",
            "[100]\ttrain's binary_logloss: 0.0285462\teval's binary_logloss: 0.0325827\n"
          ]
        },
        {
          "output_type": "stream",
          "name": "stderr",
          "text": [
            "regularization_factors, val_score: 0.032352:  60%|######    | 12/20 [00:08<00:05,  1.46it/s]\u001b[32m[I 2021-09-02 12:18:07,032]\u001b[0m Trial 54 finished with value: 0.03235408452135284 and parameters: {'lambda_l1': 8.305419610909996e-05, 'lambda_l2': 1.0229583799027551e-08}. Best is trial 53 with value: 0.03235225391261753.\u001b[0m\n",
            "regularization_factors, val_score: 0.032352:  60%|######    | 12/20 [00:08<00:05,  1.46it/s]"
          ]
        },
        {
          "output_type": "stream",
          "name": "stdout",
          "text": [
            "Early stopping, best iteration is:\n",
            "[81]\ttrain's binary_logloss: 0.0293351\teval's binary_logloss: 0.0323541\n",
            "Training until validation scores don't improve for 100 rounds\n",
            "[100]\ttrain's binary_logloss: 0.0285461\teval's binary_logloss: 0.0325814\n"
          ]
        },
        {
          "output_type": "stream",
          "name": "stderr",
          "text": [
            "regularization_factors, val_score: 0.032352:  65%|######5   | 13/20 [00:08<00:04,  1.45it/s]\u001b[32m[I 2021-09-02 12:18:07,734]\u001b[0m Trial 55 finished with value: 0.03235225640091287 and parameters: {'lambda_l1': 1.2924757288723892e-08, 'lambda_l2': 4.924011598360044e-07}. Best is trial 53 with value: 0.03235225391261753.\u001b[0m\n",
            "regularization_factors, val_score: 0.032352:  65%|######5   | 13/20 [00:08<00:04,  1.45it/s]"
          ]
        },
        {
          "output_type": "stream",
          "name": "stdout",
          "text": [
            "Early stopping, best iteration is:\n",
            "[81]\ttrain's binary_logloss: 0.0293351\teval's binary_logloss: 0.0323523\n",
            "Training until validation scores don't improve for 100 rounds\n",
            "[100]\ttrain's binary_logloss: 0.0285462\teval's binary_logloss: 0.0325814\n"
          ]
        },
        {
          "output_type": "stream",
          "name": "stderr",
          "text": [
            "regularization_factors, val_score: 0.032352:  70%|#######   | 14/20 [00:09<00:04,  1.45it/s]\u001b[32m[I 2021-09-02 12:18:08,421]\u001b[0m Trial 56 finished with value: 0.03235225255429249 and parameters: {'lambda_l1': 3.430677096658924e-05, 'lambda_l2': 7.913529986071349e-07}. Best is trial 56 with value: 0.03235225255429249.\u001b[0m\n",
            "regularization_factors, val_score: 0.032352:  70%|#######   | 14/20 [00:09<00:04,  1.45it/s]"
          ]
        },
        {
          "output_type": "stream",
          "name": "stdout",
          "text": [
            "Early stopping, best iteration is:\n",
            "[81]\ttrain's binary_logloss: 0.0293351\teval's binary_logloss: 0.0323523\n",
            "Training until validation scores don't improve for 100 rounds\n",
            "[100]\ttrain's binary_logloss: 0.0285462\teval's binary_logloss: 0.0325814\n"
          ]
        },
        {
          "output_type": "stream",
          "name": "stderr",
          "text": [
            "regularization_factors, val_score: 0.032352:  75%|#######5  | 15/20 [00:10<00:03,  1.44it/s]\u001b[32m[I 2021-09-02 12:18:09,125]\u001b[0m Trial 57 finished with value: 0.03235225094358061 and parameters: {'lambda_l1': 5.727480603622893e-05, 'lambda_l2': 4.917276068817627e-07}. Best is trial 57 with value: 0.03235225094358061.\u001b[0m\n",
            "regularization_factors, val_score: 0.032352:  75%|#######5  | 15/20 [00:10<00:03,  1.44it/s]"
          ]
        },
        {
          "output_type": "stream",
          "name": "stdout",
          "text": [
            "Early stopping, best iteration is:\n",
            "[81]\ttrain's binary_logloss: 0.0293351\teval's binary_logloss: 0.0323523\n",
            "Training until validation scores don't improve for 100 rounds\n",
            "[100]\ttrain's binary_logloss: 0.0285465\teval's binary_logloss: 0.0325813\n"
          ]
        },
        {
          "output_type": "stream",
          "name": "stderr",
          "text": [
            "regularization_factors, val_score: 0.032352:  80%|########  | 16/20 [00:10<00:02,  1.44it/s]\u001b[32m[I 2021-09-02 12:18:09,822]\u001b[0m Trial 58 finished with value: 0.032352221872456906 and parameters: {'lambda_l1': 0.0004130155495585269, 'lambda_l2': 7.781362366653215e-07}. Best is trial 58 with value: 0.032352221872456906.\u001b[0m\n",
            "regularization_factors, val_score: 0.032352:  80%|########  | 16/20 [00:10<00:02,  1.44it/s]"
          ]
        },
        {
          "output_type": "stream",
          "name": "stdout",
          "text": [
            "Early stopping, best iteration is:\n",
            "[81]\ttrain's binary_logloss: 0.0293354\teval's binary_logloss: 0.0323522\n",
            "Training until validation scores don't improve for 100 rounds\n",
            "[100]\ttrain's binary_logloss: 0.0307427\teval's binary_logloss: 0.0333344\n",
            "Early stopping, best iteration is:\n",
            "[64]\ttrain's binary_logloss: 0.0316714\teval's binary_logloss: 0.03308\n"
          ]
        },
        {
          "output_type": "stream",
          "name": "stderr",
          "text": [
            "regularization_factors, val_score: 0.032352:  85%|########5 | 17/20 [00:11<00:02,  1.48it/s]\u001b[32m[I 2021-09-02 12:18:10,454]\u001b[0m Trial 59 finished with value: 0.033080040809728574 and parameters: {'lambda_l1': 0.0014957159726754355, 'lambda_l2': 6.04199123403703}. Best is trial 58 with value: 0.032352221872456906.\u001b[0m\n",
            "regularization_factors, val_score: 0.032352:  85%|########5 | 17/20 [00:11<00:02,  1.48it/s]"
          ]
        },
        {
          "output_type": "stream",
          "name": "stdout",
          "text": [
            "Training until validation scores don't improve for 100 rounds\n",
            "[100]\ttrain's binary_logloss: 0.0285469\teval's binary_logloss: 0.0325826\n"
          ]
        },
        {
          "output_type": "stream",
          "name": "stderr",
          "text": [
            "regularization_factors, val_score: 0.032352:  90%|######### | 18/20 [00:12<00:01,  1.48it/s]\u001b[32m[I 2021-09-02 12:18:11,144]\u001b[0m Trial 60 finished with value: 0.03235399709634157 and parameters: {'lambda_l1': 0.0009203612788866998, 'lambda_l2': 5.428038029906476e-06}. Best is trial 58 with value: 0.032352221872456906.\u001b[0m\n",
            "regularization_factors, val_score: 0.032352:  90%|######### | 18/20 [00:12<00:01,  1.48it/s]"
          ]
        },
        {
          "output_type": "stream",
          "name": "stdout",
          "text": [
            "Early stopping, best iteration is:\n",
            "[81]\ttrain's binary_logloss: 0.0293358\teval's binary_logloss: 0.032354\n",
            "Training until validation scores don't improve for 100 rounds\n",
            "[100]\ttrain's binary_logloss: 0.0281057\teval's binary_logloss: 0.0329276\n",
            "Early stopping, best iteration is:\n",
            "[69]\ttrain's binary_logloss: 0.0297685\teval's binary_logloss: 0.0326588\n"
          ]
        },
        {
          "output_type": "stream",
          "name": "stderr",
          "text": [
            "regularization_factors, val_score: 0.032352:  95%|#########5| 19/20 [00:12<00:00,  1.48it/s]\u001b[32m[I 2021-09-02 12:18:11,805]\u001b[0m Trial 61 finished with value: 0.03265877870845017 and parameters: {'lambda_l1': 0.03333013656753815, 'lambda_l2': 0.00042852164603686686}. Best is trial 58 with value: 0.032352221872456906.\u001b[0m\n",
            "regularization_factors, val_score: 0.032352:  95%|#########5| 19/20 [00:12<00:00,  1.48it/s]"
          ]
        },
        {
          "output_type": "stream",
          "name": "stdout",
          "text": [
            "Training until validation scores don't improve for 100 rounds\n",
            "[100]\ttrain's binary_logloss: 0.0285471\teval's binary_logloss: 0.0325822\n"
          ]
        },
        {
          "output_type": "stream",
          "name": "stderr",
          "text": [
            "regularization_factors, val_score: 0.032352: 100%|##########| 20/20 [00:13<00:00,  1.48it/s]\u001b[32m[I 2021-09-02 12:18:12,483]\u001b[0m Trial 62 finished with value: 0.03235345213061214 and parameters: {'lambda_l1': 3.7457270504887444e-06, 'lambda_l2': 0.00019903365196683207}. Best is trial 58 with value: 0.032352221872456906.\u001b[0m\n",
            "regularization_factors, val_score: 0.032352: 100%|##########| 20/20 [00:13<00:00,  1.47it/s]\n"
          ]
        },
        {
          "output_type": "stream",
          "name": "stdout",
          "text": [
            "Early stopping, best iteration is:\n",
            "[81]\ttrain's binary_logloss: 0.0293362\teval's binary_logloss: 0.0323535\n"
          ]
        },
        {
          "output_type": "stream",
          "name": "stderr",
          "text": [
            "min_data_in_leaf, val_score: 0.032352:   0%|          | 0/5 [00:00<?, ?it/s]"
          ]
        },
        {
          "output_type": "stream",
          "name": "stdout",
          "text": [
            "Training until validation scores don't improve for 100 rounds\n",
            "[100]\ttrain's binary_logloss: 0.0281467\teval's binary_logloss: 0.0327424\n"
          ]
        },
        {
          "output_type": "stream",
          "name": "stderr",
          "text": [
            "min_data_in_leaf, val_score: 0.032352:  20%|##        | 1/5 [00:00<00:02,  1.47it/s]\u001b[32m[I 2021-09-02 12:18:13,188]\u001b[0m Trial 63 finished with value: 0.03250820771823229 and parameters: {'min_child_samples': 25}. Best is trial 63 with value: 0.03250820771823229.\u001b[0m\n",
            "min_data_in_leaf, val_score: 0.032352:  20%|##        | 1/5 [00:00<00:02,  1.47it/s]"
          ]
        },
        {
          "output_type": "stream",
          "name": "stdout",
          "text": [
            "Early stopping, best iteration is:\n",
            "[81]\ttrain's binary_logloss: 0.029099\teval's binary_logloss: 0.0325082\n",
            "Training until validation scores don't improve for 100 rounds\n",
            "[100]\ttrain's binary_logloss: 0.0291675\teval's binary_logloss: 0.0331309\n",
            "Early stopping, best iteration is:\n",
            "[63]\ttrain's binary_logloss: 0.0310617\teval's binary_logloss: 0.0327373\n"
          ]
        },
        {
          "output_type": "stream",
          "name": "stderr",
          "text": [
            "min_data_in_leaf, val_score: 0.032352:  40%|####      | 2/5 [00:01<00:01,  1.55it/s]\u001b[32m[I 2021-09-02 12:18:13,811]\u001b[0m Trial 64 finished with value: 0.03273726583644265 and parameters: {'min_child_samples': 100}. Best is trial 63 with value: 0.03250820771823229.\u001b[0m\n",
            "min_data_in_leaf, val_score: 0.032352:  40%|####      | 2/5 [00:01<00:01,  1.55it/s]"
          ]
        },
        {
          "output_type": "stream",
          "name": "stdout",
          "text": [
            "Training until validation scores don't improve for 100 rounds\n",
            "[100]\ttrain's binary_logloss: 0.0285113\teval's binary_logloss: 0.0329942\n"
          ]
        },
        {
          "output_type": "stream",
          "name": "stderr",
          "text": [
            "min_data_in_leaf, val_score: 0.032352:  60%|######    | 3/5 [00:01<00:01,  1.50it/s]\u001b[32m[I 2021-09-02 12:18:14,491]\u001b[0m Trial 65 finished with value: 0.032671212584532594 and parameters: {'min_child_samples': 50}. Best is trial 63 with value: 0.03250820771823229.\u001b[0m\n",
            "min_data_in_leaf, val_score: 0.032352:  60%|######    | 3/5 [00:01<00:01,  1.50it/s]"
          ]
        },
        {
          "output_type": "stream",
          "name": "stdout",
          "text": [
            "Early stopping, best iteration is:\n",
            "[80]\ttrain's binary_logloss: 0.0295395\teval's binary_logloss: 0.0326712\n",
            "Training until validation scores don't improve for 100 rounds\n",
            "[100]\ttrain's binary_logloss: 0.0275993\teval's binary_logloss: 0.0329604\n",
            "Early stopping, best iteration is:\n",
            "[65]\ttrain's binary_logloss: 0.0294855\teval's binary_logloss: 0.0325394\n"
          ]
        },
        {
          "output_type": "stream",
          "name": "stderr",
          "text": [
            "min_data_in_leaf, val_score: 0.032352:  80%|########  | 4/5 [00:02<00:00,  1.54it/s]\u001b[32m[I 2021-09-02 12:18:15,109]\u001b[0m Trial 66 finished with value: 0.032539421052824986 and parameters: {'min_child_samples': 5}. Best is trial 63 with value: 0.03250820771823229.\u001b[0m\n",
            "min_data_in_leaf, val_score: 0.032352:  80%|########  | 4/5 [00:02<00:00,  1.54it/s]"
          ]
        },
        {
          "output_type": "stream",
          "name": "stdout",
          "text": [
            "Training until validation scores don't improve for 100 rounds\n",
            "[100]\ttrain's binary_logloss: 0.0276381\teval's binary_logloss: 0.0327961\n",
            "Early stopping, best iteration is:\n",
            "[69]\ttrain's binary_logloss: 0.0292138\teval's binary_logloss: 0.0323767\n"
          ]
        },
        {
          "output_type": "stream",
          "name": "stderr",
          "text": [
            "min_data_in_leaf, val_score: 0.032352: 100%|##########| 5/5 [00:03<00:00,  1.56it/s]\u001b[32m[I 2021-09-02 12:18:15,748]\u001b[0m Trial 67 finished with value: 0.03237668670202904 and parameters: {'min_child_samples': 10}. Best is trial 67 with value: 0.03237668670202904.\u001b[0m\n",
            "min_data_in_leaf, val_score: 0.032352: 100%|##########| 5/5 [00:03<00:00,  1.54it/s]\n",
            "Best Params 3 - {'objective': 'binary', 'metric': 'binary_logloss', 'device_type': 'gpu', 'seed': 443, 'verbosity': -1, 'feature_pre_filter': False, 'lambda_l1': 0.0004130155495585269, 'lambda_l2': 7.781362366653215e-07, 'num_leaves': 4, 'feature_fraction': 0.7200000000000001, 'bagging_fraction': 0.809189181330457, 'bagging_freq': 3, 'min_child_samples': 20, 'num_iterations': 10000, 'early_stopping_round': 100}\n",
            "Result 3 - Score: 0.9273335360291882, time: 63s\n",
            "Result 3 - Save Best Model\n",
            "========== fold: 3 result ==========\n",
            "Score: 0.92733\n",
            "========== fold: 4 training ==========\n",
            "\u001b[32m[I 2021-09-02 12:18:15,830]\u001b[0m A new study created in memory with name: no-name-737a6be4-68e8-4c14-9b38-763b4084c2ce\u001b[0m\n",
            "feature_fraction, val_score: inf:   0%|          | 0/7 [00:00<?, ?it/s]"
          ]
        },
        {
          "output_type": "stream",
          "name": "stdout",
          "text": [
            "Training until validation scores don't improve for 100 rounds\n"
          ]
        },
        {
          "output_type": "stream",
          "name": "stderr",
          "text": [
            "feature_fraction, val_score: 0.037321:  14%|#4        | 1/7 [00:00<00:04,  1.49it/s]\u001b[32m[I 2021-09-02 12:18:16,511]\u001b[0m Trial 0 finished with value: 0.03732141213941874 and parameters: {'feature_fraction': 0.6}. Best is trial 0 with value: 0.03732141213941874.\u001b[0m\n",
            "feature_fraction, val_score: 0.037321:  14%|#4        | 1/7 [00:00<00:04,  1.49it/s]"
          ]
        },
        {
          "output_type": "stream",
          "name": "stdout",
          "text": [
            "[100]\ttrain's binary_logloss: 0.010831\teval's binary_logloss: 0.0437806\n",
            "Early stopping, best iteration is:\n",
            "[32]\ttrain's binary_logloss: 0.0196635\teval's binary_logloss: 0.0373214\n",
            "Training until validation scores don't improve for 100 rounds\n"
          ]
        },
        {
          "output_type": "stream",
          "name": "stderr",
          "text": [
            "feature_fraction, val_score: 0.037321:  29%|##8       | 2/7 [00:01<00:03,  1.46it/s]\u001b[32m[I 2021-09-02 12:18:17,218]\u001b[0m Trial 1 finished with value: 0.037817819380056246 and parameters: {'feature_fraction': 0.7}. Best is trial 0 with value: 0.03732141213941874.\u001b[0m\n",
            "feature_fraction, val_score: 0.037321:  29%|##8       | 2/7 [00:01<00:03,  1.46it/s]"
          ]
        },
        {
          "output_type": "stream",
          "name": "stdout",
          "text": [
            "[100]\ttrain's binary_logloss: 0.0104263\teval's binary_logloss: 0.0436948\n",
            "Early stopping, best iteration is:\n",
            "[35]\ttrain's binary_logloss: 0.0187537\teval's binary_logloss: 0.0378178\n",
            "Training until validation scores don't improve for 100 rounds\n"
          ]
        },
        {
          "output_type": "stream",
          "name": "stderr",
          "text": [
            "feature_fraction, val_score: 0.036735:  43%|####2     | 3/7 [00:02<00:02,  1.47it/s]\u001b[32m[I 2021-09-02 12:18:17,880]\u001b[0m Trial 2 finished with value: 0.03673542460545982 and parameters: {'feature_fraction': 0.4}. Best is trial 2 with value: 0.03673542460545982.\u001b[0m\n",
            "feature_fraction, val_score: 0.036735:  43%|####2     | 3/7 [00:02<00:02,  1.47it/s]"
          ]
        },
        {
          "output_type": "stream",
          "name": "stdout",
          "text": [
            "[100]\ttrain's binary_logloss: 0.0119595\teval's binary_logloss: 0.0412697\n",
            "Early stopping, best iteration is:\n",
            "[33]\ttrain's binary_logloss: 0.0204425\teval's binary_logloss: 0.0367354\n",
            "Training until validation scores don't improve for 100 rounds\n"
          ]
        },
        {
          "output_type": "stream",
          "name": "stderr",
          "text": [
            "feature_fraction, val_score: 0.036735:  57%|#####7    | 4/7 [00:02<00:02,  1.46it/s]\u001b[32m[I 2021-09-02 12:18:18,565]\u001b[0m Trial 3 finished with value: 0.038591142808307465 and parameters: {'feature_fraction': 0.8999999999999999}. Best is trial 2 with value: 0.03673542460545982.\u001b[0m\n",
            "feature_fraction, val_score: 0.036735:  57%|#####7    | 4/7 [00:02<00:02,  1.46it/s]"
          ]
        },
        {
          "output_type": "stream",
          "name": "stdout",
          "text": [
            "[100]\ttrain's binary_logloss: 0.00967197\teval's binary_logloss: 0.0445589\n",
            "Early stopping, best iteration is:\n",
            "[31]\ttrain's binary_logloss: 0.0188017\teval's binary_logloss: 0.0385911\n",
            "Training until validation scores don't improve for 100 rounds\n"
          ]
        },
        {
          "output_type": "stream",
          "name": "stderr",
          "text": [
            "feature_fraction, val_score: 0.036735:  71%|#######1  | 5/7 [00:03<00:01,  1.46it/s]\u001b[32m[I 2021-09-02 12:18:19,253]\u001b[0m Trial 4 finished with value: 0.03755470416011251 and parameters: {'feature_fraction': 0.8}. Best is trial 2 with value: 0.03673542460545982.\u001b[0m\n",
            "feature_fraction, val_score: 0.036735:  71%|#######1  | 5/7 [00:03<00:01,  1.46it/s]"
          ]
        },
        {
          "output_type": "stream",
          "name": "stdout",
          "text": [
            "[100]\ttrain's binary_logloss: 0.0101352\teval's binary_logloss: 0.0431962\n",
            "Early stopping, best iteration is:\n",
            "[31]\ttrain's binary_logloss: 0.0198069\teval's binary_logloss: 0.0375547\n",
            "Training until validation scores don't improve for 100 rounds\n"
          ]
        },
        {
          "output_type": "stream",
          "name": "stderr",
          "text": [
            "feature_fraction, val_score: 0.036735:  86%|########5 | 6/7 [00:04<00:00,  1.49it/s]\u001b[32m[I 2021-09-02 12:18:19,903]\u001b[0m Trial 5 finished with value: 0.03884844723256557 and parameters: {'feature_fraction': 1.0}. Best is trial 2 with value: 0.03673542460545982.\u001b[0m\n",
            "feature_fraction, val_score: 0.036735:  86%|########5 | 6/7 [00:04<00:00,  1.49it/s]"
          ]
        },
        {
          "output_type": "stream",
          "name": "stdout",
          "text": [
            "[100]\ttrain's binary_logloss: 0.00924782\teval's binary_logloss: 0.044159\n",
            "Early stopping, best iteration is:\n",
            "[32]\ttrain's binary_logloss: 0.0181182\teval's binary_logloss: 0.0388484\n",
            "Training until validation scores don't improve for 100 rounds\n"
          ]
        },
        {
          "output_type": "stream",
          "name": "stderr",
          "text": [
            "feature_fraction, val_score: 0.036735: 100%|##########| 7/7 [00:04<00:00,  1.49it/s]\u001b[32m[I 2021-09-02 12:18:20,582]\u001b[0m Trial 6 finished with value: 0.03732141309648215 and parameters: {'feature_fraction': 0.5}. Best is trial 2 with value: 0.03673542460545982.\u001b[0m\n",
            "feature_fraction, val_score: 0.036735: 100%|##########| 7/7 [00:04<00:00,  1.47it/s]\n"
          ]
        },
        {
          "output_type": "stream",
          "name": "stdout",
          "text": [
            "[100]\ttrain's binary_logloss: 0.010831\teval's binary_logloss: 0.0437806\n",
            "Early stopping, best iteration is:\n",
            "[32]\ttrain's binary_logloss: 0.0196635\teval's binary_logloss: 0.0373214\n"
          ]
        },
        {
          "output_type": "stream",
          "name": "stderr",
          "text": [
            "num_leaves, val_score: 0.036735:   0%|          | 0/20 [00:00<?, ?it/s]"
          ]
        },
        {
          "output_type": "stream",
          "name": "stdout",
          "text": [
            "Training until validation scores don't improve for 100 rounds\n"
          ]
        },
        {
          "output_type": "stream",
          "name": "stderr",
          "text": [
            "num_leaves, val_score: 0.035834:   5%|5         | 1/20 [00:00<00:10,  1.89it/s]\u001b[32m[I 2021-09-02 12:18:21,122]\u001b[0m Trial 7 finished with value: 0.03583369081969488 and parameters: {'num_leaves': 16}. Best is trial 7 with value: 0.03583369081969488.\u001b[0m\n",
            "num_leaves, val_score: 0.035834:   5%|5         | 1/20 [00:00<00:10,  1.89it/s]"
          ]
        },
        {
          "output_type": "stream",
          "name": "stdout",
          "text": [
            "[100]\ttrain's binary_logloss: 0.0180637\teval's binary_logloss: 0.0381144\n",
            "Early stopping, best iteration is:\n",
            "[41]\ttrain's binary_logloss: 0.023511\teval's binary_logloss: 0.0358337\n",
            "Training until validation scores don't improve for 100 rounds\n",
            "[100]\ttrain's binary_logloss: 0.00606965\teval's binary_logloss: 0.0536779\n"
          ]
        },
        {
          "output_type": "stream",
          "name": "stderr",
          "text": [
            "num_leaves, val_score: 0.035834:  10%|#         | 2/20 [00:01<00:16,  1.08it/s]\u001b[32m[I 2021-09-02 12:18:22,332]\u001b[0m Trial 8 finished with value: 0.03880633802401912 and parameters: {'num_leaves': 86}. Best is trial 7 with value: 0.03583369081969488.\u001b[0m\n",
            "num_leaves, val_score: 0.035834:  10%|#         | 2/20 [00:01<00:16,  1.08it/s]"
          ]
        },
        {
          "output_type": "stream",
          "name": "stdout",
          "text": [
            "Early stopping, best iteration is:\n",
            "[26]\ttrain's binary_logloss: 0.0174991\teval's binary_logloss: 0.0388063\n",
            "Training until validation scores don't improve for 100 rounds\n",
            "[100]\ttrain's binary_logloss: 0.00595114\teval's binary_logloss: 0.0524538\n"
          ]
        },
        {
          "output_type": "stream",
          "name": "stderr",
          "text": [
            "num_leaves, val_score: 0.035834:  15%|#5        | 3/20 [00:03<00:21,  1.26s/it]\u001b[32m[I 2021-09-02 12:18:23,985]\u001b[0m Trial 9 finished with value: 0.03854744033750558 and parameters: {'num_leaves': 133}. Best is trial 7 with value: 0.03583369081969488.\u001b[0m\n",
            "num_leaves, val_score: 0.035834:  15%|#5        | 3/20 [00:03<00:21,  1.26s/it]"
          ]
        },
        {
          "output_type": "stream",
          "name": "stdout",
          "text": [
            "Early stopping, best iteration is:\n",
            "[26]\ttrain's binary_logloss: 0.0173876\teval's binary_logloss: 0.0385474\n",
            "Training until validation scores don't improve for 100 rounds\n",
            "[100]\ttrain's binary_logloss: 0.00607904\teval's binary_logloss: 0.0527453\n"
          ]
        },
        {
          "output_type": "stream",
          "name": "stderr",
          "text": [
            "num_leaves, val_score: 0.035834:  20%|##        | 4/20 [00:05<00:23,  1.46s/it]\u001b[32m[I 2021-09-02 12:18:25,752]\u001b[0m Trial 10 finished with value: 0.0386840984267543 and parameters: {'num_leaves': 147}. Best is trial 7 with value: 0.03583369081969488.\u001b[0m\n",
            "num_leaves, val_score: 0.035834:  20%|##        | 4/20 [00:05<00:23,  1.46s/it]"
          ]
        },
        {
          "output_type": "stream",
          "name": "stdout",
          "text": [
            "Early stopping, best iteration is:\n",
            "[28]\ttrain's binary_logloss: 0.0164249\teval's binary_logloss: 0.0386841\n",
            "Training until validation scores don't improve for 100 rounds\n",
            "[100]\ttrain's binary_logloss: 0.00600038\teval's binary_logloss: 0.0532707\n"
          ]
        },
        {
          "output_type": "stream",
          "name": "stderr",
          "text": [
            "num_leaves, val_score: 0.035834:  25%|##5       | 5/20 [00:07<00:28,  1.87s/it]\u001b[32m[I 2021-09-02 12:18:28,349]\u001b[0m Trial 11 finished with value: 0.038547988475092124 and parameters: {'num_leaves': 248}. Best is trial 7 with value: 0.03583369081969488.\u001b[0m\n",
            "num_leaves, val_score: 0.035834:  25%|##5       | 5/20 [00:07<00:28,  1.87s/it]"
          ]
        },
        {
          "output_type": "stream",
          "name": "stdout",
          "text": [
            "Early stopping, best iteration is:\n",
            "[26]\ttrain's binary_logloss: 0.0173875\teval's binary_logloss: 0.038548\n",
            "Training until validation scores don't improve for 100 rounds\n",
            "[100]\ttrain's binary_logloss: 0.00595115\teval's binary_logloss: 0.0524933\n"
          ]
        },
        {
          "output_type": "stream",
          "name": "stderr",
          "text": [
            "num_leaves, val_score: 0.035834:  30%|###       | 6/20 [00:09<00:24,  1.76s/it]\u001b[32m[I 2021-09-02 12:18:29,885]\u001b[0m Trial 12 finished with value: 0.03854766158139254 and parameters: {'num_leaves': 120}. Best is trial 7 with value: 0.03583369081969488.\u001b[0m\n",
            "num_leaves, val_score: 0.035834:  30%|###       | 6/20 [00:09<00:24,  1.76s/it]"
          ]
        },
        {
          "output_type": "stream",
          "name": "stdout",
          "text": [
            "Early stopping, best iteration is:\n",
            "[26]\ttrain's binary_logloss: 0.0173877\teval's binary_logloss: 0.0385477\n",
            "Training until validation scores don't improve for 100 rounds\n"
          ]
        },
        {
          "output_type": "stream",
          "name": "stderr",
          "text": [
            "num_leaves, val_score: 0.035834:  35%|###5      | 7/20 [00:09<00:17,  1.33s/it]\u001b[32m[I 2021-09-02 12:18:30,341]\u001b[0m Trial 13 finished with value: 0.036188357691986674 and parameters: {'num_leaves': 11}. Best is trial 7 with value: 0.03583369081969488.\u001b[0m\n",
            "num_leaves, val_score: 0.035834:  35%|###5      | 7/20 [00:09<00:17,  1.33s/it]"
          ]
        },
        {
          "output_type": "stream",
          "name": "stdout",
          "text": [
            "[100]\ttrain's binary_logloss: 0.0210958\teval's binary_logloss: 0.0372614\n",
            "Early stopping, best iteration is:\n",
            "[38]\ttrain's binary_logloss: 0.0263457\teval's binary_logloss: 0.0361884\n",
            "Training until validation scores don't improve for 100 rounds\n",
            "[100]\ttrain's binary_logloss: 0.00607905\teval's binary_logloss: 0.0527546\n"
          ]
        },
        {
          "output_type": "stream",
          "name": "stderr",
          "text": [
            "num_leaves, val_score: 0.035834:  40%|####      | 8/20 [00:11<00:18,  1.52s/it]\u001b[32m[I 2021-09-02 12:18:32,275]\u001b[0m Trial 14 finished with value: 0.03867799280871239 and parameters: {'num_leaves': 163}. Best is trial 7 with value: 0.03583369081969488.\u001b[0m\n",
            "num_leaves, val_score: 0.035834:  40%|####      | 8/20 [00:11<00:18,  1.52s/it]"
          ]
        },
        {
          "output_type": "stream",
          "name": "stdout",
          "text": [
            "Early stopping, best iteration is:\n",
            "[28]\ttrain's binary_logloss: 0.0164249\teval's binary_logloss: 0.038678\n",
            "Training until validation scores don't improve for 100 rounds\n",
            "[100]\ttrain's binary_logloss: 0.00609237\teval's binary_logloss: 0.0530229\n"
          ]
        },
        {
          "output_type": "stream",
          "name": "stderr",
          "text": [
            "num_leaves, val_score: 0.035834:  45%|####5     | 9/20 [00:13<00:19,  1.76s/it]\u001b[32m[I 2021-09-02 12:18:34,550]\u001b[0m Trial 15 finished with value: 0.03886505021411968 and parameters: {'num_leaves': 197}. Best is trial 7 with value: 0.03583369081969488.\u001b[0m\n",
            "num_leaves, val_score: 0.035834:  45%|####5     | 9/20 [00:13<00:19,  1.76s/it]"
          ]
        },
        {
          "output_type": "stream",
          "name": "stdout",
          "text": [
            "Early stopping, best iteration is:\n",
            "[25]\ttrain's binary_logloss: 0.0178011\teval's binary_logloss: 0.0388651\n",
            "Training until validation scores don't improve for 100 rounds\n",
            "[100]\ttrain's binary_logloss: 0.0069435\teval's binary_logloss: 0.0491531\n",
            "Early stopping, best iteration is:\n",
            "[25]\ttrain's binary_logloss: 0.0191875\teval's binary_logloss: 0.0388829\n"
          ]
        },
        {
          "output_type": "stream",
          "name": "stderr",
          "text": [
            "num_leaves, val_score: 0.035834:  50%|#####     | 10/20 [00:14<00:15,  1.50s/it]\u001b[32m[I 2021-09-02 12:18:35,490]\u001b[0m Trial 16 finished with value: 0.0388828776565389 and parameters: {'num_leaves': 60}. Best is trial 7 with value: 0.03583369081969488.\u001b[0m\n",
            "num_leaves, val_score: 0.035834:  50%|#####     | 10/20 [00:14<00:15,  1.50s/it]"
          ]
        },
        {
          "output_type": "stream",
          "name": "stdout",
          "text": [
            "Training until validation scores don't improve for 100 rounds\n"
          ]
        },
        {
          "output_type": "stream",
          "name": "stderr",
          "text": [
            "num_leaves, val_score: 0.035834:  55%|#####5    | 11/20 [00:15<00:10,  1.20s/it]\u001b[32m[I 2021-09-02 12:18:36,006]\u001b[0m Trial 17 finished with value: 0.03588868661821878 and parameters: {'num_leaves': 15}. Best is trial 7 with value: 0.03583369081969488.\u001b[0m\n",
            "num_leaves, val_score: 0.035834:  55%|#####5    | 11/20 [00:15<00:10,  1.20s/it]"
          ]
        },
        {
          "output_type": "stream",
          "name": "stdout",
          "text": [
            "[100]\ttrain's binary_logloss: 0.0185659\teval's binary_logloss: 0.0380559\n",
            "Early stopping, best iteration is:\n",
            "[44]\ttrain's binary_logloss: 0.0233747\teval's binary_logloss: 0.0358887\n",
            "Training until validation scores don't improve for 100 rounds\n",
            "[100]\ttrain's binary_logloss: 0.0336465\teval's binary_logloss: 0.035959\n",
            "[200]\ttrain's binary_logloss: 0.0320623\teval's binary_logloss: 0.0345501\n"
          ]
        },
        {
          "output_type": "stream",
          "name": "stderr",
          "text": [
            "num_leaves, val_score: 0.034490:  60%|######    | 12/20 [00:15<00:07,  1.02it/s]\u001b[32m[I 2021-09-02 12:18:36,483]\u001b[0m Trial 18 finished with value: 0.034490270306146514 and parameters: {'num_leaves': 2}. Best is trial 18 with value: 0.034490270306146514.\u001b[0m\n",
            "num_leaves, val_score: 0.034490:  60%|######    | 12/20 [00:15<00:07,  1.02it/s]"
          ]
        },
        {
          "output_type": "stream",
          "name": "stdout",
          "text": [
            "[300]\ttrain's binary_logloss: 0.031461\teval's binary_logloss: 0.0346066\n",
            "Early stopping, best iteration is:\n",
            "[227]\ttrain's binary_logloss: 0.0318633\teval's binary_logloss: 0.0344903\n",
            "Training until validation scores don't improve for 100 rounds\n"
          ]
        },
        {
          "output_type": "stream",
          "name": "stderr",
          "text": [
            "num_leaves, val_score: 0.034490:  65%|######5   | 13/20 [00:16<00:06,  1.06it/s]"
          ]
        },
        {
          "output_type": "stream",
          "name": "stdout",
          "text": [
            "[100]\ttrain's binary_logloss: 0.00828148\teval's binary_logloss: 0.047363\n",
            "Early stopping, best iteration is:\n",
            "[30]\ttrain's binary_logloss: 0.0184302\teval's binary_logloss: 0.0380873\n"
          ]
        },
        {
          "output_type": "stream",
          "name": "stderr",
          "text": [
            "\u001b[32m[I 2021-09-02 12:18:37,343]\u001b[0m Trial 19 finished with value: 0.03808726549709702 and parameters: {'num_leaves': 49}. Best is trial 18 with value: 0.034490270306146514.\u001b[0m\n",
            "num_leaves, val_score: 0.034490:  65%|######5   | 13/20 [00:16<00:06,  1.06it/s]"
          ]
        },
        {
          "output_type": "stream",
          "name": "stdout",
          "text": [
            "Training until validation scores don't improve for 100 rounds\n",
            "[100]\ttrain's binary_logloss: 0.0261386\teval's binary_logloss: 0.0370341\n",
            "Early stopping, best iteration is:\n",
            "[45]\ttrain's binary_logloss: 0.0295019\teval's binary_logloss: 0.0361015\n"
          ]
        },
        {
          "output_type": "stream",
          "name": "stderr",
          "text": [
            "num_leaves, val_score: 0.034490:  70%|#######   | 14/20 [00:17<00:04,  1.30it/s]\u001b[32m[I 2021-09-02 12:18:37,715]\u001b[0m Trial 20 finished with value: 0.03610149154025138 and parameters: {'num_leaves': 6}. Best is trial 18 with value: 0.034490270306146514.\u001b[0m\n",
            "num_leaves, val_score: 0.034490:  70%|#######   | 14/20 [00:17<00:04,  1.30it/s]"
          ]
        },
        {
          "output_type": "stream",
          "name": "stdout",
          "text": [
            "Training until validation scores don't improve for 100 rounds\n"
          ]
        },
        {
          "output_type": "stream",
          "name": "stderr",
          "text": [
            "num_leaves, val_score: 0.034490:  75%|#######5  | 15/20 [00:18<00:04,  1.24it/s]"
          ]
        },
        {
          "output_type": "stream",
          "name": "stdout",
          "text": [
            "[100]\ttrain's binary_logloss: 0.0072021\teval's binary_logloss: 0.0479011\n",
            "Early stopping, best iteration is:\n",
            "[26]\ttrain's binary_logloss: 0.0191736\teval's binary_logloss: 0.0383939\n"
          ]
        },
        {
          "output_type": "stream",
          "name": "stderr",
          "text": [
            "\u001b[32m[I 2021-09-02 12:18:38,595]\u001b[0m Trial 21 finished with value: 0.038393943516324636 and parameters: {'num_leaves': 55}. Best is trial 18 with value: 0.034490270306146514.\u001b[0m\n",
            "num_leaves, val_score: 0.034490:  75%|#######5  | 15/20 [00:18<00:04,  1.24it/s]"
          ]
        },
        {
          "output_type": "stream",
          "name": "stdout",
          "text": [
            "Training until validation scores don't improve for 100 rounds\n",
            "[100]\ttrain's binary_logloss: 0.00607619\teval's binary_logloss: 0.0513917\n"
          ]
        },
        {
          "output_type": "stream",
          "name": "stderr",
          "text": [
            "num_leaves, val_score: 0.034490:  80%|########  | 16/20 [00:19<00:03,  1.06it/s]\u001b[32m[I 2021-09-02 12:18:39,857]\u001b[0m Trial 22 finished with value: 0.03854114768751618 and parameters: {'num_leaves': 92}. Best is trial 18 with value: 0.034490270306146514.\u001b[0m\n",
            "num_leaves, val_score: 0.034490:  80%|########  | 16/20 [00:19<00:03,  1.06it/s]"
          ]
        },
        {
          "output_type": "stream",
          "name": "stdout",
          "text": [
            "Early stopping, best iteration is:\n",
            "[28]\ttrain's binary_logloss: 0.016462\teval's binary_logloss: 0.0385411\n",
            "Training until validation scores don't improve for 100 rounds\n"
          ]
        },
        {
          "output_type": "stream",
          "name": "stderr",
          "text": [
            "num_leaves, val_score: 0.034490:  85%|########5 | 17/20 [00:19<00:02,  1.15it/s]\u001b[32m[I 2021-09-02 12:18:40,555]\u001b[0m Trial 23 finished with value: 0.03651951566187529 and parameters: {'num_leaves': 30}. Best is trial 18 with value: 0.034490270306146514.\u001b[0m\n",
            "num_leaves, val_score: 0.034490:  85%|########5 | 17/20 [00:19<00:02,  1.15it/s]"
          ]
        },
        {
          "output_type": "stream",
          "name": "stdout",
          "text": [
            "[100]\ttrain's binary_logloss: 0.0121777\teval's binary_logloss: 0.0417017\n",
            "Early stopping, best iteration is:\n",
            "[34]\ttrain's binary_logloss: 0.0203514\teval's binary_logloss: 0.0365195\n",
            "Training until validation scores don't improve for 100 rounds\n",
            "[100]\ttrain's binary_logloss: 0.00606965\teval's binary_logloss: 0.0536781\n"
          ]
        },
        {
          "output_type": "stream",
          "name": "stderr",
          "text": [
            "num_leaves, val_score: 0.034490:  90%|######### | 18/20 [00:21<00:01,  1.03it/s]\u001b[32m[I 2021-09-02 12:18:41,750]\u001b[0m Trial 24 finished with value: 0.038806587446264404 and parameters: {'num_leaves': 86}. Best is trial 18 with value: 0.034490270306146514.\u001b[0m\n",
            "num_leaves, val_score: 0.034490:  90%|######### | 18/20 [00:21<00:01,  1.03it/s]"
          ]
        },
        {
          "output_type": "stream",
          "name": "stdout",
          "text": [
            "Early stopping, best iteration is:\n",
            "[26]\ttrain's binary_logloss: 0.0174991\teval's binary_logloss: 0.0388066\n",
            "Training until validation scores don't improve for 100 rounds\n"
          ]
        },
        {
          "output_type": "stream",
          "name": "stderr",
          "text": [
            "num_leaves, val_score: 0.034490:  95%|#########5| 19/20 [00:21<00:00,  1.10it/s]\u001b[32m[I 2021-09-02 12:18:42,527]\u001b[0m Trial 25 finished with value: 0.03671840017020475 and parameters: {'num_leaves': 40}. Best is trial 18 with value: 0.034490270306146514.\u001b[0m\n",
            "num_leaves, val_score: 0.034490:  95%|#########5| 19/20 [00:21<00:00,  1.10it/s]"
          ]
        },
        {
          "output_type": "stream",
          "name": "stdout",
          "text": [
            "[100]\ttrain's binary_logloss: 0.00986788\teval's binary_logloss: 0.044099\n",
            "Early stopping, best iteration is:\n",
            "[32]\ttrain's binary_logloss: 0.01911\teval's binary_logloss: 0.0367184\n",
            "Training until validation scores don't improve for 100 rounds\n",
            "[100]\ttrain's binary_logloss: 0.00600038\teval's binary_logloss: 0.0532712\n"
          ]
        },
        {
          "output_type": "stream",
          "name": "stderr",
          "text": [
            "num_leaves, val_score: 0.034490: 100%|##########| 20/20 [00:24<00:00,  1.32s/it]\u001b[32m[I 2021-09-02 12:18:44,802]\u001b[0m Trial 26 finished with value: 0.038547107734537046 and parameters: {'num_leaves': 202}. Best is trial 18 with value: 0.034490270306146514.\u001b[0m\n",
            "num_leaves, val_score: 0.034490: 100%|##########| 20/20 [00:24<00:00,  1.21s/it]\n"
          ]
        },
        {
          "output_type": "stream",
          "name": "stdout",
          "text": [
            "Early stopping, best iteration is:\n",
            "[26]\ttrain's binary_logloss: 0.0173875\teval's binary_logloss: 0.0385471\n"
          ]
        },
        {
          "output_type": "stream",
          "name": "stderr",
          "text": [
            "bagging, val_score: 0.034490:   0%|          | 0/10 [00:00<?, ?it/s]"
          ]
        },
        {
          "output_type": "stream",
          "name": "stdout",
          "text": [
            "Training until validation scores don't improve for 100 rounds\n",
            "[100]\ttrain's binary_logloss: 0.0329436\teval's binary_logloss: 0.0365409\n"
          ]
        },
        {
          "output_type": "stream",
          "name": "stderr",
          "text": [
            "bagging, val_score: 0.034490:  10%|#         | 1/10 [00:00<00:06,  1.38it/s]\u001b[32m[I 2021-09-02 12:18:45,540]\u001b[0m Trial 27 finished with value: 0.03553971654007149 and parameters: {'bagging_fraction': 0.5168895903642682, 'bagging_freq': 3}. Best is trial 27 with value: 0.03553971654007149.\u001b[0m\n",
            "bagging, val_score: 0.034490:  10%|#         | 1/10 [00:00<00:06,  1.38it/s]"
          ]
        },
        {
          "output_type": "stream",
          "name": "stdout",
          "text": [
            "[200]\ttrain's binary_logloss: 0.0318859\teval's binary_logloss: 0.0359878\n",
            "Early stopping, best iteration is:\n",
            "[135]\ttrain's binary_logloss: 0.032368\teval's binary_logloss: 0.0355397\n",
            "Training until validation scores don't improve for 100 rounds\n",
            "[100]\ttrain's binary_logloss: 0.0336516\teval's binary_logloss: 0.0363396\n",
            "[200]\ttrain's binary_logloss: 0.0320668\teval's binary_logloss: 0.0349291\n"
          ]
        },
        {
          "output_type": "stream",
          "name": "stderr",
          "text": [
            "bagging, val_score: 0.034490:  20%|##        | 2/10 [00:01<00:06,  1.23it/s]\u001b[32m[I 2021-09-02 12:18:46,410]\u001b[0m Trial 28 finished with value: 0.0348416397734227 and parameters: {'bagging_fraction': 0.955841751977461, 'bagging_freq': 4}. Best is trial 28 with value: 0.0348416397734227.\u001b[0m\n",
            "bagging, val_score: 0.034490:  20%|##        | 2/10 [00:01<00:06,  1.23it/s]"
          ]
        },
        {
          "output_type": "stream",
          "name": "stdout",
          "text": [
            "[300]\ttrain's binary_logloss: 0.0314267\teval's binary_logloss: 0.035019\n",
            "Early stopping, best iteration is:\n",
            "[221]\ttrain's binary_logloss: 0.0319033\teval's binary_logloss: 0.0348416\n",
            "Training until validation scores don't improve for 100 rounds\n",
            "[100]\ttrain's binary_logloss: 0.0334439\teval's binary_logloss: 0.0357783\n",
            "[200]\ttrain's binary_logloss: 0.0319771\teval's binary_logloss: 0.0346977\n"
          ]
        },
        {
          "output_type": "stream",
          "name": "stderr",
          "text": [
            "bagging, val_score: 0.034490:  30%|###       | 3/10 [00:02<00:06,  1.13it/s]\u001b[32m[I 2021-09-02 12:18:47,394]\u001b[0m Trial 29 finished with value: 0.0345723908127647 and parameters: {'bagging_fraction': 0.8585684013303332, 'bagging_freq': 3}. Best is trial 29 with value: 0.0345723908127647.\u001b[0m\n",
            "bagging, val_score: 0.034490:  30%|###       | 3/10 [00:02<00:06,  1.13it/s]"
          ]
        },
        {
          "output_type": "stream",
          "name": "stdout",
          "text": [
            "[300]\ttrain's binary_logloss: 0.0313196\teval's binary_logloss: 0.0349349\n",
            "Early stopping, best iteration is:\n",
            "[214]\ttrain's binary_logloss: 0.0318668\teval's binary_logloss: 0.0345724\n",
            "Training until validation scores don't improve for 100 rounds\n",
            "[100]\ttrain's binary_logloss: 0.0333422\teval's binary_logloss: 0.0356339\n",
            "[200]\ttrain's binary_logloss: 0.0320137\teval's binary_logloss: 0.0349311\n"
          ]
        },
        {
          "output_type": "stream",
          "name": "stderr",
          "text": [
            "bagging, val_score: 0.034490:  40%|####      | 4/10 [00:03<00:04,  1.42it/s]\u001b[32m[I 2021-09-02 12:18:47,829]\u001b[0m Trial 30 finished with value: 0.03474845796288777 and parameters: {'bagging_fraction': 0.6995217249292064, 'bagging_freq': 1}. Best is trial 29 with value: 0.0345723908127647.\u001b[0m\n",
            "bagging, val_score: 0.034490:  40%|####      | 4/10 [00:03<00:04,  1.42it/s]"
          ]
        },
        {
          "output_type": "stream",
          "name": "stdout",
          "text": [
            "Early stopping, best iteration is:\n",
            "[179]\ttrain's binary_logloss: 0.0321672\teval's binary_logloss: 0.0347485\n",
            "Training until validation scores don't improve for 100 rounds\n",
            "[100]\ttrain's binary_logloss: 0.0336355\teval's binary_logloss: 0.0357377\n",
            "[200]\ttrain's binary_logloss: 0.0320664\teval's binary_logloss: 0.0346226\n",
            "[300]\ttrain's binary_logloss: 0.0314178\teval's binary_logloss: 0.0346918\n",
            "Early stopping, best iteration is:\n",
            "[203]\ttrain's binary_logloss: 0.0320358\teval's binary_logloss: 0.0345536\n"
          ]
        },
        {
          "output_type": "stream",
          "name": "stderr",
          "text": [
            "bagging, val_score: 0.034490:  50%|#####     | 5/10 [00:03<00:03,  1.63it/s]\u001b[32m[I 2021-09-02 12:18:48,273]\u001b[0m Trial 31 finished with value: 0.03455359568496139 and parameters: {'bagging_fraction': 0.8882889819780784, 'bagging_freq': 1}. Best is trial 31 with value: 0.03455359568496139.\u001b[0m\n",
            "bagging, val_score: 0.034490:  50%|#####     | 5/10 [00:03<00:03,  1.63it/s]"
          ]
        },
        {
          "output_type": "stream",
          "name": "stdout",
          "text": [
            "Training until validation scores don't improve for 100 rounds\n",
            "[100]\ttrain's binary_logloss: 0.0335173\teval's binary_logloss: 0.0355785\n",
            "[200]\ttrain's binary_logloss: 0.0321919\teval's binary_logloss: 0.0352416\n",
            "[300]\ttrain's binary_logloss: 0.0315535\teval's binary_logloss: 0.0357177\n"
          ]
        },
        {
          "output_type": "stream",
          "name": "stderr",
          "text": [
            "bagging, val_score: 0.034490:  60%|######    | 6/10 [00:04<00:02,  1.52it/s]\u001b[32m[I 2021-09-02 12:18:49,016]\u001b[0m Trial 32 finished with value: 0.035142555619896904 and parameters: {'bagging_fraction': 0.49099842035466656, 'bagging_freq': 5}. Best is trial 31 with value: 0.03455359568496139.\u001b[0m\n",
            "bagging, val_score: 0.034490:  60%|######    | 6/10 [00:04<00:02,  1.52it/s]"
          ]
        },
        {
          "output_type": "stream",
          "name": "stdout",
          "text": [
            "Early stopping, best iteration is:\n",
            "[230]\ttrain's binary_logloss: 0.0321393\teval's binary_logloss: 0.0351426\n",
            "Training until validation scores don't improve for 100 rounds\n",
            "[100]\ttrain's binary_logloss: 0.0331055\teval's binary_logloss: 0.0365717\n",
            "[200]\ttrain's binary_logloss: 0.0318771\teval's binary_logloss: 0.0356816\n"
          ]
        },
        {
          "output_type": "stream",
          "name": "stderr",
          "text": [
            "bagging, val_score: 0.034490:  70%|#######   | 7/10 [00:05<00:02,  1.20it/s]\u001b[32m[I 2021-09-02 12:18:50,204]\u001b[0m Trial 33 finished with value: 0.03525898423163969 and parameters: {'bagging_fraction': 0.5122137810228703, 'bagging_freq': 2}. Best is trial 31 with value: 0.03455359568496139.\u001b[0m\n",
            "bagging, val_score: 0.034490:  70%|#######   | 7/10 [00:05<00:02,  1.20it/s]"
          ]
        },
        {
          "output_type": "stream",
          "name": "stdout",
          "text": [
            "[300]\ttrain's binary_logloss: 0.0312895\teval's binary_logloss: 0.0355634\n",
            "Early stopping, best iteration is:\n",
            "[234]\ttrain's binary_logloss: 0.0317105\teval's binary_logloss: 0.035259\n",
            "Training until validation scores don't improve for 100 rounds\n",
            "[100]\ttrain's binary_logloss: 0.0336054\teval's binary_logloss: 0.0359998\n",
            "[200]\ttrain's binary_logloss: 0.0319993\teval's binary_logloss: 0.0347116\n",
            "[300]\ttrain's binary_logloss: 0.0313314\teval's binary_logloss: 0.0347809\n"
          ]
        },
        {
          "output_type": "stream",
          "name": "stderr",
          "text": [
            "bagging, val_score: 0.034490:  80%|########  | 8/10 [00:06<00:01,  1.25it/s]\u001b[32m[I 2021-09-02 12:18:50,930]\u001b[0m Trial 34 finished with value: 0.03462629026657718 and parameters: {'bagging_fraction': 0.9314962307572411, 'bagging_freq': 6}. Best is trial 31 with value: 0.03455359568496139.\u001b[0m\n",
            "bagging, val_score: 0.034490:  80%|########  | 8/10 [00:06<00:01,  1.25it/s]"
          ]
        },
        {
          "output_type": "stream",
          "name": "stdout",
          "text": [
            "Early stopping, best iteration is:\n",
            "[220]\ttrain's binary_logloss: 0.0318363\teval's binary_logloss: 0.0346263\n",
            "Training until validation scores don't improve for 100 rounds\n",
            "[100]\ttrain's binary_logloss: 0.0336837\teval's binary_logloss: 0.0361646\n",
            "[200]\ttrain's binary_logloss: 0.0320635\teval's binary_logloss: 0.0349043\n"
          ]
        },
        {
          "output_type": "stream",
          "name": "stderr",
          "text": [
            "bagging, val_score: 0.034490:  90%|######### | 9/10 [00:06<00:00,  1.27it/s]\u001b[32m[I 2021-09-02 12:18:51,705]\u001b[0m Trial 35 finished with value: 0.0348567548234716 and parameters: {'bagging_fraction': 0.9218609280423995, 'bagging_freq': 6}. Best is trial 31 with value: 0.03455359568496139.\u001b[0m\n",
            "bagging, val_score: 0.034490:  90%|######### | 9/10 [00:06<00:00,  1.27it/s]"
          ]
        },
        {
          "output_type": "stream",
          "name": "stdout",
          "text": [
            "[300]\ttrain's binary_logloss: 0.0314159\teval's binary_logloss: 0.0349969\n",
            "Early stopping, best iteration is:\n",
            "[233]\ttrain's binary_logloss: 0.0318176\teval's binary_logloss: 0.0348568\n",
            "Training until validation scores don't improve for 100 rounds\n",
            "[100]\ttrain's binary_logloss: 0.03363\teval's binary_logloss: 0.0361311\n",
            "[200]\ttrain's binary_logloss: 0.032037\teval's binary_logloss: 0.0347093\n"
          ]
        },
        {
          "output_type": "stream",
          "name": "stderr",
          "text": [
            "bagging, val_score: 0.034490: 100%|##########| 10/10 [00:07<00:00,  1.18it/s]\u001b[32m[I 2021-09-02 12:18:52,672]\u001b[0m Trial 36 finished with value: 0.0345397523192138 and parameters: {'bagging_fraction': 0.9694469148699234, 'bagging_freq': 3}. Best is trial 36 with value: 0.0345397523192138.\u001b[0m\n",
            "bagging, val_score: 0.034490: 100%|##########| 10/10 [00:07<00:00,  1.27it/s]\n"
          ]
        },
        {
          "output_type": "stream",
          "name": "stdout",
          "text": [
            "[300]\ttrain's binary_logloss: 0.0314001\teval's binary_logloss: 0.0347781\n",
            "Early stopping, best iteration is:\n",
            "[213]\ttrain's binary_logloss: 0.0319306\teval's binary_logloss: 0.0345398\n"
          ]
        },
        {
          "output_type": "stream",
          "name": "stderr",
          "text": [
            "feature_fraction_stage2, val_score: 0.034490:   0%|          | 0/3 [00:00<?, ?it/s]"
          ]
        },
        {
          "output_type": "stream",
          "name": "stdout",
          "text": [
            "Training until validation scores don't improve for 100 rounds\n",
            "[100]\ttrain's binary_logloss: 0.0336465\teval's binary_logloss: 0.035959\n",
            "[200]\ttrain's binary_logloss: 0.0320623\teval's binary_logloss: 0.0345501\n"
          ]
        },
        {
          "output_type": "stream",
          "name": "stderr",
          "text": [
            "feature_fraction_stage2, val_score: 0.034490:  33%|###3      | 1/3 [00:00<00:00,  2.16it/s]\u001b[32m[I 2021-09-02 12:18:53,163]\u001b[0m Trial 37 finished with value: 0.03449027031729474 and parameters: {'feature_fraction': 0.48000000000000004}. Best is trial 37 with value: 0.03449027031729474.\u001b[0m\n",
            "feature_fraction_stage2, val_score: 0.034490:  33%|###3      | 1/3 [00:00<00:00,  2.16it/s]"
          ]
        },
        {
          "output_type": "stream",
          "name": "stdout",
          "text": [
            "[300]\ttrain's binary_logloss: 0.031461\teval's binary_logloss: 0.0346066\n",
            "Early stopping, best iteration is:\n",
            "[227]\ttrain's binary_logloss: 0.0318633\teval's binary_logloss: 0.0344903\n",
            "Training until validation scores don't improve for 100 rounds\n",
            "[100]\ttrain's binary_logloss: 0.0336465\teval's binary_logloss: 0.035959\n",
            "[200]\ttrain's binary_logloss: 0.0320623\teval's binary_logloss: 0.0345501\n",
            "[300]\ttrain's binary_logloss: 0.031461\teval's binary_logloss: 0.0346066\n"
          ]
        },
        {
          "output_type": "stream",
          "name": "stderr",
          "text": [
            "feature_fraction_stage2, val_score: 0.034490:  67%|######6   | 2/3 [00:00<00:00,  2.12it/s]\u001b[32m[I 2021-09-02 12:18:53,634]\u001b[0m Trial 38 finished with value: 0.034490270307084826 and parameters: {'feature_fraction': 0.44800000000000006}. Best is trial 38 with value: 0.034490270307084826.\u001b[0m\n",
            "feature_fraction_stage2, val_score: 0.034490:  67%|######6   | 2/3 [00:00<00:00,  2.12it/s]"
          ]
        },
        {
          "output_type": "stream",
          "name": "stdout",
          "text": [
            "Early stopping, best iteration is:\n",
            "[227]\ttrain's binary_logloss: 0.0318633\teval's binary_logloss: 0.0344903\n",
            "Training until validation scores don't improve for 100 rounds\n",
            "[100]\ttrain's binary_logloss: 0.0336465\teval's binary_logloss: 0.035959\n",
            "[200]\ttrain's binary_logloss: 0.0320623\teval's binary_logloss: 0.0345501\n",
            "[300]\ttrain's binary_logloss: 0.031461\teval's binary_logloss: 0.0346066\n"
          ]
        },
        {
          "output_type": "stream",
          "name": "stderr",
          "text": [
            "feature_fraction_stage2, val_score: 0.034490: 100%|##########| 3/3 [00:01<00:00,  2.04it/s]\u001b[32m[I 2021-09-02 12:18:54,147]\u001b[0m Trial 39 finished with value: 0.03449027035781548 and parameters: {'feature_fraction': 0.41600000000000004}. Best is trial 38 with value: 0.034490270307084826.\u001b[0m\n",
            "feature_fraction_stage2, val_score: 0.034490: 100%|##########| 3/3 [00:01<00:00,  2.05it/s]\n"
          ]
        },
        {
          "output_type": "stream",
          "name": "stdout",
          "text": [
            "Early stopping, best iteration is:\n",
            "[227]\ttrain's binary_logloss: 0.0318633\teval's binary_logloss: 0.0344903\n"
          ]
        },
        {
          "output_type": "stream",
          "name": "stderr",
          "text": [
            "regularization_factors, val_score: 0.034490:   0%|          | 0/20 [00:00<?, ?it/s]"
          ]
        },
        {
          "output_type": "stream",
          "name": "stdout",
          "text": [
            "Training until validation scores don't improve for 100 rounds\n",
            "[100]\ttrain's binary_logloss: 0.0336943\teval's binary_logloss: 0.0360093\n",
            "[200]\ttrain's binary_logloss: 0.0321445\teval's binary_logloss: 0.0345295\n",
            "[300]\ttrain's binary_logloss: 0.0316202\teval's binary_logloss: 0.0344388\n"
          ]
        },
        {
          "output_type": "stream",
          "name": "stderr",
          "text": [
            "regularization_factors, val_score: 0.034374:   5%|5         | 1/20 [00:00<00:09,  1.93it/s]\u001b[32m[I 2021-09-02 12:18:54,681]\u001b[0m Trial 40 finished with value: 0.034373802535196334 and parameters: {'lambda_l1': 0.5256223490827718, 'lambda_l2': 0.0598294045965714}. Best is trial 40 with value: 0.034373802535196334.\u001b[0m\n",
            "regularization_factors, val_score: 0.034374:   5%|5         | 1/20 [00:00<00:09,  1.93it/s]"
          ]
        },
        {
          "output_type": "stream",
          "name": "stdout",
          "text": [
            "Early stopping, best iteration is:\n",
            "[257]\ttrain's binary_logloss: 0.0318088\teval's binary_logloss: 0.0343738\n",
            "Training until validation scores don't improve for 100 rounds\n",
            "[100]\ttrain's binary_logloss: 0.0336465\teval's binary_logloss: 0.035959\n",
            "[200]\ttrain's binary_logloss: 0.0320623\teval's binary_logloss: 0.0345501\n",
            "[300]\ttrain's binary_logloss: 0.031461\teval's binary_logloss: 0.0346066\n"
          ]
        },
        {
          "output_type": "stream",
          "name": "stderr",
          "text": [
            "regularization_factors, val_score: 0.034374:  10%|#         | 2/20 [00:01<00:08,  2.00it/s]\u001b[32m[I 2021-09-02 12:18:55,164]\u001b[0m Trial 41 finished with value: 0.03449027008164601 and parameters: {'lambda_l1': 3.180705126973829e-08, 'lambda_l2': 3.274532172342931e-06}. Best is trial 40 with value: 0.034373802535196334.\u001b[0m\n",
            "regularization_factors, val_score: 0.034374:  10%|#         | 2/20 [00:01<00:08,  2.00it/s]"
          ]
        },
        {
          "output_type": "stream",
          "name": "stdout",
          "text": [
            "Early stopping, best iteration is:\n",
            "[227]\ttrain's binary_logloss: 0.0318633\teval's binary_logloss: 0.0344903\n",
            "Training until validation scores don't improve for 100 rounds\n",
            "[100]\ttrain's binary_logloss: 0.0336465\teval's binary_logloss: 0.035959\n",
            "[200]\ttrain's binary_logloss: 0.0320623\teval's binary_logloss: 0.0345501\n",
            "[300]\ttrain's binary_logloss: 0.031461\teval's binary_logloss: 0.0346066\n"
          ]
        },
        {
          "output_type": "stream",
          "name": "stderr",
          "text": [
            "regularization_factors, val_score: 0.034374:  15%|#5        | 3/20 [00:01<00:08,  2.02it/s]\u001b[32m[I 2021-09-02 12:18:55,656]\u001b[0m Trial 42 finished with value: 0.03449027034941814 and parameters: {'lambda_l1': 4.208058227710977e-06, 'lambda_l2': 2.5463323717433297e-07}. Best is trial 40 with value: 0.034373802535196334.\u001b[0m\n",
            "regularization_factors, val_score: 0.034374:  15%|#5        | 3/20 [00:01<00:08,  2.02it/s]"
          ]
        },
        {
          "output_type": "stream",
          "name": "stdout",
          "text": [
            "Early stopping, best iteration is:\n",
            "[227]\ttrain's binary_logloss: 0.0318633\teval's binary_logloss: 0.0344903\n",
            "Training until validation scores don't improve for 100 rounds\n",
            "[100]\ttrain's binary_logloss: 0.0336465\teval's binary_logloss: 0.035959\n",
            "[200]\ttrain's binary_logloss: 0.0320623\teval's binary_logloss: 0.0345501\n",
            "[300]\ttrain's binary_logloss: 0.031461\teval's binary_logloss: 0.0346066\n",
            "Early stopping, best iteration is:\n",
            "[227]\ttrain's binary_logloss: 0.0318633\teval's binary_logloss: 0.0344903\n"
          ]
        },
        {
          "output_type": "stream",
          "name": "stderr",
          "text": [
            "regularization_factors, val_score: 0.034374:  20%|##        | 4/20 [00:01<00:07,  2.07it/s]\u001b[32m[I 2021-09-02 12:18:56,123]\u001b[0m Trial 43 finished with value: 0.03449026832330985 and parameters: {'lambda_l1': 4.4678881878905226e-07, 'lambda_l2': 2.1100667873099362e-05}. Best is trial 40 with value: 0.034373802535196334.\u001b[0m\n",
            "regularization_factors, val_score: 0.034374:  20%|##        | 4/20 [00:01<00:07,  2.07it/s]"
          ]
        },
        {
          "output_type": "stream",
          "name": "stdout",
          "text": [
            "Training until validation scores don't improve for 100 rounds\n",
            "[100]\ttrain's binary_logloss: 0.0336465\teval's binary_logloss: 0.035959\n",
            "[200]\ttrain's binary_logloss: 0.0320623\teval's binary_logloss: 0.0345501\n"
          ]
        },
        {
          "output_type": "stream",
          "name": "stderr",
          "text": [
            "regularization_factors, val_score: 0.034374:  25%|##5       | 5/20 [00:02<00:07,  2.10it/s]\u001b[32m[I 2021-09-02 12:18:56,578]\u001b[0m Trial 44 finished with value: 0.03449027038540502 and parameters: {'lambda_l1': 4.77411372339104e-06, 'lambda_l2': 1.4114078178456971e-08}. Best is trial 40 with value: 0.034373802535196334.\u001b[0m\n",
            "regularization_factors, val_score: 0.034374:  25%|##5       | 5/20 [00:02<00:07,  2.10it/s]"
          ]
        },
        {
          "output_type": "stream",
          "name": "stdout",
          "text": [
            "[300]\ttrain's binary_logloss: 0.031461\teval's binary_logloss: 0.0346066\n",
            "Early stopping, best iteration is:\n",
            "[227]\ttrain's binary_logloss: 0.0318633\teval's binary_logloss: 0.0344903\n",
            "Training until validation scores don't improve for 100 rounds\n",
            "[100]\ttrain's binary_logloss: 0.0341753\teval's binary_logloss: 0.0364575\n",
            "[200]\ttrain's binary_logloss: 0.0332611\teval's binary_logloss: 0.0355071\n",
            "[300]\ttrain's binary_logloss: 0.0329481\teval's binary_logloss: 0.0351832\n",
            "[400]\ttrain's binary_logloss: 0.0328283\teval's binary_logloss: 0.0350566\n",
            "[500]\ttrain's binary_logloss: 0.0327777\teval's binary_logloss: 0.0350046\n",
            "[600]\ttrain's binary_logloss: 0.0327565\teval's binary_logloss: 0.0349811\n",
            "[700]\ttrain's binary_logloss: 0.0327472\teval's binary_logloss: 0.0349713\n",
            "[800]\ttrain's binary_logloss: 0.0327432\teval's binary_logloss: 0.0349671\n",
            "[900]\ttrain's binary_logloss: 0.0327415\teval's binary_logloss: 0.0349652\n",
            "[1000]\ttrain's binary_logloss: 0.0327407\teval's binary_logloss: 0.0349644\n",
            "[1100]\ttrain's binary_logloss: 0.0327404\teval's binary_logloss: 0.034964\n",
            "[1200]\ttrain's binary_logloss: 0.0327402\teval's binary_logloss: 0.0349639\n",
            "[1300]\ttrain's binary_logloss: 0.0327402\teval's binary_logloss: 0.0349638\n",
            "[1400]\ttrain's binary_logloss: 0.0327401\teval's binary_logloss: 0.0349638\n",
            "[1500]\ttrain's binary_logloss: 0.0327401\teval's binary_logloss: 0.0349638\n",
            "[1600]\ttrain's binary_logloss: 0.0327401\teval's binary_logloss: 0.0349638\n",
            "[1700]\ttrain's binary_logloss: 0.0327401\teval's binary_logloss: 0.0349638\n",
            "[1800]\ttrain's binary_logloss: 0.0327401\teval's binary_logloss: 0.0349638\n",
            "[1900]\ttrain's binary_logloss: 0.0327401\teval's binary_logloss: 0.0349638\n",
            "[2000]\ttrain's binary_logloss: 0.0327401\teval's binary_logloss: 0.0349638\n",
            "[2100]\ttrain's binary_logloss: 0.0327401\teval's binary_logloss: 0.0349638\n",
            "[2200]\ttrain's binary_logloss: 0.0327401\teval's binary_logloss: 0.0349638\n",
            "[2300]\ttrain's binary_logloss: 0.0327401\teval's binary_logloss: 0.0349638\n",
            "[2400]\ttrain's binary_logloss: 0.0327401\teval's binary_logloss: 0.0349638\n",
            "[2500]\ttrain's binary_logloss: 0.0327401\teval's binary_logloss: 0.0349638\n",
            "[2600]\ttrain's binary_logloss: 0.0327401\teval's binary_logloss: 0.0349638\n",
            "[2700]\ttrain's binary_logloss: 0.0327401\teval's binary_logloss: 0.0349638\n",
            "[2800]\ttrain's binary_logloss: 0.0327401\teval's binary_logloss: 0.0349638\n",
            "[2900]\ttrain's binary_logloss: 0.0327401\teval's binary_logloss: 0.0349638\n",
            "[3000]\ttrain's binary_logloss: 0.0327401\teval's binary_logloss: 0.0349638\n"
          ]
        },
        {
          "output_type": "stream",
          "name": "stderr",
          "text": [
            "regularization_factors, val_score: 0.034374:  30%|###       | 6/20 [00:05<00:19,  1.37s/it]\u001b[32m[I 2021-09-02 12:18:59,674]\u001b[0m Trial 45 finished with value: 0.03496375234754371 and parameters: {'lambda_l1': 9.01756522683868, 'lambda_l2': 3.341185371528019}. Best is trial 40 with value: 0.034373802535196334.\u001b[0m\n",
            "regularization_factors, val_score: 0.034374:  30%|###       | 6/20 [00:05<00:19,  1.37s/it]"
          ]
        },
        {
          "output_type": "stream",
          "name": "stdout",
          "text": [
            "[3100]\ttrain's binary_logloss: 0.0327401\teval's binary_logloss: 0.0349638\n",
            "[3200]\ttrain's binary_logloss: 0.0327401\teval's binary_logloss: 0.0349638\n",
            "Early stopping, best iteration is:\n",
            "[3130]\ttrain's binary_logloss: 0.0327401\teval's binary_logloss: 0.0349638\n",
            "Training until validation scores don't improve for 100 rounds\n",
            "[100]\ttrain's binary_logloss: 0.0326231\teval's binary_logloss: 0.0353246\n",
            "[200]\ttrain's binary_logloss: 0.0319709\teval's binary_logloss: 0.0348031\n"
          ]
        },
        {
          "output_type": "stream",
          "name": "stderr",
          "text": [
            "regularization_factors, val_score: 0.034374:  35%|###5      | 7/20 [00:05<00:13,  1.07s/it]\u001b[32m[I 2021-09-02 12:19:00,135]\u001b[0m Trial 46 finished with value: 0.03477152966370924 and parameters: {'lambda_l1': 0.00019235315929147493, 'lambda_l2': 9.544610082812737}. Best is trial 40 with value: 0.034373802535196334.\u001b[0m\n",
            "regularization_factors, val_score: 0.034374:  35%|###5      | 7/20 [00:05<00:13,  1.07s/it]"
          ]
        },
        {
          "output_type": "stream",
          "name": "stdout",
          "text": [
            "[300]\ttrain's binary_logloss: 0.0317082\teval's binary_logloss: 0.0348028\n",
            "Early stopping, best iteration is:\n",
            "[208]\ttrain's binary_logloss: 0.0319441\teval's binary_logloss: 0.0347715\n",
            "Training until validation scores don't improve for 100 rounds\n",
            "[100]\ttrain's binary_logloss: 0.0336797\teval's binary_logloss: 0.0360322\n",
            "[200]\ttrain's binary_logloss: 0.0321125\teval's binary_logloss: 0.0345795\n",
            "[300]\ttrain's binary_logloss: 0.0315592\teval's binary_logloss: 0.0345462\n"
          ]
        },
        {
          "output_type": "stream",
          "name": "stderr",
          "text": [
            "regularization_factors, val_score: 0.034374:  40%|####      | 8/20 [00:06<00:10,  1.13it/s]\u001b[32m[I 2021-09-02 12:19:00,611]\u001b[0m Trial 47 finished with value: 0.03444478035219431 and parameters: {'lambda_l1': 0.3262956622844668, 'lambda_l2': 2.5916222885477406e-05}. Best is trial 40 with value: 0.034373802535196334.\u001b[0m\n",
            "regularization_factors, val_score: 0.034374:  40%|####      | 8/20 [00:06<00:10,  1.13it/s]"
          ]
        },
        {
          "output_type": "stream",
          "name": "stdout",
          "text": [
            "Early stopping, best iteration is:\n",
            "[254]\ttrain's binary_logloss: 0.0317717\teval's binary_logloss: 0.0344448\n",
            "Training until validation scores don't improve for 100 rounds\n",
            "[100]\ttrain's binary_logloss: 0.0336465\teval's binary_logloss: 0.035959\n",
            "[200]\ttrain's binary_logloss: 0.0320624\teval's binary_logloss: 0.0345501\n",
            "[300]\ttrain's binary_logloss: 0.0314611\teval's binary_logloss: 0.0346065\n"
          ]
        },
        {
          "output_type": "stream",
          "name": "stderr",
          "text": [
            "regularization_factors, val_score: 0.034374:  45%|####5     | 9/20 [00:06<00:08,  1.31it/s]\u001b[32m[I 2021-09-02 12:19:01,119]\u001b[0m Trial 48 finished with value: 0.03449026350901181 and parameters: {'lambda_l1': 0.00030233857722931906, 'lambda_l2': 5.685482317162249e-05}. Best is trial 40 with value: 0.034373802535196334.\u001b[0m\n",
            "regularization_factors, val_score: 0.034374:  45%|####5     | 9/20 [00:06<00:08,  1.31it/s]"
          ]
        },
        {
          "output_type": "stream",
          "name": "stdout",
          "text": [
            "Early stopping, best iteration is:\n",
            "[227]\ttrain's binary_logloss: 0.0318634\teval's binary_logloss: 0.0344903\n",
            "Training until validation scores don't improve for 100 rounds\n",
            "[100]\ttrain's binary_logloss: 0.0336466\teval's binary_logloss: 0.0359591\n",
            "[200]\ttrain's binary_logloss: 0.0320625\teval's binary_logloss: 0.0345658\n",
            "[300]\ttrain's binary_logloss: 0.0314607\teval's binary_logloss: 0.0346258\n",
            "Early stopping, best iteration is:\n",
            "[227]\ttrain's binary_logloss: 0.031863\teval's binary_logloss: 0.0344908\n"
          ]
        },
        {
          "output_type": "stream",
          "name": "stderr",
          "text": [
            "regularization_factors, val_score: 0.034374:  50%|#####     | 10/20 [00:07<00:06,  1.49it/s]\u001b[32m[I 2021-09-02 12:19:01,574]\u001b[0m Trial 49 finished with value: 0.03449083814310707 and parameters: {'lambda_l1': 0.0007469335945530088, 'lambda_l2': 3.8294350620898664e-05}. Best is trial 40 with value: 0.034373802535196334.\u001b[0m\n",
            "regularization_factors, val_score: 0.034374:  50%|#####     | 10/20 [00:07<00:06,  1.49it/s]"
          ]
        },
        {
          "output_type": "stream",
          "name": "stdout",
          "text": [
            "Training until validation scores don't improve for 100 rounds\n",
            "[100]\ttrain's binary_logloss: 0.0336446\teval's binary_logloss: 0.0359683\n",
            "[200]\ttrain's binary_logloss: 0.0320714\teval's binary_logloss: 0.0345221\n"
          ]
        },
        {
          "output_type": "stream",
          "name": "stderr",
          "text": [
            "regularization_factors, val_score: 0.034374:  55%|#####5    | 11/20 [00:07<00:05,  1.64it/s]\u001b[32m[I 2021-09-02 12:19:02,057]\u001b[0m Trial 50 finished with value: 0.034449777580583915 and parameters: {'lambda_l1': 0.05283314322482057, 'lambda_l2': 0.021556550856950702}. Best is trial 40 with value: 0.034373802535196334.\u001b[0m\n",
            "regularization_factors, val_score: 0.034374:  55%|#####5    | 11/20 [00:07<00:05,  1.64it/s]"
          ]
        },
        {
          "output_type": "stream",
          "name": "stdout",
          "text": [
            "[300]\ttrain's binary_logloss: 0.0314813\teval's binary_logloss: 0.0345549\n",
            "Early stopping, best iteration is:\n",
            "[222]\ttrain's binary_logloss: 0.0319082\teval's binary_logloss: 0.0344498\n",
            "Training until validation scores don't improve for 100 rounds\n",
            "[100]\ttrain's binary_logloss: 0.0340299\teval's binary_logloss: 0.0363445\n",
            "[200]\ttrain's binary_logloss: 0.0325407\teval's binary_logloss: 0.0348393\n",
            "[300]\ttrain's binary_logloss: 0.0321228\teval's binary_logloss: 0.0344645\n"
          ]
        },
        {
          "output_type": "stream",
          "name": "stderr",
          "text": [
            "regularization_factors, val_score: 0.034374:  60%|######    | 12/20 [00:08<00:04,  1.66it/s]\u001b[32m[I 2021-09-02 12:19:02,630]\u001b[0m Trial 51 finished with value: 0.034411430807272665 and parameters: {'lambda_l1': 3.3558570792914337, 'lambda_l2': 0.0047179040676975665}. Best is trial 40 with value: 0.034373802535196334.\u001b[0m\n",
            "regularization_factors, val_score: 0.034374:  60%|######    | 12/20 [00:08<00:04,  1.66it/s]"
          ]
        },
        {
          "output_type": "stream",
          "name": "stdout",
          "text": [
            "[400]\ttrain's binary_logloss: 0.0319628\teval's binary_logloss: 0.0344414\n",
            "Early stopping, best iteration is:\n",
            "[357]\ttrain's binary_logloss: 0.0320198\teval's binary_logloss: 0.0344114\n",
            "Training until validation scores don't improve for 100 rounds\n",
            "[100]\ttrain's binary_logloss: 0.0346098\teval's binary_logloss: 0.0368482\n",
            "[200]\ttrain's binary_logloss: 0.0333703\teval's binary_logloss: 0.0354891\n",
            "[300]\ttrain's binary_logloss: 0.0329783\teval's binary_logloss: 0.0350952\n",
            "[400]\ttrain's binary_logloss: 0.0328365\teval's binary_logloss: 0.0349429\n",
            "[500]\ttrain's binary_logloss: 0.0327803\teval's binary_logloss: 0.034884\n",
            "[600]\ttrain's binary_logloss: 0.0327576\teval's binary_logloss: 0.03486\n",
            "[700]\ttrain's binary_logloss: 0.0327481\teval's binary_logloss: 0.0348498\n",
            "[800]\ttrain's binary_logloss: 0.0327442\teval's binary_logloss: 0.0348455\n",
            "[900]\ttrain's binary_logloss: 0.0327425\teval's binary_logloss: 0.0348437\n",
            "[1000]\ttrain's binary_logloss: 0.0327419\teval's binary_logloss: 0.0348429\n",
            "[1100]\ttrain's binary_logloss: 0.0327416\teval's binary_logloss: 0.0348427\n",
            "[1200]\ttrain's binary_logloss: 0.0327415\teval's binary_logloss: 0.0348425\n",
            "[1300]\ttrain's binary_logloss: 0.0327414\teval's binary_logloss: 0.0348425\n",
            "[1400]\ttrain's binary_logloss: 0.0327414\teval's binary_logloss: 0.0348424\n",
            "[1500]\ttrain's binary_logloss: 0.0327414\teval's binary_logloss: 0.0348424\n",
            "[1600]\ttrain's binary_logloss: 0.0327414\teval's binary_logloss: 0.0348424\n",
            "[1700]\ttrain's binary_logloss: 0.0327414\teval's binary_logloss: 0.0348424\n",
            "[1800]\ttrain's binary_logloss: 0.0327414\teval's binary_logloss: 0.0348424\n",
            "[1900]\ttrain's binary_logloss: 0.0327414\teval's binary_logloss: 0.0348424\n",
            "[2000]\ttrain's binary_logloss: 0.0327414\teval's binary_logloss: 0.0348424\n",
            "[2100]\ttrain's binary_logloss: 0.0327414\teval's binary_logloss: 0.0348424\n",
            "[2200]\ttrain's binary_logloss: 0.0327414\teval's binary_logloss: 0.0348424\n",
            "[2300]\ttrain's binary_logloss: 0.0327414\teval's binary_logloss: 0.0348424\n",
            "[2400]\ttrain's binary_logloss: 0.0327414\teval's binary_logloss: 0.0348424\n",
            "[2500]\ttrain's binary_logloss: 0.0327414\teval's binary_logloss: 0.0348424\n",
            "[2600]\ttrain's binary_logloss: 0.0327414\teval's binary_logloss: 0.0348424\n",
            "[2700]\ttrain's binary_logloss: 0.0327414\teval's binary_logloss: 0.0348424\n",
            "[2800]\ttrain's binary_logloss: 0.0327414\teval's binary_logloss: 0.0348424\n",
            "Early stopping, best iteration is:\n",
            "[2777]\ttrain's binary_logloss: 0.0327414\teval's binary_logloss: 0.0348424\n"
          ]
        },
        {
          "output_type": "stream",
          "name": "stderr",
          "text": [
            "regularization_factors, val_score: 0.034374:  65%|######5   | 13/20 [00:11<00:08,  1.24s/it]\u001b[32m[I 2021-09-02 12:19:05,345]\u001b[0m Trial 52 finished with value: 0.03484241962271101 and parameters: {'lambda_l1': 9.518504760659727, 'lambda_l2': 0.007944612925371968}. Best is trial 40 with value: 0.034373802535196334.\u001b[0m\n",
            "regularization_factors, val_score: 0.034374:  65%|######5   | 13/20 [00:11<00:08,  1.24s/it]"
          ]
        },
        {
          "output_type": "stream",
          "name": "stdout",
          "text": [
            "Training until validation scores don't improve for 100 rounds\n",
            "[100]\ttrain's binary_logloss: 0.0336441\teval's binary_logloss: 0.0359688\n",
            "[200]\ttrain's binary_logloss: 0.0320697\teval's binary_logloss: 0.034513\n"
          ]
        },
        {
          "output_type": "stream",
          "name": "stderr",
          "text": [
            "regularization_factors, val_score: 0.034374:  70%|#######   | 14/20 [00:11<00:06,  1.01s/it]\u001b[32m[I 2021-09-02 12:19:05,818]\u001b[0m Trial 53 finished with value: 0.03445870196273652 and parameters: {'lambda_l1': 0.04296800210881412, 'lambda_l2': 0.0085359465467481}. Best is trial 40 with value: 0.034373802535196334.\u001b[0m\n",
            "regularization_factors, val_score: 0.034374:  70%|#######   | 14/20 [00:11<00:06,  1.01s/it]"
          ]
        },
        {
          "output_type": "stream",
          "name": "stdout",
          "text": [
            "[300]\ttrain's binary_logloss: 0.0314761\teval's binary_logloss: 0.03459\n",
            "Early stopping, best iteration is:\n",
            "[227]\ttrain's binary_logloss: 0.0318734\teval's binary_logloss: 0.0344587\n",
            "Training until validation scores don't improve for 100 rounds\n",
            "[100]\ttrain's binary_logloss: 0.0336721\teval's binary_logloss: 0.0359143\n",
            "[200]\ttrain's binary_logloss: 0.0321447\teval's binary_logloss: 0.0344798\n"
          ]
        },
        {
          "output_type": "stream",
          "name": "stderr",
          "text": [
            "regularization_factors, val_score: 0.034335:  75%|#######5  | 15/20 [00:12<00:04,  1.15it/s]\u001b[32m[I 2021-09-02 12:19:06,362]\u001b[0m Trial 54 finished with value: 0.0343346630650648 and parameters: {'lambda_l1': 0.4280626602439503, 'lambda_l2': 0.24258994783728594}. Best is trial 54 with value: 0.0343346630650648.\u001b[0m\n",
            "regularization_factors, val_score: 0.034335:  75%|#######5  | 15/20 [00:12<00:04,  1.15it/s]"
          ]
        },
        {
          "output_type": "stream",
          "name": "stdout",
          "text": [
            "[300]\ttrain's binary_logloss: 0.0316277\teval's binary_logloss: 0.0343709\n",
            "Early stopping, best iteration is:\n",
            "[262]\ttrain's binary_logloss: 0.0317855\teval's binary_logloss: 0.0343347\n",
            "Training until validation scores don't improve for 100 rounds\n",
            "[100]\ttrain's binary_logloss: 0.0336213\teval's binary_logloss: 0.0358672\n",
            "[200]\ttrain's binary_logloss: 0.0320891\teval's binary_logloss: 0.0344981\n"
          ]
        },
        {
          "output_type": "stream",
          "name": "stderr",
          "text": [
            "regularization_factors, val_score: 0.034335:  80%|########  | 16/20 [00:12<00:03,  1.32it/s]\u001b[32m[I 2021-09-02 12:19:06,854]\u001b[0m Trial 55 finished with value: 0.0343897536659312 and parameters: {'lambda_l1': 0.008078288897692734, 'lambda_l2': 0.2762240613084766}. Best is trial 54 with value: 0.0343346630650648.\u001b[0m\n",
            "regularization_factors, val_score: 0.034335:  80%|########  | 16/20 [00:12<00:03,  1.32it/s]"
          ]
        },
        {
          "output_type": "stream",
          "name": "stdout",
          "text": [
            "[300]\ttrain's binary_logloss: 0.0315285\teval's binary_logloss: 0.0344987\n",
            "Early stopping, best iteration is:\n",
            "[254]\ttrain's binary_logloss: 0.0317463\teval's binary_logloss: 0.0343898\n",
            "Training until validation scores don't improve for 100 rounds\n",
            "[100]\ttrain's binary_logloss: 0.0336634\teval's binary_logloss: 0.0359133\n",
            "[200]\ttrain's binary_logloss: 0.0321463\teval's binary_logloss: 0.0344352\n"
          ]
        },
        {
          "output_type": "stream",
          "name": "stderr",
          "text": [
            "regularization_factors, val_score: 0.034333:  85%|########5 | 17/20 [00:13<00:02,  1.47it/s]\u001b[32m[I 2021-09-02 12:19:07,359]\u001b[0m Trial 56 finished with value: 0.034333412293902195 and parameters: {'lambda_l1': 0.4065764773551129, 'lambda_l2': 0.2697577538583051}. Best is trial 56 with value: 0.034333412293902195.\u001b[0m\n",
            "regularization_factors, val_score: 0.034333:  85%|########5 | 17/20 [00:13<00:02,  1.47it/s]"
          ]
        },
        {
          "output_type": "stream",
          "name": "stdout",
          "text": [
            "[300]\ttrain's binary_logloss: 0.0316268\teval's binary_logloss: 0.0343788\n",
            "Early stopping, best iteration is:\n",
            "[249]\ttrain's binary_logloss: 0.031852\teval's binary_logloss: 0.0343334\n",
            "Training until validation scores don't improve for 100 rounds\n",
            "[100]\ttrain's binary_logloss: 0.0334149\teval's binary_logloss: 0.0355615\n",
            "[200]\ttrain's binary_logloss: 0.0319981\teval's binary_logloss: 0.0342767\n"
          ]
        },
        {
          "output_type": "stream",
          "name": "stderr",
          "text": [
            "regularization_factors, val_score: 0.034248:  90%|######### | 18/20 [00:13<00:01,  1.61it/s]\u001b[32m[I 2021-09-02 12:19:07,846]\u001b[0m Trial 57 finished with value: 0.03424828257546449 and parameters: {'lambda_l1': 0.0032181901368423236, 'lambda_l2': 0.45839562179772714}. Best is trial 57 with value: 0.03424828257546449.\u001b[0m\n",
            "regularization_factors, val_score: 0.034248:  90%|######### | 18/20 [00:13<00:01,  1.61it/s]"
          ]
        },
        {
          "output_type": "stream",
          "name": "stdout",
          "text": [
            "[300]\ttrain's binary_logloss: 0.0314904\teval's binary_logloss: 0.0343804\n",
            "Early stopping, best iteration is:\n",
            "[235]\ttrain's binary_logloss: 0.0317853\teval's binary_logloss: 0.0342483\n",
            "Training until validation scores don't improve for 100 rounds\n",
            "[100]\ttrain's binary_logloss: 0.0336468\teval's binary_logloss: 0.0359592\n",
            "[200]\ttrain's binary_logloss: 0.0320629\teval's binary_logloss: 0.0345658\n"
          ]
        },
        {
          "output_type": "stream",
          "name": "stderr",
          "text": [
            "regularization_factors, val_score: 0.034248:  95%|#########5| 19/20 [00:14<00:00,  1.72it/s]\u001b[32m[I 2021-09-02 12:19:08,333]\u001b[0m Trial 58 finished with value: 0.03449077754978165 and parameters: {'lambda_l1': 0.0025482711920933607, 'lambda_l2': 0.0005704870831639411}. Best is trial 57 with value: 0.03424828257546449.\u001b[0m\n",
            "regularization_factors, val_score: 0.034248:  95%|#########5| 19/20 [00:14<00:00,  1.72it/s]"
          ]
        },
        {
          "output_type": "stream",
          "name": "stdout",
          "text": [
            "[300]\ttrain's binary_logloss: 0.0314612\teval's binary_logloss: 0.0346376\n",
            "Early stopping, best iteration is:\n",
            "[227]\ttrain's binary_logloss: 0.0318635\teval's binary_logloss: 0.0344908\n",
            "Training until validation scores don't improve for 100 rounds\n",
            "[100]\ttrain's binary_logloss: 0.0333743\teval's binary_logloss: 0.0355618\n",
            "[200]\ttrain's binary_logloss: 0.032015\teval's binary_logloss: 0.0343015\n"
          ]
        },
        {
          "output_type": "stream",
          "name": "stderr",
          "text": [
            "regularization_factors, val_score: 0.034236: 100%|##########| 20/20 [00:14<00:00,  1.81it/s]\u001b[32m[I 2021-09-02 12:19:08,812]\u001b[0m Trial 59 finished with value: 0.034235625218360086 and parameters: {'lambda_l1': 8.397326313176509e-05, 'lambda_l2': 1.0006135599391885}. Best is trial 59 with value: 0.034235625218360086.\u001b[0m\n",
            "regularization_factors, val_score: 0.034236: 100%|##########| 20/20 [00:14<00:00,  1.36it/s]\n"
          ]
        },
        {
          "output_type": "stream",
          "name": "stdout",
          "text": [
            "[300]\ttrain's binary_logloss: 0.0315413\teval's binary_logloss: 0.034329\n",
            "Early stopping, best iteration is:\n",
            "[227]\ttrain's binary_logloss: 0.031857\teval's binary_logloss: 0.0342356\n"
          ]
        },
        {
          "output_type": "stream",
          "name": "stderr",
          "text": [
            "min_data_in_leaf, val_score: 0.034236:   0%|          | 0/5 [00:00<?, ?it/s]"
          ]
        },
        {
          "output_type": "stream",
          "name": "stdout",
          "text": [
            "Training until validation scores don't improve for 100 rounds\n",
            "[100]\ttrain's binary_logloss: 0.0333743\teval's binary_logloss: 0.0355618\n",
            "[200]\ttrain's binary_logloss: 0.032015\teval's binary_logloss: 0.0343015\n"
          ]
        },
        {
          "output_type": "stream",
          "name": "stderr",
          "text": [
            "min_data_in_leaf, val_score: 0.034236:  20%|##        | 1/5 [00:00<00:01,  2.08it/s]\u001b[32m[I 2021-09-02 12:19:09,309]\u001b[0m Trial 60 finished with value: 0.03423562521872271 and parameters: {'min_child_samples': 50}. Best is trial 60 with value: 0.03423562521872271.\u001b[0m\n",
            "min_data_in_leaf, val_score: 0.034236:  20%|##        | 1/5 [00:00<00:01,  2.08it/s]"
          ]
        },
        {
          "output_type": "stream",
          "name": "stdout",
          "text": [
            "[300]\ttrain's binary_logloss: 0.0315413\teval's binary_logloss: 0.034329\n",
            "Early stopping, best iteration is:\n",
            "[227]\ttrain's binary_logloss: 0.031857\teval's binary_logloss: 0.0342356\n",
            "Training until validation scores don't improve for 100 rounds\n",
            "[100]\ttrain's binary_logloss: 0.0333743\teval's binary_logloss: 0.0355618\n",
            "[200]\ttrain's binary_logloss: 0.032015\teval's binary_logloss: 0.0343015\n",
            "[300]\ttrain's binary_logloss: 0.0315413\teval's binary_logloss: 0.034329\n"
          ]
        },
        {
          "output_type": "stream",
          "name": "stderr",
          "text": [
            "min_data_in_leaf, val_score: 0.034236:  40%|####      | 2/5 [00:00<00:01,  2.04it/s]\u001b[32m[I 2021-09-02 12:19:09,806]\u001b[0m Trial 61 finished with value: 0.03423562522071765 and parameters: {'min_child_samples': 5}. Best is trial 60 with value: 0.03423562521872271.\u001b[0m\n",
            "min_data_in_leaf, val_score: 0.034236:  40%|####      | 2/5 [00:00<00:01,  2.04it/s]"
          ]
        },
        {
          "output_type": "stream",
          "name": "stdout",
          "text": [
            "Early stopping, best iteration is:\n",
            "[227]\ttrain's binary_logloss: 0.031857\teval's binary_logloss: 0.0342356\n",
            "Training until validation scores don't improve for 100 rounds\n",
            "[100]\ttrain's binary_logloss: 0.0333743\teval's binary_logloss: 0.0355618\n",
            "[200]\ttrain's binary_logloss: 0.032015\teval's binary_logloss: 0.0343015\n",
            "[300]\ttrain's binary_logloss: 0.0315413\teval's binary_logloss: 0.034329\n",
            "Early stopping, best iteration is:\n",
            "[227]\ttrain's binary_logloss: 0.031857\teval's binary_logloss: 0.0342356\n"
          ]
        },
        {
          "output_type": "stream",
          "name": "stderr",
          "text": [
            "min_data_in_leaf, val_score: 0.034236:  60%|######    | 3/5 [00:01<00:00,  2.10it/s]\u001b[32m[I 2021-09-02 12:19:10,266]\u001b[0m Trial 62 finished with value: 0.03423562521314396 and parameters: {'min_child_samples': 25}. Best is trial 62 with value: 0.03423562521314396.\u001b[0m\n",
            "min_data_in_leaf, val_score: 0.034236:  60%|######    | 3/5 [00:01<00:00,  2.10it/s]"
          ]
        },
        {
          "output_type": "stream",
          "name": "stdout",
          "text": [
            "Training until validation scores don't improve for 100 rounds\n",
            "[100]\ttrain's binary_logloss: 0.0333743\teval's binary_logloss: 0.0355618\n",
            "[200]\ttrain's binary_logloss: 0.032015\teval's binary_logloss: 0.0343015\n"
          ]
        },
        {
          "output_type": "stream",
          "name": "stderr",
          "text": [
            "min_data_in_leaf, val_score: 0.034236:  80%|########  | 4/5 [00:01<00:00,  2.11it/s]\u001b[32m[I 2021-09-02 12:19:10,738]\u001b[0m Trial 63 finished with value: 0.0342356252085564 and parameters: {'min_child_samples': 10}. Best is trial 63 with value: 0.0342356252085564.\u001b[0m\n",
            "min_data_in_leaf, val_score: 0.034236:  80%|########  | 4/5 [00:01<00:00,  2.11it/s]"
          ]
        },
        {
          "output_type": "stream",
          "name": "stdout",
          "text": [
            "[300]\ttrain's binary_logloss: 0.0315413\teval's binary_logloss: 0.034329\n",
            "Early stopping, best iteration is:\n",
            "[227]\ttrain's binary_logloss: 0.031857\teval's binary_logloss: 0.0342356\n",
            "Training until validation scores don't improve for 100 rounds\n",
            "[100]\ttrain's binary_logloss: 0.0333743\teval's binary_logloss: 0.0355618\n",
            "[200]\ttrain's binary_logloss: 0.032015\teval's binary_logloss: 0.0343015\n"
          ]
        },
        {
          "output_type": "stream",
          "name": "stderr",
          "text": [
            "min_data_in_leaf, val_score: 0.034236: 100%|##########| 5/5 [00:02<00:00,  2.07it/s]\u001b[32m[I 2021-09-02 12:19:11,237]\u001b[0m Trial 64 finished with value: 0.03423562521816524 and parameters: {'min_child_samples': 100}. Best is trial 63 with value: 0.0342356252085564.\u001b[0m\n",
            "min_data_in_leaf, val_score: 0.034236: 100%|##########| 5/5 [00:02<00:00,  2.07it/s]\n",
            "Best Params 4 - {'objective': 'binary', 'metric': 'binary_logloss', 'device_type': 'gpu', 'seed': 444, 'verbosity': -1, 'feature_pre_filter': False, 'lambda_l1': 8.397326313176509e-05, 'lambda_l2': 1.0006135599391885, 'num_leaves': 2, 'feature_fraction': 0.4, 'bagging_fraction': 1.0, 'bagging_freq': 0, 'min_child_samples': 10, 'num_iterations': 10000, 'early_stopping_round': 100}\n",
            "Result 4 - Score: 0.9223674096848578, time: 55s\n",
            "Result 4 - Save Best Model\n",
            "========== fold: 4 result ==========\n",
            "Score: 0.92237\n"
          ]
        },
        {
          "output_type": "stream",
          "name": "stdout",
          "text": [
            "[300]\ttrain's binary_logloss: 0.0315413\teval's binary_logloss: 0.034329\n",
            "Early stopping, best iteration is:\n",
            "[227]\ttrain's binary_logloss: 0.031857\teval's binary_logloss: 0.0342356\n"
          ]
        },
        {
          "output_type": "stream",
          "name": "stderr",
          "text": [
            "========== CV: Border Optimization ==========\n",
            "Border: 0.01861, Score: 0.91746\n",
            "========== fold: 0 inference ==========\n",
            "========== fold: 1 inference ==========\n",
            "========== fold: 2 inference ==========\n",
            "========== fold: 3 inference ==========\n",
            "========== fold: 4 inference ==========\n"
          ]
        },
        {
          "output_type": "stream",
          "name": "stdout",
          "text": [
            "0    38079\n",
            "1     2755\n",
            "Name: judgement, dtype: int64\n"
          ]
        }
      ]
    },
    {
      "cell_type": "code",
      "metadata": {
        "id": "CPHezhr_NHYR",
        "colab": {
          "base_uri": "https://localhost:8080/",
          "height": 359,
          "referenced_widgets": [
            "a0ce3464391849d3b63fcae454cd803c",
            "0f9e3940cc06497c948547bd1704ba1e",
            "1b2350dcf5c24f5fb4cb7a386f9a2c49",
            "961fa3ab4da643b9ab4cef86111018ec",
            "6b160083366440f29bcd39395bab546a",
            "dc2cfcd461b84fafb23957355761d8ab",
            "ed0ae24bb29e44cf8460f8d433ad26fc",
            "e17cd2c9fa7e496194c565d3ae62c0f2"
          ]
        },
        "outputId": "68aac4ba-2391-4511-d683-290dd2d4c2ba"
      },
      "source": [
        "wandb.finish()"
      ],
      "execution_count": 70,
      "outputs": [
        {
          "output_type": "display_data",
          "data": {
            "text/html": [
              "<br/>Waiting for W&B process to finish, PID 8994<br/>Program ended successfully."
            ],
            "text/plain": [
              "<IPython.core.display.HTML object>"
            ]
          },
          "metadata": {}
        },
        {
          "output_type": "display_data",
          "data": {
            "application/vnd.jupyter.widget-view+json": {
              "model_id": "a0ce3464391849d3b63fcae454cd803c",
              "version_minor": 0,
              "version_major": 2
            },
            "text/plain": [
              "VBox(children=(Label(value=' 118.44MB of 118.44MB uploaded (0.45MB deduped)\\r'), FloatProgress(value=1.0, max=…"
            ]
          },
          "metadata": {}
        },
        {
          "output_type": "display_data",
          "data": {
            "text/html": [
              "Find user logs for this run at: <code>/content/wandb/run-20210902_121229-5wvzwu48/logs/debug.log</code>"
            ],
            "text/plain": [
              "<IPython.core.display.HTML object>"
            ]
          },
          "metadata": {}
        },
        {
          "output_type": "display_data",
          "data": {
            "text/html": [
              "Find internal logs for this run at: <code>/content/wandb/run-20210902_121229-5wvzwu48/logs/debug-internal.log</code>"
            ],
            "text/plain": [
              "<IPython.core.display.HTML object>"
            ]
          },
          "metadata": {}
        },
        {
          "output_type": "display_data",
          "data": {
            "text/html": [
              "<h3>Run summary:</h3><br/><style>\n",
              "    table.wandb td:nth-child(1) { padding: 0 10px; text-align: right }\n",
              "    </style><table class=\"wandb\">\n",
              "<tr><td>CV_fold0</td><td>0.87813</td></tr><tr><td>CV_fold1</td><td>0.91834</td></tr><tr><td>CV_fold2</td><td>0.92508</td></tr><tr><td>CV_fold3</td><td>0.92733</td></tr><tr><td>CV_fold4</td><td>0.92237</td></tr><tr><td>CV</td><td>0.91746</td></tr><tr><td>border</td><td>0.01861</td></tr></table>"
            ],
            "text/plain": [
              "<IPython.core.display.HTML object>"
            ]
          },
          "metadata": {}
        },
        {
          "output_type": "display_data",
          "data": {
            "text/html": [
              "Synced 5 W&B file(s), 0 media file(s), 48 artifact file(s) and 9 other file(s)"
            ],
            "text/plain": [
              "<IPython.core.display.HTML object>"
            ]
          },
          "metadata": {}
        },
        {
          "output_type": "display_data",
          "data": {
            "text/html": [
              "\n",
              "                    <br/>Synced <strong style=\"color:#cdcd00\">fragrant-forest-64</strong>: <a href=\"https://wandb.ai/ponkots/signate-471/runs/5wvzwu48\" target=\"_blank\">https://wandb.ai/ponkots/signate-471/runs/5wvzwu48</a><br/>\n",
              "                "
            ],
            "text/plain": [
              "<IPython.core.display.HTML object>"
            ]
          },
          "metadata": {}
        }
      ]
    },
    {
      "cell_type": "markdown",
      "metadata": {
        "id": "-scfhV4ueW4K"
      },
      "source": [
        "## Public LB"
      ]
    },
    {
      "cell_type": "code",
      "metadata": {
        "id": "jRNsH2CvA1He"
      },
      "source": [
        "RUN_PATH = \"\"\n",
        "LB_SCORE = None"
      ],
      "execution_count": 75,
      "outputs": []
    },
    {
      "cell_type": "code",
      "metadata": {
        "id": "AS7aRYF_eh7z"
      },
      "source": [
        "if LB_SCORE is not None:\n",
        "    import wandb\n",
        "    api = wandb.Api()\n",
        "\n",
        "    run = api.run(RUN_PATH)\n",
        "    run.summary[\"LB\"] = LB_SCORE\n",
        "    run.summary.update()"
      ],
      "execution_count": 76,
      "outputs": []
    },
    {
      "cell_type": "code",
      "metadata": {
        "id": "ANpuUeypNmLF"
      },
      "source": [
        ""
      ],
      "execution_count": 72,
      "outputs": []
    }
  ]
}