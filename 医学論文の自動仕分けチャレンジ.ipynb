{
  "nbformat": 4,
  "nbformat_minor": 0,
  "metadata": {
    "accelerator": "GPU",
    "colab": {
      "name": "医学論文の自動仕分けチャレンジ.ipynb",
      "provenance": [],
      "collapsed_sections": [],
      "toc_visible": true,
      "machine_shape": "hm",
      "include_colab_link": true
    },
    "kernelspec": {
      "display_name": "Python 3",
      "language": "python",
      "name": "python3"
    },
    "language_info": {
      "codemirror_mode": {
        "name": "ipython",
        "version": 3
      },
      "file_extension": ".py",
      "mimetype": "text/x-python",
      "name": "python",
      "nbconvert_exporter": "python",
      "pygments_lexer": "ipython3",
      "version": "3.6.4"
    },
    "widgets": {
      "application/vnd.jupyter.widget-state+json": {
        "d151a84ec29c42058824fa604e0236dc": {
          "model_module": "@jupyter-widgets/controls",
          "model_name": "VBoxModel",
          "model_module_version": "1.5.0",
          "state": {
            "_view_name": "VBoxView",
            "_dom_classes": [],
            "_model_name": "VBoxModel",
            "_view_module": "@jupyter-widgets/controls",
            "_model_module_version": "1.5.0",
            "_view_count": null,
            "_view_module_version": "1.5.0",
            "box_style": "",
            "layout": "IPY_MODEL_1e2a241a22c64045a2d8e4955bc5ff40",
            "_model_module": "@jupyter-widgets/controls",
            "children": [
              "IPY_MODEL_be3116b8e20f4b709830c0543a92cdd0",
              "IPY_MODEL_242229630ddf49a0a20dfd30306bfe56"
            ]
          }
        },
        "1e2a241a22c64045a2d8e4955bc5ff40": {
          "model_module": "@jupyter-widgets/base",
          "model_name": "LayoutModel",
          "model_module_version": "1.2.0",
          "state": {
            "_view_name": "LayoutView",
            "grid_template_rows": null,
            "right": null,
            "justify_content": null,
            "_view_module": "@jupyter-widgets/base",
            "overflow": null,
            "_model_module_version": "1.2.0",
            "_view_count": null,
            "flex_flow": null,
            "width": null,
            "min_width": null,
            "border": null,
            "align_items": null,
            "bottom": null,
            "_model_module": "@jupyter-widgets/base",
            "top": null,
            "grid_column": null,
            "overflow_y": null,
            "overflow_x": null,
            "grid_auto_flow": null,
            "grid_area": null,
            "grid_template_columns": null,
            "flex": null,
            "_model_name": "LayoutModel",
            "justify_items": null,
            "grid_row": null,
            "max_height": null,
            "align_content": null,
            "visibility": null,
            "align_self": null,
            "height": null,
            "min_height": null,
            "padding": null,
            "grid_auto_rows": null,
            "grid_gap": null,
            "max_width": null,
            "order": null,
            "_view_module_version": "1.2.0",
            "grid_template_areas": null,
            "object_position": null,
            "object_fit": null,
            "grid_auto_columns": null,
            "margin": null,
            "display": null,
            "left": null
          }
        },
        "be3116b8e20f4b709830c0543a92cdd0": {
          "model_module": "@jupyter-widgets/controls",
          "model_name": "LabelModel",
          "model_module_version": "1.5.0",
          "state": {
            "_view_name": "LabelView",
            "style": "IPY_MODEL_60f441c59c4c4dd294296bf68e328e56",
            "_dom_classes": [],
            "description": "",
            "_model_name": "LabelModel",
            "placeholder": "​",
            "_view_module": "@jupyter-widgets/controls",
            "_model_module_version": "1.5.0",
            "value": " 81.87MB of 81.87MB uploaded (0.42MB deduped)\r",
            "_view_count": null,
            "_view_module_version": "1.5.0",
            "description_tooltip": null,
            "_model_module": "@jupyter-widgets/controls",
            "layout": "IPY_MODEL_9df1fd333ad148a5b08f0f523c0502a0"
          }
        },
        "242229630ddf49a0a20dfd30306bfe56": {
          "model_module": "@jupyter-widgets/controls",
          "model_name": "FloatProgressModel",
          "model_module_version": "1.5.0",
          "state": {
            "_view_name": "ProgressView",
            "style": "IPY_MODEL_c5c637c7921a42e79b4b4b9e4646369d",
            "_dom_classes": [],
            "description": "",
            "_model_name": "FloatProgressModel",
            "bar_style": "",
            "max": 1,
            "_view_module": "@jupyter-widgets/controls",
            "_model_module_version": "1.5.0",
            "value": 1,
            "_view_count": null,
            "_view_module_version": "1.5.0",
            "orientation": "horizontal",
            "min": 0,
            "description_tooltip": null,
            "_model_module": "@jupyter-widgets/controls",
            "layout": "IPY_MODEL_7cfd8518713f4ad18e7aee63f241634c"
          }
        },
        "60f441c59c4c4dd294296bf68e328e56": {
          "model_module": "@jupyter-widgets/controls",
          "model_name": "DescriptionStyleModel",
          "model_module_version": "1.5.0",
          "state": {
            "_view_name": "StyleView",
            "_model_name": "DescriptionStyleModel",
            "description_width": "",
            "_view_module": "@jupyter-widgets/base",
            "_model_module_version": "1.5.0",
            "_view_count": null,
            "_view_module_version": "1.2.0",
            "_model_module": "@jupyter-widgets/controls"
          }
        },
        "9df1fd333ad148a5b08f0f523c0502a0": {
          "model_module": "@jupyter-widgets/base",
          "model_name": "LayoutModel",
          "model_module_version": "1.2.0",
          "state": {
            "_view_name": "LayoutView",
            "grid_template_rows": null,
            "right": null,
            "justify_content": null,
            "_view_module": "@jupyter-widgets/base",
            "overflow": null,
            "_model_module_version": "1.2.0",
            "_view_count": null,
            "flex_flow": null,
            "width": null,
            "min_width": null,
            "border": null,
            "align_items": null,
            "bottom": null,
            "_model_module": "@jupyter-widgets/base",
            "top": null,
            "grid_column": null,
            "overflow_y": null,
            "overflow_x": null,
            "grid_auto_flow": null,
            "grid_area": null,
            "grid_template_columns": null,
            "flex": null,
            "_model_name": "LayoutModel",
            "justify_items": null,
            "grid_row": null,
            "max_height": null,
            "align_content": null,
            "visibility": null,
            "align_self": null,
            "height": null,
            "min_height": null,
            "padding": null,
            "grid_auto_rows": null,
            "grid_gap": null,
            "max_width": null,
            "order": null,
            "_view_module_version": "1.2.0",
            "grid_template_areas": null,
            "object_position": null,
            "object_fit": null,
            "grid_auto_columns": null,
            "margin": null,
            "display": null,
            "left": null
          }
        },
        "c5c637c7921a42e79b4b4b9e4646369d": {
          "model_module": "@jupyter-widgets/controls",
          "model_name": "ProgressStyleModel",
          "model_module_version": "1.5.0",
          "state": {
            "_view_name": "StyleView",
            "_model_name": "ProgressStyleModel",
            "description_width": "",
            "_view_module": "@jupyter-widgets/base",
            "_model_module_version": "1.5.0",
            "_view_count": null,
            "_view_module_version": "1.2.0",
            "bar_color": null,
            "_model_module": "@jupyter-widgets/controls"
          }
        },
        "7cfd8518713f4ad18e7aee63f241634c": {
          "model_module": "@jupyter-widgets/base",
          "model_name": "LayoutModel",
          "model_module_version": "1.2.0",
          "state": {
            "_view_name": "LayoutView",
            "grid_template_rows": null,
            "right": null,
            "justify_content": null,
            "_view_module": "@jupyter-widgets/base",
            "overflow": null,
            "_model_module_version": "1.2.0",
            "_view_count": null,
            "flex_flow": null,
            "width": null,
            "min_width": null,
            "border": null,
            "align_items": null,
            "bottom": null,
            "_model_module": "@jupyter-widgets/base",
            "top": null,
            "grid_column": null,
            "overflow_y": null,
            "overflow_x": null,
            "grid_auto_flow": null,
            "grid_area": null,
            "grid_template_columns": null,
            "flex": null,
            "_model_name": "LayoutModel",
            "justify_items": null,
            "grid_row": null,
            "max_height": null,
            "align_content": null,
            "visibility": null,
            "align_self": null,
            "height": null,
            "min_height": null,
            "padding": null,
            "grid_auto_rows": null,
            "grid_gap": null,
            "max_width": null,
            "order": null,
            "_view_module_version": "1.2.0",
            "grid_template_areas": null,
            "object_position": null,
            "object_fit": null,
            "grid_auto_columns": null,
            "margin": null,
            "display": null,
            "left": null
          }
        }
      }
    }
  },
  "cells": [
    {
      "cell_type": "markdown",
      "metadata": {
        "id": "view-in-github",
        "colab_type": "text"
      },
      "source": [
        "<a href=\"https://colab.research.google.com/github/IMOKURI/signate-471/blob/main/%E5%8C%BB%E5%AD%A6%E8%AB%96%E6%96%87%E3%81%AE%E8%87%AA%E5%8B%95%E4%BB%95%E5%88%86%E3%81%91%E3%83%81%E3%83%A3%E3%83%AC%E3%83%B3%E3%82%B8.ipynb\" target=\"_parent\"><img src=\"https://colab.research.google.com/assets/colab-badge.svg\" alt=\"Open In Colab\"/></a>"
      ]
    },
    {
      "cell_type": "markdown",
      "metadata": {
        "id": "5e4660c1"
      },
      "source": [
        "# About this notebook ...\n",
        "\n",
        "competition site: https://signate.jp/competitions/471\n",
        "\n",
        "\n",
        "\n",
        "\n",
        "\n"
      ]
    },
    {
      "cell_type": "markdown",
      "metadata": {
        "id": "1Dhs2SIWJzKz"
      },
      "source": [
        "## ToDo\n",
        "\n",
        "- [ ] pre train のモデルの save と load\n",
        "- [ ] preprocess したデータの save と load (wandb)\n",
        "- [ ] optune の seed 固定 https://book-read-yoshi.hatenablog.com/entry/2021/03/22/lightgbm_optuna_deterministic\n",
        "\n",
        "### Idea\n",
        "\n",
        "- [x] [ラベル判定結果の誤りに関するお知らせ](https://signate.jp/competitions/471/discussions/20210816152356-59) をとりこむ \n",
        "- [x] 分類で推論、回帰で推論\n",
        "- [x] 回帰の場合の境界値の最適化\n",
        "    - [x] second stage で学習べきかも\n",
        "        - [ ] heamy という stacking のライブラリがある\n",
        "        - [ ] CNN で stacking がいいかもしれない https://tawara.hatenablog.com/entry/2020/12/16/132415\n",
        "            - 縦・横、チャネル数が、クラス数（１）・モデル数（ｎ）・１で、 1xn で畳み込む \n",
        "        - [x] lightGBM\n",
        "    - [ ] Nelder-Mead 法 という最適化手法を調べる\n",
        "- [ ] 最適な境界値はモデルによって異なるので、アンサンブルの時は、 vote ensemble がいいかもしれない\n",
        "- [x] アブストで事前学習して、タイトルでメイン学習 https://www.kaggle.com/maunish/clrp-pytorch-roberta-pretrain\n",
        "    - 事前学習は、Masked LM\n",
        "- [x] タイトルだけで学習・推論\n",
        "- [ ] タイトル + アブストで学習・推論\n",
        "    - [ ] タイトルだけで推論したのとアンサンブルができる\n",
        "    - [ ] Longformer がいいかもしれない `allenai/longformer-base-4096`\n",
        "    - [ ] large モデルためす\n",
        "- [ ] アブスト + タイトル で学習・推論\n",
        "- [ ] アブストが空 or not でモデルわける\n",
        "- [ ] アブストの max length 調整\n",
        "    - [ ] 途中で切る。デフォルトの 512 はありそう。ほとんどのアブストがその長さで収まる\n",
        "    - [ ] 要約する方法があるかなぁ\n",
        "- [x] dropout を 0 にする\n",
        "- [x] gradient cripping を 0.2 or 0.5 で試す\n",
        "- [ ] re-initialization\n",
        "    - This paper (https://arxiv.org/pdf/2006.05987.pdf) shows that fine-tuning with reinitialization last N layers works well.\n",
        "    - Different models have different optimal N. Almost models set N=4~5, gpt2-models set N=6.\n",
        "    - https://github.com/kurupical/commonlit/blob/8781139c8ed4cc59f7c7ac9d97c72c351ee91377/exp/exp502.py#L497\n",
        "- [ ] Pre trained なレイヤーのfreeze https://raphaelb.org/posts/freezing-bert/\n",
        "- [ ] Recall を伸ばすための loss function は考えられるか。 https://openreview.net/pdf?id=SlprFTIQP3\n",
        "    - [x] f1 score を微分可能にして、 loss 関数に使うアプローチ https://gist.github.com/SuperShinyEyes/dcc68a08ff8b615442e3bc6a9b55a354 https://towardsdatascience.com/the-unknown-benefits-of-using-a-soft-f1-loss-in-classification-systems-753902c0105d\n",
        "    - [ ] epoch ごとに beta の値を増やしていく epoch * 2 とか\n",
        "- [ ] 出現する単語のクラスタリング\n",
        "- [x] TF-IDF して、 リッジ回帰 → ベースライン2 でやった\n",
        "    - IF-IDF の結果もBERTの特徴量にできないだろうか\n",
        "    - https://www.kaggle.com/semyonkoshkarov/tf-idf-linearsvr-baseline も参考になるかも\n",
        "- [ ] 医療用語で事前学習されたモデルを使ってみる\n",
        "    - [x] BioBERT https://github.com/dmis-lab/biobert `dmis-lab/biobert-base-cased-v1.1` 286k downloads\n",
        "        - [ ] large モデル試す\n",
        "    - [ ] Med-BERT https://github.com/ZhiGroup/Med-BERT\n",
        "        - 診断精度に貢献しているかもしれない(いや、一般的な話だったｗ) https://www.nature.com/articles/s41746-021-00455-y\n",
        "    - [x] `microsoft/BiomedNLP-PubMedBERT-base-uncased-abstract-fulltext` 30.8k downloads https://www.axion.zone/microsoft-researchers-claim-state-of-the-art-biomedical-nlp-model/\n",
        "    - [x] `bionlp/bluebert_pubmed_uncased_L-12_H-768_A-12` 4.3k downloads https://github.com/ncbi-nlp/bluebert\n",
        "        - [ ] large モデル試す\n",
        "    - [x] `emilyalsentzer/Bio_ClinicalBERT` https://huggingface.co/emilyalsentzer/Bio_ClinicalBERT\n",
        "    - [ ] `emilyalsentzer/Bio_Discharge_Summary_BERT` https://huggingface.co/emilyalsentzer/Bio_Discharge_Summary_BERT\n",
        "    - [x] `lordtt13/COVID-SciBERT` https://huggingface.co/lordtt13/COVID-SciBERT\n",
        "    - [x] `allenai/scibert_scivocab_uncased` https://huggingface.co/allenai/scibert_scivocab_uncased\n",
        "- [ ] Augmentation https://neptune.ai/blog/data-augmentation-nlp\n",
        "    - [ ] Back translation: 他言語に翻訳して、もう一回翻訳する（英語→フランス語→英語） https://qiita.com/nena0undefined/items/c2926bad07039e5540ab\n",
        "        - [ ] ラベル 1 のだけやって、学習データに追加する\n",
        "    - [ ] Synonym Replacement: 単語のいくつかを、同じ意味の別の単語に置き換える\n",
        "        - [ ] 自然言語の augmentation ができるライブラリ https://github.com/makcedward/nlpaug\n",
        "- [ ] TTA\n",
        "- [ ] ベースラインのシンプルさを取り戻す。(思ったよりベースラインのスコアが良かったので、それを取り込む・・・）\n",
        "    - [ ] weight decay を調整 0.01 or 0\n",
        "\n",
        "\n",
        "### Experiments\n",
        "\n",
        "- BERT でアブストの　pre train をしてもスコアは上がっていない（学習の方法を工夫した方がよいかも）\n",
        "- BERT Large は title の学習には大きすぎて？ loss が Base モデルに及ばない。\n",
        "- epoch 3 で val loss が下がらないので、 epoch 3 で aug かけるとかありかもしれない\n",
        "- `dmis-lab/biobert-base-cased-v1.1` と `bionlp/bluebert_pubmed_uncased_L-12_H-768_A-12` の成績がよい\n"
      ]
    },
    {
      "cell_type": "markdown",
      "metadata": {
        "id": "68842c71"
      },
      "source": [
        "## Prepare for Colab"
      ]
    },
    {
      "cell_type": "code",
      "metadata": {
        "colab": {
          "base_uri": "https://localhost:8080/"
        },
        "id": "14137a0f",
        "outputId": "3398955a-4e77-4e98-e3b9-75fc49014550"
      },
      "source": [
        "!nvidia-smi"
      ],
      "execution_count": 1,
      "outputs": [
        {
          "output_type": "stream",
          "name": "stdout",
          "text": [
            "Sun Sep  5 00:32:36 2021       \n",
            "+-----------------------------------------------------------------------------+\n",
            "| NVIDIA-SMI 470.63.01    Driver Version: 460.32.03    CUDA Version: 11.2     |\n",
            "|-------------------------------+----------------------+----------------------+\n",
            "| GPU  Name        Persistence-M| Bus-Id        Disp.A | Volatile Uncorr. ECC |\n",
            "| Fan  Temp  Perf  Pwr:Usage/Cap|         Memory-Usage | GPU-Util  Compute M. |\n",
            "|                               |                      |               MIG M. |\n",
            "|===============================+======================+======================|\n",
            "|   0  Tesla V100-SXM2...  Off  | 00000000:00:04.0 Off |                    0 |\n",
            "| N/A   32C    P0    24W / 300W |      0MiB / 16160MiB |      0%      Default |\n",
            "|                               |                      |                  N/A |\n",
            "+-------------------------------+----------------------+----------------------+\n",
            "                                                                               \n",
            "+-----------------------------------------------------------------------------+\n",
            "| Processes:                                                                  |\n",
            "|  GPU   GI   CI        PID   Type   Process name                  GPU Memory |\n",
            "|        ID   ID                                                   Usage      |\n",
            "|=============================================================================|\n",
            "|  No running processes found                                                 |\n",
            "+-----------------------------------------------------------------------------+\n"
          ]
        }
      ]
    },
    {
      "cell_type": "code",
      "metadata": {
        "colab": {
          "base_uri": "https://localhost:8080/"
        },
        "id": "4871daf1",
        "outputId": "0295f008-2f71-4ad0-8cb9-e5865b13d7f6"
      },
      "source": [
        "import os\n",
        "import sys\n",
        "\n",
        "if os.path.exists('init.txt'):\n",
        "    print(\"Already initialized.\")\n",
        "\n",
        "else:\n",
        "    if 'google.colab' in sys.modules:\n",
        "        from google.colab import drive\n",
        "        drive.mount('/content/drive')\n",
        "\n",
        "        !cp /content/drive/MyDrive/Datasets/signate-471/train.csv .\n",
        "        !cp /content/drive/MyDrive/Datasets/signate-471/test.csv .\n",
        "        !cp /content/drive/MyDrive/Datasets/signate-471/sample_submit.csv .\n",
        "\n",
        "    # for StratifiedGroupKFold\n",
        "    # !pip uninstall -y scikit-learn\n",
        "    # !pip install --pre --extra-index https://pypi.anaconda.org/scipy-wheels-nightly/simple scikit-learn\n",
        "\n",
        "    # for MultilabelStratifiedKFold\n",
        "    !pip install -q iterative-stratification\n",
        "\n",
        "    # !pip install -qU 'git+https://github.com/katsura-jp/pytorch-cosine-annealing-with-warmup'\n",
        "\n",
        "    !pip install -q wandb\n",
        "    !pip install -q optuna\n",
        "\n",
        "    !pip install -q transformers\n",
        "    !pip install -q textstat\n",
        "    !pip install -q nlpaug\n",
        "\n",
        "    # https://qiita.com/_yushuu/items/83c51e29771530646659\n",
        "    # !pip install -q googletrans==4.0.0-rc1\n",
        "\n",
        "    !touch init.txt"
      ],
      "execution_count": 2,
      "outputs": [
        {
          "output_type": "stream",
          "name": "stdout",
          "text": [
            "Already initialized.\n"
          ]
        }
      ]
    },
    {
      "cell_type": "code",
      "metadata": {
        "colab": {
          "base_uri": "https://localhost:8080/"
        },
        "id": "FkZ4bEVgUxxa",
        "outputId": "bd59792f-d90f-4c9c-9032-259c73d9078c"
      },
      "source": [
        "# Install_LightGBM_with_GPU\n",
        "\n",
        "if os.path.exists('init_lightgbm.txt'):\n",
        "    print(\"Already initialized.\")\n",
        "\n",
        "else:\n",
        "    ! git clone --recursive https://github.com/Microsoft/LightGBM\n",
        "\n",
        "    %cd /content/LightGBM\n",
        "    ! mkdir -p build\n",
        "\n",
        "    %cd build\n",
        "    ! cmake -DUSE_GPU=1 /content/LightGBM\n",
        "    ! make -j$(nproc)\n",
        "    ! sudo apt-get -y install python-pip\n",
        "    ! sudo -H pip install setuptools numpy scipy scikit-learn -U\n",
        "    ! sudo -H pip install pandas==1.3.0\n",
        "\n",
        "    %cd /content/LightGBM/python-package\n",
        "    ! sudo python setup.py install --precompile\n",
        "\n",
        "    %cd /content/\n",
        "\n",
        "    !touch init_lightgbm.txt"
      ],
      "execution_count": 3,
      "outputs": [
        {
          "output_type": "stream",
          "name": "stdout",
          "text": [
            "Already initialized.\n"
          ]
        }
      ]
    },
    {
      "cell_type": "markdown",
      "metadata": {
        "id": "c39b7222"
      },
      "source": [
        "## Library"
      ]
    },
    {
      "cell_type": "code",
      "metadata": {
        "id": "f63096cb"
      },
      "source": [
        "import glob\n",
        "import json\n",
        "import math\n",
        "import os\n",
        "import random\n",
        "import re\n",
        "import time\n",
        "import warnings\n",
        "from contextlib import contextmanager\n",
        "\n",
        "# import lightgbm as lgb\n",
        "# import optuna.integration.lightgbm as lgb\n",
        "import matplotlib.pyplot as plt\n",
        "import nlpaug.augmenter.word as naw\n",
        "import nlpaug.augmenter.sentence as nas\n",
        "import nltk\n",
        "import numpy as np\n",
        "import pandas as pd\n",
        "import scipy as sp\n",
        "import seaborn as sns\n",
        "import textstat\n",
        "import torch\n",
        "import torch.nn as nn\n",
        "import torch.nn.functional as F\n",
        "import transformers as T\n",
        "import wandb\n",
        "# from cosine_annealing_warmup import CosineAnnealingWarmupRestarts\n",
        "# from googletrans import Translator\n",
        "from iterstrat.ml_stratifiers import MultilabelStratifiedKFold\n",
        "from sklearn.metrics import mean_squared_error, fbeta_score\n",
        "from sklearn.model_selection import KFold, StratifiedKFold  # , StratifiedGroupKFold\n",
        "from torch.optim import SGD, Adam  # , AdamW\n",
        "from torch.optim.lr_scheduler import CosineAnnealingLR, CosineAnnealingWarmRestarts, ReduceLROnPlateau\n",
        "from torch.utils.data import DataLoader, Dataset\n",
        "from tqdm.notebook import tqdm\n"
      ],
      "execution_count": 4,
      "outputs": []
    },
    {
      "cell_type": "code",
      "metadata": {
        "id": "c830faec"
      },
      "source": [
        "warnings.filterwarnings(\"ignore\")"
      ],
      "execution_count": 5,
      "outputs": []
    },
    {
      "cell_type": "code",
      "metadata": {
        "id": "16eb8ed5"
      },
      "source": [
        "device = torch.device(\"cuda\" if torch.cuda.is_available() else \"cpu\")"
      ],
      "execution_count": 6,
      "outputs": []
    },
    {
      "cell_type": "code",
      "metadata": {
        "colab": {
          "base_uri": "https://localhost:8080/"
        },
        "id": "3cZeQJ7Xw7d8",
        "outputId": "5dd7a127-39a6-4f87-bec7-0426909d79a7"
      },
      "source": [
        "nltk.download('stopwords')\n",
        "nltk.download('punkt')\n",
        "nltk.download('wordnet')\n",
        "nltk.download('averaged_perceptron_tagger')"
      ],
      "execution_count": 7,
      "outputs": [
        {
          "output_type": "stream",
          "name": "stdout",
          "text": [
            "[nltk_data] Downloading package stopwords to /root/nltk_data...\n",
            "[nltk_data]   Package stopwords is already up-to-date!\n",
            "[nltk_data] Downloading package punkt to /root/nltk_data...\n",
            "[nltk_data]   Package punkt is already up-to-date!\n",
            "[nltk_data] Downloading package wordnet to /root/nltk_data...\n",
            "[nltk_data]   Package wordnet is already up-to-date!\n",
            "[nltk_data] Downloading package averaged_perceptron_tagger to\n",
            "[nltk_data]     /root/nltk_data...\n",
            "[nltk_data]   Package averaged_perceptron_tagger is already up-to-\n",
            "[nltk_data]       date!\n"
          ]
        },
        {
          "output_type": "execute_result",
          "data": {
            "text/plain": [
              "True"
            ]
          },
          "metadata": {},
          "execution_count": 7
        }
      ]
    },
    {
      "cell_type": "code",
      "metadata": {
        "colab": {
          "base_uri": "https://localhost:8080/"
        },
        "id": "7cc53e8c",
        "outputId": "733e5b05-02c4-4b35-c716-73a0150d1ce7"
      },
      "source": [
        "netrc = \"../input/wandbtoken/.netrc\"\n",
        "\n",
        "if 'google.colab' in sys.modules:\n",
        "    netrc = \"/content/drive/MyDrive/.netrc\"\n",
        "\n",
        "!cp -f {netrc} ~/\n",
        "\n",
        "!wandb login"
      ],
      "execution_count": 8,
      "outputs": [
        {
          "output_type": "stream",
          "name": "stdout",
          "text": [
            "\u001b[34m\u001b[1mwandb\u001b[0m: Currently logged in as: \u001b[33mimokuri\u001b[0m (use `wandb login --relogin` to force relogin)\n"
          ]
        }
      ]
    },
    {
      "cell_type": "code",
      "metadata": {
        "id": "fB5QkUQJq_6U"
      },
      "source": [
        "wandb_job_type = \"\"\n",
        "wandb_notes = \"\"\n",
        "wandb_tags = []"
      ],
      "execution_count": 9,
      "outputs": []
    },
    {
      "cell_type": "markdown",
      "metadata": {
        "id": "71d9ccbd"
      },
      "source": [
        "## Load Data"
      ]
    },
    {
      "cell_type": "code",
      "metadata": {
        "id": "4a62a05f"
      },
      "source": [
        "DATA_DIR = \"../input/signate-471/\"\n",
        "OUTPUT_DIR = \"./\"\n",
        "\n",
        "if 'google.colab' in sys.modules:\n",
        "    DATA_DIR = \"./\"\n",
        "\n",
        "if not os.path.exists(OUTPUT_DIR):\n",
        "    os.makedirs(OUTPUT_DIR)"
      ],
      "execution_count": 10,
      "outputs": []
    },
    {
      "cell_type": "code",
      "metadata": {
        "id": "26350797"
      },
      "source": [
        "train = pd.read_csv(DATA_DIR + \"train.csv\")\n",
        "test = pd.read_csv(DATA_DIR + \"test.csv\")\n",
        "sub = pd.read_csv(DATA_DIR + \"sample_submit.csv\", header=None)\n",
        "sub.columns = [\"id\", \"judgement\"]"
      ],
      "execution_count": 11,
      "outputs": []
    },
    {
      "cell_type": "markdown",
      "metadata": {
        "id": "b7ef06f8"
      },
      "source": [
        "## Config"
      ]
    },
    {
      "cell_type": "code",
      "metadata": {
        "id": "c0177571"
      },
      "source": [
        "class Config:\n",
        "    wandb_entity = \"ponkots\"\n",
        "    wandb_project = \"signate-471\"\n",
        "    print_freq = 100\n",
        "\n",
        "    pre_train = False\n",
        "    train = False\n",
        "    validate = False\n",
        "    inference = False\n",
        "    stack = True\n",
        "    stack_optuna = True\n",
        "\n",
        "    debug = False\n",
        "    multi_gpu = False\n",
        "    apex = False\n"
      ],
      "execution_count": 12,
      "outputs": []
    },
    {
      "cell_type": "code",
      "metadata": {
        "id": "jxS_DM-WpMv8"
      },
      "source": [
        "if Config.stack_optuna:\n",
        "    import optuna.integration.lightgbm as lgb\n",
        "else:\n",
        "    import lightgbm as lgb"
      ],
      "execution_count": 13,
      "outputs": []
    },
    {
      "cell_type": "code",
      "metadata": {
        "id": "0a195fe0"
      },
      "source": [
        "if Config.pre_train:\n",
        "    wandb_job_type = \"pre_training\"\n",
        "\n",
        "elif Config.train:\n",
        "    wandb_job_type = \"training\"\n",
        "\n",
        "elif Config.inference:\n",
        "    wandb_job_type = \"inference\"\n",
        "\n",
        "elif Config.validate:\n",
        "    wandb_job_type = \"validation\"\n",
        "\n",
        "elif Config.stack:\n",
        "    wandb_job_type = \"stacking\""
      ],
      "execution_count": 14,
      "outputs": []
    },
    {
      "cell_type": "code",
      "metadata": {
        "id": "ccb61787"
      },
      "source": [
        "if Config.apex:\n",
        "    from apex import amp"
      ],
      "execution_count": 15,
      "outputs": []
    },
    {
      "cell_type": "code",
      "metadata": {
        "colab": {
          "base_uri": "https://localhost:8080/"
        },
        "id": "fWDHvHvNxoD3",
        "outputId": "942bf76e-2a03-4634-fbcf-f19de1a2027a"
      },
      "source": [
        "# seed = random.randrange(10000)\n",
        "seed = 440\n",
        "\n",
        "print(seed)"
      ],
      "execution_count": 16,
      "outputs": [
        {
          "output_type": "stream",
          "name": "stdout",
          "text": [
            "440\n"
          ]
        }
      ]
    },
    {
      "cell_type": "code",
      "metadata": {
        "id": "daf057a9"
      },
      "source": [
        "config_defaults = {\n",
        "    \"seed\": seed,\n",
        "    \"input\": \"title_abstract\",\n",
        "    \"max_len\": 512,\n",
        "    \"border\": \"minimize\",\n",
        "    \"n_class\": 1,\n",
        "    \"n_fold\": 5,\n",
        "    \"gradient_accumulation_steps\": 2,\n",
        "    \"max_grad_norm\": 1000,\n",
        "    \"num_workers\": 4,\n",
        "    \"batch_size\": 12,\n",
        "    \"epochs\": 3,\n",
        "    \"optimizer\": \"BertAdamW\",\n",
        "    \"scheduler\": \"get_cosine_schedule_with_warmup\",\n",
        "    \"criterion\": \"BCEWithLogitsLoss\",  # \"FBetaLoss\",  # \"BCEWithLogitsLoss\",\n",
        "    \"lr\": 2e-5,\n",
        "    \"min_lr\": 1e-5,\n",
        "    \"weight_decay\": 0.01,\n",
        "    \"dropout\": 0.1,\n",
        "    \"model_name\": \"\",\n",
        "    \"reinit_layers\": 0,\n",
        "    \"freeze_layers\": 0,\n",
        "    \"best\": \"loss\",  # \"score\",\n",
        "    \"inference_runs\": [\n",
        "        \"3rnktuhs\",\n",
        "        \"pnhvuu65\",\n",
        "    ],\n",
        "}"
      ],
      "execution_count": 17,
      "outputs": []
    },
    {
      "cell_type": "code",
      "metadata": {
        "id": "WFOA0aiExa5R"
      },
      "source": [
        "if Config.stack:\n",
        "    config_stack = {\n",
        "        \"objective\": \"binary\" if config_defaults[\"n_class\"] == 1 else \"multiclass\",\n",
        "        \"criterion\": \"binary_logloss\" if config_defaults[\"n_class\"] == 1 else \"multi_logloss\",\n",
        "    }\n",
        "    config_defaults.update(config_stack)\n",
        "\n",
        "    if not Config.stack_optuna:\n",
        "        config_stack_manual = {\n",
        "            \"lr\": 0.01,\n",
        "            \"max_depth\": 7,\n",
        "            \"num_leaves\": 31,\n",
        "            \"min_data_in_leaf\": 20,\n",
        "            \"dropout\": 0.1,\n",
        "        }\n",
        "        config_defaults.update(config_stack_manual)\n"
      ],
      "execution_count": 18,
      "outputs": []
    },
    {
      "cell_type": "code",
      "metadata": {
        "id": "VUQbknvvbZR5"
      },
      "source": [
        "if not (Config.validate or Config.inference or Config.stack):\n",
        "    config_defaults[\"inference_runs\"] = []"
      ],
      "execution_count": 19,
      "outputs": []
    },
    {
      "cell_type": "code",
      "metadata": {
        "id": "fd440361"
      },
      "source": [
        "if Config.debug:\n",
        "    config_defaults[\"epochs\"] = 1\n",
        "    Config.print_freq = 10"
      ],
      "execution_count": 20,
      "outputs": []
    },
    {
      "cell_type": "code",
      "metadata": {
        "id": "HgjHEBuwETmp"
      },
      "source": [
        "if config_defaults[\"optimizer\"] == \"BertAdamW\":\n",
        "    config_defaults[\"lr_69\"] = 5e-5\n",
        "    config_defaults[\"lr_133\"] = 1e-4"
      ],
      "execution_count": 21,
      "outputs": []
    },
    {
      "cell_type": "code",
      "metadata": {
        "colab": {
          "base_uri": "https://localhost:8080/"
        },
        "id": "b5a710ed",
        "outputId": "f0adee27-56a7-4635-dd64-474aace1c01e"
      },
      "source": [
        "# Update by epoch\n",
        "# num_steps = config_defaults[\"epochs\"]\n",
        "\n",
        "# Update by batch\n",
        "num_data = 1000 if Config.debug else len(train)\n",
        "num_steps = num_data // config_defaults[\"n_fold\"] * (config_defaults[\"n_fold\"] - 1) // config_defaults[\"batch_size\"] // config_defaults[\"gradient_accumulation_steps\"] * config_defaults[\"epochs\"]\n",
        "\n",
        "print(num_steps)\n",
        "\n",
        "if config_defaults[\"scheduler\"] == \"CosineAnnealingWarmRestarts\":\n",
        "    config_defaults[\"T_0\"] = num_steps\n",
        "\n",
        "elif config_defaults[\"scheduler\"] == \"CosineAnnealingLR\":\n",
        "    config_defaults[\"T_max\"] = num_steps\n",
        "\n",
        "elif config_defaults[\"scheduler\"] == \"ReduceLROnPlateau\":\n",
        "    config_defaults[\"factor\"] = 0.2\n",
        "    config_defaults[\"patience\"] = 4\n",
        "    config_defaults[\"eps\"] = 1e-6\n",
        "\n",
        "elif config_defaults[\"scheduler\"] == \"CosineAnnealingWarmupRestarts\":\n",
        "    config_defaults[\"first_cycle_steps\"] = num_steps\n",
        "    config_defaults[\"warmup_steps\"] = num_steps // 10\n",
        "\n",
        "elif config_defaults[\"scheduler\"] == \"get_cosine_schedule_with_warmup\":\n",
        "    config_defaults[\"num_training_steps\"] = num_steps\n",
        "    config_defaults[\"num_warmup_steps\"] = max(50, num_steps // 10)"
      ],
      "execution_count": 22,
      "outputs": [
        {
          "output_type": "stream",
          "name": "stdout",
          "text": [
            "2712\n"
          ]
        }
      ]
    },
    {
      "cell_type": "code",
      "metadata": {
        "colab": {
          "base_uri": "https://localhost:8080/",
          "height": 136
        },
        "id": "a6a78770",
        "outputId": "75146e09-c30a-425f-a0f3-bbcf648726dd"
      },
      "source": [
        "if Config.debug:\n",
        "    run = wandb.init(entity=Config.wandb_entity, project=Config.wandb_project, config=config_defaults, mode=\"disabled\")\n",
        "else:\n",
        "    run = wandb.init(entity=Config.wandb_entity, project=Config.wandb_project, config=config_defaults, notes=wandb_notes, tags=wandb_tags, job_type=wandb_job_type, save_code=True)"
      ],
      "execution_count": 23,
      "outputs": [
        {
          "output_type": "stream",
          "name": "stderr",
          "text": [
            "\u001b[34m\u001b[1mwandb\u001b[0m: Currently logged in as: \u001b[33mimokuri\u001b[0m (use `wandb login --relogin` to force relogin)\n"
          ]
        },
        {
          "output_type": "display_data",
          "data": {
            "text/html": [
              "\n",
              "                Tracking run with wandb version 0.12.1<br/>\n",
              "                Syncing run <strong style=\"color:#cdcd00\">magic-lake-72</strong> to <a href=\"https://wandb.ai\" target=\"_blank\">Weights & Biases</a> <a href=\"https://docs.wandb.com/integrations/jupyter.html\" target=\"_blank\">(Documentation)</a>.<br/>\n",
              "                Project page: <a href=\"https://wandb.ai/ponkots/signate-471\" target=\"_blank\">https://wandb.ai/ponkots/signate-471</a><br/>\n",
              "                Run page: <a href=\"https://wandb.ai/ponkots/signate-471/runs/xz39tr40\" target=\"_blank\">https://wandb.ai/ponkots/signate-471/runs/xz39tr40</a><br/>\n",
              "                Run data is saved locally in <code>/content/wandb/run-20210905_003246-xz39tr40</code><br/><br/>\n",
              "            "
            ],
            "text/plain": [
              "<IPython.core.display.HTML object>"
            ]
          },
          "metadata": {}
        }
      ]
    },
    {
      "cell_type": "code",
      "metadata": {
        "id": "2408ee43"
      },
      "source": [
        "config = wandb.config"
      ],
      "execution_count": 24,
      "outputs": []
    },
    {
      "cell_type": "markdown",
      "metadata": {
        "id": "ezOfV_OKnV2I"
      },
      "source": [
        "## EDA-1"
      ]
    },
    {
      "cell_type": "code",
      "metadata": {
        "colab": {
          "base_uri": "https://localhost:8080/"
        },
        "id": "e1C7cU7ka70h",
        "outputId": "0b7e3c8c-2926-49f2-a1e0-099fd8060198"
      },
      "source": [
        "# アブストが空っぽのが結構ある\n",
        "print(train.isnull().sum())\n",
        "print(test.isnull().sum())"
      ],
      "execution_count": 25,
      "outputs": [
        {
          "output_type": "stream",
          "name": "stdout",
          "text": [
            "id              0\n",
            "title           0\n",
            "abstract     4390\n",
            "judgement       0\n",
            "dtype: int64\n",
            "id             0\n",
            "title          0\n",
            "abstract    6546\n",
            "dtype: int64\n"
          ]
        }
      ]
    },
    {
      "cell_type": "markdown",
      "metadata": {
        "id": "N4fTaf66DiXj"
      },
      "source": [
        "## Preprocessing"
      ]
    },
    {
      "cell_type": "code",
      "metadata": {
        "id": "iuuU17phnFMz"
      },
      "source": [
        "def preprocess(data):\n",
        "    \n",
        "    title_abstract = []\n",
        "    for e in data:\n",
        "\n",
        "        # アルファベット以外は空白に置換します。\n",
        "        e = re.sub(\"[^a-zA-Z]\", \" \", e)\n",
        "\n",
        "        # 小文字に変換します。\n",
        "        e = e.lower()\n",
        "\n",
        "        # token に分割します。\n",
        "        e = nltk.word_tokenize(e)\n",
        "\n",
        "        # stop word を削除します。\n",
        "        e = [word for word in e if not word in set(nltk.corpus.stopwords.words(\"english\"))]\n",
        "\n",
        "        # 見出し語化します。\n",
        "        lemma = nltk.WordNetLemmatizer()\n",
        "        e = [lemma.lemmatize(word) for word in e]\n",
        "        e = \" \".join(e)\n",
        "\n",
        "        title_abstract.append(e)\n",
        "\n",
        "    return title_abstract"
      ],
      "execution_count": 26,
      "outputs": []
    },
    {
      "cell_type": "code",
      "metadata": {
        "id": "FM-NHL8HLzOc"
      },
      "source": [
        "def back_translation_de(data):\n",
        "    print(\"Back Translation (en -> de -> en)\")\n",
        "    title_abstract = []\n",
        "    back_translation_aug = naw.BackTranslationAug(\n",
        "        from_model_name='facebook/wmt19-en-de', \n",
        "        to_model_name='facebook/wmt19-de-en'\n",
        "    )\n",
        "\n",
        "    for e in tqdm(data, total=len(data)):\n",
        "        try:\n",
        "            title_abstract.append(back_translation_aug.augment(e))\n",
        "        except Exception as e:\n",
        "            print(e)\n",
        "            title_abstract.append(e)\n",
        "\n",
        "    return title_abstract"
      ],
      "execution_count": 27,
      "outputs": []
    },
    {
      "cell_type": "code",
      "metadata": {
        "id": "TBV7kf3uWECm"
      },
      "source": [
        "def synonym_augmenter(data):\n",
        "    print(\"Synonym Augmenter\")\n",
        "    title_abstract = []\n",
        "    aug = naw.SynonymAug(aug_src='wordnet')\n",
        "\n",
        "    for e in tqdm(data, total=len(data)):\n",
        "        try:\n",
        "            title_abstract.append(aug.augment(e))\n",
        "        except Exception as e:\n",
        "            print(e)\n",
        "            title_abstract.append(e)\n",
        "\n",
        "    return title_abstract"
      ],
      "execution_count": 28,
      "outputs": []
    },
    {
      "cell_type": "code",
      "metadata": {
        "id": "bQCGtu9kbatB"
      },
      "source": [
        "def abstractive_summarization_augmenter(text):\n",
        "    print(\"Abstractive Summarization Augmenter\")\n",
        "    aug = nas.AbstSummAug(model_path='t5-base', max_length=config.max_len, device='cuda')\n",
        "    try:\n",
        "        return aug.augment(text)\n",
        "    except Exception as e:\n",
        "        print(f\"{e} ... {text}\")\n",
        "        return text"
      ],
      "execution_count": 29,
      "outputs": []
    },
    {
      "cell_type": "code",
      "metadata": {
        "id": "ylcVBT02nIGZ"
      },
      "source": [
        "def get_train_data(train):\n",
        "\n",
        "    # NaN を空白で埋めます。\n",
        "    train = train.fillna(\"\")\n",
        "\n",
        "    # judgement を one hot encoding\n",
        "    # train[\"judgement_str\"] = train[\"judgement\"].astype(str)\n",
        "    # train = pd.get_dummies(train, columns=[\"judgement_str\"], prefix=[\"judgement\"])\n",
        "\n",
        "    # abstract の有無を Stratified KFold で使います。\n",
        "    train[\"nan_abstract\"] = np.where(train[\"abstract\"] == \"\", 1, 0)\n",
        "\n",
        "    # title の単語数\n",
        "    # train[\"len_title\"] = train[\"title\"].apply(lambda x: len(x.split()))\n",
        "\n",
        "    # abstract の単語数\n",
        "    # train[\"len_abstract\"] = train[\"abstract\"].apply(lambda x: len(x.split()))\n",
        "\n",
        "    # title と abstract を接続します。\n",
        "    train[\"title_abstract\"] = train[[\"title\", \"abstract\"]].agg(\" \".join, axis=1)\n",
        "    # train[\"abstract_title\"] = train[[\"abstract\", \"title\"]].agg(\" \".join, axis=1)\n",
        "\n",
        "    # Back Translation (en -> de -> en)\n",
        "    #train_bt_de = train[train[\"judgement\"] == 1].copy()\n",
        "    #train_bt_de[\"title_abstract\"] = back_translation_de(train_bt_de[\"title_abstract\"])\n",
        "\n",
        "    # Synonym Augmenter\n",
        "    #train_sa = train[train[\"judgement\"] == 1].copy()\n",
        "    #train_sa[\"title_abstract\"] = synonym_augmenter(train_sa[\"title_abstract\"])\n",
        "\n",
        "    #train = pd.concat([train, train_bt_de, train_sa], axis=0)\n",
        "\n",
        "    train[\"len_input\"] = train[config.input].apply(lambda x: len(x.split()))\n",
        "\n",
        "    # Abstractive Summarization Augmenter\n",
        "    #train.loc[train['len_input'] > config.max_len, config.input] = train.loc[train['len_input'] > config.max_len, config.input].apply(abstractive_summarization_augmenter)\n",
        "    #train[\"len_input\"] = train[config.input].apply(lambda x: len(x.split()))\n",
        "\n",
        "\n",
        "    # train[\"preprocessed_title_abstract\"] = preprocess(train[\"title_abstract\"])\n",
        "\n",
        "    # 前処理した文の単語数\n",
        "    # train[\"len_preprocessed_title_abstract\"] = train[\"preprocessed_title_abstract\"].apply(lambda x: len(x.split()))\n",
        "\n",
        "    return train"
      ],
      "execution_count": 30,
      "outputs": []
    },
    {
      "cell_type": "code",
      "metadata": {
        "id": "6YskezxynKkm"
      },
      "source": [
        "def get_test_data(test):\n",
        "\n",
        "    # NaN を空白で埋めます。\n",
        "    test = test.fillna(\"\")\n",
        "\n",
        "    # title の単語数\n",
        "    # test[\"len_title\"] = test[\"title\"].apply(lambda x: len(x.split()))\n",
        "\n",
        "    # abstract の単語数\n",
        "    # test[\"len_abstract\"] = test[\"abstract\"].apply(lambda x: len(x.split()))\n",
        "\n",
        "    # title と abstract を接続します。\n",
        "    test[\"title_abstract\"] = test[[\"title\", \"abstract\"]].agg(\" \".join, axis=1)\n",
        "    # test[\"abstract_title\"] = test[[\"abstract\", \"title\"]].agg(\" \".join, axis=1)\n",
        "\n",
        "    test[\"len_input\"] = test[config.input].apply(lambda x: len(x.split()))\n",
        "\n",
        "    # Abstractive Summarization Augmenter\n",
        "    #test.loc[test['len_input'] > config.max_len, config.input] = test.loc[test['len_input'] > config.max_len, config.input].apply(abstractive_summarization_augmenter)\n",
        "    #test[\"len_input\"] = test[config.input].apply(lambda x: len(x.split()))\n",
        "\n",
        "\n",
        "    # test[\"preprocessed_title_abstract\"] = preprocess(test[\"title_abstract\"])\n",
        "\n",
        "    # 前処理した文の単語数\n",
        "    # test[\"len_preprocessed_title_abstract\"] = test[\"preprocessed_title_abstract\"].apply(lambda x: len(x.split()))\n",
        "\n",
        "    return test"
      ],
      "execution_count": 31,
      "outputs": []
    },
    {
      "cell_type": "code",
      "metadata": {
        "id": "M_0CPmvZnQFP"
      },
      "source": [
        "if os.path.exists(\"/content/drive/MyDrive/Datasets/signate-471/preprocessed_train.csv\"):\n",
        "    !cp -f /content/drive/MyDrive/Datasets/signate-471/preprocessed_train.csv .\n",
        "    train = pd.read_csv(\"preprocessed_train.csv\")\n",
        "\n",
        "    # csv を再読み込みすると NaN に戻ってしまうので、再度変換します。\n",
        "    train = train.fillna(\"\")\n",
        "\n",
        "else:\n",
        "    # 一度、前処理したものは保存しておきます。\n",
        "    train = get_train_data(train)\n",
        "    train.to_csv(\"preprocessed_train.csv\")\n",
        "\n",
        "    # artifact = wandb.Artifact('preprocessed_train', type='dataset')\n",
        "    # artifact.add_file(\"preprocessed_train.csv\")\n",
        "    # run.log_artifact(artifact)\n",
        "\n",
        "    !cp -f preprocessed_train.csv /content/drive/MyDrive/Datasets/signate-471/"
      ],
      "execution_count": 32,
      "outputs": []
    },
    {
      "cell_type": "code",
      "metadata": {
        "id": "A248D057nSd6"
      },
      "source": [
        "if os.path.exists(\"/content/drive/MyDrive/Datasets/signate-471/preprocessed_test.csv\"):\n",
        "    !cp -f /content/drive/MyDrive/Datasets/signate-471/preprocessed_test.csv .\n",
        "    test = pd.read_csv(\"preprocessed_test.csv\")\n",
        "\n",
        "    # csv を再読み込みすると NaN に戻ってしまうので、再度変換します。\n",
        "    test = test.fillna(\"\")\n",
        "\n",
        "else:\n",
        "    # 一度、前処理したものは保存しておきます。\n",
        "    test = get_test_data(test)\n",
        "    test.to_csv(\"preprocessed_test.csv\")\n",
        "\n",
        "    # artifact = wandb.Artifact('preprocessed_test', type='dataset')\n",
        "    # artifact.add_file(\"preprocessed_test.csv\")\n",
        "    # run.log_artifact(artifact)\n",
        "\n",
        "    !cp -f preprocessed_test.csv /content/drive/MyDrive/Datasets/signate-471/"
      ],
      "execution_count": 33,
      "outputs": []
    },
    {
      "cell_type": "markdown",
      "metadata": {
        "id": "6UPOk9WroUmX"
      },
      "source": [
        "## EDA-2"
      ]
    },
    {
      "cell_type": "code",
      "metadata": {
        "colab": {
          "base_uri": "https://localhost:8080/"
        },
        "id": "BloR0mcceTWK",
        "outputId": "fc40bc87-c0a7-43b3-d4ec-87e3bae38db6"
      },
      "source": [
        "# abstract に改行は含まれていない\n",
        "print(len(train[train[\"abstract\"].str.contains(\"\\n\")]))\n",
        "print(len(test[test[\"abstract\"].str.contains(\"\\n\")]))"
      ],
      "execution_count": 34,
      "outputs": [
        {
          "output_type": "stream",
          "name": "stdout",
          "text": [
            "0\n",
            "0\n"
          ]
        }
      ]
    },
    {
      "cell_type": "code",
      "metadata": {
        "colab": {
          "base_uri": "https://localhost:8080/"
        },
        "id": "VHfTQdU8Cezv",
        "outputId": "d2aa8d3f-864d-428e-d7b9-ddf570c0b8b8"
      },
      "source": [
        "# input の単語数\n",
        "print(train[\"len_input\"].max())\n",
        "print(test[\"len_input\"].max())"
      ],
      "execution_count": 35,
      "outputs": [
        {
          "output_type": "stream",
          "name": "stdout",
          "text": [
            "1537\n",
            "1457\n"
          ]
        }
      ]
    },
    {
      "cell_type": "code",
      "metadata": {
        "colab": {
          "base_uri": "https://localhost:8080/",
          "height": 1000
        },
        "id": "18097672",
        "outputId": "e0aeb88c-5bc3-4597-cc7d-c0c20b89cb9e"
      },
      "source": [
        "for ds in [train, test, sub]:\n",
        "    print(f\"=\" * 80)\n",
        "    ds.info()\n",
        "    display(ds.head())"
      ],
      "execution_count": 36,
      "outputs": [
        {
          "output_type": "stream",
          "name": "stdout",
          "text": [
            "================================================================================\n",
            "<class 'pandas.core.frame.DataFrame'>\n",
            "RangeIndex: 27145 entries, 0 to 27144\n",
            "Data columns (total 8 columns):\n",
            " #   Column          Non-Null Count  Dtype \n",
            "---  ------          --------------  ----- \n",
            " 0   Unnamed: 0      27145 non-null  int64 \n",
            " 1   id              27145 non-null  int64 \n",
            " 2   title           27145 non-null  object\n",
            " 3   abstract        27145 non-null  object\n",
            " 4   judgement       27145 non-null  int64 \n",
            " 5   nan_abstract    27145 non-null  int64 \n",
            " 6   title_abstract  27145 non-null  object\n",
            " 7   len_input       27145 non-null  int64 \n",
            "dtypes: int64(5), object(3)\n",
            "memory usage: 1.7+ MB\n"
          ]
        },
        {
          "output_type": "display_data",
          "data": {
            "text/html": [
              "<div>\n",
              "<style scoped>\n",
              "    .dataframe tbody tr th:only-of-type {\n",
              "        vertical-align: middle;\n",
              "    }\n",
              "\n",
              "    .dataframe tbody tr th {\n",
              "        vertical-align: top;\n",
              "    }\n",
              "\n",
              "    .dataframe thead th {\n",
              "        text-align: right;\n",
              "    }\n",
              "</style>\n",
              "<table border=\"1\" class=\"dataframe\">\n",
              "  <thead>\n",
              "    <tr style=\"text-align: right;\">\n",
              "      <th></th>\n",
              "      <th>Unnamed: 0</th>\n",
              "      <th>id</th>\n",
              "      <th>title</th>\n",
              "      <th>abstract</th>\n",
              "      <th>judgement</th>\n",
              "      <th>nan_abstract</th>\n",
              "      <th>title_abstract</th>\n",
              "      <th>len_input</th>\n",
              "    </tr>\n",
              "  </thead>\n",
              "  <tbody>\n",
              "    <tr>\n",
              "      <th>0</th>\n",
              "      <td>0</td>\n",
              "      <td>0</td>\n",
              "      <td>One-year age changes in MRI brain volumes in o...</td>\n",
              "      <td>Longitudinal studies indicate that declines in...</td>\n",
              "      <td>0</td>\n",
              "      <td>0</td>\n",
              "      <td>One-year age changes in MRI brain volumes in o...</td>\n",
              "      <td>203</td>\n",
              "    </tr>\n",
              "    <tr>\n",
              "      <th>1</th>\n",
              "      <td>1</td>\n",
              "      <td>1</td>\n",
              "      <td>Supportive CSF biomarker evidence to enhance t...</td>\n",
              "      <td>The present study was undertaken to validate t...</td>\n",
              "      <td>0</td>\n",
              "      <td>0</td>\n",
              "      <td>Supportive CSF biomarker evidence to enhance t...</td>\n",
              "      <td>237</td>\n",
              "    </tr>\n",
              "    <tr>\n",
              "      <th>2</th>\n",
              "      <td>2</td>\n",
              "      <td>2</td>\n",
              "      <td>Occurrence of basal ganglia germ cell tumors w...</td>\n",
              "      <td>Objective: To report a case series in which ba...</td>\n",
              "      <td>0</td>\n",
              "      <td>0</td>\n",
              "      <td>Occurrence of basal ganglia germ cell tumors w...</td>\n",
              "      <td>143</td>\n",
              "    </tr>\n",
              "    <tr>\n",
              "      <th>3</th>\n",
              "      <td>3</td>\n",
              "      <td>3</td>\n",
              "      <td>New developments in diagnosis and therapy of C...</td>\n",
              "      <td>The etiology and pathogenesis of idiopathic ch...</td>\n",
              "      <td>0</td>\n",
              "      <td>0</td>\n",
              "      <td>New developments in diagnosis and therapy of C...</td>\n",
              "      <td>387</td>\n",
              "    </tr>\n",
              "    <tr>\n",
              "      <th>4</th>\n",
              "      <td>4</td>\n",
              "      <td>4</td>\n",
              "      <td>Prolonged shedding of SARS-CoV-2 in an elderly...</td>\n",
              "      <td></td>\n",
              "      <td>0</td>\n",
              "      <td>1</td>\n",
              "      <td>Prolonged shedding of SARS-CoV-2 in an elderly...</td>\n",
              "      <td>16</td>\n",
              "    </tr>\n",
              "  </tbody>\n",
              "</table>\n",
              "</div>"
            ],
            "text/plain": [
              "   Unnamed: 0  id  ...                                     title_abstract len_input\n",
              "0           0   0  ...  One-year age changes in MRI brain volumes in o...       203\n",
              "1           1   1  ...  Supportive CSF biomarker evidence to enhance t...       237\n",
              "2           2   2  ...  Occurrence of basal ganglia germ cell tumors w...       143\n",
              "3           3   3  ...  New developments in diagnosis and therapy of C...       387\n",
              "4           4   4  ...  Prolonged shedding of SARS-CoV-2 in an elderly...        16\n",
              "\n",
              "[5 rows x 8 columns]"
            ]
          },
          "metadata": {}
        },
        {
          "output_type": "stream",
          "name": "stdout",
          "text": [
            "================================================================================\n",
            "<class 'pandas.core.frame.DataFrame'>\n",
            "RangeIndex: 40834 entries, 0 to 40833\n",
            "Data columns (total 6 columns):\n",
            " #   Column          Non-Null Count  Dtype \n",
            "---  ------          --------------  ----- \n",
            " 0   Unnamed: 0      40834 non-null  int64 \n",
            " 1   id              40834 non-null  int64 \n",
            " 2   title           40834 non-null  object\n",
            " 3   abstract        40834 non-null  object\n",
            " 4   title_abstract  40834 non-null  object\n",
            " 5   len_input       40834 non-null  int64 \n",
            "dtypes: int64(3), object(3)\n",
            "memory usage: 1.9+ MB\n"
          ]
        },
        {
          "output_type": "display_data",
          "data": {
            "text/html": [
              "<div>\n",
              "<style scoped>\n",
              "    .dataframe tbody tr th:only-of-type {\n",
              "        vertical-align: middle;\n",
              "    }\n",
              "\n",
              "    .dataframe tbody tr th {\n",
              "        vertical-align: top;\n",
              "    }\n",
              "\n",
              "    .dataframe thead th {\n",
              "        text-align: right;\n",
              "    }\n",
              "</style>\n",
              "<table border=\"1\" class=\"dataframe\">\n",
              "  <thead>\n",
              "    <tr style=\"text-align: right;\">\n",
              "      <th></th>\n",
              "      <th>Unnamed: 0</th>\n",
              "      <th>id</th>\n",
              "      <th>title</th>\n",
              "      <th>abstract</th>\n",
              "      <th>title_abstract</th>\n",
              "      <th>len_input</th>\n",
              "    </tr>\n",
              "  </thead>\n",
              "  <tbody>\n",
              "    <tr>\n",
              "      <th>0</th>\n",
              "      <td>0</td>\n",
              "      <td>27145</td>\n",
              "      <td>Estimating the potential effects of COVID-19 p...</td>\n",
              "      <td>The objective of the paper is to analyse chang...</td>\n",
              "      <td>Estimating the potential effects of COVID-19 p...</td>\n",
              "      <td>261</td>\n",
              "    </tr>\n",
              "    <tr>\n",
              "      <th>1</th>\n",
              "      <td>1</td>\n",
              "      <td>27146</td>\n",
              "      <td>Leukoerythroblastic reaction in a patient with...</td>\n",
              "      <td></td>\n",
              "      <td>Leukoerythroblastic reaction in a patient with...</td>\n",
              "      <td>8</td>\n",
              "    </tr>\n",
              "    <tr>\n",
              "      <th>2</th>\n",
              "      <td>2</td>\n",
              "      <td>27147</td>\n",
              "      <td>[15O]-water PET and intraoperative brain mappi...</td>\n",
              "      <td>[15O]-water PET was performed on 12 patients w...</td>\n",
              "      <td>[15O]-water PET and intraoperative brain mappi...</td>\n",
              "      <td>329</td>\n",
              "    </tr>\n",
              "    <tr>\n",
              "      <th>3</th>\n",
              "      <td>3</td>\n",
              "      <td>27148</td>\n",
              "      <td>Adaptive image segmentation for robust measure...</td>\n",
              "      <td>We present a method that significantly improve...</td>\n",
              "      <td>Adaptive image segmentation for robust measure...</td>\n",
              "      <td>130</td>\n",
              "    </tr>\n",
              "    <tr>\n",
              "      <th>4</th>\n",
              "      <td>4</td>\n",
              "      <td>27149</td>\n",
              "      <td>Comparison of Epidemiological Variations in CO...</td>\n",
              "      <td>The objective of this study is to compare the ...</td>\n",
              "      <td>Comparison of Epidemiological Variations in CO...</td>\n",
              "      <td>237</td>\n",
              "    </tr>\n",
              "  </tbody>\n",
              "</table>\n",
              "</div>"
            ],
            "text/plain": [
              "   Unnamed: 0  ...  len_input\n",
              "0           0  ...        261\n",
              "1           1  ...          8\n",
              "2           2  ...        329\n",
              "3           3  ...        130\n",
              "4           4  ...        237\n",
              "\n",
              "[5 rows x 6 columns]"
            ]
          },
          "metadata": {}
        },
        {
          "output_type": "stream",
          "name": "stdout",
          "text": [
            "================================================================================\n",
            "<class 'pandas.core.frame.DataFrame'>\n",
            "RangeIndex: 40834 entries, 0 to 40833\n",
            "Data columns (total 2 columns):\n",
            " #   Column     Non-Null Count  Dtype\n",
            "---  ------     --------------  -----\n",
            " 0   id         40834 non-null  int64\n",
            " 1   judgement  40834 non-null  int64\n",
            "dtypes: int64(2)\n",
            "memory usage: 638.2 KB\n"
          ]
        },
        {
          "output_type": "display_data",
          "data": {
            "text/html": [
              "<div>\n",
              "<style scoped>\n",
              "    .dataframe tbody tr th:only-of-type {\n",
              "        vertical-align: middle;\n",
              "    }\n",
              "\n",
              "    .dataframe tbody tr th {\n",
              "        vertical-align: top;\n",
              "    }\n",
              "\n",
              "    .dataframe thead th {\n",
              "        text-align: right;\n",
              "    }\n",
              "</style>\n",
              "<table border=\"1\" class=\"dataframe\">\n",
              "  <thead>\n",
              "    <tr style=\"text-align: right;\">\n",
              "      <th></th>\n",
              "      <th>id</th>\n",
              "      <th>judgement</th>\n",
              "    </tr>\n",
              "  </thead>\n",
              "  <tbody>\n",
              "    <tr>\n",
              "      <th>0</th>\n",
              "      <td>27145</td>\n",
              "      <td>0</td>\n",
              "    </tr>\n",
              "    <tr>\n",
              "      <th>1</th>\n",
              "      <td>27146</td>\n",
              "      <td>1</td>\n",
              "    </tr>\n",
              "    <tr>\n",
              "      <th>2</th>\n",
              "      <td>27147</td>\n",
              "      <td>1</td>\n",
              "    </tr>\n",
              "    <tr>\n",
              "      <th>3</th>\n",
              "      <td>27148</td>\n",
              "      <td>0</td>\n",
              "    </tr>\n",
              "    <tr>\n",
              "      <th>4</th>\n",
              "      <td>27149</td>\n",
              "      <td>1</td>\n",
              "    </tr>\n",
              "  </tbody>\n",
              "</table>\n",
              "</div>"
            ],
            "text/plain": [
              "      id  judgement\n",
              "0  27145          0\n",
              "1  27146          1\n",
              "2  27147          1\n",
              "3  27148          0\n",
              "4  27149          1"
            ]
          },
          "metadata": {}
        }
      ]
    },
    {
      "cell_type": "markdown",
      "metadata": {
        "id": "a9L3nMYzDMqJ"
      },
      "source": [
        "### 目的変数 judgement の分布"
      ]
    },
    {
      "cell_type": "code",
      "metadata": {
        "colab": {
          "base_uri": "https://localhost:8080/",
          "height": 296
        },
        "id": "3f5772d0",
        "outputId": "3f831d71-e33e-4b7d-cfd9-eb21cf66c3ff"
      },
      "source": [
        "sns.distplot(train[\"judgement\"], kde=False)"
      ],
      "execution_count": 37,
      "outputs": [
        {
          "output_type": "execute_result",
          "data": {
            "text/plain": [
              "<matplotlib.axes._subplots.AxesSubplot at 0x7f21b9676690>"
            ]
          },
          "metadata": {},
          "execution_count": 37
        },
        {
          "output_type": "display_data",
          "data": {
            "image/png": "[encoded data removed]",
            "text/plain": [
              "<Figure size 432x288 with 1 Axes>"
            ]
          },
          "metadata": {
            "needs_background": "light"
          }
        }
      ]
    },
    {
      "cell_type": "code",
      "metadata": {
        "colab": {
          "base_uri": "https://localhost:8080/"
        },
        "id": "PuZVvlM8Xy91",
        "outputId": "bec40d36-014b-4f05-c95c-bc1e8827eddd"
      },
      "source": [
        "train[\"judgement\"].value_counts()"
      ],
      "execution_count": 38,
      "outputs": [
        {
          "output_type": "execute_result",
          "data": {
            "text/plain": [
              "0    26515\n",
              "1      630\n",
              "Name: judgement, dtype: int64"
            ]
          },
          "metadata": {},
          "execution_count": 38
        }
      ]
    },
    {
      "cell_type": "code",
      "metadata": {
        "colab": {
          "base_uri": "https://localhost:8080/"
        },
        "id": "2E-56356_L3T",
        "outputId": "9078a662-bfbc-49ce-9eda-9e56b92784ef"
      },
      "source": [
        "border = len(train[train[\"judgement\"] == 1]) / len(train[\"judgement\"])\n",
        "print(border)"
      ],
      "execution_count": 39,
      "outputs": [
        {
          "output_type": "stream",
          "name": "stdout",
          "text": [
            "0.0232086940504697\n"
          ]
        }
      ]
    },
    {
      "cell_type": "markdown",
      "metadata": {
        "id": "LZNrZoksDSMb"
      },
      "source": [
        "### input の単語数の分布"
      ]
    },
    {
      "cell_type": "code",
      "metadata": {
        "colab": {
          "base_uri": "https://localhost:8080/",
          "height": 242
        },
        "id": "ixixzShVH80j",
        "outputId": "03936edd-16e6-4130-b2aa-884e8dbc6601"
      },
      "source": [
        "g = sns.FacetGrid(train[[\"judgement\", \"len_input\"]], hue='judgement')\n",
        "g.map(sns.distplot, 'len_input', label='judgement', hist=True, rug=False)\n",
        "g.add_legend()"
      ],
      "execution_count": 40,
      "outputs": [
        {
          "output_type": "execute_result",
          "data": {
            "text/plain": [
              "<seaborn.axisgrid.FacetGrid at 0x7f21b9947ed0>"
            ]
          },
          "metadata": {},
          "execution_count": 40
        },
        {
          "output_type": "display_data",
          "data": {
            "image/png": "[encoded data removed]",
            "text/plain": [
              "<Figure size 278.125x216 with 1 Axes>"
            ]
          },
          "metadata": {
            "needs_background": "light"
          }
        }
      ]
    },
    {
      "cell_type": "code",
      "metadata": {
        "colab": {
          "base_uri": "https://localhost:8080/",
          "height": 297
        },
        "id": "W_kt9XDpGTm2",
        "outputId": "9c86201d-4965-4e53-d357-c1ba2021a1a2"
      },
      "source": [
        "sns.distplot(test[\"len_input\"], hist=True, rug=False)"
      ],
      "execution_count": 41,
      "outputs": [
        {
          "output_type": "execute_result",
          "data": {
            "text/plain": [
              "<matplotlib.axes._subplots.AxesSubplot at 0x7f21b97d2210>"
            ]
          },
          "metadata": {},
          "execution_count": 41
        },
        {
          "output_type": "display_data",
          "data": {
            "image/png": "[encoded data removed]",
            "text/plain": [
              "<Figure size 432x288 with 1 Axes>"
            ]
          },
          "metadata": {
            "needs_background": "light"
          }
        }
      ]
    },
    {
      "cell_type": "markdown",
      "metadata": {
        "id": "XeZesLBHnfl5"
      },
      "source": [
        "## Load Models"
      ]
    },
    {
      "cell_type": "code",
      "metadata": {
        "id": "wOdN4h2grTzx"
      },
      "source": [
        "if Config.validate:\n",
        "    api = wandb.Api()\n",
        "\n",
        "    for n, run_id in enumerate(config.inference_runs):\n",
        "        if not os.path.exists(run_id):\n",
        "            os.makedirs(run_id)\n",
        "\n",
        "        run_path = f\"{Config.wandb_entity}/{Config.wandb_project}/{run_id}\"\n",
        "        run = api.run(run_path)\n",
        "\n",
        "        try:\n",
        "            run.file(\"oof_df.csv\").download(run_id)\n",
        "        except wandb.CommError:\n",
        "            # Already downloaded.\n",
        "            pass\n",
        "\n",
        "        oof = pd.read_csv(f\"{run_id}/oof_df.csv\")[[\"id\", \"preds\"]]\n",
        "        oof.columns = [\"id\", f\"preds{n}\"]\n",
        "        train = pd.merge(train, oof, on=\"id\")\n",
        "    \n",
        "    print(train.columns)"
      ],
      "execution_count": 42,
      "outputs": []
    },
    {
      "cell_type": "code",
      "metadata": {
        "id": "JM2fDBrNi2_K"
      },
      "source": [
        "if Config.inference:\n",
        "    api = wandb.Api()\n",
        "    inference_models = []\n",
        "\n",
        "    for n, run_id in enumerate(config.inference_runs):\n",
        "        if not os.path.exists(run_id):\n",
        "            os.makedirs(run_id)\n",
        "\n",
        "        run_path = f\"{Config.wandb_entity}/{Config.wandb_project}/{run_id}\"\n",
        "        run = api.run(run_path)\n",
        "\n",
        "        inference_model = {}\n",
        "        inference_model[\"run_id\"] = run_id\n",
        "        inference_model[\"model_name\"] = run.config[\"model_name\"]\n",
        "\n",
        "        for fold in range(config.n_fold):\n",
        "            try:\n",
        "                run.file(f\"{inference_model['model_name'].replace('/', '-')}_fold{fold}_best.pth\").download(run_id)\n",
        "            except wandb.CommError:\n",
        "                # Already downloaded.\n",
        "                pass\n",
        "\n",
        "            model_preds = torch.load(f\"{run_id}/{inference_model['model_name'].replace('/', '-')}_fold{fold}_best.pth\")\n",
        "            inference_model[f\"state_fold{fold}\"] = model_preds[\"model\"]\n",
        "            inference_model[f\"preds_fold{fold}\"] = model_preds[\"preds\"]\n",
        "\n",
        "        inference_models.append(inference_model)\n",
        "    \n",
        "    print({m['run_id']: m['model_name'] for m in inference_models})"
      ],
      "execution_count": 43,
      "outputs": []
    },
    {
      "cell_type": "code",
      "metadata": {
        "id": "UXmpjcJxQhBc",
        "colab": {
          "base_uri": "https://localhost:8080/"
        },
        "outputId": "5d429d4e-c971-4106-9f98-39dff9e1e2e0"
      },
      "source": [
        "if Config.stack:\n",
        "    api = wandb.Api()\n",
        "\n",
        "    feat_id = 0\n",
        "    for n, run_id in enumerate(config.inference_runs):\n",
        "        if not os.path.exists(run_id):\n",
        "            os.makedirs(run_id)\n",
        "\n",
        "        run_path = f\"{Config.wandb_entity}/{Config.wandb_project}/{run_id}\"\n",
        "        run = api.run(run_path)\n",
        "\n",
        "        try:\n",
        "            run.file(\"validation_df.csv\").download(run_id)\n",
        "        except wandb.CommError:\n",
        "            # Already downloaded.\n",
        "            pass\n",
        "\n",
        "        try:\n",
        "            run.file(\"prediction_df.csv\").download(run_id)\n",
        "        except wandb.CommError:\n",
        "            # Already downloaded.\n",
        "            pass\n",
        "\n",
        "        val = pd.read_csv(f\"{run_id}/validation_df.csv\")\n",
        "        pred = pd.read_csv(f\"{run_id}/prediction_df.csv\")\n",
        "\n",
        "        # cols = [c for c in val.columns if c.startswith(\"preds\") and c != \"preds\"]\n",
        "        cols = [c for c in val.columns if c.startswith(\"class_preds\")]\n",
        "        val = val[[\"id\"] + cols]\n",
        "        pred = pred[[\"id\"] + cols]\n",
        "\n",
        "        adjust_cols = [\"id\"] + [f\"preds{n}\" for n in range(feat_id, feat_id + len(cols))]\n",
        "        val.columns = adjust_cols\n",
        "        pred.columns = adjust_cols\n",
        "\n",
        "        feat_id += len(cols)\n",
        "\n",
        "        train = pd.merge(train, val, on=\"id\")\n",
        "        test = pd.merge(test, pred, on=\"id\")\n",
        "    \n",
        "    print(f\"train: {train.columns}\")\n",
        "    print(f\"test: {test.columns}\")"
      ],
      "execution_count": 44,
      "outputs": [
        {
          "output_type": "stream",
          "name": "stdout",
          "text": [
            "train: Index(['Unnamed: 0', 'id', 'title', 'abstract', 'judgement', 'nan_abstract',\n",
            "       'title_abstract', 'len_input', 'preds0', 'preds1', 'preds2', 'preds3',\n",
            "       'preds4'],\n",
            "      dtype='object')\n",
            "test: Index(['Unnamed: 0', 'id', 'title', 'abstract', 'title_abstract', 'len_input',\n",
            "       'preds0', 'preds1', 'preds2', 'preds3', 'preds4'],\n",
            "      dtype='object')\n"
          ]
        }
      ]
    },
    {
      "cell_type": "code",
      "metadata": {
        "id": "ba31d893"
      },
      "source": [
        "if Config.debug and not Config.stack:\n",
        "    train = train.sample(n=1000, random_state=config.seed).reset_index(drop=True)\n",
        "    test = test.sample(n=1000, random_state=config.seed).reset_index(drop=True)\n",
        "    sub = sub.sample(n=1000, random_state=config.seed).reset_index(drop=True)"
      ],
      "execution_count": 45,
      "outputs": []
    },
    {
      "cell_type": "markdown",
      "metadata": {
        "id": "_pQ7fKQ2IC6i"
      },
      "source": [
        "## CV Split"
      ]
    },
    {
      "cell_type": "code",
      "metadata": {
        "colab": {
          "base_uri": "https://localhost:8080/"
        },
        "id": "D5Lt-ZLtIHCG",
        "outputId": "749f5225-fb03-4f27-f7b8-4f445706fca4"
      },
      "source": [
        "Fold = MultilabelStratifiedKFold(n_splits=5, shuffle=True, random_state=seed)\n",
        "for n, (train_index, val_index) in enumerate(Fold.split(train, train[[\"judgement\", \"nan_abstract\"]])):\n",
        "    train.loc[val_index, \"fold\"] = int(n)\n",
        "train[\"fold\"] = train[\"fold\"].astype(np.uint8)\n",
        "print(train.groupby([\"fold\", \"judgement\", \"nan_abstract\"]).size())"
      ],
      "execution_count": 46,
      "outputs": [
        {
          "output_type": "stream",
          "name": "stdout",
          "text": [
            "fold  judgement  nan_abstract\n",
            "0     0          0               4455\n",
            "                 1                848\n",
            "      1          0                198\n",
            "                 1                 54\n",
            "1     0          0               4453\n",
            "                 1                850\n",
            "      1          0                200\n",
            "                 1                 52\n",
            "2     0          0               4446\n",
            "                 1                857\n",
            "      1          0                207\n",
            "                 1                 45\n",
            "3     0          0               4445\n",
            "                 1                858\n",
            "      1          0                208\n",
            "                 1                 44\n",
            "4     0          0               4446\n",
            "                 1                857\n",
            "      1          0                207\n",
            "                 1                 45\n",
            "dtype: int64\n"
          ]
        }
      ]
    },
    {
      "cell_type": "markdown",
      "metadata": {
        "id": "7d423ea8"
      },
      "source": [
        "## Utils"
      ]
    },
    {
      "cell_type": "code",
      "metadata": {
        "id": "5985d91d"
      },
      "source": [
        "@contextmanager\n",
        "def timer(name):\n",
        "    t0 = time.time()\n",
        "    LOGGER.info(f\"[{name}] start\")\n",
        "    yield\n",
        "    LOGGER.info(f\"[{name}] done in {time.time() - t0:.0f} s.\")\n",
        "\n",
        "\n",
        "def init_logger(log_file=OUTPUT_DIR + \"train.log\"):\n",
        "    from logging import INFO, FileHandler, Formatter, StreamHandler, getLogger\n",
        "\n",
        "    logger = getLogger(__name__)\n",
        "    logger.setLevel(INFO)\n",
        "    handler1 = StreamHandler()\n",
        "    handler1.setFormatter(Formatter(\"%(message)s\"))\n",
        "    handler2 = FileHandler(filename=log_file)\n",
        "    handler2.setFormatter(Formatter(\"%(message)s\"))\n",
        "    logger.addHandler(handler1)\n",
        "    logger.addHandler(handler2)\n",
        "    return logger\n",
        "\n",
        "\n",
        "LOGGER = init_logger()\n",
        "\n",
        "\n",
        "def seed_torch(seed=42):\n",
        "    random.seed(seed)\n",
        "    os.environ[\"PYTHONHASHSEED\"] = str(seed)\n",
        "    np.random.seed(seed)\n",
        "    torch.manual_seed(seed)\n",
        "    torch.cuda.manual_seed(seed)\n",
        "    torch.cuda.manual_seed_all(seed)\n",
        "    torch.backends.cudnn.deterministic = True\n",
        "\n",
        "\n",
        "seed_torch(seed=config.seed)\n"
      ],
      "execution_count": 47,
      "outputs": []
    },
    {
      "cell_type": "markdown",
      "metadata": {
        "id": "596efb85"
      },
      "source": [
        "## Dataset"
      ]
    },
    {
      "cell_type": "code",
      "metadata": {
        "id": "c2721636"
      },
      "source": [
        "class BaseDataset(Dataset):\n",
        "    def __init__(self, df, model_name, include_labels=True):\n",
        "        tokenizer = T.AutoTokenizer.from_pretrained(model_name)\n",
        "\n",
        "        self.df = df\n",
        "        self.include_labels = include_labels\n",
        "\n",
        "        self.title = df[config.input].tolist()\n",
        "        self.encoded = tokenizer.batch_encode_plus(\n",
        "            self.title,\n",
        "            padding = 'max_length',            \n",
        "            max_length = config.max_len,\n",
        "            truncation = True,\n",
        "            return_attention_mask=True\n",
        "        )\n",
        "        \n",
        "        if self.include_labels:\n",
        "            self.labels = df[\"judgement\"].values\n",
        "\n",
        "    def __len__(self):\n",
        "        return len(self.df)\n",
        "\n",
        "    def __getitem__(self, idx):\n",
        "        input_ids = torch.tensor(self.encoded['input_ids'][idx])\n",
        "        attention_mask = torch.tensor(self.encoded['attention_mask'][idx])\n",
        "\n",
        "        if self.include_labels:\n",
        "            label = torch.tensor(self.labels[idx]).float()\n",
        "            return input_ids, attention_mask, label\n",
        "\n",
        "        return input_ids, attention_mask\n"
      ],
      "execution_count": 48,
      "outputs": []
    },
    {
      "cell_type": "code",
      "metadata": {
        "id": "e56a1c49"
      },
      "source": [
        "# Test\n",
        "\n",
        "if config.model_name != \"\":\n",
        "\n",
        "    train_ds = BaseDataset(train, config.model_name)\n",
        "\n",
        "    for i in range(1):\n",
        "        input_ids, attention_mask, label = train_ds[i]\n",
        "        print(input_ids)\n",
        "        print(attention_mask)\n",
        "        print(f\"label: {label}\")\n"
      ],
      "execution_count": 49,
      "outputs": []
    },
    {
      "cell_type": "markdown",
      "metadata": {
        "id": "d681dabf"
      },
      "source": [
        "## Model"
      ]
    },
    {
      "cell_type": "markdown",
      "metadata": {
        "id": "R6Y5LnDCMPcC"
      },
      "source": [
        "### BaseModel"
      ]
    },
    {
      "cell_type": "code",
      "metadata": {
        "id": "MHPwf3JzPmjI"
      },
      "source": [
        "if config.model_name != \"\":\n",
        "    print(T.AutoConfig.from_pretrained(config.model_name))"
      ],
      "execution_count": 50,
      "outputs": []
    },
    {
      "cell_type": "code",
      "metadata": {
        "id": "229d18e7"
      },
      "source": [
        "class BaseModel(nn.Module):\n",
        "    def __init__(self, model_name):\n",
        "        super().__init__()\n",
        "\n",
        "        if \"base\" in model_name or \"L-12\" in model_name or \"scibert\" in model_name:\n",
        "            out_dim = 768\n",
        "        elif \"large\" in model_name or \"L-24\" in model_name:\n",
        "            out_dim = 1024\n",
        "\n",
        "        auto_config = T.AutoConfig.from_pretrained(model_name)\n",
        "        auto_config.update({\n",
        "            \"output_hidden_states\": True,\n",
        "            \"hidden_dropout_prob\": config.dropout,\n",
        "            # \"layer_norm_eps\": 1e-7,\n",
        "        })\n",
        "        \n",
        "        self.auto_model = T.AutoModel.from_pretrained(model_name, config=auto_config)  \n",
        "\n",
        "        self.attention = nn.Sequential(\n",
        "            nn.Linear(out_dim, 512),            \n",
        "            nn.Tanh(),                       \n",
        "            nn.Linear(512, 1),\n",
        "            nn.Softmax(dim=1)\n",
        "        )        \n",
        "\n",
        "        self.regressor = nn.Sequential(\n",
        "            nn.Linear(out_dim, 1)                        \n",
        "        )\n",
        "\n",
        "        if config.reinit_layers > 0:\n",
        "            self.re_init()\n",
        "\n",
        "        if config.freeze_layers > 0:\n",
        "            self.freeze()\n",
        "\n",
        "    def forward(self, input_ids, attention_mask):\n",
        "        bert_output = self.auto_model(input_ids=input_ids, attention_mask=attention_mask)        \n",
        "\n",
        "        # There are a total of 13 layers of hidden states.\n",
        "        # 1 for the embedding layer, and 12 for the 12 Roberta layers.\n",
        "        # We take the hidden states from the last Roberta layer.\n",
        "        last_layer_hidden_states = bert_output.hidden_states[-1]\n",
        "\n",
        "        # The number of cells is config.max_len.\n",
        "        # The size of the hidden state of each cell is 768 (for roberta-base).\n",
        "        # In order to condense hidden states of all cells to a context vector,\n",
        "        # we compute a weighted average of the hidden states of all cells.\n",
        "        # We compute the weight of each cell, using the attention neural network.\n",
        "        weights = self.attention(last_layer_hidden_states)\n",
        "                \n",
        "        # weights.shape is config.batch_size x config.max_len x 1\n",
        "        # last_layer_hidden_states.shape is config.batch_size x config.max_len x 768        \n",
        "        # Now we compute context_vector as the weighted average.\n",
        "        # context_vector.shape is config.batch_size x 768\n",
        "        context_vector = torch.sum(weights * last_layer_hidden_states, dim=1)        \n",
        "        \n",
        "        # Now we reduce the context vector to the prediction score.\n",
        "        out = self.regressor(context_vector).squeeze()\n",
        "\n",
        "        return out\n",
        "\n",
        "    def re_init(self):\n",
        "        # re-init pooler\n",
        "        self.auto_model.pooler.dense.weight.data.normal_(mean=0.0, std=self.auto_model.config.initializer_range)\n",
        "        self.auto_model.pooler.dense.bias.data.zero_()\n",
        "        for p in self.auto_model.pooler.parameters():\n",
        "            p.requires_grad = True\n",
        "\n",
        "        # re-init encoder\n",
        "        layers = self.auto_model.encoder.layer[-config.reinit_layers:]\n",
        "        for layer in layers:\n",
        "            for module in layer.modules():\n",
        "                if isinstance(module, nn.Linear):\n",
        "                    # Slightly different from the TF version which uses truncated_normal for initialization\n",
        "                    # cf https://github.com/pytorch/pytorch/pull/5617\n",
        "                    module.weight.data.normal_(mean=0.0, std=self.auto_model.config.initializer_range)\n",
        "                    if module.bias is not None:\n",
        "                        module.bias.data.zero_()\n",
        "                elif isinstance(module, nn.Embedding):\n",
        "                    module.weight.data.normal_(mean=0.0, std=self.auto_model.config.initializer_range)\n",
        "                    if module.padding_idx is not None:\n",
        "                        module.weight.data[module.padding_idx].zero_()\n",
        "                elif isinstance(module, nn.LayerNorm):\n",
        "                    module.bias.data.zero_()\n",
        "                    module.weight.data.fill_(1.0)\n",
        "\n",
        "    def freeze(self):\n",
        "        # freeze embedding\n",
        "        for param in self.auto_model.embeddings.parameters():\n",
        "            param.requires_grad = False\n",
        "\n",
        "        # freeze encoder\n",
        "        layers = self.auto_model.encoder.layer[:config.freeze_layers]\n",
        "        for layer in layers:\n",
        "            for param in layer.parameters():\n",
        "                param.requires_grad = False"
      ],
      "execution_count": 51,
      "outputs": []
    },
    {
      "cell_type": "code",
      "metadata": {
        "id": "0a3978b1"
      },
      "source": [
        "# Test\n",
        "\n",
        "if config.model_name != \"\":\n",
        "\n",
        "    model = BaseModel(config.model_name)\n",
        "    print(model)\n",
        "\n",
        "    train_dataset = BaseDataset(train, config.model_name)\n",
        "    train_loader = DataLoader(train_dataset, batch_size=4, shuffle=True, num_workers=4, drop_last=True)\n",
        "\n",
        "    for input_ids, attention_mask, labels in train_loader:\n",
        "        output = model(input_ids, attention_mask)\n",
        "        print(output)\n",
        "        break\n"
      ],
      "execution_count": 52,
      "outputs": []
    },
    {
      "cell_type": "code",
      "metadata": {
        "id": "GlpHUm-SrcLV"
      },
      "source": [
        "# Test\n",
        "\n",
        "if config.model_name != \"\":\n",
        "    for n, (name, tensor) in enumerate(list(model.named_parameters())):\n",
        "        print(f\"{n:>4}: {tensor.requires_grad}, {name}\")"
      ],
      "execution_count": 53,
      "outputs": []
    },
    {
      "cell_type": "markdown",
      "metadata": {
        "id": "FYPJSbAxMTN7"
      },
      "source": [
        "### StackingModel"
      ]
    },
    {
      "cell_type": "code",
      "metadata": {
        "id": "Am2WTaLaMVRQ"
      },
      "source": [
        ""
      ],
      "execution_count": 53,
      "outputs": []
    },
    {
      "cell_type": "markdown",
      "metadata": {
        "id": "_PcTNCYuDeuC"
      },
      "source": [
        "## Optimizer"
      ]
    },
    {
      "cell_type": "code",
      "metadata": {
        "id": "RzoJMxr3DeVG"
      },
      "source": [
        "def bert_optimizer(model):\n",
        "    named_parameters = list(model.named_parameters())    \n",
        "    \n",
        "    if \"albert-base\" in config.model_name:\n",
        "        bert_parameters = named_parameters[:23]    \n",
        "        attention_parameters = named_parameters[25:29]\n",
        "        regressor_parameters = named_parameters[29:]\n",
        "        second_block = 999\n",
        "        third_block = 999\n",
        "\n",
        "    elif \"base\" in config.model_name or \"L-12\" in config.model_name or \"scibert\" in config.model_name:\n",
        "        bert_parameters = named_parameters[:197]    \n",
        "        attention_parameters = named_parameters[199:203]\n",
        "        regressor_parameters = named_parameters[203:]\n",
        "        second_block = 69\n",
        "        third_block = 133\n",
        "\n",
        "    elif \"large\" in config.model_name or \"L-24\" in config.model_name:\n",
        "        bert_parameters = named_parameters[:388]    \n",
        "        attention_parameters = named_parameters[391:395]\n",
        "        regressor_parameters = named_parameters[395:]\n",
        "        second_block = 133\n",
        "        third_block = 261\n",
        "        \n",
        "    attention_group = [params for (name, params) in attention_parameters]\n",
        "    regressor_group = [params for (name, params) in regressor_parameters]\n",
        "\n",
        "    parameters = []\n",
        "    parameters.append({\"params\": attention_group})\n",
        "    parameters.append({\"params\": regressor_group})\n",
        "\n",
        "    for layer_num, (name, params) in enumerate(bert_parameters):\n",
        "        weight_decay = 0.0 if \"bias\" in name else config.weight_decay\n",
        "\n",
        "        lr = config.lr\n",
        "\n",
        "        if layer_num >= second_block:        \n",
        "            lr = config.lr_69\n",
        "\n",
        "        if layer_num >= third_block:\n",
        "            lr = config.lr_133\n",
        "\n",
        "        parameters.append({\"params\": params, \"weight_decay\": weight_decay, \"lr\": lr})\n",
        "\n",
        "    return T.AdamW(parameters)\n"
      ],
      "execution_count": 54,
      "outputs": []
    },
    {
      "cell_type": "markdown",
      "metadata": {
        "id": "de50761e"
      },
      "source": [
        "## Loss"
      ]
    },
    {
      "cell_type": "code",
      "metadata": {
        "id": "47fcae06"
      },
      "source": [
        "class RMSELoss(nn.Module):\n",
        "    def __init__(self, eps=1e-7):\n",
        "        super().__init__()\n",
        "        self.mse = nn.MSELoss()\n",
        "        self.eps = eps\n",
        "        \n",
        "    def forward(self, yhat, y):\n",
        "        loss = torch.sqrt(self.mse(yhat, y) + self.eps)\n",
        "        return loss"
      ],
      "execution_count": 55,
      "outputs": []
    },
    {
      "cell_type": "code",
      "metadata": {
        "id": "cjpp5Rh-4jKW"
      },
      "source": [
        "# https://gist.github.com/SuperShinyEyes/dcc68a08ff8b615442e3bc6a9b55a354\n",
        "class FBetaLoss(nn.Module):\n",
        "\n",
        "    def __init__(self, beta=1.0, epsilon=1e-7):\n",
        "        super().__init__()\n",
        "        self.beta = beta\n",
        "        self.epsilon = epsilon\n",
        "        \n",
        "    def forward(self, y_pred, y_true):\n",
        "        tp = (y_true * y_pred).sum(dim=0).to(torch.float32)\n",
        "        tn = ((1 - y_true) * (1 - y_pred)).sum(dim=0).to(torch.float32)\n",
        "        fp = ((1 - y_true) * y_pred).sum(dim=0).to(torch.float32)\n",
        "        fn = (y_true * (1 - y_pred)).sum(dim=0).to(torch.float32)\n",
        "\n",
        "        precision = tp / (tp + fp + self.epsilon)\n",
        "        recall = tp / (tp + fn + self.epsilon)\n",
        "\n",
        "        beta_squared = self.beta ** 2\n",
        "        fbeta = (1 + beta_squared) * precision * recall / (beta_squared * precision + recall + self.epsilon)\n",
        "        fbeta = fbeta.clamp(min=self.epsilon, max=1-self.epsilon)\n",
        "        return 1 - fbeta.mean()"
      ],
      "execution_count": 56,
      "outputs": []
    },
    {
      "cell_type": "markdown",
      "metadata": {
        "id": "93661540"
      },
      "source": [
        "## Scoring"
      ]
    },
    {
      "cell_type": "code",
      "metadata": {
        "id": "19d9d03c"
      },
      "source": [
        "def get_score(y_true, y_pred, b=border):\n",
        "    y_pred = np.where(y_pred < b, 0, 1)\n",
        "    return fbeta_score(y_true, y_pred, beta=7.0)"
      ],
      "execution_count": 57,
      "outputs": []
    },
    {
      "cell_type": "code",
      "metadata": {
        "id": "a1b92d4f"
      },
      "source": [
        "def get_result(result_df, fold=config.n_fold):\n",
        "    preds = result_df[\"preds\"].values\n",
        "    labels = result_df[\"judgement\"].values\n",
        "    score = get_score(labels, preds)\n",
        "    LOGGER.info(f\"Score: {score:<.5f}\")\n",
        "    # wandb.log({\"fold\": fold, \"CV\": score})\n",
        "    if fold == config.n_fold:\n",
        "        wandb.run.summary[f\"CV\"] = score\n",
        "    else:\n",
        "        wandb.run.summary[f\"CV_fold{fold}\"] = score\n"
      ],
      "execution_count": 58,
      "outputs": []
    },
    {
      "cell_type": "code",
      "metadata": {
        "id": "puJUo-Mjlv_2"
      },
      "source": [
        "def determine_border(b, y_true, y_pred):\n",
        "    return -1 * get_score(y_true, y_pred, b)\n"
      ],
      "execution_count": 59,
      "outputs": []
    },
    {
      "cell_type": "markdown",
      "metadata": {
        "id": "1bf498df"
      },
      "source": [
        "## Helper functions"
      ]
    },
    {
      "cell_type": "code",
      "metadata": {
        "id": "c5b0e152"
      },
      "source": [
        "class AverageMeter(object):\n",
        "    \"\"\"Computes and stores the average and current value\"\"\"\n",
        "\n",
        "    def __init__(self):\n",
        "        self.reset()\n",
        "\n",
        "    def reset(self):\n",
        "        self.val = 0\n",
        "        self.avg = 0\n",
        "        self.sum = 0\n",
        "        self.count = 0\n",
        "\n",
        "    def update(self, val, n=1):\n",
        "        self.val = val\n",
        "        self.sum += val * n\n",
        "        self.count += n\n",
        "        self.avg = self.sum / self.count\n",
        "\n",
        "\n",
        "def asMinutes(s):\n",
        "    m = math.floor(s / 60)\n",
        "    s -= m * 60\n",
        "    return \"%dm %ds\" % (m, s)\n",
        "\n",
        "\n",
        "def timeSince(since, percent):\n",
        "    now = time.time()\n",
        "    s = now - since\n",
        "    es = s / (percent)\n",
        "    rs = es - s\n",
        "    return \"%s (remain %s)\" % (asMinutes(s), asMinutes(rs))"
      ],
      "execution_count": 60,
      "outputs": []
    },
    {
      "cell_type": "code",
      "metadata": {
        "id": "MNxJNSgwg-0E"
      },
      "source": [
        "def pre_train_fn():\n",
        "    tokenizer = T.AutoTokenizer.from_pretrained(config.model_name)\n",
        "    model = T.AutoModelForMaskedLM.from_pretrained(config.model_name)\n",
        "\n",
        "    tokenizer.save_pretrained(f\"./pretrained_{config.model_name}\")\n",
        "\n",
        "    train_dataset = T.LineByLineTextDataset(tokenizer=tokenizer, file_path=\"abstracts.txt\", block_size=512)\n",
        "    valid_dataset = T.LineByLineTextDataset(tokenizer=tokenizer, file_path=\"abstracts.txt\", block_size=512)\n",
        "\n",
        "    data_collator = T.DataCollatorForLanguageModeling(\n",
        "        tokenizer=tokenizer, mlm=True, mlm_probability=0.15\n",
        "    )\n",
        "\n",
        "    training_args = T.TrainingArguments(\n",
        "        output_dir = f\"./pretrained_{config.model_name}_chk\",\n",
        "        overwrite_output_dir = True,\n",
        "        num_train_epochs = 5,\n",
        "        per_device_train_batch_size = 4,\n",
        "        per_device_eval_batch_size = 4,\n",
        "        gradient_accumulation_steps = 4,\n",
        "        evaluation_strategy = 'steps',\n",
        "        save_total_limit = 2,\n",
        "        eval_steps = 105,\n",
        "        save_steps = 105,\n",
        "        metric_for_best_model = 'eval_loss',\n",
        "        greater_is_better = False,\n",
        "        load_best_model_at_end = True,\n",
        "        prediction_loss_only = True,\n",
        "        report_to = \"wandb\",\n",
        "    )\n",
        "\n",
        "    trainer = T.Trainer(\n",
        "        model=model,\n",
        "        args=training_args,\n",
        "        data_collator=data_collator,\n",
        "        train_dataset=train_dataset,\n",
        "        eval_dataset=valid_dataset,\n",
        "    )\n",
        "\n",
        "    trainer.train()\n",
        "\n",
        "    trainer.save_model(f\"./pretrained_{config.model_name}\")"
      ],
      "execution_count": 61,
      "outputs": []
    },
    {
      "cell_type": "code",
      "metadata": {
        "id": "99a3bfb5"
      },
      "source": [
        "def train_fn(train_loader, model, criterion, optimizer, epoch, scheduler, device):\n",
        "    batch_time = AverageMeter()\n",
        "    data_time = AverageMeter()\n",
        "    losses = AverageMeter()\n",
        "    scores = AverageMeter()\n",
        "\n",
        "    # switch to train mode\n",
        "    model.train()\n",
        "    start = end = time.time()\n",
        "    global_step = 0\n",
        "    optimizer.zero_grad()\n",
        "\n",
        "    for step, (input_ids, attention_mask, labels) in enumerate(train_loader):\n",
        "        # measure data loading time\n",
        "        data_time.update(time.time() - end)\n",
        "\n",
        "        input_ids = input_ids.to(device)\n",
        "        attention_mask = attention_mask.to(device)\n",
        "        labels = labels.to(device)\n",
        "        batch_size = labels.size(0)\n",
        "\n",
        "        y_preds = model(input_ids, attention_mask)\n",
        "\n",
        "        loss = criterion(y_preds, labels)\n",
        "\n",
        "        # record loss\n",
        "        losses.update(loss.item(), batch_size)\n",
        "        if config.gradient_accumulation_steps > 1:\n",
        "            loss = loss / config.gradient_accumulation_steps\n",
        "            \n",
        "        if Config.apex:\n",
        "            with amp.scale_loss(loss, optimizer) as scaled_loss:\n",
        "                scaled_loss.backward()\n",
        "        else:\n",
        "            loss.backward()\n",
        "\n",
        "        grad_norm = torch.nn.utils.clip_grad_norm_(model.parameters(), config.max_grad_norm)\n",
        "\n",
        "        if (step + 1) % config.gradient_accumulation_steps == 0:\n",
        "            optimizer.step()\n",
        "            optimizer.zero_grad()\n",
        "\n",
        "            if isinstance(scheduler, ReduceLROnPlateau):\n",
        "                scheduler.step(avg_val_loss)\n",
        "            else:\n",
        "                scheduler.step()\n",
        "            \n",
        "            global_step += 1\n",
        "\n",
        "        # measure elapsed time\n",
        "        batch_time.update(time.time() - end)\n",
        "        end = time.time()\n",
        "\n",
        "        if step % Config.print_freq == 0 or step == (len(train_loader) - 1):\n",
        "            print(\n",
        "                f\"Epoch: [{epoch + 1}][{step}/{len(train_loader)}] \"\n",
        "                f\"Elapsed {timeSince(start, float(step + 1) / len(train_loader)):s} \"\n",
        "                f\"Loss: {losses.avg:.4f} \"\n",
        "                f\"Grad: {grad_norm:.4f} \"\n",
        "                # f\"LR: {scheduler.get_last_lr()[0]:.6f}  \"\n",
        "                f\"LR: {scheduler.get_lr()[0]:.6f}  \"\n",
        "            )\n",
        "\n",
        "    return losses.avg"
      ],
      "execution_count": 62,
      "outputs": []
    },
    {
      "cell_type": "code",
      "metadata": {
        "id": "186c441d"
      },
      "source": [
        "def valid_fn(valid_loader, model, criterion, device):\n",
        "    batch_time = AverageMeter()\n",
        "    data_time = AverageMeter()\n",
        "    losses = AverageMeter()\n",
        "    scores = AverageMeter()\n",
        "\n",
        "    # switch to evaluation mode\n",
        "    model.eval()\n",
        "    preds = []\n",
        "    start = end = time.time()\n",
        "\n",
        "    for step, (input_ids, attention_mask, labels) in enumerate(valid_loader):\n",
        "        # measure data loading time\n",
        "        data_time.update(time.time() - end)\n",
        "\n",
        "        input_ids = input_ids.to(device)\n",
        "        attention_mask = attention_mask.to(device)\n",
        "        labels = labels.to(device)\n",
        "        batch_size = labels.size(0)\n",
        "\n",
        "        # compute loss\n",
        "        with torch.no_grad():\n",
        "            y_preds = model(input_ids, attention_mask)\n",
        "\n",
        "        loss = criterion(y_preds, labels)\n",
        "        losses.update(loss.item(), batch_size)\n",
        "\n",
        "        # record score\n",
        "        # preds.append(y_preds.softmax(1).to(\"cpu\").numpy())\n",
        "        preds.append(y_preds.to(\"cpu\").numpy())\n",
        "        if config.gradient_accumulation_steps > 1:\n",
        "            loss = loss / config.gradient_accumulation_steps\n",
        "\n",
        "        # measure elapsed time\n",
        "        batch_time.update(time.time() - end)\n",
        "        end = time.time()\n",
        "\n",
        "        if step % Config.print_freq == 0 or step == (len(valid_loader) - 1):\n",
        "            print(\n",
        "                f\"EVAL: [{step}/{len(valid_loader)}] \"\n",
        "                f\"Elapsed {timeSince(start, float(step + 1) / len(valid_loader)):s} \"\n",
        "                f\"Loss: {losses.avg:.4f} \"\n",
        "            )\n",
        "    predictions = np.concatenate(preds)\n",
        "    return losses.avg, predictions"
      ],
      "execution_count": 63,
      "outputs": []
    },
    {
      "cell_type": "code",
      "metadata": {
        "id": "db7cdfc9"
      },
      "source": [
        "def inference():\n",
        "    predictions = sub.copy()\n",
        "\n",
        "    for n, model_item in enumerate(inference_models):\n",
        "        test_dataset = BaseDataset(test, model_item['model_name'], include_labels=False)\n",
        "        test_loader = DataLoader(\n",
        "            test_dataset, batch_size=config.batch_size, shuffle=False, num_workers=config.num_workers, pin_memory=True\n",
        "        )\n",
        "\n",
        "        preds = []\n",
        "        for fold in range(config.n_fold):\n",
        "            LOGGER.info(f\"========== ID: {model_item['run_id']} model: {model_item['model_name']} fold: {fold} inference ==========\")\n",
        "            model = BaseModel(model_item['model_name'])\n",
        "            model.to(device)\n",
        "            model.load_state_dict(model_item[f\"state_fold{fold}\"])\n",
        "            model.eval()\n",
        "            fold_preds = []\n",
        "            for i, (input_ids, attention_mask) in tqdm(enumerate(test_loader), total=len(test_loader)):\n",
        "                input_ids = input_ids.to(device)\n",
        "                attention_mask = attention_mask.to(device)\n",
        "                with torch.no_grad():\n",
        "                    y_preds = model(input_ids, attention_mask)\n",
        "                # avg_preds.append(y_preds.softmax(1).to(\"cpu\").numpy())\n",
        "                fold_preds.append(y_preds.to(\"cpu\").numpy())\n",
        "            preds.append(np.concatenate(fold_preds))\n",
        "\n",
        "        preds = np.mean(preds, axis=0)\n",
        "\n",
        "        if config.criterion == \"BCEWithLogitsLoss\":\n",
        "            preds = 1 / (1 + np.exp(-preds))\n",
        "\n",
        "        predictions[f\"preds{n}\"] = preds\n",
        "\n",
        "    return predictions"
      ],
      "execution_count": 64,
      "outputs": []
    },
    {
      "cell_type": "code",
      "metadata": {
        "id": "xuZncamGqu8I"
      },
      "source": [
        "def stacking_inference():\n",
        "    feature_cols = [col for col in test.columns if col.startswith(\"preds\")]\n",
        "    # predictions = sub.copy()\n",
        "\n",
        "    preds = []\n",
        "    for fold in range(config.n_fold):\n",
        "        LOGGER.info(f\"========== fold: {fold} inference ==========\")\n",
        "        bst = lgb.Booster(model_file=OUTPUT_DIR + f\"lgb_fold{fold}_best.txt\")\n",
        "        fold_preds = bst.predict(test[feature_cols])\n",
        "        preds.append(fold_preds)\n",
        "\n",
        "    preds = np.mean(preds, axis=0)\n",
        "    # predictions[f\"preds\"] = preds\n",
        "\n",
        "    return preds"
      ],
      "execution_count": 65,
      "outputs": []
    },
    {
      "cell_type": "markdown",
      "metadata": {
        "id": "df9663c1"
      },
      "source": [
        "## Train loop"
      ]
    },
    {
      "cell_type": "code",
      "metadata": {
        "id": "357969e6"
      },
      "source": [
        "def train_loop(df, fold):\n",
        "\n",
        "    LOGGER.info(f\"========== fold: {fold} training ==========\")\n",
        "\n",
        "    # ====================================================\n",
        "    # Data Loader\n",
        "    # ====================================================\n",
        "    trn_idx = df[df[\"fold\"] != fold].index\n",
        "    val_idx = df[df[\"fold\"] == fold].index\n",
        "\n",
        "    train_folds = df.loc[trn_idx].reset_index(drop=True)\n",
        "    valid_folds = df.loc[val_idx].reset_index(drop=True)\n",
        "\n",
        "    train_dataset = BaseDataset(train_folds, config.model_name)\n",
        "    valid_dataset = BaseDataset(valid_folds, config.model_name)\n",
        "\n",
        "    train_loader = DataLoader(\n",
        "        train_dataset,\n",
        "        batch_size=config.batch_size,\n",
        "        shuffle=True,\n",
        "        num_workers=config.num_workers,\n",
        "        pin_memory=True,\n",
        "        drop_last=True,\n",
        "    )\n",
        "    valid_loader = DataLoader(\n",
        "        valid_dataset,\n",
        "        batch_size=config.batch_size,\n",
        "        shuffle=False,\n",
        "        num_workers=config.num_workers,\n",
        "        pin_memory=True,\n",
        "        drop_last=False,\n",
        "    )\n",
        "\n",
        "    # ====================================================\n",
        "    # Optimizer\n",
        "    # ====================================================\n",
        "    def get_optimizer(model):\n",
        "        if config.optimizer == \"Adam\":\n",
        "            optimizer = Adam(model.parameters(), lr=config.lr, weight_decay=config.weight_decay, amsgrad=False)\n",
        "        elif config.optimizer == \"AdamW\":\n",
        "            optimizer = T.AdamW(model.parameters(), lr=config.lr, weight_decay=config.weight_decay)\n",
        "        elif config.optimizer == \"BertAdamW\":\n",
        "            optimizer = bert_optimizer(model)\n",
        "        return optimizer\n",
        "\n",
        "    # ====================================================\n",
        "    # Scheduler\n",
        "    # ====================================================\n",
        "    def get_scheduler(optimizer):\n",
        "        if config.scheduler == \"ReduceLROnPlateau\":\n",
        "            scheduler = ReduceLROnPlateau(\n",
        "                optimizer, mode=\"min\", factor=config.factor, patience=config.patience, verbose=True, eps=config.eps\n",
        "            )\n",
        "        elif config.scheduler == \"CosineAnnealingLR\":\n",
        "            scheduler = CosineAnnealingLR(optimizer, T_max=config.T_max, eta_min=config.min_lr, last_epoch=-1)\n",
        "        elif config.scheduler == \"CosineAnnealingWarmRestarts\":\n",
        "            scheduler = CosineAnnealingWarmRestarts(\n",
        "                optimizer, T_0=config.T_0, T_mult=1, eta_min=config.min_lr, last_epoch=-1\n",
        "            )\n",
        "        elif config.scheduler == \"CosineAnnealingWarmupRestarts\":\n",
        "            scheduler = CosineAnnealingWarmupRestarts(\n",
        "                optimizer, first_cycle_steps=config.first_cycle_steps, max_lr=config.lr, min_lr=config.min_lr, warmup_steps=config.warmup_steps\n",
        "            )\n",
        "        elif config.scheduler == \"get_cosine_schedule_with_warmup\":\n",
        "            scheduler = T.get_cosine_schedule_with_warmup(\n",
        "                optimizer,\n",
        "                num_training_steps=config.num_training_steps, \n",
        "                num_warmup_steps=config.num_warmup_steps\n",
        "            )\n",
        "        return scheduler\n",
        "\n",
        "    # ====================================================\n",
        "    # Model\n",
        "    # ====================================================\n",
        "    model = BaseModel(config.model_name)\n",
        "    model.to(device)\n",
        "\n",
        "    # Use multi GPU\n",
        "    if device == torch.device(\"cuda\") and not Config.apex and Config.multi_gpu:\n",
        "        model = torch.nn.DataParallel(model)  # make parallel\n",
        "        # torch.backends.cudnn.benchmark=True\n",
        "\n",
        "    optimizer = get_optimizer(model)\n",
        "    scheduler = get_scheduler(optimizer)\n",
        "\n",
        "    # ====================================================\n",
        "    # Apex\n",
        "    # ====================================================\n",
        "    if Config.apex:\n",
        "        model, optimizer = amp.initialize(model, optimizer, opt_level=\"O1\", verbosity=0)\n",
        "\n",
        "    # ====================================================\n",
        "    # Criterion\n",
        "    # ====================================================\n",
        "    def get_criterion():\n",
        "        if config.criterion == \"CrossEntropyLoss\":\n",
        "            criterion = nn.CrossEntropyLoss()\n",
        "        elif config.criterion == \"BCEWithLogitsLoss\":\n",
        "            criterion = nn.BCEWithLogitsLoss()\n",
        "        elif config.criterion == \"MSELoss\":\n",
        "            criterion = nn.MSELoss()\n",
        "        elif config.criterion == \"RMSELoss\":\n",
        "            criterion = RMSELoss()\n",
        "        elif config.criterion == \"FBetaLoss\":\n",
        "            criterion = FBetaLoss(7.0)\n",
        "\n",
        "        return criterion\n",
        "\n",
        "    criterion = get_criterion()\n",
        "\n",
        "    # ====================================================\n",
        "    # Loop\n",
        "    # ====================================================\n",
        "    best_score = -1\n",
        "    best_loss = np.inf\n",
        "\n",
        "    # if not Config.multi_gpu:\n",
        "    #     wandb.watch(model, log_freq=Config.print_freq)\n",
        "\n",
        "    for epoch in range(config.epochs):\n",
        "\n",
        "        start_time = time.time()\n",
        "\n",
        "        # train\n",
        "        avg_loss = train_fn(train_loader, model, criterion, optimizer, epoch, scheduler, device)\n",
        "\n",
        "        # eval\n",
        "        avg_val_loss, preds = valid_fn(valid_loader, model, criterion, device)\n",
        "        valid_labels = valid_folds[\"judgement\"].values\n",
        "\n",
        "        # if isinstance(scheduler, ReduceLROnPlateau):\n",
        "        #     scheduler.step(avg_val_loss)\n",
        "        # else:\n",
        "        #     scheduler.step()\n",
        "\n",
        "        if config.criterion == \"BCEWithLogitsLoss\":\n",
        "            preds = 1 / (1 + np.exp(-preds))\n",
        "\n",
        "        # scoring\n",
        "        # score = get_score(valid_labels, preds.argmax(1))\n",
        "        score = get_score(valid_labels, preds)\n",
        "\n",
        "        elapsed = time.time() - start_time\n",
        "\n",
        "        LOGGER.info(\n",
        "            f\"Epoch {epoch+1} - avg_train_loss: {avg_loss:.4f}  avg_val_loss: {avg_val_loss:.4f}  time: {elapsed:.0f}s\"\n",
        "        )\n",
        "        LOGGER.info(f\"Epoch {epoch+1} - Score: {score}\")\n",
        "\n",
        "        wandb.log(\n",
        "            {\n",
        "                \"epoch\": epoch + 1,\n",
        "                f\"loss/train_fold{fold}\": avg_loss,\n",
        "                f\"loss/val_fold{fold}\": avg_val_loss,\n",
        "                f\"score/fold{fold}\": score,\n",
        "            }\n",
        "        )\n",
        "\n",
        "        if (\n",
        "            (config.best == \"score\" and score > best_score)\n",
        "            or (config.best == \"loss\" and avg_val_loss < best_loss)\n",
        "        ):\n",
        "            best_score = score\n",
        "            best_loss = avg_val_loss\n",
        "\n",
        "            LOGGER.info(f\"Epoch {epoch+1} - Save Best Score: {best_score:.4f} Model (Loss: {best_loss:.4f})\")\n",
        "            wandb.run.summary[f\"loss_fold{fold}\"] = score\n",
        "\n",
        "            torch.save(\n",
        "                {\"model\": model.state_dict(), \"preds\": preds}, OUTPUT_DIR + f\"{config.model_name.replace('/', '-')}_fold{fold}_best.pth\"\n",
        "            )\n",
        "            wandb.save(OUTPUT_DIR + f\"{config.model_name.replace('/', '-')}_fold{fold}_best.pth\")\n",
        "\n",
        "        # if epoch == config.epochs - 1:\n",
        "        #     LOGGER.info(f\"Epoch {epoch+1} - Save final model\")\n",
        "        #     torch.save(\n",
        "        #         {\"model\": model.state_dict(), \"preds\": preds}, OUTPUT_DIR + f\"{config.model_name}_fold{fold}_final.pth\"\n",
        "        #     )\n",
        "\n",
        "    check_point = torch.load(OUTPUT_DIR + f\"{config.model_name.replace('/', '-')}_fold{fold}_best.pth\")\n",
        "\n",
        "    if config.n_class == 1:\n",
        "        valid_folds[\"preds\"] = preds\n",
        "    else:\n",
        "        valid_folds[[str(c) for c in range(config.n_class)]] = preds\n",
        "        valid_folds[\"preds\"] = preds.argmax(1)\n",
        "\n",
        "    return valid_folds"
      ],
      "execution_count": 66,
      "outputs": []
    },
    {
      "cell_type": "markdown",
      "metadata": {
        "id": "c8mXDD4u0G3R"
      },
      "source": [
        "## Stack loop"
      ]
    },
    {
      "cell_type": "code",
      "metadata": {
        "id": "VejK7F2hzIsK"
      },
      "source": [
        "def stack_loop(df, fold):\n",
        "\n",
        "    LOGGER.info(f\"========== fold: {fold} training ==========\")\n",
        "    start_time = time.time()\n",
        "\n",
        "    # ====================================================\n",
        "    # Dataset\n",
        "    # ====================================================\n",
        "    trn_idx = df[df[\"fold\"] != fold].index\n",
        "    val_idx = df[df[\"fold\"] == fold].index\n",
        "\n",
        "    train_folds = df.loc[trn_idx].reset_index(drop=True)\n",
        "    valid_folds = df.loc[val_idx].reset_index(drop=True)\n",
        "\n",
        "    feature_cols = [col for col in df.columns if col.startswith(\"preds\")]\n",
        "    label_cols = [\"judgement\"]\n",
        "\n",
        "    train_dataset = lgb.Dataset(data=train_folds[feature_cols], label=train_folds[label_cols], free_raw_data=False)\n",
        "    valid_dataset = lgb.Dataset(data=valid_folds[feature_cols], label=valid_folds[label_cols], free_raw_data=False)\n",
        "\n",
        "    # ====================================================\n",
        "    # Parameters\n",
        "    # ====================================================\n",
        "\n",
        "    lgb_params = {\n",
        "        \"objective\": config.objective,\n",
        "        \"metric\": config.criterion,\n",
        "        \"num_class\": config.n_class,\n",
        "        \"device_type\": \"gpu\" if torch.cuda.is_available() else \"cpu\",\n",
        "        \"seed\": seed + fold,\n",
        "        \"verbosity\": -1,\n",
        "    }\n",
        "\n",
        "    if not Config.stack_optuna:\n",
        "        lgb_params_manual = {\n",
        "            \"learning_rate\": config.lr,\n",
        "            \"max_depth\": config.max_depth,\n",
        "            \"num_leaves\": config.num_leaves,\n",
        "            \"min_data_in_leaf\": config.min_data_in_leaf,\n",
        "            \"drop_rate\": config.dropout,\n",
        "        }\n",
        "        lgb_params.update(lgb_params_manual)\n",
        "\n",
        "    # ====================================================\n",
        "    # Loop\n",
        "    # ====================================================\n",
        "\n",
        "    evaluation_results = {}\n",
        "    clf = lgb.train(\n",
        "        params=lgb_params,\n",
        "        train_set=train_dataset,\n",
        "        num_boost_round=10000,\n",
        "        valid_sets=[train_dataset, valid_dataset], \n",
        "        valid_names=['train', 'eval'],\n",
        "        early_stopping_rounds=100,\n",
        "        evals_result=evaluation_results,\n",
        "        verbose_eval=100,\n",
        "    )\n",
        "\n",
        "    importances = pd.DataFrame({\n",
        "        'features': clf.feature_name(),\n",
        "        'importance': clf.feature_importance()\n",
        "    }).sort_values('importance', ascending=False)\n",
        "\n",
        "    preds = clf.predict(valid_folds[feature_cols], num_iteration=clf.best_iteration)\n",
        "    valid_labels = valid_folds[\"judgement\"].values\n",
        "\n",
        "    if Config.stack_optuna:\n",
        "        LOGGER.info(f\"Best Params {fold} - {clf.params}\")\n",
        "\n",
        "    # scoring\n",
        "    if config.n_class == 1:\n",
        "        score = get_score(valid_labels, preds)\n",
        "    else:\n",
        "        score = get_score(valid_labels, preds.argmax(1))\n",
        "\n",
        "    elapsed = time.time() - start_time\n",
        "\n",
        "    LOGGER.info(f\"Result {fold} - Score: {score}, time: {elapsed:.0f}s\")\n",
        "\n",
        "    LOGGER.info(f\"Result {fold} - Save Best Model\")\n",
        "    # wandb.run.summary[f\"loss_fold{fold}\"] = score\n",
        "\n",
        "    clf.save_model(OUTPUT_DIR + f\"lgb_fold{fold}_best.txt\", clf.best_iteration)\n",
        "    wandb.save(OUTPUT_DIR + f\"lgb_fold{fold}_best.txt\")\n",
        "\n",
        "    if config.n_class == 1:\n",
        "        valid_folds[\"preds\"] = preds\n",
        "    else:\n",
        "        valid_folds[[str(c) for c in range(config.n_class)]] = preds\n",
        "        valid_folds[\"preds\"] = preds.argmax(1)\n",
        "\n",
        "    return valid_folds"
      ],
      "execution_count": 67,
      "outputs": []
    },
    {
      "cell_type": "markdown",
      "metadata": {
        "id": "97b42fa3"
      },
      "source": [
        "## Main\n"
      ]
    },
    {
      "cell_type": "code",
      "metadata": {
        "id": "5baf150d"
      },
      "source": [
        "def main():\n",
        "    # ====================================================\n",
        "    # Pre Training\n",
        "    # ====================================================\n",
        "    if Config.pre_train:\n",
        "        abstract_df = pd.concat([train[\"abstract\"], test[\"abstract\"]])\n",
        "        abstracts  = '\\n'.join(abstract_df.tolist())\n",
        "        with open(\"abstracts.txt\", \"w\") as f:\n",
        "            f.write(abstracts)\n",
        "\n",
        "        pre_train_fn()\n",
        "\n",
        "    # ====================================================\n",
        "    # Training\n",
        "    # ====================================================\n",
        "    if Config.train:\n",
        "        oof_df = pd.DataFrame()\n",
        "        for fold in range(config.n_fold):\n",
        "            seed_torch(seed + fold)\n",
        "\n",
        "            _oof_df = train_loop(train, fold)\n",
        "            oof_df = pd.concat([oof_df, _oof_df])\n",
        "            LOGGER.info(f\"========== fold: {fold} result ==========\")\n",
        "            get_result(_oof_df, fold)\n",
        "            \n",
        "        # CV result\n",
        "        LOGGER.info(f\"========== CV ==========\")\n",
        "        get_result(oof_df)\n",
        "        \n",
        "        # save result\n",
        "        oof_df.to_csv(OUTPUT_DIR + \"oof_df.csv\", index=False)\n",
        "        wandb.save(OUTPUT_DIR + \"oof_df.csv\")\n",
        "\n",
        "    # ====================================================\n",
        "    # Validation\n",
        "    # ====================================================\n",
        "    if Config.validate:\n",
        "        probs = []\n",
        "        borders = []\n",
        "        class_cols = []\n",
        "\n",
        "        for n in range(len(config.inference_runs)):\n",
        "            probs.append(train[f\"preds{n}\"].values)\n",
        "\n",
        "            if config.border == \"minimize\":\n",
        "                res = sp.optimize.minimize_scalar(\n",
        "                    determine_border,\n",
        "                    method='bounded',\n",
        "                    bounds=(0, 1),\n",
        "                    args=(train[\"judgement\"].values, train[f\"preds{n}\"].values)\n",
        "                )\n",
        "                b = res.x\n",
        "\n",
        "                # CV result\n",
        "                LOGGER.info(f\"========== Border Optimization ==========\")\n",
        "                LOGGER.info(f\"Border: {b:<.5f}, Score: {-res.fun:<.5f}\")\n",
        "\n",
        "            else:\n",
        "                raise f\"Invalid config.border parameter: {config.border}\"\n",
        "\n",
        "            borders.append(b)\n",
        "            class_cols.append(f\"class_preds{n}\")\n",
        "            train[f\"class_preds{n}\"] = np.where(train[f\"preds{n}\"].values < b, 0, 1)\n",
        "\n",
        "        train[\"voting\"] = train[class_cols].sum(axis=1)\n",
        "        train[\"preds\"] = np.where(train[\"voting\"].values < len(config.inference_runs) / 2, 0, 1)\n",
        "\n",
        "        LOGGER.info(f\"========== CV ==========\")\n",
        "        get_result(train)\n",
        "\n",
        "        # save result\n",
        "        train.to_csv(OUTPUT_DIR + \"validation_df.csv\", index=False)\n",
        "        wandb.save(OUTPUT_DIR + \"validation_df.csv\")\n",
        "\n",
        "    # ====================================================\n",
        "    # Inference\n",
        "    # ====================================================\n",
        "    if Config.inference:\n",
        "        prediction_df = inference()\n",
        "\n",
        "        probs = []\n",
        "        for n in range(len(config.inference_runs)):\n",
        "            probs.append(prediction_df[f\"preds{n}\"].values)\n",
        "\n",
        "            prediction_df[f\"class_preds{n}\"] = np.where(prediction_df[f\"preds{n}\"].values < borders[n], 0, 1)\n",
        "\n",
        "        prediction_df[\"voting\"] = prediction_df[class_cols].sum(axis=1)\n",
        "        prediction_df[\"preds\"] = np.where(prediction_df[\"voting\"].values < len(config.inference_runs) / 2, 0, 1)\n",
        "\n",
        "        # submission\n",
        "        sub[\"judgement\"] = prediction_df[\"preds\"]  # .argmax(1)\n",
        "        print(sub[\"judgement\"].value_counts())\n",
        "\n",
        "        sub.to_csv(OUTPUT_DIR + \"submission.csv\", index=False, header=False)\n",
        "        wandb.save(OUTPUT_DIR + \"submission.csv\")\n",
        "\n",
        "        prediction_df.to_csv(OUTPUT_DIR + \"prediction_df.csv\", index=False)\n",
        "        wandb.save(OUTPUT_DIR + \"prediction_df.csv\")\n",
        "        \n",
        "    # ====================================================\n",
        "    # Stack\n",
        "    # ====================================================\n",
        "    if Config.stack:\n",
        "        # Training\n",
        "        oof_df = pd.DataFrame()\n",
        "        for fold in range(config.n_fold):\n",
        "            seed_torch(seed + fold)\n",
        "\n",
        "            _oof_df = stack_loop(train, fold)\n",
        "            oof_df = pd.concat([oof_df, _oof_df])\n",
        "            LOGGER.info(f\"========== fold: {fold} result ==========\")\n",
        "            get_result(_oof_df, fold)\n",
        "\n",
        "        # CV result\n",
        "        if config.n_class > 1 or config.border == \"fixed\":\n",
        "            # CV result\n",
        "            LOGGER.info(f\"========== CV ==========\")\n",
        "            get_result(oof_df)\n",
        "            b = border\n",
        "\n",
        "        elif config.border == \"minimize\":\n",
        "            res = sp.optimize.minimize_scalar(determine_border, method='bounded', bounds=(0, 1), args=(oof_df[\"judgement\"].values, oof_df[\"preds\"].values))\n",
        "            LOGGER.info(f\"========== CV: Border Optimization ==========\")\n",
        "            LOGGER.info(f\"Border: {res.x:<.5f}, Score: {-res.fun:<.5f}\")\n",
        "            wandb.run.summary[f\"CV\"] = -res.fun\n",
        "            b = res.x\n",
        "\n",
        "        if config.n_class == 1:\n",
        "            wandb.run.summary[f\"border\"] = b\n",
        "\n",
        "        # save result\n",
        "        oof_df.to_csv(OUTPUT_DIR + \"stacking_oof_df.csv\", index=False)\n",
        "        wandb.save(OUTPUT_DIR + \"stacking_oof_df.csv\")\n",
        "\n",
        "        # Inference\n",
        "        preds = stacking_inference()\n",
        "\n",
        "        if config.n_class == 1:\n",
        "            predictions = np.where(preds < b, 0, 1)\n",
        "        else:\n",
        "            predictions = preds.argmax(1)\n",
        "\n",
        "        # submission\n",
        "        sub[\"judgement\"] = predictions\n",
        "        print(sub[\"judgement\"].value_counts())\n",
        "\n",
        "        sub.to_csv(OUTPUT_DIR + \"submission.csv\", index=False, header=False)\n",
        "        wandb.save(OUTPUT_DIR + \"submission.csv\")\n",
        "\n",
        "        if config.n_class == 1:\n",
        "            sub[\"preds\"] = preds\n",
        "        else:\n",
        "            sub[[str(c) for c in range(config.n_class)]] = preds\n",
        "            sub[\"preds\"] = preds.argmax(1)\n",
        "\n",
        "        sub.to_csv(OUTPUT_DIR + \"stacking_prediction_df.csv\", index=False)\n",
        "        wandb.save(OUTPUT_DIR + \"stacking_prediction_df.csv\")"
      ],
      "execution_count": 68,
      "outputs": []
    },
    {
      "cell_type": "code",
      "metadata": {
        "colab": {
          "base_uri": "https://localhost:8080/"
        },
        "id": "726e744f",
        "outputId": "21c60bf6-1d09-42c6-b32e-d6ab15a303ca"
      },
      "source": [
        "if __name__ == \"__main__\":\n",
        "    main()"
      ],
      "execution_count": 69,
      "outputs": [
        {
          "output_type": "stream",
          "name": "stderr",
          "text": [
            "========== fold: 0 training ==========\n",
            "\u001b[32m[I 2021-09-05 00:34:23,672]\u001b[0m A new study created in memory with name: no-name-03584455-a6cc-4806-b9d0-1862a72360b3\u001b[0m\n",
            "feature_fraction, val_score: inf:   0%|          | 0/7 [00:00<?, ?it/s]"
          ]
        },
        {
          "output_type": "stream",
          "name": "stdout",
          "text": [
            "Training until validation scores don't improve for 100 rounds\n",
            "[100]\ttrain's binary_logloss: 0.0457292\teval's binary_logloss: 0.0485148\n",
            "Early stopping, best iteration is:\n",
            "[91]\ttrain's binary_logloss: 0.0457544\teval's binary_logloss: 0.0484996\n"
          ]
        },
        {
          "output_type": "stream",
          "name": "stderr",
          "text": [
            "feature_fraction, val_score: 0.048500:  14%|#4        | 1/7 [00:00<00:01,  3.06it/s]\u001b[32m[I 2021-09-05 00:34:24,006]\u001b[0m Trial 0 finished with value: 0.048499550484217974 and parameters: {'feature_fraction': 0.4}. Best is trial 0 with value: 0.048499550484217974.\u001b[0m\n",
            "feature_fraction, val_score: 0.048500:  14%|#4        | 1/7 [00:00<00:01,  3.06it/s]"
          ]
        },
        {
          "output_type": "stream",
          "name": "stdout",
          "text": [
            "Training until validation scores don't improve for 100 rounds\n",
            "[100]\ttrain's binary_logloss: 0.0449107\teval's binary_logloss: 0.0477719\n",
            "[200]\ttrain's binary_logloss: 0.0447769\teval's binary_logloss: 0.0476542\n",
            "[300]\ttrain's binary_logloss: 0.0447465\teval's binary_logloss: 0.0476627\n",
            "[400]\ttrain's binary_logloss: 0.0447216\teval's binary_logloss: 0.0476102\n",
            "[500]\ttrain's binary_logloss: 0.0447089\teval's binary_logloss: 0.0476055\n",
            "[600]\ttrain's binary_logloss: 0.0446975\teval's binary_logloss: 0.047581\n",
            "[700]\ttrain's binary_logloss: 0.0446902\teval's binary_logloss: 0.0475639\n",
            "[800]\ttrain's binary_logloss: 0.0446824\teval's binary_logloss: 0.0475584\n",
            "[900]\ttrain's binary_logloss: 0.0446765\teval's binary_logloss: 0.0475482\n",
            "Early stopping, best iteration is:\n",
            "[894]\ttrain's binary_logloss: 0.0446767\teval's binary_logloss: 0.0475435\n"
          ]
        },
        {
          "output_type": "stream",
          "name": "stderr",
          "text": [
            "feature_fraction, val_score: 0.047543:  29%|##8       | 2/7 [00:01<00:04,  1.21it/s]\u001b[32m[I 2021-09-05 00:34:25,186]\u001b[0m Trial 1 finished with value: 0.047543477603282626 and parameters: {'feature_fraction': 0.5}. Best is trial 1 with value: 0.047543477603282626.\u001b[0m\n",
            "feature_fraction, val_score: 0.047543:  29%|##8       | 2/7 [00:01<00:04,  1.21it/s]"
          ]
        },
        {
          "output_type": "stream",
          "name": "stdout",
          "text": [
            "Training until validation scores don't improve for 100 rounds\n",
            "[100]\ttrain's binary_logloss: 0.0446946\teval's binary_logloss: 0.0475375\n",
            "Early stopping, best iteration is:\n",
            "[70]\ttrain's binary_logloss: 0.0447592\teval's binary_logloss: 0.0474856\n"
          ]
        },
        {
          "output_type": "stream",
          "name": "stderr",
          "text": [
            "feature_fraction, val_score: 0.047486:  43%|####2     | 3/7 [00:01<00:02,  1.69it/s]\u001b[32m[I 2021-09-05 00:34:25,495]\u001b[0m Trial 2 finished with value: 0.04748557714124466 and parameters: {'feature_fraction': 0.8}. Best is trial 2 with value: 0.04748557714124466.\u001b[0m\n",
            "feature_fraction, val_score: 0.047486:  43%|####2     | 3/7 [00:01<00:02,  1.69it/s]"
          ]
        },
        {
          "output_type": "stream",
          "name": "stdout",
          "text": [
            "Training until validation scores don't improve for 100 rounds\n",
            "[100]\ttrain's binary_logloss: 0.0446563\teval's binary_logloss: 0.0475103\n"
          ]
        },
        {
          "output_type": "stream",
          "name": "stderr",
          "text": [
            "feature_fraction, val_score: 0.047486:  57%|#####7    | 4/7 [00:02<00:01,  1.94it/s]\u001b[32m[I 2021-09-05 00:34:25,891]\u001b[0m Trial 3 finished with value: 0.04749705999897788 and parameters: {'feature_fraction': 0.8999999999999999}. Best is trial 2 with value: 0.04748557714124466.\u001b[0m\n",
            "feature_fraction, val_score: 0.047486:  57%|#####7    | 4/7 [00:02<00:01,  1.94it/s]"
          ]
        },
        {
          "output_type": "stream",
          "name": "stdout",
          "text": [
            "[200]\ttrain's binary_logloss: 0.0446368\teval's binary_logloss: 0.0475004\n",
            "Early stopping, best iteration is:\n",
            "[119]\ttrain's binary_logloss: 0.0446419\teval's binary_logloss: 0.0474971\n",
            "Training until validation scores don't improve for 100 rounds\n",
            "[100]\ttrain's binary_logloss: 0.0449107\teval's binary_logloss: 0.0477719\n",
            "[200]\ttrain's binary_logloss: 0.0447769\teval's binary_logloss: 0.0476542\n",
            "[300]\ttrain's binary_logloss: 0.0447465\teval's binary_logloss: 0.0476627\n",
            "[400]\ttrain's binary_logloss: 0.0447216\teval's binary_logloss: 0.0476102\n",
            "[500]\ttrain's binary_logloss: 0.0447089\teval's binary_logloss: 0.0476055\n",
            "[600]\ttrain's binary_logloss: 0.0446975\teval's binary_logloss: 0.047581\n",
            "[700]\ttrain's binary_logloss: 0.0446902\teval's binary_logloss: 0.0475639\n",
            "[800]\ttrain's binary_logloss: 0.0446824\teval's binary_logloss: 0.0475584\n",
            "[900]\ttrain's binary_logloss: 0.0446765\teval's binary_logloss: 0.0475482\n"
          ]
        },
        {
          "output_type": "stream",
          "name": "stderr",
          "text": [
            "feature_fraction, val_score: 0.047486:  71%|#######1  | 5/7 [00:03<00:01,  1.36it/s]\u001b[32m[I 2021-09-05 00:34:27,024]\u001b[0m Trial 4 finished with value: 0.047543477603282626 and parameters: {'feature_fraction': 0.6}. Best is trial 2 with value: 0.04748557714124466.\u001b[0m\n",
            "feature_fraction, val_score: 0.047486:  71%|#######1  | 5/7 [00:03<00:01,  1.36it/s]"
          ]
        },
        {
          "output_type": "stream",
          "name": "stdout",
          "text": [
            "Early stopping, best iteration is:\n",
            "[894]\ttrain's binary_logloss: 0.0446767\teval's binary_logloss: 0.0475435\n",
            "Training until validation scores don't improve for 100 rounds\n"
          ]
        },
        {
          "output_type": "stream",
          "name": "stderr",
          "text": [
            "feature_fraction, val_score: 0.047486:  86%|########5 | 6/7 [00:03<00:00,  1.69it/s]\u001b[32m[I 2021-09-05 00:34:27,335]\u001b[0m Trial 5 finished with value: 0.04748557714124466 and parameters: {'feature_fraction': 0.7}. Best is trial 2 with value: 0.04748557714124466.\u001b[0m\n",
            "feature_fraction, val_score: 0.047486:  86%|########5 | 6/7 [00:03<00:00,  1.69it/s]"
          ]
        },
        {
          "output_type": "stream",
          "name": "stdout",
          "text": [
            "[100]\ttrain's binary_logloss: 0.0446946\teval's binary_logloss: 0.0475375\n",
            "Early stopping, best iteration is:\n",
            "[70]\ttrain's binary_logloss: 0.0447592\teval's binary_logloss: 0.0474856\n",
            "Training until validation scores don't improve for 100 rounds\n",
            "[100]\ttrain's binary_logloss: 0.0446563\teval's binary_logloss: 0.0475103\n"
          ]
        },
        {
          "output_type": "stream",
          "name": "stderr",
          "text": [
            "feature_fraction, val_score: 0.047486: 100%|##########| 7/7 [00:04<00:00,  1.90it/s]\u001b[32m[I 2021-09-05 00:34:27,723]\u001b[0m Trial 6 finished with value: 0.04749705999897788 and parameters: {'feature_fraction': 1.0}. Best is trial 2 with value: 0.04748557714124466.\u001b[0m\n",
            "feature_fraction, val_score: 0.047486: 100%|##########| 7/7 [00:04<00:00,  1.73it/s]\n"
          ]
        },
        {
          "output_type": "stream",
          "name": "stdout",
          "text": [
            "[200]\ttrain's binary_logloss: 0.0446368\teval's binary_logloss: 0.0475004\n",
            "Early stopping, best iteration is:\n",
            "[119]\ttrain's binary_logloss: 0.0446419\teval's binary_logloss: 0.0474971\n"
          ]
        },
        {
          "output_type": "stream",
          "name": "stderr",
          "text": [
            "num_leaves, val_score: 0.047486:   0%|          | 0/20 [00:00<?, ?it/s]"
          ]
        },
        {
          "output_type": "stream",
          "name": "stdout",
          "text": [
            "Training until validation scores don't improve for 100 rounds\n",
            "[100]\ttrain's binary_logloss: 0.0446946\teval's binary_logloss: 0.0475375\n",
            "Early stopping, best iteration is:\n",
            "[70]\ttrain's binary_logloss: 0.0447592\teval's binary_logloss: 0.0474856\n"
          ]
        },
        {
          "output_type": "stream",
          "name": "stderr",
          "text": [
            "num_leaves, val_score: 0.047486:   5%|5         | 1/20 [00:00<00:06,  3.16it/s]\u001b[32m[I 2021-09-05 00:34:28,049]\u001b[0m Trial 7 finished with value: 0.04748557714124465 and parameters: {'num_leaves': 184}. Best is trial 7 with value: 0.04748557714124465.\u001b[0m\n",
            "num_leaves, val_score: 0.047486:   5%|5         | 1/20 [00:00<00:06,  3.16it/s]"
          ]
        },
        {
          "output_type": "stream",
          "name": "stdout",
          "text": [
            "Training until validation scores don't improve for 100 rounds\n",
            "[100]\ttrain's binary_logloss: 0.0446946\teval's binary_logloss: 0.0475375\n",
            "Early stopping, best iteration is:\n",
            "[70]\ttrain's binary_logloss: 0.0447592\teval's binary_logloss: 0.0474856\n"
          ]
        },
        {
          "output_type": "stream",
          "name": "stderr",
          "text": [
            "num_leaves, val_score: 0.047486:  10%|#         | 2/20 [00:00<00:05,  3.15it/s]\u001b[32m[I 2021-09-05 00:34:28,366]\u001b[0m Trial 8 finished with value: 0.04748557714124466 and parameters: {'num_leaves': 204}. Best is trial 7 with value: 0.04748557714124465.\u001b[0m\n",
            "num_leaves, val_score: 0.047486:  10%|#         | 2/20 [00:00<00:05,  3.15it/s]"
          ]
        },
        {
          "output_type": "stream",
          "name": "stdout",
          "text": [
            "Training until validation scores don't improve for 100 rounds\n",
            "[100]\ttrain's binary_logloss: 0.0446946\teval's binary_logloss: 0.0475375\n",
            "Early stopping, best iteration is:\n",
            "[70]\ttrain's binary_logloss: 0.0447592\teval's binary_logloss: 0.0474856\n"
          ]
        },
        {
          "output_type": "stream",
          "name": "stderr",
          "text": [
            "num_leaves, val_score: 0.047486:  15%|#5        | 3/20 [00:00<00:05,  3.17it/s]\u001b[32m[I 2021-09-05 00:34:28,678]\u001b[0m Trial 9 finished with value: 0.04748557714124466 and parameters: {'num_leaves': 138}. Best is trial 7 with value: 0.04748557714124465.\u001b[0m\n",
            "num_leaves, val_score: 0.047486:  15%|#5        | 3/20 [00:00<00:05,  3.17it/s]"
          ]
        },
        {
          "output_type": "stream",
          "name": "stdout",
          "text": [
            "Training until validation scores don't improve for 100 rounds\n",
            "[100]\ttrain's binary_logloss: 0.0446946\teval's binary_logloss: 0.0475375\n",
            "Early stopping, best iteration is:\n",
            "[70]\ttrain's binary_logloss: 0.0447592\teval's binary_logloss: 0.0474856\n"
          ]
        },
        {
          "output_type": "stream",
          "name": "stderr",
          "text": [
            "num_leaves, val_score: 0.047486:  20%|##        | 4/20 [00:01<00:04,  3.21it/s]\u001b[32m[I 2021-09-05 00:34:28,984]\u001b[0m Trial 10 finished with value: 0.04748557714124466 and parameters: {'num_leaves': 32}. Best is trial 7 with value: 0.04748557714124465.\u001b[0m\n",
            "num_leaves, val_score: 0.047486:  20%|##        | 4/20 [00:01<00:04,  3.21it/s]"
          ]
        },
        {
          "output_type": "stream",
          "name": "stdout",
          "text": [
            "Training until validation scores don't improve for 100 rounds\n",
            "[100]\ttrain's binary_logloss: 0.0446946\teval's binary_logloss: 0.0475375\n",
            "Early stopping, best iteration is:\n",
            "[70]\ttrain's binary_logloss: 0.0447592\teval's binary_logloss: 0.0474856\n"
          ]
        },
        {
          "output_type": "stream",
          "name": "stderr",
          "text": [
            "num_leaves, val_score: 0.047486:  25%|##5       | 5/20 [00:01<00:04,  3.27it/s]\u001b[32m[I 2021-09-05 00:34:29,281]\u001b[0m Trial 11 finished with value: 0.04748557714124465 and parameters: {'num_leaves': 142}. Best is trial 7 with value: 0.04748557714124465.\u001b[0m\n",
            "num_leaves, val_score: 0.047486:  25%|##5       | 5/20 [00:01<00:04,  3.27it/s]"
          ]
        },
        {
          "output_type": "stream",
          "name": "stdout",
          "text": [
            "Training until validation scores don't improve for 100 rounds\n",
            "[100]\ttrain's binary_logloss: 0.0446946\teval's binary_logloss: 0.0475375\n",
            "Early stopping, best iteration is:\n",
            "[70]\ttrain's binary_logloss: 0.0447592\teval's binary_logloss: 0.0474856\n"
          ]
        },
        {
          "output_type": "stream",
          "name": "stderr",
          "text": [
            "num_leaves, val_score: 0.047486:  30%|###       | 6/20 [00:01<00:04,  3.25it/s]\u001b[32m[I 2021-09-05 00:34:29,592]\u001b[0m Trial 12 finished with value: 0.04748557714124466 and parameters: {'num_leaves': 220}. Best is trial 7 with value: 0.04748557714124465.\u001b[0m\n",
            "num_leaves, val_score: 0.047486:  30%|###       | 6/20 [00:01<00:04,  3.25it/s]"
          ]
        },
        {
          "output_type": "stream",
          "name": "stdout",
          "text": [
            "Training until validation scores don't improve for 100 rounds\n",
            "[100]\ttrain's binary_logloss: 0.0446946\teval's binary_logloss: 0.0475375\n",
            "Early stopping, best iteration is:\n",
            "[70]\ttrain's binary_logloss: 0.0447592\teval's binary_logloss: 0.0474856\n"
          ]
        },
        {
          "output_type": "stream",
          "name": "stderr",
          "text": [
            "num_leaves, val_score: 0.047486:  35%|###5      | 7/20 [00:02<00:03,  3.25it/s]\u001b[32m[I 2021-09-05 00:34:29,899]\u001b[0m Trial 13 finished with value: 0.04748557714124466 and parameters: {'num_leaves': 23}. Best is trial 7 with value: 0.04748557714124465.\u001b[0m\n",
            "num_leaves, val_score: 0.047486:  35%|###5      | 7/20 [00:02<00:03,  3.25it/s]"
          ]
        },
        {
          "output_type": "stream",
          "name": "stdout",
          "text": [
            "Training until validation scores don't improve for 100 rounds\n",
            "[100]\ttrain's binary_logloss: 0.0446946\teval's binary_logloss: 0.0475375\n",
            "Early stopping, best iteration is:\n",
            "[70]\ttrain's binary_logloss: 0.0447592\teval's binary_logloss: 0.0474856\n"
          ]
        },
        {
          "output_type": "stream",
          "name": "stderr",
          "text": [
            "num_leaves, val_score: 0.047486:  40%|####      | 8/20 [00:02<00:03,  3.23it/s]\u001b[32m[I 2021-09-05 00:34:30,212]\u001b[0m Trial 14 finished with value: 0.04748557714124466 and parameters: {'num_leaves': 145}. Best is trial 7 with value: 0.04748557714124465.\u001b[0m\n",
            "num_leaves, val_score: 0.047486:  40%|####      | 8/20 [00:02<00:03,  3.23it/s]"
          ]
        },
        {
          "output_type": "stream",
          "name": "stdout",
          "text": [
            "Training until validation scores don't improve for 100 rounds\n",
            "[100]\ttrain's binary_logloss: 0.0446946\teval's binary_logloss: 0.0475375\n",
            "Early stopping, best iteration is:\n",
            "[70]\ttrain's binary_logloss: 0.0447592\teval's binary_logloss: 0.0474856\n"
          ]
        },
        {
          "output_type": "stream",
          "name": "stderr",
          "text": [
            "num_leaves, val_score: 0.047486:  45%|####5     | 9/20 [00:02<00:03,  3.23it/s]\u001b[32m[I 2021-09-05 00:34:30,523]\u001b[0m Trial 15 finished with value: 0.04748557714124466 and parameters: {'num_leaves': 215}. Best is trial 7 with value: 0.04748557714124465.\u001b[0m\n",
            "num_leaves, val_score: 0.047486:  45%|####5     | 9/20 [00:02<00:03,  3.23it/s]"
          ]
        },
        {
          "output_type": "stream",
          "name": "stdout",
          "text": [
            "Training until validation scores don't improve for 100 rounds\n",
            "[100]\ttrain's binary_logloss: 0.0446946\teval's binary_logloss: 0.0475375\n",
            "Early stopping, best iteration is:\n",
            "[70]\ttrain's binary_logloss: 0.0447592\teval's binary_logloss: 0.0474856\n"
          ]
        },
        {
          "output_type": "stream",
          "name": "stderr",
          "text": [
            "num_leaves, val_score: 0.047486:  50%|#####     | 10/20 [00:03<00:03,  3.18it/s]\u001b[32m[I 2021-09-05 00:34:30,850]\u001b[0m Trial 16 finished with value: 0.04748557714124466 and parameters: {'num_leaves': 183}. Best is trial 7 with value: 0.04748557714124465.\u001b[0m\n",
            "num_leaves, val_score: 0.047486:  50%|#####     | 10/20 [00:03<00:03,  3.18it/s]"
          ]
        },
        {
          "output_type": "stream",
          "name": "stdout",
          "text": [
            "Training until validation scores don't improve for 100 rounds\n",
            "[100]\ttrain's binary_logloss: 0.0446946\teval's binary_logloss: 0.0475375\n",
            "Early stopping, best iteration is:\n",
            "[70]\ttrain's binary_logloss: 0.0447592\teval's binary_logloss: 0.0474856\n"
          ]
        },
        {
          "output_type": "stream",
          "name": "stderr",
          "text": [
            "num_leaves, val_score: 0.047486:  55%|#####5    | 11/20 [00:03<00:02,  3.18it/s]\u001b[32m[I 2021-09-05 00:34:31,161]\u001b[0m Trial 17 finished with value: 0.04748557714124465 and parameters: {'num_leaves': 255}. Best is trial 7 with value: 0.04748557714124465.\u001b[0m\n",
            "num_leaves, val_score: 0.047486:  55%|#####5    | 11/20 [00:03<00:02,  3.18it/s]"
          ]
        },
        {
          "output_type": "stream",
          "name": "stdout",
          "text": [
            "Training until validation scores don't improve for 100 rounds\n",
            "[100]\ttrain's binary_logloss: 0.0446946\teval's binary_logloss: 0.0475375\n",
            "Early stopping, best iteration is:\n",
            "[70]\ttrain's binary_logloss: 0.0447592\teval's binary_logloss: 0.0474856\n"
          ]
        },
        {
          "output_type": "stream",
          "name": "stderr",
          "text": [
            "num_leaves, val_score: 0.047486:  60%|######    | 12/20 [00:03<00:02,  3.16it/s]\u001b[32m[I 2021-09-05 00:34:31,484]\u001b[0m Trial 18 finished with value: 0.04748557714124466 and parameters: {'num_leaves': 89}. Best is trial 7 with value: 0.04748557714124465.\u001b[0m\n",
            "num_leaves, val_score: 0.047486:  60%|######    | 12/20 [00:03<00:02,  3.16it/s]"
          ]
        },
        {
          "output_type": "stream",
          "name": "stdout",
          "text": [
            "Training until validation scores don't improve for 100 rounds\n",
            "[100]\ttrain's binary_logloss: 0.0446946\teval's binary_logloss: 0.0475375\n",
            "Early stopping, best iteration is:\n",
            "[70]\ttrain's binary_logloss: 0.0447592\teval's binary_logloss: 0.0474856\n"
          ]
        },
        {
          "output_type": "stream",
          "name": "stderr",
          "text": [
            "num_leaves, val_score: 0.047486:  65%|######5   | 13/20 [00:04<00:02,  3.13it/s]\u001b[32m[I 2021-09-05 00:34:31,810]\u001b[0m Trial 19 finished with value: 0.04748557714124466 and parameters: {'num_leaves': 95}. Best is trial 7 with value: 0.04748557714124465.\u001b[0m\n",
            "num_leaves, val_score: 0.047486:  65%|######5   | 13/20 [00:04<00:02,  3.13it/s]"
          ]
        },
        {
          "output_type": "stream",
          "name": "stdout",
          "text": [
            "Training until validation scores don't improve for 100 rounds\n",
            "[100]\ttrain's binary_logloss: 0.0446946\teval's binary_logloss: 0.0475375\n",
            "Early stopping, best iteration is:\n",
            "[70]\ttrain's binary_logloss: 0.0447592\teval's binary_logloss: 0.0474856\n"
          ]
        },
        {
          "output_type": "stream",
          "name": "stderr",
          "text": [
            "num_leaves, val_score: 0.047486:  70%|#######   | 14/20 [00:04<00:01,  3.16it/s]\u001b[32m[I 2021-09-05 00:34:32,120]\u001b[0m Trial 20 finished with value: 0.04748557714124466 and parameters: {'num_leaves': 165}. Best is trial 7 with value: 0.04748557714124465.\u001b[0m\n",
            "num_leaves, val_score: 0.047486:  70%|#######   | 14/20 [00:04<00:01,  3.16it/s]"
          ]
        },
        {
          "output_type": "stream",
          "name": "stdout",
          "text": [
            "Training until validation scores don't improve for 100 rounds\n",
            "[100]\ttrain's binary_logloss: 0.0446946\teval's binary_logloss: 0.0475375\n",
            "Early stopping, best iteration is:\n",
            "[70]\ttrain's binary_logloss: 0.0447592\teval's binary_logloss: 0.0474856\n"
          ]
        },
        {
          "output_type": "stream",
          "name": "stderr",
          "text": [
            "num_leaves, val_score: 0.047486:  75%|#######5  | 15/20 [00:04<00:01,  3.12it/s]\u001b[32m[I 2021-09-05 00:34:32,450]\u001b[0m Trial 21 finished with value: 0.04748557714124466 and parameters: {'num_leaves': 93}. Best is trial 7 with value: 0.04748557714124465.\u001b[0m\n",
            "num_leaves, val_score: 0.047486:  75%|#######5  | 15/20 [00:04<00:01,  3.12it/s]"
          ]
        },
        {
          "output_type": "stream",
          "name": "stdout",
          "text": [
            "Training until validation scores don't improve for 100 rounds\n",
            "[100]\ttrain's binary_logloss: 0.0446946\teval's binary_logloss: 0.0475375\n",
            "Early stopping, best iteration is:\n",
            "[70]\ttrain's binary_logloss: 0.0447592\teval's binary_logloss: 0.0474856\n"
          ]
        },
        {
          "output_type": "stream",
          "name": "stderr",
          "text": [
            "num_leaves, val_score: 0.047486:  80%|########  | 16/20 [00:05<00:01,  3.14it/s]\u001b[32m[I 2021-09-05 00:34:32,764]\u001b[0m Trial 22 finished with value: 0.04748557714124466 and parameters: {'num_leaves': 125}. Best is trial 7 with value: 0.04748557714124465.\u001b[0m\n",
            "num_leaves, val_score: 0.047486:  80%|########  | 16/20 [00:05<00:01,  3.14it/s]"
          ]
        },
        {
          "output_type": "stream",
          "name": "stdout",
          "text": [
            "Training until validation scores don't improve for 100 rounds\n",
            "[100]\ttrain's binary_logloss: 0.0446946\teval's binary_logloss: 0.0475375\n",
            "Early stopping, best iteration is:\n",
            "[70]\ttrain's binary_logloss: 0.0447592\teval's binary_logloss: 0.0474856\n"
          ]
        },
        {
          "output_type": "stream",
          "name": "stderr",
          "text": [
            "num_leaves, val_score: 0.047486:  85%|########5 | 17/20 [00:05<00:00,  3.16it/s]\u001b[32m[I 2021-09-05 00:34:33,075]\u001b[0m Trial 23 finished with value: 0.04748557714124466 and parameters: {'num_leaves': 255}. Best is trial 7 with value: 0.04748557714124465.\u001b[0m\n",
            "num_leaves, val_score: 0.047486:  85%|########5 | 17/20 [00:05<00:00,  3.16it/s]"
          ]
        },
        {
          "output_type": "stream",
          "name": "stdout",
          "text": [
            "Training until validation scores don't improve for 100 rounds\n",
            "[100]\ttrain's binary_logloss: 0.0446946\teval's binary_logloss: 0.0475375\n",
            "Early stopping, best iteration is:\n",
            "[70]\ttrain's binary_logloss: 0.0447592\teval's binary_logloss: 0.0474856\n"
          ]
        },
        {
          "output_type": "stream",
          "name": "stderr",
          "text": [
            "num_leaves, val_score: 0.047486:  90%|######### | 18/20 [00:05<00:00,  3.17it/s]\u001b[32m[I 2021-09-05 00:34:33,389]\u001b[0m Trial 24 finished with value: 0.04748557714124465 and parameters: {'num_leaves': 180}. Best is trial 7 with value: 0.04748557714124465.\u001b[0m\n",
            "num_leaves, val_score: 0.047486:  90%|######### | 18/20 [00:05<00:00,  3.17it/s]"
          ]
        },
        {
          "output_type": "stream",
          "name": "stdout",
          "text": [
            "Training until validation scores don't improve for 100 rounds\n",
            "[100]\ttrain's binary_logloss: 0.0446946\teval's binary_logloss: 0.0475375\n",
            "Early stopping, best iteration is:\n",
            "[70]\ttrain's binary_logloss: 0.0447592\teval's binary_logloss: 0.0474856\n"
          ]
        },
        {
          "output_type": "stream",
          "name": "stderr",
          "text": [
            "num_leaves, val_score: 0.047486:  95%|#########5| 19/20 [00:05<00:00,  3.17it/s]\u001b[32m[I 2021-09-05 00:34:33,702]\u001b[0m Trial 25 finished with value: 0.04748557714124466 and parameters: {'num_leaves': 256}. Best is trial 7 with value: 0.04748557714124465.\u001b[0m\n",
            "num_leaves, val_score: 0.047486:  95%|#########5| 19/20 [00:05<00:00,  3.17it/s]"
          ]
        },
        {
          "output_type": "stream",
          "name": "stdout",
          "text": [
            "Training until validation scores don't improve for 100 rounds\n",
            "[100]\ttrain's binary_logloss: 0.0446946\teval's binary_logloss: 0.0475375\n",
            "Early stopping, best iteration is:\n",
            "[70]\ttrain's binary_logloss: 0.0447592\teval's binary_logloss: 0.0474856\n"
          ]
        },
        {
          "output_type": "stream",
          "name": "stderr",
          "text": [
            "num_leaves, val_score: 0.047486: 100%|##########| 20/20 [00:06<00:00,  3.16it/s]\u001b[32m[I 2021-09-05 00:34:34,024]\u001b[0m Trial 26 finished with value: 0.04748557714124465 and parameters: {'num_leaves': 118}. Best is trial 7 with value: 0.04748557714124465.\u001b[0m\n",
            "num_leaves, val_score: 0.047486: 100%|##########| 20/20 [00:06<00:00,  3.18it/s]\n",
            "bagging, val_score: 0.047486:   0%|          | 0/10 [00:00<?, ?it/s]"
          ]
        },
        {
          "output_type": "stream",
          "name": "stdout",
          "text": [
            "Training until validation scores don't improve for 100 rounds\n",
            "[100]\ttrain's binary_logloss: 0.0447067\teval's binary_logloss: 0.0474862\n"
          ]
        },
        {
          "output_type": "stream",
          "name": "stderr",
          "text": [
            "bagging, val_score: 0.047445:  10%|#         | 1/10 [00:00<00:03,  2.70it/s]\u001b[32m[I 2021-09-05 00:34:34,402]\u001b[0m Trial 27 finished with value: 0.047444836555924456 and parameters: {'bagging_fraction': 0.8084832311320993, 'bagging_freq': 1}. Best is trial 27 with value: 0.047444836555924456.\u001b[0m\n",
            "bagging, val_score: 0.047445:  10%|#         | 1/10 [00:00<00:03,  2.70it/s]"
          ]
        },
        {
          "output_type": "stream",
          "name": "stdout",
          "text": [
            "[200]\ttrain's binary_logloss: 0.0446496\teval's binary_logloss: 0.0475441\n",
            "Early stopping, best iteration is:\n",
            "[103]\ttrain's binary_logloss: 0.0447004\teval's binary_logloss: 0.0474448\n",
            "Training until validation scores don't improve for 100 rounds\n",
            "[100]\ttrain's binary_logloss: 0.0447223\teval's binary_logloss: 0.0475574\n",
            "[200]\ttrain's binary_logloss: 0.0446604\teval's binary_logloss: 0.0475589\n",
            "[300]\ttrain's binary_logloss: 0.044653\teval's binary_logloss: 0.0474066\n",
            "[400]\ttrain's binary_logloss: 0.0446422\teval's binary_logloss: 0.0475349\n",
            "Early stopping, best iteration is:\n",
            "[359]\ttrain's binary_logloss: 0.0446476\teval's binary_logloss: 0.0473513\n"
          ]
        },
        {
          "output_type": "stream",
          "name": "stderr",
          "text": [
            "bagging, val_score: 0.047351:  20%|##        | 2/10 [00:01<00:04,  1.75it/s]\u001b[32m[I 2021-09-05 00:34:35,115]\u001b[0m Trial 28 finished with value: 0.04735134680328732 and parameters: {'bagging_fraction': 0.7391673566787271, 'bagging_freq': 1}. Best is trial 28 with value: 0.04735134680328732.\u001b[0m\n",
            "bagging, val_score: 0.047351:  20%|##        | 2/10 [00:01<00:04,  1.75it/s]"
          ]
        },
        {
          "output_type": "stream",
          "name": "stdout",
          "text": [
            "Training until validation scores don't improve for 100 rounds\n",
            "[100]\ttrain's binary_logloss: 0.0448411\teval's binary_logloss: 0.047393\n"
          ]
        },
        {
          "output_type": "stream",
          "name": "stderr",
          "text": [
            "bagging, val_score: 0.047200:  30%|###       | 3/10 [00:01<00:03,  2.07it/s]\u001b[32m[I 2021-09-05 00:34:35,493]\u001b[0m Trial 29 finished with value: 0.04719981679031752 and parameters: {'bagging_fraction': 0.454472922573226, 'bagging_freq': 5}. Best is trial 29 with value: 0.04719981679031752.\u001b[0m\n",
            "bagging, val_score: 0.047200:  30%|###       | 3/10 [00:01<00:03,  2.07it/s]"
          ]
        },
        {
          "output_type": "stream",
          "name": "stdout",
          "text": [
            "[200]\ttrain's binary_logloss: 0.0447835\teval's binary_logloss: 0.0476484\n",
            "Early stopping, best iteration is:\n",
            "[120]\ttrain's binary_logloss: 0.0448567\teval's binary_logloss: 0.0471998\n",
            "Training until validation scores don't improve for 100 rounds\n"
          ]
        },
        {
          "output_type": "stream",
          "name": "stderr",
          "text": [
            "bagging, val_score: 0.047200:  40%|####      | 4/10 [00:01<00:02,  2.33it/s]\u001b[32m[I 2021-09-05 00:34:35,839]\u001b[0m Trial 30 finished with value: 0.04742615520835222 and parameters: {'bagging_fraction': 0.5697598045367789, 'bagging_freq': 5}. Best is trial 29 with value: 0.04719981679031752.\u001b[0m\n",
            "bagging, val_score: 0.047200:  40%|####      | 4/10 [00:01<00:02,  2.33it/s]"
          ]
        },
        {
          "output_type": "stream",
          "name": "stdout",
          "text": [
            "[100]\ttrain's binary_logloss: 0.0448067\teval's binary_logloss: 0.0475709\n",
            "Early stopping, best iteration is:\n",
            "[70]\ttrain's binary_logloss: 0.0448576\teval's binary_logloss: 0.0474262\n",
            "Training until validation scores don't improve for 100 rounds\n",
            "[100]\ttrain's binary_logloss: 0.0447686\teval's binary_logloss: 0.0476234\n"
          ]
        },
        {
          "output_type": "stream",
          "name": "stderr",
          "text": [
            "bagging, val_score: 0.047200:  50%|#####     | 5/10 [00:02<00:02,  2.33it/s]\u001b[32m[I 2021-09-05 00:34:36,267]\u001b[0m Trial 31 finished with value: 0.04726898907935977 and parameters: {'bagging_fraction': 0.4759432776802932, 'bagging_freq': 3}. Best is trial 29 with value: 0.04719981679031752.\u001b[0m\n",
            "bagging, val_score: 0.047200:  50%|#####     | 5/10 [00:02<00:02,  2.33it/s]"
          ]
        },
        {
          "output_type": "stream",
          "name": "stdout",
          "text": [
            "[200]\ttrain's binary_logloss: 0.0447216\teval's binary_logloss: 0.0474351\n",
            "Early stopping, best iteration is:\n",
            "[156]\ttrain's binary_logloss: 0.044741\teval's binary_logloss: 0.047269\n",
            "Training until validation scores don't improve for 100 rounds\n",
            "[100]\ttrain's binary_logloss: 0.0447177\teval's binary_logloss: 0.0475391\n",
            "[200]\ttrain's binary_logloss: 0.0446579\teval's binary_logloss: 0.0475191\n",
            "[300]\ttrain's binary_logloss: 0.044643\teval's binary_logloss: 0.0475317\n",
            "Early stopping, best iteration is:\n",
            "[256]\ttrain's binary_logloss: 0.0446538\teval's binary_logloss: 0.0474052\n"
          ]
        },
        {
          "output_type": "stream",
          "name": "stderr",
          "text": [
            "bagging, val_score: 0.047200:  60%|######    | 6/10 [00:02<00:01,  2.06it/s]\u001b[32m[I 2021-09-05 00:34:36,865]\u001b[0m Trial 32 finished with value: 0.04740523814806007 and parameters: {'bagging_fraction': 0.8982140108124913, 'bagging_freq': 3}. Best is trial 29 with value: 0.04719981679031752.\u001b[0m\n",
            "bagging, val_score: 0.047200:  60%|######    | 6/10 [00:02<00:01,  2.06it/s]"
          ]
        },
        {
          "output_type": "stream",
          "name": "stdout",
          "text": [
            "Training until validation scores don't improve for 100 rounds\n",
            "[100]\ttrain's binary_logloss: 0.0447959\teval's binary_logloss: 0.0472861\n"
          ]
        },
        {
          "output_type": "stream",
          "name": "stderr",
          "text": [
            "bagging, val_score: 0.047200:  70%|#######   | 7/10 [00:03<00:01,  2.20it/s]\u001b[32m[I 2021-09-05 00:34:37,253]\u001b[0m Trial 33 finished with value: 0.04727908949558712 and parameters: {'bagging_fraction': 0.4810934398130955, 'bagging_freq': 2}. Best is trial 29 with value: 0.04719981679031752.\u001b[0m\n",
            "bagging, val_score: 0.047200:  70%|#######   | 7/10 [00:03<00:01,  2.20it/s]"
          ]
        },
        {
          "output_type": "stream",
          "name": "stdout",
          "text": [
            "[200]\ttrain's binary_logloss: 0.0447027\teval's binary_logloss: 0.0477421\n",
            "Early stopping, best iteration is:\n",
            "[104]\ttrain's binary_logloss: 0.0447918\teval's binary_logloss: 0.0472791\n",
            "Training until validation scores don't improve for 100 rounds\n",
            "[100]\ttrain's binary_logloss: 0.0448184\teval's binary_logloss: 0.0474593\n",
            "[200]\ttrain's binary_logloss: 0.0447564\teval's binary_logloss: 0.0471812\n"
          ]
        },
        {
          "output_type": "stream",
          "name": "stderr",
          "text": [
            "bagging, val_score: 0.047181:  80%|########  | 8/10 [00:03<00:00,  2.16it/s]\u001b[32m[I 2021-09-05 00:34:37,737]\u001b[0m Trial 34 finished with value: 0.04718121072670062 and parameters: {'bagging_fraction': 0.4767786965958738, 'bagging_freq': 4}. Best is trial 34 with value: 0.04718121072670062.\u001b[0m\n",
            "bagging, val_score: 0.047181:  80%|########  | 8/10 [00:03<00:00,  2.16it/s]"
          ]
        },
        {
          "output_type": "stream",
          "name": "stdout",
          "text": [
            "[300]\ttrain's binary_logloss: 0.0447108\teval's binary_logloss: 0.047733\n",
            "Early stopping, best iteration is:\n",
            "[200]\ttrain's binary_logloss: 0.0447564\teval's binary_logloss: 0.0471812\n",
            "Training until validation scores don't improve for 100 rounds\n",
            "[100]\ttrain's binary_logloss: 0.044701\teval's binary_logloss: 0.0475797\n",
            "[200]\ttrain's binary_logloss: 0.0446483\teval's binary_logloss: 0.0475062\n"
          ]
        },
        {
          "output_type": "stream",
          "name": "stderr",
          "text": [
            "bagging, val_score: 0.047181:  90%|######### | 9/10 [00:04<00:00,  1.88it/s]\u001b[32m[I 2021-09-05 00:34:38,423]\u001b[0m Trial 35 finished with value: 0.047470677393692436 and parameters: {'bagging_fraction': 0.971975664700381, 'bagging_freq': 4}. Best is trial 34 with value: 0.04718121072670062.\u001b[0m\n",
            "bagging, val_score: 0.047181:  90%|######### | 9/10 [00:04<00:00,  1.88it/s]"
          ]
        },
        {
          "output_type": "stream",
          "name": "stdout",
          "text": [
            "[300]\ttrain's binary_logloss: 0.0446377\teval's binary_logloss: 0.047481\n",
            "[400]\ttrain's binary_logloss: 0.0446349\teval's binary_logloss: 0.0474862\n",
            "Early stopping, best iteration is:\n",
            "[316]\ttrain's binary_logloss: 0.0446378\teval's binary_logloss: 0.0474707\n",
            "Training until validation scores don't improve for 100 rounds\n",
            "[100]\ttrain's binary_logloss: 0.0447425\teval's binary_logloss: 0.047523\n"
          ]
        },
        {
          "output_type": "stream",
          "name": "stderr",
          "text": [
            "bagging, val_score: 0.047181: 100%|##########| 10/10 [00:04<00:00,  2.09it/s]\u001b[32m[I 2021-09-05 00:34:38,778]\u001b[0m Trial 36 finished with value: 0.04731332509625077 and parameters: {'bagging_fraction': 0.7614811937293318, 'bagging_freq': 6}. Best is trial 34 with value: 0.04718121072670062.\u001b[0m\n",
            "bagging, val_score: 0.047181: 100%|##########| 10/10 [00:04<00:00,  2.11it/s]\n"
          ]
        },
        {
          "output_type": "stream",
          "name": "stdout",
          "text": [
            "Early stopping, best iteration is:\n",
            "[84]\ttrain's binary_logloss: 0.04476\teval's binary_logloss: 0.0473133\n"
          ]
        },
        {
          "output_type": "stream",
          "name": "stderr",
          "text": [
            "feature_fraction_stage2, val_score: 0.047181:   0%|          | 0/6 [00:00<?, ?it/s]"
          ]
        },
        {
          "output_type": "stream",
          "name": "stdout",
          "text": [
            "Training until validation scores don't improve for 100 rounds\n",
            "[100]\ttrain's binary_logloss: 0.0448184\teval's binary_logloss: 0.0474593\n",
            "[200]\ttrain's binary_logloss: 0.0447564\teval's binary_logloss: 0.0471812\n"
          ]
        },
        {
          "output_type": "stream",
          "name": "stderr",
          "text": [
            "feature_fraction_stage2, val_score: 0.047181:  17%|#6        | 1/6 [00:00<00:02,  2.10it/s]\u001b[32m[I 2021-09-05 00:34:39,263]\u001b[0m Trial 37 finished with value: 0.04718121072670062 and parameters: {'feature_fraction': 0.7200000000000001}. Best is trial 37 with value: 0.04718121072670062.\u001b[0m\n",
            "feature_fraction_stage2, val_score: 0.047181:  17%|#6        | 1/6 [00:00<00:02,  2.10it/s]"
          ]
        },
        {
          "output_type": "stream",
          "name": "stdout",
          "text": [
            "[300]\ttrain's binary_logloss: 0.0447108\teval's binary_logloss: 0.047733\n",
            "Early stopping, best iteration is:\n",
            "[200]\ttrain's binary_logloss: 0.0447564\teval's binary_logloss: 0.0471812\n",
            "Training until validation scores don't improve for 100 rounds\n",
            "[100]\ttrain's binary_logloss: 0.0448184\teval's binary_logloss: 0.0474593\n",
            "[200]\ttrain's binary_logloss: 0.0447564\teval's binary_logloss: 0.0471812\n"
          ]
        },
        {
          "output_type": "stream",
          "name": "stderr",
          "text": [
            "feature_fraction_stage2, val_score: 0.047181:  33%|###3      | 2/6 [00:00<00:01,  2.06it/s]\u001b[32m[I 2021-09-05 00:34:39,759]\u001b[0m Trial 38 finished with value: 0.04718121072670062 and parameters: {'feature_fraction': 0.8160000000000001}. Best is trial 37 with value: 0.04718121072670062.\u001b[0m\n",
            "feature_fraction_stage2, val_score: 0.047181:  33%|###3      | 2/6 [00:00<00:01,  2.06it/s]"
          ]
        },
        {
          "output_type": "stream",
          "name": "stdout",
          "text": [
            "[300]\ttrain's binary_logloss: 0.0447108\teval's binary_logloss: 0.047733\n",
            "Early stopping, best iteration is:\n",
            "[200]\ttrain's binary_logloss: 0.0447564\teval's binary_logloss: 0.0471812\n",
            "Training until validation scores don't improve for 100 rounds\n",
            "[100]\ttrain's binary_logloss: 0.0448184\teval's binary_logloss: 0.0474593\n",
            "[200]\ttrain's binary_logloss: 0.0447564\teval's binary_logloss: 0.0471812\n"
          ]
        },
        {
          "output_type": "stream",
          "name": "stderr",
          "text": [
            "feature_fraction_stage2, val_score: 0.047181:  50%|#####     | 3/6 [00:01<00:01,  2.04it/s]\u001b[32m[I 2021-09-05 00:34:40,255]\u001b[0m Trial 39 finished with value: 0.04718121072670062 and parameters: {'feature_fraction': 0.784}. Best is trial 37 with value: 0.04718121072670062.\u001b[0m\n",
            "feature_fraction_stage2, val_score: 0.047181:  50%|#####     | 3/6 [00:01<00:01,  2.04it/s]"
          ]
        },
        {
          "output_type": "stream",
          "name": "stdout",
          "text": [
            "[300]\ttrain's binary_logloss: 0.0447108\teval's binary_logloss: 0.047733\n",
            "Early stopping, best iteration is:\n",
            "[200]\ttrain's binary_logloss: 0.0447564\teval's binary_logloss: 0.0471812\n",
            "Training until validation scores don't improve for 100 rounds\n",
            "[100]\ttrain's binary_logloss: 0.0448184\teval's binary_logloss: 0.0474593\n",
            "[200]\ttrain's binary_logloss: 0.0447564\teval's binary_logloss: 0.0471812\n"
          ]
        },
        {
          "output_type": "stream",
          "name": "stderr",
          "text": [
            "feature_fraction_stage2, val_score: 0.047181:  67%|######6   | 4/6 [00:01<00:00,  2.04it/s]\u001b[32m[I 2021-09-05 00:34:40,742]\u001b[0m Trial 40 finished with value: 0.04718121072670062 and parameters: {'feature_fraction': 0.88}. Best is trial 37 with value: 0.04718121072670062.\u001b[0m\n",
            "feature_fraction_stage2, val_score: 0.047181:  67%|######6   | 4/6 [00:01<00:00,  2.04it/s]"
          ]
        },
        {
          "output_type": "stream",
          "name": "stdout",
          "text": [
            "[300]\ttrain's binary_logloss: 0.0447108\teval's binary_logloss: 0.047733\n",
            "Early stopping, best iteration is:\n",
            "[200]\ttrain's binary_logloss: 0.0447564\teval's binary_logloss: 0.0471812\n",
            "Training until validation scores don't improve for 100 rounds\n",
            "[100]\ttrain's binary_logloss: 0.0448184\teval's binary_logloss: 0.0474593\n",
            "[200]\ttrain's binary_logloss: 0.0447564\teval's binary_logloss: 0.0471812\n"
          ]
        },
        {
          "output_type": "stream",
          "name": "stderr",
          "text": [
            "feature_fraction_stage2, val_score: 0.047181:  83%|########3 | 5/6 [00:02<00:00,  2.06it/s]\u001b[32m[I 2021-09-05 00:34:41,219]\u001b[0m Trial 41 finished with value: 0.04718121072670062 and parameters: {'feature_fraction': 0.8480000000000001}. Best is trial 37 with value: 0.04718121072670062.\u001b[0m\n",
            "feature_fraction_stage2, val_score: 0.047181:  83%|########3 | 5/6 [00:02<00:00,  2.06it/s]"
          ]
        },
        {
          "output_type": "stream",
          "name": "stdout",
          "text": [
            "[300]\ttrain's binary_logloss: 0.0447108\teval's binary_logloss: 0.047733\n",
            "Early stopping, best iteration is:\n",
            "[200]\ttrain's binary_logloss: 0.0447564\teval's binary_logloss: 0.0471812\n",
            "Training until validation scores don't improve for 100 rounds\n",
            "[100]\ttrain's binary_logloss: 0.0448184\teval's binary_logloss: 0.0474593\n",
            "[200]\ttrain's binary_logloss: 0.0447564\teval's binary_logloss: 0.0471812\n"
          ]
        },
        {
          "output_type": "stream",
          "name": "stderr",
          "text": [
            "feature_fraction_stage2, val_score: 0.047181: 100%|##########| 6/6 [00:02<00:00,  2.03it/s]\u001b[32m[I 2021-09-05 00:34:41,728]\u001b[0m Trial 42 finished with value: 0.04718121072670062 and parameters: {'feature_fraction': 0.7520000000000001}. Best is trial 37 with value: 0.04718121072670062.\u001b[0m\n",
            "feature_fraction_stage2, val_score: 0.047181: 100%|##########| 6/6 [00:02<00:00,  2.04it/s]\n"
          ]
        },
        {
          "output_type": "stream",
          "name": "stdout",
          "text": [
            "[300]\ttrain's binary_logloss: 0.0447108\teval's binary_logloss: 0.047733\n",
            "Early stopping, best iteration is:\n",
            "[200]\ttrain's binary_logloss: 0.0447564\teval's binary_logloss: 0.0471812\n"
          ]
        },
        {
          "output_type": "stream",
          "name": "stderr",
          "text": [
            "regularization_factors, val_score: 0.047181:   0%|          | 0/20 [00:00<?, ?it/s]"
          ]
        },
        {
          "output_type": "stream",
          "name": "stdout",
          "text": [
            "Training until validation scores don't improve for 100 rounds\n",
            "[100]\ttrain's binary_logloss: 0.044825\teval's binary_logloss: 0.0475514\n",
            "[200]\ttrain's binary_logloss: 0.0447636\teval's binary_logloss: 0.047253\n"
          ]
        },
        {
          "output_type": "stream",
          "name": "stderr",
          "text": [
            "regularization_factors, val_score: 0.047181:   5%|5         | 1/20 [00:00<00:09,  2.05it/s]\u001b[32m[I 2021-09-05 00:34:42,226]\u001b[0m Trial 43 finished with value: 0.047253007721734006 and parameters: {'lambda_l1': 6.991699008279311e-05, 'lambda_l2': 0.007451553303461516}. Best is trial 43 with value: 0.047253007721734006.\u001b[0m\n",
            "regularization_factors, val_score: 0.047181:   5%|5         | 1/20 [00:00<00:09,  2.05it/s]"
          ]
        },
        {
          "output_type": "stream",
          "name": "stdout",
          "text": [
            "[300]\ttrain's binary_logloss: 0.0447171\teval's binary_logloss: 0.0477432\n",
            "Early stopping, best iteration is:\n",
            "[200]\ttrain's binary_logloss: 0.0447636\teval's binary_logloss: 0.047253\n",
            "Training until validation scores don't improve for 100 rounds\n",
            "[100]\ttrain's binary_logloss: 0.0450067\teval's binary_logloss: 0.0476303\n",
            "[200]\ttrain's binary_logloss: 0.044898\teval's binary_logloss: 0.0474072\n",
            "[300]\ttrain's binary_logloss: 0.0448527\teval's binary_logloss: 0.0478839\n",
            "Early stopping, best iteration is:\n",
            "[208]\ttrain's binary_logloss: 0.0449219\teval's binary_logloss: 0.0474008\n"
          ]
        },
        {
          "output_type": "stream",
          "name": "stderr",
          "text": [
            "regularization_factors, val_score: 0.047181:  10%|#         | 2/20 [00:00<00:08,  2.22it/s]\u001b[32m[I 2021-09-05 00:34:42,650]\u001b[0m Trial 44 finished with value: 0.04740078049121836 and parameters: {'lambda_l1': 0.258107591423519, 'lambda_l2': 1.1201407936799948e-08}. Best is trial 43 with value: 0.047253007721734006.\u001b[0m\n",
            "regularization_factors, val_score: 0.047181:  10%|#         | 2/20 [00:00<00:08,  2.22it/s]"
          ]
        },
        {
          "output_type": "stream",
          "name": "stdout",
          "text": [
            "Training until validation scores don't improve for 100 rounds\n",
            "[100]\ttrain's binary_logloss: 0.0448444\teval's binary_logloss: 0.0475139\n",
            "[200]\ttrain's binary_logloss: 0.0447892\teval's binary_logloss: 0.0472228\n"
          ]
        },
        {
          "output_type": "stream",
          "name": "stderr",
          "text": [
            "regularization_factors, val_score: 0.047181:  15%|#5        | 3/20 [00:01<00:08,  2.08it/s]\u001b[32m[I 2021-09-05 00:34:43,165]\u001b[0m Trial 45 finished with value: 0.04721815067335992 and parameters: {'lambda_l1': 4.301788337780174e-07, 'lambda_l2': 0.11345069743679848}. Best is trial 45 with value: 0.04721815067335992.\u001b[0m\n",
            "regularization_factors, val_score: 0.047181:  15%|#5        | 3/20 [00:01<00:08,  2.08it/s]"
          ]
        },
        {
          "output_type": "stream",
          "name": "stdout",
          "text": [
            "[300]\ttrain's binary_logloss: 0.0447383\teval's binary_logloss: 0.0477389\n",
            "Early stopping, best iteration is:\n",
            "[208]\ttrain's binary_logloss: 0.044801\teval's binary_logloss: 0.0472182\n",
            "Training until validation scores don't improve for 100 rounds\n",
            "[100]\ttrain's binary_logloss: 0.0448184\teval's binary_logloss: 0.0474593\n",
            "[200]\ttrain's binary_logloss: 0.0447564\teval's binary_logloss: 0.0471812\n"
          ]
        },
        {
          "output_type": "stream",
          "name": "stderr",
          "text": [
            "regularization_factors, val_score: 0.047181:  20%|##        | 4/20 [00:01<00:07,  2.03it/s]\u001b[32m[I 2021-09-05 00:34:43,677]\u001b[0m Trial 46 finished with value: 0.04718121590195871 and parameters: {'lambda_l1': 1.7967763999359632e-07, 'lambda_l2': 3.917107678574525e-06}. Best is trial 46 with value: 0.04718121590195871.\u001b[0m\n",
            "regularization_factors, val_score: 0.047181:  20%|##        | 4/20 [00:01<00:07,  2.03it/s]"
          ]
        },
        {
          "output_type": "stream",
          "name": "stdout",
          "text": [
            "[300]\ttrain's binary_logloss: 0.0447108\teval's binary_logloss: 0.047733\n",
            "Early stopping, best iteration is:\n",
            "[200]\ttrain's binary_logloss: 0.0447564\teval's binary_logloss: 0.0471812\n",
            "Training until validation scores don't improve for 100 rounds\n"
          ]
        },
        {
          "output_type": "stream",
          "name": "stderr",
          "text": [
            "regularization_factors, val_score: 0.047181:  25%|##5       | 5/20 [00:02<00:06,  2.46it/s]\u001b[32m[I 2021-09-05 00:34:43,934]\u001b[0m Trial 47 finished with value: 0.048646324073842 and parameters: {'lambda_l1': 9.693770059853215, 'lambda_l2': 0.001914727176504754}. Best is trial 46 with value: 0.04718121590195871.\u001b[0m\n",
            "regularization_factors, val_score: 0.047181:  25%|##5       | 5/20 [00:02<00:06,  2.46it/s]"
          ]
        },
        {
          "output_type": "stream",
          "name": "stdout",
          "text": [
            "[100]\ttrain's binary_logloss: 0.0463119\teval's binary_logloss: 0.0486463\n",
            "Early stopping, best iteration is:\n",
            "[76]\ttrain's binary_logloss: 0.0463119\teval's binary_logloss: 0.0486463\n",
            "Training until validation scores don't improve for 100 rounds\n",
            "[100]\ttrain's binary_logloss: 0.0448098\teval's binary_logloss: 0.0473933\n",
            "[200]\ttrain's binary_logloss: 0.0447532\teval's binary_logloss: 0.0472183\n"
          ]
        },
        {
          "output_type": "stream",
          "name": "stderr",
          "text": [
            "regularization_factors, val_score: 0.047181:  30%|###       | 6/20 [00:02<00:06,  2.26it/s]\u001b[32m[I 2021-09-05 00:34:44,441]\u001b[0m Trial 48 finished with value: 0.04721095359746234 and parameters: {'lambda_l1': 3.565307016271546e-05, 'lambda_l2': 2.953717113838918e-07}. Best is trial 46 with value: 0.04718121590195871.\u001b[0m\n",
            "regularization_factors, val_score: 0.047181:  30%|###       | 6/20 [00:02<00:06,  2.26it/s]"
          ]
        },
        {
          "output_type": "stream",
          "name": "stdout",
          "text": [
            "[300]\ttrain's binary_logloss: 0.0447137\teval's binary_logloss: 0.0477594\n",
            "Early stopping, best iteration is:\n",
            "[208]\ttrain's binary_logloss: 0.0447739\teval's binary_logloss: 0.047211\n",
            "Training until validation scores don't improve for 100 rounds\n",
            "[100]\ttrain's binary_logloss: 0.0450666\teval's binary_logloss: 0.0477181\n",
            "[200]\ttrain's binary_logloss: 0.044955\teval's binary_logloss: 0.0474994\n",
            "[300]\ttrain's binary_logloss: 0.044878\teval's binary_logloss: 0.0479344\n",
            "Early stopping, best iteration is:\n",
            "[200]\ttrain's binary_logloss: 0.044955\teval's binary_logloss: 0.0474994\n"
          ]
        },
        {
          "output_type": "stream",
          "name": "stderr",
          "text": [
            "regularization_factors, val_score: 0.047181:  35%|###5      | 7/20 [00:03<00:05,  2.28it/s]\u001b[32m[I 2021-09-05 00:34:44,876]\u001b[0m Trial 49 finished with value: 0.047499430079874304 and parameters: {'lambda_l1': 0.29421126653805973, 'lambda_l2': 0.09513114750507749}. Best is trial 46 with value: 0.04718121590195871.\u001b[0m\n",
            "regularization_factors, val_score: 0.047181:  35%|###5      | 7/20 [00:03<00:05,  2.28it/s]"
          ]
        },
        {
          "output_type": "stream",
          "name": "stdout",
          "text": [
            "Training until validation scores don't improve for 100 rounds\n",
            "[100]\ttrain's binary_logloss: 0.0459633\teval's binary_logloss: 0.0483344\n",
            "[200]\ttrain's binary_logloss: 0.0458703\teval's binary_logloss: 0.0482533\n",
            "[300]\ttrain's binary_logloss: 0.0457952\teval's binary_logloss: 0.0482232\n",
            "Early stopping, best iteration is:\n",
            "[261]\ttrain's binary_logloss: 0.0458174\teval's binary_logloss: 0.0481678\n"
          ]
        },
        {
          "output_type": "stream",
          "name": "stderr",
          "text": [
            "regularization_factors, val_score: 0.047181:  40%|####      | 8/20 [00:03<00:05,  2.30it/s]\u001b[32m[I 2021-09-05 00:34:45,301]\u001b[0m Trial 50 finished with value: 0.04816781256193268 and parameters: {'lambda_l1': 6.5332522141877805, 'lambda_l2': 0.018395958422975093}. Best is trial 46 with value: 0.04718121590195871.\u001b[0m\n",
            "regularization_factors, val_score: 0.047181:  40%|####      | 8/20 [00:03<00:05,  2.30it/s]"
          ]
        },
        {
          "output_type": "stream",
          "name": "stdout",
          "text": [
            "Training until validation scores don't improve for 100 rounds\n",
            "[100]\ttrain's binary_logloss: 0.0448098\teval's binary_logloss: 0.0473944\n"
          ]
        },
        {
          "output_type": "stream",
          "name": "stderr",
          "text": [
            "regularization_factors, val_score: 0.047181:  45%|####5     | 9/20 [00:03<00:04,  2.40it/s]\u001b[32m[I 2021-09-05 00:34:45,675]\u001b[0m Trial 51 finished with value: 0.04730545741581691 and parameters: {'lambda_l1': 2.440360532671928e-06, 'lambda_l2': 0.0003969363204587475}. Best is trial 46 with value: 0.04718121590195871.\u001b[0m\n",
            "regularization_factors, val_score: 0.047181:  45%|####5     | 9/20 [00:03<00:04,  2.40it/s]"
          ]
        },
        {
          "output_type": "stream",
          "name": "stdout",
          "text": [
            "Early stopping, best iteration is:\n",
            "[98]\ttrain's binary_logloss: 0.0448003\teval's binary_logloss: 0.0473055\n",
            "Training until validation scores don't improve for 100 rounds\n",
            "[100]\ttrain's binary_logloss: 0.0448216\teval's binary_logloss: 0.0475098\n",
            "[200]\ttrain's binary_logloss: 0.0447587\teval's binary_logloss: 0.0472008\n"
          ]
        },
        {
          "output_type": "stream",
          "name": "stderr",
          "text": [
            "regularization_factors, val_score: 0.047181:  50%|#####     | 10/20 [00:04<00:04,  2.25it/s]\u001b[32m[I 2021-09-05 00:34:46,186]\u001b[0m Trial 52 finished with value: 0.047194570087064625 and parameters: {'lambda_l1': 6.88165912762751e-05, 'lambda_l2': 9.81688782578795e-07}. Best is trial 46 with value: 0.04718121590195871.\u001b[0m\n",
            "regularization_factors, val_score: 0.047181:  50%|#####     | 10/20 [00:04<00:04,  2.25it/s]"
          ]
        },
        {
          "output_type": "stream",
          "name": "stdout",
          "text": [
            "[300]\ttrain's binary_logloss: 0.0447107\teval's binary_logloss: 0.0477329\n",
            "Early stopping, best iteration is:\n",
            "[208]\ttrain's binary_logloss: 0.0447757\teval's binary_logloss: 0.0471946\n",
            "Training until validation scores don't improve for 100 rounds\n",
            "[100]\ttrain's binary_logloss: 0.0448184\teval's binary_logloss: 0.0474593\n",
            "[200]\ttrain's binary_logloss: 0.0447645\teval's binary_logloss: 0.047165\n"
          ]
        },
        {
          "output_type": "stream",
          "name": "stderr",
          "text": [
            "regularization_factors, val_score: 0.047165:  55%|#####5    | 11/20 [00:04<00:04,  2.17it/s]\u001b[32m[I 2021-09-05 00:34:46,684]\u001b[0m Trial 53 finished with value: 0.04716502626840582 and parameters: {'lambda_l1': 2.1804526533766226e-08, 'lambda_l2': 1.6470228356149945e-05}. Best is trial 53 with value: 0.04716502626840582.\u001b[0m\n",
            "regularization_factors, val_score: 0.047165:  55%|#####5    | 11/20 [00:04<00:04,  2.17it/s]"
          ]
        },
        {
          "output_type": "stream",
          "name": "stdout",
          "text": [
            "[300]\ttrain's binary_logloss: 0.0447139\teval's binary_logloss: 0.047754\n",
            "Early stopping, best iteration is:\n",
            "[200]\ttrain's binary_logloss: 0.0447645\teval's binary_logloss: 0.047165\n",
            "Training until validation scores don't improve for 100 rounds\n",
            "[100]\ttrain's binary_logloss: 0.0448184\teval's binary_logloss: 0.0474593\n",
            "[200]\ttrain's binary_logloss: 0.0447645\teval's binary_logloss: 0.047165\n"
          ]
        },
        {
          "output_type": "stream",
          "name": "stderr",
          "text": [
            "regularization_factors, val_score: 0.047165:  60%|######    | 12/20 [00:05<00:03,  2.11it/s]\u001b[32m[I 2021-09-05 00:34:47,188]\u001b[0m Trial 54 finished with value: 0.04716502345139395 and parameters: {'lambda_l1': 1.251064788615936e-08, 'lambda_l2': 1.1860647261244564e-05}. Best is trial 54 with value: 0.04716502345139395.\u001b[0m\n",
            "regularization_factors, val_score: 0.047165:  60%|######    | 12/20 [00:05<00:03,  2.11it/s]"
          ]
        },
        {
          "output_type": "stream",
          "name": "stdout",
          "text": [
            "[300]\ttrain's binary_logloss: 0.0447139\teval's binary_logloss: 0.047754\n",
            "Early stopping, best iteration is:\n",
            "[200]\ttrain's binary_logloss: 0.0447645\teval's binary_logloss: 0.047165\n",
            "Training until validation scores don't improve for 100 rounds\n",
            "[100]\ttrain's binary_logloss: 0.0448184\teval's binary_logloss: 0.0474594\n",
            "[200]\ttrain's binary_logloss: 0.0447645\teval's binary_logloss: 0.047165\n"
          ]
        },
        {
          "output_type": "stream",
          "name": "stderr",
          "text": [
            "regularization_factors, val_score: 0.047165:  65%|######5   | 13/20 [00:05<00:03,  2.06it/s]\u001b[32m[I 2021-09-05 00:34:47,701]\u001b[0m Trial 55 finished with value: 0.047165024216635106 and parameters: {'lambda_l1': 1.0488752890819464e-08, 'lambda_l2': 1.386726534483136e-05}. Best is trial 54 with value: 0.04716502345139395.\u001b[0m\n",
            "regularization_factors, val_score: 0.047165:  65%|######5   | 13/20 [00:05<00:03,  2.06it/s]"
          ]
        },
        {
          "output_type": "stream",
          "name": "stdout",
          "text": [
            "[300]\ttrain's binary_logloss: 0.0447139\teval's binary_logloss: 0.047754\n",
            "Early stopping, best iteration is:\n",
            "[200]\ttrain's binary_logloss: 0.0447645\teval's binary_logloss: 0.047165\n",
            "Training until validation scores don't improve for 100 rounds\n",
            "[100]\ttrain's binary_logloss: 0.0454052\teval's binary_logloss: 0.0481601\n",
            "[200]\ttrain's binary_logloss: 0.0451732\teval's binary_logloss: 0.0477793\n",
            "Early stopping, best iteration is:\n",
            "[194]\ttrain's binary_logloss: 0.0451834\teval's binary_logloss: 0.0477783\n"
          ]
        },
        {
          "output_type": "stream",
          "name": "stderr",
          "text": [
            "regularization_factors, val_score: 0.047165:  70%|#######   | 14/20 [00:06<00:02,  2.12it/s]\u001b[32m[I 2021-09-05 00:34:48,139]\u001b[0m Trial 56 finished with value: 0.04777825276404903 and parameters: {'lambda_l1': 1.2939324832289732e-08, 'lambda_l2': 6.660093938439376}. Best is trial 54 with value: 0.04716502345139395.\u001b[0m\n",
            "regularization_factors, val_score: 0.047165:  70%|#######   | 14/20 [00:06<00:02,  2.12it/s]"
          ]
        },
        {
          "output_type": "stream",
          "name": "stdout",
          "text": [
            "Training until validation scores don't improve for 100 rounds\n",
            "[100]\ttrain's binary_logloss: 0.044826\teval's binary_logloss: 0.0475273\n"
          ]
        },
        {
          "output_type": "stream",
          "name": "stderr",
          "text": [
            "regularization_factors, val_score: 0.047165:  75%|#######5  | 15/20 [00:06<00:02,  2.10it/s]\u001b[32m[I 2021-09-05 00:34:48,631]\u001b[0m Trial 57 finished with value: 0.04721358307926627 and parameters: {'lambda_l1': 0.0019448378295933832, 'lambda_l2': 3.130384786727635e-05}. Best is trial 54 with value: 0.04716502345139395.\u001b[0m\n",
            "regularization_factors, val_score: 0.047165:  75%|#######5  | 15/20 [00:06<00:02,  2.10it/s]"
          ]
        },
        {
          "output_type": "stream",
          "name": "stdout",
          "text": [
            "[200]\ttrain's binary_logloss: 0.0447673\teval's binary_logloss: 0.0472136\n",
            "[300]\ttrain's binary_logloss: 0.0447186\teval's binary_logloss: 0.0478034\n",
            "Early stopping, best iteration is:\n",
            "[200]\ttrain's binary_logloss: 0.0447673\teval's binary_logloss: 0.0472136\n",
            "Training until validation scores don't improve for 100 rounds\n",
            "[100]\ttrain's binary_logloss: 0.0448184\teval's binary_logloss: 0.0474593\n"
          ]
        },
        {
          "output_type": "stream",
          "name": "stderr",
          "text": [
            "regularization_factors, val_score: 0.047165:  80%|########  | 16/20 [00:07<00:01,  2.03it/s]\u001b[32m[I 2021-09-05 00:34:49,154]\u001b[0m Trial 58 finished with value: 0.047181215138310834 and parameters: {'lambda_l1': 1.9913062327141636e-06, 'lambda_l2': 6.438587287890888e-08}. Best is trial 54 with value: 0.04716502345139395.\u001b[0m\n",
            "regularization_factors, val_score: 0.047165:  80%|########  | 16/20 [00:07<00:01,  2.03it/s]"
          ]
        },
        {
          "output_type": "stream",
          "name": "stdout",
          "text": [
            "[200]\ttrain's binary_logloss: 0.0447564\teval's binary_logloss: 0.0471812\n",
            "[300]\ttrain's binary_logloss: 0.0447094\teval's binary_logloss: 0.0477396\n",
            "Early stopping, best iteration is:\n",
            "[200]\ttrain's binary_logloss: 0.0447564\teval's binary_logloss: 0.0471812\n",
            "Training until validation scores don't improve for 100 rounds\n",
            "[100]\ttrain's binary_logloss: 0.0448101\teval's binary_logloss: 0.0473942\n"
          ]
        },
        {
          "output_type": "stream",
          "name": "stderr",
          "text": [
            "regularization_factors, val_score: 0.047165:  85%|########5 | 17/20 [00:07<00:01,  2.02it/s]\u001b[32m[I 2021-09-05 00:34:49,661]\u001b[0m Trial 59 finished with value: 0.04719023870275984 and parameters: {'lambda_l1': 9.895824240165888e-08, 'lambda_l2': 6.961892117232036e-05}. Best is trial 54 with value: 0.04716502345139395.\u001b[0m\n",
            "regularization_factors, val_score: 0.047165:  85%|########5 | 17/20 [00:07<00:01,  2.02it/s]"
          ]
        },
        {
          "output_type": "stream",
          "name": "stdout",
          "text": [
            "[200]\ttrain's binary_logloss: 0.0447565\teval's binary_logloss: 0.0471977\n",
            "[300]\ttrain's binary_logloss: 0.0447157\teval's binary_logloss: 0.0477603\n",
            "Early stopping, best iteration is:\n",
            "[208]\ttrain's binary_logloss: 0.044775\teval's binary_logloss: 0.0471902\n",
            "Training until validation scores don't improve for 100 rounds\n",
            "[100]\ttrain's binary_logloss: 0.0448285\teval's binary_logloss: 0.0474496\n"
          ]
        },
        {
          "output_type": "stream",
          "name": "stderr",
          "text": [
            "regularization_factors, val_score: 0.047165:  90%|######### | 18/20 [00:08<00:00,  2.02it/s]\u001b[32m[I 2021-09-05 00:34:50,152]\u001b[0m Trial 60 finished with value: 0.04721411846825369 and parameters: {'lambda_l1': 0.0032879444052768977, 'lambda_l2': 0.0002461813865264684}. Best is trial 54 with value: 0.04716502345139395.\u001b[0m\n",
            "regularization_factors, val_score: 0.047165:  90%|######### | 18/20 [00:08<00:00,  2.02it/s]"
          ]
        },
        {
          "output_type": "stream",
          "name": "stdout",
          "text": [
            "[200]\ttrain's binary_logloss: 0.044762\teval's binary_logloss: 0.0472244\n",
            "[300]\ttrain's binary_logloss: 0.0447249\teval's binary_logloss: 0.0477414\n",
            "Early stopping, best iteration is:\n",
            "[208]\ttrain's binary_logloss: 0.0447854\teval's binary_logloss: 0.0472141\n",
            "Training until validation scores don't improve for 100 rounds\n",
            "[100]\ttrain's binary_logloss: 0.0448184\teval's binary_logloss: 0.0474593\n"
          ]
        },
        {
          "output_type": "stream",
          "name": "stderr",
          "text": [
            "regularization_factors, val_score: 0.047165:  95%|#########5| 19/20 [00:09<00:00,  1.76it/s]\u001b[32m[I 2021-09-05 00:34:50,889]\u001b[0m Trial 61 finished with value: 0.04716778861913092 and parameters: {'lambda_l1': 5.200956808294092e-06, 'lambda_l2': 1.9932482268426843e-06}. Best is trial 54 with value: 0.04716502345139395.\u001b[0m\n",
            "regularization_factors, val_score: 0.047165:  95%|#########5| 19/20 [00:09<00:00,  1.76it/s]"
          ]
        },
        {
          "output_type": "stream",
          "name": "stdout",
          "text": [
            "[200]\ttrain's binary_logloss: 0.0447635\teval's binary_logloss: 0.0471678\n",
            "[300]\ttrain's binary_logloss: 0.044714\teval's binary_logloss: 0.0477515\n",
            "Early stopping, best iteration is:\n",
            "[200]\ttrain's binary_logloss: 0.0447635\teval's binary_logloss: 0.0471678\n",
            "Training until validation scores don't improve for 100 rounds\n",
            "[100]\ttrain's binary_logloss: 0.0448184\teval's binary_logloss: 0.0474593\n"
          ]
        },
        {
          "output_type": "stream",
          "name": "stderr",
          "text": [
            "regularization_factors, val_score: 0.047165: 100%|##########| 20/20 [00:09<00:00,  1.84it/s]\u001b[32m[I 2021-09-05 00:34:51,379]\u001b[0m Trial 62 finished with value: 0.04718122228769309 and parameters: {'lambda_l1': 1.073670003466035e-08, 'lambda_l2': 9.111581657427968e-06}. Best is trial 54 with value: 0.04716502345139395.\u001b[0m\n",
            "regularization_factors, val_score: 0.047165: 100%|##########| 20/20 [00:09<00:00,  2.07it/s]\n"
          ]
        },
        {
          "output_type": "stream",
          "name": "stdout",
          "text": [
            "[200]\ttrain's binary_logloss: 0.0447564\teval's binary_logloss: 0.0471812\n",
            "[300]\ttrain's binary_logloss: 0.0447094\teval's binary_logloss: 0.0477397\n",
            "Early stopping, best iteration is:\n",
            "[200]\ttrain's binary_logloss: 0.0447564\teval's binary_logloss: 0.0471812\n"
          ]
        },
        {
          "output_type": "stream",
          "name": "stderr",
          "text": [
            "min_data_in_leaf, val_score: 0.047165:   0%|          | 0/5 [00:00<?, ?it/s]"
          ]
        },
        {
          "output_type": "stream",
          "name": "stdout",
          "text": [
            "Training until validation scores don't improve for 100 rounds\n",
            "[100]\ttrain's binary_logloss: 0.0447701\teval's binary_logloss: 0.0475177\n"
          ]
        },
        {
          "output_type": "stream",
          "name": "stderr",
          "text": [
            "min_data_in_leaf, val_score: 0.047165:  20%|##        | 1/5 [00:00<00:01,  2.88it/s]\u001b[32m[I 2021-09-05 00:34:51,734]\u001b[0m Trial 63 finished with value: 0.047426750391292086 and parameters: {'min_child_samples': 10}. Best is trial 63 with value: 0.047426750391292086.\u001b[0m\n",
            "min_data_in_leaf, val_score: 0.047165:  20%|##        | 1/5 [00:00<00:01,  2.88it/s]"
          ]
        },
        {
          "output_type": "stream",
          "name": "stdout",
          "text": [
            "Early stopping, best iteration is:\n",
            "[57]\ttrain's binary_logloss: 0.0448652\teval's binary_logloss: 0.0474268\n",
            "Training until validation scores don't improve for 100 rounds\n",
            "[100]\ttrain's binary_logloss: 0.0449971\teval's binary_logloss: 0.0476933\n",
            "[200]\ttrain's binary_logloss: 0.0448476\teval's binary_logloss: 0.0474799\n"
          ]
        },
        {
          "output_type": "stream",
          "name": "stderr",
          "text": [
            "min_data_in_leaf, val_score: 0.047165:  40%|####      | 2/5 [00:00<00:01,  2.40it/s]\u001b[32m[I 2021-09-05 00:34:52,201]\u001b[0m Trial 64 finished with value: 0.04741026700973643 and parameters: {'min_child_samples': 100}. Best is trial 64 with value: 0.04741026700973643.\u001b[0m\n",
            "min_data_in_leaf, val_score: 0.047165:  40%|####      | 2/5 [00:00<00:01,  2.40it/s]"
          ]
        },
        {
          "output_type": "stream",
          "name": "stdout",
          "text": [
            "[300]\ttrain's binary_logloss: 0.044791\teval's binary_logloss: 0.0476889\n",
            "Early stopping, best iteration is:\n",
            "[208]\ttrain's binary_logloss: 0.0448694\teval's binary_logloss: 0.0474103\n",
            "Training until validation scores don't improve for 100 rounds\n"
          ]
        },
        {
          "output_type": "stream",
          "name": "stderr",
          "text": [
            "min_data_in_leaf, val_score: 0.047165:  60%|######    | 3/5 [00:01<00:00,  2.52it/s]\u001b[32m[I 2021-09-05 00:34:52,572]\u001b[0m Trial 65 finished with value: 0.0473341250885441 and parameters: {'min_child_samples': 5}. Best is trial 65 with value: 0.0473341250885441.\u001b[0m\n",
            "min_data_in_leaf, val_score: 0.047165:  60%|######    | 3/5 [00:01<00:00,  2.52it/s]"
          ]
        },
        {
          "output_type": "stream",
          "name": "stdout",
          "text": [
            "[100]\ttrain's binary_logloss: 0.044737\teval's binary_logloss: 0.0474442\n",
            "Early stopping, best iteration is:\n",
            "[95]\ttrain's binary_logloss: 0.0447184\teval's binary_logloss: 0.0473341\n",
            "Training until validation scores don't improve for 100 rounds\n",
            "[100]\ttrain's binary_logloss: 0.0448246\teval's binary_logloss: 0.0474836\n"
          ]
        },
        {
          "output_type": "stream",
          "name": "stderr",
          "text": [
            "min_data_in_leaf, val_score: 0.047122:  80%|########  | 4/5 [00:01<00:00,  2.31it/s]\u001b[32m[I 2021-09-05 00:34:53,064]\u001b[0m Trial 66 finished with value: 0.04712200216973474 and parameters: {'min_child_samples': 25}. Best is trial 66 with value: 0.04712200216973474.\u001b[0m\n",
            "min_data_in_leaf, val_score: 0.047122:  80%|########  | 4/5 [00:01<00:00,  2.31it/s]"
          ]
        },
        {
          "output_type": "stream",
          "name": "stdout",
          "text": [
            "[200]\ttrain's binary_logloss: 0.0447653\teval's binary_logloss: 0.0471345\n",
            "[300]\ttrain's binary_logloss: 0.0447076\teval's binary_logloss: 0.0476519\n",
            "Early stopping, best iteration is:\n",
            "[208]\ttrain's binary_logloss: 0.0447874\teval's binary_logloss: 0.047122\n",
            "Training until validation scores don't improve for 100 rounds\n",
            "[100]\ttrain's binary_logloss: 0.0449214\teval's binary_logloss: 0.0476126\n"
          ]
        },
        {
          "output_type": "stream",
          "name": "stderr",
          "text": [
            "min_data_in_leaf, val_score: 0.047122: 100%|##########| 5/5 [00:02<00:00,  2.18it/s]\u001b[32m[I 2021-09-05 00:34:53,569]\u001b[0m Trial 67 finished with value: 0.04728988845127948 and parameters: {'min_child_samples': 50}. Best is trial 66 with value: 0.04712200216973474.\u001b[0m\n",
            "min_data_in_leaf, val_score: 0.047122: 100%|##########| 5/5 [00:02<00:00,  2.29it/s]\n",
            "Best Params 0 - {'objective': 'binary', 'metric': 'binary_logloss', 'num_class': 1, 'device_type': 'gpu', 'seed': 440, 'verbosity': -1, 'feature_pre_filter': False, 'lambda_l1': 1.251064788615936e-08, 'lambda_l2': 1.1860647261244564e-05, 'num_leaves': 184, 'feature_fraction': 0.8, 'bagging_fraction': 0.4767786965958738, 'bagging_freq': 4, 'min_child_samples': 25, 'num_iterations': 10000, 'early_stopping_round': 100}\n",
            "Result 0 - Score: 0.9658073058649428, time: 30s\n",
            "Result 0 - Save Best Model\n"
          ]
        },
        {
          "output_type": "stream",
          "name": "stdout",
          "text": [
            "[200]\ttrain's binary_logloss: 0.0447931\teval's binary_logloss: 0.0473185\n",
            "[300]\ttrain's binary_logloss: 0.0447429\teval's binary_logloss: 0.0476419\n",
            "Early stopping, best iteration is:\n",
            "[208]\ttrain's binary_logloss: 0.0448103\teval's binary_logloss: 0.0472899\n"
          ]
        },
        {
          "output_type": "stream",
          "name": "stderr",
          "text": [
            "========== fold: 0 result ==========\n",
            "Score: 0.96581\n",
            "========== fold: 1 training ==========\n",
            "\u001b[32m[I 2021-09-05 00:34:53,638]\u001b[0m A new study created in memory with name: no-name-1a53b617-3924-4ed6-9afe-b85fe049441d\u001b[0m\n",
            "feature_fraction, val_score: 0.050092:  14%|#4        | 1/7 [00:00<00:01,  3.74it/s]\u001b[32m[I 2021-09-05 00:34:53,911]\u001b[0m Trial 0 finished with value: 0.050092129182084076 and parameters: {'feature_fraction': 0.5}. Best is trial 0 with value: 0.050092129182084076.\u001b[0m\n",
            "feature_fraction, val_score: 0.050092:  14%|#4        | 1/7 [00:00<00:01,  3.74it/s]"
          ]
        },
        {
          "output_type": "stream",
          "name": "stdout",
          "text": [
            "Training until validation scores don't improve for 100 rounds\n",
            "[100]\ttrain's binary_logloss: 0.0442616\teval's binary_logloss: 0.0505638\n",
            "Early stopping, best iteration is:\n",
            "[44]\ttrain's binary_logloss: 0.0450694\teval's binary_logloss: 0.0500921\n"
          ]
        },
        {
          "output_type": "stream",
          "name": "stderr",
          "text": [
            "feature_fraction, val_score: 0.050073:  29%|##8       | 2/7 [00:00<00:01,  3.66it/s]\u001b[32m[I 2021-09-05 00:34:54,189]\u001b[0m Trial 1 finished with value: 0.050072843455368395 and parameters: {'feature_fraction': 0.8}. Best is trial 1 with value: 0.050072843455368395.\u001b[0m\n",
            "feature_fraction, val_score: 0.050073:  29%|##8       | 2/7 [00:00<00:01,  3.66it/s]"
          ]
        },
        {
          "output_type": "stream",
          "name": "stdout",
          "text": [
            "Training until validation scores don't improve for 100 rounds\n",
            "[100]\ttrain's binary_logloss: 0.04395\teval's binary_logloss: 0.0505674\n",
            "Early stopping, best iteration is:\n",
            "[41]\ttrain's binary_logloss: 0.0445407\teval's binary_logloss: 0.0500728\n",
            "Training until validation scores don't improve for 100 rounds\n",
            "[100]\ttrain's binary_logloss: 0.0439264\teval's binary_logloss: 0.0505284\n",
            "Early stopping, best iteration is:\n",
            "[42]\ttrain's binary_logloss: 0.0443934\teval's binary_logloss: 0.0501225\n"
          ]
        },
        {
          "output_type": "stream",
          "name": "stderr",
          "text": [
            "feature_fraction, val_score: 0.050073:  43%|####2     | 3/7 [00:00<00:01,  3.51it/s]\u001b[32m[I 2021-09-05 00:34:54,489]\u001b[0m Trial 2 finished with value: 0.05012247844522428 and parameters: {'feature_fraction': 1.0}. Best is trial 1 with value: 0.050072843455368395.\u001b[0m\n",
            "feature_fraction, val_score: 0.050073:  57%|#####7    | 4/7 [00:01<00:00,  3.55it/s]\u001b[32m[I 2021-09-05 00:34:54,766]\u001b[0m Trial 3 finished with value: 0.050092129182084076 and parameters: {'feature_fraction': 0.6}. Best is trial 1 with value: 0.050072843455368395.\u001b[0m\n",
            "feature_fraction, val_score: 0.050073:  57%|#####7    | 4/7 [00:01<00:00,  3.55it/s]"
          ]
        },
        {
          "output_type": "stream",
          "name": "stdout",
          "text": [
            "Training until validation scores don't improve for 100 rounds\n",
            "[100]\ttrain's binary_logloss: 0.0442616\teval's binary_logloss: 0.0505638\n",
            "Early stopping, best iteration is:\n",
            "[44]\ttrain's binary_logloss: 0.0450694\teval's binary_logloss: 0.0500921\n"
          ]
        },
        {
          "output_type": "stream",
          "name": "stderr",
          "text": [
            "feature_fraction, val_score: 0.050073:  71%|#######1  | 5/7 [00:01<00:00,  3.56it/s]\u001b[32m[I 2021-09-05 00:34:55,046]\u001b[0m Trial 4 finished with value: 0.050072843455368395 and parameters: {'feature_fraction': 0.7}. Best is trial 1 with value: 0.050072843455368395.\u001b[0m\n",
            "feature_fraction, val_score: 0.050073:  71%|#######1  | 5/7 [00:01<00:00,  3.56it/s]"
          ]
        },
        {
          "output_type": "stream",
          "name": "stdout",
          "text": [
            "Training until validation scores don't improve for 100 rounds\n",
            "[100]\ttrain's binary_logloss: 0.04395\teval's binary_logloss: 0.0505674\n",
            "Early stopping, best iteration is:\n",
            "[41]\ttrain's binary_logloss: 0.0445407\teval's binary_logloss: 0.0500728\n"
          ]
        },
        {
          "output_type": "stream",
          "name": "stderr",
          "text": [
            "feature_fraction, val_score: 0.050073:  86%|########5 | 6/7 [00:01<00:00,  3.62it/s]\u001b[32m[I 2021-09-05 00:34:55,311]\u001b[0m Trial 5 finished with value: 0.050090007202778904 and parameters: {'feature_fraction': 0.4}. Best is trial 1 with value: 0.050072843455368395.\u001b[0m\n",
            "feature_fraction, val_score: 0.050073:  86%|########5 | 6/7 [00:01<00:00,  3.62it/s]"
          ]
        },
        {
          "output_type": "stream",
          "name": "stdout",
          "text": [
            "Training until validation scores don't improve for 100 rounds\n",
            "[100]\ttrain's binary_logloss: 0.0449864\teval's binary_logloss: 0.0503402\n",
            "Early stopping, best iteration is:\n",
            "[55]\ttrain's binary_logloss: 0.0454176\teval's binary_logloss: 0.05009\n"
          ]
        },
        {
          "output_type": "stream",
          "name": "stderr",
          "text": [
            "\rfeature_fraction, val_score: 0.050073:  86%|########5 | 6/7 [00:01<00:00,  3.62it/s]"
          ]
        },
        {
          "output_type": "stream",
          "name": "stdout",
          "text": [
            "Training until validation scores don't improve for 100 rounds\n",
            "[100]\ttrain's binary_logloss: 0.0439264\teval's binary_logloss: 0.0505284\n",
            "Early stopping, best iteration is:\n",
            "[42]\ttrain's binary_logloss: 0.0443934\teval's binary_logloss: 0.0501225\n"
          ]
        },
        {
          "output_type": "stream",
          "name": "stderr",
          "text": [
            "feature_fraction, val_score: 0.050073: 100%|##########| 7/7 [00:01<00:00,  3.54it/s]\u001b[32m[I 2021-09-05 00:34:55,607]\u001b[0m Trial 6 finished with value: 0.05012247844522428 and parameters: {'feature_fraction': 0.8999999999999999}. Best is trial 1 with value: 0.050072843455368395.\u001b[0m\n",
            "feature_fraction, val_score: 0.050073: 100%|##########| 7/7 [00:01<00:00,  3.56it/s]\n",
            "num_leaves, val_score: 0.050073:   5%|5         | 1/20 [00:00<00:05,  3.55it/s]\u001b[32m[I 2021-09-05 00:34:55,899]\u001b[0m Trial 7 finished with value: 0.05007284345536841 and parameters: {'num_leaves': 202}. Best is trial 7 with value: 0.05007284345536841.\u001b[0m\n",
            "num_leaves, val_score: 0.050073:   5%|5         | 1/20 [00:00<00:05,  3.55it/s]"
          ]
        },
        {
          "output_type": "stream",
          "name": "stdout",
          "text": [
            "Training until validation scores don't improve for 100 rounds\n",
            "[100]\ttrain's binary_logloss: 0.04395\teval's binary_logloss: 0.0505674\n",
            "Early stopping, best iteration is:\n",
            "[41]\ttrain's binary_logloss: 0.0445407\teval's binary_logloss: 0.0500728\n"
          ]
        },
        {
          "output_type": "stream",
          "name": "stderr",
          "text": [
            "num_leaves, val_score: 0.050073:  10%|#         | 2/20 [00:00<00:05,  3.58it/s]\u001b[32m[I 2021-09-05 00:34:56,174]\u001b[0m Trial 8 finished with value: 0.05007284345536841 and parameters: {'num_leaves': 195}. Best is trial 7 with value: 0.05007284345536841.\u001b[0m\n",
            "num_leaves, val_score: 0.050073:  10%|#         | 2/20 [00:00<00:05,  3.58it/s]"
          ]
        },
        {
          "output_type": "stream",
          "name": "stdout",
          "text": [
            "Training until validation scores don't improve for 100 rounds\n",
            "[100]\ttrain's binary_logloss: 0.04395\teval's binary_logloss: 0.0505674\n",
            "Early stopping, best iteration is:\n",
            "[41]\ttrain's binary_logloss: 0.0445407\teval's binary_logloss: 0.0500728\n"
          ]
        },
        {
          "output_type": "stream",
          "name": "stderr",
          "text": [
            "num_leaves, val_score: 0.050073:  15%|#5        | 3/20 [00:00<00:04,  3.60it/s]\u001b[32m[I 2021-09-05 00:34:56,449]\u001b[0m Trial 9 finished with value: 0.05007284345536841 and parameters: {'num_leaves': 59}. Best is trial 7 with value: 0.05007284345536841.\u001b[0m\n",
            "num_leaves, val_score: 0.050073:  15%|#5        | 3/20 [00:00<00:04,  3.60it/s]"
          ]
        },
        {
          "output_type": "stream",
          "name": "stdout",
          "text": [
            "Training until validation scores don't improve for 100 rounds\n",
            "[100]\ttrain's binary_logloss: 0.04395\teval's binary_logloss: 0.0505674\n",
            "Early stopping, best iteration is:\n",
            "[41]\ttrain's binary_logloss: 0.0445407\teval's binary_logloss: 0.0500728\n"
          ]
        },
        {
          "output_type": "stream",
          "name": "stderr",
          "text": [
            "num_leaves, val_score: 0.050073:  20%|##        | 4/20 [00:01<00:04,  3.51it/s]\u001b[32m[I 2021-09-05 00:34:56,745]\u001b[0m Trial 10 finished with value: 0.050072843455368395 and parameters: {'num_leaves': 235}. Best is trial 10 with value: 0.050072843455368395.\u001b[0m\n"
          ]
        },
        {
          "output_type": "stream",
          "name": "stdout",
          "text": [
            "Training until validation scores don't improve for 100 rounds\n",
            "[100]\ttrain's binary_logloss: 0.04395\teval's binary_logloss: 0.0505674\n",
            "Early stopping, best iteration is:\n",
            "[41]\ttrain's binary_logloss: 0.0445407\teval's binary_logloss: 0.0500728\n"
          ]
        },
        {
          "output_type": "stream",
          "name": "stderr",
          "text": [
            "num_leaves, val_score: 0.050073:  25%|##5       | 5/20 [00:01<00:04,  3.47it/s]\u001b[32m[I 2021-09-05 00:34:57,039]\u001b[0m Trial 11 finished with value: 0.05007284345536841 and parameters: {'num_leaves': 72}. Best is trial 10 with value: 0.050072843455368395.\u001b[0m\n",
            "num_leaves, val_score: 0.050073:  25%|##5       | 5/20 [00:01<00:04,  3.47it/s]"
          ]
        },
        {
          "output_type": "stream",
          "name": "stdout",
          "text": [
            "Training until validation scores don't improve for 100 rounds\n",
            "[100]\ttrain's binary_logloss: 0.04395\teval's binary_logloss: 0.0505674\n",
            "Early stopping, best iteration is:\n",
            "[41]\ttrain's binary_logloss: 0.0445407\teval's binary_logloss: 0.0500728\n"
          ]
        },
        {
          "output_type": "stream",
          "name": "stderr",
          "text": [
            "num_leaves, val_score: 0.050073:  30%|###       | 6/20 [00:01<00:04,  3.49it/s]\u001b[32m[I 2021-09-05 00:34:57,322]\u001b[0m Trial 12 finished with value: 0.05007284345536841 and parameters: {'num_leaves': 176}. Best is trial 10 with value: 0.050072843455368395.\u001b[0m\n",
            "num_leaves, val_score: 0.050073:  30%|###       | 6/20 [00:01<00:04,  3.49it/s]"
          ]
        },
        {
          "output_type": "stream",
          "name": "stdout",
          "text": [
            "Training until validation scores don't improve for 100 rounds\n",
            "[100]\ttrain's binary_logloss: 0.04395\teval's binary_logloss: 0.0505674\n",
            "Early stopping, best iteration is:\n",
            "[41]\ttrain's binary_logloss: 0.0445407\teval's binary_logloss: 0.0500728\n"
          ]
        },
        {
          "output_type": "stream",
          "name": "stderr",
          "text": [
            "num_leaves, val_score: 0.050073:  35%|###5      | 7/20 [00:01<00:03,  3.47it/s]\u001b[32m[I 2021-09-05 00:34:57,615]\u001b[0m Trial 13 finished with value: 0.050072843455368395 and parameters: {'num_leaves': 175}. Best is trial 10 with value: 0.050072843455368395.\u001b[0m\n",
            "num_leaves, val_score: 0.050073:  35%|###5      | 7/20 [00:02<00:03,  3.47it/s]"
          ]
        },
        {
          "output_type": "stream",
          "name": "stdout",
          "text": [
            "Training until validation scores don't improve for 100 rounds\n",
            "[100]\ttrain's binary_logloss: 0.04395\teval's binary_logloss: 0.0505674\n",
            "Early stopping, best iteration is:\n",
            "[41]\ttrain's binary_logloss: 0.0445407\teval's binary_logloss: 0.0500728\n"
          ]
        },
        {
          "output_type": "stream",
          "name": "stderr",
          "text": [
            "num_leaves, val_score: 0.050073:  40%|####      | 8/20 [00:02<00:03,  3.47it/s]\u001b[32m[I 2021-09-05 00:34:57,901]\u001b[0m Trial 14 finished with value: 0.05007284345536841 and parameters: {'num_leaves': 21}. Best is trial 10 with value: 0.050072843455368395.\u001b[0m\n",
            "num_leaves, val_score: 0.050073:  40%|####      | 8/20 [00:02<00:03,  3.47it/s]"
          ]
        },
        {
          "output_type": "stream",
          "name": "stdout",
          "text": [
            "Training until validation scores don't improve for 100 rounds\n",
            "[100]\ttrain's binary_logloss: 0.04395\teval's binary_logloss: 0.0505674\n",
            "Early stopping, best iteration is:\n",
            "[41]\ttrain's binary_logloss: 0.0445407\teval's binary_logloss: 0.0500728\n"
          ]
        },
        {
          "output_type": "stream",
          "name": "stderr",
          "text": [
            "num_leaves, val_score: 0.050073:  45%|####5     | 9/20 [00:02<00:03,  3.44it/s]\u001b[32m[I 2021-09-05 00:34:58,199]\u001b[0m Trial 15 finished with value: 0.05007284345536841 and parameters: {'num_leaves': 61}. Best is trial 10 with value: 0.050072843455368395.\u001b[0m\n",
            "num_leaves, val_score: 0.050073:  45%|####5     | 9/20 [00:02<00:03,  3.44it/s]"
          ]
        },
        {
          "output_type": "stream",
          "name": "stdout",
          "text": [
            "Training until validation scores don't improve for 100 rounds\n",
            "[100]\ttrain's binary_logloss: 0.04395\teval's binary_logloss: 0.0505674\n",
            "Early stopping, best iteration is:\n",
            "[41]\ttrain's binary_logloss: 0.0445407\teval's binary_logloss: 0.0500728\n",
            "Training until validation scores don't improve for 100 rounds\n",
            "[100]\ttrain's binary_logloss: 0.04395\teval's binary_logloss: 0.0505674\n",
            "Early stopping, best iteration is:\n",
            "[41]\ttrain's binary_logloss: 0.0445407\teval's binary_logloss: 0.0500728\n"
          ]
        },
        {
          "output_type": "stream",
          "name": "stderr",
          "text": [
            "num_leaves, val_score: 0.050073:  50%|#####     | 10/20 [00:02<00:02,  3.39it/s]\u001b[32m[I 2021-09-05 00:34:58,503]\u001b[0m Trial 16 finished with value: 0.05007284345536841 and parameters: {'num_leaves': 123}. Best is trial 10 with value: 0.050072843455368395.\u001b[0m\n",
            "num_leaves, val_score: 0.050073:  55%|#####5    | 11/20 [00:03<00:02,  3.42it/s]\u001b[32m[I 2021-09-05 00:34:58,790]\u001b[0m Trial 17 finished with value: 0.05007284345536841 and parameters: {'num_leaves': 251}. Best is trial 10 with value: 0.050072843455368395.\u001b[0m\n",
            "num_leaves, val_score: 0.050073:  55%|#####5    | 11/20 [00:03<00:02,  3.42it/s]"
          ]
        },
        {
          "output_type": "stream",
          "name": "stdout",
          "text": [
            "Training until validation scores don't improve for 100 rounds\n",
            "[100]\ttrain's binary_logloss: 0.04395\teval's binary_logloss: 0.0505674\n",
            "Early stopping, best iteration is:\n",
            "[41]\ttrain's binary_logloss: 0.0445407\teval's binary_logloss: 0.0500728\n",
            "Training until validation scores don't improve for 100 rounds\n",
            "[100]\ttrain's binary_logloss: 0.04395\teval's binary_logloss: 0.0505674\n",
            "Early stopping, best iteration is:\n",
            "[41]\ttrain's binary_logloss: 0.0445407\teval's binary_logloss: 0.0500728\n"
          ]
        },
        {
          "output_type": "stream",
          "name": "stderr",
          "text": [
            "num_leaves, val_score: 0.050073:  60%|######    | 12/20 [00:03<00:02,  3.34it/s]\u001b[32m[I 2021-09-05 00:34:59,104]\u001b[0m Trial 18 finished with value: 0.050072843455368395 and parameters: {'num_leaves': 231}. Best is trial 10 with value: 0.050072843455368395.\u001b[0m\n",
            "num_leaves, val_score: 0.050073:  65%|######5   | 13/20 [00:03<00:02,  3.42it/s]\u001b[32m[I 2021-09-05 00:34:59,381]\u001b[0m Trial 19 finished with value: 0.05007284345536841 and parameters: {'num_leaves': 147}. Best is trial 10 with value: 0.050072843455368395.\u001b[0m\n",
            "num_leaves, val_score: 0.050073:  65%|######5   | 13/20 [00:03<00:02,  3.42it/s]"
          ]
        },
        {
          "output_type": "stream",
          "name": "stdout",
          "text": [
            "Training until validation scores don't improve for 100 rounds\n",
            "[100]\ttrain's binary_logloss: 0.04395\teval's binary_logloss: 0.0505674\n",
            "Early stopping, best iteration is:\n",
            "[41]\ttrain's binary_logloss: 0.0445407\teval's binary_logloss: 0.0500728\n"
          ]
        },
        {
          "output_type": "stream",
          "name": "stderr",
          "text": [
            "num_leaves, val_score: 0.050073:  70%|#######   | 14/20 [00:04<00:01,  3.40it/s]\u001b[32m[I 2021-09-05 00:34:59,678]\u001b[0m Trial 20 finished with value: 0.05007284345536841 and parameters: {'num_leaves': 136}. Best is trial 10 with value: 0.050072843455368395.\u001b[0m\n",
            "num_leaves, val_score: 0.050073:  70%|#######   | 14/20 [00:04<00:01,  3.40it/s]"
          ]
        },
        {
          "output_type": "stream",
          "name": "stdout",
          "text": [
            "Training until validation scores don't improve for 100 rounds\n",
            "[100]\ttrain's binary_logloss: 0.04395\teval's binary_logloss: 0.0505674\n",
            "Early stopping, best iteration is:\n",
            "[41]\ttrain's binary_logloss: 0.0445407\teval's binary_logloss: 0.0500728\n"
          ]
        },
        {
          "output_type": "stream",
          "name": "stderr",
          "text": [
            "num_leaves, val_score: 0.050073:  75%|#######5  | 15/20 [00:04<00:01,  3.43it/s]\u001b[32m[I 2021-09-05 00:34:59,964]\u001b[0m Trial 21 finished with value: 0.05007284345536841 and parameters: {'num_leaves': 226}. Best is trial 10 with value: 0.050072843455368395.\u001b[0m\n",
            "num_leaves, val_score: 0.050073:  75%|#######5  | 15/20 [00:04<00:01,  3.43it/s]"
          ]
        },
        {
          "output_type": "stream",
          "name": "stdout",
          "text": [
            "Training until validation scores don't improve for 100 rounds\n",
            "[100]\ttrain's binary_logloss: 0.04395\teval's binary_logloss: 0.0505674\n",
            "Early stopping, best iteration is:\n",
            "[41]\ttrain's binary_logloss: 0.0445407\teval's binary_logloss: 0.0500728\n"
          ]
        },
        {
          "output_type": "stream",
          "name": "stderr",
          "text": [
            "num_leaves, val_score: 0.050073:  80%|########  | 16/20 [00:04<00:01,  3.41it/s]\u001b[32m[I 2021-09-05 00:35:00,262]\u001b[0m Trial 22 finished with value: 0.05007284345536841 and parameters: {'num_leaves': 168}. Best is trial 10 with value: 0.050072843455368395.\u001b[0m\n",
            "num_leaves, val_score: 0.050073:  80%|########  | 16/20 [00:04<00:01,  3.41it/s]"
          ]
        },
        {
          "output_type": "stream",
          "name": "stdout",
          "text": [
            "Training until validation scores don't improve for 100 rounds\n",
            "[100]\ttrain's binary_logloss: 0.04395\teval's binary_logloss: 0.0505674\n",
            "Early stopping, best iteration is:\n",
            "[41]\ttrain's binary_logloss: 0.0445407\teval's binary_logloss: 0.0500728\n"
          ]
        },
        {
          "output_type": "stream",
          "name": "stderr",
          "text": [
            "num_leaves, val_score: 0.050073:  85%|########5 | 17/20 [00:04<00:00,  3.48it/s]\u001b[32m[I 2021-09-05 00:35:00,536]\u001b[0m Trial 23 finished with value: 0.05007284345536841 and parameters: {'num_leaves': 105}. Best is trial 10 with value: 0.050072843455368395.\u001b[0m\n",
            "num_leaves, val_score: 0.050073:  85%|########5 | 17/20 [00:04<00:00,  3.48it/s]"
          ]
        },
        {
          "output_type": "stream",
          "name": "stdout",
          "text": [
            "Training until validation scores don't improve for 100 rounds\n",
            "[100]\ttrain's binary_logloss: 0.04395\teval's binary_logloss: 0.0505674\n",
            "Early stopping, best iteration is:\n",
            "[41]\ttrain's binary_logloss: 0.0445407\teval's binary_logloss: 0.0500728\n"
          ]
        },
        {
          "output_type": "stream",
          "name": "stderr",
          "text": [
            "num_leaves, val_score: 0.050073:  90%|######### | 18/20 [00:05<00:00,  3.47it/s]\u001b[32m[I 2021-09-05 00:35:00,826]\u001b[0m Trial 24 finished with value: 0.05007284345536841 and parameters: {'num_leaves': 256}. Best is trial 10 with value: 0.050072843455368395.\u001b[0m\n",
            "num_leaves, val_score: 0.050073:  90%|######### | 18/20 [00:05<00:00,  3.47it/s]"
          ]
        },
        {
          "output_type": "stream",
          "name": "stdout",
          "text": [
            "Training until validation scores don't improve for 100 rounds\n",
            "[100]\ttrain's binary_logloss: 0.04395\teval's binary_logloss: 0.0505674\n",
            "Early stopping, best iteration is:\n",
            "[41]\ttrain's binary_logloss: 0.0445407\teval's binary_logloss: 0.0500728\n"
          ]
        },
        {
          "output_type": "stream",
          "name": "stderr",
          "text": [
            "num_leaves, val_score: 0.050073:  95%|#########5| 19/20 [00:05<00:00,  3.44it/s]\u001b[32m[I 2021-09-05 00:35:01,124]\u001b[0m Trial 25 finished with value: 0.05007284345536841 and parameters: {'num_leaves': 208}. Best is trial 10 with value: 0.050072843455368395.\u001b[0m\n",
            "num_leaves, val_score: 0.050073:  95%|#########5| 19/20 [00:05<00:00,  3.44it/s]"
          ]
        },
        {
          "output_type": "stream",
          "name": "stdout",
          "text": [
            "Training until validation scores don't improve for 100 rounds\n",
            "[100]\ttrain's binary_logloss: 0.04395\teval's binary_logloss: 0.0505674\n",
            "Early stopping, best iteration is:\n",
            "[41]\ttrain's binary_logloss: 0.0445407\teval's binary_logloss: 0.0500728\n"
          ]
        },
        {
          "output_type": "stream",
          "name": "stderr",
          "text": [
            "num_leaves, val_score: 0.050073: 100%|##########| 20/20 [00:05<00:00,  3.44it/s]\u001b[32m[I 2021-09-05 00:35:01,412]\u001b[0m Trial 26 finished with value: 0.05007284345536841 and parameters: {'num_leaves': 174}. Best is trial 10 with value: 0.050072843455368395.\u001b[0m\n",
            "num_leaves, val_score: 0.050073: 100%|##########| 20/20 [00:05<00:00,  3.45it/s]\n"
          ]
        },
        {
          "output_type": "stream",
          "name": "stdout",
          "text": [
            "Training until validation scores don't improve for 100 rounds\n",
            "[100]\ttrain's binary_logloss: 0.04395\teval's binary_logloss: 0.0505674\n",
            "Early stopping, best iteration is:\n",
            "[41]\ttrain's binary_logloss: 0.0445407\teval's binary_logloss: 0.0500728\n"
          ]
        },
        {
          "output_type": "stream",
          "name": "stderr",
          "text": [
            "bagging, val_score: 0.050073:   0%|          | 0/10 [00:00<?, ?it/s]"
          ]
        },
        {
          "output_type": "stream",
          "name": "stdout",
          "text": [
            "Training until validation scores don't improve for 100 rounds\n",
            "[100]\ttrain's binary_logloss: 0.0440184\teval's binary_logloss: 0.0505301\n"
          ]
        },
        {
          "output_type": "stream",
          "name": "stderr",
          "text": [
            "bagging, val_score: 0.049958:  10%|#         | 1/10 [00:00<00:03,  2.85it/s]\u001b[32m[I 2021-09-05 00:35:01,772]\u001b[0m Trial 27 finished with value: 0.04995766189986688 and parameters: {'bagging_fraction': 0.6673419752603953, 'bagging_freq': 3}. Best is trial 27 with value: 0.04995766189986688.\u001b[0m\n",
            "bagging, val_score: 0.049958:  10%|#         | 1/10 [00:00<00:03,  2.85it/s]"
          ]
        },
        {
          "output_type": "stream",
          "name": "stdout",
          "text": [
            "Early stopping, best iteration is:\n",
            "[48]\ttrain's binary_logloss: 0.0444429\teval's binary_logloss: 0.0499577\n",
            "Training until validation scores don't improve for 100 rounds\n"
          ]
        },
        {
          "output_type": "stream",
          "name": "stderr",
          "text": [
            "bagging, val_score: 0.049894:  20%|##        | 2/10 [00:00<00:02,  3.11it/s]\u001b[32m[I 2021-09-05 00:35:02,072]\u001b[0m Trial 28 finished with value: 0.049894000199255786 and parameters: {'bagging_fraction': 0.6075254900935669, 'bagging_freq': 5}. Best is trial 28 with value: 0.049894000199255786.\u001b[0m\n",
            "bagging, val_score: 0.049894:  20%|##        | 2/10 [00:00<00:02,  3.11it/s]"
          ]
        },
        {
          "output_type": "stream",
          "name": "stdout",
          "text": [
            "[100]\ttrain's binary_logloss: 0.044032\teval's binary_logloss: 0.0505394\n",
            "Early stopping, best iteration is:\n",
            "[44]\ttrain's binary_logloss: 0.0445223\teval's binary_logloss: 0.049894\n",
            "Training until validation scores don't improve for 100 rounds\n"
          ]
        },
        {
          "output_type": "stream",
          "name": "stderr",
          "text": [
            "bagging, val_score: 0.049894:  30%|###       | 3/10 [00:00<00:02,  3.19it/s]\u001b[32m[I 2021-09-05 00:35:02,376]\u001b[0m Trial 29 finished with value: 0.049947906996977605 and parameters: {'bagging_fraction': 0.5805615982169036, 'bagging_freq': 4}. Best is trial 28 with value: 0.049894000199255786.\u001b[0m\n",
            "bagging, val_score: 0.049894:  30%|###       | 3/10 [00:00<00:02,  3.19it/s]"
          ]
        },
        {
          "output_type": "stream",
          "name": "stdout",
          "text": [
            "[100]\ttrain's binary_logloss: 0.0440362\teval's binary_logloss: 0.0506796\n",
            "Early stopping, best iteration is:\n",
            "[40]\ttrain's binary_logloss: 0.0447616\teval's binary_logloss: 0.0499479\n",
            "Training until validation scores don't improve for 100 rounds\n"
          ]
        },
        {
          "output_type": "stream",
          "name": "stderr",
          "text": [
            "bagging, val_score: 0.049894:  40%|####      | 4/10 [00:01<00:01,  3.17it/s]\u001b[32m[I 2021-09-05 00:35:02,695]\u001b[0m Trial 30 finished with value: 0.050010321712156185 and parameters: {'bagging_fraction': 0.6047244403925588, 'bagging_freq': 1}. Best is trial 28 with value: 0.049894000199255786.\u001b[0m\n",
            "bagging, val_score: 0.049894:  40%|####      | 4/10 [00:01<00:01,  3.17it/s]"
          ]
        },
        {
          "output_type": "stream",
          "name": "stdout",
          "text": [
            "[100]\ttrain's binary_logloss: 0.0439975\teval's binary_logloss: 0.0504793\n",
            "Early stopping, best iteration is:\n",
            "[41]\ttrain's binary_logloss: 0.0447502\teval's binary_logloss: 0.0500103\n",
            "Training until validation scores don't improve for 100 rounds\n"
          ]
        },
        {
          "output_type": "stream",
          "name": "stderr",
          "text": [
            "bagging, val_score: 0.049894:  50%|#####     | 5/10 [00:01<00:01,  3.16it/s]\u001b[32m[I 2021-09-05 00:35:03,012]\u001b[0m Trial 31 finished with value: 0.050015251261987095 and parameters: {'bagging_fraction': 0.7065691927104096, 'bagging_freq': 7}. Best is trial 28 with value: 0.049894000199255786.\u001b[0m\n",
            "bagging, val_score: 0.049894:  50%|#####     | 5/10 [00:01<00:01,  3.16it/s]"
          ]
        },
        {
          "output_type": "stream",
          "name": "stdout",
          "text": [
            "[100]\ttrain's binary_logloss: 0.0439826\teval's binary_logloss: 0.0505783\n",
            "Early stopping, best iteration is:\n",
            "[43]\ttrain's binary_logloss: 0.0445862\teval's binary_logloss: 0.0500153\n",
            "Training until validation scores don't improve for 100 rounds\n"
          ]
        },
        {
          "output_type": "stream",
          "name": "stderr",
          "text": [
            "bagging, val_score: 0.049894:  60%|######    | 6/10 [00:01<00:01,  3.17it/s]\u001b[32m[I 2021-09-05 00:35:03,327]\u001b[0m Trial 32 finished with value: 0.04994525168296611 and parameters: {'bagging_fraction': 0.5278561879447725, 'bagging_freq': 6}. Best is trial 28 with value: 0.049894000199255786.\u001b[0m\n",
            "bagging, val_score: 0.049894:  60%|######    | 6/10 [00:01<00:01,  3.17it/s]"
          ]
        },
        {
          "output_type": "stream",
          "name": "stdout",
          "text": [
            "[100]\ttrain's binary_logloss: 0.0440882\teval's binary_logloss: 0.0505355\n",
            "Early stopping, best iteration is:\n",
            "[51]\ttrain's binary_logloss: 0.0443658\teval's binary_logloss: 0.0499453\n",
            "Training until validation scores don't improve for 100 rounds\n"
          ]
        },
        {
          "output_type": "stream",
          "name": "stderr",
          "text": [
            "bagging, val_score: 0.049894:  70%|#######   | 7/10 [00:02<00:00,  3.16it/s]\u001b[32m[I 2021-09-05 00:35:03,645]\u001b[0m Trial 33 finished with value: 0.05002201680916156 and parameters: {'bagging_fraction': 0.7529273481434093, 'bagging_freq': 7}. Best is trial 28 with value: 0.049894000199255786.\u001b[0m\n",
            "bagging, val_score: 0.049894:  70%|#######   | 7/10 [00:02<00:00,  3.16it/s]"
          ]
        },
        {
          "output_type": "stream",
          "name": "stdout",
          "text": [
            "[100]\ttrain's binary_logloss: 0.0439729\teval's binary_logloss: 0.0505438\n",
            "Early stopping, best iteration is:\n",
            "[43]\ttrain's binary_logloss: 0.0445677\teval's binary_logloss: 0.050022\n",
            "Training until validation scores don't improve for 100 rounds\n"
          ]
        },
        {
          "output_type": "stream",
          "name": "stderr",
          "text": [
            "bagging, val_score: 0.049894:  80%|########  | 8/10 [00:02<00:00,  3.21it/s]\u001b[32m[I 2021-09-05 00:35:03,945]\u001b[0m Trial 34 finished with value: 0.050022138271583534 and parameters: {'bagging_fraction': 0.7074140947714473, 'bagging_freq': 7}. Best is trial 28 with value: 0.049894000199255786.\u001b[0m\n",
            "bagging, val_score: 0.049894:  80%|########  | 8/10 [00:02<00:00,  3.21it/s]"
          ]
        },
        {
          "output_type": "stream",
          "name": "stdout",
          "text": [
            "[100]\ttrain's binary_logloss: 0.0439814\teval's binary_logloss: 0.0505823\n",
            "Early stopping, best iteration is:\n",
            "[43]\ttrain's binary_logloss: 0.044584\teval's binary_logloss: 0.0500221\n",
            "Training until validation scores don't improve for 100 rounds\n"
          ]
        },
        {
          "output_type": "stream",
          "name": "stderr",
          "text": [
            "bagging, val_score: 0.049894:  90%|######### | 9/10 [00:02<00:00,  3.20it/s]\u001b[32m[I 2021-09-05 00:35:04,260]\u001b[0m Trial 35 finished with value: 0.05009331488696547 and parameters: {'bagging_fraction': 0.8527502036266585, 'bagging_freq': 7}. Best is trial 28 with value: 0.049894000199255786.\u001b[0m\n",
            "bagging, val_score: 0.049894:  90%|######### | 9/10 [00:02<00:00,  3.20it/s]"
          ]
        },
        {
          "output_type": "stream",
          "name": "stdout",
          "text": [
            "[100]\ttrain's binary_logloss: 0.0439545\teval's binary_logloss: 0.0505724\n",
            "Early stopping, best iteration is:\n",
            "[43]\ttrain's binary_logloss: 0.044498\teval's binary_logloss: 0.0500933\n",
            "Training until validation scores don't improve for 100 rounds\n"
          ]
        },
        {
          "output_type": "stream",
          "name": "stderr",
          "text": [
            "bagging, val_score: 0.049894: 100%|##########| 10/10 [00:03<00:00,  3.24it/s]\u001b[32m[I 2021-09-05 00:35:04,562]\u001b[0m Trial 36 finished with value: 0.04991516255327836 and parameters: {'bagging_fraction': 0.6598340033262076, 'bagging_freq': 5}. Best is trial 28 with value: 0.049894000199255786.\u001b[0m\n",
            "bagging, val_score: 0.049894: 100%|##########| 10/10 [00:03<00:00,  3.18it/s]\n"
          ]
        },
        {
          "output_type": "stream",
          "name": "stdout",
          "text": [
            "[100]\ttrain's binary_logloss: 0.0440029\teval's binary_logloss: 0.0504709\n",
            "Early stopping, best iteration is:\n",
            "[45]\ttrain's binary_logloss: 0.0445068\teval's binary_logloss: 0.0499152\n"
          ]
        },
        {
          "output_type": "stream",
          "name": "stderr",
          "text": [
            "feature_fraction_stage2, val_score: 0.049894:   0%|          | 0/6 [00:00<?, ?it/s]"
          ]
        },
        {
          "output_type": "stream",
          "name": "stdout",
          "text": [
            "Training until validation scores don't improve for 100 rounds\n",
            "[100]\ttrain's binary_logloss: 0.044032\teval's binary_logloss: 0.0505394\n",
            "Early stopping, best iteration is:\n",
            "[44]\ttrain's binary_logloss: 0.0445223\teval's binary_logloss: 0.049894\n"
          ]
        },
        {
          "output_type": "stream",
          "name": "stderr",
          "text": [
            "feature_fraction_stage2, val_score: 0.049894:  17%|#6        | 1/6 [00:00<00:01,  3.19it/s]\u001b[32m[I 2021-09-05 00:35:04,889]\u001b[0m Trial 37 finished with value: 0.049894000199255786 and parameters: {'feature_fraction': 0.88}. Best is trial 37 with value: 0.049894000199255786.\u001b[0m\n",
            "feature_fraction_stage2, val_score: 0.049894:  17%|#6        | 1/6 [00:00<00:01,  3.19it/s]"
          ]
        },
        {
          "output_type": "stream",
          "name": "stdout",
          "text": [
            "Training until validation scores don't improve for 100 rounds\n",
            "[100]\ttrain's binary_logloss: 0.044032\teval's binary_logloss: 0.0505394\n",
            "Early stopping, best iteration is:\n",
            "[44]\ttrain's binary_logloss: 0.0445223\teval's binary_logloss: 0.049894\n"
          ]
        },
        {
          "output_type": "stream",
          "name": "stderr",
          "text": [
            "feature_fraction_stage2, val_score: 0.049894:  33%|###3      | 2/6 [00:00<00:01,  3.06it/s]\u001b[32m[I 2021-09-05 00:35:05,224]\u001b[0m Trial 38 finished with value: 0.049894000199255786 and parameters: {'feature_fraction': 0.784}. Best is trial 37 with value: 0.049894000199255786.\u001b[0m\n",
            "feature_fraction_stage2, val_score: 0.049894:  50%|#####     | 3/6 [00:00<00:00,  3.23it/s]\u001b[32m[I 2021-09-05 00:35:05,513]\u001b[0m Trial 39 finished with value: 0.049894000199255786 and parameters: {'feature_fraction': 0.7200000000000001}. Best is trial 37 with value: 0.049894000199255786.\u001b[0m\n",
            "feature_fraction_stage2, val_score: 0.049894:  50%|#####     | 3/6 [00:00<00:00,  3.23it/s]"
          ]
        },
        {
          "output_type": "stream",
          "name": "stdout",
          "text": [
            "Training until validation scores don't improve for 100 rounds\n",
            "[100]\ttrain's binary_logloss: 0.044032\teval's binary_logloss: 0.0505394\n",
            "Early stopping, best iteration is:\n",
            "[44]\ttrain's binary_logloss: 0.0445223\teval's binary_logloss: 0.049894\n",
            "Training until validation scores don't improve for 100 rounds\n",
            "[100]\ttrain's binary_logloss: 0.044032\teval's binary_logloss: 0.0505394\n",
            "Early stopping, best iteration is:\n",
            "[44]\ttrain's binary_logloss: 0.0445223\teval's binary_logloss: 0.049894\n"
          ]
        },
        {
          "output_type": "stream",
          "name": "stderr",
          "text": [
            "feature_fraction_stage2, val_score: 0.049894:  67%|######6   | 4/6 [00:01<00:00,  3.19it/s]\u001b[32m[I 2021-09-05 00:35:05,833]\u001b[0m Trial 40 finished with value: 0.049894000199255786 and parameters: {'feature_fraction': 0.8160000000000001}. Best is trial 37 with value: 0.049894000199255786.\u001b[0m\n",
            "feature_fraction_stage2, val_score: 0.049894:  67%|######6   | 4/6 [00:01<00:00,  3.19it/s]"
          ]
        },
        {
          "output_type": "stream",
          "name": "stdout",
          "text": [
            "Training until validation scores don't improve for 100 rounds\n",
            "[100]\ttrain's binary_logloss: 0.044032\teval's binary_logloss: 0.0505394\n",
            "Early stopping, best iteration is:\n",
            "[44]\ttrain's binary_logloss: 0.0445223\teval's binary_logloss: 0.049894\n"
          ]
        },
        {
          "output_type": "stream",
          "name": "stderr",
          "text": [
            "feature_fraction_stage2, val_score: 0.049894:  83%|########3 | 5/6 [00:01<00:00,  3.19it/s]\u001b[32m[I 2021-09-05 00:35:06,146]\u001b[0m Trial 41 finished with value: 0.049894000199255786 and parameters: {'feature_fraction': 0.8480000000000001}. Best is trial 37 with value: 0.049894000199255786.\u001b[0m\n",
            "feature_fraction_stage2, val_score: 0.049894:  83%|########3 | 5/6 [00:01<00:00,  3.19it/s]"
          ]
        },
        {
          "output_type": "stream",
          "name": "stdout",
          "text": [
            "Training until validation scores don't improve for 100 rounds\n",
            "[100]\ttrain's binary_logloss: 0.044032\teval's binary_logloss: 0.0505394\n",
            "Early stopping, best iteration is:\n",
            "[44]\ttrain's binary_logloss: 0.0445223\teval's binary_logloss: 0.049894\n"
          ]
        },
        {
          "output_type": "stream",
          "name": "stderr",
          "text": [
            "feature_fraction_stage2, val_score: 0.049894: 100%|##########| 6/6 [00:01<00:00,  3.20it/s]\u001b[32m[I 2021-09-05 00:35:06,455]\u001b[0m Trial 42 finished with value: 0.049894000199255786 and parameters: {'feature_fraction': 0.7520000000000001}. Best is trial 37 with value: 0.049894000199255786.\u001b[0m\n",
            "feature_fraction_stage2, val_score: 0.049894: 100%|##########| 6/6 [00:01<00:00,  3.18it/s]\n",
            "regularization_factors, val_score: 0.049894:   5%|5         | 1/20 [00:00<00:05,  3.56it/s]\u001b[32m[I 2021-09-05 00:35:06,746]\u001b[0m Trial 43 finished with value: 0.050032839903897834 and parameters: {'lambda_l1': 0.00015629828589374425, 'lambda_l2': 3.4953274982493334}. Best is trial 43 with value: 0.050032839903897834.\u001b[0m\n",
            "regularization_factors, val_score: 0.049894:   5%|5         | 1/20 [00:00<00:05,  3.56it/s]"
          ]
        },
        {
          "output_type": "stream",
          "name": "stdout",
          "text": [
            "Training until validation scores don't improve for 100 rounds\n",
            "[100]\ttrain's binary_logloss: 0.04445\teval's binary_logloss: 0.0504179\n",
            "Early stopping, best iteration is:\n",
            "[45]\ttrain's binary_logloss: 0.04505\teval's binary_logloss: 0.0500328\n",
            "Training until validation scores don't improve for 100 rounds\n",
            "[100]\ttrain's binary_logloss: 0.0440312\teval's binary_logloss: 0.0505409\n",
            "Early stopping, best iteration is:\n",
            "[44]\ttrain's binary_logloss: 0.0445203\teval's binary_logloss: 0.0498961\n"
          ]
        },
        {
          "output_type": "stream",
          "name": "stderr",
          "text": [
            "regularization_factors, val_score: 0.049894:  10%|#         | 2/20 [00:00<00:05,  3.34it/s]\u001b[32m[I 2021-09-05 00:35:07,059]\u001b[0m Trial 44 finished with value: 0.049896104812120784 and parameters: {'lambda_l1': 5.358648624351598e-07, 'lambda_l2': 2.773105915732785e-05}. Best is trial 44 with value: 0.049896104812120784.\u001b[0m\n",
            "regularization_factors, val_score: 0.049894:  15%|#5        | 3/20 [00:00<00:05,  3.37it/s]\u001b[32m[I 2021-09-05 00:35:07,353]\u001b[0m Trial 45 finished with value: 0.05000904228399841 and parameters: {'lambda_l1': 1.979318586092022e-06, 'lambda_l2': 1.9566440408739112}. Best is trial 44 with value: 0.049896104812120784.\u001b[0m\n",
            "regularization_factors, val_score: 0.049894:  15%|#5        | 3/20 [00:00<00:05,  3.37it/s]"
          ]
        },
        {
          "output_type": "stream",
          "name": "stdout",
          "text": [
            "Training until validation scores don't improve for 100 rounds\n",
            "[100]\ttrain's binary_logloss: 0.0443124\teval's binary_logloss: 0.0504601\n",
            "Early stopping, best iteration is:\n",
            "[45]\ttrain's binary_logloss: 0.0448787\teval's binary_logloss: 0.050009\n",
            "Training until validation scores don't improve for 100 rounds\n",
            "[100]\ttrain's binary_logloss: 0.0440414\teval's binary_logloss: 0.0505512\n"
          ]
        },
        {
          "output_type": "stream",
          "name": "stderr",
          "text": [
            "regularization_factors, val_score: 0.049891:  20%|##        | 4/20 [00:01<00:05,  3.17it/s]\u001b[32m[I 2021-09-05 00:35:07,696]\u001b[0m Trial 46 finished with value: 0.049891117956986294 and parameters: {'lambda_l1': 5.658726836673206e-05, 'lambda_l2': 0.001749013175369938}. Best is trial 46 with value: 0.049891117956986294.\u001b[0m\n",
            "regularization_factors, val_score: 0.049891:  20%|##        | 4/20 [00:01<00:05,  3.17it/s]"
          ]
        },
        {
          "output_type": "stream",
          "name": "stdout",
          "text": [
            "Early stopping, best iteration is:\n",
            "[44]\ttrain's binary_logloss: 0.0445209\teval's binary_logloss: 0.0498911\n",
            "Training until validation scores don't improve for 100 rounds\n"
          ]
        },
        {
          "output_type": "stream",
          "name": "stderr",
          "text": [
            "regularization_factors, val_score: 0.049890:  25%|##5       | 5/20 [00:01<00:04,  3.21it/s]\u001b[32m[I 2021-09-05 00:35:08,002]\u001b[0m Trial 47 finished with value: 0.049890077201269596 and parameters: {'lambda_l1': 0.00016724817141325799, 'lambda_l2': 3.8376816460538986e-07}. Best is trial 47 with value: 0.049890077201269596.\u001b[0m\n",
            "regularization_factors, val_score: 0.049890:  25%|##5       | 5/20 [00:01<00:04,  3.21it/s]"
          ]
        },
        {
          "output_type": "stream",
          "name": "stdout",
          "text": [
            "[100]\ttrain's binary_logloss: 0.0440391\teval's binary_logloss: 0.0505498\n",
            "Early stopping, best iteration is:\n",
            "[44]\ttrain's binary_logloss: 0.04452\teval's binary_logloss: 0.0498901\n",
            "Training until validation scores don't improve for 100 rounds\n"
          ]
        },
        {
          "output_type": "stream",
          "name": "stderr",
          "text": [
            "regularization_factors, val_score: 0.049884:  30%|###       | 6/20 [00:01<00:04,  3.21it/s]\u001b[32m[I 2021-09-05 00:35:08,313]\u001b[0m Trial 48 finished with value: 0.04988447446753714 and parameters: {'lambda_l1': 0.00018928147787729396, 'lambda_l2': 0.0025295445567123623}. Best is trial 48 with value: 0.04988447446753714.\u001b[0m\n",
            "regularization_factors, val_score: 0.049884:  30%|###       | 6/20 [00:01<00:04,  3.21it/s]"
          ]
        },
        {
          "output_type": "stream",
          "name": "stdout",
          "text": [
            "[100]\ttrain's binary_logloss: 0.0440414\teval's binary_logloss: 0.0505479\n",
            "Early stopping, best iteration is:\n",
            "[44]\ttrain's binary_logloss: 0.0445205\teval's binary_logloss: 0.0498845\n",
            "Training until validation scores don't improve for 100 rounds\n"
          ]
        },
        {
          "output_type": "stream",
          "name": "stderr",
          "text": [
            "regularization_factors, val_score: 0.049884:  35%|###5      | 7/20 [00:02<00:03,  3.26it/s]\u001b[32m[I 2021-09-05 00:35:08,610]\u001b[0m Trial 49 finished with value: 0.04989207034983052 and parameters: {'lambda_l1': 0.011007243775436548, 'lambda_l2': 0.0001903004579548922}. Best is trial 48 with value: 0.04988447446753714.\u001b[0m\n",
            "regularization_factors, val_score: 0.049884:  35%|###5      | 7/20 [00:02<00:03,  3.26it/s]"
          ]
        },
        {
          "output_type": "stream",
          "name": "stdout",
          "text": [
            "[100]\ttrain's binary_logloss: 0.0440591\teval's binary_logloss: 0.0504928\n",
            "Early stopping, best iteration is:\n",
            "[44]\ttrain's binary_logloss: 0.0445417\teval's binary_logloss: 0.0498921\n",
            "Training until validation scores don't improve for 100 rounds\n"
          ]
        },
        {
          "output_type": "stream",
          "name": "stderr",
          "text": [
            "regularization_factors, val_score: 0.049884:  40%|####      | 8/20 [00:02<00:03,  3.32it/s]\u001b[32m[I 2021-09-05 00:35:08,898]\u001b[0m Trial 50 finished with value: 0.05000863108056453 and parameters: {'lambda_l1': 3.054575544577492e-08, 'lambda_l2': 0.7820635931159327}. Best is trial 48 with value: 0.04988447446753714.\u001b[0m\n",
            "regularization_factors, val_score: 0.049884:  40%|####      | 8/20 [00:02<00:03,  3.32it/s]"
          ]
        },
        {
          "output_type": "stream",
          "name": "stdout",
          "text": [
            "[100]\ttrain's binary_logloss: 0.0441948\teval's binary_logloss: 0.0504891\n",
            "Early stopping, best iteration is:\n",
            "[45]\ttrain's binary_logloss: 0.04474\teval's binary_logloss: 0.0500086\n",
            "Training until validation scores don't improve for 100 rounds\n"
          ]
        },
        {
          "output_type": "stream",
          "name": "stderr",
          "text": [
            "regularization_factors, val_score: 0.049884:  45%|####5     | 9/20 [00:02<00:03,  3.28it/s]\u001b[32m[I 2021-09-05 00:35:09,213]\u001b[0m Trial 51 finished with value: 0.04989627482158753 and parameters: {'lambda_l1': 1.0755672476020319e-05, 'lambda_l2': 9.204016406678146e-05}. Best is trial 48 with value: 0.04988447446753714.\u001b[0m\n",
            "regularization_factors, val_score: 0.049884:  45%|####5     | 9/20 [00:02<00:03,  3.28it/s]"
          ]
        },
        {
          "output_type": "stream",
          "name": "stdout",
          "text": [
            "[100]\ttrain's binary_logloss: 0.0440311\teval's binary_logloss: 0.0505411\n",
            "Early stopping, best iteration is:\n",
            "[44]\ttrain's binary_logloss: 0.0445203\teval's binary_logloss: 0.0498963\n",
            "Training until validation scores don't improve for 100 rounds\n"
          ]
        },
        {
          "output_type": "stream",
          "name": "stderr",
          "text": [
            "regularization_factors, val_score: 0.049884:  50%|#####     | 10/20 [00:03<00:02,  3.34it/s]\u001b[32m[I 2021-09-05 00:35:09,500]\u001b[0m Trial 52 finished with value: 0.04991742076866122 and parameters: {'lambda_l1': 1.2340393767465069e-08, 'lambda_l2': 0.059211263476252884}. Best is trial 48 with value: 0.04988447446753714.\u001b[0m\n",
            "regularization_factors, val_score: 0.049884:  50%|#####     | 10/20 [00:03<00:02,  3.34it/s]"
          ]
        },
        {
          "output_type": "stream",
          "name": "stdout",
          "text": [
            "[100]\ttrain's binary_logloss: 0.0440707\teval's binary_logloss: 0.050512\n",
            "Early stopping, best iteration is:\n",
            "[44]\ttrain's binary_logloss: 0.0445558\teval's binary_logloss: 0.0499174\n",
            "Training until validation scores don't improve for 100 rounds\n"
          ]
        },
        {
          "output_type": "stream",
          "name": "stderr",
          "text": [
            "regularization_factors, val_score: 0.049884:  55%|#####5    | 11/20 [00:03<00:02,  3.43it/s]\u001b[32m[I 2021-09-05 00:35:09,773]\u001b[0m Trial 53 finished with value: 0.05017104453320562 and parameters: {'lambda_l1': 6.783596585913473, 'lambda_l2': 1.3163303524166702e-07}. Best is trial 48 with value: 0.04988447446753714.\u001b[0m\n",
            "regularization_factors, val_score: 0.049884:  55%|#####5    | 11/20 [00:03<00:02,  3.43it/s]"
          ]
        },
        {
          "output_type": "stream",
          "name": "stdout",
          "text": [
            "[100]\ttrain's binary_logloss: 0.0451726\teval's binary_logloss: 0.0502345\n",
            "Early stopping, best iteration is:\n",
            "[57]\ttrain's binary_logloss: 0.0452986\teval's binary_logloss: 0.050171\n",
            "Training until validation scores don't improve for 100 rounds\n"
          ]
        },
        {
          "output_type": "stream",
          "name": "stderr",
          "text": [
            "regularization_factors, val_score: 0.049884:  60%|######    | 12/20 [00:03<00:02,  3.38it/s]\u001b[32m[I 2021-09-05 00:35:10,078]\u001b[0m Trial 54 finished with value: 0.04989357233634568 and parameters: {'lambda_l1': 0.013765284487443427, 'lambda_l2': 1.779532009452803e-08}. Best is trial 48 with value: 0.04988447446753714.\u001b[0m\n",
            "regularization_factors, val_score: 0.049884:  60%|######    | 12/20 [00:03<00:02,  3.38it/s]"
          ]
        },
        {
          "output_type": "stream",
          "name": "stdout",
          "text": [
            "[100]\ttrain's binary_logloss: 0.0440593\teval's binary_logloss: 0.0504977\n",
            "Early stopping, best iteration is:\n",
            "[44]\ttrain's binary_logloss: 0.0445421\teval's binary_logloss: 0.0498936\n",
            "Training until validation scores don't improve for 100 rounds\n"
          ]
        },
        {
          "output_type": "stream",
          "name": "stderr",
          "text": [
            "regularization_factors, val_score: 0.049884:  65%|######5   | 13/20 [00:03<00:02,  3.35it/s]\u001b[32m[I 2021-09-05 00:35:10,382]\u001b[0m Trial 55 finished with value: 0.04989369027033135 and parameters: {'lambda_l1': 0.009070089024996685, 'lambda_l2': 4.270877861655921e-06}. Best is trial 48 with value: 0.04988447446753714.\u001b[0m\n",
            "regularization_factors, val_score: 0.049884:  65%|######5   | 13/20 [00:03<00:02,  3.35it/s]"
          ]
        },
        {
          "output_type": "stream",
          "name": "stdout",
          "text": [
            "[100]\ttrain's binary_logloss: 0.0440564\teval's binary_logloss: 0.0504643\n",
            "Early stopping, best iteration is:\n",
            "[44]\ttrain's binary_logloss: 0.0445404\teval's binary_logloss: 0.0498937\n",
            "Training until validation scores don't improve for 100 rounds\n"
          ]
        },
        {
          "output_type": "stream",
          "name": "stderr",
          "text": [
            "regularization_factors, val_score: 0.049875:  70%|#######   | 14/20 [00:04<00:01,  3.27it/s]\u001b[32m[I 2021-09-05 00:35:10,704]\u001b[0m Trial 56 finished with value: 0.04987524923310742 and parameters: {'lambda_l1': 0.001399026186783361, 'lambda_l2': 0.008786792587986635}. Best is trial 56 with value: 0.04987524923310742.\u001b[0m\n",
            "regularization_factors, val_score: 0.049875:  70%|#######   | 14/20 [00:04<00:01,  3.27it/s]"
          ]
        },
        {
          "output_type": "stream",
          "name": "stdout",
          "text": [
            "[100]\ttrain's binary_logloss: 0.0440463\teval's binary_logloss: 0.0505219\n",
            "Early stopping, best iteration is:\n",
            "[44]\ttrain's binary_logloss: 0.0445295\teval's binary_logloss: 0.0498752\n",
            "Training until validation scores don't improve for 100 rounds\n"
          ]
        },
        {
          "output_type": "stream",
          "name": "stderr",
          "text": [
            "regularization_factors, val_score: 0.049875:  75%|#######5  | 15/20 [00:04<00:01,  3.37it/s]\u001b[32m[I 2021-09-05 00:35:10,982]\u001b[0m Trial 57 finished with value: 0.05006460440079777 and parameters: {'lambda_l1': 0.5608201265890947, 'lambda_l2': 0.00856539859451801}. Best is trial 56 with value: 0.04987524923310742.\u001b[0m\n",
            "regularization_factors, val_score: 0.049875:  75%|#######5  | 15/20 [00:04<00:01,  3.37it/s]"
          ]
        },
        {
          "output_type": "stream",
          "name": "stdout",
          "text": [
            "[100]\ttrain's binary_logloss: 0.0443757\teval's binary_logloss: 0.0503898\n",
            "Early stopping, best iteration is:\n",
            "[43]\ttrain's binary_logloss: 0.0449047\teval's binary_logloss: 0.0500646\n",
            "Training until validation scores don't improve for 100 rounds\n"
          ]
        },
        {
          "output_type": "stream",
          "name": "stderr",
          "text": [
            "regularization_factors, val_score: 0.049875:  80%|########  | 16/20 [00:04<00:01,  3.27it/s]\u001b[32m[I 2021-09-05 00:35:11,306]\u001b[0m Trial 58 finished with value: 0.04991600615194386 and parameters: {'lambda_l1': 0.002097442927751244, 'lambda_l2': 0.07868539205056414}. Best is trial 56 with value: 0.04987524923310742.\u001b[0m\n",
            "regularization_factors, val_score: 0.049875:  80%|########  | 16/20 [00:04<00:01,  3.27it/s]"
          ]
        },
        {
          "output_type": "stream",
          "name": "stdout",
          "text": [
            "[100]\ttrain's binary_logloss: 0.0440733\teval's binary_logloss: 0.0504908\n",
            "Early stopping, best iteration is:\n",
            "[44]\ttrain's binary_logloss: 0.0445719\teval's binary_logloss: 0.049916\n",
            "Training until validation scores don't improve for 100 rounds\n"
          ]
        },
        {
          "output_type": "stream",
          "name": "stderr",
          "text": [
            "regularization_factors, val_score: 0.049875:  85%|########5 | 17/20 [00:05<00:00,  3.39it/s]\u001b[32m[I 2021-09-05 00:35:11,577]\u001b[0m Trial 59 finished with value: 0.05005818721831379 and parameters: {'lambda_l1': 0.41673411617315936, 'lambda_l2': 0.005455652331450908}. Best is trial 56 with value: 0.04987524923310742.\u001b[0m\n",
            "regularization_factors, val_score: 0.049875:  85%|########5 | 17/20 [00:05<00:00,  3.39it/s]"
          ]
        },
        {
          "output_type": "stream",
          "name": "stdout",
          "text": [
            "[100]\ttrain's binary_logloss: 0.0442955\teval's binary_logloss: 0.0505253\n",
            "Early stopping, best iteration is:\n",
            "[45]\ttrain's binary_logloss: 0.0447895\teval's binary_logloss: 0.0500582\n",
            "Training until validation scores don't improve for 100 rounds\n"
          ]
        },
        {
          "output_type": "stream",
          "name": "stderr",
          "text": [
            "regularization_factors, val_score: 0.049875:  90%|######### | 18/20 [00:05<00:00,  3.34it/s]\u001b[32m[I 2021-09-05 00:35:11,888]\u001b[0m Trial 60 finished with value: 0.04991426943816423 and parameters: {'lambda_l1': 0.0012470114038223745, 'lambda_l2': 0.08376154460165605}. Best is trial 56 with value: 0.04987524923310742.\u001b[0m\n",
            "regularization_factors, val_score: 0.049875:  90%|######### | 18/20 [00:05<00:00,  3.34it/s]"
          ]
        },
        {
          "output_type": "stream",
          "name": "stdout",
          "text": [
            "[100]\ttrain's binary_logloss: 0.0440732\teval's binary_logloss: 0.0504956\n",
            "Early stopping, best iteration is:\n",
            "[44]\ttrain's binary_logloss: 0.0445686\teval's binary_logloss: 0.0499143\n",
            "Training until validation scores don't improve for 100 rounds\n"
          ]
        },
        {
          "output_type": "stream",
          "name": "stderr",
          "text": [
            "regularization_factors, val_score: 0.049875:  95%|#########5| 19/20 [00:05<00:00,  3.29it/s]\u001b[32m[I 2021-09-05 00:35:12,200]\u001b[0m Trial 61 finished with value: 0.049890314309328845 and parameters: {'lambda_l1': 1.3638011103149659e-05, 'lambda_l2': 0.0008724362696452329}. Best is trial 56 with value: 0.04987524923310742.\u001b[0m\n",
            "regularization_factors, val_score: 0.049875:  95%|#########5| 19/20 [00:05<00:00,  3.29it/s]"
          ]
        },
        {
          "output_type": "stream",
          "name": "stdout",
          "text": [
            "[100]\ttrain's binary_logloss: 0.0440305\teval's binary_logloss: 0.0505496\n",
            "Early stopping, best iteration is:\n",
            "[44]\ttrain's binary_logloss: 0.0445203\teval's binary_logloss: 0.0498903\n",
            "Training until validation scores don't improve for 100 rounds\n"
          ]
        },
        {
          "output_type": "stream",
          "name": "stderr",
          "text": [
            "regularization_factors, val_score: 0.049875: 100%|##########| 20/20 [00:06<00:00,  3.31it/s]\u001b[32m[I 2021-09-05 00:35:12,500]\u001b[0m Trial 62 finished with value: 0.04992450435651839 and parameters: {'lambda_l1': 0.13142936159672883, 'lambda_l2': 4.814144741910118e-06}. Best is trial 56 with value: 0.04987524923310742.\u001b[0m\n",
            "regularization_factors, val_score: 0.049875: 100%|##########| 20/20 [00:06<00:00,  3.31it/s]\n"
          ]
        },
        {
          "output_type": "stream",
          "name": "stdout",
          "text": [
            "[100]\ttrain's binary_logloss: 0.044176\teval's binary_logloss: 0.0504594\n",
            "Early stopping, best iteration is:\n",
            "[43]\ttrain's binary_logloss: 0.0447237\teval's binary_logloss: 0.0499245\n"
          ]
        },
        {
          "output_type": "stream",
          "name": "stderr",
          "text": [
            "min_data_in_leaf, val_score: 0.049875:   0%|          | 0/5 [00:00<?, ?it/s]"
          ]
        },
        {
          "output_type": "stream",
          "name": "stdout",
          "text": [
            "Training until validation scores don't improve for 100 rounds\n"
          ]
        },
        {
          "output_type": "stream",
          "name": "stderr",
          "text": [
            "min_data_in_leaf, val_score: 0.049875:  20%|##        | 1/5 [00:00<00:01,  3.47it/s]\u001b[32m[I 2021-09-05 00:35:12,797]\u001b[0m Trial 63 finished with value: 0.05020766899348204 and parameters: {'min_child_samples': 100}. Best is trial 63 with value: 0.05020766899348204.\u001b[0m\n",
            "min_data_in_leaf, val_score: 0.049875:  20%|##        | 1/5 [00:00<00:01,  3.47it/s]"
          ]
        },
        {
          "output_type": "stream",
          "name": "stdout",
          "text": [
            "[100]\ttrain's binary_logloss: 0.0443122\teval's binary_logloss: 0.0505784\n",
            "Early stopping, best iteration is:\n",
            "[44]\ttrain's binary_logloss: 0.0450219\teval's binary_logloss: 0.0502077\n",
            "Training until validation scores don't improve for 100 rounds\n",
            "[100]\ttrain's binary_logloss: 0.0440499\teval's binary_logloss: 0.0505628\n",
            "Early stopping, best iteration is:\n",
            "[44]\ttrain's binary_logloss: 0.0445792\teval's binary_logloss: 0.0499401\n"
          ]
        },
        {
          "output_type": "stream",
          "name": "stderr",
          "text": [
            "min_data_in_leaf, val_score: 0.049875:  40%|####      | 2/5 [00:00<00:00,  3.34it/s]\u001b[32m[I 2021-09-05 00:35:13,105]\u001b[0m Trial 64 finished with value: 0.04994013154256962 and parameters: {'min_child_samples': 25}. Best is trial 64 with value: 0.04994013154256962.\u001b[0m\n",
            "min_data_in_leaf, val_score: 0.049875:  40%|####      | 2/5 [00:00<00:00,  3.34it/s]"
          ]
        },
        {
          "output_type": "stream",
          "name": "stdout",
          "text": [
            "Training until validation scores don't improve for 100 rounds\n",
            "[100]\ttrain's binary_logloss: 0.0441794\teval's binary_logloss: 0.050524\n",
            "Early stopping, best iteration is:\n",
            "[43]\ttrain's binary_logloss: 0.0448462\teval's binary_logloss: 0.0501081\n"
          ]
        },
        {
          "output_type": "stream",
          "name": "stderr",
          "text": [
            "min_data_in_leaf, val_score: 0.049875:  60%|######    | 3/5 [00:00<00:00,  3.27it/s]\u001b[32m[I 2021-09-05 00:35:13,419]\u001b[0m Trial 65 finished with value: 0.05010807612656945 and parameters: {'min_child_samples': 50}. Best is trial 64 with value: 0.04994013154256962.\u001b[0m\n",
            "min_data_in_leaf, val_score: 0.049875:  60%|######    | 3/5 [00:00<00:00,  3.27it/s]"
          ]
        },
        {
          "output_type": "stream",
          "name": "stdout",
          "text": [
            "Training until validation scores don't improve for 100 rounds\n",
            "[100]\ttrain's binary_logloss: 0.043971\teval's binary_logloss: 0.0507594\n",
            "Early stopping, best iteration is:\n",
            "[41]\ttrain's binary_logloss: 0.0444832\teval's binary_logloss: 0.049947\n"
          ]
        },
        {
          "output_type": "stream",
          "name": "stderr",
          "text": [
            "min_data_in_leaf, val_score: 0.049875:  80%|########  | 4/5 [00:01<00:00,  3.27it/s]\u001b[32m[I 2021-09-05 00:35:13,724]\u001b[0m Trial 66 finished with value: 0.049946999405604556 and parameters: {'min_child_samples': 5}. Best is trial 64 with value: 0.04994013154256962.\u001b[0m\n",
            "min_data_in_leaf, val_score: 0.049875:  80%|########  | 4/5 [00:01<00:00,  3.27it/s]"
          ]
        },
        {
          "output_type": "stream",
          "name": "stdout",
          "text": [
            "Training until validation scores don't improve for 100 rounds\n"
          ]
        },
        {
          "output_type": "stream",
          "name": "stderr",
          "text": [
            "min_data_in_leaf, val_score: 0.049875: 100%|##########| 5/5 [00:01<00:00,  3.32it/s]\u001b[32m[I 2021-09-05 00:35:14,018]\u001b[0m Trial 67 finished with value: 0.04991718449967824 and parameters: {'min_child_samples': 10}. Best is trial 67 with value: 0.04991718449967824.\u001b[0m\n",
            "min_data_in_leaf, val_score: 0.049875: 100%|##########| 5/5 [00:01<00:00,  3.30it/s]"
          ]
        },
        {
          "output_type": "stream",
          "name": "stdout",
          "text": [
            "[100]\ttrain's binary_logloss: 0.043978\teval's binary_logloss: 0.0506007\n",
            "Early stopping, best iteration is:\n",
            "[41]\ttrain's binary_logloss: 0.0445191\teval's binary_logloss: 0.0499172\n"
          ]
        },
        {
          "output_type": "stream",
          "name": "stderr",
          "text": [
            "\n",
            "Best Params 1 - {'objective': 'binary', 'metric': 'binary_logloss', 'num_class': 1, 'device_type': 'gpu', 'seed': 441, 'verbosity': -1, 'feature_pre_filter': False, 'lambda_l1': 0.001399026186783361, 'lambda_l2': 0.008786792587986635, 'num_leaves': 31, 'feature_fraction': 0.8, 'bagging_fraction': 0.6075254900935669, 'bagging_freq': 5, 'min_child_samples': 20, 'num_iterations': 10000, 'early_stopping_round': 100}\n",
            "Result 1 - Score: 0.949242959127638, time: 20s\n",
            "Result 1 - Save Best Model\n",
            "========== fold: 1 result ==========\n",
            "Score: 0.94924\n",
            "========== fold: 2 training ==========\n",
            "\u001b[32m[I 2021-09-05 00:35:14,073]\u001b[0m A new study created in memory with name: no-name-b89533e9-89b3-4d20-bc5e-ba1c87316a3e\u001b[0m\n",
            "feature_fraction, val_score: inf:   0%|          | 0/7 [00:00<?, ?it/s]"
          ]
        },
        {
          "output_type": "stream",
          "name": "stdout",
          "text": [
            "Training until validation scores don't improve for 100 rounds\n",
            "[100]\ttrain's binary_logloss: 0.0469605\teval's binary_logloss: 0.039868\n",
            "[200]\ttrain's binary_logloss: 0.0468205\teval's binary_logloss: 0.0397026\n",
            "[300]\ttrain's binary_logloss: 0.0467686\teval's binary_logloss: 0.0396462\n",
            "[400]\ttrain's binary_logloss: 0.0467384\teval's binary_logloss: 0.0396147\n",
            "[500]\ttrain's binary_logloss: 0.0467166\teval's binary_logloss: 0.0395988\n",
            "[600]\ttrain's binary_logloss: 0.0467012\teval's binary_logloss: 0.0396069\n",
            "Early stopping, best iteration is:\n",
            "[566]\ttrain's binary_logloss: 0.0467069\teval's binary_logloss: 0.0395907\n"
          ]
        },
        {
          "output_type": "stream",
          "name": "stderr",
          "text": [
            "feature_fraction, val_score: 0.039591:  14%|#4        | 1/7 [00:00<00:04,  1.26it/s]\u001b[32m[I 2021-09-05 00:35:14,873]\u001b[0m Trial 0 finished with value: 0.0395906533813414 and parameters: {'feature_fraction': 0.6}. Best is trial 0 with value: 0.0395906533813414.\u001b[0m\n",
            "feature_fraction, val_score: 0.039591:  14%|#4        | 1/7 [00:00<00:04,  1.26it/s]"
          ]
        },
        {
          "output_type": "stream",
          "name": "stdout",
          "text": [
            "Training until validation scores don't improve for 100 rounds\n",
            "[100]\ttrain's binary_logloss: 0.0467008\teval's binary_logloss: 0.0395149\n"
          ]
        },
        {
          "output_type": "stream",
          "name": "stderr",
          "text": [
            "feature_fraction, val_score: 0.039501:  29%|##8       | 2/7 [00:01<00:02,  1.88it/s]\u001b[32m[I 2021-09-05 00:35:15,222]\u001b[0m Trial 1 finished with value: 0.0395010616346522 and parameters: {'feature_fraction': 0.8}. Best is trial 1 with value: 0.0395010616346522.\u001b[0m\n",
            "feature_fraction, val_score: 0.039501:  29%|##8       | 2/7 [00:01<00:02,  1.88it/s]"
          ]
        },
        {
          "output_type": "stream",
          "name": "stdout",
          "text": [
            "Early stopping, best iteration is:\n",
            "[96]\ttrain's binary_logloss: 0.0467062\teval's binary_logloss: 0.0395011\n",
            "Training until validation scores don't improve for 100 rounds\n"
          ]
        },
        {
          "output_type": "stream",
          "name": "stderr",
          "text": [
            "feature_fraction, val_score: 0.039379:  43%|####2     | 3/7 [00:01<00:01,  2.26it/s]\u001b[32m[I 2021-09-05 00:35:15,559]\u001b[0m Trial 2 finished with value: 0.039379006334652154 and parameters: {'feature_fraction': 1.0}. Best is trial 2 with value: 0.039379006334652154.\u001b[0m\n",
            "feature_fraction, val_score: 0.039379:  43%|####2     | 3/7 [00:01<00:01,  2.26it/s]"
          ]
        },
        {
          "output_type": "stream",
          "name": "stdout",
          "text": [
            "[100]\ttrain's binary_logloss: 0.0466784\teval's binary_logloss: 0.0394774\n",
            "Early stopping, best iteration is:\n",
            "[76]\ttrain's binary_logloss: 0.046775\teval's binary_logloss: 0.039379\n",
            "Training until validation scores don't improve for 100 rounds\n",
            "[100]\ttrain's binary_logloss: 0.0466784\teval's binary_logloss: 0.0394774\n"
          ]
        },
        {
          "output_type": "stream",
          "name": "stderr",
          "text": [
            "feature_fraction, val_score: 0.039379:  57%|#####7    | 4/7 [00:01<00:01,  2.45it/s]\u001b[32m[I 2021-09-05 00:35:15,915]\u001b[0m Trial 3 finished with value: 0.039379006334652154 and parameters: {'feature_fraction': 0.8999999999999999}. Best is trial 2 with value: 0.039379006334652154.\u001b[0m\n",
            "feature_fraction, val_score: 0.039379:  57%|#####7    | 4/7 [00:01<00:01,  2.45it/s]"
          ]
        },
        {
          "output_type": "stream",
          "name": "stdout",
          "text": [
            "Early stopping, best iteration is:\n",
            "[76]\ttrain's binary_logloss: 0.046775\teval's binary_logloss: 0.039379\n",
            "Training until validation scores don't improve for 100 rounds\n",
            "[100]\ttrain's binary_logloss: 0.0469605\teval's binary_logloss: 0.039868\n",
            "[200]\ttrain's binary_logloss: 0.0468205\teval's binary_logloss: 0.0397026\n",
            "[300]\ttrain's binary_logloss: 0.0467686\teval's binary_logloss: 0.0396462\n",
            "[400]\ttrain's binary_logloss: 0.0467384\teval's binary_logloss: 0.0396147\n",
            "[500]\ttrain's binary_logloss: 0.0467166\teval's binary_logloss: 0.0395988\n",
            "[600]\ttrain's binary_logloss: 0.0467012\teval's binary_logloss: 0.0396069\n"
          ]
        },
        {
          "output_type": "stream",
          "name": "stderr",
          "text": [
            "feature_fraction, val_score: 0.039379:  71%|#######1  | 5/7 [00:02<00:01,  1.81it/s]\u001b[32m[I 2021-09-05 00:35:16,725]\u001b[0m Trial 4 finished with value: 0.0395906533813414 and parameters: {'feature_fraction': 0.5}. Best is trial 2 with value: 0.039379006334652154.\u001b[0m\n",
            "feature_fraction, val_score: 0.039379:  71%|#######1  | 5/7 [00:02<00:01,  1.81it/s]"
          ]
        },
        {
          "output_type": "stream",
          "name": "stdout",
          "text": [
            "Early stopping, best iteration is:\n",
            "[566]\ttrain's binary_logloss: 0.0467069\teval's binary_logloss: 0.0395907\n",
            "Training until validation scores don't improve for 100 rounds\n"
          ]
        },
        {
          "output_type": "stream",
          "name": "stderr",
          "text": [
            "feature_fraction, val_score: 0.039379:  86%|########5 | 6/7 [00:03<00:00,  2.05it/s]\u001b[32m[I 2021-09-05 00:35:17,083]\u001b[0m Trial 5 finished with value: 0.0395010616346522 and parameters: {'feature_fraction': 0.7}. Best is trial 2 with value: 0.039379006334652154.\u001b[0m\n",
            "feature_fraction, val_score: 0.039379:  86%|########5 | 6/7 [00:03<00:00,  2.05it/s]"
          ]
        },
        {
          "output_type": "stream",
          "name": "stdout",
          "text": [
            "[100]\ttrain's binary_logloss: 0.0467008\teval's binary_logloss: 0.0395149\n",
            "Early stopping, best iteration is:\n",
            "[96]\ttrain's binary_logloss: 0.0467062\teval's binary_logloss: 0.0395011\n",
            "Training until validation scores don't improve for 100 rounds\n",
            "[100]\ttrain's binary_logloss: 0.0477184\teval's binary_logloss: 0.0407063\n",
            "[200]\ttrain's binary_logloss: 0.0475101\teval's binary_logloss: 0.0406603\n"
          ]
        },
        {
          "output_type": "stream",
          "name": "stderr",
          "text": [
            "feature_fraction, val_score: 0.039379: 100%|##########| 7/7 [00:03<00:00,  2.15it/s]\u001b[32m[I 2021-09-05 00:35:17,500]\u001b[0m Trial 6 finished with value: 0.04064670364506618 and parameters: {'feature_fraction': 0.4}. Best is trial 2 with value: 0.039379006334652154.\u001b[0m\n",
            "feature_fraction, val_score: 0.039379: 100%|##########| 7/7 [00:03<00:00,  2.04it/s]\n"
          ]
        },
        {
          "output_type": "stream",
          "name": "stdout",
          "text": [
            "Early stopping, best iteration is:\n",
            "[197]\ttrain's binary_logloss: 0.0475134\teval's binary_logloss: 0.0406467\n"
          ]
        },
        {
          "output_type": "stream",
          "name": "stderr",
          "text": [
            "num_leaves, val_score: 0.039379:   0%|          | 0/20 [00:00<?, ?it/s]"
          ]
        },
        {
          "output_type": "stream",
          "name": "stdout",
          "text": [
            "Training until validation scores don't improve for 100 rounds\n",
            "[100]\ttrain's binary_logloss: 0.0466784\teval's binary_logloss: 0.0394774\n"
          ]
        },
        {
          "output_type": "stream",
          "name": "stderr",
          "text": [
            "num_leaves, val_score: 0.039379:   5%|5         | 1/20 [00:00<00:06,  2.80it/s]\u001b[32m[I 2021-09-05 00:35:17,868]\u001b[0m Trial 7 finished with value: 0.039379006334652154 and parameters: {'num_leaves': 91}. Best is trial 7 with value: 0.039379006334652154.\u001b[0m\n",
            "num_leaves, val_score: 0.039379:   5%|5         | 1/20 [00:00<00:06,  2.80it/s]"
          ]
        },
        {
          "output_type": "stream",
          "name": "stdout",
          "text": [
            "Early stopping, best iteration is:\n",
            "[76]\ttrain's binary_logloss: 0.046775\teval's binary_logloss: 0.039379\n",
            "Training until validation scores don't improve for 100 rounds\n",
            "[100]\ttrain's binary_logloss: 0.0466784\teval's binary_logloss: 0.0394774\n"
          ]
        },
        {
          "output_type": "stream",
          "name": "stderr",
          "text": [
            "num_leaves, val_score: 0.039379:  10%|#         | 2/20 [00:00<00:06,  2.75it/s]\u001b[32m[I 2021-09-05 00:35:18,237]\u001b[0m Trial 8 finished with value: 0.039379006334652154 and parameters: {'num_leaves': 184}. Best is trial 7 with value: 0.039379006334652154.\u001b[0m\n",
            "num_leaves, val_score: 0.039379:  10%|#         | 2/20 [00:00<00:06,  2.75it/s]"
          ]
        },
        {
          "output_type": "stream",
          "name": "stdout",
          "text": [
            "Early stopping, best iteration is:\n",
            "[76]\ttrain's binary_logloss: 0.046775\teval's binary_logloss: 0.039379\n",
            "Training until validation scores don't improve for 100 rounds\n",
            "[100]\ttrain's binary_logloss: 0.0466784\teval's binary_logloss: 0.0394774\n",
            "Early stopping, best iteration is:\n",
            "[76]\ttrain's binary_logloss: 0.046775\teval's binary_logloss: 0.039379\n"
          ]
        },
        {
          "output_type": "stream",
          "name": "stderr",
          "text": [
            "num_leaves, val_score: 0.039379:  15%|#5        | 3/20 [00:01<00:05,  2.86it/s]\u001b[32m[I 2021-09-05 00:35:18,569]\u001b[0m Trial 9 finished with value: 0.039379006334652154 and parameters: {'num_leaves': 37}. Best is trial 7 with value: 0.039379006334652154.\u001b[0m\n",
            "num_leaves, val_score: 0.039379:  15%|#5        | 3/20 [00:01<00:05,  2.86it/s]"
          ]
        },
        {
          "output_type": "stream",
          "name": "stdout",
          "text": [
            "Training until validation scores don't improve for 100 rounds\n",
            "[100]\ttrain's binary_logloss: 0.0466784\teval's binary_logloss: 0.0394774\n"
          ]
        },
        {
          "output_type": "stream",
          "name": "stderr",
          "text": [
            "num_leaves, val_score: 0.039379:  20%|##        | 4/20 [00:01<00:05,  2.86it/s]\u001b[32m[I 2021-09-05 00:35:18,921]\u001b[0m Trial 10 finished with value: 0.039379006334652154 and parameters: {'num_leaves': 176}. Best is trial 7 with value: 0.039379006334652154.\u001b[0m\n",
            "num_leaves, val_score: 0.039379:  20%|##        | 4/20 [00:01<00:05,  2.86it/s]"
          ]
        },
        {
          "output_type": "stream",
          "name": "stdout",
          "text": [
            "Early stopping, best iteration is:\n",
            "[76]\ttrain's binary_logloss: 0.046775\teval's binary_logloss: 0.039379\n",
            "Training until validation scores don't improve for 100 rounds\n"
          ]
        },
        {
          "output_type": "stream",
          "name": "stderr",
          "text": [
            "num_leaves, val_score: 0.039379:  25%|##5       | 5/20 [00:01<00:05,  2.87it/s]\u001b[32m[I 2021-09-05 00:35:19,265]\u001b[0m Trial 11 finished with value: 0.039379006334652154 and parameters: {'num_leaves': 152}. Best is trial 7 with value: 0.039379006334652154.\u001b[0m\n",
            "num_leaves, val_score: 0.039379:  25%|##5       | 5/20 [00:01<00:05,  2.87it/s]"
          ]
        },
        {
          "output_type": "stream",
          "name": "stdout",
          "text": [
            "[100]\ttrain's binary_logloss: 0.0466784\teval's binary_logloss: 0.0394774\n",
            "Early stopping, best iteration is:\n",
            "[76]\ttrain's binary_logloss: 0.046775\teval's binary_logloss: 0.039379\n",
            "Training until validation scores don't improve for 100 rounds\n",
            "[100]\ttrain's binary_logloss: 0.0475088\teval's binary_logloss: 0.0404189\n",
            "[200]\ttrain's binary_logloss: 0.0473788\teval's binary_logloss: 0.0403542\n",
            "[300]\ttrain's binary_logloss: 0.0472711\teval's binary_logloss: 0.0403069\n",
            "[400]\ttrain's binary_logloss: 0.0472219\teval's binary_logloss: 0.0402786\n",
            "[500]\ttrain's binary_logloss: 0.0471851\teval's binary_logloss: 0.0402973\n",
            "Early stopping, best iteration is:\n",
            "[425]\ttrain's binary_logloss: 0.0472141\teval's binary_logloss: 0.0402675\n"
          ]
        },
        {
          "output_type": "stream",
          "name": "stderr",
          "text": [
            "num_leaves, val_score: 0.039379:  30%|###       | 6/20 [00:02<00:05,  2.40it/s]\u001b[32m[I 2021-09-05 00:35:19,813]\u001b[0m Trial 12 finished with value: 0.04026751745624893 and parameters: {'num_leaves': 3}. Best is trial 7 with value: 0.039379006334652154.\u001b[0m\n",
            "num_leaves, val_score: 0.039379:  30%|###       | 6/20 [00:02<00:05,  2.40it/s]"
          ]
        },
        {
          "output_type": "stream",
          "name": "stdout",
          "text": [
            "Training until validation scores don't improve for 100 rounds\n",
            "[100]\ttrain's binary_logloss: 0.0466784\teval's binary_logloss: 0.0394774\n"
          ]
        },
        {
          "output_type": "stream",
          "name": "stderr",
          "text": [
            "num_leaves, val_score: 0.039379:  35%|###5      | 7/20 [00:02<00:05,  2.53it/s]\u001b[32m[I 2021-09-05 00:35:20,165]\u001b[0m Trial 13 finished with value: 0.03937900633465216 and parameters: {'num_leaves': 209}. Best is trial 7 with value: 0.039379006334652154.\u001b[0m\n",
            "num_leaves, val_score: 0.039379:  35%|###5      | 7/20 [00:02<00:05,  2.53it/s]"
          ]
        },
        {
          "output_type": "stream",
          "name": "stdout",
          "text": [
            "Early stopping, best iteration is:\n",
            "[76]\ttrain's binary_logloss: 0.046775\teval's binary_logloss: 0.039379\n",
            "Training until validation scores don't improve for 100 rounds\n"
          ]
        },
        {
          "output_type": "stream",
          "name": "stderr",
          "text": [
            "num_leaves, val_score: 0.039379:  40%|####      | 8/20 [00:02<00:04,  2.65it/s]\u001b[32m[I 2021-09-05 00:35:20,503]\u001b[0m Trial 14 finished with value: 0.03937900633465216 and parameters: {'num_leaves': 117}. Best is trial 7 with value: 0.039379006334652154.\u001b[0m\n",
            "num_leaves, val_score: 0.039379:  40%|####      | 8/20 [00:02<00:04,  2.65it/s]"
          ]
        },
        {
          "output_type": "stream",
          "name": "stdout",
          "text": [
            "[100]\ttrain's binary_logloss: 0.0466784\teval's binary_logloss: 0.0394774\n",
            "Early stopping, best iteration is:\n",
            "[76]\ttrain's binary_logloss: 0.046775\teval's binary_logloss: 0.039379\n",
            "Training until validation scores don't improve for 100 rounds\n",
            "[100]\ttrain's binary_logloss: 0.0466784\teval's binary_logloss: 0.0394774\n"
          ]
        },
        {
          "output_type": "stream",
          "name": "stderr",
          "text": [
            "num_leaves, val_score: 0.039379:  45%|####5     | 9/20 [00:03<00:04,  2.73it/s]\u001b[32m[I 2021-09-05 00:35:20,847]\u001b[0m Trial 15 finished with value: 0.039379006334652154 and parameters: {'num_leaves': 142}. Best is trial 7 with value: 0.039379006334652154.\u001b[0m\n",
            "num_leaves, val_score: 0.039379:  45%|####5     | 9/20 [00:03<00:04,  2.73it/s]"
          ]
        },
        {
          "output_type": "stream",
          "name": "stdout",
          "text": [
            "Early stopping, best iteration is:\n",
            "[76]\ttrain's binary_logloss: 0.046775\teval's binary_logloss: 0.039379\n",
            "Training until validation scores don't improve for 100 rounds\n"
          ]
        },
        {
          "output_type": "stream",
          "name": "stderr",
          "text": [
            "num_leaves, val_score: 0.039379:  50%|#####     | 10/20 [00:03<00:03,  2.79it/s]\u001b[32m[I 2021-09-05 00:35:21,188]\u001b[0m Trial 16 finished with value: 0.039379006334652154 and parameters: {'num_leaves': 50}. Best is trial 7 with value: 0.039379006334652154.\u001b[0m\n",
            "num_leaves, val_score: 0.039379:  50%|#####     | 10/20 [00:03<00:03,  2.79it/s]"
          ]
        },
        {
          "output_type": "stream",
          "name": "stdout",
          "text": [
            "[100]\ttrain's binary_logloss: 0.0466784\teval's binary_logloss: 0.0394774\n",
            "Early stopping, best iteration is:\n",
            "[76]\ttrain's binary_logloss: 0.046775\teval's binary_logloss: 0.039379\n",
            "Training until validation scores don't improve for 100 rounds\n",
            "[100]\ttrain's binary_logloss: 0.0466784\teval's binary_logloss: 0.0394774\n"
          ]
        },
        {
          "output_type": "stream",
          "name": "stderr",
          "text": [
            "num_leaves, val_score: 0.039379:  55%|#####5    | 11/20 [00:04<00:03,  2.82it/s]\u001b[32m[I 2021-09-05 00:35:21,534]\u001b[0m Trial 17 finished with value: 0.039379006334652154 and parameters: {'num_leaves': 251}. Best is trial 7 with value: 0.039379006334652154.\u001b[0m\n",
            "num_leaves, val_score: 0.039379:  55%|#####5    | 11/20 [00:04<00:03,  2.82it/s]"
          ]
        },
        {
          "output_type": "stream",
          "name": "stdout",
          "text": [
            "Early stopping, best iteration is:\n",
            "[76]\ttrain's binary_logloss: 0.046775\teval's binary_logloss: 0.039379\n",
            "Training until validation scores don't improve for 100 rounds\n"
          ]
        },
        {
          "output_type": "stream",
          "name": "stderr",
          "text": [
            "num_leaves, val_score: 0.039379:  60%|######    | 12/20 [00:04<00:02,  2.84it/s]\u001b[32m[I 2021-09-05 00:35:21,880]\u001b[0m Trial 18 finished with value: 0.039379006334652154 and parameters: {'num_leaves': 92}. Best is trial 7 with value: 0.039379006334652154.\u001b[0m\n",
            "num_leaves, val_score: 0.039379:  60%|######    | 12/20 [00:04<00:02,  2.84it/s]"
          ]
        },
        {
          "output_type": "stream",
          "name": "stdout",
          "text": [
            "[100]\ttrain's binary_logloss: 0.0466784\teval's binary_logloss: 0.0394774\n",
            "Early stopping, best iteration is:\n",
            "[76]\ttrain's binary_logloss: 0.046775\teval's binary_logloss: 0.039379\n",
            "Training until validation scores don't improve for 100 rounds\n",
            "[100]\ttrain's binary_logloss: 0.0466784\teval's binary_logloss: 0.0394774\n"
          ]
        },
        {
          "output_type": "stream",
          "name": "stderr",
          "text": [
            "num_leaves, val_score: 0.039379:  65%|######5   | 13/20 [00:04<00:02,  2.83it/s]\u001b[32m[I 2021-09-05 00:35:22,237]\u001b[0m Trial 19 finished with value: 0.03937900633465216 and parameters: {'num_leaves': 89}. Best is trial 7 with value: 0.039379006334652154.\u001b[0m\n",
            "num_leaves, val_score: 0.039379:  65%|######5   | 13/20 [00:04<00:02,  2.83it/s]"
          ]
        },
        {
          "output_type": "stream",
          "name": "stdout",
          "text": [
            "Early stopping, best iteration is:\n",
            "[76]\ttrain's binary_logloss: 0.046775\teval's binary_logloss: 0.039379\n",
            "Training until validation scores don't improve for 100 rounds\n"
          ]
        },
        {
          "output_type": "stream",
          "name": "stderr",
          "text": [
            "num_leaves, val_score: 0.039379:  70%|#######   | 14/20 [00:05<00:02,  2.84it/s]\u001b[32m[I 2021-09-05 00:35:22,588]\u001b[0m Trial 20 finished with value: 0.03937900633465216 and parameters: {'num_leaves': 196}. Best is trial 7 with value: 0.039379006334652154.\u001b[0m\n",
            "num_leaves, val_score: 0.039379:  70%|#######   | 14/20 [00:05<00:02,  2.84it/s]"
          ]
        },
        {
          "output_type": "stream",
          "name": "stdout",
          "text": [
            "[100]\ttrain's binary_logloss: 0.0466784\teval's binary_logloss: 0.0394774\n",
            "Early stopping, best iteration is:\n",
            "[76]\ttrain's binary_logloss: 0.046775\teval's binary_logloss: 0.039379\n",
            "Training until validation scores don't improve for 100 rounds\n",
            "[100]\ttrain's binary_logloss: 0.0466784\teval's binary_logloss: 0.0394774\n"
          ]
        },
        {
          "output_type": "stream",
          "name": "stderr",
          "text": [
            "num_leaves, val_score: 0.039379:  75%|#######5  | 15/20 [00:05<00:01,  2.85it/s]\u001b[32m[I 2021-09-05 00:35:22,933]\u001b[0m Trial 21 finished with value: 0.039379006334652154 and parameters: {'num_leaves': 244}. Best is trial 7 with value: 0.039379006334652154.\u001b[0m\n",
            "num_leaves, val_score: 0.039379:  75%|#######5  | 15/20 [00:05<00:01,  2.85it/s]"
          ]
        },
        {
          "output_type": "stream",
          "name": "stdout",
          "text": [
            "Early stopping, best iteration is:\n",
            "[76]\ttrain's binary_logloss: 0.046775\teval's binary_logloss: 0.039379\n",
            "Training until validation scores don't improve for 100 rounds\n"
          ]
        },
        {
          "output_type": "stream",
          "name": "stderr",
          "text": [
            "num_leaves, val_score: 0.039379:  80%|########  | 16/20 [00:05<00:01,  2.85it/s]\u001b[32m[I 2021-09-05 00:35:23,284]\u001b[0m Trial 22 finished with value: 0.039379006334652154 and parameters: {'num_leaves': 105}. Best is trial 7 with value: 0.039379006334652154.\u001b[0m\n",
            "num_leaves, val_score: 0.039379:  80%|########  | 16/20 [00:05<00:01,  2.85it/s]"
          ]
        },
        {
          "output_type": "stream",
          "name": "stdout",
          "text": [
            "[100]\ttrain's binary_logloss: 0.0466784\teval's binary_logloss: 0.0394774\n",
            "Early stopping, best iteration is:\n",
            "[76]\ttrain's binary_logloss: 0.046775\teval's binary_logloss: 0.039379\n",
            "Training until validation scores don't improve for 100 rounds\n",
            "[100]\ttrain's binary_logloss: 0.0466784\teval's binary_logloss: 0.0394774\n"
          ]
        },
        {
          "output_type": "stream",
          "name": "stderr",
          "text": [
            "num_leaves, val_score: 0.039379:  85%|########5 | 17/20 [00:06<00:01,  2.83it/s]\u001b[32m[I 2021-09-05 00:35:23,642]\u001b[0m Trial 23 finished with value: 0.03937900633465216 and parameters: {'num_leaves': 65}. Best is trial 7 with value: 0.039379006334652154.\u001b[0m\n",
            "num_leaves, val_score: 0.039379:  85%|########5 | 17/20 [00:06<00:01,  2.83it/s]"
          ]
        },
        {
          "output_type": "stream",
          "name": "stdout",
          "text": [
            "Early stopping, best iteration is:\n",
            "[76]\ttrain's binary_logloss: 0.046775\teval's binary_logloss: 0.039379\n",
            "Training until validation scores don't improve for 100 rounds\n"
          ]
        },
        {
          "output_type": "stream",
          "name": "stderr",
          "text": [
            "num_leaves, val_score: 0.039379:  90%|######### | 18/20 [00:06<00:00,  2.86it/s]\u001b[32m[I 2021-09-05 00:35:23,984]\u001b[0m Trial 24 finished with value: 0.03937900633465216 and parameters: {'num_leaves': 255}. Best is trial 7 with value: 0.039379006334652154.\u001b[0m\n",
            "num_leaves, val_score: 0.039379:  90%|######### | 18/20 [00:06<00:00,  2.86it/s]"
          ]
        },
        {
          "output_type": "stream",
          "name": "stdout",
          "text": [
            "[100]\ttrain's binary_logloss: 0.0466784\teval's binary_logloss: 0.0394774\n",
            "Early stopping, best iteration is:\n",
            "[76]\ttrain's binary_logloss: 0.046775\teval's binary_logloss: 0.039379\n",
            "Training until validation scores don't improve for 100 rounds\n",
            "[100]\ttrain's binary_logloss: 0.0466784\teval's binary_logloss: 0.0394774\n"
          ]
        },
        {
          "output_type": "stream",
          "name": "stderr",
          "text": [
            "num_leaves, val_score: 0.039379:  95%|#########5| 19/20 [00:06<00:00,  2.82it/s]\u001b[32m[I 2021-09-05 00:35:24,351]\u001b[0m Trial 25 finished with value: 0.039379006334652154 and parameters: {'num_leaves': 116}. Best is trial 7 with value: 0.039379006334652154.\u001b[0m\n",
            "num_leaves, val_score: 0.039379:  95%|#########5| 19/20 [00:06<00:00,  2.82it/s]"
          ]
        },
        {
          "output_type": "stream",
          "name": "stdout",
          "text": [
            "Early stopping, best iteration is:\n",
            "[76]\ttrain's binary_logloss: 0.046775\teval's binary_logloss: 0.039379\n",
            "Training until validation scores don't improve for 100 rounds\n"
          ]
        },
        {
          "output_type": "stream",
          "name": "stderr",
          "text": [
            "num_leaves, val_score: 0.039379: 100%|##########| 20/20 [00:07<00:00,  2.87it/s]\u001b[32m[I 2021-09-05 00:35:24,685]\u001b[0m Trial 26 finished with value: 0.039379006334652154 and parameters: {'num_leaves': 84}. Best is trial 7 with value: 0.039379006334652154.\u001b[0m\n",
            "num_leaves, val_score: 0.039379: 100%|##########| 20/20 [00:07<00:00,  2.79it/s]\n"
          ]
        },
        {
          "output_type": "stream",
          "name": "stdout",
          "text": [
            "[100]\ttrain's binary_logloss: 0.0466784\teval's binary_logloss: 0.0394774\n",
            "Early stopping, best iteration is:\n",
            "[76]\ttrain's binary_logloss: 0.046775\teval's binary_logloss: 0.039379\n"
          ]
        },
        {
          "output_type": "stream",
          "name": "stderr",
          "text": [
            "bagging, val_score: 0.039379:   0%|          | 0/10 [00:00<?, ?it/s]"
          ]
        },
        {
          "output_type": "stream",
          "name": "stdout",
          "text": [
            "Training until validation scores don't improve for 100 rounds\n",
            "[100]\ttrain's binary_logloss: 0.0467024\teval's binary_logloss: 0.0394966\n"
          ]
        },
        {
          "output_type": "stream",
          "name": "stderr",
          "text": [
            "bagging, val_score: 0.039379:  10%|#         | 1/10 [00:00<00:03,  2.36it/s]\u001b[32m[I 2021-09-05 00:35:25,117]\u001b[0m Trial 27 finished with value: 0.039418142895500746 and parameters: {'bagging_fraction': 0.5176710657172486, 'bagging_freq': 1}. Best is trial 27 with value: 0.039418142895500746.\u001b[0m\n",
            "bagging, val_score: 0.039379:  10%|#         | 1/10 [00:00<00:03,  2.36it/s]"
          ]
        },
        {
          "output_type": "stream",
          "name": "stdout",
          "text": [
            "[200]\ttrain's binary_logloss: 0.0466623\teval's binary_logloss: 0.039704\n",
            "Early stopping, best iteration is:\n",
            "[105]\ttrain's binary_logloss: 0.0466963\teval's binary_logloss: 0.0394181\n",
            "Training until validation scores don't improve for 100 rounds\n",
            "[100]\ttrain's binary_logloss: 0.0467045\teval's binary_logloss: 0.0395768\n",
            "[200]\ttrain's binary_logloss: 0.0466685\teval's binary_logloss: 0.0395869\n"
          ]
        },
        {
          "output_type": "stream",
          "name": "stderr",
          "text": [
            "bagging, val_score: 0.039338:  20%|##        | 2/10 [00:00<00:03,  2.03it/s]\u001b[32m[I 2021-09-05 00:35:25,658]\u001b[0m Trial 28 finished with value: 0.039337569531049985 and parameters: {'bagging_fraction': 0.7999181993537327, 'bagging_freq': 7}. Best is trial 28 with value: 0.039337569531049985.\u001b[0m\n",
            "bagging, val_score: 0.039338:  20%|##        | 2/10 [00:00<00:03,  2.03it/s]"
          ]
        },
        {
          "output_type": "stream",
          "name": "stdout",
          "text": [
            "Early stopping, best iteration is:\n",
            "[189]\ttrain's binary_logloss: 0.046701\teval's binary_logloss: 0.0393376\n",
            "Training until validation scores don't improve for 100 rounds\n"
          ]
        },
        {
          "output_type": "stream",
          "name": "stderr",
          "text": [
            "bagging, val_score: 0.039252:  30%|###       | 3/10 [00:01<00:03,  2.23it/s]\u001b[32m[I 2021-09-05 00:35:26,056]\u001b[0m Trial 29 finished with value: 0.03925215489066458 and parameters: {'bagging_fraction': 0.777983768110593, 'bagging_freq': 3}. Best is trial 29 with value: 0.03925215489066458.\u001b[0m\n",
            "bagging, val_score: 0.039252:  30%|###       | 3/10 [00:01<00:03,  2.23it/s]"
          ]
        },
        {
          "output_type": "stream",
          "name": "stdout",
          "text": [
            "[100]\ttrain's binary_logloss: 0.0466963\teval's binary_logloss: 0.039529\n",
            "Early stopping, best iteration is:\n",
            "[81]\ttrain's binary_logloss: 0.046781\teval's binary_logloss: 0.0392522\n",
            "Training until validation scores don't improve for 100 rounds\n",
            "[100]\ttrain's binary_logloss: 0.0466803\teval's binary_logloss: 0.0394979\n"
          ]
        },
        {
          "output_type": "stream",
          "name": "stderr",
          "text": [
            "bagging, val_score: 0.039252:  40%|####      | 4/10 [00:01<00:02,  2.32it/s]\u001b[32m[I 2021-09-05 00:35:26,458]\u001b[0m Trial 30 finished with value: 0.03943385849182713 and parameters: {'bagging_fraction': 0.7074213746821751, 'bagging_freq': 1}. Best is trial 29 with value: 0.03925215489066458.\u001b[0m\n",
            "bagging, val_score: 0.039252:  40%|####      | 4/10 [00:01<00:02,  2.32it/s]"
          ]
        },
        {
          "output_type": "stream",
          "name": "stdout",
          "text": [
            "Early stopping, best iteration is:\n",
            "[91]\ttrain's binary_logloss: 0.0466905\teval's binary_logloss: 0.0394339\n",
            "Training until validation scores don't improve for 100 rounds\n"
          ]
        },
        {
          "output_type": "stream",
          "name": "stderr",
          "text": [
            "bagging, val_score: 0.039252:  50%|#####     | 5/10 [00:02<00:02,  2.39it/s]\u001b[32m[I 2021-09-05 00:35:26,855]\u001b[0m Trial 31 finished with value: 0.03942013457998966 and parameters: {'bagging_fraction': 0.8523242273750316, 'bagging_freq': 7}. Best is trial 29 with value: 0.03925215489066458.\u001b[0m\n",
            "bagging, val_score: 0.039252:  50%|#####     | 5/10 [00:02<00:02,  2.39it/s]"
          ]
        },
        {
          "output_type": "stream",
          "name": "stdout",
          "text": [
            "[100]\ttrain's binary_logloss: 0.0466942\teval's binary_logloss: 0.0395924\n",
            "Early stopping, best iteration is:\n",
            "[84]\ttrain's binary_logloss: 0.0467297\teval's binary_logloss: 0.0394201\n",
            "Training until validation scores don't improve for 100 rounds\n",
            "[100]\ttrain's binary_logloss: 0.0467739\teval's binary_logloss: 0.039421\n"
          ]
        },
        {
          "output_type": "stream",
          "name": "stderr",
          "text": [
            "bagging, val_score: 0.039252:  60%|######    | 6/10 [00:02<00:01,  2.32it/s]\u001b[32m[I 2021-09-05 00:35:27,314]\u001b[0m Trial 32 finished with value: 0.03945167271945714 and parameters: {'bagging_fraction': 0.43706696992619876, 'bagging_freq': 2}. Best is trial 29 with value: 0.03925215489066458.\u001b[0m\n",
            "bagging, val_score: 0.039252:  60%|######    | 6/10 [00:02<00:01,  2.32it/s]"
          ]
        },
        {
          "output_type": "stream",
          "name": "stdout",
          "text": [
            "[200]\ttrain's binary_logloss: 0.0467082\teval's binary_logloss: 0.0394228\n",
            "Early stopping, best iteration is:\n",
            "[126]\ttrain's binary_logloss: 0.0466916\teval's binary_logloss: 0.0394517\n",
            "Training until validation scores don't improve for 100 rounds\n"
          ]
        },
        {
          "output_type": "stream",
          "name": "stderr",
          "text": [
            "bagging, val_score: 0.039252:  70%|#######   | 7/10 [00:03<00:01,  2.30it/s]\u001b[32m[I 2021-09-05 00:35:27,753]\u001b[0m Trial 33 finished with value: 0.039472672935041184 and parameters: {'bagging_fraction': 0.45053565908513227, 'bagging_freq': 2}. Best is trial 29 with value: 0.03925215489066458.\u001b[0m\n",
            "bagging, val_score: 0.039252:  70%|#######   | 7/10 [00:03<00:01,  2.30it/s]"
          ]
        },
        {
          "output_type": "stream",
          "name": "stdout",
          "text": [
            "[100]\ttrain's binary_logloss: 0.0467455\teval's binary_logloss: 0.0394892\n",
            "[200]\ttrain's binary_logloss: 0.0466988\teval's binary_logloss: 0.0393561\n",
            "Early stopping, best iteration is:\n",
            "[126]\ttrain's binary_logloss: 0.046695\teval's binary_logloss: 0.0394727\n",
            "Training until validation scores don't improve for 100 rounds\n",
            "[100]\ttrain's binary_logloss: 0.0466751\teval's binary_logloss: 0.0394685\n"
          ]
        },
        {
          "output_type": "stream",
          "name": "stderr",
          "text": [
            "bagging, val_score: 0.039252:  80%|########  | 8/10 [00:03<00:00,  2.41it/s]\u001b[32m[I 2021-09-05 00:35:28,125]\u001b[0m Trial 34 finished with value: 0.039432533767421944 and parameters: {'bagging_fraction': 0.9059485511698463, 'bagging_freq': 5}. Best is trial 29 with value: 0.03925215489066458.\u001b[0m\n",
            "bagging, val_score: 0.039252:  80%|########  | 8/10 [00:03<00:00,  2.41it/s]"
          ]
        },
        {
          "output_type": "stream",
          "name": "stdout",
          "text": [
            "Early stopping, best iteration is:\n",
            "[78]\ttrain's binary_logloss: 0.0467282\teval's binary_logloss: 0.0394325\n",
            "Training until validation scores don't improve for 100 rounds\n"
          ]
        },
        {
          "output_type": "stream",
          "name": "stderr",
          "text": [
            "bagging, val_score: 0.039252:  90%|######### | 9/10 [00:03<00:00,  2.48it/s]\u001b[32m[I 2021-09-05 00:35:28,505]\u001b[0m Trial 35 finished with value: 0.039271964800335735 and parameters: {'bagging_fraction': 0.4722833261348751, 'bagging_freq': 4}. Best is trial 29 with value: 0.03925215489066458.\u001b[0m\n",
            "bagging, val_score: 0.039252:  90%|######### | 9/10 [00:03<00:00,  2.48it/s]"
          ]
        },
        {
          "output_type": "stream",
          "name": "stdout",
          "text": [
            "[100]\ttrain's binary_logloss: 0.0468236\teval's binary_logloss: 0.039386\n",
            "Early stopping, best iteration is:\n",
            "[76]\ttrain's binary_logloss: 0.0468765\teval's binary_logloss: 0.039272\n",
            "Training until validation scores don't improve for 100 rounds\n",
            "[100]\ttrain's binary_logloss: 0.0467016\teval's binary_logloss: 0.0394681\n"
          ]
        },
        {
          "output_type": "stream",
          "name": "stderr",
          "text": [
            "bagging, val_score: 0.039252: 100%|##########| 10/10 [00:04<00:00,  2.42it/s]\u001b[32m[I 2021-09-05 00:35:28,938]\u001b[0m Trial 36 finished with value: 0.03931276556479493 and parameters: {'bagging_fraction': 0.6146335281098297, 'bagging_freq': 2}. Best is trial 29 with value: 0.03925215489066458.\u001b[0m\n",
            "bagging, val_score: 0.039252: 100%|##########| 10/10 [00:04<00:00,  2.35it/s]\n"
          ]
        },
        {
          "output_type": "stream",
          "name": "stdout",
          "text": [
            "[200]\ttrain's binary_logloss: 0.0466695\teval's binary_logloss: 0.0396148\n",
            "Early stopping, best iteration is:\n",
            "[111]\ttrain's binary_logloss: 0.0466956\teval's binary_logloss: 0.0393128\n"
          ]
        },
        {
          "output_type": "stream",
          "name": "stderr",
          "text": [
            "feature_fraction_stage2, val_score: 0.039252:   0%|          | 0/3 [00:00<?, ?it/s]"
          ]
        },
        {
          "output_type": "stream",
          "name": "stdout",
          "text": [
            "Training until validation scores don't improve for 100 rounds\n",
            "[100]\ttrain's binary_logloss: 0.0466963\teval's binary_logloss: 0.039529\n"
          ]
        },
        {
          "output_type": "stream",
          "name": "stderr",
          "text": [
            "feature_fraction_stage2, val_score: 0.039252:  33%|###3      | 1/3 [00:00<00:00,  2.57it/s]\u001b[32m[I 2021-09-05 00:35:29,338]\u001b[0m Trial 37 finished with value: 0.03925215489066458 and parameters: {'feature_fraction': 0.9520000000000001}. Best is trial 37 with value: 0.03925215489066458.\u001b[0m\n",
            "feature_fraction_stage2, val_score: 0.039252:  33%|###3      | 1/3 [00:00<00:00,  2.57it/s]"
          ]
        },
        {
          "output_type": "stream",
          "name": "stdout",
          "text": [
            "Early stopping, best iteration is:\n",
            "[81]\ttrain's binary_logloss: 0.046781\teval's binary_logloss: 0.0392522\n",
            "Training until validation scores don't improve for 100 rounds\n",
            "[100]\ttrain's binary_logloss: 0.0466963\teval's binary_logloss: 0.039529\n"
          ]
        },
        {
          "output_type": "stream",
          "name": "stderr",
          "text": [
            "feature_fraction_stage2, val_score: 0.039252:  67%|######6   | 2/3 [00:00<00:00,  2.59it/s]\u001b[32m[I 2021-09-05 00:35:29,721]\u001b[0m Trial 38 finished with value: 0.03925215489066458 and parameters: {'feature_fraction': 0.92}. Best is trial 37 with value: 0.03925215489066458.\u001b[0m\n",
            "feature_fraction_stage2, val_score: 0.039252:  67%|######6   | 2/3 [00:00<00:00,  2.59it/s]"
          ]
        },
        {
          "output_type": "stream",
          "name": "stdout",
          "text": [
            "Early stopping, best iteration is:\n",
            "[81]\ttrain's binary_logloss: 0.046781\teval's binary_logloss: 0.0392522\n",
            "Training until validation scores don't improve for 100 rounds\n",
            "[100]\ttrain's binary_logloss: 0.0466963\teval's binary_logloss: 0.039529\n"
          ]
        },
        {
          "output_type": "stream",
          "name": "stderr",
          "text": [
            "feature_fraction_stage2, val_score: 0.039252: 100%|##########| 3/3 [00:01<00:00,  2.47it/s]\u001b[32m[I 2021-09-05 00:35:30,149]\u001b[0m Trial 39 finished with value: 0.03925215489066458 and parameters: {'feature_fraction': 0.9840000000000001}. Best is trial 37 with value: 0.03925215489066458.\u001b[0m\n",
            "feature_fraction_stage2, val_score: 0.039252: 100%|##########| 3/3 [00:01<00:00,  2.49it/s]\n"
          ]
        },
        {
          "output_type": "stream",
          "name": "stdout",
          "text": [
            "Early stopping, best iteration is:\n",
            "[81]\ttrain's binary_logloss: 0.046781\teval's binary_logloss: 0.0392522\n"
          ]
        },
        {
          "output_type": "stream",
          "name": "stderr",
          "text": [
            "regularization_factors, val_score: 0.039252:   0%|          | 0/20 [00:00<?, ?it/s]"
          ]
        },
        {
          "output_type": "stream",
          "name": "stdout",
          "text": [
            "Training until validation scores don't improve for 100 rounds\n",
            "[100]\ttrain's binary_logloss: 0.0471935\teval's binary_logloss: 0.0400771\n",
            "[200]\ttrain's binary_logloss: 0.0469791\teval's binary_logloss: 0.0399534\n",
            "[300]\ttrain's binary_logloss: 0.0468926\teval's binary_logloss: 0.0398062\n",
            "[400]\ttrain's binary_logloss: 0.0468442\teval's binary_logloss: 0.0397761\n",
            "Early stopping, best iteration is:\n",
            "[375]\ttrain's binary_logloss: 0.0468531\teval's binary_logloss: 0.0396827\n"
          ]
        },
        {
          "output_type": "stream",
          "name": "stderr",
          "text": [
            "regularization_factors, val_score: 0.039252:   5%|5         | 1/20 [00:00<00:12,  1.49it/s]\u001b[32m[I 2021-09-05 00:35:30,830]\u001b[0m Trial 40 finished with value: 0.03968267840626837 and parameters: {'lambda_l1': 0.004897706917874182, 'lambda_l2': 6.941568635350568}. Best is trial 40 with value: 0.03968267840626837.\u001b[0m\n",
            "regularization_factors, val_score: 0.039252:   5%|5         | 1/20 [00:00<00:12,  1.49it/s]"
          ]
        },
        {
          "output_type": "stream",
          "name": "stdout",
          "text": [
            "Training until validation scores don't improve for 100 rounds\n",
            "[100]\ttrain's binary_logloss: 0.0466934\teval's binary_logloss: 0.039526\n"
          ]
        },
        {
          "output_type": "stream",
          "name": "stderr",
          "text": [
            "regularization_factors, val_score: 0.039252:  10%|#         | 2/20 [00:01<00:09,  1.99it/s]\u001b[32m[I 2021-09-05 00:35:31,219]\u001b[0m Trial 41 finished with value: 0.039253131861202537 and parameters: {'lambda_l1': 3.7790163133639336e-06, 'lambda_l2': 0.0007868876383504526}. Best is trial 41 with value: 0.039253131861202537.\u001b[0m\n",
            "regularization_factors, val_score: 0.039252:  10%|#         | 2/20 [00:01<00:09,  1.99it/s]"
          ]
        },
        {
          "output_type": "stream",
          "name": "stdout",
          "text": [
            "Early stopping, best iteration is:\n",
            "[81]\ttrain's binary_logloss: 0.0467728\teval's binary_logloss: 0.0392531\n",
            "Training until validation scores don't improve for 100 rounds\n"
          ]
        },
        {
          "output_type": "stream",
          "name": "stderr",
          "text": [
            "regularization_factors, val_score: 0.039252:  15%|#5        | 3/20 [00:01<00:06,  2.48it/s]\u001b[32m[I 2021-09-05 00:35:31,499]\u001b[0m Trial 42 finished with value: 0.04041213216628048 and parameters: {'lambda_l1': 3.445980652225161, 'lambda_l2': 2.5713850629972455e-05}. Best is trial 41 with value: 0.039253131861202537.\u001b[0m\n",
            "regularization_factors, val_score: 0.039252:  15%|#5        | 3/20 [00:01<00:06,  2.48it/s]"
          ]
        },
        {
          "output_type": "stream",
          "name": "stdout",
          "text": [
            "[100]\ttrain's binary_logloss: 0.0475757\teval's binary_logloss: 0.0404777\n",
            "Early stopping, best iteration is:\n",
            "[77]\ttrain's binary_logloss: 0.0475818\teval's binary_logloss: 0.0404121\n",
            "Training until validation scores don't improve for 100 rounds\n"
          ]
        },
        {
          "output_type": "stream",
          "name": "stderr",
          "text": [
            "regularization_factors, val_score: 0.039244:  20%|##        | 4/20 [00:01<00:06,  2.50it/s]\u001b[32m[I 2021-09-05 00:35:31,894]\u001b[0m Trial 43 finished with value: 0.03924357198455993 and parameters: {'lambda_l1': 0.0001521663693009918, 'lambda_l2': 0.021103863773968827}. Best is trial 43 with value: 0.03924357198455993.\u001b[0m\n",
            "regularization_factors, val_score: 0.039244:  20%|##        | 4/20 [00:01<00:06,  2.50it/s]"
          ]
        },
        {
          "output_type": "stream",
          "name": "stdout",
          "text": [
            "[100]\ttrain's binary_logloss: 0.0467162\teval's binary_logloss: 0.0395442\n",
            "Early stopping, best iteration is:\n",
            "[81]\ttrain's binary_logloss: 0.0468049\teval's binary_logloss: 0.0392436\n",
            "Training until validation scores don't improve for 100 rounds\n",
            "[100]\ttrain's binary_logloss: 0.0467102\teval's binary_logloss: 0.0395555\n"
          ]
        },
        {
          "output_type": "stream",
          "name": "stderr",
          "text": [
            "regularization_factors, val_score: 0.039244:  25%|##5       | 5/20 [00:02<00:05,  2.57it/s]\u001b[32m[I 2021-09-05 00:35:32,264]\u001b[0m Trial 44 finished with value: 0.03924361870503745 and parameters: {'lambda_l1': 0.0015140122029033713, 'lambda_l2': 0.0013158002044592306}. Best is trial 43 with value: 0.03924357198455993.\u001b[0m\n",
            "regularization_factors, val_score: 0.039244:  25%|##5       | 5/20 [00:02<00:05,  2.57it/s]"
          ]
        },
        {
          "output_type": "stream",
          "name": "stdout",
          "text": [
            "Early stopping, best iteration is:\n",
            "[81]\ttrain's binary_logloss: 0.0467959\teval's binary_logloss: 0.0392436\n",
            "Training until validation scores don't improve for 100 rounds\n"
          ]
        },
        {
          "output_type": "stream",
          "name": "stderr",
          "text": [
            "regularization_factors, val_score: 0.039244:  30%|###       | 6/20 [00:02<00:05,  2.60it/s]\u001b[32m[I 2021-09-05 00:35:32,641]\u001b[0m Trial 45 finished with value: 0.03924375690335342 and parameters: {'lambda_l1': 2.990933383625529e-07, 'lambda_l2': 0.022040697106653087}. Best is trial 43 with value: 0.03924357198455993.\u001b[0m\n",
            "regularization_factors, val_score: 0.039244:  30%|###       | 6/20 [00:02<00:05,  2.60it/s]"
          ]
        },
        {
          "output_type": "stream",
          "name": "stdout",
          "text": [
            "[100]\ttrain's binary_logloss: 0.0467155\teval's binary_logloss: 0.0395475\n",
            "Early stopping, best iteration is:\n",
            "[81]\ttrain's binary_logloss: 0.0468051\teval's binary_logloss: 0.0392438\n",
            "Training until validation scores don't improve for 100 rounds\n",
            "[100]\ttrain's binary_logloss: 0.0466965\teval's binary_logloss: 0.0395534\n"
          ]
        },
        {
          "output_type": "stream",
          "name": "stderr",
          "text": [
            "regularization_factors, val_score: 0.039244:  35%|###5      | 7/20 [00:02<00:04,  2.60it/s]\u001b[32m[I 2021-09-05 00:35:33,024]\u001b[0m Trial 46 finished with value: 0.03926637935324604 and parameters: {'lambda_l1': 3.865270460037381e-05, 'lambda_l2': 2.6263853765205183e-08}. Best is trial 43 with value: 0.03924357198455993.\u001b[0m\n",
            "regularization_factors, val_score: 0.039244:  35%|###5      | 7/20 [00:02<00:04,  2.60it/s]"
          ]
        },
        {
          "output_type": "stream",
          "name": "stdout",
          "text": [
            "Early stopping, best iteration is:\n",
            "[81]\ttrain's binary_logloss: 0.046774\teval's binary_logloss: 0.0392664\n",
            "Training until validation scores don't improve for 100 rounds\n"
          ]
        },
        {
          "output_type": "stream",
          "name": "stderr",
          "text": [
            "regularization_factors, val_score: 0.039244:  40%|####      | 8/20 [00:03<00:04,  2.59it/s]\u001b[32m[I 2021-09-05 00:35:33,414]\u001b[0m Trial 47 finished with value: 0.03926704282090101 and parameters: {'lambda_l1': 0.008079434641040788, 'lambda_l2': 0.001110603289034173}. Best is trial 43 with value: 0.03924357198455993.\u001b[0m\n",
            "regularization_factors, val_score: 0.039244:  40%|####      | 8/20 [00:03<00:04,  2.59it/s]"
          ]
        },
        {
          "output_type": "stream",
          "name": "stdout",
          "text": [
            "[100]\ttrain's binary_logloss: 0.0467187\teval's binary_logloss: 0.0395403\n",
            "Early stopping, best iteration is:\n",
            "[81]\ttrain's binary_logloss: 0.0468141\teval's binary_logloss: 0.039267\n",
            "Training until validation scores don't improve for 100 rounds\n",
            "[100]\ttrain's binary_logloss: 0.0466952\teval's binary_logloss: 0.039558\n"
          ]
        },
        {
          "output_type": "stream",
          "name": "stderr",
          "text": [
            "regularization_factors, val_score: 0.039244:  45%|####5     | 9/20 [00:03<00:04,  2.56it/s]\u001b[32m[I 2021-09-05 00:35:33,816]\u001b[0m Trial 48 finished with value: 0.0392654420147484 and parameters: {'lambda_l1': 4.930955696273008e-06, 'lambda_l2': 0.0001059829984326744}. Best is trial 43 with value: 0.03924357198455993.\u001b[0m\n",
            "regularization_factors, val_score: 0.039244:  45%|####5     | 9/20 [00:03<00:04,  2.56it/s]"
          ]
        },
        {
          "output_type": "stream",
          "name": "stdout",
          "text": [
            "Early stopping, best iteration is:\n",
            "[81]\ttrain's binary_logloss: 0.0467737\teval's binary_logloss: 0.0392654\n",
            "Training until validation scores don't improve for 100 rounds\n"
          ]
        },
        {
          "output_type": "stream",
          "name": "stderr",
          "text": [
            "regularization_factors, val_score: 0.039244:  50%|#####     | 10/20 [00:04<00:03,  2.57it/s]\u001b[32m[I 2021-09-05 00:35:34,200]\u001b[0m Trial 49 finished with value: 0.039251689485130414 and parameters: {'lambda_l1': 1.062738784081916e-05, 'lambda_l2': 2.3625276938319921e-07}. Best is trial 43 with value: 0.03924357198455993.\u001b[0m\n",
            "regularization_factors, val_score: 0.039244:  50%|#####     | 10/20 [00:04<00:03,  2.57it/s]"
          ]
        },
        {
          "output_type": "stream",
          "name": "stdout",
          "text": [
            "[100]\ttrain's binary_logloss: 0.0466964\teval's binary_logloss: 0.0395639\n",
            "Early stopping, best iteration is:\n",
            "[81]\ttrain's binary_logloss: 0.0467812\teval's binary_logloss: 0.0392517\n",
            "Training until validation scores don't improve for 100 rounds\n",
            "[100]\ttrain's binary_logloss: 0.0468284\teval's binary_logloss: 0.039564\n"
          ]
        },
        {
          "output_type": "stream",
          "name": "stderr",
          "text": [
            "regularization_factors, val_score: 0.039244:  55%|#####5    | 11/20 [00:04<00:03,  2.62it/s]\u001b[32m[I 2021-09-05 00:35:34,563]\u001b[0m Trial 50 finished with value: 0.039404579988807954 and parameters: {'lambda_l1': 1.1950056143377107e-08, 'lambda_l2': 0.686840976831776}. Best is trial 43 with value: 0.03924357198455993.\u001b[0m\n",
            "regularization_factors, val_score: 0.039244:  55%|#####5    | 11/20 [00:04<00:03,  2.62it/s]"
          ]
        },
        {
          "output_type": "stream",
          "name": "stdout",
          "text": [
            "Early stopping, best iteration is:\n",
            "[81]\ttrain's binary_logloss: 0.0469439\teval's binary_logloss: 0.0394046\n",
            "Training until validation scores don't improve for 100 rounds\n"
          ]
        },
        {
          "output_type": "stream",
          "name": "stderr",
          "text": [
            "regularization_factors, val_score: 0.039244:  60%|######    | 12/20 [00:04<00:03,  2.64it/s]\u001b[32m[I 2021-09-05 00:35:34,938]\u001b[0m Trial 51 finished with value: 0.03925495318626549 and parameters: {'lambda_l1': 0.002308205852360764, 'lambda_l2': 0.03427396082819502}. Best is trial 43 with value: 0.03924357198455993.\u001b[0m\n",
            "regularization_factors, val_score: 0.039244:  60%|######    | 12/20 [00:04<00:03,  2.64it/s]"
          ]
        },
        {
          "output_type": "stream",
          "name": "stdout",
          "text": [
            "[100]\ttrain's binary_logloss: 0.0467251\teval's binary_logloss: 0.0395626\n",
            "Early stopping, best iteration is:\n",
            "[81]\ttrain's binary_logloss: 0.0468203\teval's binary_logloss: 0.039255\n",
            "Training until validation scores don't improve for 100 rounds\n",
            "[100]\ttrain's binary_logloss: 0.0470087\teval's binary_logloss: 0.0396884\n"
          ]
        },
        {
          "output_type": "stream",
          "name": "stderr",
          "text": [
            "regularization_factors, val_score: 0.039244:  65%|######5   | 13/20 [00:05<00:02,  2.57it/s]\u001b[32m[I 2021-09-05 00:35:35,350]\u001b[0m Trial 52 finished with value: 0.039589614915896 and parameters: {'lambda_l1': 0.35724649837941497, 'lambda_l2': 0.03493744847101297}. Best is trial 43 with value: 0.03924357198455993.\u001b[0m\n",
            "regularization_factors, val_score: 0.039244:  65%|######5   | 13/20 [00:05<00:02,  2.57it/s]"
          ]
        },
        {
          "output_type": "stream",
          "name": "stdout",
          "text": [
            "[200]\ttrain's binary_logloss: 0.0468387\teval's binary_logloss: 0.0397925\n",
            "Early stopping, best iteration is:\n",
            "[150]\ttrain's binary_logloss: 0.0468986\teval's binary_logloss: 0.0395896\n",
            "Training until validation scores don't improve for 100 rounds\n"
          ]
        },
        {
          "output_type": "stream",
          "name": "stderr",
          "text": [
            "regularization_factors, val_score: 0.039244:  70%|#######   | 14/20 [00:05<00:02,  2.56it/s]\u001b[32m[I 2021-09-05 00:35:35,749]\u001b[0m Trial 53 finished with value: 0.039247697297800116 and parameters: {'lambda_l1': 0.000591999886196781, 'lambda_l2': 7.983224651304652e-06}. Best is trial 43 with value: 0.03924357198455993.\u001b[0m\n",
            "regularization_factors, val_score: 0.039244:  70%|#######   | 14/20 [00:05<00:02,  2.56it/s]"
          ]
        },
        {
          "output_type": "stream",
          "name": "stdout",
          "text": [
            "[100]\ttrain's binary_logloss: 0.0467036\teval's binary_logloss: 0.0395319\n",
            "Early stopping, best iteration is:\n",
            "[81]\ttrain's binary_logloss: 0.0467958\teval's binary_logloss: 0.0392477\n",
            "Training until validation scores don't improve for 100 rounds\n",
            "[100]\ttrain's binary_logloss: 0.0467705\teval's binary_logloss: 0.0394477\n"
          ]
        },
        {
          "output_type": "stream",
          "name": "stderr",
          "text": [
            "regularization_factors, val_score: 0.039244:  75%|#######5  | 15/20 [00:05<00:01,  2.60it/s]\u001b[32m[I 2021-09-05 00:35:36,114]\u001b[0m Trial 54 finished with value: 0.039298342962908656 and parameters: {'lambda_l1': 0.061690165831785757, 'lambda_l2': 0.002908053014115497}. Best is trial 43 with value: 0.03924357198455993.\u001b[0m\n",
            "regularization_factors, val_score: 0.039244:  75%|#######5  | 15/20 [00:05<00:01,  2.60it/s]"
          ]
        },
        {
          "output_type": "stream",
          "name": "stdout",
          "text": [
            "Early stopping, best iteration is:\n",
            "[81]\ttrain's binary_logloss: 0.0468251\teval's binary_logloss: 0.0392983\n",
            "Training until validation scores don't improve for 100 rounds\n"
          ]
        },
        {
          "output_type": "stream",
          "name": "stderr",
          "text": [
            "regularization_factors, val_score: 0.039244:  80%|########  | 16/20 [00:06<00:01,  2.64it/s]\u001b[32m[I 2021-09-05 00:35:36,481]\u001b[0m Trial 55 finished with value: 0.03935487513390397 and parameters: {'lambda_l1': 0.00016966084292470906, 'lambda_l2': 0.5382607501592873}. Best is trial 43 with value: 0.03924357198455993.\u001b[0m\n",
            "regularization_factors, val_score: 0.039244:  80%|########  | 16/20 [00:06<00:01,  2.64it/s]"
          ]
        },
        {
          "output_type": "stream",
          "name": "stdout",
          "text": [
            "[100]\ttrain's binary_logloss: 0.0468045\teval's binary_logloss: 0.0395019\n",
            "Early stopping, best iteration is:\n",
            "[81]\ttrain's binary_logloss: 0.0468922\teval's binary_logloss: 0.0393549\n",
            "Training until validation scores don't improve for 100 rounds\n",
            "[100]\ttrain's binary_logloss: 0.046755\teval's binary_logloss: 0.0394341\n"
          ]
        },
        {
          "output_type": "stream",
          "name": "stderr",
          "text": [
            "regularization_factors, val_score: 0.039244:  85%|########5 | 17/20 [00:06<00:01,  2.64it/s]\u001b[32m[I 2021-09-05 00:35:36,860]\u001b[0m Trial 56 finished with value: 0.0392620150965392 and parameters: {'lambda_l1': 0.02964913729861711, 'lambda_l2': 4.8566342945059416e-06}. Best is trial 43 with value: 0.03924357198455993.\u001b[0m\n",
            "regularization_factors, val_score: 0.039244:  85%|########5 | 17/20 [00:06<00:01,  2.64it/s]"
          ]
        },
        {
          "output_type": "stream",
          "name": "stdout",
          "text": [
            "Early stopping, best iteration is:\n",
            "[81]\ttrain's binary_logloss: 0.0468134\teval's binary_logloss: 0.039262\n",
            "Training until validation scores don't improve for 100 rounds\n"
          ]
        },
        {
          "output_type": "stream",
          "name": "stderr",
          "text": [
            "regularization_factors, val_score: 0.039244:  90%|######### | 18/20 [00:07<00:00,  2.59it/s]\u001b[32m[I 2021-09-05 00:35:37,262]\u001b[0m Trial 57 finished with value: 0.039302780738721683 and parameters: {'lambda_l1': 3.535042662749097e-07, 'lambda_l2': 0.006412857359278904}. Best is trial 43 with value: 0.03924357198455993.\u001b[0m\n",
            "regularization_factors, val_score: 0.039244:  90%|######### | 18/20 [00:07<00:00,  2.59it/s]"
          ]
        },
        {
          "output_type": "stream",
          "name": "stdout",
          "text": [
            "[100]\ttrain's binary_logloss: 0.0466946\teval's binary_logloss: 0.0395223\n",
            "Early stopping, best iteration is:\n",
            "[81]\ttrain's binary_logloss: 0.0467704\teval's binary_logloss: 0.0393028\n",
            "Training until validation scores don't improve for 100 rounds\n",
            "[100]\ttrain's binary_logloss: 0.0467788\teval's binary_logloss: 0.0394828\n"
          ]
        },
        {
          "output_type": "stream",
          "name": "stderr",
          "text": [
            "regularization_factors, val_score: 0.039244:  95%|#########5| 19/20 [00:07<00:00,  2.61it/s]\u001b[32m[I 2021-09-05 00:35:37,639]\u001b[0m Trial 58 finished with value: 0.03929342363759458 and parameters: {'lambda_l1': 0.00015396299677399134, 'lambda_l2': 0.30439398013904473}. Best is trial 43 with value: 0.03924357198455993.\u001b[0m\n",
            "regularization_factors, val_score: 0.039244:  95%|#########5| 19/20 [00:07<00:00,  2.61it/s]"
          ]
        },
        {
          "output_type": "stream",
          "name": "stdout",
          "text": [
            "Early stopping, best iteration is:\n",
            "[81]\ttrain's binary_logloss: 0.0468758\teval's binary_logloss: 0.0392934\n",
            "Training until validation scores don't improve for 100 rounds\n"
          ]
        },
        {
          "output_type": "stream",
          "name": "stderr",
          "text": [
            "regularization_factors, val_score: 0.039244: 100%|##########| 20/20 [00:07<00:00,  2.53it/s]\u001b[32m[I 2021-09-05 00:35:38,064]\u001b[0m Trial 59 finished with value: 0.039504831196115496 and parameters: {'lambda_l1': 0.3747953857086184, 'lambda_l2': 0.00012976040212638956}. Best is trial 43 with value: 0.03924357198455993.\u001b[0m\n"
          ]
        },
        {
          "output_type": "stream",
          "name": "stdout",
          "text": [
            "[100]\ttrain's binary_logloss: 0.0469889\teval's binary_logloss: 0.0396583\n",
            "[200]\ttrain's binary_logloss: 0.0468305\teval's binary_logloss: 0.0397273\n",
            "Early stopping, best iteration is:\n",
            "[150]\ttrain's binary_logloss: 0.0468901\teval's binary_logloss: 0.0395048\n"
          ]
        },
        {
          "output_type": "stream",
          "name": "stderr",
          "text": [
            "regularization_factors, val_score: 0.039244: 100%|##########| 20/20 [00:07<00:00,  2.53it/s]\n",
            "min_data_in_leaf, val_score: 0.039244:   0%|          | 0/5 [00:00<?, ?it/s]"
          ]
        },
        {
          "output_type": "stream",
          "name": "stdout",
          "text": [
            "Training until validation scores don't improve for 100 rounds\n",
            "[100]\ttrain's binary_logloss: 0.0467176\teval's binary_logloss: 0.0395266\n"
          ]
        },
        {
          "output_type": "stream",
          "name": "stderr",
          "text": [
            "min_data_in_leaf, val_score: 0.039244:  20%|##        | 1/5 [00:00<00:01,  2.59it/s]\u001b[32m[I 2021-09-05 00:35:38,460]\u001b[0m Trial 60 finished with value: 0.03927750636063796 and parameters: {'min_child_samples': 25}. Best is trial 60 with value: 0.03927750636063796.\u001b[0m\n",
            "min_data_in_leaf, val_score: 0.039244:  20%|##        | 1/5 [00:00<00:01,  2.59it/s]"
          ]
        },
        {
          "output_type": "stream",
          "name": "stdout",
          "text": [
            "Early stopping, best iteration is:\n",
            "[81]\ttrain's binary_logloss: 0.046812\teval's binary_logloss: 0.0392775\n",
            "Training until validation scores don't improve for 100 rounds\n"
          ]
        },
        {
          "output_type": "stream",
          "name": "stderr",
          "text": [
            "min_data_in_leaf, val_score: 0.039244:  40%|####      | 2/5 [00:00<00:01,  2.48it/s]\u001b[32m[I 2021-09-05 00:35:38,876]\u001b[0m Trial 61 finished with value: 0.03933973368570671 and parameters: {'min_child_samples': 100}. Best is trial 60 with value: 0.03927750636063796.\u001b[0m\n",
            "min_data_in_leaf, val_score: 0.039244:  40%|####      | 2/5 [00:00<00:01,  2.48it/s]"
          ]
        },
        {
          "output_type": "stream",
          "name": "stdout",
          "text": [
            "[100]\ttrain's binary_logloss: 0.0468745\teval's binary_logloss: 0.0394565\n",
            "[200]\ttrain's binary_logloss: 0.0467443\teval's binary_logloss: 0.0396494\n",
            "Early stopping, best iteration is:\n",
            "[123]\ttrain's binary_logloss: 0.0468267\teval's binary_logloss: 0.0393397\n",
            "Training until validation scores don't improve for 100 rounds\n",
            "[100]\ttrain's binary_logloss: 0.0466555\teval's binary_logloss: 0.0396261\n"
          ]
        },
        {
          "output_type": "stream",
          "name": "stderr",
          "text": [
            "min_data_in_leaf, val_score: 0.039244:  60%|######    | 3/5 [00:01<00:00,  2.50it/s]\u001b[32m[I 2021-09-05 00:35:39,273]\u001b[0m Trial 62 finished with value: 0.03941470702077947 and parameters: {'min_child_samples': 5}. Best is trial 60 with value: 0.03927750636063796.\u001b[0m\n",
            "min_data_in_leaf, val_score: 0.039244:  60%|######    | 3/5 [00:01<00:00,  2.50it/s]"
          ]
        },
        {
          "output_type": "stream",
          "name": "stdout",
          "text": [
            "Early stopping, best iteration is:\n",
            "[81]\ttrain's binary_logloss: 0.0466804\teval's binary_logloss: 0.0394147\n",
            "Training until validation scores don't improve for 100 rounds\n"
          ]
        },
        {
          "output_type": "stream",
          "name": "stderr",
          "text": [
            "min_data_in_leaf, val_score: 0.039244:  80%|########  | 4/5 [00:01<00:00,  2.55it/s]\u001b[32m[I 2021-09-05 00:35:39,654]\u001b[0m Trial 63 finished with value: 0.03939968973929174 and parameters: {'min_child_samples': 10}. Best is trial 60 with value: 0.03927750636063796.\u001b[0m\n",
            "min_data_in_leaf, val_score: 0.039244:  80%|########  | 4/5 [00:01<00:00,  2.55it/s]"
          ]
        },
        {
          "output_type": "stream",
          "name": "stdout",
          "text": [
            "[100]\ttrain's binary_logloss: 0.0466661\teval's binary_logloss: 0.039552\n",
            "Early stopping, best iteration is:\n",
            "[81]\ttrain's binary_logloss: 0.0466945\teval's binary_logloss: 0.0393997\n",
            "Training until validation scores don't improve for 100 rounds\n",
            "[100]\ttrain's binary_logloss: 0.0468538\teval's binary_logloss: 0.039358\n"
          ]
        },
        {
          "output_type": "stream",
          "name": "stderr",
          "text": [
            "min_data_in_leaf, val_score: 0.039244: 100%|##########| 5/5 [00:01<00:00,  2.49it/s]\u001b[32m[I 2021-09-05 00:35:40,071]\u001b[0m Trial 64 finished with value: 0.03928890404495262 and parameters: {'min_child_samples': 50}. Best is trial 60 with value: 0.03927750636063796.\u001b[0m\n",
            "min_data_in_leaf, val_score: 0.039244: 100%|##########| 5/5 [00:02<00:00,  2.50it/s]\n",
            "Best Params 2 - {'objective': 'binary', 'metric': 'binary_logloss', 'num_class': 1, 'device_type': 'gpu', 'seed': 442, 'verbosity': -1, 'feature_pre_filter': False, 'lambda_l1': 0.0001521663693009918, 'lambda_l2': 0.021103863773968827, 'num_leaves': 31, 'feature_fraction': 1.0, 'bagging_fraction': 0.777983768110593, 'bagging_freq': 3, 'min_child_samples': 20, 'num_iterations': 10000, 'early_stopping_round': 100}\n",
            "Result 2 - Score: 0.9785427965102571, time: 26s\n",
            "Result 2 - Save Best Model\n",
            "========== fold: 2 result ==========\n",
            "Score: 0.97854\n",
            "========== fold: 3 training ==========\n",
            "\u001b[32m[I 2021-09-05 00:35:40,128]\u001b[0m A new study created in memory with name: no-name-f10d1cf1-d01f-475f-869a-1849c78f9998\u001b[0m\n"
          ]
        },
        {
          "output_type": "stream",
          "name": "stdout",
          "text": [
            "[200]\ttrain's binary_logloss: 0.0466921\teval's binary_logloss: 0.039664\n",
            "Early stopping, best iteration is:\n",
            "[111]\ttrain's binary_logloss: 0.0468147\teval's binary_logloss: 0.0392889\n"
          ]
        },
        {
          "output_type": "stream",
          "name": "stderr",
          "text": [
            "feature_fraction, val_score: inf:   0%|          | 0/7 [00:00<?, ?it/s]"
          ]
        },
        {
          "output_type": "stream",
          "name": "stdout",
          "text": [
            "Training until validation scores don't improve for 100 rounds\n",
            "[100]\ttrain's binary_logloss: 0.0452695\teval's binary_logloss: 0.0460904\n",
            "Early stopping, best iteration is:\n",
            "[50]\ttrain's binary_logloss: 0.0455022\teval's binary_logloss: 0.0456468\n"
          ]
        },
        {
          "output_type": "stream",
          "name": "stderr",
          "text": [
            "feature_fraction, val_score: 0.045647:  14%|#4        | 1/7 [00:00<00:01,  3.24it/s]\u001b[32m[I 2021-09-05 00:35:40,443]\u001b[0m Trial 0 finished with value: 0.04564675807764503 and parameters: {'feature_fraction': 1.0}. Best is trial 0 with value: 0.04564675807764503.\u001b[0m\n",
            "feature_fraction, val_score: 0.045647:  14%|#4        | 1/7 [00:00<00:01,  3.24it/s]"
          ]
        },
        {
          "output_type": "stream",
          "name": "stdout",
          "text": [
            "Training until validation scores don't improve for 100 rounds\n",
            "[100]\ttrain's binary_logloss: 0.0456971\teval's binary_logloss: 0.0449899\n",
            "[200]\ttrain's binary_logloss: 0.0455209\teval's binary_logloss: 0.0447555\n"
          ]
        },
        {
          "output_type": "stream",
          "name": "stderr",
          "text": [
            "feature_fraction, val_score: 0.044734:  29%|##8       | 2/7 [00:00<00:01,  2.54it/s]\u001b[32m[I 2021-09-05 00:35:40,896]\u001b[0m Trial 1 finished with value: 0.04473395841036769 and parameters: {'feature_fraction': 0.5}. Best is trial 1 with value: 0.04473395841036769.\u001b[0m\n",
            "feature_fraction, val_score: 0.044734:  29%|##8       | 2/7 [00:00<00:01,  2.54it/s]"
          ]
        },
        {
          "output_type": "stream",
          "name": "stdout",
          "text": [
            "[300]\ttrain's binary_logloss: 0.0454541\teval's binary_logloss: 0.0447433\n",
            "Early stopping, best iteration is:\n",
            "[223]\ttrain's binary_logloss: 0.0455047\teval's binary_logloss: 0.044734\n",
            "Training until validation scores don't improve for 100 rounds\n",
            "[100]\ttrain's binary_logloss: 0.0463981\teval's binary_logloss: 0.046273\n",
            "[200]\ttrain's binary_logloss: 0.0462414\teval's binary_logloss: 0.0458959\n",
            "[300]\ttrain's binary_logloss: 0.0461889\teval's binary_logloss: 0.0457715\n",
            "[400]\ttrain's binary_logloss: 0.0461617\teval's binary_logloss: 0.0457156\n",
            "[500]\ttrain's binary_logloss: 0.0461466\teval's binary_logloss: 0.0456871\n",
            "[600]\ttrain's binary_logloss: 0.0461384\teval's binary_logloss: 0.0456732\n",
            "[700]\ttrain's binary_logloss: 0.0461335\teval's binary_logloss: 0.0456735\n",
            "[800]\ttrain's binary_logloss: 0.0461302\teval's binary_logloss: 0.0456687\n",
            "[900]\ttrain's binary_logloss: 0.0461287\teval's binary_logloss: 0.0456606\n"
          ]
        },
        {
          "output_type": "stream",
          "name": "stderr",
          "text": [
            "feature_fraction, val_score: 0.044734:  43%|####2     | 3/7 [00:01<00:02,  1.37it/s]\u001b[32m[I 2021-09-05 00:35:42,030]\u001b[0m Trial 2 finished with value: 0.04565890064623333 and parameters: {'feature_fraction': 0.4}. Best is trial 1 with value: 0.04473395841036769.\u001b[0m\n",
            "feature_fraction, val_score: 0.044734:  43%|####2     | 3/7 [00:01<00:02,  1.37it/s]"
          ]
        },
        {
          "output_type": "stream",
          "name": "stdout",
          "text": [
            "[1000]\ttrain's binary_logloss: 0.0461277\teval's binary_logloss: 0.0456607\n",
            "Early stopping, best iteration is:\n",
            "[984]\ttrain's binary_logloss: 0.0461279\teval's binary_logloss: 0.0456589\n"
          ]
        },
        {
          "output_type": "stream",
          "name": "stderr",
          "text": [
            "feature_fraction, val_score: 0.044734:  57%|#####7    | 4/7 [00:02<00:01,  1.79it/s]"
          ]
        },
        {
          "output_type": "stream",
          "name": "stdout",
          "text": [
            "Training until validation scores don't improve for 100 rounds\n",
            "[100]\ttrain's binary_logloss: 0.0453204\teval's binary_logloss: 0.0455926\n",
            "Early stopping, best iteration is:\n",
            "[61]\ttrain's binary_logloss: 0.0454683\teval's binary_logloss: 0.045427\n"
          ]
        },
        {
          "output_type": "stream",
          "name": "stderr",
          "text": [
            "\u001b[32m[I 2021-09-05 00:35:42,325]\u001b[0m Trial 3 finished with value: 0.04542697949228933 and parameters: {'feature_fraction': 0.8}. Best is trial 1 with value: 0.04473395841036769.\u001b[0m\n",
            "feature_fraction, val_score: 0.044734:  57%|#####7    | 4/7 [00:02<00:01,  1.79it/s]"
          ]
        },
        {
          "output_type": "stream",
          "name": "stdout",
          "text": [
            "Training until validation scores don't improve for 100 rounds\n",
            "[100]\ttrain's binary_logloss: 0.0453204\teval's binary_logloss: 0.0455926\n",
            "Early stopping, best iteration is:\n",
            "[61]\ttrain's binary_logloss: 0.0454683\teval's binary_logloss: 0.045427\n"
          ]
        },
        {
          "output_type": "stream",
          "name": "stderr",
          "text": [
            "feature_fraction, val_score: 0.044734:  71%|#######1  | 5/7 [00:02<00:00,  2.10it/s]\u001b[32m[I 2021-09-05 00:35:42,653]\u001b[0m Trial 4 finished with value: 0.04542697949228932 and parameters: {'feature_fraction': 0.7}. Best is trial 1 with value: 0.04473395841036769.\u001b[0m\n",
            "feature_fraction, val_score: 0.044734:  71%|#######1  | 5/7 [00:02<00:00,  2.10it/s]"
          ]
        },
        {
          "output_type": "stream",
          "name": "stdout",
          "text": [
            "Training until validation scores don't improve for 100 rounds\n",
            "[100]\ttrain's binary_logloss: 0.0452695\teval's binary_logloss: 0.0460904\n",
            "Early stopping, best iteration is:\n",
            "[50]\ttrain's binary_logloss: 0.0455022\teval's binary_logloss: 0.0456468\n"
          ]
        },
        {
          "output_type": "stream",
          "name": "stderr",
          "text": [
            "feature_fraction, val_score: 0.044734:  86%|########5 | 6/7 [00:02<00:00,  2.38it/s]\u001b[32m[I 2021-09-05 00:35:42,963]\u001b[0m Trial 5 finished with value: 0.045646758077645025 and parameters: {'feature_fraction': 0.8999999999999999}. Best is trial 1 with value: 0.04473395841036769.\u001b[0m\n",
            "feature_fraction, val_score: 0.044734:  86%|########5 | 6/7 [00:02<00:00,  2.38it/s]"
          ]
        },
        {
          "output_type": "stream",
          "name": "stdout",
          "text": [
            "Training until validation scores don't improve for 100 rounds\n",
            "[100]\ttrain's binary_logloss: 0.0456971\teval's binary_logloss: 0.0449899\n"
          ]
        },
        {
          "output_type": "stream",
          "name": "stderr",
          "text": [
            "feature_fraction, val_score: 0.044734: 100%|##########| 7/7 [00:03<00:00,  2.31it/s]\u001b[32m[I 2021-09-05 00:35:43,423]\u001b[0m Trial 6 finished with value: 0.04473395841036769 and parameters: {'feature_fraction': 0.6}. Best is trial 1 with value: 0.04473395841036769.\u001b[0m\n",
            "feature_fraction, val_score: 0.044734: 100%|##########| 7/7 [00:03<00:00,  2.13it/s]\n"
          ]
        },
        {
          "output_type": "stream",
          "name": "stdout",
          "text": [
            "[200]\ttrain's binary_logloss: 0.0455209\teval's binary_logloss: 0.0447555\n",
            "[300]\ttrain's binary_logloss: 0.0454541\teval's binary_logloss: 0.0447433\n",
            "Early stopping, best iteration is:\n",
            "[223]\ttrain's binary_logloss: 0.0455047\teval's binary_logloss: 0.044734\n"
          ]
        },
        {
          "output_type": "stream",
          "name": "stderr",
          "text": [
            "num_leaves, val_score: 0.044734:   0%|          | 0/20 [00:00<?, ?it/s]"
          ]
        },
        {
          "output_type": "stream",
          "name": "stdout",
          "text": [
            "Training until validation scores don't improve for 100 rounds\n",
            "[100]\ttrain's binary_logloss: 0.0456971\teval's binary_logloss: 0.0449899\n"
          ]
        },
        {
          "output_type": "stream",
          "name": "stderr",
          "text": [
            "num_leaves, val_score: 0.044734:   5%|5         | 1/20 [00:00<00:09,  2.05it/s]\u001b[32m[I 2021-09-05 00:35:43,920]\u001b[0m Trial 7 finished with value: 0.04473395841036769 and parameters: {'num_leaves': 245}. Best is trial 7 with value: 0.04473395841036769.\u001b[0m\n",
            "num_leaves, val_score: 0.044734:   5%|5         | 1/20 [00:00<00:09,  2.05it/s]"
          ]
        },
        {
          "output_type": "stream",
          "name": "stdout",
          "text": [
            "[200]\ttrain's binary_logloss: 0.0455209\teval's binary_logloss: 0.0447555\n",
            "[300]\ttrain's binary_logloss: 0.0454541\teval's binary_logloss: 0.0447433\n",
            "Early stopping, best iteration is:\n",
            "[223]\ttrain's binary_logloss: 0.0455047\teval's binary_logloss: 0.044734\n",
            "Training until validation scores don't improve for 100 rounds\n",
            "[100]\ttrain's binary_logloss: 0.0456971\teval's binary_logloss: 0.0449899\n"
          ]
        },
        {
          "output_type": "stream",
          "name": "stderr",
          "text": [
            "num_leaves, val_score: 0.044734:  10%|#         | 2/20 [00:00<00:08,  2.09it/s]\u001b[32m[I 2021-09-05 00:35:44,395]\u001b[0m Trial 8 finished with value: 0.04473395841036769 and parameters: {'num_leaves': 67}. Best is trial 7 with value: 0.04473395841036769.\u001b[0m\n",
            "num_leaves, val_score: 0.044734:  10%|#         | 2/20 [00:00<00:08,  2.09it/s]"
          ]
        },
        {
          "output_type": "stream",
          "name": "stdout",
          "text": [
            "[200]\ttrain's binary_logloss: 0.0455209\teval's binary_logloss: 0.0447555\n",
            "[300]\ttrain's binary_logloss: 0.0454541\teval's binary_logloss: 0.0447433\n",
            "Early stopping, best iteration is:\n",
            "[223]\ttrain's binary_logloss: 0.0455047\teval's binary_logloss: 0.044734\n",
            "Training until validation scores don't improve for 100 rounds\n",
            "[100]\ttrain's binary_logloss: 0.0456971\teval's binary_logloss: 0.0449899\n"
          ]
        },
        {
          "output_type": "stream",
          "name": "stderr",
          "text": [
            "num_leaves, val_score: 0.044734:  15%|#5        | 3/20 [00:01<00:08,  2.08it/s]\u001b[32m[I 2021-09-05 00:35:44,874]\u001b[0m Trial 9 finished with value: 0.04473395841036769 and parameters: {'num_leaves': 212}. Best is trial 7 with value: 0.04473395841036769.\u001b[0m\n",
            "num_leaves, val_score: 0.044734:  15%|#5        | 3/20 [00:01<00:08,  2.08it/s]"
          ]
        },
        {
          "output_type": "stream",
          "name": "stdout",
          "text": [
            "[200]\ttrain's binary_logloss: 0.0455209\teval's binary_logloss: 0.0447555\n",
            "[300]\ttrain's binary_logloss: 0.0454541\teval's binary_logloss: 0.0447433\n",
            "Early stopping, best iteration is:\n",
            "[223]\ttrain's binary_logloss: 0.0455047\teval's binary_logloss: 0.044734\n",
            "Training until validation scores don't improve for 100 rounds\n",
            "[100]\ttrain's binary_logloss: 0.0456971\teval's binary_logloss: 0.0449899\n"
          ]
        },
        {
          "output_type": "stream",
          "name": "stderr",
          "text": [
            "num_leaves, val_score: 0.044734:  20%|##        | 4/20 [00:01<00:07,  2.10it/s]\u001b[32m[I 2021-09-05 00:35:45,346]\u001b[0m Trial 10 finished with value: 0.04473395841036769 and parameters: {'num_leaves': 207}. Best is trial 7 with value: 0.04473395841036769.\u001b[0m\n",
            "num_leaves, val_score: 0.044734:  20%|##        | 4/20 [00:01<00:07,  2.10it/s]"
          ]
        },
        {
          "output_type": "stream",
          "name": "stdout",
          "text": [
            "[200]\ttrain's binary_logloss: 0.0455209\teval's binary_logloss: 0.0447555\n",
            "[300]\ttrain's binary_logloss: 0.0454541\teval's binary_logloss: 0.0447433\n",
            "Early stopping, best iteration is:\n",
            "[223]\ttrain's binary_logloss: 0.0455047\teval's binary_logloss: 0.044734\n",
            "Training until validation scores don't improve for 100 rounds\n",
            "[100]\ttrain's binary_logloss: 0.0456971\teval's binary_logloss: 0.0449899\n"
          ]
        },
        {
          "output_type": "stream",
          "name": "stderr",
          "text": [
            "num_leaves, val_score: 0.044734:  25%|##5       | 5/20 [00:02<00:07,  2.08it/s]\u001b[32m[I 2021-09-05 00:35:45,833]\u001b[0m Trial 11 finished with value: 0.04473395841036769 and parameters: {'num_leaves': 131}. Best is trial 7 with value: 0.04473395841036769.\u001b[0m\n",
            "num_leaves, val_score: 0.044734:  25%|##5       | 5/20 [00:02<00:07,  2.08it/s]"
          ]
        },
        {
          "output_type": "stream",
          "name": "stdout",
          "text": [
            "[200]\ttrain's binary_logloss: 0.0455209\teval's binary_logloss: 0.0447555\n",
            "[300]\ttrain's binary_logloss: 0.0454541\teval's binary_logloss: 0.0447433\n",
            "Early stopping, best iteration is:\n",
            "[223]\ttrain's binary_logloss: 0.0455047\teval's binary_logloss: 0.044734\n",
            "Training until validation scores don't improve for 100 rounds\n",
            "[100]\ttrain's binary_logloss: 0.0456971\teval's binary_logloss: 0.0449899\n"
          ]
        },
        {
          "output_type": "stream",
          "name": "stderr",
          "text": [
            "num_leaves, val_score: 0.044734:  30%|###       | 6/20 [00:02<00:06,  2.08it/s]\u001b[32m[I 2021-09-05 00:35:46,315]\u001b[0m Trial 12 finished with value: 0.04473395841036769 and parameters: {'num_leaves': 244}. Best is trial 7 with value: 0.04473395841036769.\u001b[0m\n",
            "num_leaves, val_score: 0.044734:  30%|###       | 6/20 [00:02<00:06,  2.08it/s]"
          ]
        },
        {
          "output_type": "stream",
          "name": "stdout",
          "text": [
            "[200]\ttrain's binary_logloss: 0.0455209\teval's binary_logloss: 0.0447555\n",
            "[300]\ttrain's binary_logloss: 0.0454541\teval's binary_logloss: 0.0447433\n",
            "Early stopping, best iteration is:\n",
            "[223]\ttrain's binary_logloss: 0.0455047\teval's binary_logloss: 0.044734\n",
            "Training until validation scores don't improve for 100 rounds\n",
            "[100]\ttrain's binary_logloss: 0.0456971\teval's binary_logloss: 0.0449899\n",
            "[200]\ttrain's binary_logloss: 0.0455209\teval's binary_logloss: 0.0447555\n"
          ]
        },
        {
          "output_type": "stream",
          "name": "stderr",
          "text": [
            "num_leaves, val_score: 0.044734:  35%|###5      | 7/20 [00:03<00:06,  2.11it/s]\u001b[32m[I 2021-09-05 00:35:46,778]\u001b[0m Trial 13 finished with value: 0.04473395841036769 and parameters: {'num_leaves': 184}. Best is trial 7 with value: 0.04473395841036769.\u001b[0m\n",
            "num_leaves, val_score: 0.044734:  35%|###5      | 7/20 [00:03<00:06,  2.11it/s]"
          ]
        },
        {
          "output_type": "stream",
          "name": "stdout",
          "text": [
            "[300]\ttrain's binary_logloss: 0.0454541\teval's binary_logloss: 0.0447433\n",
            "Early stopping, best iteration is:\n",
            "[223]\ttrain's binary_logloss: 0.0455047\teval's binary_logloss: 0.044734\n",
            "Training until validation scores don't improve for 100 rounds\n",
            "[100]\ttrain's binary_logloss: 0.0456971\teval's binary_logloss: 0.0449899\n",
            "[200]\ttrain's binary_logloss: 0.0455209\teval's binary_logloss: 0.0447555\n",
            "[300]\ttrain's binary_logloss: 0.0454541\teval's binary_logloss: 0.0447433\n"
          ]
        },
        {
          "output_type": "stream",
          "name": "stderr",
          "text": [
            "num_leaves, val_score: 0.044734:  40%|####      | 8/20 [00:03<00:05,  2.14it/s]\u001b[32m[I 2021-09-05 00:35:47,231]\u001b[0m Trial 14 finished with value: 0.04473395841036769 and parameters: {'num_leaves': 29}. Best is trial 7 with value: 0.04473395841036769.\u001b[0m\n",
            "num_leaves, val_score: 0.044734:  40%|####      | 8/20 [00:03<00:05,  2.14it/s]"
          ]
        },
        {
          "output_type": "stream",
          "name": "stdout",
          "text": [
            "Early stopping, best iteration is:\n",
            "[223]\ttrain's binary_logloss: 0.0455047\teval's binary_logloss: 0.044734\n",
            "Training until validation scores don't improve for 100 rounds\n",
            "[100]\ttrain's binary_logloss: 0.0456971\teval's binary_logloss: 0.0449899\n",
            "[200]\ttrain's binary_logloss: 0.0455209\teval's binary_logloss: 0.0447555\n"
          ]
        },
        {
          "output_type": "stream",
          "name": "stderr",
          "text": [
            "num_leaves, val_score: 0.044734:  45%|####5     | 9/20 [00:04<00:05,  2.12it/s]\u001b[32m[I 2021-09-05 00:35:47,711]\u001b[0m Trial 15 finished with value: 0.04473395841036769 and parameters: {'num_leaves': 29}. Best is trial 7 with value: 0.04473395841036769.\u001b[0m\n",
            "num_leaves, val_score: 0.044734:  45%|####5     | 9/20 [00:04<00:05,  2.12it/s]"
          ]
        },
        {
          "output_type": "stream",
          "name": "stdout",
          "text": [
            "[300]\ttrain's binary_logloss: 0.0454541\teval's binary_logloss: 0.0447433\n",
            "Early stopping, best iteration is:\n",
            "[223]\ttrain's binary_logloss: 0.0455047\teval's binary_logloss: 0.044734\n",
            "Training until validation scores don't improve for 100 rounds\n",
            "[100]\ttrain's binary_logloss: 0.0456971\teval's binary_logloss: 0.0449899\n",
            "[200]\ttrain's binary_logloss: 0.0455209\teval's binary_logloss: 0.0447555\n",
            "[300]\ttrain's binary_logloss: 0.0454541\teval's binary_logloss: 0.0447433\n"
          ]
        },
        {
          "output_type": "stream",
          "name": "stderr",
          "text": [
            "num_leaves, val_score: 0.044734:  50%|#####     | 10/20 [00:04<00:04,  2.10it/s]\u001b[32m[I 2021-09-05 00:35:48,197]\u001b[0m Trial 16 finished with value: 0.04473395841036769 and parameters: {'num_leaves': 195}. Best is trial 7 with value: 0.04473395841036769.\u001b[0m\n",
            "num_leaves, val_score: 0.044734:  50%|#####     | 10/20 [00:04<00:04,  2.10it/s]"
          ]
        },
        {
          "output_type": "stream",
          "name": "stdout",
          "text": [
            "Early stopping, best iteration is:\n",
            "[223]\ttrain's binary_logloss: 0.0455047\teval's binary_logloss: 0.044734\n",
            "Training until validation scores don't improve for 100 rounds\n",
            "[100]\ttrain's binary_logloss: 0.0456971\teval's binary_logloss: 0.0449899\n",
            "[200]\ttrain's binary_logloss: 0.0455209\teval's binary_logloss: 0.0447555\n",
            "[300]\ttrain's binary_logloss: 0.0454541\teval's binary_logloss: 0.0447433\n"
          ]
        },
        {
          "output_type": "stream",
          "name": "stderr",
          "text": [
            "num_leaves, val_score: 0.044734:  55%|#####5    | 11/20 [00:05<00:04,  2.11it/s]\u001b[32m[I 2021-09-05 00:35:48,661]\u001b[0m Trial 17 finished with value: 0.04473395841036769 and parameters: {'num_leaves': 140}. Best is trial 7 with value: 0.04473395841036769.\u001b[0m\n",
            "num_leaves, val_score: 0.044734:  55%|#####5    | 11/20 [00:05<00:04,  2.11it/s]"
          ]
        },
        {
          "output_type": "stream",
          "name": "stdout",
          "text": [
            "Early stopping, best iteration is:\n",
            "[223]\ttrain's binary_logloss: 0.0455047\teval's binary_logloss: 0.044734\n",
            "Training until validation scores don't improve for 100 rounds\n",
            "[100]\ttrain's binary_logloss: 0.0456971\teval's binary_logloss: 0.0449899\n",
            "[200]\ttrain's binary_logloss: 0.0455209\teval's binary_logloss: 0.0447555\n",
            "[300]\ttrain's binary_logloss: 0.0454541\teval's binary_logloss: 0.0447433\n"
          ]
        },
        {
          "output_type": "stream",
          "name": "stderr",
          "text": [
            "num_leaves, val_score: 0.044734:  60%|######    | 12/20 [00:05<00:03,  2.12it/s]\u001b[32m[I 2021-09-05 00:35:49,135]\u001b[0m Trial 18 finished with value: 0.04473395841036769 and parameters: {'num_leaves': 78}. Best is trial 7 with value: 0.04473395841036769.\u001b[0m\n",
            "num_leaves, val_score: 0.044734:  60%|######    | 12/20 [00:05<00:03,  2.12it/s]"
          ]
        },
        {
          "output_type": "stream",
          "name": "stdout",
          "text": [
            "Early stopping, best iteration is:\n",
            "[223]\ttrain's binary_logloss: 0.0455047\teval's binary_logloss: 0.044734\n",
            "Training until validation scores don't improve for 100 rounds\n",
            "[100]\ttrain's binary_logloss: 0.0456971\teval's binary_logloss: 0.0449899\n",
            "[200]\ttrain's binary_logloss: 0.0455209\teval's binary_logloss: 0.0447555\n",
            "[300]\ttrain's binary_logloss: 0.0454541\teval's binary_logloss: 0.0447433\n"
          ]
        },
        {
          "output_type": "stream",
          "name": "stderr",
          "text": [
            "num_leaves, val_score: 0.044734:  65%|######5   | 13/20 [00:06<00:03,  2.13it/s]\u001b[32m[I 2021-09-05 00:35:49,599]\u001b[0m Trial 19 finished with value: 0.04473395841036769 and parameters: {'num_leaves': 81}. Best is trial 7 with value: 0.04473395841036769.\u001b[0m\n",
            "num_leaves, val_score: 0.044734:  65%|######5   | 13/20 [00:06<00:03,  2.13it/s]"
          ]
        },
        {
          "output_type": "stream",
          "name": "stdout",
          "text": [
            "Early stopping, best iteration is:\n",
            "[223]\ttrain's binary_logloss: 0.0455047\teval's binary_logloss: 0.044734\n",
            "Training until validation scores don't improve for 100 rounds\n",
            "[100]\ttrain's binary_logloss: 0.0456971\teval's binary_logloss: 0.0449899\n",
            "[200]\ttrain's binary_logloss: 0.0455209\teval's binary_logloss: 0.0447555\n",
            "[300]\ttrain's binary_logloss: 0.0454541\teval's binary_logloss: 0.0447433\n"
          ]
        },
        {
          "output_type": "stream",
          "name": "stderr",
          "text": [
            "num_leaves, val_score: 0.044734:  70%|#######   | 14/20 [00:06<00:02,  2.12it/s]\u001b[32m[I 2021-09-05 00:35:50,073]\u001b[0m Trial 20 finished with value: 0.044733958410367695 and parameters: {'num_leaves': 82}. Best is trial 7 with value: 0.04473395841036769.\u001b[0m\n",
            "num_leaves, val_score: 0.044734:  70%|#######   | 14/20 [00:06<00:02,  2.12it/s]"
          ]
        },
        {
          "output_type": "stream",
          "name": "stdout",
          "text": [
            "Early stopping, best iteration is:\n",
            "[223]\ttrain's binary_logloss: 0.0455047\teval's binary_logloss: 0.044734\n",
            "Training until validation scores don't improve for 100 rounds\n",
            "[100]\ttrain's binary_logloss: 0.0456976\teval's binary_logloss: 0.0449852\n",
            "[200]\ttrain's binary_logloss: 0.0455191\teval's binary_logloss: 0.0447489\n",
            "[300]\ttrain's binary_logloss: 0.0454546\teval's binary_logloss: 0.0447394\n"
          ]
        },
        {
          "output_type": "stream",
          "name": "stderr",
          "text": [
            "num_leaves, val_score: 0.044729:  75%|#######5  | 15/20 [00:07<00:02,  2.10it/s]\u001b[32m[I 2021-09-05 00:35:50,557]\u001b[0m Trial 21 finished with value: 0.04472870740023727 and parameters: {'num_leaves': 7}. Best is trial 21 with value: 0.04472870740023727.\u001b[0m\n",
            "num_leaves, val_score: 0.044729:  75%|#######5  | 15/20 [00:07<00:02,  2.10it/s]"
          ]
        },
        {
          "output_type": "stream",
          "name": "stdout",
          "text": [
            "Early stopping, best iteration is:\n",
            "[240]\ttrain's binary_logloss: 0.0454901\teval's binary_logloss: 0.0447287\n",
            "Training until validation scores don't improve for 100 rounds\n",
            "[100]\ttrain's binary_logloss: 0.0456971\teval's binary_logloss: 0.0449899\n",
            "[200]\ttrain's binary_logloss: 0.0455209\teval's binary_logloss: 0.0447555\n"
          ]
        },
        {
          "output_type": "stream",
          "name": "stderr",
          "text": [
            "num_leaves, val_score: 0.044729:  80%|########  | 16/20 [00:07<00:01,  2.11it/s]\u001b[32m[I 2021-09-05 00:35:51,029]\u001b[0m Trial 22 finished with value: 0.04473395841036769 and parameters: {'num_leaves': 252}. Best is trial 21 with value: 0.04472870740023727.\u001b[0m\n",
            "num_leaves, val_score: 0.044729:  80%|########  | 16/20 [00:07<00:01,  2.11it/s]"
          ]
        },
        {
          "output_type": "stream",
          "name": "stdout",
          "text": [
            "[300]\ttrain's binary_logloss: 0.0454541\teval's binary_logloss: 0.0447433\n",
            "Early stopping, best iteration is:\n",
            "[223]\ttrain's binary_logloss: 0.0455047\teval's binary_logloss: 0.044734\n",
            "Training until validation scores don't improve for 100 rounds\n",
            "[100]\ttrain's binary_logloss: 0.0456971\teval's binary_logloss: 0.0449899\n",
            "[200]\ttrain's binary_logloss: 0.0455209\teval's binary_logloss: 0.0447555\n",
            "[300]\ttrain's binary_logloss: 0.0454541\teval's binary_logloss: 0.0447433\n"
          ]
        },
        {
          "output_type": "stream",
          "name": "stderr",
          "text": [
            "num_leaves, val_score: 0.044729:  85%|########5 | 17/20 [00:08<00:01,  2.10it/s]\u001b[32m[I 2021-09-05 00:35:51,507]\u001b[0m Trial 23 finished with value: 0.04473395841036769 and parameters: {'num_leaves': 152}. Best is trial 21 with value: 0.04472870740023727.\u001b[0m\n",
            "num_leaves, val_score: 0.044729:  85%|########5 | 17/20 [00:08<00:01,  2.10it/s]"
          ]
        },
        {
          "output_type": "stream",
          "name": "stdout",
          "text": [
            "Early stopping, best iteration is:\n",
            "[223]\ttrain's binary_logloss: 0.0455047\teval's binary_logloss: 0.044734\n",
            "Training until validation scores don't improve for 100 rounds\n",
            "[100]\ttrain's binary_logloss: 0.0456971\teval's binary_logloss: 0.0449899\n",
            "[200]\ttrain's binary_logloss: 0.0455209\teval's binary_logloss: 0.0447555\n"
          ]
        },
        {
          "output_type": "stream",
          "name": "stderr",
          "text": [
            "num_leaves, val_score: 0.044729:  90%|######### | 18/20 [00:08<00:00,  2.10it/s]\u001b[32m[I 2021-09-05 00:35:51,986]\u001b[0m Trial 24 finished with value: 0.044733958410367695 and parameters: {'num_leaves': 109}. Best is trial 21 with value: 0.04472870740023727.\u001b[0m\n",
            "num_leaves, val_score: 0.044729:  90%|######### | 18/20 [00:08<00:00,  2.10it/s]"
          ]
        },
        {
          "output_type": "stream",
          "name": "stdout",
          "text": [
            "[300]\ttrain's binary_logloss: 0.0454541\teval's binary_logloss: 0.0447433\n",
            "Early stopping, best iteration is:\n",
            "[223]\ttrain's binary_logloss: 0.0455047\teval's binary_logloss: 0.044734\n",
            "Training until validation scores don't improve for 100 rounds\n",
            "[100]\ttrain's binary_logloss: 0.0456971\teval's binary_logloss: 0.0449899\n",
            "[200]\ttrain's binary_logloss: 0.0455209\teval's binary_logloss: 0.0447555\n",
            "[300]\ttrain's binary_logloss: 0.0454541\teval's binary_logloss: 0.0447433\n"
          ]
        },
        {
          "output_type": "stream",
          "name": "stderr",
          "text": [
            "num_leaves, val_score: 0.044729:  95%|#########5| 19/20 [00:09<00:00,  2.12it/s]\u001b[32m[I 2021-09-05 00:35:52,443]\u001b[0m Trial 25 finished with value: 0.04473395841036769 and parameters: {'num_leaves': 10}. Best is trial 21 with value: 0.04472870740023727.\u001b[0m\n",
            "num_leaves, val_score: 0.044729:  95%|#########5| 19/20 [00:09<00:00,  2.12it/s]"
          ]
        },
        {
          "output_type": "stream",
          "name": "stdout",
          "text": [
            "Early stopping, best iteration is:\n",
            "[223]\ttrain's binary_logloss: 0.0455047\teval's binary_logloss: 0.044734\n",
            "Training until validation scores don't improve for 100 rounds\n",
            "[100]\ttrain's binary_logloss: 0.0456971\teval's binary_logloss: 0.0449899\n",
            "[200]\ttrain's binary_logloss: 0.0455209\teval's binary_logloss: 0.0447555\n",
            "[300]\ttrain's binary_logloss: 0.0454541\teval's binary_logloss: 0.0447433\n"
          ]
        },
        {
          "output_type": "stream",
          "name": "stderr",
          "text": [
            "num_leaves, val_score: 0.044729: 100%|##########| 20/20 [00:09<00:00,  2.13it/s]\u001b[32m[I 2021-09-05 00:35:52,909]\u001b[0m Trial 26 finished with value: 0.04473395841036769 and parameters: {'num_leaves': 167}. Best is trial 21 with value: 0.04472870740023727.\u001b[0m\n",
            "num_leaves, val_score: 0.044729: 100%|##########| 20/20 [00:09<00:00,  2.11it/s]\n"
          ]
        },
        {
          "output_type": "stream",
          "name": "stdout",
          "text": [
            "Early stopping, best iteration is:\n",
            "[223]\ttrain's binary_logloss: 0.0455047\teval's binary_logloss: 0.044734\n"
          ]
        },
        {
          "output_type": "stream",
          "name": "stderr",
          "text": [
            "bagging, val_score: 0.044729:   0%|          | 0/10 [00:00<?, ?it/s]"
          ]
        },
        {
          "output_type": "stream",
          "name": "stdout",
          "text": [
            "Training until validation scores don't improve for 100 rounds\n",
            "[100]\ttrain's binary_logloss: 0.0457246\teval's binary_logloss: 0.0451175\n",
            "[200]\ttrain's binary_logloss: 0.0455456\teval's binary_logloss: 0.0447339\n"
          ]
        },
        {
          "output_type": "stream",
          "name": "stderr",
          "text": [
            "bagging, val_score: 0.044584:  10%|#         | 1/10 [00:00<00:04,  1.94it/s]\u001b[32m[I 2021-09-05 00:35:53,436]\u001b[0m Trial 27 finished with value: 0.04458430710196596 and parameters: {'bagging_fraction': 0.7488000903747634, 'bagging_freq': 5}. Best is trial 27 with value: 0.04458430710196596.\u001b[0m\n"
          ]
        },
        {
          "output_type": "stream",
          "name": "stdout",
          "text": [
            "[300]\ttrain's binary_logloss: 0.0454493\teval's binary_logloss: 0.0446843\n",
            "Early stopping, best iteration is:\n",
            "[240]\ttrain's binary_logloss: 0.0454919\teval's binary_logloss: 0.0445843\n"
          ]
        },
        {
          "output_type": "stream",
          "name": "stderr",
          "text": [
            "\rbagging, val_score: 0.044584:  10%|#         | 1/10 [00:00<00:04,  1.94it/s]"
          ]
        },
        {
          "output_type": "stream",
          "name": "stdout",
          "text": [
            "Training until validation scores don't improve for 100 rounds\n",
            "[100]\ttrain's binary_logloss: 0.0457294\teval's binary_logloss: 0.0450851\n",
            "[200]\ttrain's binary_logloss: 0.0455506\teval's binary_logloss: 0.0448565\n"
          ]
        },
        {
          "output_type": "stream",
          "name": "stderr",
          "text": [
            "bagging, val_score: 0.044584:  20%|##        | 2/10 [00:00<00:03,  2.05it/s]\u001b[32m[I 2021-09-05 00:35:53,904]\u001b[0m Trial 28 finished with value: 0.04474935951553357 and parameters: {'bagging_fraction': 0.632311109920404, 'bagging_freq': 2}. Best is trial 27 with value: 0.04458430710196596.\u001b[0m\n",
            "bagging, val_score: 0.044584:  20%|##        | 2/10 [00:00<00:03,  2.05it/s]"
          ]
        },
        {
          "output_type": "stream",
          "name": "stdout",
          "text": [
            "Early stopping, best iteration is:\n",
            "[161]\ttrain's binary_logloss: 0.0455837\teval's binary_logloss: 0.0447494\n",
            "Training until validation scores don't improve for 100 rounds\n",
            "[100]\ttrain's binary_logloss: 0.0456782\teval's binary_logloss: 0.0449372\n",
            "[200]\ttrain's binary_logloss: 0.0454971\teval's binary_logloss: 0.0447054\n",
            "[300]\ttrain's binary_logloss: 0.0454426\teval's binary_logloss: 0.0447062\n",
            "Early stopping, best iteration is:\n",
            "[252]\ttrain's binary_logloss: 0.0454636\teval's binary_logloss: 0.0446637\n"
          ]
        },
        {
          "output_type": "stream",
          "name": "stderr",
          "text": [
            "bagging, val_score: 0.044584:  30%|###       | 3/10 [00:01<00:03,  1.96it/s]\u001b[32m[I 2021-09-05 00:35:54,444]\u001b[0m Trial 29 finished with value: 0.044663721876402135 and parameters: {'bagging_fraction': 0.8850353654977084, 'bagging_freq': 1}. Best is trial 27 with value: 0.04458430710196596.\u001b[0m\n",
            "bagging, val_score: 0.044584:  30%|###       | 3/10 [00:01<00:03,  1.96it/s]"
          ]
        },
        {
          "output_type": "stream",
          "name": "stdout",
          "text": [
            "Training until validation scores don't improve for 100 rounds\n",
            "[100]\ttrain's binary_logloss: 0.0457397\teval's binary_logloss: 0.0451563\n",
            "[200]\ttrain's binary_logloss: 0.0456136\teval's binary_logloss: 0.0449755\n",
            "[300]\ttrain's binary_logloss: 0.0455337\teval's binary_logloss: 0.0447282\n",
            "Early stopping, best iteration is:\n",
            "[285]\ttrain's binary_logloss: 0.0456009\teval's binary_logloss: 0.0446113\n"
          ]
        },
        {
          "output_type": "stream",
          "name": "stderr",
          "text": [
            "bagging, val_score: 0.044584:  40%|####      | 4/10 [00:02<00:03,  1.89it/s]\u001b[32m[I 2021-09-05 00:35:55,002]\u001b[0m Trial 30 finished with value: 0.04461128480462451 and parameters: {'bagging_fraction': 0.49984659381707547, 'bagging_freq': 5}. Best is trial 27 with value: 0.04458430710196596.\u001b[0m\n",
            "bagging, val_score: 0.044584:  40%|####      | 4/10 [00:02<00:03,  1.89it/s]"
          ]
        },
        {
          "output_type": "stream",
          "name": "stdout",
          "text": [
            "Training until validation scores don't improve for 100 rounds\n",
            "[100]\ttrain's binary_logloss: 0.0457065\teval's binary_logloss: 0.0449949\n"
          ]
        },
        {
          "output_type": "stream",
          "name": "stderr",
          "text": [
            "bagging, val_score: 0.044584:  50%|#####     | 5/10 [00:02<00:02,  1.91it/s]\u001b[32m[I 2021-09-05 00:35:55,517]\u001b[0m Trial 31 finished with value: 0.044688363407395695 and parameters: {'bagging_fraction': 0.9666576892449565, 'bagging_freq': 7}. Best is trial 27 with value: 0.04458430710196596.\u001b[0m\n",
            "bagging, val_score: 0.044584:  50%|#####     | 5/10 [00:02<00:02,  1.91it/s]"
          ]
        },
        {
          "output_type": "stream",
          "name": "stdout",
          "text": [
            "[200]\ttrain's binary_logloss: 0.0455232\teval's binary_logloss: 0.0447341\n",
            "[300]\ttrain's binary_logloss: 0.0454571\teval's binary_logloss: 0.0447434\n",
            "Early stopping, best iteration is:\n",
            "[228]\ttrain's binary_logloss: 0.0455049\teval's binary_logloss: 0.0446884\n",
            "Training until validation scores don't improve for 100 rounds\n",
            "[100]\ttrain's binary_logloss: 0.0457336\teval's binary_logloss: 0.0451328\n",
            "[200]\ttrain's binary_logloss: 0.0455134\teval's binary_logloss: 0.0447496\n",
            "[300]\ttrain's binary_logloss: 0.0454565\teval's binary_logloss: 0.0446885\n"
          ]
        },
        {
          "output_type": "stream",
          "name": "stderr",
          "text": [
            "bagging, val_score: 0.044584:  60%|######    | 6/10 [00:03<00:02,  1.84it/s]\u001b[32m[I 2021-09-05 00:35:56,094]\u001b[0m Trial 32 finished with value: 0.044644194107353354 and parameters: {'bagging_fraction': 0.8001387407509553, 'bagging_freq': 6}. Best is trial 27 with value: 0.04458430710196596.\u001b[0m\n",
            "bagging, val_score: 0.044584:  60%|######    | 6/10 [00:03<00:02,  1.84it/s]"
          ]
        },
        {
          "output_type": "stream",
          "name": "stdout",
          "text": [
            "Early stopping, best iteration is:\n",
            "[294]\ttrain's binary_logloss: 0.0454629\teval's binary_logloss: 0.0446442\n",
            "Training until validation scores don't improve for 100 rounds\n",
            "[100]\ttrain's binary_logloss: 0.0456912\teval's binary_logloss: 0.0449723\n",
            "[200]\ttrain's binary_logloss: 0.045501\teval's binary_logloss: 0.0446922\n"
          ]
        },
        {
          "output_type": "stream",
          "name": "stderr",
          "text": [
            "bagging, val_score: 0.044584:  70%|#######   | 7/10 [00:03<00:01,  1.72it/s]"
          ]
        },
        {
          "output_type": "stream",
          "name": "stdout",
          "text": [
            "[300]\ttrain's binary_logloss: 0.0454515\teval's binary_logloss: 0.0446981\n",
            "[400]\ttrain's binary_logloss: 0.0454059\teval's binary_logloss: 0.0447937\n",
            "Early stopping, best iteration is:\n",
            "[342]\ttrain's binary_logloss: 0.0454383\teval's binary_logloss: 0.0446561\n"
          ]
        },
        {
          "output_type": "stream",
          "name": "stderr",
          "text": [
            "\u001b[32m[I 2021-09-05 00:35:56,753]\u001b[0m Trial 33 finished with value: 0.04465605232473627 and parameters: {'bagging_fraction': 0.7728795057536456, 'bagging_freq': 1}. Best is trial 27 with value: 0.04458430710196596.\u001b[0m\n",
            "bagging, val_score: 0.044584:  70%|#######   | 7/10 [00:03<00:01,  1.72it/s]"
          ]
        },
        {
          "output_type": "stream",
          "name": "stdout",
          "text": [
            "Training until validation scores don't improve for 100 rounds\n",
            "[100]\ttrain's binary_logloss: 0.0457525\teval's binary_logloss: 0.0453358\n",
            "[200]\ttrain's binary_logloss: 0.0456267\teval's binary_logloss: 0.0450398\n",
            "[300]\ttrain's binary_logloss: 0.0455051\teval's binary_logloss: 0.044702\n"
          ]
        },
        {
          "output_type": "stream",
          "name": "stderr",
          "text": [
            "bagging, val_score: 0.044584:  80%|########  | 8/10 [00:04<00:01,  1.74it/s]\u001b[32m[I 2021-09-05 00:35:57,310]\u001b[0m Trial 34 finished with value: 0.04459859261446354 and parameters: {'bagging_fraction': 0.5648224658751548, 'bagging_freq': 5}. Best is trial 27 with value: 0.04458430710196596.\u001b[0m\n",
            "bagging, val_score: 0.044584:  80%|########  | 8/10 [00:04<00:01,  1.74it/s]"
          ]
        },
        {
          "output_type": "stream",
          "name": "stdout",
          "text": [
            "Early stopping, best iteration is:\n",
            "[285]\ttrain's binary_logloss: 0.0455373\teval's binary_logloss: 0.0445986\n",
            "Training until validation scores don't improve for 100 rounds\n",
            "[100]\ttrain's binary_logloss: 0.0457351\teval's binary_logloss: 0.044947\n",
            "[200]\ttrain's binary_logloss: 0.045524\teval's binary_logloss: 0.0446623\n"
          ]
        },
        {
          "output_type": "stream",
          "name": "stderr",
          "text": [
            "bagging, val_score: 0.044584:  90%|######### | 9/10 [00:04<00:00,  1.85it/s]\u001b[32m[I 2021-09-05 00:35:57,778]\u001b[0m Trial 35 finished with value: 0.044655553550541925 and parameters: {'bagging_fraction': 0.659678001320732, 'bagging_freq': 4}. Best is trial 27 with value: 0.04458430710196596.\u001b[0m\n",
            "bagging, val_score: 0.044584:  90%|######### | 9/10 [00:04<00:00,  1.85it/s]"
          ]
        },
        {
          "output_type": "stream",
          "name": "stdout",
          "text": [
            "Early stopping, best iteration is:\n",
            "[197]\ttrain's binary_logloss: 0.0455232\teval's binary_logloss: 0.0446556\n",
            "Training until validation scores don't improve for 100 rounds\n",
            "[100]\ttrain's binary_logloss: 0.0457272\teval's binary_logloss: 0.0452461\n",
            "[200]\ttrain's binary_logloss: 0.0455212\teval's binary_logloss: 0.0448155\n"
          ]
        },
        {
          "output_type": "stream",
          "name": "stderr",
          "text": [
            "bagging, val_score: 0.044584: 100%|##########| 10/10 [00:05<00:00,  1.82it/s]\u001b[32m[I 2021-09-05 00:35:58,347]\u001b[0m Trial 36 finished with value: 0.04473498578611727 and parameters: {'bagging_fraction': 0.7985111438057204, 'bagging_freq': 2}. Best is trial 27 with value: 0.04458430710196596.\u001b[0m\n",
            "bagging, val_score: 0.044584: 100%|##########| 10/10 [00:05<00:00,  1.84it/s]\n"
          ]
        },
        {
          "output_type": "stream",
          "name": "stdout",
          "text": [
            "[300]\ttrain's binary_logloss: 0.0454632\teval's binary_logloss: 0.0448211\n",
            "Early stopping, best iteration is:\n",
            "[260]\ttrain's binary_logloss: 0.0454799\teval's binary_logloss: 0.044735\n"
          ]
        },
        {
          "output_type": "stream",
          "name": "stderr",
          "text": [
            "feature_fraction_stage2, val_score: 0.044584:   0%|          | 0/6 [00:00<?, ?it/s]"
          ]
        },
        {
          "output_type": "stream",
          "name": "stdout",
          "text": [
            "Training until validation scores don't improve for 100 rounds\n",
            "[100]\ttrain's binary_logloss: 0.0464162\teval's binary_logloss: 0.0463498\n",
            "[200]\ttrain's binary_logloss: 0.0462431\teval's binary_logloss: 0.0459194\n",
            "[300]\ttrain's binary_logloss: 0.0461861\teval's binary_logloss: 0.0456982\n",
            "[400]\ttrain's binary_logloss: 0.0461691\teval's binary_logloss: 0.0456199\n"
          ]
        },
        {
          "output_type": "stream",
          "name": "stderr",
          "text": [
            "feature_fraction_stage2, val_score: 0.044584:  17%|#6        | 1/6 [00:00<00:03,  1.51it/s]\u001b[32m[I 2021-09-05 00:35:59,021]\u001b[0m Trial 37 finished with value: 0.04561793108796327 and parameters: {'feature_fraction': 0.484}. Best is trial 37 with value: 0.04561793108796327.\u001b[0m\n",
            "feature_fraction_stage2, val_score: 0.044584:  17%|#6        | 1/6 [00:00<00:03,  1.51it/s]"
          ]
        },
        {
          "output_type": "stream",
          "name": "stdout",
          "text": [
            "[500]\ttrain's binary_logloss: 0.0461538\teval's binary_logloss: 0.0457148\n",
            "Early stopping, best iteration is:\n",
            "[408]\ttrain's binary_logloss: 0.0461696\teval's binary_logloss: 0.0456179\n",
            "Training until validation scores don't improve for 100 rounds\n",
            "[100]\ttrain's binary_logloss: 0.0464162\teval's binary_logloss: 0.0463498\n",
            "[200]\ttrain's binary_logloss: 0.0462431\teval's binary_logloss: 0.0459194\n",
            "[300]\ttrain's binary_logloss: 0.0461861\teval's binary_logloss: 0.0456982\n"
          ]
        },
        {
          "output_type": "stream",
          "name": "stderr",
          "text": [
            "feature_fraction_stage2, val_score: 0.044584:  33%|###3      | 2/6 [00:01<00:02,  1.55it/s]\u001b[32m[I 2021-09-05 00:35:59,655]\u001b[0m Trial 38 finished with value: 0.04561793108796327 and parameters: {'feature_fraction': 0.45199999999999996}. Best is trial 37 with value: 0.04561793108796327.\u001b[0m\n",
            "feature_fraction_stage2, val_score: 0.044584:  33%|###3      | 2/6 [00:01<00:02,  1.55it/s]"
          ]
        },
        {
          "output_type": "stream",
          "name": "stdout",
          "text": [
            "[400]\ttrain's binary_logloss: 0.0461691\teval's binary_logloss: 0.0456199\n",
            "[500]\ttrain's binary_logloss: 0.0461538\teval's binary_logloss: 0.0457148\n",
            "Early stopping, best iteration is:\n",
            "[408]\ttrain's binary_logloss: 0.0461696\teval's binary_logloss: 0.0456179\n",
            "Training until validation scores don't improve for 100 rounds\n",
            "[100]\ttrain's binary_logloss: 0.0464162\teval's binary_logloss: 0.0463498\n",
            "[200]\ttrain's binary_logloss: 0.0462431\teval's binary_logloss: 0.0459194\n",
            "[300]\ttrain's binary_logloss: 0.0461861\teval's binary_logloss: 0.0456982\n",
            "[400]\ttrain's binary_logloss: 0.0461691\teval's binary_logloss: 0.0456199\n"
          ]
        },
        {
          "output_type": "stream",
          "name": "stderr",
          "text": [
            "feature_fraction_stage2, val_score: 0.044584:  50%|#####     | 3/6 [00:01<00:01,  1.53it/s]\u001b[32m[I 2021-09-05 00:36:00,317]\u001b[0m Trial 39 finished with value: 0.04561793108796326 and parameters: {'feature_fraction': 0.42}. Best is trial 39 with value: 0.04561793108796326.\u001b[0m\n",
            "feature_fraction_stage2, val_score: 0.044584:  50%|#####     | 3/6 [00:01<00:01,  1.53it/s]"
          ]
        },
        {
          "output_type": "stream",
          "name": "stdout",
          "text": [
            "[500]\ttrain's binary_logloss: 0.0461538\teval's binary_logloss: 0.0457148\n",
            "Early stopping, best iteration is:\n",
            "[408]\ttrain's binary_logloss: 0.0461696\teval's binary_logloss: 0.0456179\n",
            "Training until validation scores don't improve for 100 rounds\n",
            "[100]\ttrain's binary_logloss: 0.0457246\teval's binary_logloss: 0.0451175\n",
            "[200]\ttrain's binary_logloss: 0.0455456\teval's binary_logloss: 0.0447339\n"
          ]
        },
        {
          "output_type": "stream",
          "name": "stderr",
          "text": [
            "feature_fraction_stage2, val_score: 0.044584:  67%|######6   | 4/6 [00:02<00:01,  1.66it/s]\u001b[32m[I 2021-09-05 00:36:00,840]\u001b[0m Trial 40 finished with value: 0.04458430710196596 and parameters: {'feature_fraction': 0.5479999999999999}. Best is trial 40 with value: 0.04458430710196596.\u001b[0m\n",
            "feature_fraction_stage2, val_score: 0.044584:  67%|######6   | 4/6 [00:02<00:01,  1.66it/s]"
          ]
        },
        {
          "output_type": "stream",
          "name": "stdout",
          "text": [
            "[300]\ttrain's binary_logloss: 0.0454493\teval's binary_logloss: 0.0446843\n",
            "Early stopping, best iteration is:\n",
            "[240]\ttrain's binary_logloss: 0.0454919\teval's binary_logloss: 0.0445843\n",
            "Training until validation scores don't improve for 100 rounds\n",
            "[100]\ttrain's binary_logloss: 0.0457246\teval's binary_logloss: 0.0451175\n",
            "[200]\ttrain's binary_logloss: 0.0455456\teval's binary_logloss: 0.0447339\n"
          ]
        },
        {
          "output_type": "stream",
          "name": "stderr",
          "text": [
            "feature_fraction_stage2, val_score: 0.044584:  83%|########3 | 5/6 [00:03<00:00,  1.72it/s]\u001b[32m[I 2021-09-05 00:36:01,390]\u001b[0m Trial 41 finished with value: 0.04458430710196596 and parameters: {'feature_fraction': 0.516}. Best is trial 40 with value: 0.04458430710196596.\u001b[0m\n",
            "feature_fraction_stage2, val_score: 0.044584:  83%|########3 | 5/6 [00:03<00:00,  1.72it/s]"
          ]
        },
        {
          "output_type": "stream",
          "name": "stdout",
          "text": [
            "[300]\ttrain's binary_logloss: 0.0454493\teval's binary_logloss: 0.0446843\n",
            "Early stopping, best iteration is:\n",
            "[240]\ttrain's binary_logloss: 0.0454919\teval's binary_logloss: 0.0445843\n",
            "Training until validation scores don't improve for 100 rounds\n",
            "[100]\ttrain's binary_logloss: 0.0457246\teval's binary_logloss: 0.0451175\n",
            "[200]\ttrain's binary_logloss: 0.0455456\teval's binary_logloss: 0.0447339\n"
          ]
        },
        {
          "output_type": "stream",
          "name": "stderr",
          "text": [
            "feature_fraction_stage2, val_score: 0.044584: 100%|##########| 6/6 [00:03<00:00,  1.79it/s]\u001b[32m[I 2021-09-05 00:36:01,905]\u001b[0m Trial 42 finished with value: 0.04458430710196596 and parameters: {'feature_fraction': 0.58}. Best is trial 40 with value: 0.04458430710196596.\u001b[0m\n",
            "feature_fraction_stage2, val_score: 0.044584: 100%|##########| 6/6 [00:03<00:00,  1.69it/s]\n"
          ]
        },
        {
          "output_type": "stream",
          "name": "stdout",
          "text": [
            "[300]\ttrain's binary_logloss: 0.0454493\teval's binary_logloss: 0.0446843\n",
            "Early stopping, best iteration is:\n",
            "[240]\ttrain's binary_logloss: 0.0454919\teval's binary_logloss: 0.0445843\n"
          ]
        },
        {
          "output_type": "stream",
          "name": "stderr",
          "text": [
            "regularization_factors, val_score: 0.044584:   0%|          | 0/20 [00:00<?, ?it/s]"
          ]
        },
        {
          "output_type": "stream",
          "name": "stdout",
          "text": [
            "Training until validation scores don't improve for 100 rounds\n",
            "[100]\ttrain's binary_logloss: 0.0457277\teval's binary_logloss: 0.0451284\n"
          ]
        },
        {
          "output_type": "stream",
          "name": "stderr",
          "text": [
            "regularization_factors, val_score: 0.044584:   5%|5         | 1/20 [00:00<00:09,  1.97it/s]\u001b[32m[I 2021-09-05 00:36:02,427]\u001b[0m Trial 43 finished with value: 0.04458537920696221 and parameters: {'lambda_l1': 3.4370775574452063e-07, 'lambda_l2': 0.0019067573971202996}. Best is trial 43 with value: 0.04458537920696221.\u001b[0m\n",
            "regularization_factors, val_score: 0.044584:   5%|5         | 1/20 [00:00<00:09,  1.97it/s]"
          ]
        },
        {
          "output_type": "stream",
          "name": "stdout",
          "text": [
            "[200]\ttrain's binary_logloss: 0.0455426\teval's binary_logloss: 0.0447237\n",
            "[300]\ttrain's binary_logloss: 0.0454591\teval's binary_logloss: 0.0446809\n",
            "Early stopping, best iteration is:\n",
            "[240]\ttrain's binary_logloss: 0.0454958\teval's binary_logloss: 0.0445854\n",
            "Training until validation scores don't improve for 100 rounds\n",
            "[100]\ttrain's binary_logloss: 0.0458244\teval's binary_logloss: 0.0453735\n",
            "[200]\ttrain's binary_logloss: 0.0456446\teval's binary_logloss: 0.0449994\n",
            "[300]\ttrain's binary_logloss: 0.0455753\teval's binary_logloss: 0.044833\n"
          ]
        },
        {
          "output_type": "stream",
          "name": "stderr",
          "text": [
            "regularization_factors, val_score: 0.044584:  10%|#         | 2/20 [00:01<00:09,  1.83it/s]\u001b[32m[I 2021-09-05 00:36:03,000]\u001b[0m Trial 44 finished with value: 0.04475968340716265 and parameters: {'lambda_l1': 0.02497061901385325, 'lambda_l2': 0.49257981938403606}. Best is trial 43 with value: 0.04458537920696221.\u001b[0m\n",
            "regularization_factors, val_score: 0.044584:  10%|#         | 2/20 [00:01<00:09,  1.83it/s]"
          ]
        },
        {
          "output_type": "stream",
          "name": "stdout",
          "text": [
            "[400]\ttrain's binary_logloss: 0.0455297\teval's binary_logloss: 0.0447955\n",
            "Early stopping, best iteration is:\n",
            "[316]\ttrain's binary_logloss: 0.0455657\teval's binary_logloss: 0.0447597\n",
            "Training until validation scores don't improve for 100 rounds\n",
            "[100]\ttrain's binary_logloss: 0.0457894\teval's binary_logloss: 0.0452741\n",
            "[200]\ttrain's binary_logloss: 0.0455919\teval's binary_logloss: 0.0448156\n"
          ]
        },
        {
          "output_type": "stream",
          "name": "stderr",
          "text": [
            "regularization_factors, val_score: 0.044584:  15%|#5        | 3/20 [00:01<00:09,  1.76it/s]\u001b[32m[I 2021-09-05 00:36:03,592]\u001b[0m Trial 45 finished with value: 0.04461944473265739 and parameters: {'lambda_l1': 0.059242909923331734, 'lambda_l2': 0.004972603305263586}. Best is trial 43 with value: 0.04458537920696221.\u001b[0m\n",
            "regularization_factors, val_score: 0.044584:  15%|#5        | 3/20 [00:01<00:09,  1.76it/s]"
          ]
        },
        {
          "output_type": "stream",
          "name": "stdout",
          "text": [
            "[300]\ttrain's binary_logloss: 0.0455157\teval's binary_logloss: 0.0446733\n",
            "[400]\ttrain's binary_logloss: 0.0454677\teval's binary_logloss: 0.0446894\n",
            "Early stopping, best iteration is:\n",
            "[316]\ttrain's binary_logloss: 0.0455056\teval's binary_logloss: 0.0446194\n",
            "Training until validation scores don't improve for 100 rounds\n",
            "[100]\ttrain's binary_logloss: 0.0457587\teval's binary_logloss: 0.0452503\n",
            "[200]\ttrain's binary_logloss: 0.0455923\teval's binary_logloss: 0.0449321\n",
            "[300]\ttrain's binary_logloss: 0.0454908\teval's binary_logloss: 0.0447011\n"
          ]
        },
        {
          "output_type": "stream",
          "name": "stderr",
          "text": [
            "regularization_factors, val_score: 0.044584:  20%|##        | 4/20 [00:02<00:09,  1.69it/s]\u001b[32m[I 2021-09-05 00:36:04,217]\u001b[0m Trial 46 finished with value: 0.044633064979002504 and parameters: {'lambda_l1': 0.014792060571541275, 'lambda_l2': 0.005670737776494069}. Best is trial 43 with value: 0.04458537920696221.\u001b[0m\n",
            "regularization_factors, val_score: 0.044584:  20%|##        | 4/20 [00:02<00:09,  1.69it/s]"
          ]
        },
        {
          "output_type": "stream",
          "name": "stdout",
          "text": [
            "[400]\ttrain's binary_logloss: 0.0454398\teval's binary_logloss: 0.0447005\n",
            "Early stopping, best iteration is:\n",
            "[316]\ttrain's binary_logloss: 0.0454812\teval's binary_logloss: 0.0446331\n",
            "Training until validation scores don't improve for 100 rounds\n",
            "[100]\ttrain's binary_logloss: 0.0457257\teval's binary_logloss: 0.045126\n",
            "[200]\ttrain's binary_logloss: 0.0455423\teval's binary_logloss: 0.0447241\n"
          ]
        },
        {
          "output_type": "stream",
          "name": "stderr",
          "text": [
            "regularization_factors, val_score: 0.044584:  25%|##5       | 5/20 [00:02<00:08,  1.77it/s]\u001b[32m[I 2021-09-05 00:36:04,738]\u001b[0m Trial 47 finished with value: 0.04458532517653099 and parameters: {'lambda_l1': 1.124682437307826e-05, 'lambda_l2': 4.566651748672742e-05}. Best is trial 47 with value: 0.04458532517653099.\u001b[0m\n",
            "regularization_factors, val_score: 0.044584:  25%|##5       | 5/20 [00:02<00:08,  1.77it/s]"
          ]
        },
        {
          "output_type": "stream",
          "name": "stdout",
          "text": [
            "[300]\ttrain's binary_logloss: 0.0454539\teval's binary_logloss: 0.0446834\n",
            "Early stopping, best iteration is:\n",
            "[240]\ttrain's binary_logloss: 0.0454945\teval's binary_logloss: 0.0445853\n",
            "Training until validation scores don't improve for 100 rounds\n",
            "[100]\ttrain's binary_logloss: 0.0457257\teval's binary_logloss: 0.045126\n",
            "[200]\ttrain's binary_logloss: 0.0455455\teval's binary_logloss: 0.0447365\n"
          ]
        },
        {
          "output_type": "stream",
          "name": "stderr",
          "text": [
            "regularization_factors, val_score: 0.044584:  30%|###       | 6/20 [00:03<00:07,  1.83it/s]\u001b[32m[I 2021-09-05 00:36:05,251]\u001b[0m Trial 48 finished with value: 0.044586321969808225 and parameters: {'lambda_l1': 6.792302254710418e-07, 'lambda_l2': 6.393347384708322e-05}. Best is trial 47 with value: 0.04458532517653099.\u001b[0m\n",
            "regularization_factors, val_score: 0.044584:  30%|###       | 6/20 [00:03<00:07,  1.83it/s]"
          ]
        },
        {
          "output_type": "stream",
          "name": "stdout",
          "text": [
            "[300]\ttrain's binary_logloss: 0.0454507\teval's binary_logloss: 0.0446838\n",
            "Early stopping, best iteration is:\n",
            "[240]\ttrain's binary_logloss: 0.0454917\teval's binary_logloss: 0.0445863\n",
            "Training until validation scores don't improve for 100 rounds\n",
            "[100]\ttrain's binary_logloss: 0.0457406\teval's binary_logloss: 0.0451527\n",
            "[200]\ttrain's binary_logloss: 0.0455598\teval's binary_logloss: 0.0447361\n"
          ]
        },
        {
          "output_type": "stream",
          "name": "stderr",
          "text": [
            "regularization_factors, val_score: 0.044584:  35%|###5      | 7/20 [00:03<00:06,  1.88it/s]\u001b[32m[I 2021-09-05 00:36:05,751]\u001b[0m Trial 49 finished with value: 0.044587810301812476 and parameters: {'lambda_l1': 0.01032647183756958, 'lambda_l2': 0.0008407996032905465}. Best is trial 47 with value: 0.04458532517653099.\u001b[0m\n",
            "regularization_factors, val_score: 0.044584:  35%|###5      | 7/20 [00:03<00:06,  1.88it/s]"
          ]
        },
        {
          "output_type": "stream",
          "name": "stdout",
          "text": [
            "[300]\ttrain's binary_logloss: 0.0454751\teval's binary_logloss: 0.0446533\n",
            "Early stopping, best iteration is:\n",
            "[243]\ttrain's binary_logloss: 0.0455145\teval's binary_logloss: 0.0445878\n",
            "Training until validation scores don't improve for 100 rounds\n",
            "[100]\ttrain's binary_logloss: 0.0457294\teval's binary_logloss: 0.0451252\n",
            "[200]\ttrain's binary_logloss: 0.0455457\teval's binary_logloss: 0.0447136\n"
          ]
        },
        {
          "output_type": "stream",
          "name": "stderr",
          "text": [
            "regularization_factors, val_score: 0.044573:  40%|####      | 8/20 [00:04<00:06,  1.88it/s]\u001b[32m[I 2021-09-05 00:36:06,285]\u001b[0m Trial 50 finished with value: 0.044573395296471384 and parameters: {'lambda_l1': 0.0037971158128982502, 'lambda_l2': 2.0038691024777453e-07}. Best is trial 50 with value: 0.044573395296471384.\u001b[0m\n",
            "regularization_factors, val_score: 0.044573:  40%|####      | 8/20 [00:04<00:06,  1.88it/s]"
          ]
        },
        {
          "output_type": "stream",
          "name": "stdout",
          "text": [
            "[300]\ttrain's binary_logloss: 0.0454602\teval's binary_logloss: 0.044662\n",
            "Early stopping, best iteration is:\n",
            "[243]\ttrain's binary_logloss: 0.0455\teval's binary_logloss: 0.0445734\n",
            "Training until validation scores don't improve for 100 rounds\n",
            "[100]\ttrain's binary_logloss: 0.0463154\teval's binary_logloss: 0.0462019\n",
            "[200]\ttrain's binary_logloss: 0.0462261\teval's binary_logloss: 0.0458668\n",
            "[300]\ttrain's binary_logloss: 0.0461666\teval's binary_logloss: 0.0457891\n",
            "Early stopping, best iteration is:\n",
            "[242]\ttrain's binary_logloss: 0.0461634\teval's binary_logloss: 0.0457841\n"
          ]
        },
        {
          "output_type": "stream",
          "name": "stderr",
          "text": [
            "regularization_factors, val_score: 0.044573:  45%|####5     | 9/20 [00:04<00:05,  2.01it/s]\u001b[32m[I 2021-09-05 00:36:06,705]\u001b[0m Trial 51 finished with value: 0.045784119169393914 and parameters: {'lambda_l1': 1.937943367542898, 'lambda_l2': 0.0023312419395414177}. Best is trial 50 with value: 0.044573395296471384.\u001b[0m\n",
            "regularization_factors, val_score: 0.044573:  45%|####5     | 9/20 [00:04<00:05,  2.01it/s]"
          ]
        },
        {
          "output_type": "stream",
          "name": "stdout",
          "text": [
            "Training until validation scores don't improve for 100 rounds\n",
            "[100]\ttrain's binary_logloss: 0.0457934\teval's binary_logloss: 0.0453311\n",
            "[200]\ttrain's binary_logloss: 0.0456066\teval's binary_logloss: 0.0448358\n",
            "[300]\ttrain's binary_logloss: 0.0455311\teval's binary_logloss: 0.0447036\n"
          ]
        },
        {
          "output_type": "stream",
          "name": "stderr",
          "text": [
            "regularization_factors, val_score: 0.044573:  50%|#####     | 10/20 [00:05<00:05,  1.91it/s]\u001b[32m[I 2021-09-05 00:36:07,289]\u001b[0m Trial 52 finished with value: 0.04463669863639939 and parameters: {'lambda_l1': 0.08649015114729838, 'lambda_l2': 2.565986829723258e-05}. Best is trial 50 with value: 0.044573395296471384.\u001b[0m\n",
            "regularization_factors, val_score: 0.044573:  50%|#####     | 10/20 [00:05<00:05,  1.91it/s]"
          ]
        },
        {
          "output_type": "stream",
          "name": "stdout",
          "text": [
            "[400]\ttrain's binary_logloss: 0.0454939\teval's binary_logloss: 0.0446934\n",
            "Early stopping, best iteration is:\n",
            "[316]\ttrain's binary_logloss: 0.0455226\teval's binary_logloss: 0.0446367\n",
            "Training until validation scores don't improve for 100 rounds\n",
            "[100]\ttrain's binary_logloss: 0.045727\teval's binary_logloss: 0.0451411\n",
            "[200]\ttrain's binary_logloss: 0.0455433\teval's binary_logloss: 0.0447238\n"
          ]
        },
        {
          "output_type": "stream",
          "name": "stderr",
          "text": [
            "regularization_factors, val_score: 0.044573:  55%|#####5    | 11/20 [00:05<00:04,  1.93it/s]\u001b[32m[I 2021-09-05 00:36:07,795]\u001b[0m Trial 53 finished with value: 0.044581652894592885 and parameters: {'lambda_l1': 0.00015240321755760457, 'lambda_l2': 1.2364133054388302e-08}. Best is trial 50 with value: 0.044573395296471384.\u001b[0m\n",
            "regularization_factors, val_score: 0.044573:  55%|#####5    | 11/20 [00:05<00:04,  1.93it/s]"
          ]
        },
        {
          "output_type": "stream",
          "name": "stdout",
          "text": [
            "[300]\ttrain's binary_logloss: 0.0454574\teval's binary_logloss: 0.0446806\n",
            "Early stopping, best iteration is:\n",
            "[240]\ttrain's binary_logloss: 0.0454975\teval's binary_logloss: 0.0445817\n",
            "Training until validation scores don't improve for 100 rounds\n",
            "[100]\ttrain's binary_logloss: 0.045727\teval's binary_logloss: 0.0451411\n",
            "[200]\ttrain's binary_logloss: 0.0455433\teval's binary_logloss: 0.0447238\n"
          ]
        },
        {
          "output_type": "stream",
          "name": "stderr",
          "text": [
            "regularization_factors, val_score: 0.044573:  60%|######    | 12/20 [00:06<00:04,  1.92it/s]\u001b[32m[I 2021-09-05 00:36:08,317]\u001b[0m Trial 54 finished with value: 0.044581652180687235 and parameters: {'lambda_l1': 0.000145749678236226, 'lambda_l2': 1.1518896153879435e-08}. Best is trial 50 with value: 0.044573395296471384.\u001b[0m\n",
            "regularization_factors, val_score: 0.044573:  60%|######    | 12/20 [00:06<00:04,  1.92it/s]"
          ]
        },
        {
          "output_type": "stream",
          "name": "stdout",
          "text": [
            "[300]\ttrain's binary_logloss: 0.0454574\teval's binary_logloss: 0.0446806\n",
            "Early stopping, best iteration is:\n",
            "[240]\ttrain's binary_logloss: 0.0454975\teval's binary_logloss: 0.0445817\n",
            "Training until validation scores don't improve for 100 rounds\n",
            "[100]\ttrain's binary_logloss: 0.0457304\teval's binary_logloss: 0.0451358\n",
            "[200]\ttrain's binary_logloss: 0.0455433\teval's binary_logloss: 0.0447263\n"
          ]
        },
        {
          "output_type": "stream",
          "name": "stderr",
          "text": [
            "regularization_factors, val_score: 0.044573:  65%|######5   | 13/20 [00:06<00:03,  1.91it/s]\u001b[32m[I 2021-09-05 00:36:08,846]\u001b[0m Trial 55 finished with value: 0.044584858586186604 and parameters: {'lambda_l1': 0.0002044913289647555, 'lambda_l2': 1.5864785443801468e-08}. Best is trial 50 with value: 0.044573395296471384.\u001b[0m\n",
            "regularization_factors, val_score: 0.044573:  65%|######5   | 13/20 [00:06<00:03,  1.91it/s]"
          ]
        },
        {
          "output_type": "stream",
          "name": "stdout",
          "text": [
            "[300]\ttrain's binary_logloss: 0.0454557\teval's binary_logloss: 0.0446813\n",
            "Early stopping, best iteration is:\n",
            "[240]\ttrain's binary_logloss: 0.0454954\teval's binary_logloss: 0.0445849\n",
            "Training until validation scores don't improve for 100 rounds\n",
            "[100]\ttrain's binary_logloss: 0.0457246\teval's binary_logloss: 0.0451175\n",
            "[200]\ttrain's binary_logloss: 0.0455456\teval's binary_logloss: 0.0447339\n"
          ]
        },
        {
          "output_type": "stream",
          "name": "stderr",
          "text": [
            "regularization_factors, val_score: 0.044573:  70%|#######   | 14/20 [00:07<00:03,  1.92it/s]\u001b[32m[I 2021-09-05 00:36:09,359]\u001b[0m Trial 56 finished with value: 0.04458430720475391 and parameters: {'lambda_l1': 1.0936876570064803e-08, 'lambda_l2': 4.932900607379831e-07}. Best is trial 50 with value: 0.044573395296471384.\u001b[0m\n",
            "regularization_factors, val_score: 0.044573:  70%|#######   | 14/20 [00:07<00:03,  1.92it/s]"
          ]
        },
        {
          "output_type": "stream",
          "name": "stdout",
          "text": [
            "[300]\ttrain's binary_logloss: 0.0454493\teval's binary_logloss: 0.0446843\n",
            "Early stopping, best iteration is:\n",
            "[240]\ttrain's binary_logloss: 0.0454919\teval's binary_logloss: 0.0445843\n",
            "Training until validation scores don't improve for 100 rounds\n",
            "[100]\ttrain's binary_logloss: 0.0457306\teval's binary_logloss: 0.0451357\n",
            "[200]\ttrain's binary_logloss: 0.045548\teval's binary_logloss: 0.0447214\n"
          ]
        },
        {
          "output_type": "stream",
          "name": "stderr",
          "text": [
            "regularization_factors, val_score: 0.044573:  75%|#######5  | 15/20 [00:07<00:02,  1.91it/s]\u001b[32m[I 2021-09-05 00:36:09,890]\u001b[0m Trial 57 finished with value: 0.044578983639872984 and parameters: {'lambda_l1': 0.0008983945869814061, 'lambda_l2': 4.955717297179207e-07}. Best is trial 50 with value: 0.044573395296471384.\u001b[0m\n",
            "regularization_factors, val_score: 0.044573:  75%|#######5  | 15/20 [00:07<00:02,  1.91it/s]"
          ]
        },
        {
          "output_type": "stream",
          "name": "stdout",
          "text": [
            "[300]\ttrain's binary_logloss: 0.0454571\teval's binary_logloss: 0.0446747\n",
            "Early stopping, best iteration is:\n",
            "[240]\ttrain's binary_logloss: 0.0454952\teval's binary_logloss: 0.044579\n",
            "Training until validation scores don't improve for 100 rounds\n",
            "[100]\ttrain's binary_logloss: 0.0464802\teval's binary_logloss: 0.0465695\n",
            "[200]\ttrain's binary_logloss: 0.0464409\teval's binary_logloss: 0.0464883\n",
            "[300]\ttrain's binary_logloss: 0.0464261\teval's binary_logloss: 0.0464143\n",
            "[400]\ttrain's binary_logloss: 0.0464104\teval's binary_logloss: 0.0463587\n",
            "[500]\ttrain's binary_logloss: 0.0464067\teval's binary_logloss: 0.0463292\n",
            "[600]\ttrain's binary_logloss: 0.0464013\teval's binary_logloss: 0.0463102\n"
          ]
        },
        {
          "output_type": "stream",
          "name": "stderr",
          "text": [
            "regularization_factors, val_score: 0.044573:  80%|########  | 16/20 [00:08<00:02,  1.63it/s]\u001b[32m[I 2021-09-05 00:36:10,718]\u001b[0m Trial 58 finished with value: 0.046268997373878816 and parameters: {'lambda_l1': 5.944174715900441, 'lambda_l2': 1.972152923487446e-06}. Best is trial 50 with value: 0.044573395296471384.\u001b[0m\n",
            "regularization_factors, val_score: 0.044573:  80%|########  | 16/20 [00:08<00:02,  1.63it/s]"
          ]
        },
        {
          "output_type": "stream",
          "name": "stdout",
          "text": [
            "[700]\ttrain's binary_logloss: 0.0463975\teval's binary_logloss: 0.046286\n",
            "[800]\ttrain's binary_logloss: 0.0463913\teval's binary_logloss: 0.0462714\n",
            "Early stopping, best iteration is:\n",
            "[734]\ttrain's binary_logloss: 0.046392\teval's binary_logloss: 0.046269\n",
            "Training until validation scores don't improve for 100 rounds\n",
            "[100]\ttrain's binary_logloss: 0.0457308\teval's binary_logloss: 0.0451361\n"
          ]
        },
        {
          "output_type": "stream",
          "name": "stderr",
          "text": [
            "regularization_factors, val_score: 0.044573:  85%|########5 | 17/20 [00:09<00:01,  1.70it/s]\u001b[32m[I 2021-09-05 00:36:11,244]\u001b[0m Trial 59 finished with value: 0.044582320260104016 and parameters: {'lambda_l1': 0.0022403749563451067, 'lambda_l2': 5.523715980043466e-07}. Best is trial 50 with value: 0.044573395296471384.\u001b[0m\n",
            "regularization_factors, val_score: 0.044573:  85%|########5 | 17/20 [00:09<00:01,  1.70it/s]"
          ]
        },
        {
          "output_type": "stream",
          "name": "stdout",
          "text": [
            "[200]\ttrain's binary_logloss: 0.0455483\teval's binary_logloss: 0.0447221\n",
            "[300]\ttrain's binary_logloss: 0.0454623\teval's binary_logloss: 0.0446676\n",
            "Early stopping, best iteration is:\n",
            "[240]\ttrain's binary_logloss: 0.0455\teval's binary_logloss: 0.0445823\n",
            "Training until validation scores don't improve for 100 rounds\n",
            "[100]\ttrain's binary_logloss: 0.0460504\teval's binary_logloss: 0.0457872\n",
            "[200]\ttrain's binary_logloss: 0.0459055\teval's binary_logloss: 0.0452904\n",
            "[300]\ttrain's binary_logloss: 0.0457721\teval's binary_logloss: 0.0450503\n",
            "[400]\ttrain's binary_logloss: 0.0457316\teval's binary_logloss: 0.0449936\n",
            "Early stopping, best iteration is:\n",
            "[397]\ttrain's binary_logloss: 0.0457325\teval's binary_logloss: 0.0449846\n"
          ]
        },
        {
          "output_type": "stream",
          "name": "stderr",
          "text": [
            "regularization_factors, val_score: 0.044573:  90%|######### | 18/20 [00:09<00:01,  1.67it/s]\u001b[32m[I 2021-09-05 00:36:11,867]\u001b[0m Trial 60 finished with value: 0.04498458269093936 and parameters: {'lambda_l1': 0.5510801024528312, 'lambda_l2': 2.1205579283712517e-07}. Best is trial 50 with value: 0.044573395296471384.\u001b[0m\n",
            "regularization_factors, val_score: 0.044573:  90%|######### | 18/20 [00:09<00:01,  1.67it/s]"
          ]
        },
        {
          "output_type": "stream",
          "name": "stdout",
          "text": [
            "Training until validation scores don't improve for 100 rounds\n",
            "[100]\ttrain's binary_logloss: 0.0457307\teval's binary_logloss: 0.0451359\n"
          ]
        },
        {
          "output_type": "stream",
          "name": "stderr",
          "text": [
            "regularization_factors, val_score: 0.044573:  95%|#########5| 19/20 [00:10<00:00,  1.73it/s]\u001b[32m[I 2021-09-05 00:36:12,397]\u001b[0m Trial 61 finished with value: 0.04457733438110879 and parameters: {'lambda_l1': 0.0018488900582977496, 'lambda_l2': 5.985843995910578e-06}. Best is trial 50 with value: 0.044573395296471384.\u001b[0m\n",
            "regularization_factors, val_score: 0.044573:  95%|#########5| 19/20 [00:10<00:00,  1.73it/s]"
          ]
        },
        {
          "output_type": "stream",
          "name": "stdout",
          "text": [
            "[200]\ttrain's binary_logloss: 0.0455482\teval's binary_logloss: 0.0447215\n",
            "[300]\ttrain's binary_logloss: 0.0454592\teval's binary_logloss: 0.0446679\n",
            "Early stopping, best iteration is:\n",
            "[240]\ttrain's binary_logloss: 0.0454954\teval's binary_logloss: 0.0445773\n",
            "Training until validation scores don't improve for 100 rounds\n",
            "[100]\ttrain's binary_logloss: 0.0457351\teval's binary_logloss: 0.0451685\n"
          ]
        },
        {
          "output_type": "stream",
          "name": "stderr",
          "text": [
            "regularization_factors, val_score: 0.044573: 100%|##########| 20/20 [00:11<00:00,  1.75it/s]\u001b[32m[I 2021-09-05 00:36:12,949]\u001b[0m Trial 62 finished with value: 0.044585816218265656 and parameters: {'lambda_l1': 2.0155374179538715e-05, 'lambda_l2': 1.0199275510612425e-05}. Best is trial 50 with value: 0.044573395296471384.\u001b[0m\n",
            "regularization_factors, val_score: 0.044573: 100%|##########| 20/20 [00:11<00:00,  1.81it/s]"
          ]
        },
        {
          "output_type": "stream",
          "name": "stdout",
          "text": [
            "[200]\ttrain's binary_logloss: 0.0455444\teval's binary_logloss: 0.0447321\n",
            "[300]\ttrain's binary_logloss: 0.0454558\teval's binary_logloss: 0.044683\n",
            "Early stopping, best iteration is:\n",
            "[240]\ttrain's binary_logloss: 0.0454969\teval's binary_logloss: 0.0445858\n"
          ]
        },
        {
          "output_type": "stream",
          "name": "stderr",
          "text": [
            "\n",
            "min_data_in_leaf, val_score: 0.044573:   0%|          | 0/5 [00:00<?, ?it/s]"
          ]
        },
        {
          "output_type": "stream",
          "name": "stdout",
          "text": [
            "Training until validation scores don't improve for 100 rounds\n",
            "[100]\ttrain's binary_logloss: 0.0457445\teval's binary_logloss: 0.0452031\n"
          ]
        },
        {
          "output_type": "stream",
          "name": "stderr",
          "text": [
            "min_data_in_leaf, val_score: 0.044573:  20%|##        | 1/5 [00:00<00:02,  1.97it/s]\u001b[32m[I 2021-09-05 00:36:13,471]\u001b[0m Trial 63 finished with value: 0.04458548821833126 and parameters: {'min_child_samples': 25}. Best is trial 63 with value: 0.04458548821833126.\u001b[0m\n",
            "min_data_in_leaf, val_score: 0.044573:  20%|##        | 1/5 [00:00<00:02,  1.97it/s]"
          ]
        },
        {
          "output_type": "stream",
          "name": "stdout",
          "text": [
            "[200]\ttrain's binary_logloss: 0.0455673\teval's binary_logloss: 0.0447723\n",
            "[300]\ttrain's binary_logloss: 0.0454696\teval's binary_logloss: 0.0446605\n",
            "Early stopping, best iteration is:\n",
            "[240]\ttrain's binary_logloss: 0.0455091\teval's binary_logloss: 0.0445855\n",
            "Training until validation scores don't improve for 100 rounds\n",
            "[100]\ttrain's binary_logloss: 0.0458304\teval's binary_logloss: 0.0452294\n",
            "[200]\ttrain's binary_logloss: 0.0456623\teval's binary_logloss: 0.0448009\n",
            "[300]\ttrain's binary_logloss: 0.0455758\teval's binary_logloss: 0.0447037\n"
          ]
        },
        {
          "output_type": "stream",
          "name": "stderr",
          "text": [
            "min_data_in_leaf, val_score: 0.044573:  40%|####      | 2/5 [00:01<00:01,  1.80it/s]\u001b[32m[I 2021-09-05 00:36:14,061]\u001b[0m Trial 64 finished with value: 0.04463456178077611 and parameters: {'min_child_samples': 100}. Best is trial 63 with value: 0.04458548821833126.\u001b[0m\n",
            "min_data_in_leaf, val_score: 0.044573:  40%|####      | 2/5 [00:01<00:01,  1.80it/s]"
          ]
        },
        {
          "output_type": "stream",
          "name": "stdout",
          "text": [
            "[400]\ttrain's binary_logloss: 0.0455415\teval's binary_logloss: 0.044653\n",
            "Early stopping, best iteration is:\n",
            "[315]\ttrain's binary_logloss: 0.0455586\teval's binary_logloss: 0.0446346\n",
            "Training until validation scores don't improve for 100 rounds\n",
            "[100]\ttrain's binary_logloss: 0.0458461\teval's binary_logloss: 0.0454365\n",
            "[200]\ttrain's binary_logloss: 0.0456186\teval's binary_logloss: 0.0448287\n"
          ]
        },
        {
          "output_type": "stream",
          "name": "stderr",
          "text": [
            "min_data_in_leaf, val_score: 0.044573:  60%|######    | 3/5 [00:01<00:01,  1.76it/s]\u001b[32m[I 2021-09-05 00:36:14,643]\u001b[0m Trial 65 finished with value: 0.04468789979136157 and parameters: {'min_child_samples': 50}. Best is trial 63 with value: 0.04458548821833126.\u001b[0m\n",
            "min_data_in_leaf, val_score: 0.044573:  60%|######    | 3/5 [00:01<00:01,  1.76it/s]"
          ]
        },
        {
          "output_type": "stream",
          "name": "stdout",
          "text": [
            "[300]\ttrain's binary_logloss: 0.0455372\teval's binary_logloss: 0.0447581\n",
            "[400]\ttrain's binary_logloss: 0.0454959\teval's binary_logloss: 0.0447363\n",
            "Early stopping, best iteration is:\n",
            "[315]\ttrain's binary_logloss: 0.0455233\teval's binary_logloss: 0.0446879\n",
            "Training until validation scores don't improve for 100 rounds\n",
            "[100]\ttrain's binary_logloss: 0.045624\teval's binary_logloss: 0.0448068\n",
            "[200]\ttrain's binary_logloss: 0.0455098\teval's binary_logloss: 0.0446275\n",
            "[300]\ttrain's binary_logloss: 0.0454308\teval's binary_logloss: 0.0446547\n",
            "Early stopping, best iteration is:\n",
            "[239]\ttrain's binary_logloss: 0.0454716\teval's binary_logloss: 0.0445653\n"
          ]
        },
        {
          "output_type": "stream",
          "name": "stderr",
          "text": [
            "min_data_in_leaf, val_score: 0.044565:  80%|########  | 4/5 [00:02<00:00,  1.81it/s]\u001b[32m[I 2021-09-05 00:36:15,172]\u001b[0m Trial 66 finished with value: 0.04456527805553691 and parameters: {'min_child_samples': 5}. Best is trial 66 with value: 0.04456527805553691.\u001b[0m\n",
            "min_data_in_leaf, val_score: 0.044565:  80%|########  | 4/5 [00:02<00:00,  1.81it/s]"
          ]
        },
        {
          "output_type": "stream",
          "name": "stdout",
          "text": [
            "Training until validation scores don't improve for 100 rounds\n",
            "[100]\ttrain's binary_logloss: 0.0456277\teval's binary_logloss: 0.0448455\n"
          ]
        },
        {
          "output_type": "stream",
          "name": "stderr",
          "text": [
            "min_data_in_leaf, val_score: 0.044565: 100%|##########| 5/5 [00:02<00:00,  1.87it/s]\u001b[32m[I 2021-09-05 00:36:15,673]\u001b[0m Trial 67 finished with value: 0.044605677406450404 and parameters: {'min_child_samples': 10}. Best is trial 66 with value: 0.04456527805553691.\u001b[0m\n",
            "min_data_in_leaf, val_score: 0.044565: 100%|##########| 5/5 [00:02<00:00,  1.84it/s]"
          ]
        },
        {
          "output_type": "stream",
          "name": "stdout",
          "text": [
            "[200]\ttrain's binary_logloss: 0.0455152\teval's binary_logloss: 0.0446844\n",
            "[300]\ttrain's binary_logloss: 0.0454324\teval's binary_logloss: 0.0446813\n",
            "Early stopping, best iteration is:\n",
            "[239]\ttrain's binary_logloss: 0.0454752\teval's binary_logloss: 0.0446057\n"
          ]
        },
        {
          "output_type": "stream",
          "name": "stderr",
          "text": [
            "\n",
            "Best Params 3 - {'objective': 'binary', 'metric': 'binary_logloss', 'num_class': 1, 'device_type': 'gpu', 'seed': 443, 'verbosity': -1, 'feature_pre_filter': False, 'lambda_l1': 0.0037971158128982502, 'lambda_l2': 2.0038691024777453e-07, 'num_leaves': 7, 'feature_fraction': 0.5, 'bagging_fraction': 0.7488000903747634, 'bagging_freq': 5, 'min_child_samples': 5, 'num_iterations': 10000, 'early_stopping_round': 100}\n",
            "Result 3 - Score: 0.9692355988070945, time: 36s\n",
            "Result 3 - Save Best Model\n",
            "========== fold: 3 result ==========\n",
            "Score: 0.96924\n",
            "========== fold: 4 training ==========\n",
            "\u001b[32m[I 2021-09-05 00:36:15,739]\u001b[0m A new study created in memory with name: no-name-50a2ecd5-345d-4bcc-a172-29f5385c9fb3\u001b[0m\n",
            "feature_fraction, val_score: inf:   0%|          | 0/7 [00:00<?, ?it/s]"
          ]
        },
        {
          "output_type": "stream",
          "name": "stdout",
          "text": [
            "Training until validation scores don't improve for 100 rounds\n",
            "[100]\ttrain's binary_logloss: 0.0450858\teval's binary_logloss: 0.0472883\n",
            "Early stopping, best iteration is:\n",
            "[68]\ttrain's binary_logloss: 0.045308\teval's binary_logloss: 0.0471498\n"
          ]
        },
        {
          "output_type": "stream",
          "name": "stderr",
          "text": [
            "feature_fraction, val_score: 0.047150:  14%|#4        | 1/7 [00:00<00:01,  3.03it/s]\u001b[32m[I 2021-09-05 00:36:16,074]\u001b[0m Trial 0 finished with value: 0.04714984654075103 and parameters: {'feature_fraction': 0.6}. Best is trial 0 with value: 0.04714984654075103.\u001b[0m\n",
            "feature_fraction, val_score: 0.047150:  29%|##8       | 2/7 [00:00<00:01,  3.25it/s]\u001b[32m[I 2021-09-05 00:36:16,367]\u001b[0m Trial 1 finished with value: 0.04742352895581692 and parameters: {'feature_fraction': 0.7}. Best is trial 0 with value: 0.04714984654075103.\u001b[0m\n"
          ]
        },
        {
          "output_type": "stream",
          "name": "stdout",
          "text": [
            "Training until validation scores don't improve for 100 rounds\n",
            "[100]\ttrain's binary_logloss: 0.0447801\teval's binary_logloss: 0.0476702\n",
            "Early stopping, best iteration is:\n",
            "[53]\ttrain's binary_logloss: 0.0449885\teval's binary_logloss: 0.0474235\n"
          ]
        },
        {
          "output_type": "stream",
          "name": "stderr",
          "text": [
            "feature_fraction, val_score: 0.047062:  43%|####2     | 3/7 [00:00<00:01,  3.32it/s]\u001b[32m[I 2021-09-05 00:36:16,659]\u001b[0m Trial 2 finished with value: 0.04706235350830211 and parameters: {'feature_fraction': 0.4}. Best is trial 2 with value: 0.04706235350830211.\u001b[0m\n",
            "feature_fraction, val_score: 0.047062:  43%|####2     | 3/7 [00:00<00:01,  3.32it/s]"
          ]
        },
        {
          "output_type": "stream",
          "name": "stdout",
          "text": [
            "Training until validation scores don't improve for 100 rounds\n",
            "[100]\ttrain's binary_logloss: 0.045844\teval's binary_logloss: 0.0471498\n",
            "Early stopping, best iteration is:\n",
            "[64]\ttrain's binary_logloss: 0.0461039\teval's binary_logloss: 0.0470624\n",
            "Training until validation scores don't improve for 100 rounds\n",
            "[100]\ttrain's binary_logloss: 0.0447644\teval's binary_logloss: 0.0479483\n",
            "Early stopping, best iteration is:\n",
            "[47]\ttrain's binary_logloss: 0.0451002\teval's binary_logloss: 0.0473957\n"
          ]
        },
        {
          "output_type": "stream",
          "name": "stderr",
          "text": [
            "feature_fraction, val_score: 0.047062:  57%|#####7    | 4/7 [00:01<00:00,  3.27it/s]\u001b[32m[I 2021-09-05 00:36:16,974]\u001b[0m Trial 3 finished with value: 0.04739566959871397 and parameters: {'feature_fraction': 0.8999999999999999}. Best is trial 2 with value: 0.04706235350830211.\u001b[0m\n",
            "feature_fraction, val_score: 0.047062:  71%|#######1  | 5/7 [00:01<00:00,  3.30it/s]\u001b[32m[I 2021-09-05 00:36:17,272]\u001b[0m Trial 4 finished with value: 0.04742352895581692 and parameters: {'feature_fraction': 0.8}. Best is trial 2 with value: 0.04706235350830211.\u001b[0m\n"
          ]
        },
        {
          "output_type": "stream",
          "name": "stdout",
          "text": [
            "Training until validation scores don't improve for 100 rounds\n",
            "[100]\ttrain's binary_logloss: 0.0447801\teval's binary_logloss: 0.0476702\n",
            "Early stopping, best iteration is:\n",
            "[53]\ttrain's binary_logloss: 0.0449885\teval's binary_logloss: 0.0474235\n"
          ]
        },
        {
          "output_type": "stream",
          "name": "stderr",
          "text": [
            "\rfeature_fraction, val_score: 0.047062:  71%|#######1  | 5/7 [00:01<00:00,  3.30it/s]"
          ]
        },
        {
          "output_type": "stream",
          "name": "stdout",
          "text": [
            "Training until validation scores don't improve for 100 rounds\n",
            "[100]\ttrain's binary_logloss: 0.0447644\teval's binary_logloss: 0.0479483\n",
            "Early stopping, best iteration is:\n",
            "[47]\ttrain's binary_logloss: 0.0451002\teval's binary_logloss: 0.0473957\n"
          ]
        },
        {
          "output_type": "stream",
          "name": "stderr",
          "text": [
            "feature_fraction, val_score: 0.047062:  86%|########5 | 6/7 [00:01<00:00,  3.28it/s]\u001b[32m[I 2021-09-05 00:36:17,579]\u001b[0m Trial 5 finished with value: 0.04739566959871397 and parameters: {'feature_fraction': 1.0}. Best is trial 2 with value: 0.04706235350830211.\u001b[0m\n",
            "feature_fraction, val_score: 0.047062: 100%|##########| 7/7 [00:02<00:00,  3.32it/s]\u001b[32m[I 2021-09-05 00:36:17,874]\u001b[0m Trial 6 finished with value: 0.04714984654075103 and parameters: {'feature_fraction': 0.5}. Best is trial 2 with value: 0.04706235350830211.\u001b[0m\n",
            "feature_fraction, val_score: 0.047062: 100%|##########| 7/7 [00:02<00:00,  3.28it/s]"
          ]
        },
        {
          "output_type": "stream",
          "name": "stdout",
          "text": [
            "Training until validation scores don't improve for 100 rounds\n",
            "[100]\ttrain's binary_logloss: 0.0450858\teval's binary_logloss: 0.0472883\n",
            "Early stopping, best iteration is:\n",
            "[68]\ttrain's binary_logloss: 0.045308\teval's binary_logloss: 0.0471498\n"
          ]
        },
        {
          "output_type": "stream",
          "name": "stderr",
          "text": [
            "\n",
            "num_leaves, val_score: 0.047062:   5%|5         | 1/20 [00:00<00:05,  3.56it/s]\u001b[32m[I 2021-09-05 00:36:18,172]\u001b[0m Trial 7 finished with value: 0.04706235350830211 and parameters: {'num_leaves': 51}. Best is trial 7 with value: 0.04706235350830211.\u001b[0m\n",
            "num_leaves, val_score: 0.047062:   5%|5         | 1/20 [00:00<00:05,  3.56it/s]"
          ]
        },
        {
          "output_type": "stream",
          "name": "stdout",
          "text": [
            "Training until validation scores don't improve for 100 rounds\n",
            "[100]\ttrain's binary_logloss: 0.045844\teval's binary_logloss: 0.0471498\n",
            "Early stopping, best iteration is:\n",
            "[64]\ttrain's binary_logloss: 0.0461039\teval's binary_logloss: 0.0470624\n"
          ]
        },
        {
          "output_type": "stream",
          "name": "stderr",
          "text": [
            "num_leaves, val_score: 0.047062:  10%|#         | 2/20 [00:00<00:05,  3.47it/s]\u001b[32m[I 2021-09-05 00:36:18,464]\u001b[0m Trial 8 finished with value: 0.04706235350830211 and parameters: {'num_leaves': 199}. Best is trial 7 with value: 0.04706235350830211.\u001b[0m\n",
            "num_leaves, val_score: 0.047062:  10%|#         | 2/20 [00:00<00:05,  3.47it/s]"
          ]
        },
        {
          "output_type": "stream",
          "name": "stdout",
          "text": [
            "Training until validation scores don't improve for 100 rounds\n",
            "[100]\ttrain's binary_logloss: 0.045844\teval's binary_logloss: 0.0471498\n",
            "Early stopping, best iteration is:\n",
            "[64]\ttrain's binary_logloss: 0.0461039\teval's binary_logloss: 0.0470624\n"
          ]
        },
        {
          "output_type": "stream",
          "name": "stderr",
          "text": [
            "num_leaves, val_score: 0.047062:  15%|#5        | 3/20 [00:00<00:04,  3.45it/s]\u001b[32m[I 2021-09-05 00:36:18,755]\u001b[0m Trial 9 finished with value: 0.04706235350830211 and parameters: {'num_leaves': 80}. Best is trial 7 with value: 0.04706235350830211.\u001b[0m\n",
            "num_leaves, val_score: 0.047062:  15%|#5        | 3/20 [00:00<00:04,  3.45it/s]"
          ]
        },
        {
          "output_type": "stream",
          "name": "stdout",
          "text": [
            "Training until validation scores don't improve for 100 rounds\n",
            "[100]\ttrain's binary_logloss: 0.045844\teval's binary_logloss: 0.0471498\n",
            "Early stopping, best iteration is:\n",
            "[64]\ttrain's binary_logloss: 0.0461039\teval's binary_logloss: 0.0470624\n"
          ]
        },
        {
          "output_type": "stream",
          "name": "stderr",
          "text": [
            "num_leaves, val_score: 0.047062:  20%|##        | 4/20 [00:01<00:04,  3.46it/s]\u001b[32m[I 2021-09-05 00:36:19,042]\u001b[0m Trial 10 finished with value: 0.04706235350830211 and parameters: {'num_leaves': 147}. Best is trial 7 with value: 0.04706235350830211.\u001b[0m\n",
            "num_leaves, val_score: 0.047062:  20%|##        | 4/20 [00:01<00:04,  3.46it/s]"
          ]
        },
        {
          "output_type": "stream",
          "name": "stdout",
          "text": [
            "Training until validation scores don't improve for 100 rounds\n",
            "[100]\ttrain's binary_logloss: 0.045844\teval's binary_logloss: 0.0471498\n",
            "Early stopping, best iteration is:\n",
            "[64]\ttrain's binary_logloss: 0.0461039\teval's binary_logloss: 0.0470624\n",
            "Training until validation scores don't improve for 100 rounds\n"
          ]
        },
        {
          "output_type": "stream",
          "name": "stderr",
          "text": [
            "num_leaves, val_score: 0.047062:  25%|##5       | 5/20 [00:01<00:05,  2.67it/s]\u001b[32m[I 2021-09-05 00:36:19,570]\u001b[0m Trial 11 finished with value: 0.04706235350830211 and parameters: {'num_leaves': 135}. Best is trial 7 with value: 0.04706235350830211.\u001b[0m\n",
            "num_leaves, val_score: 0.047062:  25%|##5       | 5/20 [00:01<00:05,  2.67it/s]"
          ]
        },
        {
          "output_type": "stream",
          "name": "stdout",
          "text": [
            "[100]\ttrain's binary_logloss: 0.045844\teval's binary_logloss: 0.0471498\n",
            "Early stopping, best iteration is:\n",
            "[64]\ttrain's binary_logloss: 0.0461039\teval's binary_logloss: 0.0470624\n",
            "Training until validation scores don't improve for 100 rounds\n"
          ]
        },
        {
          "output_type": "stream",
          "name": "stderr",
          "text": [
            "num_leaves, val_score: 0.047062:  30%|###       | 6/20 [00:01<00:04,  2.87it/s]\u001b[32m[I 2021-09-05 00:36:19,868]\u001b[0m Trial 12 finished with value: 0.04706235350830211 and parameters: {'num_leaves': 220}. Best is trial 7 with value: 0.04706235350830211.\u001b[0m\n",
            "num_leaves, val_score: 0.047062:  30%|###       | 6/20 [00:01<00:04,  2.87it/s]"
          ]
        },
        {
          "output_type": "stream",
          "name": "stdout",
          "text": [
            "[100]\ttrain's binary_logloss: 0.045844\teval's binary_logloss: 0.0471498\n",
            "Early stopping, best iteration is:\n",
            "[64]\ttrain's binary_logloss: 0.0461039\teval's binary_logloss: 0.0470624\n",
            "Training until validation scores don't improve for 100 rounds\n"
          ]
        },
        {
          "output_type": "stream",
          "name": "stderr",
          "text": [
            "num_leaves, val_score: 0.047062:  35%|###5      | 7/20 [00:02<00:04,  2.97it/s]\u001b[32m[I 2021-09-05 00:36:20,181]\u001b[0m Trial 13 finished with value: 0.04706235350830211 and parameters: {'num_leaves': 181}. Best is trial 7 with value: 0.04706235350830211.\u001b[0m\n",
            "num_leaves, val_score: 0.047062:  35%|###5      | 7/20 [00:02<00:04,  2.97it/s]"
          ]
        },
        {
          "output_type": "stream",
          "name": "stdout",
          "text": [
            "[100]\ttrain's binary_logloss: 0.045844\teval's binary_logloss: 0.0471498\n",
            "Early stopping, best iteration is:\n",
            "[64]\ttrain's binary_logloss: 0.0461039\teval's binary_logloss: 0.0470624\n",
            "Training until validation scores don't improve for 100 rounds\n"
          ]
        },
        {
          "output_type": "stream",
          "name": "stderr",
          "text": [
            "num_leaves, val_score: 0.047062:  40%|####      | 8/20 [00:02<00:03,  3.10it/s]\u001b[32m[I 2021-09-05 00:36:20,473]\u001b[0m Trial 14 finished with value: 0.04706235350830211 and parameters: {'num_leaves': 93}. Best is trial 7 with value: 0.04706235350830211.\u001b[0m\n",
            "num_leaves, val_score: 0.047062:  40%|####      | 8/20 [00:02<00:03,  3.10it/s]"
          ]
        },
        {
          "output_type": "stream",
          "name": "stdout",
          "text": [
            "[100]\ttrain's binary_logloss: 0.045844\teval's binary_logloss: 0.0471498\n",
            "Early stopping, best iteration is:\n",
            "[64]\ttrain's binary_logloss: 0.0461039\teval's binary_logloss: 0.0470624\n",
            "Training until validation scores don't improve for 100 rounds\n"
          ]
        },
        {
          "output_type": "stream",
          "name": "stderr",
          "text": [
            "num_leaves, val_score: 0.047062:  45%|####5     | 9/20 [00:02<00:03,  3.22it/s]\u001b[32m[I 2021-09-05 00:36:20,758]\u001b[0m Trial 15 finished with value: 0.04706235350830211 and parameters: {'num_leaves': 56}. Best is trial 7 with value: 0.04706235350830211.\u001b[0m\n",
            "num_leaves, val_score: 0.047062:  45%|####5     | 9/20 [00:02<00:03,  3.22it/s]"
          ]
        },
        {
          "output_type": "stream",
          "name": "stdout",
          "text": [
            "[100]\ttrain's binary_logloss: 0.045844\teval's binary_logloss: 0.0471498\n",
            "Early stopping, best iteration is:\n",
            "[64]\ttrain's binary_logloss: 0.0461039\teval's binary_logloss: 0.0470624\n",
            "Training until validation scores don't improve for 100 rounds\n"
          ]
        },
        {
          "output_type": "stream",
          "name": "stderr",
          "text": [
            "num_leaves, val_score: 0.047062:  50%|#####     | 10/20 [00:03<00:03,  3.21it/s]\u001b[32m[I 2021-09-05 00:36:21,070]\u001b[0m Trial 16 finished with value: 0.04706235350830211 and parameters: {'num_leaves': 190}. Best is trial 7 with value: 0.04706235350830211.\u001b[0m\n",
            "num_leaves, val_score: 0.047062:  50%|#####     | 10/20 [00:03<00:03,  3.21it/s]"
          ]
        },
        {
          "output_type": "stream",
          "name": "stdout",
          "text": [
            "[100]\ttrain's binary_logloss: 0.045844\teval's binary_logloss: 0.0471498\n",
            "Early stopping, best iteration is:\n",
            "[64]\ttrain's binary_logloss: 0.0461039\teval's binary_logloss: 0.0470624\n",
            "Training until validation scores don't improve for 100 rounds\n",
            "[100]\ttrain's binary_logloss: 0.0458656\teval's binary_logloss: 0.0470817\n",
            "Early stopping, best iteration is:\n",
            "[89]\ttrain's binary_logloss: 0.0459188\teval's binary_logloss: 0.047049\n"
          ]
        },
        {
          "output_type": "stream",
          "name": "stderr",
          "text": [
            "num_leaves, val_score: 0.047049:  55%|#####5    | 11/20 [00:03<00:02,  3.17it/s]\u001b[32m[I 2021-09-05 00:36:21,397]\u001b[0m Trial 17 finished with value: 0.0470490484631262 and parameters: {'num_leaves': 3}. Best is trial 17 with value: 0.0470490484631262.\u001b[0m\n",
            "num_leaves, val_score: 0.047049:  60%|######    | 12/20 [00:03<00:02,  3.23it/s]\u001b[32m[I 2021-09-05 00:36:21,691]\u001b[0m Trial 18 finished with value: 0.04706235350830211 and parameters: {'num_leaves': 5}. Best is trial 17 with value: 0.0470490484631262.\u001b[0m\n",
            "num_leaves, val_score: 0.047049:  60%|######    | 12/20 [00:03<00:02,  3.23it/s]"
          ]
        },
        {
          "output_type": "stream",
          "name": "stdout",
          "text": [
            "Training until validation scores don't improve for 100 rounds\n",
            "[100]\ttrain's binary_logloss: 0.045844\teval's binary_logloss: 0.0471498\n",
            "Early stopping, best iteration is:\n",
            "[64]\ttrain's binary_logloss: 0.0461039\teval's binary_logloss: 0.0470624\n"
          ]
        },
        {
          "output_type": "stream",
          "name": "stderr",
          "text": [
            "\rnum_leaves, val_score: 0.047049:  60%|######    | 12/20 [00:04<00:02,  3.23it/s]"
          ]
        },
        {
          "output_type": "stream",
          "name": "stdout",
          "text": [
            "Training until validation scores don't improve for 100 rounds\n",
            "[100]\ttrain's binary_logloss: 0.0458656\teval's binary_logloss: 0.0470817\n",
            "Early stopping, best iteration is:\n",
            "[89]\ttrain's binary_logloss: 0.0459188\teval's binary_logloss: 0.047049\n"
          ]
        },
        {
          "output_type": "stream",
          "name": "stderr",
          "text": [
            "num_leaves, val_score: 0.047049:  65%|######5   | 13/20 [00:04<00:02,  3.24it/s]\u001b[32m[I 2021-09-05 00:36:21,998]\u001b[0m Trial 19 finished with value: 0.0470490484631262 and parameters: {'num_leaves': 3}. Best is trial 17 with value: 0.0470490484631262.\u001b[0m\n",
            "num_leaves, val_score: 0.047049:  70%|#######   | 14/20 [00:04<00:01,  3.25it/s]\u001b[32m[I 2021-09-05 00:36:22,302]\u001b[0m Trial 20 finished with value: 0.04704904846312619 and parameters: {'num_leaves': 3}. Best is trial 20 with value: 0.04704904846312619.\u001b[0m\n"
          ]
        },
        {
          "output_type": "stream",
          "name": "stdout",
          "text": [
            "Training until validation scores don't improve for 100 rounds\n",
            "[100]\ttrain's binary_logloss: 0.0458656\teval's binary_logloss: 0.0470817\n",
            "Early stopping, best iteration is:\n",
            "[89]\ttrain's binary_logloss: 0.0459188\teval's binary_logloss: 0.047049\n"
          ]
        },
        {
          "output_type": "stream",
          "name": "stderr",
          "text": [
            "num_leaves, val_score: 0.047049:  75%|#######5  | 15/20 [00:04<00:01,  3.33it/s]\u001b[32m[I 2021-09-05 00:36:22,587]\u001b[0m Trial 21 finished with value: 0.047062353508302096 and parameters: {'num_leaves': 45}. Best is trial 20 with value: 0.04704904846312619.\u001b[0m\n",
            "num_leaves, val_score: 0.047049:  75%|#######5  | 15/20 [00:04<00:01,  3.33it/s]"
          ]
        },
        {
          "output_type": "stream",
          "name": "stdout",
          "text": [
            "Training until validation scores don't improve for 100 rounds\n",
            "[100]\ttrain's binary_logloss: 0.045844\teval's binary_logloss: 0.0471498\n",
            "Early stopping, best iteration is:\n",
            "[64]\ttrain's binary_logloss: 0.0461039\teval's binary_logloss: 0.0470624\n"
          ]
        },
        {
          "output_type": "stream",
          "name": "stderr",
          "text": [
            "num_leaves, val_score: 0.047049:  80%|########  | 16/20 [00:04<00:01,  3.38it/s]\u001b[32m[I 2021-09-05 00:36:22,872]\u001b[0m Trial 22 finished with value: 0.04706235350830211 and parameters: {'num_leaves': 25}. Best is trial 20 with value: 0.04704904846312619.\u001b[0m\n",
            "num_leaves, val_score: 0.047049:  80%|########  | 16/20 [00:04<00:01,  3.38it/s]"
          ]
        },
        {
          "output_type": "stream",
          "name": "stdout",
          "text": [
            "Training until validation scores don't improve for 100 rounds\n",
            "[100]\ttrain's binary_logloss: 0.045844\teval's binary_logloss: 0.0471498\n",
            "Early stopping, best iteration is:\n",
            "[64]\ttrain's binary_logloss: 0.0461039\teval's binary_logloss: 0.0470624\n"
          ]
        },
        {
          "output_type": "stream",
          "name": "stderr",
          "text": [
            "\rnum_leaves, val_score: 0.047049:  80%|########  | 16/20 [00:05<00:01,  3.38it/s]"
          ]
        },
        {
          "output_type": "stream",
          "name": "stdout",
          "text": [
            "Training until validation scores don't improve for 100 rounds\n",
            "[100]\ttrain's binary_logloss: 0.045844\teval's binary_logloss: 0.0471498\n",
            "Early stopping, best iteration is:\n",
            "[64]\ttrain's binary_logloss: 0.0461039\teval's binary_logloss: 0.0470624\n"
          ]
        },
        {
          "output_type": "stream",
          "name": "stderr",
          "text": [
            "num_leaves, val_score: 0.047049:  85%|########5 | 17/20 [00:05<00:00,  3.34it/s]\u001b[32m[I 2021-09-05 00:36:23,178]\u001b[0m Trial 23 finished with value: 0.04706235350830211 and parameters: {'num_leaves': 98}. Best is trial 20 with value: 0.04704904846312619.\u001b[0m\n",
            "num_leaves, val_score: 0.047049:  90%|######### | 18/20 [00:05<00:00,  3.36it/s]\u001b[32m[I 2021-09-05 00:36:23,472]\u001b[0m Trial 24 finished with value: 0.04706235350830211 and parameters: {'num_leaves': 25}. Best is trial 20 with value: 0.04704904846312619.\u001b[0m\n",
            "num_leaves, val_score: 0.047049:  90%|######### | 18/20 [00:05<00:00,  3.36it/s]"
          ]
        },
        {
          "output_type": "stream",
          "name": "stdout",
          "text": [
            "Training until validation scores don't improve for 100 rounds\n",
            "[100]\ttrain's binary_logloss: 0.045844\teval's binary_logloss: 0.0471498\n",
            "Early stopping, best iteration is:\n",
            "[64]\ttrain's binary_logloss: 0.0461039\teval's binary_logloss: 0.0470624\n"
          ]
        },
        {
          "output_type": "stream",
          "name": "stderr",
          "text": [
            "num_leaves, val_score: 0.047049:  95%|#########5| 19/20 [00:05<00:00,  3.40it/s]\u001b[32m[I 2021-09-05 00:36:23,758]\u001b[0m Trial 25 finished with value: 0.04706235350830211 and parameters: {'num_leaves': 112}. Best is trial 20 with value: 0.04704904846312619.\u001b[0m\n",
            "num_leaves, val_score: 0.047049:  95%|#########5| 19/20 [00:05<00:00,  3.40it/s]"
          ]
        },
        {
          "output_type": "stream",
          "name": "stdout",
          "text": [
            "Training until validation scores don't improve for 100 rounds\n",
            "[100]\ttrain's binary_logloss: 0.045844\teval's binary_logloss: 0.0471498\n",
            "Early stopping, best iteration is:\n",
            "[64]\ttrain's binary_logloss: 0.0461039\teval's binary_logloss: 0.0470624\n"
          ]
        },
        {
          "output_type": "stream",
          "name": "stderr",
          "text": [
            "num_leaves, val_score: 0.047049: 100%|##########| 20/20 [00:06<00:00,  3.39it/s]\u001b[32m[I 2021-09-05 00:36:24,055]\u001b[0m Trial 26 finished with value: 0.04706235350830211 and parameters: {'num_leaves': 66}. Best is trial 20 with value: 0.04704904846312619.\u001b[0m\n",
            "num_leaves, val_score: 0.047049: 100%|##########| 20/20 [00:06<00:00,  3.24it/s]\n"
          ]
        },
        {
          "output_type": "stream",
          "name": "stdout",
          "text": [
            "Training until validation scores don't improve for 100 rounds\n",
            "[100]\ttrain's binary_logloss: 0.045844\teval's binary_logloss: 0.0471498\n",
            "Early stopping, best iteration is:\n",
            "[64]\ttrain's binary_logloss: 0.0461039\teval's binary_logloss: 0.0470624\n"
          ]
        },
        {
          "output_type": "stream",
          "name": "stderr",
          "text": [
            "bagging, val_score: 0.046913:  10%|#         | 1/10 [00:00<00:02,  3.49it/s]\u001b[32m[I 2021-09-05 00:36:24,353]\u001b[0m Trial 27 finished with value: 0.04691339835139131 and parameters: {'bagging_fraction': 0.6604060757483985, 'bagging_freq': 7}. Best is trial 27 with value: 0.04691339835139131.\u001b[0m\n",
            "bagging, val_score: 0.046913:  10%|#         | 1/10 [00:00<00:02,  3.49it/s]"
          ]
        },
        {
          "output_type": "stream",
          "name": "stdout",
          "text": [
            "Training until validation scores don't improve for 100 rounds\n",
            "[100]\ttrain's binary_logloss: 0.0459158\teval's binary_logloss: 0.0471182\n",
            "Early stopping, best iteration is:\n",
            "[64]\ttrain's binary_logloss: 0.0462007\teval's binary_logloss: 0.0469134\n",
            "Training until validation scores don't improve for 100 rounds\n",
            "[100]\ttrain's binary_logloss: 0.0461189\teval's binary_logloss: 0.0470327\n"
          ]
        },
        {
          "output_type": "stream",
          "name": "stderr",
          "text": [
            "bagging, val_score: 0.046876:  20%|##        | 2/10 [00:00<00:03,  2.58it/s]\u001b[32m[I 2021-09-05 00:36:24,810]\u001b[0m Trial 28 finished with value: 0.046876083624247035 and parameters: {'bagging_fraction': 0.42520066035616677, 'bagging_freq': 1}. Best is trial 28 with value: 0.046876083624247035.\u001b[0m\n",
            "bagging, val_score: 0.046876:  20%|##        | 2/10 [00:00<00:03,  2.58it/s]"
          ]
        },
        {
          "output_type": "stream",
          "name": "stdout",
          "text": [
            "[200]\ttrain's binary_logloss: 0.0458767\teval's binary_logloss: 0.0470823\n",
            "Early stopping, best iteration is:\n",
            "[186]\ttrain's binary_logloss: 0.0459156\teval's binary_logloss: 0.0468761\n",
            "Training until validation scores don't improve for 100 rounds\n",
            "[100]\ttrain's binary_logloss: 0.0461453\teval's binary_logloss: 0.0470128\n",
            "[200]\ttrain's binary_logloss: 0.0458552\teval's binary_logloss: 0.0469076\n"
          ]
        },
        {
          "output_type": "stream",
          "name": "stderr",
          "text": [
            "bagging, val_score: 0.046749:  30%|###       | 3/10 [00:01<00:02,  2.46it/s]\u001b[32m[I 2021-09-05 00:36:25,238]\u001b[0m Trial 29 finished with value: 0.046749079597369715 and parameters: {'bagging_fraction': 0.41618697722310943, 'bagging_freq': 6}. Best is trial 29 with value: 0.046749079597369715.\u001b[0m\n",
            "bagging, val_score: 0.046749:  30%|###       | 3/10 [00:01<00:02,  2.46it/s]"
          ]
        },
        {
          "output_type": "stream",
          "name": "stdout",
          "text": [
            "[300]\ttrain's binary_logloss: 0.0457619\teval's binary_logloss: 0.0471872\n",
            "Early stopping, best iteration is:\n",
            "[234]\ttrain's binary_logloss: 0.0458581\teval's binary_logloss: 0.0467491\n",
            "Training until validation scores don't improve for 100 rounds\n"
          ]
        },
        {
          "output_type": "stream",
          "name": "stderr",
          "text": [
            "bagging, val_score: 0.046749:  40%|####      | 4/10 [00:01<00:02,  2.73it/s]\u001b[32m[I 2021-09-05 00:36:25,546]\u001b[0m Trial 30 finished with value: 0.04704768285175435 and parameters: {'bagging_fraction': 0.929804114876502, 'bagging_freq': 6}. Best is trial 29 with value: 0.046749079597369715.\u001b[0m\n",
            "bagging, val_score: 0.046749:  40%|####      | 4/10 [00:01<00:02,  2.73it/s]"
          ]
        },
        {
          "output_type": "stream",
          "name": "stdout",
          "text": [
            "[100]\ttrain's binary_logloss: 0.0458884\teval's binary_logloss: 0.0471294\n",
            "Early stopping, best iteration is:\n",
            "[76]\ttrain's binary_logloss: 0.0460256\teval's binary_logloss: 0.0470477\n",
            "Training until validation scores don't improve for 100 rounds\n",
            "[100]\ttrain's binary_logloss: 0.0458798\teval's binary_logloss: 0.0470349\n",
            "[200]\ttrain's binary_logloss: 0.045742\teval's binary_logloss: 0.0471975\n"
          ]
        },
        {
          "output_type": "stream",
          "name": "stderr",
          "text": [
            "bagging, val_score: 0.046749:  50%|#####     | 5/10 [00:01<00:01,  2.78it/s]\u001b[32m[I 2021-09-05 00:36:25,895]\u001b[0m Trial 31 finished with value: 0.04699294253958 and parameters: {'bagging_fraction': 0.7942605074875375, 'bagging_freq': 1}. Best is trial 29 with value: 0.046749079597369715.\u001b[0m\n",
            "bagging, val_score: 0.046749:  50%|#####     | 5/10 [00:01<00:01,  2.78it/s]"
          ]
        },
        {
          "output_type": "stream",
          "name": "stdout",
          "text": [
            "Early stopping, best iteration is:\n",
            "[107]\ttrain's binary_logloss: 0.0458604\teval's binary_logloss: 0.0469929\n",
            "Training until validation scores don't improve for 100 rounds\n",
            "[100]\ttrain's binary_logloss: 0.0459004\teval's binary_logloss: 0.0470876\n",
            "[200]\ttrain's binary_logloss: 0.0457511\teval's binary_logloss: 0.047173\n",
            "Early stopping, best iteration is:\n",
            "[189]\ttrain's binary_logloss: 0.0457727\teval's binary_logloss: 0.0470215\n"
          ]
        },
        {
          "output_type": "stream",
          "name": "stderr",
          "text": [
            "bagging, val_score: 0.046749:  60%|######    | 6/10 [00:02<00:01,  2.57it/s]\u001b[32m[I 2021-09-05 00:36:26,338]\u001b[0m Trial 32 finished with value: 0.04702153166368241 and parameters: {'bagging_fraction': 0.6490574528346064, 'bagging_freq': 1}. Best is trial 29 with value: 0.046749079597369715.\u001b[0m\n",
            "bagging, val_score: 0.046749:  60%|######    | 6/10 [00:02<00:01,  2.57it/s]"
          ]
        },
        {
          "output_type": "stream",
          "name": "stdout",
          "text": [
            "Training until validation scores don't improve for 100 rounds\n",
            "[100]\ttrain's binary_logloss: 0.0460989\teval's binary_logloss: 0.0471215\n",
            "[200]\ttrain's binary_logloss: 0.0458395\teval's binary_logloss: 0.0470181\n"
          ]
        },
        {
          "output_type": "stream",
          "name": "stderr",
          "text": [
            "bagging, val_score: 0.046749:  70%|#######   | 7/10 [00:02<00:01,  2.48it/s]\u001b[32m[I 2021-09-05 00:36:26,771]\u001b[0m Trial 33 finished with value: 0.046847788500261 and parameters: {'bagging_fraction': 0.4371940495555172, 'bagging_freq': 6}. Best is trial 29 with value: 0.046749079597369715.\u001b[0m\n",
            "bagging, val_score: 0.046749:  70%|#######   | 7/10 [00:02<00:01,  2.48it/s]"
          ]
        },
        {
          "output_type": "stream",
          "name": "stdout",
          "text": [
            "[300]\ttrain's binary_logloss: 0.0457469\teval's binary_logloss: 0.0471758\n",
            "Early stopping, best iteration is:\n",
            "[233]\ttrain's binary_logloss: 0.045833\teval's binary_logloss: 0.0468478\n",
            "Training until validation scores don't improve for 100 rounds\n"
          ]
        },
        {
          "output_type": "stream",
          "name": "stderr",
          "text": [
            "bagging, val_score: 0.046749:  80%|########  | 8/10 [00:02<00:00,  2.71it/s]\u001b[32m[I 2021-09-05 00:36:27,065]\u001b[0m Trial 34 finished with value: 0.04701247429673026 and parameters: {'bagging_fraction': 0.8611283387648454, 'bagging_freq': 4}. Best is trial 29 with value: 0.046749079597369715.\u001b[0m\n",
            "bagging, val_score: 0.046749:  80%|########  | 8/10 [00:03<00:00,  2.71it/s]"
          ]
        },
        {
          "output_type": "stream",
          "name": "stdout",
          "text": [
            "[100]\ttrain's binary_logloss: 0.0458829\teval's binary_logloss: 0.0470945\n",
            "Early stopping, best iteration is:\n",
            "[64]\ttrain's binary_logloss: 0.046141\teval's binary_logloss: 0.0470125\n",
            "Training until validation scores don't improve for 100 rounds\n",
            "[100]\ttrain's binary_logloss: 0.0459071\teval's binary_logloss: 0.047091\n",
            "[200]\ttrain's binary_logloss: 0.04576\teval's binary_logloss: 0.0471551\n",
            "Early stopping, best iteration is:\n",
            "[184]\ttrain's binary_logloss: 0.0457814\teval's binary_logloss: 0.0469899\n"
          ]
        },
        {
          "output_type": "stream",
          "name": "stderr",
          "text": [
            "bagging, val_score: 0.046749:  90%|######### | 9/10 [00:03<00:00,  2.57it/s]\u001b[32m[I 2021-09-05 00:36:27,501]\u001b[0m Trial 35 finished with value: 0.04698986516064466 and parameters: {'bagging_fraction': 0.616429759507241, 'bagging_freq': 1}. Best is trial 29 with value: 0.046749079597369715.\u001b[0m\n",
            "bagging, val_score: 0.046749: 100%|##########| 10/10 [00:03<00:00,  2.77it/s]\u001b[32m[I 2021-09-05 00:36:27,798]\u001b[0m Trial 36 finished with value: 0.046989935584472384 and parameters: {'bagging_fraction': 0.44705817217519883, 'bagging_freq': 2}. Best is trial 29 with value: 0.046749079597369715.\u001b[0m\n"
          ]
        },
        {
          "output_type": "stream",
          "name": "stdout",
          "text": [
            "Training until validation scores don't improve for 100 rounds\n",
            "[100]\ttrain's binary_logloss: 0.0460601\teval's binary_logloss: 0.0472456\n",
            "Early stopping, best iteration is:\n",
            "[76]\ttrain's binary_logloss: 0.0463019\teval's binary_logloss: 0.0469899\n"
          ]
        },
        {
          "output_type": "stream",
          "name": "stderr",
          "text": [
            "bagging, val_score: 0.046749: 100%|##########| 10/10 [00:03<00:00,  2.68it/s]\n",
            "feature_fraction_stage2, val_score: 0.046749:   0%|          | 0/3 [00:00<?, ?it/s]"
          ]
        },
        {
          "output_type": "stream",
          "name": "stdout",
          "text": [
            "Training until validation scores don't improve for 100 rounds\n",
            "[100]\ttrain's binary_logloss: 0.0461453\teval's binary_logloss: 0.0470128\n",
            "[200]\ttrain's binary_logloss: 0.0458552\teval's binary_logloss: 0.0469076\n"
          ]
        },
        {
          "output_type": "stream",
          "name": "stderr",
          "text": [
            "feature_fraction_stage2, val_score: 0.046749:  33%|###3      | 1/3 [00:00<00:00,  2.22it/s]\u001b[32m[I 2021-09-05 00:36:28,258]\u001b[0m Trial 37 finished with value: 0.04674907959736972 and parameters: {'feature_fraction': 0.48000000000000004}. Best is trial 37 with value: 0.04674907959736972.\u001b[0m\n",
            "feature_fraction_stage2, val_score: 0.046749:  33%|###3      | 1/3 [00:00<00:00,  2.22it/s]"
          ]
        },
        {
          "output_type": "stream",
          "name": "stdout",
          "text": [
            "[300]\ttrain's binary_logloss: 0.0457619\teval's binary_logloss: 0.0471872\n",
            "Early stopping, best iteration is:\n",
            "[234]\ttrain's binary_logloss: 0.0458581\teval's binary_logloss: 0.0467491\n",
            "Training until validation scores don't improve for 100 rounds\n",
            "[100]\ttrain's binary_logloss: 0.0461453\teval's binary_logloss: 0.0470128\n",
            "[200]\ttrain's binary_logloss: 0.0458552\teval's binary_logloss: 0.0469076\n",
            "[300]\ttrain's binary_logloss: 0.0457619\teval's binary_logloss: 0.0471872\n"
          ]
        },
        {
          "output_type": "stream",
          "name": "stderr",
          "text": [
            "feature_fraction_stage2, val_score: 0.046749:  67%|######6   | 2/3 [00:00<00:00,  2.20it/s]\u001b[32m[I 2021-09-05 00:36:28,714]\u001b[0m Trial 38 finished with value: 0.046749079597369715 and parameters: {'feature_fraction': 0.44800000000000006}. Best is trial 38 with value: 0.046749079597369715.\u001b[0m\n",
            "feature_fraction_stage2, val_score: 0.046749:  67%|######6   | 2/3 [00:00<00:00,  2.20it/s]"
          ]
        },
        {
          "output_type": "stream",
          "name": "stdout",
          "text": [
            "Early stopping, best iteration is:\n",
            "[234]\ttrain's binary_logloss: 0.0458581\teval's binary_logloss: 0.0467491\n",
            "Training until validation scores don't improve for 100 rounds\n",
            "[100]\ttrain's binary_logloss: 0.0461453\teval's binary_logloss: 0.0470128\n",
            "[200]\ttrain's binary_logloss: 0.0458552\teval's binary_logloss: 0.0469076\n",
            "[300]\ttrain's binary_logloss: 0.0457619\teval's binary_logloss: 0.0471872\n",
            "Early stopping, best iteration is:\n",
            "[234]\ttrain's binary_logloss: 0.0458581\teval's binary_logloss: 0.0467491\n"
          ]
        },
        {
          "output_type": "stream",
          "name": "stderr",
          "text": [
            "feature_fraction_stage2, val_score: 0.046749: 100%|##########| 3/3 [00:01<00:00,  2.26it/s]\u001b[32m[I 2021-09-05 00:36:29,144]\u001b[0m Trial 39 finished with value: 0.04674907959736972 and parameters: {'feature_fraction': 0.41600000000000004}. Best is trial 38 with value: 0.046749079597369715.\u001b[0m\n",
            "feature_fraction_stage2, val_score: 0.046749: 100%|##########| 3/3 [00:01<00:00,  2.24it/s]\n",
            "regularization_factors, val_score: 0.046749:   0%|          | 0/20 [00:00<?, ?it/s]"
          ]
        },
        {
          "output_type": "stream",
          "name": "stdout",
          "text": [
            "Training until validation scores don't improve for 100 rounds\n",
            "[100]\ttrain's binary_logloss: 0.0462615\teval's binary_logloss: 0.0469039\n",
            "Early stopping, best iteration is:\n",
            "[96]\ttrain's binary_logloss: 0.0462651\teval's binary_logloss: 0.0467895\n"
          ]
        },
        {
          "output_type": "stream",
          "name": "stderr",
          "text": [
            "regularization_factors, val_score: 0.046749:   5%|5         | 1/20 [00:00<00:05,  3.28it/s]\u001b[32m[I 2021-09-05 00:36:29,461]\u001b[0m Trial 40 finished with value: 0.04678954895041148 and parameters: {'lambda_l1': 3.241144453151654e-07, 'lambda_l2': 1.833947313821154}. Best is trial 40 with value: 0.04678954895041148.\u001b[0m\n",
            "regularization_factors, val_score: 0.046749:   5%|5         | 1/20 [00:00<00:05,  3.28it/s]"
          ]
        },
        {
          "output_type": "stream",
          "name": "stdout",
          "text": [
            "Training until validation scores don't improve for 100 rounds\n",
            "[100]\ttrain's binary_logloss: 0.0462013\teval's binary_logloss: 0.0469645\n",
            "Early stopping, best iteration is:\n",
            "[95]\ttrain's binary_logloss: 0.046201\teval's binary_logloss: 0.0468362\n"
          ]
        },
        {
          "output_type": "stream",
          "name": "stderr",
          "text": [
            "regularization_factors, val_score: 0.046749:  10%|#         | 2/20 [00:00<00:05,  3.24it/s]\u001b[32m[I 2021-09-05 00:36:29,773]\u001b[0m Trial 41 finished with value: 0.04683617411858625 and parameters: {'lambda_l1': 0.014112445726255337, 'lambda_l2': 0.6241999770879192}. Best is trial 40 with value: 0.04678954895041148.\u001b[0m\n",
            "regularization_factors, val_score: 0.046749:  10%|#         | 2/20 [00:00<00:05,  3.24it/s]"
          ]
        },
        {
          "output_type": "stream",
          "name": "stdout",
          "text": [
            "Training until validation scores don't improve for 100 rounds\n",
            "[100]\ttrain's binary_logloss: 0.0461453\teval's binary_logloss: 0.0470128\n",
            "[200]\ttrain's binary_logloss: 0.0458552\teval's binary_logloss: 0.0469076\n"
          ]
        },
        {
          "output_type": "stream",
          "name": "stderr",
          "text": [
            "regularization_factors, val_score: 0.046749:  15%|#5        | 3/20 [00:01<00:06,  2.68it/s]\u001b[32m[I 2021-09-05 00:36:30,222]\u001b[0m Trial 42 finished with value: 0.046749085213673304 and parameters: {'lambda_l1': 8.37871618579047e-05, 'lambda_l2': 7.499217674829743e-07}. Best is trial 42 with value: 0.046749085213673304.\u001b[0m\n",
            "regularization_factors, val_score: 0.046749:  15%|#5        | 3/20 [00:01<00:06,  2.68it/s]"
          ]
        },
        {
          "output_type": "stream",
          "name": "stdout",
          "text": [
            "[300]\ttrain's binary_logloss: 0.0457625\teval's binary_logloss: 0.0471888\n",
            "Early stopping, best iteration is:\n",
            "[234]\ttrain's binary_logloss: 0.0458581\teval's binary_logloss: 0.0467491\n",
            "Training until validation scores don't improve for 100 rounds\n",
            "[100]\ttrain's binary_logloss: 0.0461408\teval's binary_logloss: 0.0470015\n",
            "[200]\ttrain's binary_logloss: 0.0458519\teval's binary_logloss: 0.0468792\n",
            "[300]\ttrain's binary_logloss: 0.0457569\teval's binary_logloss: 0.0471944\n"
          ]
        },
        {
          "output_type": "stream",
          "name": "stderr",
          "text": [
            "regularization_factors, val_score: 0.046747:  20%|##        | 4/20 [00:01<00:06,  2.45it/s]\u001b[32m[I 2021-09-05 00:36:30,682]\u001b[0m Trial 43 finished with value: 0.04674703515223627 and parameters: {'lambda_l1': 0.0027329484748566586, 'lambda_l2': 0.01656065091421839}. Best is trial 43 with value: 0.04674703515223627.\u001b[0m\n",
            "regularization_factors, val_score: 0.046747:  20%|##        | 4/20 [00:01<00:06,  2.45it/s]"
          ]
        },
        {
          "output_type": "stream",
          "name": "stdout",
          "text": [
            "Early stopping, best iteration is:\n",
            "[234]\ttrain's binary_logloss: 0.0458528\teval's binary_logloss: 0.046747\n",
            "Training until validation scores don't improve for 100 rounds\n"
          ]
        },
        {
          "output_type": "stream",
          "name": "stderr",
          "text": [
            "regularization_factors, val_score: 0.046747:  25%|##5       | 5/20 [00:01<00:05,  2.76it/s]\u001b[32m[I 2021-09-05 00:36:30,963]\u001b[0m Trial 44 finished with value: 0.04680909696110055 and parameters: {'lambda_l1': 0.3385077711299428, 'lambda_l2': 1.6715901528009443e-08}. Best is trial 43 with value: 0.04674703515223627.\u001b[0m\n",
            "regularization_factors, val_score: 0.046747:  25%|##5       | 5/20 [00:01<00:05,  2.76it/s]"
          ]
        },
        {
          "output_type": "stream",
          "name": "stdout",
          "text": [
            "[100]\ttrain's binary_logloss: 0.046208\teval's binary_logloss: 0.0469426\n",
            "Early stopping, best iteration is:\n",
            "[91]\ttrain's binary_logloss: 0.0462416\teval's binary_logloss: 0.0468091\n",
            "Training until validation scores don't improve for 100 rounds\n"
          ]
        },
        {
          "output_type": "stream",
          "name": "stderr",
          "text": [
            "regularization_factors, val_score: 0.046747:  30%|###       | 6/20 [00:02<00:04,  2.93it/s]\u001b[32m[I 2021-09-05 00:36:31,264]\u001b[0m Trial 45 finished with value: 0.04679839805841413 and parameters: {'lambda_l1': 0.49968752032673086, 'lambda_l2': 7.205748587384925e-06}. Best is trial 43 with value: 0.04674703515223627.\u001b[0m\n",
            "regularization_factors, val_score: 0.046747:  30%|###       | 6/20 [00:02<00:04,  2.93it/s]"
          ]
        },
        {
          "output_type": "stream",
          "name": "stdout",
          "text": [
            "[100]\ttrain's binary_logloss: 0.0462196\teval's binary_logloss: 0.0469226\n",
            "Early stopping, best iteration is:\n",
            "[91]\ttrain's binary_logloss: 0.0462785\teval's binary_logloss: 0.0467984\n",
            "Training until validation scores don't improve for 100 rounds\n",
            "[100]\ttrain's binary_logloss: 0.0461453\teval's binary_logloss: 0.0470127\n",
            "[200]\ttrain's binary_logloss: 0.0458553\teval's binary_logloss: 0.0469078\n"
          ]
        },
        {
          "output_type": "stream",
          "name": "stderr",
          "text": [
            "regularization_factors, val_score: 0.046747:  35%|###5      | 7/20 [00:02<00:04,  2.73it/s]\u001b[32m[I 2021-09-05 00:36:31,682]\u001b[0m Trial 46 finished with value: 0.0467492430451158 and parameters: {'lambda_l1': 1.637462336568423e-08, 'lambda_l2': 0.0035251605585958287}. Best is trial 43 with value: 0.04674703515223627.\u001b[0m\n",
            "regularization_factors, val_score: 0.046747:  35%|###5      | 7/20 [00:02<00:04,  2.73it/s]"
          ]
        },
        {
          "output_type": "stream",
          "name": "stdout",
          "text": [
            "[300]\ttrain's binary_logloss: 0.045762\teval's binary_logloss: 0.047187\n",
            "Early stopping, best iteration is:\n",
            "[234]\ttrain's binary_logloss: 0.0458581\teval's binary_logloss: 0.0467492\n",
            "Training until validation scores don't improve for 100 rounds\n",
            "[100]\ttrain's binary_logloss: 0.0461407\teval's binary_logloss: 0.0470001\n",
            "[200]\ttrain's binary_logloss: 0.0458519\teval's binary_logloss: 0.0468783\n",
            "[300]\ttrain's binary_logloss: 0.0457574\teval's binary_logloss: 0.0471912\n"
          ]
        },
        {
          "output_type": "stream",
          "name": "stderr",
          "text": [
            "regularization_factors, val_score: 0.046741:  40%|####      | 8/20 [00:02<00:04,  2.59it/s]\u001b[32m[I 2021-09-05 00:36:32,112]\u001b[0m Trial 47 finished with value: 0.04674130704517837 and parameters: {'lambda_l1': 0.0021648690381150157, 'lambda_l2': 0.012590273444211899}. Best is trial 47 with value: 0.04674130704517837.\u001b[0m\n",
            "regularization_factors, val_score: 0.046741:  40%|####      | 8/20 [00:02<00:04,  2.59it/s]"
          ]
        },
        {
          "output_type": "stream",
          "name": "stdout",
          "text": [
            "Early stopping, best iteration is:\n",
            "[234]\ttrain's binary_logloss: 0.0458572\teval's binary_logloss: 0.0467413\n",
            "Training until validation scores don't improve for 100 rounds\n",
            "[100]\ttrain's binary_logloss: 0.0478801\teval's binary_logloss: 0.0474542\n",
            "[200]\ttrain's binary_logloss: 0.0474499\teval's binary_logloss: 0.0471732\n",
            "[300]\ttrain's binary_logloss: 0.0469247\teval's binary_logloss: 0.0470874\n",
            "Early stopping, best iteration is:\n",
            "[266]\ttrain's binary_logloss: 0.047054\teval's binary_logloss: 0.0470339\n"
          ]
        },
        {
          "output_type": "stream",
          "name": "stderr",
          "text": [
            "regularization_factors, val_score: 0.046741:  45%|####5     | 9/20 [00:03<00:04,  2.53it/s]\u001b[32m[I 2021-09-05 00:36:32,526]\u001b[0m Trial 48 finished with value: 0.0470339409428806 and parameters: {'lambda_l1': 9.766539564770474, 'lambda_l2': 0.00011449695042933087}. Best is trial 47 with value: 0.04674130704517837.\u001b[0m\n",
            "regularization_factors, val_score: 0.046741:  45%|####5     | 9/20 [00:03<00:04,  2.53it/s]"
          ]
        },
        {
          "output_type": "stream",
          "name": "stdout",
          "text": [
            "Training until validation scores don't improve for 100 rounds\n",
            "[100]\ttrain's binary_logloss: 0.0461453\teval's binary_logloss: 0.0470128\n",
            "[200]\ttrain's binary_logloss: 0.0458552\teval's binary_logloss: 0.0469076\n"
          ]
        },
        {
          "output_type": "stream",
          "name": "stderr",
          "text": [
            "regularization_factors, val_score: 0.046741:  50%|#####     | 10/20 [00:03<00:03,  2.50it/s]\u001b[32m[I 2021-09-05 00:36:32,936]\u001b[0m Trial 49 finished with value: 0.04674908475271274 and parameters: {'lambda_l1': 7.458469210649836e-05, 'lambda_l2': 9.738990390132983e-07}. Best is trial 47 with value: 0.04674130704517837.\u001b[0m\n",
            "regularization_factors, val_score: 0.046741:  50%|#####     | 10/20 [00:03<00:03,  2.50it/s]"
          ]
        },
        {
          "output_type": "stream",
          "name": "stdout",
          "text": [
            "[300]\ttrain's binary_logloss: 0.0457625\teval's binary_logloss: 0.0471888\n",
            "Early stopping, best iteration is:\n",
            "[234]\ttrain's binary_logloss: 0.0458581\teval's binary_logloss: 0.0467491\n",
            "Training until validation scores don't improve for 100 rounds\n",
            "[100]\ttrain's binary_logloss: 0.0461408\teval's binary_logloss: 0.047009\n",
            "[200]\ttrain's binary_logloss: 0.0458525\teval's binary_logloss: 0.0469206\n",
            "[300]\ttrain's binary_logloss: 0.0457634\teval's binary_logloss: 0.0471607\n",
            "Early stopping, best iteration is:\n",
            "[234]\ttrain's binary_logloss: 0.0458608\teval's binary_logloss: 0.0467233\n"
          ]
        },
        {
          "output_type": "stream",
          "name": "stderr",
          "text": [
            "regularization_factors, val_score: 0.046723:  55%|#####5    | 11/20 [00:04<00:03,  2.42it/s]\u001b[32m[I 2021-09-05 00:36:33,378]\u001b[0m Trial 50 finished with value: 0.04672333936096476 and parameters: {'lambda_l1': 2.7708056236528023e-06, 'lambda_l2': 0.04783660858425253}. Best is trial 50 with value: 0.04672333936096476.\u001b[0m\n",
            "regularization_factors, val_score: 0.046723:  55%|#####5    | 11/20 [00:04<00:03,  2.42it/s]"
          ]
        },
        {
          "output_type": "stream",
          "name": "stdout",
          "text": [
            "Training until validation scores don't improve for 100 rounds\n",
            "[100]\ttrain's binary_logloss: 0.0461408\teval's binary_logloss: 0.047009\n",
            "[200]\ttrain's binary_logloss: 0.0458525\teval's binary_logloss: 0.0469206\n"
          ]
        },
        {
          "output_type": "stream",
          "name": "stderr",
          "text": [
            "regularization_factors, val_score: 0.046723:  60%|######    | 12/20 [00:04<00:03,  2.39it/s]\u001b[32m[I 2021-09-05 00:36:33,809]\u001b[0m Trial 51 finished with value: 0.04672332290076078 and parameters: {'lambda_l1': 2.9073156858842043e-06, 'lambda_l2': 0.04747750092677758}. Best is trial 51 with value: 0.04672332290076078.\u001b[0m\n",
            "regularization_factors, val_score: 0.046723:  60%|######    | 12/20 [00:04<00:03,  2.39it/s]"
          ]
        },
        {
          "output_type": "stream",
          "name": "stdout",
          "text": [
            "[300]\ttrain's binary_logloss: 0.0457634\teval's binary_logloss: 0.0471608\n",
            "Early stopping, best iteration is:\n",
            "[234]\ttrain's binary_logloss: 0.0458608\teval's binary_logloss: 0.0467233\n",
            "Training until validation scores don't improve for 100 rounds\n",
            "[100]\ttrain's binary_logloss: 0.0461453\teval's binary_logloss: 0.0470089\n",
            "[200]\ttrain's binary_logloss: 0.0458541\teval's binary_logloss: 0.0469163\n",
            "[300]\ttrain's binary_logloss: 0.0457656\teval's binary_logloss: 0.0471561\n",
            "Early stopping, best iteration is:\n",
            "[234]\ttrain's binary_logloss: 0.0458547\teval's binary_logloss: 0.0467566\n"
          ]
        },
        {
          "output_type": "stream",
          "name": "stderr",
          "text": [
            "regularization_factors, val_score: 0.046723:  65%|######5   | 13/20 [00:05<00:03,  2.31it/s]\u001b[32m[I 2021-09-05 00:36:34,275]\u001b[0m Trial 52 finished with value: 0.04675655136617973 and parameters: {'lambda_l1': 2.7942685123966403e-06, 'lambda_l2': 0.15598007909899395}. Best is trial 51 with value: 0.04672332290076078.\u001b[0m\n",
            "regularization_factors, val_score: 0.046723:  65%|######5   | 13/20 [00:05<00:03,  2.31it/s]"
          ]
        },
        {
          "output_type": "stream",
          "name": "stdout",
          "text": [
            "Training until validation scores don't improve for 100 rounds\n",
            "[100]\ttrain's binary_logloss: 0.0465677\teval's binary_logloss: 0.0469818\n",
            "[200]\ttrain's binary_logloss: 0.0460215\teval's binary_logloss: 0.0469277\n",
            "Early stopping, best iteration is:\n",
            "[127]\ttrain's binary_logloss: 0.0462681\teval's binary_logloss: 0.0468662\n"
          ]
        },
        {
          "output_type": "stream",
          "name": "stderr",
          "text": [
            "regularization_factors, val_score: 0.046723:  70%|#######   | 14/20 [00:05<00:02,  2.49it/s]\u001b[32m[I 2021-09-05 00:36:34,602]\u001b[0m Trial 53 finished with value: 0.046866169471933165 and parameters: {'lambda_l1': 3.0021222577157473e-06, 'lambda_l2': 7.125609568310951}. Best is trial 51 with value: 0.04672332290076078.\u001b[0m\n",
            "regularization_factors, val_score: 0.046723:  70%|#######   | 14/20 [00:05<00:02,  2.49it/s]"
          ]
        },
        {
          "output_type": "stream",
          "name": "stdout",
          "text": [
            "Training until validation scores don't improve for 100 rounds\n",
            "[100]\ttrain's binary_logloss: 0.0461453\teval's binary_logloss: 0.0470127\n",
            "[200]\ttrain's binary_logloss: 0.0458553\teval's binary_logloss: 0.0469076\n"
          ]
        },
        {
          "output_type": "stream",
          "name": "stderr",
          "text": [
            "regularization_factors, val_score: 0.046723:  75%|#######5  | 15/20 [00:05<00:02,  2.44it/s]\u001b[32m[I 2021-09-05 00:36:35,033]\u001b[0m Trial 54 finished with value: 0.04674906549213161 and parameters: {'lambda_l1': 1.7911089755260417e-08, 'lambda_l2': 0.0005795147567838781}. Best is trial 51 with value: 0.04672332290076078.\u001b[0m\n",
            "regularization_factors, val_score: 0.046723:  75%|#######5  | 15/20 [00:05<00:02,  2.44it/s]"
          ]
        },
        {
          "output_type": "stream",
          "name": "stdout",
          "text": [
            "[300]\ttrain's binary_logloss: 0.045762\teval's binary_logloss: 0.0471872\n",
            "Early stopping, best iteration is:\n",
            "[234]\ttrain's binary_logloss: 0.0458581\teval's binary_logloss: 0.0467491\n",
            "Training until validation scores don't improve for 100 rounds\n",
            "[100]\ttrain's binary_logloss: 0.0461434\teval's binary_logloss: 0.047011\n",
            "[200]\ttrain's binary_logloss: 0.0458547\teval's binary_logloss: 0.0468862\n",
            "[300]\ttrain's binary_logloss: 0.0457599\teval's binary_logloss: 0.0471887\n",
            "Early stopping, best iteration is:\n",
            "[234]\ttrain's binary_logloss: 0.0458581\teval's binary_logloss: 0.0467472\n"
          ]
        },
        {
          "output_type": "stream",
          "name": "stderr",
          "text": [
            "regularization_factors, val_score: 0.046723:  80%|########  | 16/20 [00:06<00:01,  2.41it/s]\u001b[32m[I 2021-09-05 00:36:35,461]\u001b[0m Trial 55 finished with value: 0.046747219734068174 and parameters: {'lambda_l1': 6.495845417574531e-06, 'lambda_l2': 0.10959654046823562}. Best is trial 51 with value: 0.04672332290076078.\u001b[0m\n",
            "regularization_factors, val_score: 0.046723:  80%|########  | 16/20 [00:06<00:01,  2.41it/s]"
          ]
        },
        {
          "output_type": "stream",
          "name": "stdout",
          "text": [
            "Training until validation scores don't improve for 100 rounds\n",
            "[100]\ttrain's binary_logloss: 0.0461393\teval's binary_logloss: 0.0470109\n",
            "Early stopping, best iteration is:\n",
            "[95]\ttrain's binary_logloss: 0.0461306\teval's binary_logloss: 0.0468733\n"
          ]
        },
        {
          "output_type": "stream",
          "name": "stderr",
          "text": [
            "regularization_factors, val_score: 0.046723:  85%|########5 | 17/20 [00:06<00:01,  2.60it/s]\u001b[32m[I 2021-09-05 00:36:35,773]\u001b[0m Trial 56 finished with value: 0.04687327815031607 and parameters: {'lambda_l1': 2.3357869747446605e-07, 'lambda_l2': 0.0022759615487428155}. Best is trial 51 with value: 0.04672332290076078.\u001b[0m\n",
            "regularization_factors, val_score: 0.046723:  85%|########5 | 17/20 [00:06<00:01,  2.60it/s]"
          ]
        },
        {
          "output_type": "stream",
          "name": "stdout",
          "text": [
            "Training until validation scores don't improve for 100 rounds\n",
            "[100]\ttrain's binary_logloss: 0.0461453\teval's binary_logloss: 0.0470128\n",
            "[200]\ttrain's binary_logloss: 0.0458552\teval's binary_logloss: 0.0469076\n"
          ]
        },
        {
          "output_type": "stream",
          "name": "stderr",
          "text": [
            "regularization_factors, val_score: 0.046723:  90%|######### | 18/20 [00:07<00:00,  2.46it/s]\u001b[32m[I 2021-09-05 00:36:36,230]\u001b[0m Trial 57 finished with value: 0.04674908445970015 and parameters: {'lambda_l1': 2.3612275832124238e-05, 'lambda_l2': 8.112946150334306e-05}. Best is trial 51 with value: 0.04672332290076078.\u001b[0m\n",
            "regularization_factors, val_score: 0.046723:  90%|######### | 18/20 [00:07<00:00,  2.46it/s]"
          ]
        },
        {
          "output_type": "stream",
          "name": "stdout",
          "text": [
            "[300]\ttrain's binary_logloss: 0.0457619\teval's binary_logloss: 0.0471872\n",
            "Early stopping, best iteration is:\n",
            "[234]\ttrain's binary_logloss: 0.0458581\teval's binary_logloss: 0.0467491\n",
            "Training until validation scores don't improve for 100 rounds\n",
            "[100]\ttrain's binary_logloss: 0.0461415\teval's binary_logloss: 0.047008\n",
            "[200]\ttrain's binary_logloss: 0.0458512\teval's binary_logloss: 0.0469251\n",
            "[300]\ttrain's binary_logloss: 0.0457596\teval's binary_logloss: 0.0471883\n",
            "Early stopping, best iteration is:\n",
            "[234]\ttrain's binary_logloss: 0.0458585\teval's binary_logloss: 0.0467614\n"
          ]
        },
        {
          "output_type": "stream",
          "name": "stderr",
          "text": [
            "regularization_factors, val_score: 0.046723:  95%|#########5| 19/20 [00:07<00:00,  2.41it/s]\u001b[32m[I 2021-09-05 00:36:36,664]\u001b[0m Trial 58 finished with value: 0.04676142011960811 and parameters: {'lambda_l1': 3.0265424502665625e-07, 'lambda_l2': 0.06798668957821376}. Best is trial 51 with value: 0.04672332290076078.\u001b[0m\n",
            "regularization_factors, val_score: 0.046723: 100%|##########| 20/20 [00:07<00:00,  2.62it/s]\u001b[32m[I 2021-09-05 00:36:36,972]\u001b[0m Trial 59 finished with value: 0.046867864136091134 and parameters: {'lambda_l1': 0.0004015308071796027, 'lambda_l2': 0.7003890120657138}. Best is trial 51 with value: 0.04672332290076078.\u001b[0m\n",
            "regularization_factors, val_score: 0.046723: 100%|##########| 20/20 [00:07<00:00,  2.56it/s]\n"
          ]
        },
        {
          "output_type": "stream",
          "name": "stdout",
          "text": [
            "Training until validation scores don't improve for 100 rounds\n",
            "[100]\ttrain's binary_logloss: 0.0461951\teval's binary_logloss: 0.0469925\n",
            "Early stopping, best iteration is:\n",
            "[95]\ttrain's binary_logloss: 0.0461905\teval's binary_logloss: 0.0468679\n"
          ]
        },
        {
          "output_type": "stream",
          "name": "stderr",
          "text": [
            "min_data_in_leaf, val_score: 0.046723:   0%|          | 0/5 [00:00<?, ?it/s]"
          ]
        },
        {
          "output_type": "stream",
          "name": "stdout",
          "text": [
            "Training until validation scores don't improve for 100 rounds\n",
            "[100]\ttrain's binary_logloss: 0.0466298\teval's binary_logloss: 0.0471172\n",
            "[200]\ttrain's binary_logloss: 0.0460455\teval's binary_logloss: 0.0468928\n"
          ]
        },
        {
          "output_type": "stream",
          "name": "stderr",
          "text": [
            "min_data_in_leaf, val_score: 0.046723:  20%|##        | 1/5 [00:00<00:01,  2.36it/s]\u001b[32m[I 2021-09-05 00:36:37,404]\u001b[0m Trial 60 finished with value: 0.04683186520486616 and parameters: {'min_child_samples': 50}. Best is trial 60 with value: 0.04683186520486616.\u001b[0m\n",
            "min_data_in_leaf, val_score: 0.046723:  20%|##        | 1/5 [00:00<00:01,  2.36it/s]"
          ]
        },
        {
          "output_type": "stream",
          "name": "stdout",
          "text": [
            "[300]\ttrain's binary_logloss: 0.0458666\teval's binary_logloss: 0.0470861\n",
            "Early stopping, best iteration is:\n",
            "[209]\ttrain's binary_logloss: 0.0460281\teval's binary_logloss: 0.0468319\n",
            "Training until validation scores don't improve for 100 rounds\n"
          ]
        },
        {
          "output_type": "stream",
          "name": "stderr",
          "text": [
            "min_data_in_leaf, val_score: 0.046723:  40%|####      | 2/5 [00:00<00:01,  2.88it/s]\u001b[32m[I 2021-09-05 00:36:37,698]\u001b[0m Trial 61 finished with value: 0.04703994570055715 and parameters: {'min_child_samples': 5}. Best is trial 60 with value: 0.04683186520486616.\u001b[0m\n",
            "min_data_in_leaf, val_score: 0.046723:  40%|####      | 2/5 [00:00<00:01,  2.88it/s]"
          ]
        },
        {
          "output_type": "stream",
          "name": "stdout",
          "text": [
            "[100]\ttrain's binary_logloss: 0.0458716\teval's binary_logloss: 0.047291\n",
            "Early stopping, best iteration is:\n",
            "[86]\ttrain's binary_logloss: 0.0459318\teval's binary_logloss: 0.0470399\n",
            "Training until validation scores don't improve for 100 rounds\n",
            "[100]\ttrain's binary_logloss: 0.0463295\teval's binary_logloss: 0.0471521\n",
            "[200]\ttrain's binary_logloss: 0.0459391\teval's binary_logloss: 0.0469966\n"
          ]
        },
        {
          "output_type": "stream",
          "name": "stderr",
          "text": [
            "min_data_in_leaf, val_score: 0.046723:  60%|######    | 3/5 [00:01<00:00,  2.57it/s]\u001b[32m[I 2021-09-05 00:36:38,137]\u001b[0m Trial 62 finished with value: 0.04680197847548257 and parameters: {'min_child_samples': 25}. Best is trial 62 with value: 0.04680197847548257.\u001b[0m\n",
            "min_data_in_leaf, val_score: 0.046723:  60%|######    | 3/5 [00:01<00:00,  2.57it/s]"
          ]
        },
        {
          "output_type": "stream",
          "name": "stdout",
          "text": [
            "[300]\ttrain's binary_logloss: 0.0458098\teval's binary_logloss: 0.0472355\n",
            "Early stopping, best iteration is:\n",
            "[234]\ttrain's binary_logloss: 0.0459312\teval's binary_logloss: 0.046802\n",
            "Training until validation scores don't improve for 100 rounds\n"
          ]
        },
        {
          "output_type": "stream",
          "name": "stderr",
          "text": [
            "min_data_in_leaf, val_score: 0.046723:  80%|########  | 4/5 [00:01<00:00,  2.83it/s]\u001b[32m[I 2021-09-05 00:36:38,436]\u001b[0m Trial 63 finished with value: 0.04700492006749823 and parameters: {'min_child_samples': 10}. Best is trial 62 with value: 0.04680197847548257.\u001b[0m\n",
            "min_data_in_leaf, val_score: 0.046723:  80%|########  | 4/5 [00:01<00:00,  2.83it/s]"
          ]
        },
        {
          "output_type": "stream",
          "name": "stdout",
          "text": [
            "[100]\ttrain's binary_logloss: 0.04591\teval's binary_logloss: 0.0472417\n",
            "Early stopping, best iteration is:\n",
            "[86]\ttrain's binary_logloss: 0.045976\teval's binary_logloss: 0.0470049\n",
            "Training until validation scores don't improve for 100 rounds\n",
            "[100]\ttrain's binary_logloss: 0.0466285\teval's binary_logloss: 0.0470395\n",
            "[200]\ttrain's binary_logloss: 0.0460597\teval's binary_logloss: 0.0467796\n"
          ]
        },
        {
          "output_type": "stream",
          "name": "stderr",
          "text": [
            "min_data_in_leaf, val_score: 0.046723: 100%|##########| 5/5 [00:01<00:00,  2.62it/s]\u001b[32m[I 2021-09-05 00:36:38,868]\u001b[0m Trial 64 finished with value: 0.046737387212876416 and parameters: {'min_child_samples': 100}. Best is trial 64 with value: 0.046737387212876416.\u001b[0m\n",
            "min_data_in_leaf, val_score: 0.046723: 100%|##########| 5/5 [00:01<00:00,  2.64it/s]\n",
            "Best Params 4 - {'objective': 'binary', 'metric': 'binary_logloss', 'num_class': 1, 'device_type': 'gpu', 'seed': 444, 'verbosity': -1, 'feature_pre_filter': False, 'lambda_l1': 2.9073156858842043e-06, 'lambda_l2': 0.04747750092677758, 'num_leaves': 3, 'feature_fraction': 0.4, 'bagging_fraction': 0.41618697722310943, 'bagging_freq': 6, 'min_child_samples': 20, 'num_iterations': 10000, 'early_stopping_round': 100}\n",
            "Result 4 - Score: 0.966883269396383, time: 23s\n",
            "Result 4 - Save Best Model\n",
            "========== fold: 4 result ==========\n",
            "Score: 0.96688\n"
          ]
        },
        {
          "output_type": "stream",
          "name": "stdout",
          "text": [
            "[300]\ttrain's binary_logloss: 0.0458413\teval's binary_logloss: 0.0470214\n",
            "Early stopping, best iteration is:\n",
            "[213]\ttrain's binary_logloss: 0.0460382\teval's binary_logloss: 0.0467374\n"
          ]
        },
        {
          "output_type": "stream",
          "name": "stderr",
          "text": [
            "========== CV: Border Optimization ==========\n",
            "Border: 0.21391, Score: 0.96475\n",
            "========== fold: 0 inference ==========\n",
            "========== fold: 1 inference ==========\n",
            "========== fold: 2 inference ==========\n",
            "========== fold: 3 inference ==========\n",
            "========== fold: 4 inference ==========\n"
          ]
        },
        {
          "output_type": "stream",
          "name": "stdout",
          "text": [
            "0    39237\n",
            "1     1597\n",
            "Name: judgement, dtype: int64\n"
          ]
        }
      ]
    },
    {
      "cell_type": "code",
      "metadata": {
        "colab": {
          "base_uri": "https://localhost:8080/",
          "height": 359,
          "referenced_widgets": [
            "d151a84ec29c42058824fa604e0236dc",
            "1e2a241a22c64045a2d8e4955bc5ff40",
            "be3116b8e20f4b709830c0543a92cdd0",
            "242229630ddf49a0a20dfd30306bfe56",
            "60f441c59c4c4dd294296bf68e328e56",
            "9df1fd333ad148a5b08f0f523c0502a0",
            "c5c637c7921a42e79b4b4b9e4646369d",
            "7cfd8518713f4ad18e7aee63f241634c"
          ]
        },
        "id": "CPHezhr_NHYR",
        "outputId": "604f2d31-8136-4c74-b83b-a7b25efcd2fc"
      },
      "source": [
        "wandb.finish()"
      ],
      "execution_count": 70,
      "outputs": [
        {
          "output_type": "display_data",
          "data": {
            "text/html": [
              "<br/>Waiting for W&B process to finish, PID 3503<br/>Program ended successfully."
            ],
            "text/plain": [
              "<IPython.core.display.HTML object>"
            ]
          },
          "metadata": {}
        },
        {
          "output_type": "display_data",
          "data": {
            "application/vnd.jupyter.widget-view+json": {
              "model_id": "d151a84ec29c42058824fa604e0236dc",
              "version_minor": 0,
              "version_major": 2
            },
            "text/plain": [
              "VBox(children=(Label(value=' 81.58MB of 81.58MB uploaded (0.42MB deduped)\\r'), FloatProgress(value=1.0, max=1.…"
            ]
          },
          "metadata": {}
        },
        {
          "output_type": "display_data",
          "data": {
            "text/html": [
              "Find user logs for this run at: <code>/content/wandb/run-20210905_003246-xz39tr40/logs/debug.log</code>"
            ],
            "text/plain": [
              "<IPython.core.display.HTML object>"
            ]
          },
          "metadata": {}
        },
        {
          "output_type": "display_data",
          "data": {
            "text/html": [
              "Find internal logs for this run at: <code>/content/wandb/run-20210905_003246-xz39tr40/logs/debug-internal.log</code>"
            ],
            "text/plain": [
              "<IPython.core.display.HTML object>"
            ]
          },
          "metadata": {}
        },
        {
          "output_type": "display_data",
          "data": {
            "text/html": [
              "<h3>Run summary:</h3><br/><style>\n",
              "    table.wandb td:nth-child(1) { padding: 0 10px; text-align: right }\n",
              "    </style><table class=\"wandb\">\n",
              "<tr><td>CV_fold0</td><td>0.96581</td></tr><tr><td>CV_fold1</td><td>0.94924</td></tr><tr><td>CV_fold2</td><td>0.97854</td></tr><tr><td>CV_fold3</td><td>0.96924</td></tr><tr><td>CV_fold4</td><td>0.96688</td></tr><tr><td>CV</td><td>0.96475</td></tr><tr><td>border</td><td>0.21391</td></tr></table>"
            ],
            "text/plain": [
              "<IPython.core.display.HTML object>"
            ]
          },
          "metadata": {}
        },
        {
          "output_type": "display_data",
          "data": {
            "text/html": [
              "Synced 5 W&B file(s), 0 media file(s), 47 artifact file(s) and 9 other file(s)"
            ],
            "text/plain": [
              "<IPython.core.display.HTML object>"
            ]
          },
          "metadata": {}
        },
        {
          "output_type": "display_data",
          "data": {
            "text/html": [
              "\n",
              "                    <br/>Synced <strong style=\"color:#cdcd00\">magic-lake-72</strong>: <a href=\"https://wandb.ai/ponkots/signate-471/runs/xz39tr40\" target=\"_blank\">https://wandb.ai/ponkots/signate-471/runs/xz39tr40</a><br/>\n",
              "                "
            ],
            "text/plain": [
              "<IPython.core.display.HTML object>"
            ]
          },
          "metadata": {}
        }
      ]
    },
    {
      "cell_type": "markdown",
      "metadata": {
        "id": "-scfhV4ueW4K"
      },
      "source": [
        "## Public LB"
      ]
    },
    {
      "cell_type": "code",
      "metadata": {
        "id": "jRNsH2CvA1He"
      },
      "source": [
        "RUN_PATH = \"\"\n",
        "LB_SCORE = None"
      ],
      "execution_count": 73,
      "outputs": []
    },
    {
      "cell_type": "code",
      "metadata": {
        "id": "AS7aRYF_eh7z"
      },
      "source": [
        "if LB_SCORE is not None:\n",
        "    import wandb\n",
        "    api = wandb.Api()\n",
        "\n",
        "    run = api.run(RUN_PATH)\n",
        "    run.summary[\"LB\"] = LB_SCORE\n",
        "    run.summary.update()"
      ],
      "execution_count": 74,
      "outputs": []
    },
    {
      "cell_type": "code",
      "metadata": {
        "id": "ANpuUeypNmLF"
      },
      "source": [
        ""
      ],
      "execution_count": 72,
      "outputs": []
    }
  ]
}