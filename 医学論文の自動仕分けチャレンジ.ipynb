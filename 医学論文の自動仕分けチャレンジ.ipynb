{
  "nbformat": 4,
  "nbformat_minor": 0,
  "metadata": {
    "accelerator": "GPU",
    "colab": {
      "name": "医学論文の自動仕分けチャレンジ.ipynb",
      "provenance": [],
      "collapsed_sections": [],
      "toc_visible": true,
      "machine_shape": "hm",
      "include_colab_link": true
    },
    "kernelspec": {
      "display_name": "Python 3",
      "language": "python",
      "name": "python3"
    },
    "language_info": {
      "codemirror_mode": {
        "name": "ipython",
        "version": 3
      },
      "file_extension": ".py",
      "mimetype": "text/x-python",
      "name": "python",
      "nbconvert_exporter": "python",
      "pygments_lexer": "ipython3",
      "version": "3.6.4"
    },
    "widgets": {
      "application/vnd.jupyter.widget-state+json": {
        "7d33dfc73f6c4733be732faff6e01a5f": {
          "model_module": "@jupyter-widgets/controls",
          "model_name": "VBoxModel",
          "state": {
            "_view_name": "VBoxView",
            "_dom_classes": [],
            "_model_name": "VBoxModel",
            "_view_module": "@jupyter-widgets/controls",
            "_model_module_version": "1.5.0",
            "_view_count": null,
            "_view_module_version": "1.5.0",
            "box_style": "",
            "layout": "IPY_MODEL_9a9a0f5394844457ba1f079f9c85c520",
            "_model_module": "@jupyter-widgets/controls",
            "children": [
              "IPY_MODEL_2e0ecda9236c4952aa2bfba6042d0f5f",
              "IPY_MODEL_4e25535ab95545899cf670bdd6b19ed1"
            ]
          }
        },
        "9a9a0f5394844457ba1f079f9c85c520": {
          "model_module": "@jupyter-widgets/base",
          "model_name": "LayoutModel",
          "state": {
            "_view_name": "LayoutView",
            "grid_template_rows": null,
            "right": null,
            "justify_content": null,
            "_view_module": "@jupyter-widgets/base",
            "overflow": null,
            "_model_module_version": "1.2.0",
            "_view_count": null,
            "flex_flow": null,
            "width": null,
            "min_width": null,
            "border": null,
            "align_items": null,
            "bottom": null,
            "_model_module": "@jupyter-widgets/base",
            "top": null,
            "grid_column": null,
            "overflow_y": null,
            "overflow_x": null,
            "grid_auto_flow": null,
            "grid_area": null,
            "grid_template_columns": null,
            "flex": null,
            "_model_name": "LayoutModel",
            "justify_items": null,
            "grid_row": null,
            "max_height": null,
            "align_content": null,
            "visibility": null,
            "align_self": null,
            "height": null,
            "min_height": null,
            "padding": null,
            "grid_auto_rows": null,
            "grid_gap": null,
            "max_width": null,
            "order": null,
            "_view_module_version": "1.2.0",
            "grid_template_areas": null,
            "object_position": null,
            "object_fit": null,
            "grid_auto_columns": null,
            "margin": null,
            "display": null,
            "left": null
          }
        },
        "2e0ecda9236c4952aa2bfba6042d0f5f": {
          "model_module": "@jupyter-widgets/controls",
          "model_name": "LabelModel",
          "state": {
            "_view_name": "LabelView",
            "style": "IPY_MODEL_ba52b4f8f49b4b5b98db59913c4a4e30",
            "_dom_classes": [],
            "description": "",
            "_model_name": "LabelModel",
            "placeholder": "​",
            "_view_module": "@jupyter-widgets/controls",
            "_model_module_version": "1.5.0",
            "value": " 2186.58MB of 2186.58MB uploaded (0.23MB deduped)\r",
            "_view_count": null,
            "_view_module_version": "1.5.0",
            "description_tooltip": null,
            "_model_module": "@jupyter-widgets/controls",
            "layout": "IPY_MODEL_1a43021596c44736937410edf7bc7018"
          }
        },
        "4e25535ab95545899cf670bdd6b19ed1": {
          "model_module": "@jupyter-widgets/controls",
          "model_name": "FloatProgressModel",
          "state": {
            "_view_name": "ProgressView",
            "style": "IPY_MODEL_10f83e4e6f094a14b62e50832a7bdad5",
            "_dom_classes": [],
            "description": "",
            "_model_name": "FloatProgressModel",
            "bar_style": "",
            "max": 1,
            "_view_module": "@jupyter-widgets/controls",
            "_model_module_version": "1.5.0",
            "value": 1,
            "_view_count": null,
            "_view_module_version": "1.5.0",
            "orientation": "horizontal",
            "min": 0,
            "description_tooltip": null,
            "_model_module": "@jupyter-widgets/controls",
            "layout": "IPY_MODEL_2b3196e8512b4e4faa2a6f99cb90140a"
          }
        },
        "ba52b4f8f49b4b5b98db59913c4a4e30": {
          "model_module": "@jupyter-widgets/controls",
          "model_name": "DescriptionStyleModel",
          "state": {
            "_view_name": "StyleView",
            "_model_name": "DescriptionStyleModel",
            "description_width": "",
            "_view_module": "@jupyter-widgets/base",
            "_model_module_version": "1.5.0",
            "_view_count": null,
            "_view_module_version": "1.2.0",
            "_model_module": "@jupyter-widgets/controls"
          }
        },
        "1a43021596c44736937410edf7bc7018": {
          "model_module": "@jupyter-widgets/base",
          "model_name": "LayoutModel",
          "state": {
            "_view_name": "LayoutView",
            "grid_template_rows": null,
            "right": null,
            "justify_content": null,
            "_view_module": "@jupyter-widgets/base",
            "overflow": null,
            "_model_module_version": "1.2.0",
            "_view_count": null,
            "flex_flow": null,
            "width": null,
            "min_width": null,
            "border": null,
            "align_items": null,
            "bottom": null,
            "_model_module": "@jupyter-widgets/base",
            "top": null,
            "grid_column": null,
            "overflow_y": null,
            "overflow_x": null,
            "grid_auto_flow": null,
            "grid_area": null,
            "grid_template_columns": null,
            "flex": null,
            "_model_name": "LayoutModel",
            "justify_items": null,
            "grid_row": null,
            "max_height": null,
            "align_content": null,
            "visibility": null,
            "align_self": null,
            "height": null,
            "min_height": null,
            "padding": null,
            "grid_auto_rows": null,
            "grid_gap": null,
            "max_width": null,
            "order": null,
            "_view_module_version": "1.2.0",
            "grid_template_areas": null,
            "object_position": null,
            "object_fit": null,
            "grid_auto_columns": null,
            "margin": null,
            "display": null,
            "left": null
          }
        },
        "10f83e4e6f094a14b62e50832a7bdad5": {
          "model_module": "@jupyter-widgets/controls",
          "model_name": "ProgressStyleModel",
          "state": {
            "_view_name": "StyleView",
            "_model_name": "ProgressStyleModel",
            "description_width": "",
            "_view_module": "@jupyter-widgets/base",
            "_model_module_version": "1.5.0",
            "_view_count": null,
            "_view_module_version": "1.2.0",
            "bar_color": null,
            "_model_module": "@jupyter-widgets/controls"
          }
        },
        "2b3196e8512b4e4faa2a6f99cb90140a": {
          "model_module": "@jupyter-widgets/base",
          "model_name": "LayoutModel",
          "state": {
            "_view_name": "LayoutView",
            "grid_template_rows": null,
            "right": null,
            "justify_content": null,
            "_view_module": "@jupyter-widgets/base",
            "overflow": null,
            "_model_module_version": "1.2.0",
            "_view_count": null,
            "flex_flow": null,
            "width": null,
            "min_width": null,
            "border": null,
            "align_items": null,
            "bottom": null,
            "_model_module": "@jupyter-widgets/base",
            "top": null,
            "grid_column": null,
            "overflow_y": null,
            "overflow_x": null,
            "grid_auto_flow": null,
            "grid_area": null,
            "grid_template_columns": null,
            "flex": null,
            "_model_name": "LayoutModel",
            "justify_items": null,
            "grid_row": null,
            "max_height": null,
            "align_content": null,
            "visibility": null,
            "align_self": null,
            "height": null,
            "min_height": null,
            "padding": null,
            "grid_auto_rows": null,
            "grid_gap": null,
            "max_width": null,
            "order": null,
            "_view_module_version": "1.2.0",
            "grid_template_areas": null,
            "object_position": null,
            "object_fit": null,
            "grid_auto_columns": null,
            "margin": null,
            "display": null,
            "left": null
          }
        }
      }
    }
  },
  "cells": [
    {
      "cell_type": "markdown",
      "metadata": {
        "id": "view-in-github",
        "colab_type": "text"
      },
      "source": [
        "<a href=\"https://colab.research.google.com/github/IMOKURI/signate-471/blob/main/%E5%8C%BB%E5%AD%A6%E8%AB%96%E6%96%87%E3%81%AE%E8%87%AA%E5%8B%95%E4%BB%95%E5%88%86%E3%81%91%E3%83%81%E3%83%A3%E3%83%AC%E3%83%B3%E3%82%B8.ipynb\" target=\"_parent\"><img src=\"https://colab.research.google.com/assets/colab-badge.svg\" alt=\"Open In Colab\"/></a>"
      ]
    },
    {
      "cell_type": "markdown",
      "metadata": {
        "id": "5e4660c1"
      },
      "source": [
        "# About this notebook ...\n",
        "\n",
        "competition site: https://signate.jp/competitions/471\n",
        "\n",
        "\n",
        "\n",
        "\n",
        "\n"
      ]
    },
    {
      "cell_type": "markdown",
      "metadata": {
        "id": "1Dhs2SIWJzKz"
      },
      "source": [
        "## ToDo\n",
        "\n",
        "- [ ] pre train のモデルの save と load\n",
        "- [ ] preprocess したデータの save と load (wandb)\n",
        "\n",
        "### Idea\n",
        "\n",
        "- [ ] 分類で推論、回帰で推論\n",
        "- [x] 回帰の場合の境界値の最適化\n",
        "    - [ ] second stage で学習べきかも\n",
        "        - [ ] heamy という stacking のライブラリがある\n",
        "    - [ ] Nelder-Mead 法 という最適化手法を調べる\n",
        "- [ ] 最適な境界値はモデルによって異なるので、アンサンブルの時は、 vote ensemble がいいかもしれない\n",
        "- [x] アブストで事前学習して、タイトルでメイン学習 https://www.kaggle.com/maunish/clrp-pytorch-roberta-pretrain\n",
        "    - 事前学習は、Masked LM\n",
        "- [x] タイトルだけで学習・推論\n",
        "- [ ] タイトル + アブストで学習・推論\n",
        "    - [ ] タイトルだけで推論したのとアンサンブルができる\n",
        "    - [ ] Longformer がいいかもしれない `allenai/longformer-base-4096`\n",
        "    - [ ] large モデルためす\n",
        "- [ ] アブスト + タイトル で学習・推論\n",
        "- [ ] アブストが空 or not でモデルわける\n",
        "- [ ] アブストの max length 調整\n",
        "    - [ ] 途中で切る。デフォルトの 512 はありそう。ほとんどのアブストがその長さで収まる\n",
        "    - [ ] 要約する方法があるかなぁ\n",
        "- [x] dropout を 0 にする\n",
        "- [x] gradient cripping を 0.2 or 0.5 で試す\n",
        "- [ ] re-initialization\n",
        "    - This paper (https://arxiv.org/pdf/2006.05987.pdf) shows that fine-tuning with reinitialization last N layers works well.\n",
        "    - Different models have different optimal N. Almost models set N=4~5, gpt2-models set N=6.\n",
        "    - https://github.com/kurupical/commonlit/blob/8781139c8ed4cc59f7c7ac9d97c72c351ee91377/exp/exp502.py#L497\n",
        "- [ ] Pre trained なレイヤーのfreeze https://raphaelb.org/posts/freezing-bert/\n",
        "- [ ] Recall を伸ばすための loss function は考えられるか。 https://openreview.net/pdf?id=SlprFTIQP3\n",
        "    - [x] f1 score を微分可能にして、 loss 関数に使うアプローチ https://gist.github.com/SuperShinyEyes/dcc68a08ff8b615442e3bc6a9b55a354 https://towardsdatascience.com/the-unknown-benefits-of-using-a-soft-f1-loss-in-classification-systems-753902c0105d\n",
        "    - [ ] epoch ごとに beta の値を増やしていく epoch * 2 とか\n",
        "- [ ] 出現する単語のクラスタリング\n",
        "- [x] TF-IDF して、 リッジ回帰 → ベースライン2 でやった\n",
        "    - IF-IDF の結果もBERTの特徴量にできないだろうか\n",
        "    - https://www.kaggle.com/semyonkoshkarov/tf-idf-linearsvr-baseline も参考になるかも\n",
        "- [ ] 医療用語で事前学習されたモデルを使ってみる\n",
        "    - [x] BioBERT https://github.com/dmis-lab/biobert `dmis-lab/biobert-base-cased-v1.1` 286k downloads\n",
        "        - [ ] large モデル試す\n",
        "    - [ ] Med-BERT https://github.com/ZhiGroup/Med-BERT\n",
        "        - 診断精度に貢献しているかもしれない(いや、一般的な話だったｗ) https://www.nature.com/articles/s41746-021-00455-y\n",
        "    - [x] `microsoft/BiomedNLP-PubMedBERT-base-uncased-abstract-fulltext` 30.8k downloads https://www.axion.zone/microsoft-researchers-claim-state-of-the-art-biomedical-nlp-model/\n",
        "    - [x] `bionlp/bluebert_pubmed_uncased_L-12_H-768_A-12` 4.3k downloads https://github.com/ncbi-nlp/bluebert\n",
        "        - [ ] large モデル試す\n",
        "    - [x] `emilyalsentzer/Bio_ClinicalBERT` https://huggingface.co/emilyalsentzer/Bio_ClinicalBERT\n",
        "    - [ ] `emilyalsentzer/Bio_Discharge_Summary_BERT` https://huggingface.co/emilyalsentzer/Bio_Discharge_Summary_BERT\n",
        "    - [x] `lordtt13/COVID-SciBERT` https://huggingface.co/lordtt13/COVID-SciBERT\n",
        "    - [ ] `allenai/scibert_scivocab_uncased` https://huggingface.co/allenai/scibert_scivocab_uncased\n",
        "- [ ] Augmentation https://neptune.ai/blog/data-augmentation-nlp\n",
        "    - [ ] Back translation: 他言語に翻訳して、もう一回翻訳する（英語→フランス語→英語） https://qiita.com/nena0undefined/items/c2926bad07039e5540ab\n",
        "    - [ ] Synonym Replacement: 単語のいくつかを、同じ意味の別の単語に置き換える\n",
        "        - [ ] 自然言語の augmentation ができるライブラリ https://github.com/makcedward/nlpaug\n",
        "- [ ] TTA\n",
        "- [ ] ベースラインのシンプルさを取り戻す。(思ったよりベースラインのスコアが良かったので、それを取り込む・・・）\n",
        "    - [ ] weight decay を調整 0.01 or 0\n",
        "\n",
        "\n",
        "### Experiments\n",
        "\n",
        "- BERT でアブストの　pre train をしてもスコアは上がっていない（学習の方法を工夫した方がよいかも）\n",
        "- BERT Large は title の学習には大きすぎて？ loss が Base モデルに及ばない。\n",
        "- epoch 3 で val loss が下がらないので、 epoch 3 で aug かけるとかありかもしれない\n",
        "- `dmis-lab/biobert-base-cased-v1.1` と `bionlp/bluebert_pubmed_uncased_L-12_H-768_A-12` の成績がよい\n"
      ]
    },
    {
      "cell_type": "markdown",
      "metadata": {
        "id": "68842c71"
      },
      "source": [
        "## Prepare for Colab"
      ]
    },
    {
      "cell_type": "code",
      "metadata": {
        "colab": {
          "base_uri": "https://localhost:8080/"
        },
        "id": "14137a0f",
        "outputId": "f309302c-e292-437f-9d04-4888a91744a4"
      },
      "source": [
        "!nvidia-smi"
      ],
      "execution_count": 1,
      "outputs": [
        {
          "output_type": "stream",
          "text": [
            "Sat Aug  7 04:16:24 2021       \n",
            "+-----------------------------------------------------------------------------+\n",
            "| NVIDIA-SMI 470.42.01    Driver Version: 460.32.03    CUDA Version: 11.2     |\n",
            "|-------------------------------+----------------------+----------------------+\n",
            "| GPU  Name        Persistence-M| Bus-Id        Disp.A | Volatile Uncorr. ECC |\n",
            "| Fan  Temp  Perf  Pwr:Usage/Cap|         Memory-Usage | GPU-Util  Compute M. |\n",
            "|                               |                      |               MIG M. |\n",
            "|===============================+======================+======================|\n",
            "|   0  Tesla V100-SXM2...  Off  | 00000000:00:04.0 Off |                    0 |\n",
            "| N/A   45C    P0    53W / 300W |      0MiB / 16160MiB |      0%      Default |\n",
            "|                               |                      |                  N/A |\n",
            "+-------------------------------+----------------------+----------------------+\n",
            "                                                                               \n",
            "+-----------------------------------------------------------------------------+\n",
            "| Processes:                                                                  |\n",
            "|  GPU   GI   CI        PID   Type   Process name                  GPU Memory |\n",
            "|        ID   ID                                                   Usage      |\n",
            "|=============================================================================|\n",
            "|  No running processes found                                                 |\n",
            "+-----------------------------------------------------------------------------+\n"
          ],
          "name": "stdout"
        }
      ]
    },
    {
      "cell_type": "code",
      "metadata": {
        "colab": {
          "base_uri": "https://localhost:8080/"
        },
        "id": "4871daf1",
        "outputId": "05d7b274-29cf-493d-c905-dbc1c473483e"
      },
      "source": [
        "import os\n",
        "import sys\n",
        "\n",
        "if os.path.exists('init.txt'):\n",
        "    print(\"Already initialized.\")\n",
        "\n",
        "else:\n",
        "    if 'google.colab' in sys.modules:\n",
        "        from google.colab import drive\n",
        "        drive.mount('/gdrive')\n",
        "\n",
        "        !cp /gdrive/MyDrive/Datasets/signate-471/train.csv .\n",
        "        !cp /gdrive/MyDrive/Datasets/signate-471/test.csv .\n",
        "        !cp /gdrive/MyDrive/Datasets/signate-471/sample_submit.csv .\n",
        "\n",
        "    # for StratifiedGroupKFold\n",
        "    # !pip uninstall -y scikit-learn\n",
        "    # !pip install --pre --extra-index https://pypi.anaconda.org/scipy-wheels-nightly/simple scikit-learn\n",
        "\n",
        "    # for MultilabelStratifiedKFold\n",
        "    !pip install -q iterative-stratification\n",
        "\n",
        "    # !pip install -qU 'git+https://github.com/katsura-jp/pytorch-cosine-annealing-with-warmup'\n",
        "\n",
        "    !pip install -q wandb\n",
        "    !pip install -q transformers\n",
        "    !pip install -q textstat\n",
        "\n",
        "    !touch init.txt"
      ],
      "execution_count": 2,
      "outputs": [
        {
          "output_type": "stream",
          "text": [
            "Already initialized.\n"
          ],
          "name": "stdout"
        }
      ]
    },
    {
      "cell_type": "markdown",
      "metadata": {
        "id": "c39b7222"
      },
      "source": [
        "## Library"
      ]
    },
    {
      "cell_type": "code",
      "metadata": {
        "id": "f63096cb"
      },
      "source": [
        "import glob\n",
        "import json\n",
        "import math\n",
        "import os\n",
        "import random\n",
        "import re\n",
        "import time\n",
        "import warnings\n",
        "from contextlib import contextmanager\n",
        "\n",
        "import matplotlib.pyplot as plt\n",
        "import nltk\n",
        "import numpy as np\n",
        "import pandas as pd\n",
        "import scipy as sp\n",
        "import seaborn as sns\n",
        "import textstat\n",
        "import torch\n",
        "import torch.nn as nn\n",
        "import torch.nn.functional as F\n",
        "import transformers as T\n",
        "import wandb\n",
        "# from cosine_annealing_warmup import CosineAnnealingWarmupRestarts\n",
        "from iterstrat.ml_stratifiers import MultilabelStratifiedKFold\n",
        "from sklearn.metrics import mean_squared_error, fbeta_score\n",
        "from sklearn.model_selection import KFold, StratifiedKFold  # , StratifiedGroupKFold\n",
        "from torch.optim import SGD, Adam  # , AdamW\n",
        "from torch.optim.lr_scheduler import CosineAnnealingLR, CosineAnnealingWarmRestarts, ReduceLROnPlateau\n",
        "from torch.utils.data import DataLoader, Dataset\n",
        "from tqdm.notebook import tqdm\n"
      ],
      "execution_count": 3,
      "outputs": []
    },
    {
      "cell_type": "code",
      "metadata": {
        "id": "c830faec"
      },
      "source": [
        "warnings.filterwarnings(\"ignore\")"
      ],
      "execution_count": 4,
      "outputs": []
    },
    {
      "cell_type": "code",
      "metadata": {
        "id": "16eb8ed5"
      },
      "source": [
        "device = torch.device(\"cuda\" if torch.cuda.is_available() else \"cpu\")"
      ],
      "execution_count": 5,
      "outputs": []
    },
    {
      "cell_type": "code",
      "metadata": {
        "colab": {
          "base_uri": "https://localhost:8080/"
        },
        "id": "3cZeQJ7Xw7d8",
        "outputId": "c373fbb4-f3ef-43b4-dbc9-42b9d8742ae2"
      },
      "source": [
        "nltk.download('stopwords')\n",
        "nltk.download('punkt')\n",
        "nltk.download('wordnet')"
      ],
      "execution_count": 6,
      "outputs": [
        {
          "output_type": "stream",
          "text": [
            "[nltk_data] Downloading package stopwords to /root/nltk_data...\n",
            "[nltk_data]   Package stopwords is already up-to-date!\n",
            "[nltk_data] Downloading package punkt to /root/nltk_data...\n",
            "[nltk_data]   Package punkt is already up-to-date!\n",
            "[nltk_data] Downloading package wordnet to /root/nltk_data...\n",
            "[nltk_data]   Package wordnet is already up-to-date!\n"
          ],
          "name": "stdout"
        },
        {
          "output_type": "execute_result",
          "data": {
            "text/plain": [
              "True"
            ]
          },
          "metadata": {
            "tags": []
          },
          "execution_count": 6
        }
      ]
    },
    {
      "cell_type": "code",
      "metadata": {
        "colab": {
          "base_uri": "https://localhost:8080/"
        },
        "id": "7cc53e8c",
        "outputId": "718ef9ca-8d46-4029-dd65-97c011b0b564"
      },
      "source": [
        "netrc = \"../input/wandbtoken/.netrc\"\n",
        "\n",
        "if 'google.colab' in sys.modules:\n",
        "    netrc = \"/gdrive/MyDrive/.netrc\"\n",
        "\n",
        "!cp -f {netrc} ~/\n",
        "\n",
        "!wandb login"
      ],
      "execution_count": 7,
      "outputs": [
        {
          "output_type": "stream",
          "text": [
            "\u001b[34m\u001b[1mwandb\u001b[0m: Currently logged in as: \u001b[33mimokuri\u001b[0m (use `wandb login --relogin` to force relogin)\n"
          ],
          "name": "stdout"
        }
      ]
    },
    {
      "cell_type": "code",
      "metadata": {
        "id": "fB5QkUQJq_6U"
      },
      "source": [
        "wandb_job_type = \"\"\n",
        "wandb_notes = \"\"\n",
        "wandb_tags = []"
      ],
      "execution_count": 8,
      "outputs": []
    },
    {
      "cell_type": "markdown",
      "metadata": {
        "id": "71d9ccbd"
      },
      "source": [
        "## Load Data"
      ]
    },
    {
      "cell_type": "code",
      "metadata": {
        "id": "4a62a05f"
      },
      "source": [
        "DATA_DIR = \"../input/signate-471/\"\n",
        "OUTPUT_DIR = \"./\"\n",
        "\n",
        "if 'google.colab' in sys.modules:\n",
        "    DATA_DIR = \"./\"\n",
        "\n",
        "if not os.path.exists(OUTPUT_DIR):\n",
        "    os.makedirs(OUTPUT_DIR)"
      ],
      "execution_count": 9,
      "outputs": []
    },
    {
      "cell_type": "code",
      "metadata": {
        "id": "26350797"
      },
      "source": [
        "train = pd.read_csv(DATA_DIR + \"train.csv\")\n",
        "test = pd.read_csv(DATA_DIR + \"test.csv\")\n",
        "sub = pd.read_csv(DATA_DIR + \"sample_submit.csv\", header=None)\n",
        "sub.columns = [\"id\", \"judgement\"]"
      ],
      "execution_count": 10,
      "outputs": []
    },
    {
      "cell_type": "markdown",
      "metadata": {
        "id": "b7ef06f8"
      },
      "source": [
        "## Config"
      ]
    },
    {
      "cell_type": "code",
      "metadata": {
        "id": "c0177571"
      },
      "source": [
        "class Config:\n",
        "    wandb_entity = \"imokuri\"\n",
        "    wandb_project = \"signate-471\"\n",
        "    print_freq = 100\n",
        "\n",
        "    pre_train = False\n",
        "    train = True\n",
        "    validate = False\n",
        "    inference = False\n",
        "\n",
        "    debug = False\n",
        "    multi_gpu = False\n",
        "    apex = False\n"
      ],
      "execution_count": 11,
      "outputs": []
    },
    {
      "cell_type": "code",
      "metadata": {
        "id": "0a195fe0"
      },
      "source": [
        "if Config.pre_train:\n",
        "    wandb_job_type = \"pre_training\"\n",
        "\n",
        "elif Config.train:\n",
        "    wandb_job_type = \"training\"\n",
        "\n",
        "elif Config.inference:\n",
        "    wandb_job_type = \"inference\"\n",
        "\n",
        "elif Config.validate:\n",
        "    wandb_job_type = \"validation\""
      ],
      "execution_count": 12,
      "outputs": []
    },
    {
      "cell_type": "code",
      "metadata": {
        "id": "ccb61787"
      },
      "source": [
        "if Config.apex:\n",
        "    from apex import amp"
      ],
      "execution_count": 13,
      "outputs": []
    },
    {
      "cell_type": "code",
      "metadata": {
        "colab": {
          "base_uri": "https://localhost:8080/"
        },
        "id": "fWDHvHvNxoD3",
        "outputId": "d6fba338-be14-4e39-922d-e230d8c70baf"
      },
      "source": [
        "# seed = random.randrange(10000)\n",
        "seed = 440\n",
        "\n",
        "print(seed)"
      ],
      "execution_count": 14,
      "outputs": [
        {
          "output_type": "stream",
          "text": [
            "440\n"
          ],
          "name": "stdout"
        }
      ]
    },
    {
      "cell_type": "code",
      "metadata": {
        "id": "daf057a9"
      },
      "source": [
        "config_defaults = {\n",
        "    \"seed\": seed,\n",
        "    \"input\": \"abstract_title\",  # \"preprocessed_title_abstract\",  # \"title\", # \"title_abstract\",\n",
        "    \"max_len\": 512,\n",
        "    \"border\": \"minimize\", # \"fixed\", \"minimize\",\n",
        "    \"n_class\": 1,\n",
        "    \"n_fold\": 5,\n",
        "    \"gradient_accumulation_steps\": 2,\n",
        "    \"max_grad_norm\": 1000,\n",
        "    \"num_workers\": 4,\n",
        "    \"batch_size\": 12,\n",
        "    \"epochs\": 3,\n",
        "    \"optimizer\": \"BertAdamW\",\n",
        "    \"scheduler\": \"get_cosine_schedule_with_warmup\",\n",
        "    \"criterion\": \"BCEWithLogitsLoss\",  # \"FBetaLoss\",  # \"BCEWithLogitsLoss\",\n",
        "    \"lr\": 2e-5,\n",
        "    \"min_lr\": 1e-5,\n",
        "    \"weight_decay\": 0.01,\n",
        "    \"dropout\": 0.1,\n",
        "    \"model_name\": \"dmis-lab/biobert-base-cased-v1.1-squad\",\n",
        "    # \"bionlp/bluebert_pubmed_uncased_L-12_H-768_A-12\",\n",
        "    # \"bionlp/bluebert_pubmed_mimic_uncased_L-12_H-768_A-12\",\n",
        "    # \"bionlp/bluebert_pubmed_uncased_L-24_H-1024_A-16\",\n",
        "    # \"bionlp/bluebert_pubmed_mimic_uncased_L-24_H-1024_A-16\",\n",
        "    # \"dmis-lab/biobert-base-cased-v1.1\",\n",
        "    # \"dmis-lab/biobert-base-cased-v1.1-squad\",\n",
        "    # \"dmis-lab/biobert-large-cased-v1.1\",\n",
        "    # \"dmis-lab/biobert-large-cased-v1.1-squad\",\n",
        "    \"reinit_layers\": 0,\n",
        "    \"freeze_layers\": 0,\n",
        "    \"inference_runs\": [\n",
        "        \"1kxyqvm2\",  # 53\n",
        "    ],\n",
        "}\n"
      ],
      "execution_count": 15,
      "outputs": []
    },
    {
      "cell_type": "code",
      "metadata": {
        "id": "VUQbknvvbZR5"
      },
      "source": [
        "if not Config.validate and not Config.inference:\n",
        "    config_defaults[\"inference_runs\"] = []"
      ],
      "execution_count": 16,
      "outputs": []
    },
    {
      "cell_type": "code",
      "metadata": {
        "id": "fd440361"
      },
      "source": [
        "if Config.debug:\n",
        "    config_defaults[\"epochs\"] = 1\n",
        "    Config.print_freq = 10"
      ],
      "execution_count": 17,
      "outputs": []
    },
    {
      "cell_type": "code",
      "metadata": {
        "id": "HgjHEBuwETmp"
      },
      "source": [
        "if config_defaults[\"optimizer\"] == \"BertAdamW\":\n",
        "    config_defaults[\"lr_69\"] = 5e-5\n",
        "    config_defaults[\"lr_133\"] = 1e-4\n"
      ],
      "execution_count": 18,
      "outputs": []
    },
    {
      "cell_type": "code",
      "metadata": {
        "colab": {
          "base_uri": "https://localhost:8080/"
        },
        "id": "b5a710ed",
        "outputId": "ebfd07b8-d04b-4f59-fed7-6c1306c9c6c8"
      },
      "source": [
        "# Update by epoch\n",
        "# num_steps = config_defaults[\"epochs\"]\n",
        "\n",
        "# Update by batch\n",
        "num_data = 1000 if Config.debug else len(train)\n",
        "num_steps = num_data // config_defaults[\"n_fold\"] * (config_defaults[\"n_fold\"] - 1) // config_defaults[\"batch_size\"] // config_defaults[\"gradient_accumulation_steps\"] * config_defaults[\"epochs\"]\n",
        "\n",
        "print(num_steps)\n",
        "\n",
        "if config_defaults[\"scheduler\"] == \"CosineAnnealingWarmRestarts\":\n",
        "    config_defaults[\"T_0\"] = num_steps\n",
        "\n",
        "elif config_defaults[\"scheduler\"] == \"CosineAnnealingLR\":\n",
        "    config_defaults[\"T_max\"] = num_steps\n",
        "\n",
        "elif config_defaults[\"scheduler\"] == \"ReduceLROnPlateau\":\n",
        "    config_defaults[\"factor\"] = 0.2\n",
        "    config_defaults[\"patience\"] = 4\n",
        "    config_defaults[\"eps\"] = 1e-6\n",
        "\n",
        "elif config_defaults[\"scheduler\"] == \"CosineAnnealingWarmupRestarts\":\n",
        "    config_defaults[\"first_cycle_steps\"] = num_steps\n",
        "    config_defaults[\"warmup_steps\"] = num_steps // 10\n",
        "\n",
        "elif config_defaults[\"scheduler\"] == \"get_cosine_schedule_with_warmup\":\n",
        "    config_defaults[\"num_training_steps\"] = num_steps\n",
        "    config_defaults[\"num_warmup_steps\"] = max(50, num_steps // 10)"
      ],
      "execution_count": 19,
      "outputs": [
        {
          "output_type": "stream",
          "text": [
            "2712\n"
          ],
          "name": "stdout"
        }
      ]
    },
    {
      "cell_type": "code",
      "metadata": {
        "id": "a6a78770",
        "colab": {
          "base_uri": "https://localhost:8080/",
          "height": 136
        },
        "outputId": "32a5dc8e-b041-4486-f4c8-1c8179b22287"
      },
      "source": [
        "if Config.debug:\n",
        "    run = wandb.init(project=Config.wandb_project, config=config_defaults, mode=\"disabled\")\n",
        "else:\n",
        "    run = wandb.init(project=Config.wandb_project, config=config_defaults, notes=wandb_notes, tags=wandb_tags, job_type=wandb_job_type, save_code=True)"
      ],
      "execution_count": 20,
      "outputs": [
        {
          "output_type": "stream",
          "text": [
            "\u001b[34m\u001b[1mwandb\u001b[0m: Currently logged in as: \u001b[33mimokuri\u001b[0m (use `wandb login --relogin` to force relogin)\n"
          ],
          "name": "stderr"
        },
        {
          "output_type": "display_data",
          "data": {
            "text/html": [
              "\n",
              "                Tracking run with wandb version 0.11.2<br/>\n",
              "                Syncing run <strong style=\"color:#cdcd00\">still-sponge-64</strong> to <a href=\"https://wandb.ai\" target=\"_blank\">Weights & Biases</a> <a href=\"https://docs.wandb.com/integrations/jupyter.html\" target=\"_blank\">(Documentation)</a>.<br/>\n",
              "                Project page: <a href=\"https://wandb.ai/imokuri/signate-471\" target=\"_blank\">https://wandb.ai/imokuri/signate-471</a><br/>\n",
              "                Run page: <a href=\"https://wandb.ai/imokuri/signate-471/runs/mxe0tzxa\" target=\"_blank\">https://wandb.ai/imokuri/signate-471/runs/mxe0tzxa</a><br/>\n",
              "                Run data is saved locally in <code>/content/wandb/run-20210807_041631-mxe0tzxa</code><br/><br/>\n",
              "            "
            ],
            "text/plain": [
              "<IPython.core.display.HTML object>"
            ]
          },
          "metadata": {
            "tags": []
          }
        }
      ]
    },
    {
      "cell_type": "code",
      "metadata": {
        "id": "2408ee43"
      },
      "source": [
        "config = wandb.config"
      ],
      "execution_count": 21,
      "outputs": []
    },
    {
      "cell_type": "markdown",
      "metadata": {
        "id": "ezOfV_OKnV2I"
      },
      "source": [
        "## EDA-1"
      ]
    },
    {
      "cell_type": "code",
      "metadata": {
        "id": "e1C7cU7ka70h",
        "colab": {
          "base_uri": "https://localhost:8080/"
        },
        "outputId": "675e7db9-0814-407d-ed0d-8ecc7b52aa7a"
      },
      "source": [
        "# アブストが空っぽのが結構ある\n",
        "print(train.isnull().sum())\n",
        "print(test.isnull().sum())"
      ],
      "execution_count": 22,
      "outputs": [
        {
          "output_type": "stream",
          "text": [
            "id              0\n",
            "title           0\n",
            "abstract     4390\n",
            "judgement       0\n",
            "dtype: int64\n",
            "id             0\n",
            "title          0\n",
            "abstract    6546\n",
            "dtype: int64\n"
          ],
          "name": "stdout"
        }
      ]
    },
    {
      "cell_type": "markdown",
      "metadata": {
        "id": "N4fTaf66DiXj"
      },
      "source": [
        "## Preprocessing"
      ]
    },
    {
      "cell_type": "code",
      "metadata": {
        "id": "iuuU17phnFMz"
      },
      "source": [
        "def preprocess(data):\n",
        "    \n",
        "    title_abstract = []\n",
        "    for e in data:\n",
        "\n",
        "        # アルファベット以外は空白に置換します。\n",
        "        e = re.sub(\"[^a-zA-Z]\", \" \", e)\n",
        "\n",
        "        # 小文字に変換します。\n",
        "        e = e.lower()\n",
        "\n",
        "        # token に分割します。\n",
        "        e = nltk.word_tokenize(e)\n",
        "\n",
        "        # stop word を削除します。\n",
        "        e = [word for word in e if not word in set(nltk.corpus.stopwords.words(\"english\"))]\n",
        "\n",
        "        # 見出し語化します。\n",
        "        lemma = nltk.WordNetLemmatizer()\n",
        "        e = [lemma.lemmatize(word) for word in e]\n",
        "        e = \" \".join(e)\n",
        "\n",
        "        title_abstract.append(e)\n",
        "\n",
        "    return title_abstract"
      ],
      "execution_count": 23,
      "outputs": []
    },
    {
      "cell_type": "code",
      "metadata": {
        "id": "ylcVBT02nIGZ"
      },
      "source": [
        "def get_train_data(train):\n",
        "\n",
        "    # NaN を空白で埋めます。\n",
        "    train = train.fillna(\"\")\n",
        "\n",
        "    # abstract の有無を Stratified KFold で使います。\n",
        "    train[\"nan_abstract\"] = np.where(train[\"abstract\"] == \"\", 1, 0)\n",
        "\n",
        "    # title の単語数\n",
        "    train[\"len_title\"] = train[\"title\"].apply(lambda x: len(x.split()))\n",
        "\n",
        "    # abstract の単語数\n",
        "    train[\"len_abstract\"] = train[\"abstract\"].apply(lambda x: len(x.split()))\n",
        "\n",
        "    # title と abstract を接続します。\n",
        "    train[\"title_abstract\"] = train[[\"title\", \"abstract\"]].agg(\" \".join, axis=1)\n",
        "    train[\"abstract_title\"] = train[[\"abstract\", \"title\"]].agg(\" \".join, axis=1)\n",
        "\n",
        "    # train[\"preprocessed_title_abstract\"] = preprocess(train[\"title_abstract\"])\n",
        "\n",
        "    # 前処理した文の単語数\n",
        "    # train[\"len_preprocessed_title_abstract\"] = train[\"preprocessed_title_abstract\"].apply(lambda x: len(x.split()))\n",
        "\n",
        "    return train"
      ],
      "execution_count": 24,
      "outputs": []
    },
    {
      "cell_type": "code",
      "metadata": {
        "id": "6YskezxynKkm"
      },
      "source": [
        "def get_test_data(test):\n",
        "\n",
        "    # NaN を空白で埋めます。\n",
        "    test = test.fillna(\"\")\n",
        "\n",
        "    # title の単語数\n",
        "    test[\"len_title\"] = test[\"title\"].apply(lambda x: len(x.split()))\n",
        "\n",
        "    # abstract の単語数\n",
        "    test[\"len_abstract\"] = test[\"abstract\"].apply(lambda x: len(x.split()))\n",
        "\n",
        "    # title と abstract を接続します。\n",
        "    test[\"title_abstract\"] = test[[\"title\", \"abstract\"]].agg(\" \".join, axis=1)\n",
        "    test[\"abstract_title\"] = test[[\"abstract\", \"title\"]].agg(\" \".join, axis=1)\n",
        "\n",
        "    # test[\"preprocessed_title_abstract\"] = preprocess(test[\"title_abstract\"])\n",
        "\n",
        "    # 前処理した文の単語数\n",
        "    # test[\"len_preprocessed_title_abstract\"] = test[\"preprocessed_title_abstract\"].apply(lambda x: len(x.split()))\n",
        "\n",
        "    return test"
      ],
      "execution_count": 25,
      "outputs": []
    },
    {
      "cell_type": "code",
      "metadata": {
        "id": "M_0CPmvZnQFP"
      },
      "source": [
        "if False:  # os.path.exists(\"/gdrive/MyDrive/Datasets/signate-471/preprocessed_train.csv\"):\n",
        "    !cp -f /gdrive/MyDrive/Datasets/signate-471/preprocessed_train.csv .\n",
        "    train = pd.read_csv(\"preprocessed_train.csv\")\n",
        "\n",
        "    # csv を再読み込みすると NaN に戻ってしまうので、再度変換します。\n",
        "    train = train.fillna(\"\")\n",
        "\n",
        "else:\n",
        "    # 一度、前処理したものは保存しておきます。\n",
        "    train = get_train_data(train)\n",
        "    # train.to_csv(\"preprocessed_train.csv\")\n",
        "\n",
        "    # artifact = wandb.Artifact('preprocessed_train', type='dataset')\n",
        "    # artifact.add_file(\"preprocessed_train.csv\")\n",
        "    # run.log_artifact(artifact)\n",
        "\n",
        "    # !cp -f preprocessed_train.csv /gdrive/MyDrive/Datasets/signate-471/"
      ],
      "execution_count": 26,
      "outputs": []
    },
    {
      "cell_type": "code",
      "metadata": {
        "id": "A248D057nSd6"
      },
      "source": [
        "if False:  # os.path.exists(\"/gdrive/MyDrive/Datasets/signate-471/preprocessed_test.csv\"):\n",
        "    !cp -f /gdrive/MyDrive/Datasets/signate-471/preprocessed_test.csv .\n",
        "    test = pd.read_csv(\"preprocessed_test.csv\")\n",
        "\n",
        "    # csv を再読み込みすると NaN に戻ってしまうので、再度変換します。\n",
        "    test = test.fillna(\"\")\n",
        "\n",
        "else:\n",
        "    # 一度、前処理したものは保存しておきます。\n",
        "    test = get_test_data(test)\n",
        "    # test.to_csv(\"preprocessed_test.csv\")\n",
        "\n",
        "    # artifact = wandb.Artifact('preprocessed_test', type='dataset')\n",
        "    # artifact.add_file(\"preprocessed_test.csv\")\n",
        "    # run.log_artifact(artifact)\n",
        "\n",
        "    # !cp -f preprocessed_test.csv /gdrive/MyDrive/Datasets/signate-471/"
      ],
      "execution_count": 27,
      "outputs": []
    },
    {
      "cell_type": "markdown",
      "metadata": {
        "id": "6UPOk9WroUmX"
      },
      "source": [
        "## EDA-2"
      ]
    },
    {
      "cell_type": "code",
      "metadata": {
        "colab": {
          "base_uri": "https://localhost:8080/"
        },
        "id": "BloR0mcceTWK",
        "outputId": "2253ce7f-5042-4594-b920-9a843a259249"
      },
      "source": [
        "# abstract に改行は含まれていない\n",
        "print(len(train[train[\"abstract\"].str.contains(\"\\n\")]))\n",
        "print(len(test[test[\"abstract\"].str.contains(\"\\n\")]))"
      ],
      "execution_count": 28,
      "outputs": [
        {
          "output_type": "stream",
          "text": [
            "0\n",
            "0\n"
          ],
          "name": "stdout"
        }
      ]
    },
    {
      "cell_type": "code",
      "metadata": {
        "colab": {
          "base_uri": "https://localhost:8080/"
        },
        "id": "VHfTQdU8Cezv",
        "outputId": "b3914486-7f1f-4b60-b7d9-cb75646408de"
      },
      "source": [
        "# title の単語数\n",
        "print(train[\"len_title\"].max())\n",
        "print(test[\"len_title\"].max())"
      ],
      "execution_count": 29,
      "outputs": [
        {
          "output_type": "stream",
          "text": [
            "53\n",
            "69\n"
          ],
          "name": "stdout"
        }
      ]
    },
    {
      "cell_type": "code",
      "metadata": {
        "colab": {
          "base_uri": "https://localhost:8080/"
        },
        "id": "Rx2M2402NSOU",
        "outputId": "2e6c84b6-f6f1-4370-dece-89709deea4be"
      },
      "source": [
        "# abstract の単語数\n",
        "print(train[\"len_abstract\"].max())\n",
        "print(test[\"len_abstract\"].max())"
      ],
      "execution_count": 30,
      "outputs": [
        {
          "output_type": "stream",
          "text": [
            "1535\n",
            "1445\n"
          ],
          "name": "stdout"
        }
      ]
    },
    {
      "cell_type": "code",
      "metadata": {
        "id": "O1WviNuCdGec"
      },
      "source": [
        "# 前処理した文の単語数\n",
        "# print(train[\"len_preprocessed_title_abstract\"].max())\n",
        "# print(test[\"len_preprocessed_title_abstract\"].max())"
      ],
      "execution_count": 31,
      "outputs": []
    },
    {
      "cell_type": "code",
      "metadata": {
        "colab": {
          "base_uri": "https://localhost:8080/",
          "height": 1000
        },
        "id": "18097672",
        "outputId": "ad15add3-39d9-491d-e040-d2f3af5fdb1e"
      },
      "source": [
        "for ds in [train, test, sub]:\n",
        "    print(f\"=\" * 80)\n",
        "    ds.info()\n",
        "    display(ds.head())"
      ],
      "execution_count": 32,
      "outputs": [
        {
          "output_type": "stream",
          "text": [
            "================================================================================\n",
            "<class 'pandas.core.frame.DataFrame'>\n",
            "RangeIndex: 27145 entries, 0 to 27144\n",
            "Data columns (total 9 columns):\n",
            " #   Column          Non-Null Count  Dtype \n",
            "---  ------          --------------  ----- \n",
            " 0   id              27145 non-null  int64 \n",
            " 1   title           27145 non-null  object\n",
            " 2   abstract        27145 non-null  object\n",
            " 3   judgement       27145 non-null  int64 \n",
            " 4   nan_abstract    27145 non-null  int64 \n",
            " 5   len_title       27145 non-null  int64 \n",
            " 6   len_abstract    27145 non-null  int64 \n",
            " 7   title_abstract  27145 non-null  object\n",
            " 8   abstract_title  27145 non-null  object\n",
            "dtypes: int64(5), object(4)\n",
            "memory usage: 1.9+ MB\n"
          ],
          "name": "stdout"
        },
        {
          "output_type": "display_data",
          "data": {
            "text/html": [
              "<div>\n",
              "<style scoped>\n",
              "    .dataframe tbody tr th:only-of-type {\n",
              "        vertical-align: middle;\n",
              "    }\n",
              "\n",
              "    .dataframe tbody tr th {\n",
              "        vertical-align: top;\n",
              "    }\n",
              "\n",
              "    .dataframe thead th {\n",
              "        text-align: right;\n",
              "    }\n",
              "</style>\n",
              "<table border=\"1\" class=\"dataframe\">\n",
              "  <thead>\n",
              "    <tr style=\"text-align: right;\">\n",
              "      <th></th>\n",
              "      <th>id</th>\n",
              "      <th>title</th>\n",
              "      <th>abstract</th>\n",
              "      <th>judgement</th>\n",
              "      <th>nan_abstract</th>\n",
              "      <th>len_title</th>\n",
              "      <th>len_abstract</th>\n",
              "      <th>title_abstract</th>\n",
              "      <th>abstract_title</th>\n",
              "    </tr>\n",
              "  </thead>\n",
              "  <tbody>\n",
              "    <tr>\n",
              "      <th>0</th>\n",
              "      <td>0</td>\n",
              "      <td>One-year age changes in MRI brain volumes in o...</td>\n",
              "      <td>Longitudinal studies indicate that declines in...</td>\n",
              "      <td>0</td>\n",
              "      <td>0</td>\n",
              "      <td>10</td>\n",
              "      <td>193</td>\n",
              "      <td>One-year age changes in MRI brain volumes in o...</td>\n",
              "      <td>Longitudinal studies indicate that declines in...</td>\n",
              "    </tr>\n",
              "    <tr>\n",
              "      <th>1</th>\n",
              "      <td>1</td>\n",
              "      <td>Supportive CSF biomarker evidence to enhance t...</td>\n",
              "      <td>The present study was undertaken to validate t...</td>\n",
              "      <td>0</td>\n",
              "      <td>0</td>\n",
              "      <td>23</td>\n",
              "      <td>214</td>\n",
              "      <td>Supportive CSF biomarker evidence to enhance t...</td>\n",
              "      <td>The present study was undertaken to validate t...</td>\n",
              "    </tr>\n",
              "    <tr>\n",
              "      <th>2</th>\n",
              "      <td>2</td>\n",
              "      <td>Occurrence of basal ganglia germ cell tumors w...</td>\n",
              "      <td>Objective: To report a case series in which ba...</td>\n",
              "      <td>0</td>\n",
              "      <td>0</td>\n",
              "      <td>10</td>\n",
              "      <td>133</td>\n",
              "      <td>Occurrence of basal ganglia germ cell tumors w...</td>\n",
              "      <td>Objective: To report a case series in which ba...</td>\n",
              "    </tr>\n",
              "    <tr>\n",
              "      <th>3</th>\n",
              "      <td>3</td>\n",
              "      <td>New developments in diagnosis and therapy of C...</td>\n",
              "      <td>The etiology and pathogenesis of idiopathic ch...</td>\n",
              "      <td>0</td>\n",
              "      <td>0</td>\n",
              "      <td>13</td>\n",
              "      <td>374</td>\n",
              "      <td>New developments in diagnosis and therapy of C...</td>\n",
              "      <td>The etiology and pathogenesis of idiopathic ch...</td>\n",
              "    </tr>\n",
              "    <tr>\n",
              "      <th>4</th>\n",
              "      <td>4</td>\n",
              "      <td>Prolonged shedding of SARS-CoV-2 in an elderly...</td>\n",
              "      <td></td>\n",
              "      <td>0</td>\n",
              "      <td>1</td>\n",
              "      <td>16</td>\n",
              "      <td>0</td>\n",
              "      <td>Prolonged shedding of SARS-CoV-2 in an elderly...</td>\n",
              "      <td>Prolonged shedding of SARS-CoV-2 in an elderl...</td>\n",
              "    </tr>\n",
              "  </tbody>\n",
              "</table>\n",
              "</div>"
            ],
            "text/plain": [
              "   id  ...                                     abstract_title\n",
              "0   0  ...  Longitudinal studies indicate that declines in...\n",
              "1   1  ...  The present study was undertaken to validate t...\n",
              "2   2  ...  Objective: To report a case series in which ba...\n",
              "3   3  ...  The etiology and pathogenesis of idiopathic ch...\n",
              "4   4  ...   Prolonged shedding of SARS-CoV-2 in an elderl...\n",
              "\n",
              "[5 rows x 9 columns]"
            ]
          },
          "metadata": {
            "tags": []
          }
        },
        {
          "output_type": "stream",
          "text": [
            "================================================================================\n",
            "<class 'pandas.core.frame.DataFrame'>\n",
            "RangeIndex: 40834 entries, 0 to 40833\n",
            "Data columns (total 7 columns):\n",
            " #   Column          Non-Null Count  Dtype \n",
            "---  ------          --------------  ----- \n",
            " 0   id              40834 non-null  int64 \n",
            " 1   title           40834 non-null  object\n",
            " 2   abstract        40834 non-null  object\n",
            " 3   len_title       40834 non-null  int64 \n",
            " 4   len_abstract    40834 non-null  int64 \n",
            " 5   title_abstract  40834 non-null  object\n",
            " 6   abstract_title  40834 non-null  object\n",
            "dtypes: int64(3), object(4)\n",
            "memory usage: 2.2+ MB\n"
          ],
          "name": "stdout"
        },
        {
          "output_type": "display_data",
          "data": {
            "text/html": [
              "<div>\n",
              "<style scoped>\n",
              "    .dataframe tbody tr th:only-of-type {\n",
              "        vertical-align: middle;\n",
              "    }\n",
              "\n",
              "    .dataframe tbody tr th {\n",
              "        vertical-align: top;\n",
              "    }\n",
              "\n",
              "    .dataframe thead th {\n",
              "        text-align: right;\n",
              "    }\n",
              "</style>\n",
              "<table border=\"1\" class=\"dataframe\">\n",
              "  <thead>\n",
              "    <tr style=\"text-align: right;\">\n",
              "      <th></th>\n",
              "      <th>id</th>\n",
              "      <th>title</th>\n",
              "      <th>abstract</th>\n",
              "      <th>len_title</th>\n",
              "      <th>len_abstract</th>\n",
              "      <th>title_abstract</th>\n",
              "      <th>abstract_title</th>\n",
              "    </tr>\n",
              "  </thead>\n",
              "  <tbody>\n",
              "    <tr>\n",
              "      <th>0</th>\n",
              "      <td>27145</td>\n",
              "      <td>Estimating the potential effects of COVID-19 p...</td>\n",
              "      <td>The objective of the paper is to analyse chang...</td>\n",
              "      <td>16</td>\n",
              "      <td>245</td>\n",
              "      <td>Estimating the potential effects of COVID-19 p...</td>\n",
              "      <td>The objective of the paper is to analyse chang...</td>\n",
              "    </tr>\n",
              "    <tr>\n",
              "      <th>1</th>\n",
              "      <td>27146</td>\n",
              "      <td>Leukoerythroblastic reaction in a patient with...</td>\n",
              "      <td></td>\n",
              "      <td>8</td>\n",
              "      <td>0</td>\n",
              "      <td>Leukoerythroblastic reaction in a patient with...</td>\n",
              "      <td>Leukoerythroblastic reaction in a patient wit...</td>\n",
              "    </tr>\n",
              "    <tr>\n",
              "      <th>2</th>\n",
              "      <td>27147</td>\n",
              "      <td>[15O]-water PET and intraoperative brain mappi...</td>\n",
              "      <td>[15O]-water PET was performed on 12 patients w...</td>\n",
              "      <td>14</td>\n",
              "      <td>315</td>\n",
              "      <td>[15O]-water PET and intraoperative brain mappi...</td>\n",
              "      <td>[15O]-water PET was performed on 12 patients w...</td>\n",
              "    </tr>\n",
              "    <tr>\n",
              "      <th>3</th>\n",
              "      <td>27148</td>\n",
              "      <td>Adaptive image segmentation for robust measure...</td>\n",
              "      <td>We present a method that significantly improve...</td>\n",
              "      <td>11</td>\n",
              "      <td>119</td>\n",
              "      <td>Adaptive image segmentation for robust measure...</td>\n",
              "      <td>We present a method that significantly improve...</td>\n",
              "    </tr>\n",
              "    <tr>\n",
              "      <th>4</th>\n",
              "      <td>27149</td>\n",
              "      <td>Comparison of Epidemiological Variations in CO...</td>\n",
              "      <td>The objective of this study is to compare the ...</td>\n",
              "      <td>13</td>\n",
              "      <td>224</td>\n",
              "      <td>Comparison of Epidemiological Variations in CO...</td>\n",
              "      <td>The objective of this study is to compare the ...</td>\n",
              "    </tr>\n",
              "  </tbody>\n",
              "</table>\n",
              "</div>"
            ],
            "text/plain": [
              "      id  ...                                     abstract_title\n",
              "0  27145  ...  The objective of the paper is to analyse chang...\n",
              "1  27146  ...   Leukoerythroblastic reaction in a patient wit...\n",
              "2  27147  ...  [15O]-water PET was performed on 12 patients w...\n",
              "3  27148  ...  We present a method that significantly improve...\n",
              "4  27149  ...  The objective of this study is to compare the ...\n",
              "\n",
              "[5 rows x 7 columns]"
            ]
          },
          "metadata": {
            "tags": []
          }
        },
        {
          "output_type": "stream",
          "text": [
            "================================================================================\n",
            "<class 'pandas.core.frame.DataFrame'>\n",
            "RangeIndex: 40834 entries, 0 to 40833\n",
            "Data columns (total 2 columns):\n",
            " #   Column     Non-Null Count  Dtype\n",
            "---  ------     --------------  -----\n",
            " 0   id         40834 non-null  int64\n",
            " 1   judgement  40834 non-null  int64\n",
            "dtypes: int64(2)\n",
            "memory usage: 638.2 KB\n"
          ],
          "name": "stdout"
        },
        {
          "output_type": "display_data",
          "data": {
            "text/html": [
              "<div>\n",
              "<style scoped>\n",
              "    .dataframe tbody tr th:only-of-type {\n",
              "        vertical-align: middle;\n",
              "    }\n",
              "\n",
              "    .dataframe tbody tr th {\n",
              "        vertical-align: top;\n",
              "    }\n",
              "\n",
              "    .dataframe thead th {\n",
              "        text-align: right;\n",
              "    }\n",
              "</style>\n",
              "<table border=\"1\" class=\"dataframe\">\n",
              "  <thead>\n",
              "    <tr style=\"text-align: right;\">\n",
              "      <th></th>\n",
              "      <th>id</th>\n",
              "      <th>judgement</th>\n",
              "    </tr>\n",
              "  </thead>\n",
              "  <tbody>\n",
              "    <tr>\n",
              "      <th>0</th>\n",
              "      <td>27145</td>\n",
              "      <td>0</td>\n",
              "    </tr>\n",
              "    <tr>\n",
              "      <th>1</th>\n",
              "      <td>27146</td>\n",
              "      <td>1</td>\n",
              "    </tr>\n",
              "    <tr>\n",
              "      <th>2</th>\n",
              "      <td>27147</td>\n",
              "      <td>1</td>\n",
              "    </tr>\n",
              "    <tr>\n",
              "      <th>3</th>\n",
              "      <td>27148</td>\n",
              "      <td>0</td>\n",
              "    </tr>\n",
              "    <tr>\n",
              "      <th>4</th>\n",
              "      <td>27149</td>\n",
              "      <td>1</td>\n",
              "    </tr>\n",
              "  </tbody>\n",
              "</table>\n",
              "</div>"
            ],
            "text/plain": [
              "      id  judgement\n",
              "0  27145          0\n",
              "1  27146          1\n",
              "2  27147          1\n",
              "3  27148          0\n",
              "4  27149          1"
            ]
          },
          "metadata": {
            "tags": []
          }
        }
      ]
    },
    {
      "cell_type": "markdown",
      "metadata": {
        "id": "a9L3nMYzDMqJ"
      },
      "source": [
        "### 目的変数 judgement の分布"
      ]
    },
    {
      "cell_type": "code",
      "metadata": {
        "colab": {
          "base_uri": "https://localhost:8080/",
          "height": 296
        },
        "id": "3f5772d0",
        "outputId": "7fb91596-8f70-46a9-8f0d-cc9fbe66a0ba"
      },
      "source": [
        "sns.distplot(train[\"judgement\"], kde=False)"
      ],
      "execution_count": 33,
      "outputs": [
        {
          "output_type": "execute_result",
          "data": {
            "text/plain": [
              "<matplotlib.axes._subplots.AxesSubplot at 0x7f1ef2893a10>"
            ]
          },
          "metadata": {
            "tags": []
          },
          "execution_count": 33
        },
        {
          "output_type": "display_data",
          "data": {
            "image/png": "[encoded data removed]",
            "text/plain": [
              "<Figure size 432x288 with 1 Axes>"
            ]
          },
          "metadata": {
            "tags": [],
            "needs_background": "light"
          }
        }
      ]
    },
    {
      "cell_type": "code",
      "metadata": {
        "colab": {
          "base_uri": "https://localhost:8080/"
        },
        "id": "PuZVvlM8Xy91",
        "outputId": "7e6f826c-8c8e-4dbb-e85d-d460728d0d6b"
      },
      "source": [
        "train[\"judgement\"].value_counts()"
      ],
      "execution_count": 34,
      "outputs": [
        {
          "output_type": "execute_result",
          "data": {
            "text/plain": [
              "0    26513\n",
              "1      632\n",
              "Name: judgement, dtype: int64"
            ]
          },
          "metadata": {
            "tags": []
          },
          "execution_count": 34
        }
      ]
    },
    {
      "cell_type": "code",
      "metadata": {
        "colab": {
          "base_uri": "https://localhost:8080/"
        },
        "id": "2E-56356_L3T",
        "outputId": "6f1899c9-cd8f-43da-b827-8d7fa7c2a352"
      },
      "source": [
        "border = len(train[train[\"judgement\"] == 1]) / len(train[\"judgement\"])\n",
        "print(border)"
      ],
      "execution_count": 35,
      "outputs": [
        {
          "output_type": "stream",
          "text": [
            "0.023282372444280715\n"
          ],
          "name": "stdout"
        }
      ]
    },
    {
      "cell_type": "markdown",
      "metadata": {
        "id": "LZNrZoksDSMb"
      },
      "source": [
        "### title の単語数の分布"
      ]
    },
    {
      "cell_type": "code",
      "metadata": {
        "colab": {
          "base_uri": "https://localhost:8080/",
          "height": 242
        },
        "id": "ixixzShVH80j",
        "outputId": "943fd345-e8b7-4ef6-bb90-cf448723f4a7"
      },
      "source": [
        "g = sns.FacetGrid(train[[\"judgement\", \"len_title\"]], hue='judgement')\n",
        "g.map(sns.distplot, 'len_title', label='judgement', hist=True, rug=False)\n",
        "g.add_legend()"
      ],
      "execution_count": 36,
      "outputs": [
        {
          "output_type": "execute_result",
          "data": {
            "text/plain": [
              "<seaborn.axisgrid.FacetGrid at 0x7f1ef2f7d150>"
            ]
          },
          "metadata": {
            "tags": []
          },
          "execution_count": 36
        },
        {
          "output_type": "display_data",
          "data": {
            "image/png": "[encoded data removed]",
            "text/plain": [
              "<Figure size 278.125x216 with 1 Axes>"
            ]
          },
          "metadata": {
            "tags": [],
            "needs_background": "light"
          }
        }
      ]
    },
    {
      "cell_type": "code",
      "metadata": {
        "colab": {
          "base_uri": "https://localhost:8080/",
          "height": 297
        },
        "id": "W_kt9XDpGTm2",
        "outputId": "c3623fda-e529-4216-98e7-b6983cfad832"
      },
      "source": [
        "sns.distplot(test[\"len_title\"], hist=True, rug=False)"
      ],
      "execution_count": 37,
      "outputs": [
        {
          "output_type": "execute_result",
          "data": {
            "text/plain": [
              "<matplotlib.axes._subplots.AxesSubplot at 0x7f1ef21062d0>"
            ]
          },
          "metadata": {
            "tags": []
          },
          "execution_count": 37
        },
        {
          "output_type": "display_data",
          "data": {
            "image/png": "[encoded data removed]",
            "text/plain": [
              "<Figure size 432x288 with 1 Axes>"
            ]
          },
          "metadata": {
            "tags": [],
            "needs_background": "light"
          }
        }
      ]
    },
    {
      "cell_type": "markdown",
      "metadata": {
        "id": "z6gm9NCpDZ6V"
      },
      "source": [
        "### abstract の単語数の分布"
      ]
    },
    {
      "cell_type": "code",
      "metadata": {
        "colab": {
          "base_uri": "https://localhost:8080/",
          "height": 242
        },
        "id": "EqwDn4hUImd6",
        "outputId": "1c0558e6-c0c9-4372-9a05-cf891841999c"
      },
      "source": [
        "g = sns.FacetGrid(train[[\"judgement\", \"len_abstract\"]], hue='judgement')\n",
        "g.map(sns.distplot, 'len_abstract', label='judgement', hist=True, rug=False)\n",
        "g.add_legend()"
      ],
      "execution_count": 38,
      "outputs": [
        {
          "output_type": "execute_result",
          "data": {
            "text/plain": [
              "<seaborn.axisgrid.FacetGrid at 0x7f1ef30d3490>"
            ]
          },
          "metadata": {
            "tags": []
          },
          "execution_count": 38
        },
        {
          "output_type": "display_data",
          "data": {
            "image/png": "[encoded data removed]",
            "text/plain": [
              "<Figure size 278.125x216 with 1 Axes>"
            ]
          },
          "metadata": {
            "tags": [],
            "needs_background": "light"
          }
        }
      ]
    },
    {
      "cell_type": "code",
      "metadata": {
        "colab": {
          "base_uri": "https://localhost:8080/",
          "height": 297
        },
        "id": "xHnKSMahIqI7",
        "outputId": "7bc03a92-0438-4797-a04b-e9357e578557"
      },
      "source": [
        "sns.distplot(test[\"len_abstract\"], hist=True, rug=False)"
      ],
      "execution_count": 39,
      "outputs": [
        {
          "output_type": "execute_result",
          "data": {
            "text/plain": [
              "<matplotlib.axes._subplots.AxesSubplot at 0x7f1ef2fa5290>"
            ]
          },
          "metadata": {
            "tags": []
          },
          "execution_count": 39
        },
        {
          "output_type": "display_data",
          "data": {
            "image/png": "[encoded data removed]",
            "text/plain": [
              "<Figure size 432x288 with 1 Axes>"
            ]
          },
          "metadata": {
            "tags": [],
            "needs_background": "light"
          }
        }
      ]
    },
    {
      "cell_type": "markdown",
      "metadata": {
        "id": "XeZesLBHnfl5"
      },
      "source": [
        "## Load Models"
      ]
    },
    {
      "cell_type": "code",
      "metadata": {
        "id": "wOdN4h2grTzx"
      },
      "source": [
        "if Config.validate:\n",
        "    api = wandb.Api()\n",
        "\n",
        "    for n, run_id in enumerate(config.inference_runs):\n",
        "        if not os.path.exists(run_id):\n",
        "            os.makedirs(run_id)\n",
        "\n",
        "        run_path = f\"{Config.wandb_entity}/{Config.wandb_project}/{run_id}\"\n",
        "        run = api.run(run_path)\n",
        "\n",
        "        try:\n",
        "            run.file(\"oof_df.csv\").download(run_id)\n",
        "        except wandb.CommError:\n",
        "            # Already downloaded.\n",
        "            pass\n",
        "\n",
        "        oof = pd.read_csv(f\"{run_id}/oof_df.csv\")[[\"id\", \"preds\"]]\n",
        "        oof.columns = [\"id\", f\"preds{n}\"]\n",
        "        train = pd.merge(train, oof, on=\"id\")\n",
        "    \n",
        "    print(train.columns)"
      ],
      "execution_count": 40,
      "outputs": []
    },
    {
      "cell_type": "code",
      "metadata": {
        "id": "JM2fDBrNi2_K"
      },
      "source": [
        "if Config.inference:\n",
        "    api = wandb.Api()\n",
        "    inference_models = []\n",
        "\n",
        "    for n, run_id in enumerate(config.inference_runs):\n",
        "        if not os.path.exists(run_id):\n",
        "            os.makedirs(run_id)\n",
        "\n",
        "        run_path = f\"{Config.wandb_entity}/{Config.wandb_project}/{run_id}\"\n",
        "        run = api.run(run_path)\n",
        "\n",
        "        inference_model = {}\n",
        "        inference_model[\"run_id\"] = run_id\n",
        "        inference_model[\"model_name\"] = run.config[\"model_name\"]\n",
        "\n",
        "        for fold in range(config.n_fold):\n",
        "            try:\n",
        "                run.file(f\"{inference_model['model_name'].replace('/', '-')}_fold{fold}_best.pth\").download(run_id)\n",
        "            except wandb.CommError:\n",
        "                # Already downloaded.\n",
        "                pass\n",
        "\n",
        "            model_preds = torch.load(f\"{run_id}/{inference_model['model_name'].replace('/', '-')}_fold{fold}_best.pth\")\n",
        "            inference_model[f\"state_fold{fold}\"] = model_preds[\"model\"]\n",
        "            inference_model[f\"preds_fold{fold}\"] = model_preds[\"preds\"]\n",
        "\n",
        "        inference_models.append(inference_model)\n",
        "    \n",
        "    print({m['run_id']: m['model_name'] for m in inference_models})"
      ],
      "execution_count": 41,
      "outputs": []
    },
    {
      "cell_type": "code",
      "metadata": {
        "id": "ba31d893"
      },
      "source": [
        "if Config.debug:\n",
        "    train = train.sample(n=1000, random_state=config.seed).reset_index(drop=True)\n",
        "    test = test.sample(n=1000, random_state=config.seed).reset_index(drop=True)\n",
        "    sub = sub.sample(n=1000, random_state=config.seed).reset_index(drop=True)"
      ],
      "execution_count": 42,
      "outputs": []
    },
    {
      "cell_type": "markdown",
      "metadata": {
        "id": "_pQ7fKQ2IC6i"
      },
      "source": [
        "## CV Split"
      ]
    },
    {
      "cell_type": "code",
      "metadata": {
        "colab": {
          "base_uri": "https://localhost:8080/"
        },
        "id": "D5Lt-ZLtIHCG",
        "outputId": "0737ab6c-bc36-411d-ae3f-e4ce4a33a1f4"
      },
      "source": [
        "Fold = MultilabelStratifiedKFold(n_splits=5, shuffle=True, random_state=seed)\n",
        "for n, (train_index, val_index) in enumerate(Fold.split(train, train[[\"judgement\", \"nan_abstract\"]])):\n",
        "    train.loc[val_index, \"fold\"] = int(n)\n",
        "train[\"fold\"] = train[\"fold\"].astype(np.uint8)\n",
        "print(train.groupby([\"fold\", \"judgement\", \"nan_abstract\"]).size())"
      ],
      "execution_count": 43,
      "outputs": [
        {
          "output_type": "stream",
          "text": [
            "fold  judgement  nan_abstract\n",
            "0     0          0               4456\n",
            "                 1                847\n",
            "      1          0                 95\n",
            "                 1                 31\n",
            "1     0          0               4444\n",
            "                 1                858\n",
            "      1          0                107\n",
            "                 1                 20\n",
            "2     0          0               4456\n",
            "                 1                847\n",
            "      1          0                 95\n",
            "                 1                 31\n",
            "3     0          0               4441\n",
            "                 1                862\n",
            "      1          0                110\n",
            "                 1                 16\n",
            "4     0          0               4448\n",
            "                 1                854\n",
            "      1          0                103\n",
            "                 1                 24\n",
            "dtype: int64\n"
          ],
          "name": "stdout"
        }
      ]
    },
    {
      "cell_type": "markdown",
      "metadata": {
        "id": "7d423ea8"
      },
      "source": [
        "## Utils"
      ]
    },
    {
      "cell_type": "code",
      "metadata": {
        "id": "5985d91d"
      },
      "source": [
        "@contextmanager\n",
        "def timer(name):\n",
        "    t0 = time.time()\n",
        "    LOGGER.info(f\"[{name}] start\")\n",
        "    yield\n",
        "    LOGGER.info(f\"[{name}] done in {time.time() - t0:.0f} s.\")\n",
        "\n",
        "\n",
        "def init_logger(log_file=OUTPUT_DIR + \"train.log\"):\n",
        "    from logging import INFO, FileHandler, Formatter, StreamHandler, getLogger\n",
        "\n",
        "    logger = getLogger(__name__)\n",
        "    logger.setLevel(INFO)\n",
        "    handler1 = StreamHandler()\n",
        "    handler1.setFormatter(Formatter(\"%(message)s\"))\n",
        "    handler2 = FileHandler(filename=log_file)\n",
        "    handler2.setFormatter(Formatter(\"%(message)s\"))\n",
        "    logger.addHandler(handler1)\n",
        "    logger.addHandler(handler2)\n",
        "    return logger\n",
        "\n",
        "\n",
        "LOGGER = init_logger()\n",
        "\n",
        "\n",
        "def seed_torch(seed=42):\n",
        "    random.seed(seed)\n",
        "    os.environ[\"PYTHONHASHSEED\"] = str(seed)\n",
        "    np.random.seed(seed)\n",
        "    torch.manual_seed(seed)\n",
        "    torch.cuda.manual_seed(seed)\n",
        "    torch.cuda.manual_seed_all(seed)\n",
        "    torch.backends.cudnn.deterministic = True\n",
        "\n",
        "\n",
        "seed_torch(seed=config.seed)\n"
      ],
      "execution_count": 44,
      "outputs": []
    },
    {
      "cell_type": "markdown",
      "metadata": {
        "id": "596efb85"
      },
      "source": [
        "## Dataset"
      ]
    },
    {
      "cell_type": "code",
      "metadata": {
        "id": "c2721636"
      },
      "source": [
        "class BaseDataset(Dataset):\n",
        "    def __init__(self, df, model_name, include_labels=True):\n",
        "        tokenizer = T.AutoTokenizer.from_pretrained(model_name)\n",
        "\n",
        "        self.df = df\n",
        "        self.include_labels = include_labels\n",
        "\n",
        "        self.title = df[config.input].tolist()\n",
        "        self.encoded = tokenizer.batch_encode_plus(\n",
        "            self.title,\n",
        "            padding = 'max_length',            \n",
        "            max_length = config.max_len,\n",
        "            truncation = True,\n",
        "            return_attention_mask=True\n",
        "        )\n",
        "        \n",
        "        if self.include_labels:\n",
        "            self.labels = df[\"judgement\"].values\n",
        "\n",
        "    def __len__(self):\n",
        "        return len(self.df)\n",
        "\n",
        "    def __getitem__(self, idx):\n",
        "        input_ids = torch.tensor(self.encoded['input_ids'][idx])\n",
        "        attention_mask = torch.tensor(self.encoded['attention_mask'][idx])\n",
        "\n",
        "        if self.include_labels:\n",
        "            label = torch.tensor(self.labels[idx]).float()\n",
        "            return input_ids, attention_mask, label\n",
        "\n",
        "        return input_ids, attention_mask\n"
      ],
      "execution_count": 45,
      "outputs": []
    },
    {
      "cell_type": "code",
      "metadata": {
        "colab": {
          "base_uri": "https://localhost:8080/"
        },
        "id": "e56a1c49",
        "outputId": "6d16d26a-9122-46db-d1a0-2f23b2a3f3f5"
      },
      "source": [
        "# Test\n",
        "\n",
        "if config.model_name != \"\":\n",
        "\n",
        "    train_ds = BaseDataset(train, config.model_name)\n",
        "\n",
        "    for i in range(1):\n",
        "        input_ids, attention_mask, label = train_ds[i]\n",
        "        print(input_ids)\n",
        "        print(attention_mask)\n",
        "        print(f\"label: {label}\")\n"
      ],
      "execution_count": 46,
      "outputs": [
        {
          "output_type": "stream",
          "text": [
            "tensor([  101, 23191,  2527,  5057,  1115,  6246,  1116,  1107,  1884, 25763,\n",
            "         1105,  2962, 26872,  1170,  1425,  3102,  1201,   119,  1103, 24928,\n",
            "        11955,  3906, 18778,  1596,  1105, 24928, 11955, 22192, 23652, 13791,\n",
            "         1596,  1223,  6709,  3381,  1116,  1104, 12176,  1849,  1132, 10527,\n",
            "         1112,  1175,  1110,  1376,  1869,  1113, 23191,  3575,  2607,   119,\n",
            "         1195,  1132,  9239,   170, 23191, 24928, 11955,  8628,  3375,  2025,\n",
            "         1104,  1664,  2007, 24674,  2214,  6635,  1107,  1103,   171,  1348,\n",
            "         3121,  4982, 23191,  2025,  1104, 14195,   119,  1142,  2592,  7203,\n",
            "         1113,  1425,  1105,  2673,  5408,  1107,  3575,  2401,  7140,  1118,\n",
            "         8364, 20370, 14377,  1219,  1103,  1148,  1160,  2683, 10540,  1116,\n",
            "          119,  2771,   118,  2237,  1348,  2686,  1121, 13096,  6635,  4079,\n",
            "         4589,   118,  4859,  1201,  7063,  5409,  2610, 21828,  4907,  5552,\n",
            "         6357,  1105,  2964,  5021,  1105,  1653,  2187,  6357,  1107,  2214,\n",
            "         3402,  1114,  3247,  6635,  1105,  1107,  1441,  3402,  1114,  1535,\n",
            "          119,  2918,  3575,  6357,  1437,  1115,  1103,  3154,  1104,  1425,\n",
            "         1105,  2673,  1132,  1136,  6029,  1506,  3575,  4001,   119,  1425,\n",
            "         5408,  1132,  4459,  1111,  1103, 14247, 22331,  1348,  1805,   119,\n",
            "         2673,  5408,  6613,  1106,  1129,  2610,  1111, 22172,  1105, 18107,\n",
            "         1190, 14247, 22331,  1348,  1105,   184, 19557, 18965,  1348,  4001,\n",
            "          119, 23191,  3622, 17798,  1126,  2773,  1104, 15722,  1545,  2608,\n",
            "          113,   124,   114,  1107, 21828,  4907,  5552,  3884,  1166,   122,\n",
            "         1214,  1133,  1185, 11552,  1895,  1849,  1107,  1703,  1137,  2918,\n",
            "         3575,  6357,   119,  5754,  1104,  1103,  4844,  1105,  2603,  1104,\n",
            "        23191,  3575,  2607,  1209, 11000,  1103, 11432,  1104,  3507,  7542,\n",
            "         3575,  2607,  1134,  1336,  1129, 17163,  3864,  1104, 26707,  3452,\n",
            "         1465,   119,  1141,   118,  1214,  1425,  2607,  1107,   182,  2047,\n",
            "         3575,  6357,  1107,  2214,  6323,   119,   102,     0,     0,     0,\n",
            "            0,     0,     0,     0,     0,     0,     0,     0,     0,     0,\n",
            "            0,     0,     0,     0,     0,     0,     0,     0,     0,     0,\n",
            "            0,     0,     0,     0,     0,     0,     0,     0,     0,     0,\n",
            "            0,     0,     0,     0,     0,     0,     0,     0,     0,     0,\n",
            "            0,     0,     0,     0,     0,     0,     0,     0,     0,     0,\n",
            "            0,     0,     0,     0,     0,     0,     0,     0,     0,     0,\n",
            "            0,     0,     0,     0,     0,     0,     0,     0,     0,     0,\n",
            "            0,     0,     0,     0,     0,     0,     0,     0,     0,     0,\n",
            "            0,     0,     0,     0,     0,     0,     0,     0,     0,     0,\n",
            "            0,     0,     0,     0,     0,     0,     0,     0,     0,     0,\n",
            "            0,     0,     0,     0,     0,     0,     0,     0,     0,     0,\n",
            "            0,     0,     0,     0,     0,     0,     0,     0,     0,     0,\n",
            "            0,     0,     0,     0,     0,     0,     0,     0,     0,     0,\n",
            "            0,     0,     0,     0,     0,     0,     0,     0,     0,     0,\n",
            "            0,     0,     0,     0,     0,     0,     0,     0,     0,     0,\n",
            "            0,     0,     0,     0,     0,     0,     0,     0,     0,     0,\n",
            "            0,     0,     0,     0,     0,     0,     0,     0,     0,     0,\n",
            "            0,     0,     0,     0,     0,     0,     0,     0,     0,     0,\n",
            "            0,     0,     0,     0,     0,     0,     0,     0,     0,     0,\n",
            "            0,     0,     0,     0,     0,     0,     0,     0,     0,     0,\n",
            "            0,     0,     0,     0,     0,     0,     0,     0,     0,     0,\n",
            "            0,     0,     0,     0,     0,     0,     0,     0,     0,     0,\n",
            "            0,     0,     0,     0,     0,     0,     0,     0,     0,     0,\n",
            "            0,     0,     0,     0,     0,     0,     0,     0,     0,     0,\n",
            "            0,     0])\n",
            "tensor([1, 1, 1, 1, 1, 1, 1, 1, 1, 1, 1, 1, 1, 1, 1, 1, 1, 1, 1, 1, 1, 1, 1, 1,\n",
            "        1, 1, 1, 1, 1, 1, 1, 1, 1, 1, 1, 1, 1, 1, 1, 1, 1, 1, 1, 1, 1, 1, 1, 1,\n",
            "        1, 1, 1, 1, 1, 1, 1, 1, 1, 1, 1, 1, 1, 1, 1, 1, 1, 1, 1, 1, 1, 1, 1, 1,\n",
            "        1, 1, 1, 1, 1, 1, 1, 1, 1, 1, 1, 1, 1, 1, 1, 1, 1, 1, 1, 1, 1, 1, 1, 1,\n",
            "        1, 1, 1, 1, 1, 1, 1, 1, 1, 1, 1, 1, 1, 1, 1, 1, 1, 1, 1, 1, 1, 1, 1, 1,\n",
            "        1, 1, 1, 1, 1, 1, 1, 1, 1, 1, 1, 1, 1, 1, 1, 1, 1, 1, 1, 1, 1, 1, 1, 1,\n",
            "        1, 1, 1, 1, 1, 1, 1, 1, 1, 1, 1, 1, 1, 1, 1, 1, 1, 1, 1, 1, 1, 1, 1, 1,\n",
            "        1, 1, 1, 1, 1, 1, 1, 1, 1, 1, 1, 1, 1, 1, 1, 1, 1, 1, 1, 1, 1, 1, 1, 1,\n",
            "        1, 1, 1, 1, 1, 1, 1, 1, 1, 1, 1, 1, 1, 1, 1, 1, 1, 1, 1, 1, 1, 1, 1, 1,\n",
            "        1, 1, 1, 1, 1, 1, 1, 1, 1, 1, 1, 1, 1, 1, 1, 1, 1, 1, 1, 1, 1, 1, 1, 1,\n",
            "        1, 1, 1, 1, 1, 1, 1, 1, 1, 1, 1, 1, 1, 1, 1, 1, 1, 1, 1, 1, 1, 1, 1, 1,\n",
            "        1, 1, 1, 0, 0, 0, 0, 0, 0, 0, 0, 0, 0, 0, 0, 0, 0, 0, 0, 0, 0, 0, 0, 0,\n",
            "        0, 0, 0, 0, 0, 0, 0, 0, 0, 0, 0, 0, 0, 0, 0, 0, 0, 0, 0, 0, 0, 0, 0, 0,\n",
            "        0, 0, 0, 0, 0, 0, 0, 0, 0, 0, 0, 0, 0, 0, 0, 0, 0, 0, 0, 0, 0, 0, 0, 0,\n",
            "        0, 0, 0, 0, 0, 0, 0, 0, 0, 0, 0, 0, 0, 0, 0, 0, 0, 0, 0, 0, 0, 0, 0, 0,\n",
            "        0, 0, 0, 0, 0, 0, 0, 0, 0, 0, 0, 0, 0, 0, 0, 0, 0, 0, 0, 0, 0, 0, 0, 0,\n",
            "        0, 0, 0, 0, 0, 0, 0, 0, 0, 0, 0, 0, 0, 0, 0, 0, 0, 0, 0, 0, 0, 0, 0, 0,\n",
            "        0, 0, 0, 0, 0, 0, 0, 0, 0, 0, 0, 0, 0, 0, 0, 0, 0, 0, 0, 0, 0, 0, 0, 0,\n",
            "        0, 0, 0, 0, 0, 0, 0, 0, 0, 0, 0, 0, 0, 0, 0, 0, 0, 0, 0, 0, 0, 0, 0, 0,\n",
            "        0, 0, 0, 0, 0, 0, 0, 0, 0, 0, 0, 0, 0, 0, 0, 0, 0, 0, 0, 0, 0, 0, 0, 0,\n",
            "        0, 0, 0, 0, 0, 0, 0, 0, 0, 0, 0, 0, 0, 0, 0, 0, 0, 0, 0, 0, 0, 0, 0, 0,\n",
            "        0, 0, 0, 0, 0, 0, 0, 0])\n",
            "label: 0.0\n"
          ],
          "name": "stdout"
        }
      ]
    },
    {
      "cell_type": "markdown",
      "metadata": {
        "id": "d681dabf"
      },
      "source": [
        "## Model"
      ]
    },
    {
      "cell_type": "code",
      "metadata": {
        "id": "MHPwf3JzPmjI",
        "colab": {
          "base_uri": "https://localhost:8080/"
        },
        "outputId": "3325a092-3460-4be1-a084-11690520a21b"
      },
      "source": [
        "if config.model_name != \"\":\n",
        "    print(T.AutoConfig.from_pretrained(config.model_name))"
      ],
      "execution_count": 47,
      "outputs": [
        {
          "output_type": "stream",
          "text": [
            "BertConfig {\n",
            "  \"architectures\": [\n",
            "    \"BertForQuestionAnswering\"\n",
            "  ],\n",
            "  \"attention_probs_dropout_prob\": 0.1,\n",
            "  \"gradient_checkpointing\": false,\n",
            "  \"hidden_act\": \"gelu\",\n",
            "  \"hidden_dropout_prob\": 0.1,\n",
            "  \"hidden_size\": 768,\n",
            "  \"initializer_range\": 0.02,\n",
            "  \"intermediate_size\": 3072,\n",
            "  \"layer_norm_eps\": 1e-12,\n",
            "  \"max_position_embeddings\": 512,\n",
            "  \"model_type\": \"bert\",\n",
            "  \"num_attention_heads\": 12,\n",
            "  \"num_hidden_layers\": 12,\n",
            "  \"pad_token_id\": 0,\n",
            "  \"position_embedding_type\": \"absolute\",\n",
            "  \"transformers_version\": \"4.9.1\",\n",
            "  \"type_vocab_size\": 2,\n",
            "  \"use_cache\": true,\n",
            "  \"vocab_size\": 28996\n",
            "}\n",
            "\n"
          ],
          "name": "stdout"
        }
      ]
    },
    {
      "cell_type": "code",
      "metadata": {
        "id": "229d18e7"
      },
      "source": [
        "class BaseModel(nn.Module):\n",
        "    def __init__(self, model_name):\n",
        "        super().__init__()\n",
        "\n",
        "        if \"base\" in model_name or \"L-12\" in model_name:\n",
        "            out_dim = 768\n",
        "        elif \"large\" in model_name or \"L-24\" in model_name:\n",
        "            out_dim = 1024\n",
        "\n",
        "        auto_config = T.AutoConfig.from_pretrained(model_name)\n",
        "        auto_config.update({\n",
        "            \"output_hidden_states\": True,\n",
        "            \"hidden_dropout_prob\": config.dropout,\n",
        "            # \"layer_norm_eps\": 1e-7,\n",
        "        })\n",
        "        \n",
        "        self.auto_model = T.AutoModel.from_pretrained(model_name, config=auto_config)  \n",
        "\n",
        "        self.attention = nn.Sequential(\n",
        "            nn.Linear(out_dim, 512),            \n",
        "            nn.Tanh(),                       \n",
        "            nn.Linear(512, 1),\n",
        "            nn.Softmax(dim=1)\n",
        "        )        \n",
        "\n",
        "        self.regressor = nn.Sequential(\n",
        "            nn.Linear(out_dim, 1)                        \n",
        "        )\n",
        "\n",
        "        if config.reinit_layers > 0:\n",
        "            self.re_init()\n",
        "\n",
        "        if config.freeze_layers > 0:\n",
        "            self.freeze()\n",
        "\n",
        "    def forward(self, input_ids, attention_mask):\n",
        "        bert_output = self.auto_model(input_ids=input_ids, attention_mask=attention_mask)        \n",
        "\n",
        "        # There are a total of 13 layers of hidden states.\n",
        "        # 1 for the embedding layer, and 12 for the 12 Roberta layers.\n",
        "        # We take the hidden states from the last Roberta layer.\n",
        "        last_layer_hidden_states = bert_output.hidden_states[-1]\n",
        "\n",
        "        # The number of cells is config.max_len.\n",
        "        # The size of the hidden state of each cell is 768 (for roberta-base).\n",
        "        # In order to condense hidden states of all cells to a context vector,\n",
        "        # we compute a weighted average of the hidden states of all cells.\n",
        "        # We compute the weight of each cell, using the attention neural network.\n",
        "        weights = self.attention(last_layer_hidden_states)\n",
        "                \n",
        "        # weights.shape is config.batch_size x config.max_len x 1\n",
        "        # last_layer_hidden_states.shape is config.batch_size x config.max_len x 768        \n",
        "        # Now we compute context_vector as the weighted average.\n",
        "        # context_vector.shape is config.batch_size x 768\n",
        "        context_vector = torch.sum(weights * last_layer_hidden_states, dim=1)        \n",
        "        \n",
        "        # Now we reduce the context vector to the prediction score.\n",
        "        out = self.regressor(context_vector).squeeze()\n",
        "\n",
        "        return out\n",
        "\n",
        "    def re_init(self):\n",
        "        # re-init pooler\n",
        "        self.auto_model.pooler.dense.weight.data.normal_(mean=0.0, std=self.auto_model.config.initializer_range)\n",
        "        self.auto_model.pooler.dense.bias.data.zero_()\n",
        "        for p in self.auto_model.pooler.parameters():\n",
        "            p.requires_grad = True\n",
        "\n",
        "        # re-init encoder\n",
        "        layers = self.auto_model.encoder.layer[-config.reinit_layers:]\n",
        "        for layer in layers:\n",
        "            for module in layer.modules():\n",
        "                if isinstance(module, nn.Linear):\n",
        "                    # Slightly different from the TF version which uses truncated_normal for initialization\n",
        "                    # cf https://github.com/pytorch/pytorch/pull/5617\n",
        "                    module.weight.data.normal_(mean=0.0, std=self.auto_model.config.initializer_range)\n",
        "                    if module.bias is not None:\n",
        "                        module.bias.data.zero_()\n",
        "                elif isinstance(module, nn.Embedding):\n",
        "                    module.weight.data.normal_(mean=0.0, std=self.auto_model.config.initializer_range)\n",
        "                    if module.padding_idx is not None:\n",
        "                        module.weight.data[module.padding_idx].zero_()\n",
        "                elif isinstance(module, nn.LayerNorm):\n",
        "                    module.bias.data.zero_()\n",
        "                    module.weight.data.fill_(1.0)\n",
        "\n",
        "    def freeze(self):\n",
        "        # freeze embedding\n",
        "        for param in self.auto_model.embeddings.parameters():\n",
        "            param.requires_grad = False\n",
        "\n",
        "        # freeze encoder\n",
        "        layers = self.auto_model.encoder.layer[:config.freeze_layers]\n",
        "        for layer in layers:\n",
        "            for param in layer.parameters():\n",
        "                param.requires_grad = False"
      ],
      "execution_count": 48,
      "outputs": []
    },
    {
      "cell_type": "code",
      "metadata": {
        "colab": {
          "base_uri": "https://localhost:8080/"
        },
        "id": "0a3978b1",
        "outputId": "53a1e890-e27b-4935-ca0a-c75768c6d986"
      },
      "source": [
        "# Test\n",
        "\n",
        "if config.model_name != \"\":\n",
        "\n",
        "    model = BaseModel(config.model_name)\n",
        "    print(model)\n",
        "\n",
        "    train_dataset = BaseDataset(train, config.model_name)\n",
        "    train_loader = DataLoader(train_dataset, batch_size=4, shuffle=True, num_workers=4, drop_last=True)\n",
        "\n",
        "    for input_ids, attention_mask, labels in train_loader:\n",
        "        output = model(input_ids, attention_mask)\n",
        "        print(output)\n",
        "        break\n"
      ],
      "execution_count": 49,
      "outputs": [
        {
          "output_type": "stream",
          "text": [
            "Some weights of the model checkpoint at dmis-lab/biobert-base-cased-v1.1-squad were not used when initializing BertModel: ['qa_outputs.weight', 'qa_outputs.bias']\n",
            "- This IS expected if you are initializing BertModel from the checkpoint of a model trained on another task or with another architecture (e.g. initializing a BertForSequenceClassification model from a BertForPreTraining model).\n",
            "- This IS NOT expected if you are initializing BertModel from the checkpoint of a model that you expect to be exactly identical (initializing a BertForSequenceClassification model from a BertForSequenceClassification model).\n"
          ],
          "name": "stderr"
        },
        {
          "output_type": "stream",
          "text": [
            "BaseModel(\n",
            "  (auto_model): BertModel(\n",
            "    (embeddings): BertEmbeddings(\n",
            "      (word_embeddings): Embedding(28996, 768, padding_idx=0)\n",
            "      (position_embeddings): Embedding(512, 768)\n",
            "      (token_type_embeddings): Embedding(2, 768)\n",
            "      (LayerNorm): LayerNorm((768,), eps=1e-12, elementwise_affine=True)\n",
            "      (dropout): Dropout(p=0.1, inplace=False)\n",
            "    )\n",
            "    (encoder): BertEncoder(\n",
            "      (layer): ModuleList(\n",
            "        (0): BertLayer(\n",
            "          (attention): BertAttention(\n",
            "            (self): BertSelfAttention(\n",
            "              (query): Linear(in_features=768, out_features=768, bias=True)\n",
            "              (key): Linear(in_features=768, out_features=768, bias=True)\n",
            "              (value): Linear(in_features=768, out_features=768, bias=True)\n",
            "              (dropout): Dropout(p=0.1, inplace=False)\n",
            "            )\n",
            "            (output): BertSelfOutput(\n",
            "              (dense): Linear(in_features=768, out_features=768, bias=True)\n",
            "              (LayerNorm): LayerNorm((768,), eps=1e-12, elementwise_affine=True)\n",
            "              (dropout): Dropout(p=0.1, inplace=False)\n",
            "            )\n",
            "          )\n",
            "          (intermediate): BertIntermediate(\n",
            "            (dense): Linear(in_features=768, out_features=3072, bias=True)\n",
            "          )\n",
            "          (output): BertOutput(\n",
            "            (dense): Linear(in_features=3072, out_features=768, bias=True)\n",
            "            (LayerNorm): LayerNorm((768,), eps=1e-12, elementwise_affine=True)\n",
            "            (dropout): Dropout(p=0.1, inplace=False)\n",
            "          )\n",
            "        )\n",
            "        (1): BertLayer(\n",
            "          (attention): BertAttention(\n",
            "            (self): BertSelfAttention(\n",
            "              (query): Linear(in_features=768, out_features=768, bias=True)\n",
            "              (key): Linear(in_features=768, out_features=768, bias=True)\n",
            "              (value): Linear(in_features=768, out_features=768, bias=True)\n",
            "              (dropout): Dropout(p=0.1, inplace=False)\n",
            "            )\n",
            "            (output): BertSelfOutput(\n",
            "              (dense): Linear(in_features=768, out_features=768, bias=True)\n",
            "              (LayerNorm): LayerNorm((768,), eps=1e-12, elementwise_affine=True)\n",
            "              (dropout): Dropout(p=0.1, inplace=False)\n",
            "            )\n",
            "          )\n",
            "          (intermediate): BertIntermediate(\n",
            "            (dense): Linear(in_features=768, out_features=3072, bias=True)\n",
            "          )\n",
            "          (output): BertOutput(\n",
            "            (dense): Linear(in_features=3072, out_features=768, bias=True)\n",
            "            (LayerNorm): LayerNorm((768,), eps=1e-12, elementwise_affine=True)\n",
            "            (dropout): Dropout(p=0.1, inplace=False)\n",
            "          )\n",
            "        )\n",
            "        (2): BertLayer(\n",
            "          (attention): BertAttention(\n",
            "            (self): BertSelfAttention(\n",
            "              (query): Linear(in_features=768, out_features=768, bias=True)\n",
            "              (key): Linear(in_features=768, out_features=768, bias=True)\n",
            "              (value): Linear(in_features=768, out_features=768, bias=True)\n",
            "              (dropout): Dropout(p=0.1, inplace=False)\n",
            "            )\n",
            "            (output): BertSelfOutput(\n",
            "              (dense): Linear(in_features=768, out_features=768, bias=True)\n",
            "              (LayerNorm): LayerNorm((768,), eps=1e-12, elementwise_affine=True)\n",
            "              (dropout): Dropout(p=0.1, inplace=False)\n",
            "            )\n",
            "          )\n",
            "          (intermediate): BertIntermediate(\n",
            "            (dense): Linear(in_features=768, out_features=3072, bias=True)\n",
            "          )\n",
            "          (output): BertOutput(\n",
            "            (dense): Linear(in_features=3072, out_features=768, bias=True)\n",
            "            (LayerNorm): LayerNorm((768,), eps=1e-12, elementwise_affine=True)\n",
            "            (dropout): Dropout(p=0.1, inplace=False)\n",
            "          )\n",
            "        )\n",
            "        (3): BertLayer(\n",
            "          (attention): BertAttention(\n",
            "            (self): BertSelfAttention(\n",
            "              (query): Linear(in_features=768, out_features=768, bias=True)\n",
            "              (key): Linear(in_features=768, out_features=768, bias=True)\n",
            "              (value): Linear(in_features=768, out_features=768, bias=True)\n",
            "              (dropout): Dropout(p=0.1, inplace=False)\n",
            "            )\n",
            "            (output): BertSelfOutput(\n",
            "              (dense): Linear(in_features=768, out_features=768, bias=True)\n",
            "              (LayerNorm): LayerNorm((768,), eps=1e-12, elementwise_affine=True)\n",
            "              (dropout): Dropout(p=0.1, inplace=False)\n",
            "            )\n",
            "          )\n",
            "          (intermediate): BertIntermediate(\n",
            "            (dense): Linear(in_features=768, out_features=3072, bias=True)\n",
            "          )\n",
            "          (output): BertOutput(\n",
            "            (dense): Linear(in_features=3072, out_features=768, bias=True)\n",
            "            (LayerNorm): LayerNorm((768,), eps=1e-12, elementwise_affine=True)\n",
            "            (dropout): Dropout(p=0.1, inplace=False)\n",
            "          )\n",
            "        )\n",
            "        (4): BertLayer(\n",
            "          (attention): BertAttention(\n",
            "            (self): BertSelfAttention(\n",
            "              (query): Linear(in_features=768, out_features=768, bias=True)\n",
            "              (key): Linear(in_features=768, out_features=768, bias=True)\n",
            "              (value): Linear(in_features=768, out_features=768, bias=True)\n",
            "              (dropout): Dropout(p=0.1, inplace=False)\n",
            "            )\n",
            "            (output): BertSelfOutput(\n",
            "              (dense): Linear(in_features=768, out_features=768, bias=True)\n",
            "              (LayerNorm): LayerNorm((768,), eps=1e-12, elementwise_affine=True)\n",
            "              (dropout): Dropout(p=0.1, inplace=False)\n",
            "            )\n",
            "          )\n",
            "          (intermediate): BertIntermediate(\n",
            "            (dense): Linear(in_features=768, out_features=3072, bias=True)\n",
            "          )\n",
            "          (output): BertOutput(\n",
            "            (dense): Linear(in_features=3072, out_features=768, bias=True)\n",
            "            (LayerNorm): LayerNorm((768,), eps=1e-12, elementwise_affine=True)\n",
            "            (dropout): Dropout(p=0.1, inplace=False)\n",
            "          )\n",
            "        )\n",
            "        (5): BertLayer(\n",
            "          (attention): BertAttention(\n",
            "            (self): BertSelfAttention(\n",
            "              (query): Linear(in_features=768, out_features=768, bias=True)\n",
            "              (key): Linear(in_features=768, out_features=768, bias=True)\n",
            "              (value): Linear(in_features=768, out_features=768, bias=True)\n",
            "              (dropout): Dropout(p=0.1, inplace=False)\n",
            "            )\n",
            "            (output): BertSelfOutput(\n",
            "              (dense): Linear(in_features=768, out_features=768, bias=True)\n",
            "              (LayerNorm): LayerNorm((768,), eps=1e-12, elementwise_affine=True)\n",
            "              (dropout): Dropout(p=0.1, inplace=False)\n",
            "            )\n",
            "          )\n",
            "          (intermediate): BertIntermediate(\n",
            "            (dense): Linear(in_features=768, out_features=3072, bias=True)\n",
            "          )\n",
            "          (output): BertOutput(\n",
            "            (dense): Linear(in_features=3072, out_features=768, bias=True)\n",
            "            (LayerNorm): LayerNorm((768,), eps=1e-12, elementwise_affine=True)\n",
            "            (dropout): Dropout(p=0.1, inplace=False)\n",
            "          )\n",
            "        )\n",
            "        (6): BertLayer(\n",
            "          (attention): BertAttention(\n",
            "            (self): BertSelfAttention(\n",
            "              (query): Linear(in_features=768, out_features=768, bias=True)\n",
            "              (key): Linear(in_features=768, out_features=768, bias=True)\n",
            "              (value): Linear(in_features=768, out_features=768, bias=True)\n",
            "              (dropout): Dropout(p=0.1, inplace=False)\n",
            "            )\n",
            "            (output): BertSelfOutput(\n",
            "              (dense): Linear(in_features=768, out_features=768, bias=True)\n",
            "              (LayerNorm): LayerNorm((768,), eps=1e-12, elementwise_affine=True)\n",
            "              (dropout): Dropout(p=0.1, inplace=False)\n",
            "            )\n",
            "          )\n",
            "          (intermediate): BertIntermediate(\n",
            "            (dense): Linear(in_features=768, out_features=3072, bias=True)\n",
            "          )\n",
            "          (output): BertOutput(\n",
            "            (dense): Linear(in_features=3072, out_features=768, bias=True)\n",
            "            (LayerNorm): LayerNorm((768,), eps=1e-12, elementwise_affine=True)\n",
            "            (dropout): Dropout(p=0.1, inplace=False)\n",
            "          )\n",
            "        )\n",
            "        (7): BertLayer(\n",
            "          (attention): BertAttention(\n",
            "            (self): BertSelfAttention(\n",
            "              (query): Linear(in_features=768, out_features=768, bias=True)\n",
            "              (key): Linear(in_features=768, out_features=768, bias=True)\n",
            "              (value): Linear(in_features=768, out_features=768, bias=True)\n",
            "              (dropout): Dropout(p=0.1, inplace=False)\n",
            "            )\n",
            "            (output): BertSelfOutput(\n",
            "              (dense): Linear(in_features=768, out_features=768, bias=True)\n",
            "              (LayerNorm): LayerNorm((768,), eps=1e-12, elementwise_affine=True)\n",
            "              (dropout): Dropout(p=0.1, inplace=False)\n",
            "            )\n",
            "          )\n",
            "          (intermediate): BertIntermediate(\n",
            "            (dense): Linear(in_features=768, out_features=3072, bias=True)\n",
            "          )\n",
            "          (output): BertOutput(\n",
            "            (dense): Linear(in_features=3072, out_features=768, bias=True)\n",
            "            (LayerNorm): LayerNorm((768,), eps=1e-12, elementwise_affine=True)\n",
            "            (dropout): Dropout(p=0.1, inplace=False)\n",
            "          )\n",
            "        )\n",
            "        (8): BertLayer(\n",
            "          (attention): BertAttention(\n",
            "            (self): BertSelfAttention(\n",
            "              (query): Linear(in_features=768, out_features=768, bias=True)\n",
            "              (key): Linear(in_features=768, out_features=768, bias=True)\n",
            "              (value): Linear(in_features=768, out_features=768, bias=True)\n",
            "              (dropout): Dropout(p=0.1, inplace=False)\n",
            "            )\n",
            "            (output): BertSelfOutput(\n",
            "              (dense): Linear(in_features=768, out_features=768, bias=True)\n",
            "              (LayerNorm): LayerNorm((768,), eps=1e-12, elementwise_affine=True)\n",
            "              (dropout): Dropout(p=0.1, inplace=False)\n",
            "            )\n",
            "          )\n",
            "          (intermediate): BertIntermediate(\n",
            "            (dense): Linear(in_features=768, out_features=3072, bias=True)\n",
            "          )\n",
            "          (output): BertOutput(\n",
            "            (dense): Linear(in_features=3072, out_features=768, bias=True)\n",
            "            (LayerNorm): LayerNorm((768,), eps=1e-12, elementwise_affine=True)\n",
            "            (dropout): Dropout(p=0.1, inplace=False)\n",
            "          )\n",
            "        )\n",
            "        (9): BertLayer(\n",
            "          (attention): BertAttention(\n",
            "            (self): BertSelfAttention(\n",
            "              (query): Linear(in_features=768, out_features=768, bias=True)\n",
            "              (key): Linear(in_features=768, out_features=768, bias=True)\n",
            "              (value): Linear(in_features=768, out_features=768, bias=True)\n",
            "              (dropout): Dropout(p=0.1, inplace=False)\n",
            "            )\n",
            "            (output): BertSelfOutput(\n",
            "              (dense): Linear(in_features=768, out_features=768, bias=True)\n",
            "              (LayerNorm): LayerNorm((768,), eps=1e-12, elementwise_affine=True)\n",
            "              (dropout): Dropout(p=0.1, inplace=False)\n",
            "            )\n",
            "          )\n",
            "          (intermediate): BertIntermediate(\n",
            "            (dense): Linear(in_features=768, out_features=3072, bias=True)\n",
            "          )\n",
            "          (output): BertOutput(\n",
            "            (dense): Linear(in_features=3072, out_features=768, bias=True)\n",
            "            (LayerNorm): LayerNorm((768,), eps=1e-12, elementwise_affine=True)\n",
            "            (dropout): Dropout(p=0.1, inplace=False)\n",
            "          )\n",
            "        )\n",
            "        (10): BertLayer(\n",
            "          (attention): BertAttention(\n",
            "            (self): BertSelfAttention(\n",
            "              (query): Linear(in_features=768, out_features=768, bias=True)\n",
            "              (key): Linear(in_features=768, out_features=768, bias=True)\n",
            "              (value): Linear(in_features=768, out_features=768, bias=True)\n",
            "              (dropout): Dropout(p=0.1, inplace=False)\n",
            "            )\n",
            "            (output): BertSelfOutput(\n",
            "              (dense): Linear(in_features=768, out_features=768, bias=True)\n",
            "              (LayerNorm): LayerNorm((768,), eps=1e-12, elementwise_affine=True)\n",
            "              (dropout): Dropout(p=0.1, inplace=False)\n",
            "            )\n",
            "          )\n",
            "          (intermediate): BertIntermediate(\n",
            "            (dense): Linear(in_features=768, out_features=3072, bias=True)\n",
            "          )\n",
            "          (output): BertOutput(\n",
            "            (dense): Linear(in_features=3072, out_features=768, bias=True)\n",
            "            (LayerNorm): LayerNorm((768,), eps=1e-12, elementwise_affine=True)\n",
            "            (dropout): Dropout(p=0.1, inplace=False)\n",
            "          )\n",
            "        )\n",
            "        (11): BertLayer(\n",
            "          (attention): BertAttention(\n",
            "            (self): BertSelfAttention(\n",
            "              (query): Linear(in_features=768, out_features=768, bias=True)\n",
            "              (key): Linear(in_features=768, out_features=768, bias=True)\n",
            "              (value): Linear(in_features=768, out_features=768, bias=True)\n",
            "              (dropout): Dropout(p=0.1, inplace=False)\n",
            "            )\n",
            "            (output): BertSelfOutput(\n",
            "              (dense): Linear(in_features=768, out_features=768, bias=True)\n",
            "              (LayerNorm): LayerNorm((768,), eps=1e-12, elementwise_affine=True)\n",
            "              (dropout): Dropout(p=0.1, inplace=False)\n",
            "            )\n",
            "          )\n",
            "          (intermediate): BertIntermediate(\n",
            "            (dense): Linear(in_features=768, out_features=3072, bias=True)\n",
            "          )\n",
            "          (output): BertOutput(\n",
            "            (dense): Linear(in_features=3072, out_features=768, bias=True)\n",
            "            (LayerNorm): LayerNorm((768,), eps=1e-12, elementwise_affine=True)\n",
            "            (dropout): Dropout(p=0.1, inplace=False)\n",
            "          )\n",
            "        )\n",
            "      )\n",
            "    )\n",
            "    (pooler): BertPooler(\n",
            "      (dense): Linear(in_features=768, out_features=768, bias=True)\n",
            "      (activation): Tanh()\n",
            "    )\n",
            "  )\n",
            "  (attention): Sequential(\n",
            "    (0): Linear(in_features=768, out_features=512, bias=True)\n",
            "    (1): Tanh()\n",
            "    (2): Linear(in_features=512, out_features=1, bias=True)\n",
            "    (3): Softmax(dim=1)\n",
            "  )\n",
            "  (regressor): Sequential(\n",
            "    (0): Linear(in_features=768, out_features=1, bias=True)\n",
            "  )\n",
            ")\n",
            "tensor([-5.2276e-01, -6.5785e-01, -4.6085e-01,  2.1973e-04],\n",
            "       grad_fn=<SqueezeBackward0>)\n"
          ],
          "name": "stdout"
        }
      ]
    },
    {
      "cell_type": "code",
      "metadata": {
        "colab": {
          "base_uri": "https://localhost:8080/"
        },
        "id": "GlpHUm-SrcLV",
        "outputId": "b39e0782-6fe7-4bce-bd11-73e505f97f96"
      },
      "source": [
        "# Test\n",
        "\n",
        "if config.model_name != \"\":\n",
        "    for n, (name, tensor) in enumerate(list(model.named_parameters())):\n",
        "        print(f\"{n:>4}: {tensor.requires_grad}, {name}\")"
      ],
      "execution_count": 50,
      "outputs": [
        {
          "output_type": "stream",
          "text": [
            "   0: True, auto_model.embeddings.word_embeddings.weight\n",
            "   1: True, auto_model.embeddings.position_embeddings.weight\n",
            "   2: True, auto_model.embeddings.token_type_embeddings.weight\n",
            "   3: True, auto_model.embeddings.LayerNorm.weight\n",
            "   4: True, auto_model.embeddings.LayerNorm.bias\n",
            "   5: True, auto_model.encoder.layer.0.attention.self.query.weight\n",
            "   6: True, auto_model.encoder.layer.0.attention.self.query.bias\n",
            "   7: True, auto_model.encoder.layer.0.attention.self.key.weight\n",
            "   8: True, auto_model.encoder.layer.0.attention.self.key.bias\n",
            "   9: True, auto_model.encoder.layer.0.attention.self.value.weight\n",
            "  10: True, auto_model.encoder.layer.0.attention.self.value.bias\n",
            "  11: True, auto_model.encoder.layer.0.attention.output.dense.weight\n",
            "  12: True, auto_model.encoder.layer.0.attention.output.dense.bias\n",
            "  13: True, auto_model.encoder.layer.0.attention.output.LayerNorm.weight\n",
            "  14: True, auto_model.encoder.layer.0.attention.output.LayerNorm.bias\n",
            "  15: True, auto_model.encoder.layer.0.intermediate.dense.weight\n",
            "  16: True, auto_model.encoder.layer.0.intermediate.dense.bias\n",
            "  17: True, auto_model.encoder.layer.0.output.dense.weight\n",
            "  18: True, auto_model.encoder.layer.0.output.dense.bias\n",
            "  19: True, auto_model.encoder.layer.0.output.LayerNorm.weight\n",
            "  20: True, auto_model.encoder.layer.0.output.LayerNorm.bias\n",
            "  21: True, auto_model.encoder.layer.1.attention.self.query.weight\n",
            "  22: True, auto_model.encoder.layer.1.attention.self.query.bias\n",
            "  23: True, auto_model.encoder.layer.1.attention.self.key.weight\n",
            "  24: True, auto_model.encoder.layer.1.attention.self.key.bias\n",
            "  25: True, auto_model.encoder.layer.1.attention.self.value.weight\n",
            "  26: True, auto_model.encoder.layer.1.attention.self.value.bias\n",
            "  27: True, auto_model.encoder.layer.1.attention.output.dense.weight\n",
            "  28: True, auto_model.encoder.layer.1.attention.output.dense.bias\n",
            "  29: True, auto_model.encoder.layer.1.attention.output.LayerNorm.weight\n",
            "  30: True, auto_model.encoder.layer.1.attention.output.LayerNorm.bias\n",
            "  31: True, auto_model.encoder.layer.1.intermediate.dense.weight\n",
            "  32: True, auto_model.encoder.layer.1.intermediate.dense.bias\n",
            "  33: True, auto_model.encoder.layer.1.output.dense.weight\n",
            "  34: True, auto_model.encoder.layer.1.output.dense.bias\n",
            "  35: True, auto_model.encoder.layer.1.output.LayerNorm.weight\n",
            "  36: True, auto_model.encoder.layer.1.output.LayerNorm.bias\n",
            "  37: True, auto_model.encoder.layer.2.attention.self.query.weight\n",
            "  38: True, auto_model.encoder.layer.2.attention.self.query.bias\n",
            "  39: True, auto_model.encoder.layer.2.attention.self.key.weight\n",
            "  40: True, auto_model.encoder.layer.2.attention.self.key.bias\n",
            "  41: True, auto_model.encoder.layer.2.attention.self.value.weight\n",
            "  42: True, auto_model.encoder.layer.2.attention.self.value.bias\n",
            "  43: True, auto_model.encoder.layer.2.attention.output.dense.weight\n",
            "  44: True, auto_model.encoder.layer.2.attention.output.dense.bias\n",
            "  45: True, auto_model.encoder.layer.2.attention.output.LayerNorm.weight\n",
            "  46: True, auto_model.encoder.layer.2.attention.output.LayerNorm.bias\n",
            "  47: True, auto_model.encoder.layer.2.intermediate.dense.weight\n",
            "  48: True, auto_model.encoder.layer.2.intermediate.dense.bias\n",
            "  49: True, auto_model.encoder.layer.2.output.dense.weight\n",
            "  50: True, auto_model.encoder.layer.2.output.dense.bias\n",
            "  51: True, auto_model.encoder.layer.2.output.LayerNorm.weight\n",
            "  52: True, auto_model.encoder.layer.2.output.LayerNorm.bias\n",
            "  53: True, auto_model.encoder.layer.3.attention.self.query.weight\n",
            "  54: True, auto_model.encoder.layer.3.attention.self.query.bias\n",
            "  55: True, auto_model.encoder.layer.3.attention.self.key.weight\n",
            "  56: True, auto_model.encoder.layer.3.attention.self.key.bias\n",
            "  57: True, auto_model.encoder.layer.3.attention.self.value.weight\n",
            "  58: True, auto_model.encoder.layer.3.attention.self.value.bias\n",
            "  59: True, auto_model.encoder.layer.3.attention.output.dense.weight\n",
            "  60: True, auto_model.encoder.layer.3.attention.output.dense.bias\n",
            "  61: True, auto_model.encoder.layer.3.attention.output.LayerNorm.weight\n",
            "  62: True, auto_model.encoder.layer.3.attention.output.LayerNorm.bias\n",
            "  63: True, auto_model.encoder.layer.3.intermediate.dense.weight\n",
            "  64: True, auto_model.encoder.layer.3.intermediate.dense.bias\n",
            "  65: True, auto_model.encoder.layer.3.output.dense.weight\n",
            "  66: True, auto_model.encoder.layer.3.output.dense.bias\n",
            "  67: True, auto_model.encoder.layer.3.output.LayerNorm.weight\n",
            "  68: True, auto_model.encoder.layer.3.output.LayerNorm.bias\n",
            "  69: True, auto_model.encoder.layer.4.attention.self.query.weight\n",
            "  70: True, auto_model.encoder.layer.4.attention.self.query.bias\n",
            "  71: True, auto_model.encoder.layer.4.attention.self.key.weight\n",
            "  72: True, auto_model.encoder.layer.4.attention.self.key.bias\n",
            "  73: True, auto_model.encoder.layer.4.attention.self.value.weight\n",
            "  74: True, auto_model.encoder.layer.4.attention.self.value.bias\n",
            "  75: True, auto_model.encoder.layer.4.attention.output.dense.weight\n",
            "  76: True, auto_model.encoder.layer.4.attention.output.dense.bias\n",
            "  77: True, auto_model.encoder.layer.4.attention.output.LayerNorm.weight\n",
            "  78: True, auto_model.encoder.layer.4.attention.output.LayerNorm.bias\n",
            "  79: True, auto_model.encoder.layer.4.intermediate.dense.weight\n",
            "  80: True, auto_model.encoder.layer.4.intermediate.dense.bias\n",
            "  81: True, auto_model.encoder.layer.4.output.dense.weight\n",
            "  82: True, auto_model.encoder.layer.4.output.dense.bias\n",
            "  83: True, auto_model.encoder.layer.4.output.LayerNorm.weight\n",
            "  84: True, auto_model.encoder.layer.4.output.LayerNorm.bias\n",
            "  85: True, auto_model.encoder.layer.5.attention.self.query.weight\n",
            "  86: True, auto_model.encoder.layer.5.attention.self.query.bias\n",
            "  87: True, auto_model.encoder.layer.5.attention.self.key.weight\n",
            "  88: True, auto_model.encoder.layer.5.attention.self.key.bias\n",
            "  89: True, auto_model.encoder.layer.5.attention.self.value.weight\n",
            "  90: True, auto_model.encoder.layer.5.attention.self.value.bias\n",
            "  91: True, auto_model.encoder.layer.5.attention.output.dense.weight\n",
            "  92: True, auto_model.encoder.layer.5.attention.output.dense.bias\n",
            "  93: True, auto_model.encoder.layer.5.attention.output.LayerNorm.weight\n",
            "  94: True, auto_model.encoder.layer.5.attention.output.LayerNorm.bias\n",
            "  95: True, auto_model.encoder.layer.5.intermediate.dense.weight\n",
            "  96: True, auto_model.encoder.layer.5.intermediate.dense.bias\n",
            "  97: True, auto_model.encoder.layer.5.output.dense.weight\n",
            "  98: True, auto_model.encoder.layer.5.output.dense.bias\n",
            "  99: True, auto_model.encoder.layer.5.output.LayerNorm.weight\n",
            " 100: True, auto_model.encoder.layer.5.output.LayerNorm.bias\n",
            " 101: True, auto_model.encoder.layer.6.attention.self.query.weight\n",
            " 102: True, auto_model.encoder.layer.6.attention.self.query.bias\n",
            " 103: True, auto_model.encoder.layer.6.attention.self.key.weight\n",
            " 104: True, auto_model.encoder.layer.6.attention.self.key.bias\n",
            " 105: True, auto_model.encoder.layer.6.attention.self.value.weight\n",
            " 106: True, auto_model.encoder.layer.6.attention.self.value.bias\n",
            " 107: True, auto_model.encoder.layer.6.attention.output.dense.weight\n",
            " 108: True, auto_model.encoder.layer.6.attention.output.dense.bias\n",
            " 109: True, auto_model.encoder.layer.6.attention.output.LayerNorm.weight\n",
            " 110: True, auto_model.encoder.layer.6.attention.output.LayerNorm.bias\n",
            " 111: True, auto_model.encoder.layer.6.intermediate.dense.weight\n",
            " 112: True, auto_model.encoder.layer.6.intermediate.dense.bias\n",
            " 113: True, auto_model.encoder.layer.6.output.dense.weight\n",
            " 114: True, auto_model.encoder.layer.6.output.dense.bias\n",
            " 115: True, auto_model.encoder.layer.6.output.LayerNorm.weight\n",
            " 116: True, auto_model.encoder.layer.6.output.LayerNorm.bias\n",
            " 117: True, auto_model.encoder.layer.7.attention.self.query.weight\n",
            " 118: True, auto_model.encoder.layer.7.attention.self.query.bias\n",
            " 119: True, auto_model.encoder.layer.7.attention.self.key.weight\n",
            " 120: True, auto_model.encoder.layer.7.attention.self.key.bias\n",
            " 121: True, auto_model.encoder.layer.7.attention.self.value.weight\n",
            " 122: True, auto_model.encoder.layer.7.attention.self.value.bias\n",
            " 123: True, auto_model.encoder.layer.7.attention.output.dense.weight\n",
            " 124: True, auto_model.encoder.layer.7.attention.output.dense.bias\n",
            " 125: True, auto_model.encoder.layer.7.attention.output.LayerNorm.weight\n",
            " 126: True, auto_model.encoder.layer.7.attention.output.LayerNorm.bias\n",
            " 127: True, auto_model.encoder.layer.7.intermediate.dense.weight\n",
            " 128: True, auto_model.encoder.layer.7.intermediate.dense.bias\n",
            " 129: True, auto_model.encoder.layer.7.output.dense.weight\n",
            " 130: True, auto_model.encoder.layer.7.output.dense.bias\n",
            " 131: True, auto_model.encoder.layer.7.output.LayerNorm.weight\n",
            " 132: True, auto_model.encoder.layer.7.output.LayerNorm.bias\n",
            " 133: True, auto_model.encoder.layer.8.attention.self.query.weight\n",
            " 134: True, auto_model.encoder.layer.8.attention.self.query.bias\n",
            " 135: True, auto_model.encoder.layer.8.attention.self.key.weight\n",
            " 136: True, auto_model.encoder.layer.8.attention.self.key.bias\n",
            " 137: True, auto_model.encoder.layer.8.attention.self.value.weight\n",
            " 138: True, auto_model.encoder.layer.8.attention.self.value.bias\n",
            " 139: True, auto_model.encoder.layer.8.attention.output.dense.weight\n",
            " 140: True, auto_model.encoder.layer.8.attention.output.dense.bias\n",
            " 141: True, auto_model.encoder.layer.8.attention.output.LayerNorm.weight\n",
            " 142: True, auto_model.encoder.layer.8.attention.output.LayerNorm.bias\n",
            " 143: True, auto_model.encoder.layer.8.intermediate.dense.weight\n",
            " 144: True, auto_model.encoder.layer.8.intermediate.dense.bias\n",
            " 145: True, auto_model.encoder.layer.8.output.dense.weight\n",
            " 146: True, auto_model.encoder.layer.8.output.dense.bias\n",
            " 147: True, auto_model.encoder.layer.8.output.LayerNorm.weight\n",
            " 148: True, auto_model.encoder.layer.8.output.LayerNorm.bias\n",
            " 149: True, auto_model.encoder.layer.9.attention.self.query.weight\n",
            " 150: True, auto_model.encoder.layer.9.attention.self.query.bias\n",
            " 151: True, auto_model.encoder.layer.9.attention.self.key.weight\n",
            " 152: True, auto_model.encoder.layer.9.attention.self.key.bias\n",
            " 153: True, auto_model.encoder.layer.9.attention.self.value.weight\n",
            " 154: True, auto_model.encoder.layer.9.attention.self.value.bias\n",
            " 155: True, auto_model.encoder.layer.9.attention.output.dense.weight\n",
            " 156: True, auto_model.encoder.layer.9.attention.output.dense.bias\n",
            " 157: True, auto_model.encoder.layer.9.attention.output.LayerNorm.weight\n",
            " 158: True, auto_model.encoder.layer.9.attention.output.LayerNorm.bias\n",
            " 159: True, auto_model.encoder.layer.9.intermediate.dense.weight\n",
            " 160: True, auto_model.encoder.layer.9.intermediate.dense.bias\n",
            " 161: True, auto_model.encoder.layer.9.output.dense.weight\n",
            " 162: True, auto_model.encoder.layer.9.output.dense.bias\n",
            " 163: True, auto_model.encoder.layer.9.output.LayerNorm.weight\n",
            " 164: True, auto_model.encoder.layer.9.output.LayerNorm.bias\n",
            " 165: True, auto_model.encoder.layer.10.attention.self.query.weight\n",
            " 166: True, auto_model.encoder.layer.10.attention.self.query.bias\n",
            " 167: True, auto_model.encoder.layer.10.attention.self.key.weight\n",
            " 168: True, auto_model.encoder.layer.10.attention.self.key.bias\n",
            " 169: True, auto_model.encoder.layer.10.attention.self.value.weight\n",
            " 170: True, auto_model.encoder.layer.10.attention.self.value.bias\n",
            " 171: True, auto_model.encoder.layer.10.attention.output.dense.weight\n",
            " 172: True, auto_model.encoder.layer.10.attention.output.dense.bias\n",
            " 173: True, auto_model.encoder.layer.10.attention.output.LayerNorm.weight\n",
            " 174: True, auto_model.encoder.layer.10.attention.output.LayerNorm.bias\n",
            " 175: True, auto_model.encoder.layer.10.intermediate.dense.weight\n",
            " 176: True, auto_model.encoder.layer.10.intermediate.dense.bias\n",
            " 177: True, auto_model.encoder.layer.10.output.dense.weight\n",
            " 178: True, auto_model.encoder.layer.10.output.dense.bias\n",
            " 179: True, auto_model.encoder.layer.10.output.LayerNorm.weight\n",
            " 180: True, auto_model.encoder.layer.10.output.LayerNorm.bias\n",
            " 181: True, auto_model.encoder.layer.11.attention.self.query.weight\n",
            " 182: True, auto_model.encoder.layer.11.attention.self.query.bias\n",
            " 183: True, auto_model.encoder.layer.11.attention.self.key.weight\n",
            " 184: True, auto_model.encoder.layer.11.attention.self.key.bias\n",
            " 185: True, auto_model.encoder.layer.11.attention.self.value.weight\n",
            " 186: True, auto_model.encoder.layer.11.attention.self.value.bias\n",
            " 187: True, auto_model.encoder.layer.11.attention.output.dense.weight\n",
            " 188: True, auto_model.encoder.layer.11.attention.output.dense.bias\n",
            " 189: True, auto_model.encoder.layer.11.attention.output.LayerNorm.weight\n",
            " 190: True, auto_model.encoder.layer.11.attention.output.LayerNorm.bias\n",
            " 191: True, auto_model.encoder.layer.11.intermediate.dense.weight\n",
            " 192: True, auto_model.encoder.layer.11.intermediate.dense.bias\n",
            " 193: True, auto_model.encoder.layer.11.output.dense.weight\n",
            " 194: True, auto_model.encoder.layer.11.output.dense.bias\n",
            " 195: True, auto_model.encoder.layer.11.output.LayerNorm.weight\n",
            " 196: True, auto_model.encoder.layer.11.output.LayerNorm.bias\n",
            " 197: True, auto_model.pooler.dense.weight\n",
            " 198: True, auto_model.pooler.dense.bias\n",
            " 199: True, attention.0.weight\n",
            " 200: True, attention.0.bias\n",
            " 201: True, attention.2.weight\n",
            " 202: True, attention.2.bias\n",
            " 203: True, regressor.0.weight\n",
            " 204: True, regressor.0.bias\n"
          ],
          "name": "stdout"
        }
      ]
    },
    {
      "cell_type": "markdown",
      "metadata": {
        "id": "_PcTNCYuDeuC"
      },
      "source": [
        "## Optimizer"
      ]
    },
    {
      "cell_type": "code",
      "metadata": {
        "id": "RzoJMxr3DeVG"
      },
      "source": [
        "def bert_optimizer(model):\n",
        "    named_parameters = list(model.named_parameters())    \n",
        "    \n",
        "    if \"albert-base\" in config.model_name:\n",
        "        bert_parameters = named_parameters[:23]    \n",
        "        attention_parameters = named_parameters[25:29]\n",
        "        regressor_parameters = named_parameters[29:]\n",
        "        second_block = 999\n",
        "        third_block = 999\n",
        "\n",
        "    elif \"base\" in config.model_name or \"L-12\" in config.model_name:\n",
        "        bert_parameters = named_parameters[:197]    \n",
        "        attention_parameters = named_parameters[199:203]\n",
        "        regressor_parameters = named_parameters[203:]\n",
        "        second_block = 69\n",
        "        third_block = 133\n",
        "\n",
        "    elif \"large\" in config.model_name or \"L-24\" in config.model_name:\n",
        "        bert_parameters = named_parameters[:388]    \n",
        "        attention_parameters = named_parameters[391:395]\n",
        "        regressor_parameters = named_parameters[395:]\n",
        "        second_block = 133\n",
        "        third_block = 261\n",
        "        \n",
        "    attention_group = [params for (name, params) in attention_parameters]\n",
        "    regressor_group = [params for (name, params) in regressor_parameters]\n",
        "\n",
        "    parameters = []\n",
        "    parameters.append({\"params\": attention_group})\n",
        "    parameters.append({\"params\": regressor_group})\n",
        "\n",
        "    for layer_num, (name, params) in enumerate(bert_parameters):\n",
        "        weight_decay = 0.0 if \"bias\" in name else config.weight_decay\n",
        "\n",
        "        lr = config.lr\n",
        "\n",
        "        if layer_num >= second_block:        \n",
        "            lr = config.lr_69\n",
        "\n",
        "        if layer_num >= third_block:\n",
        "            lr = config.lr_133\n",
        "\n",
        "        parameters.append({\"params\": params, \"weight_decay\": weight_decay, \"lr\": lr})\n",
        "\n",
        "    return T.AdamW(parameters)\n"
      ],
      "execution_count": 51,
      "outputs": []
    },
    {
      "cell_type": "markdown",
      "metadata": {
        "id": "de50761e"
      },
      "source": [
        "## Loss"
      ]
    },
    {
      "cell_type": "code",
      "metadata": {
        "id": "47fcae06"
      },
      "source": [
        "class RMSELoss(nn.Module):\n",
        "    def __init__(self, eps=1e-7):\n",
        "        super().__init__()\n",
        "        self.mse = nn.MSELoss()\n",
        "        self.eps = eps\n",
        "        \n",
        "    def forward(self, yhat, y):\n",
        "        loss = torch.sqrt(self.mse(yhat, y) + self.eps)\n",
        "        return loss"
      ],
      "execution_count": 52,
      "outputs": []
    },
    {
      "cell_type": "code",
      "metadata": {
        "id": "cjpp5Rh-4jKW"
      },
      "source": [
        "# https://gist.github.com/SuperShinyEyes/dcc68a08ff8b615442e3bc6a9b55a354\n",
        "class FBetaLoss(nn.Module):\n",
        "\n",
        "    def __init__(self, beta=1.0, epsilon=1e-7):\n",
        "        super().__init__()\n",
        "        self.beta = beta\n",
        "        self.epsilon = epsilon\n",
        "        \n",
        "    def forward(self, y_pred, y_true):\n",
        "        tp = (y_true * y_pred).sum(dim=0).to(torch.float32)\n",
        "        tn = ((1 - y_true) * (1 - y_pred)).sum(dim=0).to(torch.float32)\n",
        "        fp = ((1 - y_true) * y_pred).sum(dim=0).to(torch.float32)\n",
        "        fn = (y_true * (1 - y_pred)).sum(dim=0).to(torch.float32)\n",
        "\n",
        "        precision = tp / (tp + fp + self.epsilon)\n",
        "        recall = tp / (tp + fn + self.epsilon)\n",
        "\n",
        "        beta_squared = self.beta ** 2\n",
        "        fbeta = (1 + beta_squared) * precision * recall / (beta_squared * precision + recall + self.epsilon)\n",
        "        fbeta = fbeta.clamp(min=self.epsilon, max=1-self.epsilon)\n",
        "        return 1 - fbeta.mean()"
      ],
      "execution_count": 53,
      "outputs": []
    },
    {
      "cell_type": "markdown",
      "metadata": {
        "id": "93661540"
      },
      "source": [
        "## Scoring"
      ]
    },
    {
      "cell_type": "code",
      "metadata": {
        "id": "19d9d03c"
      },
      "source": [
        "def get_score(y_true, y_pred, b=border):\n",
        "    y_pred = np.where(y_pred < b, 0, 1)\n",
        "    return fbeta_score(y_true, y_pred, beta=7.0)"
      ],
      "execution_count": 54,
      "outputs": []
    },
    {
      "cell_type": "code",
      "metadata": {
        "id": "a1b92d4f"
      },
      "source": [
        "def get_result(result_df, fold=config.n_fold):\n",
        "    preds = result_df[\"preds\"].values\n",
        "    labels = result_df[\"judgement\"].values\n",
        "    score = get_score(labels, preds)\n",
        "    LOGGER.info(f\"Score: {score:<.5f}\")\n",
        "    # wandb.log({\"fold\": fold, \"CV\": score})\n",
        "    if fold == config.n_fold:\n",
        "        wandb.run.summary[f\"CV\"] = score\n",
        "    else:\n",
        "        wandb.run.summary[f\"CV_fold{fold}\"] = score\n"
      ],
      "execution_count": 55,
      "outputs": []
    },
    {
      "cell_type": "code",
      "metadata": {
        "id": "puJUo-Mjlv_2"
      },
      "source": [
        "def determine_border(b, y_true, y_pred):\n",
        "    return -1 * get_score(y_true, y_pred, b)\n"
      ],
      "execution_count": 56,
      "outputs": []
    },
    {
      "cell_type": "markdown",
      "metadata": {
        "id": "1bf498df"
      },
      "source": [
        "## Helper functions"
      ]
    },
    {
      "cell_type": "code",
      "metadata": {
        "id": "c5b0e152"
      },
      "source": [
        "class AverageMeter(object):\n",
        "    \"\"\"Computes and stores the average and current value\"\"\"\n",
        "\n",
        "    def __init__(self):\n",
        "        self.reset()\n",
        "\n",
        "    def reset(self):\n",
        "        self.val = 0\n",
        "        self.avg = 0\n",
        "        self.sum = 0\n",
        "        self.count = 0\n",
        "\n",
        "    def update(self, val, n=1):\n",
        "        self.val = val\n",
        "        self.sum += val * n\n",
        "        self.count += n\n",
        "        self.avg = self.sum / self.count\n",
        "\n",
        "\n",
        "def asMinutes(s):\n",
        "    m = math.floor(s / 60)\n",
        "    s -= m * 60\n",
        "    return \"%dm %ds\" % (m, s)\n",
        "\n",
        "\n",
        "def timeSince(since, percent):\n",
        "    now = time.time()\n",
        "    s = now - since\n",
        "    es = s / (percent)\n",
        "    rs = es - s\n",
        "    return \"%s (remain %s)\" % (asMinutes(s), asMinutes(rs))"
      ],
      "execution_count": 57,
      "outputs": []
    },
    {
      "cell_type": "code",
      "metadata": {
        "id": "MNxJNSgwg-0E"
      },
      "source": [
        "def pre_train_fn():\n",
        "    tokenizer = T.AutoTokenizer.from_pretrained(config.model_name)\n",
        "    model = T.AutoModelForMaskedLM.from_pretrained(config.model_name)\n",
        "\n",
        "    tokenizer.save_pretrained(f\"./pretrained_{config.model_name}\")\n",
        "\n",
        "    train_dataset = T.LineByLineTextDataset(tokenizer=tokenizer, file_path=\"abstracts.txt\", block_size=512)\n",
        "    valid_dataset = T.LineByLineTextDataset(tokenizer=tokenizer, file_path=\"abstracts.txt\", block_size=512)\n",
        "\n",
        "    data_collator = T.DataCollatorForLanguageModeling(\n",
        "        tokenizer=tokenizer, mlm=True, mlm_probability=0.15\n",
        "    )\n",
        "\n",
        "    training_args = T.TrainingArguments(\n",
        "        output_dir = f\"./pretrained_{config.model_name}_chk\",\n",
        "        overwrite_output_dir = True,\n",
        "        num_train_epochs = 5,\n",
        "        per_device_train_batch_size = 4,\n",
        "        per_device_eval_batch_size = 4,\n",
        "        gradient_accumulation_steps = 4,\n",
        "        evaluation_strategy = 'steps',\n",
        "        save_total_limit = 2,\n",
        "        eval_steps = 105,\n",
        "        save_steps = 105,\n",
        "        metric_for_best_model = 'eval_loss',\n",
        "        greater_is_better = False,\n",
        "        load_best_model_at_end = True,\n",
        "        prediction_loss_only = True,\n",
        "        report_to = \"wandb\",\n",
        "    )\n",
        "\n",
        "    trainer = T.Trainer(\n",
        "        model=model,\n",
        "        args=training_args,\n",
        "        data_collator=data_collator,\n",
        "        train_dataset=train_dataset,\n",
        "        eval_dataset=valid_dataset,\n",
        "    )\n",
        "\n",
        "    trainer.train()\n",
        "\n",
        "    trainer.save_model(f\"./pretrained_{config.model_name}\")"
      ],
      "execution_count": 58,
      "outputs": []
    },
    {
      "cell_type": "code",
      "metadata": {
        "id": "99a3bfb5"
      },
      "source": [
        "def train_fn(train_loader, model, criterion, optimizer, epoch, scheduler, device):\n",
        "    batch_time = AverageMeter()\n",
        "    data_time = AverageMeter()\n",
        "    losses = AverageMeter()\n",
        "    scores = AverageMeter()\n",
        "\n",
        "    # switch to train mode\n",
        "    model.train()\n",
        "    start = end = time.time()\n",
        "    global_step = 0\n",
        "    optimizer.zero_grad()\n",
        "\n",
        "    for step, (input_ids, attention_mask, labels) in enumerate(train_loader):\n",
        "        # measure data loading time\n",
        "        data_time.update(time.time() - end)\n",
        "\n",
        "        input_ids = input_ids.to(device)\n",
        "        attention_mask = attention_mask.to(device)\n",
        "        labels = labels.to(device)\n",
        "        batch_size = labels.size(0)\n",
        "\n",
        "        y_preds = model(input_ids, attention_mask)\n",
        "\n",
        "        loss = criterion(y_preds, labels)\n",
        "\n",
        "        # record loss\n",
        "        losses.update(loss.item(), batch_size)\n",
        "        if config.gradient_accumulation_steps > 1:\n",
        "            loss = loss / config.gradient_accumulation_steps\n",
        "        if Config.apex:\n",
        "            with amp.scale_loss(loss, optimizer) as scaled_loss:\n",
        "                scaled_loss.backward()\n",
        "        else:\n",
        "            loss.backward()\n",
        "\n",
        "        grad_norm = torch.nn.utils.clip_grad_norm_(model.parameters(), config.max_grad_norm)\n",
        "\n",
        "        if (step + 1) % config.gradient_accumulation_steps == 0:\n",
        "            optimizer.step()\n",
        "            optimizer.zero_grad()\n",
        "\n",
        "            if isinstance(scheduler, ReduceLROnPlateau):\n",
        "                scheduler.step(avg_val_loss)\n",
        "            else:\n",
        "                scheduler.step()\n",
        "            \n",
        "            global_step += 1\n",
        "\n",
        "        # measure elapsed time\n",
        "        batch_time.update(time.time() - end)\n",
        "        end = time.time()\n",
        "\n",
        "        if step % Config.print_freq == 0 or step == (len(train_loader) - 1):\n",
        "            print(\n",
        "                f\"Epoch: [{epoch + 1}][{step}/{len(train_loader)}] \"\n",
        "                f\"Elapsed {timeSince(start, float(step + 1) / len(train_loader)):s} \"\n",
        "                f\"Loss: {losses.avg:.4f} \"\n",
        "                f\"Grad: {grad_norm:.4f} \"\n",
        "                # f\"LR: {scheduler.get_last_lr()[0]:.6f}  \"\n",
        "                f\"LR: {scheduler.get_lr()[0]:.6f}  \"\n",
        "            )\n",
        "\n",
        "    return losses.avg"
      ],
      "execution_count": 59,
      "outputs": []
    },
    {
      "cell_type": "code",
      "metadata": {
        "id": "186c441d"
      },
      "source": [
        "def valid_fn(valid_loader, model, criterion, device):\n",
        "    batch_time = AverageMeter()\n",
        "    data_time = AverageMeter()\n",
        "    losses = AverageMeter()\n",
        "    scores = AverageMeter()\n",
        "\n",
        "    # switch to evaluation mode\n",
        "    model.eval()\n",
        "    preds = []\n",
        "    start = end = time.time()\n",
        "\n",
        "    for step, (input_ids, attention_mask, labels) in enumerate(valid_loader):\n",
        "        # measure data loading time\n",
        "        data_time.update(time.time() - end)\n",
        "\n",
        "        input_ids = input_ids.to(device)\n",
        "        attention_mask = attention_mask.to(device)\n",
        "        labels = labels.to(device)\n",
        "        batch_size = labels.size(0)\n",
        "\n",
        "        # compute loss\n",
        "        with torch.no_grad():\n",
        "            y_preds = model(input_ids, attention_mask)\n",
        "\n",
        "        loss = criterion(y_preds, labels)\n",
        "        losses.update(loss.item(), batch_size)\n",
        "\n",
        "        # record score\n",
        "        # preds.append(y_preds.softmax(1).to(\"cpu\").numpy())\n",
        "        preds.append(y_preds.to(\"cpu\").numpy())\n",
        "        if config.gradient_accumulation_steps > 1:\n",
        "            loss = loss / config.gradient_accumulation_steps\n",
        "\n",
        "        # measure elapsed time\n",
        "        batch_time.update(time.time() - end)\n",
        "        end = time.time()\n",
        "\n",
        "        if step % Config.print_freq == 0 or step == (len(valid_loader) - 1):\n",
        "            print(\n",
        "                f\"EVAL: [{step}/{len(valid_loader)}] \"\n",
        "                f\"Elapsed {timeSince(start, float(step + 1) / len(valid_loader)):s} \"\n",
        "                f\"Loss: {losses.avg:.4f} \"\n",
        "            )\n",
        "    predictions = np.concatenate(preds)\n",
        "    return losses.avg, predictions"
      ],
      "execution_count": 60,
      "outputs": []
    },
    {
      "cell_type": "code",
      "metadata": {
        "id": "db7cdfc9"
      },
      "source": [
        "def inference():\n",
        "    predictions = []\n",
        "\n",
        "    for model_item in inference_models:\n",
        "        test_dataset = BaseDataset(test, model_item['model_name'], include_labels=False)\n",
        "        test_loader = DataLoader(\n",
        "            test_dataset, batch_size=config.batch_size, shuffle=False, num_workers=config.num_workers, pin_memory=True\n",
        "        )\n",
        "\n",
        "        for fold in range(config.n_fold):\n",
        "            LOGGER.info(f\"========== ID: {model_item['run_id']} model: {model_item['model_name']} fold: {fold} inference ==========\")\n",
        "            model = BaseModel(model_item['model_name'])\n",
        "            model.to(device)\n",
        "            model.load_state_dict(model_item[f\"state_fold{fold}\"])\n",
        "            model.eval()\n",
        "            preds = []\n",
        "            for i, (input_ids, attention_mask) in tqdm(enumerate(test_loader), total=len(test_loader)):\n",
        "                input_ids = input_ids.to(device)\n",
        "                attention_mask = attention_mask.to(device)\n",
        "                with torch.no_grad():\n",
        "                    y_preds = model(input_ids, attention_mask)\n",
        "                # avg_preds.append(y_preds.softmax(1).to(\"cpu\").numpy())\n",
        "                preds.append(y_preds.to(\"cpu\").numpy())\n",
        "            preds = np.concatenate(preds)\n",
        "            predictions.append(preds)\n",
        "    predictions = np.mean(predictions, axis=0)\n",
        "\n",
        "    if config.criterion == \"BCEWithLogitsLoss\":\n",
        "        predictions = 1 / (1 + np.exp(-predictions))\n",
        "\n",
        "    return predictions\n"
      ],
      "execution_count": 61,
      "outputs": []
    },
    {
      "cell_type": "markdown",
      "metadata": {
        "id": "df9663c1"
      },
      "source": [
        "## Train loop"
      ]
    },
    {
      "cell_type": "code",
      "metadata": {
        "id": "357969e6"
      },
      "source": [
        "def train_loop(df, fold):\n",
        "\n",
        "    LOGGER.info(f\"========== fold: {fold} training ==========\")\n",
        "\n",
        "    # ====================================================\n",
        "    # Data Loader\n",
        "    # ====================================================\n",
        "    trn_idx = df[df[\"fold\"] != fold].index\n",
        "    val_idx = df[df[\"fold\"] == fold].index\n",
        "\n",
        "    train_folds = df.loc[trn_idx].reset_index(drop=True)\n",
        "    valid_folds = df.loc[val_idx].reset_index(drop=True)\n",
        "\n",
        "    train_dataset = BaseDataset(train_folds, config.model_name)\n",
        "    valid_dataset = BaseDataset(valid_folds, config.model_name)\n",
        "\n",
        "    train_loader = DataLoader(\n",
        "        train_dataset,\n",
        "        batch_size=config.batch_size,\n",
        "        shuffle=True,\n",
        "        num_workers=config.num_workers,\n",
        "        pin_memory=True,\n",
        "        drop_last=True,\n",
        "    )\n",
        "    valid_loader = DataLoader(\n",
        "        valid_dataset,\n",
        "        batch_size=config.batch_size,\n",
        "        shuffle=False,\n",
        "        num_workers=config.num_workers,\n",
        "        pin_memory=True,\n",
        "        drop_last=False,\n",
        "    )\n",
        "\n",
        "    # ====================================================\n",
        "    # Optimizer\n",
        "    # ====================================================\n",
        "    def get_optimizer(model):\n",
        "        if config.optimizer == \"Adam\":\n",
        "            optimizer = Adam(model.parameters(), lr=config.lr, weight_decay=config.weight_decay, amsgrad=False)\n",
        "        elif config.optimizer == \"AdamW\":\n",
        "            optimizer = T.AdamW(model.parameters(), lr=config.lr, weight_decay=config.weight_decay)\n",
        "        elif config.optimizer == \"BertAdamW\":\n",
        "            optimizer = bert_optimizer(model)\n",
        "        return optimizer\n",
        "\n",
        "    # ====================================================\n",
        "    # Scheduler\n",
        "    # ====================================================\n",
        "    def get_scheduler(optimizer):\n",
        "        if config.scheduler == \"ReduceLROnPlateau\":\n",
        "            scheduler = ReduceLROnPlateau(\n",
        "                optimizer, mode=\"min\", factor=config.factor, patience=config.patience, verbose=True, eps=config.eps\n",
        "            )\n",
        "        elif config.scheduler == \"CosineAnnealingLR\":\n",
        "            scheduler = CosineAnnealingLR(optimizer, T_max=config.T_max, eta_min=config.min_lr, last_epoch=-1)\n",
        "        elif config.scheduler == \"CosineAnnealingWarmRestarts\":\n",
        "            scheduler = CosineAnnealingWarmRestarts(\n",
        "                optimizer, T_0=config.T_0, T_mult=1, eta_min=config.min_lr, last_epoch=-1\n",
        "            )\n",
        "        elif config.scheduler == \"CosineAnnealingWarmupRestarts\":\n",
        "            scheduler = CosineAnnealingWarmupRestarts(\n",
        "                optimizer, first_cycle_steps=config.first_cycle_steps, max_lr=config.lr, min_lr=config.min_lr, warmup_steps=config.warmup_steps\n",
        "            )\n",
        "        elif config.scheduler == \"get_cosine_schedule_with_warmup\":\n",
        "            scheduler = T.get_cosine_schedule_with_warmup(\n",
        "                optimizer,\n",
        "                num_training_steps=config.num_training_steps, \n",
        "                num_warmup_steps=config.num_warmup_steps\n",
        "            )\n",
        "        return scheduler\n",
        "\n",
        "    # ====================================================\n",
        "    # Model\n",
        "    # ====================================================\n",
        "    model = BaseModel(config.model_name)\n",
        "    model.to(device)\n",
        "\n",
        "    # Use multi GPU\n",
        "    if device == torch.device(\"cuda\") and not Config.apex and Config.multi_gpu:\n",
        "        model = torch.nn.DataParallel(model)  # make parallel\n",
        "        # torch.backends.cudnn.benchmark=True\n",
        "\n",
        "    optimizer = get_optimizer(model)\n",
        "    scheduler = get_scheduler(optimizer)\n",
        "\n",
        "    # ====================================================\n",
        "    # Apex\n",
        "    # ====================================================\n",
        "    if Config.apex:\n",
        "        model, optimizer = amp.initialize(model, optimizer, opt_level=\"O1\", verbosity=0)\n",
        "\n",
        "    # ====================================================\n",
        "    # Criterion\n",
        "    # ====================================================\n",
        "    def get_criterion():\n",
        "        if config.criterion == \"CrossEntropyLoss\":\n",
        "            criterion = nn.CrossEntropyLoss()\n",
        "        elif config.criterion == \"BCEWithLogitsLoss\":\n",
        "            criterion = nn.BCEWithLogitsLoss()\n",
        "        elif config.criterion == \"MSELoss\":\n",
        "            criterion = nn.MSELoss()\n",
        "        elif config.criterion == \"RMSELoss\":\n",
        "            criterion = RMSELoss()\n",
        "        elif config.criterion == \"FBetaLoss\":\n",
        "            criterion = FBetaLoss(7.0)\n",
        "\n",
        "        return criterion\n",
        "\n",
        "    criterion = get_criterion()\n",
        "\n",
        "    # ====================================================\n",
        "    # Loop\n",
        "    # ====================================================\n",
        "    best_score = -1\n",
        "    best_loss = np.inf\n",
        "\n",
        "    # if not Config.multi_gpu:\n",
        "    #     wandb.watch(model, log_freq=Config.print_freq)\n",
        "\n",
        "    for epoch in range(config.epochs):\n",
        "\n",
        "        start_time = time.time()\n",
        "\n",
        "        # train\n",
        "        avg_loss = train_fn(train_loader, model, criterion, optimizer, epoch, scheduler, device)\n",
        "\n",
        "        # eval\n",
        "        avg_val_loss, preds = valid_fn(valid_loader, model, criterion, device)\n",
        "        valid_labels = valid_folds[\"judgement\"].values\n",
        "\n",
        "        # if isinstance(scheduler, ReduceLROnPlateau):\n",
        "        #     scheduler.step(avg_val_loss)\n",
        "        # else:\n",
        "        #     scheduler.step()\n",
        "\n",
        "        if config.criterion == \"BCEWithLogitsLoss\":\n",
        "            preds = 1 / (1 + np.exp(-preds))\n",
        "\n",
        "        # scoring\n",
        "        # score = get_score(valid_labels, preds.argmax(1))\n",
        "        score = get_score(valid_labels, preds)\n",
        "\n",
        "        elapsed = time.time() - start_time\n",
        "\n",
        "        LOGGER.info(\n",
        "            f\"Epoch {epoch+1} - avg_train_loss: {avg_loss:.4f}  avg_val_loss: {avg_val_loss:.4f}  time: {elapsed:.0f}s\"\n",
        "        )\n",
        "        LOGGER.info(f\"Epoch {epoch+1} - Score: {score}\")\n",
        "\n",
        "        wandb.log(\n",
        "            {\n",
        "                \"epoch\": epoch + 1,\n",
        "                f\"loss/train_fold{fold}\": avg_loss,\n",
        "                f\"loss/val_fold{fold}\": avg_val_loss,\n",
        "                f\"score/fold{fold}\": score,\n",
        "            }\n",
        "        )\n",
        "\n",
        "        if score > best_score:\n",
        "            best_score = score\n",
        "            LOGGER.info(f\"Epoch {epoch+1} - Save Best Score: {best_score:.4f} Model\")\n",
        "            torch.save(\n",
        "                {\"model\": model.state_dict(), \"preds\": preds}, OUTPUT_DIR + f\"{config.model_name.replace('/', '-')}_fold{fold}_best.pth\"\n",
        "            )\n",
        "            wandb.save(OUTPUT_DIR + f\"{config.model_name.replace('/', '-')}_fold{fold}_best.pth\")\n",
        "\n",
        "        # if epoch == config.epochs - 1:\n",
        "        #     LOGGER.info(f\"Epoch {epoch+1} - Save final model\")\n",
        "        #     torch.save(\n",
        "        #         {\"model\": model.state_dict(), \"preds\": preds}, OUTPUT_DIR + f\"{config.model_name}_fold{fold}_final.pth\"\n",
        "        #     )\n",
        "\n",
        "    check_point = torch.load(OUTPUT_DIR + f\"{config.model_name.replace('/', '-')}_fold{fold}_best.pth\")\n",
        "\n",
        "    valid_folds[[str(c) for c in range(config.n_class)]] = check_point[\"preds\"]\n",
        "    valid_folds[\"preds\"] = check_point[\"preds\"]  # .argmax(1)\n",
        "\n",
        "    return valid_folds"
      ],
      "execution_count": 62,
      "outputs": []
    },
    {
      "cell_type": "markdown",
      "metadata": {
        "id": "97b42fa3"
      },
      "source": [
        "## Main\n"
      ]
    },
    {
      "cell_type": "code",
      "metadata": {
        "id": "5baf150d"
      },
      "source": [
        "def main():\n",
        "    if Config.pre_train:\n",
        "        abstract_df = pd.concat([train[\"abstract\"], test[\"abstract\"]])\n",
        "        abstracts  = '\\n'.join(abstract_df.tolist())\n",
        "        with open(\"abstracts.txt\", \"w\") as f:\n",
        "            f.write(abstracts)\n",
        "\n",
        "        pre_train_fn()\n",
        "\n",
        "    if Config.train:\n",
        "        oof_df = pd.DataFrame()\n",
        "        for fold in range(config.n_fold):\n",
        "            seed_torch(seed + fold)\n",
        "\n",
        "            _oof_df = train_loop(train, fold)\n",
        "            oof_df = pd.concat([oof_df, _oof_df])\n",
        "            LOGGER.info(f\"========== fold: {fold} result ==========\")\n",
        "            get_result(_oof_df, fold)\n",
        "            \n",
        "        # CV result\n",
        "        LOGGER.info(f\"========== CV ==========\")\n",
        "        get_result(oof_df)\n",
        "        \n",
        "        # save result\n",
        "        oof_df.to_csv(OUTPUT_DIR + \"oof_df.csv\", index=False)\n",
        "        wandb.save(OUTPUT_DIR + \"oof_df.csv\")\n",
        "        \n",
        "    if Config.validate:\n",
        "        probs = []\n",
        "\n",
        "        for n in range(len(config.inference_runs)):\n",
        "            probs.append(train[f\"preds{n}\"].values)\n",
        "        preds = np.mean(probs, axis=0)\n",
        "        train[\"preds\"] = preds\n",
        "\n",
        "        # Post process\n",
        "        if config.border == \"minimize\":\n",
        "            res = sp.optimize.minimize_scalar(determine_border, method='bounded', bounds=(0, 1), args=(train[\"judgement\"].values, preds))\n",
        "            LOGGER.info(f\"========== Border Optimization ==========\")\n",
        "            LOGGER.info(f\"Border: {res.x:<.5f}, Score: {-res.fun:<.5f}\")\n",
        "            wandb.run.summary[f\"CV\"] = -res.fun\n",
        "\n",
        "        elif config.border == \"fixed\":\n",
        "            # CV result\n",
        "            LOGGER.info(f\"========== CV ==========\")\n",
        "            get_result(train)\n",
        "\n",
        "        # save result\n",
        "        train.to_csv(OUTPUT_DIR + \"validation_df.csv\", index=False)\n",
        "        wandb.save(OUTPUT_DIR + \"validation_df.csv\")\n",
        "\n",
        "    if Config.inference:\n",
        "        predictions = inference()\n",
        "\n",
        "        # Post process\n",
        "        try:\n",
        "            b = res.x\n",
        "        except Exception:\n",
        "            b = border\n",
        "        wandb.run.summary[f\"border\"] = b\n",
        "\n",
        "        predictions = np.where(predictions < b, 0, 1)\n",
        "\n",
        "        # submission\n",
        "        sub[\"judgement\"] = predictions  # .argmax(1)\n",
        "        print(sub[\"judgement\"].value_counts())\n",
        "\n",
        "        sub.to_csv(OUTPUT_DIR + \"submission.csv\", index=False, header=False)\n",
        "        wandb.save(OUTPUT_DIR + \"submission.csv\")\n"
      ],
      "execution_count": 63,
      "outputs": []
    },
    {
      "cell_type": "code",
      "metadata": {
        "colab": {
          "base_uri": "https://localhost:8080/"
        },
        "id": "726e744f",
        "outputId": "e98c559a-acba-4c3c-f237-7b3f9a45739d"
      },
      "source": [
        "if __name__ == \"__main__\":\n",
        "    main()\n"
      ],
      "execution_count": 64,
      "outputs": [
        {
          "output_type": "stream",
          "text": [
            "========== fold: 0 training ==========\n",
            "Some weights of the model checkpoint at dmis-lab/biobert-base-cased-v1.1-squad were not used when initializing BertModel: ['qa_outputs.weight', 'qa_outputs.bias']\n",
            "- This IS expected if you are initializing BertModel from the checkpoint of a model trained on another task or with another architecture (e.g. initializing a BertForSequenceClassification model from a BertForPreTraining model).\n",
            "- This IS NOT expected if you are initializing BertModel from the checkpoint of a model that you expect to be exactly identical (initializing a BertForSequenceClassification model from a BertForSequenceClassification model).\n"
          ],
          "name": "stderr"
        },
        {
          "output_type": "stream",
          "text": [
            "Epoch: [1][0/1809] Elapsed 0m 1s (remain 31m 39s) Loss: 0.4759 Grad: 3.7578 LR: 0.000000  \n",
            "Epoch: [1][100/1809] Elapsed 0m 37s (remain 10m 32s) Loss: 0.2216 Grad: 0.2570 LR: 0.000185  \n",
            "Epoch: [1][200/1809] Elapsed 1m 13s (remain 9m 50s) Loss: 0.1582 Grad: 0.1371 LR: 0.000369  \n",
            "Epoch: [1][300/1809] Elapsed 1m 50s (remain 9m 13s) Loss: 0.1356 Grad: 0.1279 LR: 0.000554  \n",
            "Epoch: [1][400/1809] Elapsed 2m 26s (remain 8m 35s) Loss: 0.1210 Grad: 0.1662 LR: 0.000738  \n",
            "Epoch: [1][500/1809] Elapsed 3m 3s (remain 7m 59s) Loss: 0.1177 Grad: 0.1690 LR: 0.000923  \n",
            "Epoch: [1][600/1809] Elapsed 3m 40s (remain 7m 22s) Loss: 0.1114 Grad: 0.0593 LR: 0.001000  \n",
            "Epoch: [1][700/1809] Elapsed 4m 16s (remain 6m 45s) Loss: 0.1054 Grad: 0.0944 LR: 0.000997  \n",
            "Epoch: [1][800/1809] Elapsed 4m 53s (remain 6m 8s) Loss: 0.1031 Grad: 0.0087 LR: 0.000993  \n",
            "Epoch: [1][900/1809] Elapsed 5m 29s (remain 5m 32s) Loss: 0.1029 Grad: 0.5357 LR: 0.000987  \n",
            "Epoch: [1][1000/1809] Elapsed 6m 6s (remain 4m 55s) Loss: 0.1005 Grad: 1.4018 LR: 0.000978  \n",
            "Epoch: [1][1100/1809] Elapsed 6m 42s (remain 4m 19s) Loss: 0.0969 Grad: 0.1805 LR: 0.000968  \n",
            "Epoch: [1][1200/1809] Elapsed 7m 19s (remain 3m 42s) Loss: 0.0926 Grad: 0.4318 LR: 0.000956  \n",
            "Epoch: [1][1300/1809] Elapsed 7m 55s (remain 3m 5s) Loss: 0.0905 Grad: 0.0323 LR: 0.000942  \n",
            "Epoch: [1][1400/1809] Elapsed 8m 32s (remain 2m 29s) Loss: 0.0878 Grad: 0.0731 LR: 0.000926  \n",
            "Epoch: [1][1500/1809] Elapsed 9m 9s (remain 1m 52s) Loss: 0.0846 Grad: 0.1115 LR: 0.000908  \n",
            "Epoch: [1][1600/1809] Elapsed 9m 45s (remain 1m 16s) Loss: 0.0826 Grad: 0.8210 LR: 0.000889  \n",
            "Epoch: [1][1700/1809] Elapsed 10m 22s (remain 0m 39s) Loss: 0.0810 Grad: 0.0529 LR: 0.000867  \n",
            "Epoch: [1][1800/1809] Elapsed 10m 58s (remain 0m 2s) Loss: 0.0793 Grad: 0.0618 LR: 0.000845  \n",
            "Epoch: [1][1808/1809] Elapsed 11m 1s (remain 0m 0s) Loss: 0.0792 Grad: 0.7217 LR: 0.000843  \n",
            "EVAL: [0/453] Elapsed 0m 0s (remain 5m 29s) Loss: 0.0111 \n",
            "EVAL: [100/453] Elapsed 0m 12s (remain 0m 44s) Loss: 0.0479 \n",
            "EVAL: [200/453] Elapsed 0m 24s (remain 0m 30s) Loss: 0.0439 \n",
            "EVAL: [300/453] Elapsed 0m 36s (remain 0m 18s) Loss: 0.0447 \n",
            "EVAL: [400/453] Elapsed 0m 48s (remain 0m 6s) Loss: 0.0442 \n",
            "EVAL: [452/453] Elapsed 0m 54s (remain 0m 0s) Loss: 0.0452 \n"
          ],
          "name": "stdout"
        },
        {
          "output_type": "stream",
          "text": [
            "Epoch 1 - avg_train_loss: 0.0792  avg_val_loss: 0.0452  time: 717s\n",
            "Epoch 1 - Score: 0.8849557522123894\n",
            "Epoch 1 - Save Best Score: 0.8850 Model\n"
          ],
          "name": "stderr"
        },
        {
          "output_type": "stream",
          "text": [
            "Epoch: [2][0/1809] Elapsed 0m 1s (remain 55m 54s) Loss: 0.0181 Grad: 0.1483 LR: 0.000843  \n",
            "Epoch: [2][100/1809] Elapsed 0m 38s (remain 10m 50s) Loss: 0.0366 Grad: 0.2815 LR: 0.000819  \n",
            "Epoch: [2][200/1809] Elapsed 1m 15s (remain 10m 0s) Loss: 0.0358 Grad: 0.0118 LR: 0.000794  \n",
            "Epoch: [2][300/1809] Elapsed 1m 51s (remain 9m 18s) Loss: 0.0369 Grad: 0.0076 LR: 0.000767  \n",
            "Epoch: [2][400/1809] Elapsed 2m 28s (remain 8m 40s) Loss: 0.0366 Grad: 0.0036 LR: 0.000739  \n",
            "Epoch: [2][500/1809] Elapsed 3m 4s (remain 8m 2s) Loss: 0.0372 Grad: 0.5696 LR: 0.000710  \n",
            "Epoch: [2][600/1809] Elapsed 3m 41s (remain 7m 24s) Loss: 0.0389 Grad: 0.1164 LR: 0.000681  \n",
            "Epoch: [2][700/1809] Elapsed 4m 17s (remain 6m 47s) Loss: 0.0391 Grad: 0.0054 LR: 0.000650  \n",
            "Epoch: [2][800/1809] Elapsed 4m 54s (remain 6m 10s) Loss: 0.0374 Grad: 0.0880 LR: 0.000619  \n",
            "Epoch: [2][900/1809] Elapsed 5m 30s (remain 5m 33s) Loss: 0.0364 Grad: 0.3575 LR: 0.000588  \n",
            "Epoch: [2][1000/1809] Elapsed 6m 7s (remain 4m 56s) Loss: 0.0361 Grad: 0.6677 LR: 0.000556  \n",
            "Epoch: [2][1100/1809] Elapsed 6m 44s (remain 4m 19s) Loss: 0.0364 Grad: 0.0854 LR: 0.000524  \n",
            "Epoch: [2][1200/1809] Elapsed 7m 20s (remain 3m 43s) Loss: 0.0358 Grad: 0.1970 LR: 0.000492  \n",
            "Epoch: [2][1300/1809] Elapsed 7m 57s (remain 3m 6s) Loss: 0.0351 Grad: 0.0622 LR: 0.000460  \n",
            "Epoch: [2][1400/1809] Elapsed 8m 33s (remain 2m 29s) Loss: 0.0346 Grad: 0.0411 LR: 0.000428  \n",
            "Epoch: [2][1500/1809] Elapsed 9m 10s (remain 1m 52s) Loss: 0.0342 Grad: 0.0024 LR: 0.000396  \n",
            "Epoch: [2][1600/1809] Elapsed 9m 46s (remain 1m 16s) Loss: 0.0336 Grad: 0.3570 LR: 0.000365  \n",
            "Epoch: [2][1700/1809] Elapsed 10m 23s (remain 0m 39s) Loss: 0.0331 Grad: 0.0079 LR: 0.000334  \n",
            "Epoch: [2][1800/1809] Elapsed 10m 59s (remain 0m 2s) Loss: 0.0327 Grad: 1.4291 LR: 0.000304  \n",
            "Epoch: [2][1808/1809] Elapsed 11m 2s (remain 0m 0s) Loss: 0.0326 Grad: 0.0021 LR: 0.000302  \n",
            "EVAL: [0/453] Elapsed 0m 0s (remain 5m 36s) Loss: 0.0003 \n",
            "EVAL: [100/453] Elapsed 0m 12s (remain 0m 44s) Loss: 0.0490 \n",
            "EVAL: [200/453] Elapsed 0m 24s (remain 0m 30s) Loss: 0.0403 \n",
            "EVAL: [300/453] Elapsed 0m 36s (remain 0m 18s) Loss: 0.0420 \n",
            "EVAL: [400/453] Elapsed 0m 48s (remain 0m 6s) Loss: 0.0406 \n",
            "EVAL: [452/453] Elapsed 0m 54s (remain 0m 0s) Loss: 0.0427 \n"
          ],
          "name": "stdout"
        },
        {
          "output_type": "stream",
          "text": [
            "Epoch 2 - avg_train_loss: 0.0326  avg_val_loss: 0.0427  time: 718s\n",
            "Epoch 2 - Score: 0.8396827865028766\n"
          ],
          "name": "stderr"
        },
        {
          "output_type": "stream",
          "text": [
            "Epoch: [3][0/1809] Elapsed 0m 0s (remain 29m 57s) Loss: 0.0052 Grad: 0.3182 LR: 0.000302  \n",
            "Epoch: [3][100/1809] Elapsed 0m 37s (remain 10m 34s) Loss: 0.0190 Grad: 0.0013 LR: 0.000273  \n",
            "Epoch: [3][200/1809] Elapsed 1m 14s (remain 9m 52s) Loss: 0.0163 Grad: 0.0975 LR: 0.000245  \n",
            "Epoch: [3][300/1809] Elapsed 1m 50s (remain 9m 14s) Loss: 0.0164 Grad: 0.0022 LR: 0.000218  \n",
            "Epoch: [3][400/1809] Elapsed 2m 27s (remain 8m 37s) Loss: 0.0179 Grad: 0.0092 LR: 0.000192  \n",
            "Epoch: [3][500/1809] Elapsed 3m 3s (remain 7m 59s) Loss: 0.0177 Grad: 0.0851 LR: 0.000167  \n",
            "Epoch: [3][600/1809] Elapsed 3m 40s (remain 7m 22s) Loss: 0.0174 Grad: 0.0215 LR: 0.000144  \n",
            "Epoch: [3][700/1809] Elapsed 4m 16s (remain 6m 45s) Loss: 0.0173 Grad: 0.0015 LR: 0.000122  \n",
            "Epoch: [3][800/1809] Elapsed 4m 53s (remain 6m 9s) Loss: 0.0169 Grad: 0.0018 LR: 0.000102  \n",
            "Epoch: [3][900/1809] Elapsed 5m 29s (remain 5m 32s) Loss: 0.0159 Grad: 0.0024 LR: 0.000083  \n",
            "Epoch: [3][1000/1809] Elapsed 6m 6s (remain 4m 55s) Loss: 0.0162 Grad: 0.0037 LR: 0.000066  \n",
            "Epoch: [3][1100/1809] Elapsed 6m 43s (remain 4m 19s) Loss: 0.0160 Grad: 6.4276 LR: 0.000051  \n",
            "Epoch: [3][1200/1809] Elapsed 7m 19s (remain 3m 42s) Loss: 0.0158 Grad: 3.8333 LR: 0.000038  \n",
            "Epoch: [3][1300/1809] Elapsed 7m 56s (remain 3m 5s) Loss: 0.0155 Grad: 0.0029 LR: 0.000026  \n",
            "Epoch: [3][1400/1809] Elapsed 8m 32s (remain 2m 29s) Loss: 0.0150 Grad: 0.0010 LR: 0.000017  \n",
            "Epoch: [3][1500/1809] Elapsed 9m 9s (remain 1m 52s) Loss: 0.0144 Grad: 0.0442 LR: 0.000010  \n",
            "Epoch: [3][1600/1809] Elapsed 9m 45s (remain 1m 16s) Loss: 0.0142 Grad: 0.0012 LR: 0.000004  \n",
            "Epoch: [3][1700/1809] Elapsed 10m 22s (remain 0m 39s) Loss: 0.0140 Grad: 0.2627 LR: 0.000001  \n",
            "Epoch: [3][1800/1809] Elapsed 10m 58s (remain 0m 2s) Loss: 0.0141 Grad: 0.0683 LR: 0.000000  \n",
            "Epoch: [3][1808/1809] Elapsed 11m 1s (remain 0m 0s) Loss: 0.0141 Grad: 0.0018 LR: 0.000000  \n",
            "EVAL: [0/453] Elapsed 0m 0s (remain 5m 18s) Loss: 0.0001 \n",
            "EVAL: [100/453] Elapsed 0m 12s (remain 0m 44s) Loss: 0.0563 \n",
            "EVAL: [200/453] Elapsed 0m 24s (remain 0m 30s) Loss: 0.0420 \n",
            "EVAL: [300/453] Elapsed 0m 36s (remain 0m 18s) Loss: 0.0444 \n",
            "EVAL: [400/453] Elapsed 0m 48s (remain 0m 6s) Loss: 0.0439 \n",
            "EVAL: [452/453] Elapsed 0m 54s (remain 0m 0s) Loss: 0.0450 \n"
          ],
          "name": "stdout"
        },
        {
          "output_type": "stream",
          "text": [
            "Epoch 3 - avg_train_loss: 0.0141  avg_val_loss: 0.0450  time: 717s\n",
            "Epoch 3 - Score: 0.8377701221421859\n",
            "========== fold: 0 result ==========\n",
            "Score: 0.88496\n",
            "========== fold: 1 training ==========\n",
            "Some weights of the model checkpoint at dmis-lab/biobert-base-cased-v1.1-squad were not used when initializing BertModel: ['qa_outputs.weight', 'qa_outputs.bias']\n",
            "- This IS expected if you are initializing BertModel from the checkpoint of a model trained on another task or with another architecture (e.g. initializing a BertForSequenceClassification model from a BertForPreTraining model).\n",
            "- This IS NOT expected if you are initializing BertModel from the checkpoint of a model that you expect to be exactly identical (initializing a BertForSequenceClassification model from a BertForSequenceClassification model).\n"
          ],
          "name": "stderr"
        },
        {
          "output_type": "stream",
          "text": [
            "Epoch: [1][0/1809] Elapsed 0m 1s (remain 31m 55s) Loss: 0.6736 Grad: 4.3842 LR: 0.000000  \n",
            "Epoch: [1][100/1809] Elapsed 0m 37s (remain 10m 34s) Loss: 0.2707 Grad: 1.7780 LR: 0.000185  \n",
            "Epoch: [1][200/1809] Elapsed 1m 14s (remain 9m 52s) Loss: 0.1918 Grad: 0.4861 LR: 0.000369  \n",
            "Epoch: [1][300/1809] Elapsed 1m 50s (remain 9m 13s) Loss: 0.1533 Grad: 0.3596 LR: 0.000554  \n",
            "Epoch: [1][400/1809] Elapsed 2m 27s (remain 8m 36s) Loss: 0.1350 Grad: 1.6554 LR: 0.000738  \n",
            "Epoch: [1][500/1809] Elapsed 3m 3s (remain 7m 59s) Loss: 0.1217 Grad: 0.4074 LR: 0.000923  \n",
            "Epoch: [1][600/1809] Elapsed 3m 40s (remain 7m 22s) Loss: 0.1136 Grad: 0.3791 LR: 0.001000  \n",
            "Epoch: [1][700/1809] Elapsed 4m 16s (remain 6m 45s) Loss: 0.1092 Grad: 0.0866 LR: 0.000997  \n",
            "Epoch: [1][800/1809] Elapsed 4m 53s (remain 6m 9s) Loss: 0.1049 Grad: 0.7590 LR: 0.000993  \n",
            "Epoch: [1][900/1809] Elapsed 5m 29s (remain 5m 32s) Loss: 0.0999 Grad: 0.3071 LR: 0.000987  \n",
            "Epoch: [1][1000/1809] Elapsed 6m 6s (remain 4m 55s) Loss: 0.0961 Grad: 0.5001 LR: 0.000978  \n",
            "Epoch: [1][1100/1809] Elapsed 6m 43s (remain 4m 19s) Loss: 0.0932 Grad: 0.1152 LR: 0.000968  \n",
            "Epoch: [1][1200/1809] Elapsed 7m 19s (remain 3m 42s) Loss: 0.0909 Grad: 0.0438 LR: 0.000956  \n",
            "Epoch: [1][1300/1809] Elapsed 7m 56s (remain 3m 5s) Loss: 0.0886 Grad: 0.3522 LR: 0.000942  \n",
            "Epoch: [1][1400/1809] Elapsed 8m 32s (remain 2m 29s) Loss: 0.0868 Grad: 6.8870 LR: 0.000926  \n",
            "Epoch: [1][1500/1809] Elapsed 9m 9s (remain 1m 52s) Loss: 0.0841 Grad: 5.1177 LR: 0.000908  \n",
            "Epoch: [1][1600/1809] Elapsed 9m 45s (remain 1m 16s) Loss: 0.0820 Grad: 0.0179 LR: 0.000889  \n",
            "Epoch: [1][1700/1809] Elapsed 10m 22s (remain 0m 39s) Loss: 0.0796 Grad: 3.7391 LR: 0.000867  \n",
            "Epoch: [1][1800/1809] Elapsed 10m 59s (remain 0m 2s) Loss: 0.0786 Grad: 0.3175 LR: 0.000845  \n",
            "Epoch: [1][1808/1809] Elapsed 11m 2s (remain 0m 0s) Loss: 0.0783 Grad: 0.0659 LR: 0.000843  \n",
            "EVAL: [0/453] Elapsed 0m 0s (remain 5m 44s) Loss: 0.0129 \n",
            "EVAL: [100/453] Elapsed 0m 12s (remain 0m 44s) Loss: 0.0396 \n",
            "EVAL: [200/453] Elapsed 0m 24s (remain 0m 30s) Loss: 0.0437 \n",
            "EVAL: [300/453] Elapsed 0m 36s (remain 0m 18s) Loss: 0.0453 \n",
            "EVAL: [400/453] Elapsed 0m 48s (remain 0m 6s) Loss: 0.0472 \n",
            "EVAL: [452/453] Elapsed 0m 54s (remain 0m 0s) Loss: 0.0485 \n"
          ],
          "name": "stdout"
        },
        {
          "output_type": "stream",
          "text": [
            "Epoch 1 - avg_train_loss: 0.0783  avg_val_loss: 0.0485  time: 717s\n",
            "Epoch 1 - Score: 0.8498188910560044\n",
            "Epoch 1 - Save Best Score: 0.8498 Model\n"
          ],
          "name": "stderr"
        },
        {
          "output_type": "stream",
          "text": [
            "Epoch: [2][0/1809] Elapsed 0m 1s (remain 32m 52s) Loss: 0.2103 Grad: 1.9549 LR: 0.000843  \n",
            "Epoch: [2][100/1809] Elapsed 0m 37s (remain 10m 37s) Loss: 0.0436 Grad: 0.4424 LR: 0.000819  \n",
            "Epoch: [2][200/1809] Elapsed 1m 14s (remain 9m 53s) Loss: 0.0386 Grad: 0.1802 LR: 0.000794  \n",
            "Epoch: [2][300/1809] Elapsed 1m 50s (remain 9m 15s) Loss: 0.0335 Grad: 0.0064 LR: 0.000767  \n",
            "Epoch: [2][400/1809] Elapsed 2m 27s (remain 8m 37s) Loss: 0.0356 Grad: 0.0095 LR: 0.000739  \n",
            "Epoch: [2][500/1809] Elapsed 3m 4s (remain 8m 0s) Loss: 0.0355 Grad: 0.0028 LR: 0.000710  \n",
            "Epoch: [2][600/1809] Elapsed 3m 40s (remain 7m 23s) Loss: 0.0340 Grad: 0.8575 LR: 0.000681  \n",
            "Epoch: [2][700/1809] Elapsed 4m 17s (remain 6m 46s) Loss: 0.0327 Grad: 0.0054 LR: 0.000650  \n",
            "Epoch: [2][800/1809] Elapsed 4m 53s (remain 6m 9s) Loss: 0.0323 Grad: 0.3256 LR: 0.000619  \n",
            "Epoch: [2][900/1809] Elapsed 5m 30s (remain 5m 32s) Loss: 0.0340 Grad: 0.3541 LR: 0.000588  \n",
            "Epoch: [2][1000/1809] Elapsed 6m 6s (remain 4m 56s) Loss: 0.0336 Grad: 0.1525 LR: 0.000556  \n",
            "Epoch: [2][1100/1809] Elapsed 6m 43s (remain 4m 19s) Loss: 0.0346 Grad: 0.0185 LR: 0.000524  \n",
            "Epoch: [2][1200/1809] Elapsed 7m 20s (remain 3m 42s) Loss: 0.0351 Grad: 0.7729 LR: 0.000492  \n",
            "Epoch: [2][1300/1809] Elapsed 7m 56s (remain 3m 6s) Loss: 0.0350 Grad: 0.0401 LR: 0.000460  \n",
            "Epoch: [2][1400/1809] Elapsed 8m 33s (remain 2m 29s) Loss: 0.0344 Grad: 1.6079 LR: 0.000428  \n",
            "Epoch: [2][1500/1809] Elapsed 9m 9s (remain 1m 52s) Loss: 0.0349 Grad: 0.0133 LR: 0.000396  \n",
            "Epoch: [2][1600/1809] Elapsed 9m 46s (remain 1m 16s) Loss: 0.0347 Grad: 0.0088 LR: 0.000365  \n",
            "Epoch: [2][1700/1809] Elapsed 10m 22s (remain 0m 39s) Loss: 0.0346 Grad: 0.0025 LR: 0.000334  \n",
            "Epoch: [2][1800/1809] Elapsed 10m 59s (remain 0m 2s) Loss: 0.0336 Grad: 0.2348 LR: 0.000304  \n",
            "Epoch: [2][1808/1809] Elapsed 11m 2s (remain 0m 0s) Loss: 0.0337 Grad: 0.7703 LR: 0.000302  \n",
            "EVAL: [0/453] Elapsed 0m 0s (remain 5m 28s) Loss: 0.0003 \n",
            "EVAL: [100/453] Elapsed 0m 12s (remain 0m 44s) Loss: 0.0280 \n",
            "EVAL: [200/453] Elapsed 0m 24s (remain 0m 30s) Loss: 0.0333 \n",
            "EVAL: [300/453] Elapsed 0m 36s (remain 0m 18s) Loss: 0.0338 \n",
            "EVAL: [400/453] Elapsed 0m 48s (remain 0m 6s) Loss: 0.0330 \n",
            "EVAL: [452/453] Elapsed 0m 54s (remain 0m 0s) Loss: 0.0352 \n"
          ],
          "name": "stdout"
        },
        {
          "output_type": "stream",
          "text": [
            "Epoch 2 - avg_train_loss: 0.0337  avg_val_loss: 0.0352  time: 718s\n",
            "Epoch 2 - Score: 0.8873456790123457\n",
            "Epoch 2 - Save Best Score: 0.8873 Model\n"
          ],
          "name": "stderr"
        },
        {
          "output_type": "stream",
          "text": [
            "Epoch: [3][0/1809] Elapsed 0m 1s (remain 31m 21s) Loss: 0.0008 Grad: 0.0204 LR: 0.000302  \n",
            "Epoch: [3][100/1809] Elapsed 0m 37s (remain 10m 36s) Loss: 0.0159 Grad: 0.0606 LR: 0.000273  \n",
            "Epoch: [3][200/1809] Elapsed 1m 14s (remain 9m 54s) Loss: 0.0135 Grad: 0.0110 LR: 0.000245  \n",
            "Epoch: [3][300/1809] Elapsed 1m 50s (remain 9m 15s) Loss: 0.0144 Grad: 1.5716 LR: 0.000218  \n",
            "Epoch: [3][400/1809] Elapsed 2m 27s (remain 8m 37s) Loss: 0.0153 Grad: 0.0032 LR: 0.000192  \n",
            "Epoch: [3][500/1809] Elapsed 3m 4s (remain 8m 0s) Loss: 0.0156 Grad: 0.1465 LR: 0.000167  \n",
            "Epoch: [3][600/1809] Elapsed 3m 40s (remain 7m 23s) Loss: 0.0152 Grad: 0.0207 LR: 0.000144  \n",
            "Epoch: [3][700/1809] Elapsed 4m 17s (remain 6m 46s) Loss: 0.0157 Grad: 0.3690 LR: 0.000122  \n",
            "Epoch: [3][800/1809] Elapsed 4m 53s (remain 6m 9s) Loss: 0.0153 Grad: 0.0039 LR: 0.000102  \n",
            "Epoch: [3][900/1809] Elapsed 5m 30s (remain 5m 33s) Loss: 0.0155 Grad: 0.0025 LR: 0.000083  \n",
            "Epoch: [3][1000/1809] Elapsed 6m 7s (remain 4m 56s) Loss: 0.0157 Grad: 2.8940 LR: 0.000066  \n",
            "Epoch: [3][1100/1809] Elapsed 6m 43s (remain 4m 19s) Loss: 0.0158 Grad: 0.0104 LR: 0.000051  \n",
            "Epoch: [3][1200/1809] Elapsed 7m 20s (remain 3m 42s) Loss: 0.0156 Grad: 2.6478 LR: 0.000038  \n",
            "Epoch: [3][1300/1809] Elapsed 7m 56s (remain 3m 6s) Loss: 0.0149 Grad: 0.0008 LR: 0.000026  \n",
            "Epoch: [3][1400/1809] Elapsed 8m 33s (remain 2m 29s) Loss: 0.0148 Grad: 0.0448 LR: 0.000017  \n",
            "Epoch: [3][1500/1809] Elapsed 9m 10s (remain 1m 52s) Loss: 0.0147 Grad: 0.1923 LR: 0.000010  \n",
            "Epoch: [3][1600/1809] Elapsed 9m 46s (remain 1m 16s) Loss: 0.0156 Grad: 0.0072 LR: 0.000004  \n",
            "Epoch: [3][1700/1809] Elapsed 10m 23s (remain 0m 39s) Loss: 0.0152 Grad: 0.0043 LR: 0.000001  \n",
            "Epoch: [3][1800/1809] Elapsed 10m 59s (remain 0m 2s) Loss: 0.0153 Grad: 0.0422 LR: 0.000000  \n",
            "Epoch: [3][1808/1809] Elapsed 11m 2s (remain 0m 0s) Loss: 0.0153 Grad: 0.0128 LR: 0.000000  \n",
            "EVAL: [0/453] Elapsed 0m 0s (remain 5m 24s) Loss: 0.0001 \n",
            "EVAL: [100/453] Elapsed 0m 12s (remain 0m 44s) Loss: 0.0339 \n",
            "EVAL: [200/453] Elapsed 0m 24s (remain 0m 30s) Loss: 0.0393 \n",
            "EVAL: [300/453] Elapsed 0m 36s (remain 0m 18s) Loss: 0.0388 \n",
            "EVAL: [400/453] Elapsed 0m 48s (remain 0m 6s) Loss: 0.0365 \n",
            "EVAL: [452/453] Elapsed 0m 54s (remain 0m 0s) Loss: 0.0388 \n"
          ],
          "name": "stdout"
        },
        {
          "output_type": "stream",
          "text": [
            "Epoch 3 - avg_train_loss: 0.0153  avg_val_loss: 0.0388  time: 718s\n",
            "Epoch 3 - Score: 0.8634100808960795\n",
            "========== fold: 1 result ==========\n",
            "Score: 0.88735\n",
            "========== fold: 2 training ==========\n",
            "Some weights of the model checkpoint at dmis-lab/biobert-base-cased-v1.1-squad were not used when initializing BertModel: ['qa_outputs.weight', 'qa_outputs.bias']\n",
            "- This IS expected if you are initializing BertModel from the checkpoint of a model trained on another task or with another architecture (e.g. initializing a BertForSequenceClassification model from a BertForPreTraining model).\n",
            "- This IS NOT expected if you are initializing BertModel from the checkpoint of a model that you expect to be exactly identical (initializing a BertForSequenceClassification model from a BertForSequenceClassification model).\n"
          ],
          "name": "stderr"
        },
        {
          "output_type": "stream",
          "text": [
            "Epoch: [1][0/1809] Elapsed 0m 1s (remain 30m 44s) Loss: 0.7004 Grad: 3.2719 LR: 0.000000  \n",
            "Epoch: [1][100/1809] Elapsed 0m 37s (remain 10m 34s) Loss: 0.2606 Grad: 0.8401 LR: 0.000185  \n",
            "Epoch: [1][200/1809] Elapsed 1m 14s (remain 9m 52s) Loss: 0.1793 Grad: 0.1962 LR: 0.000369  \n",
            "Epoch: [1][300/1809] Elapsed 1m 50s (remain 9m 14s) Loss: 0.1624 Grad: 0.6565 LR: 0.000554  \n",
            "Epoch: [1][400/1809] Elapsed 2m 27s (remain 8m 37s) Loss: 0.1409 Grad: 0.0538 LR: 0.000738  \n",
            "Epoch: [1][500/1809] Elapsed 3m 3s (remain 8m 0s) Loss: 0.1285 Grad: 0.1151 LR: 0.000923  \n",
            "Epoch: [1][600/1809] Elapsed 3m 40s (remain 7m 22s) Loss: 0.1202 Grad: 0.6531 LR: 0.001000  \n",
            "Epoch: [1][700/1809] Elapsed 4m 16s (remain 6m 46s) Loss: 0.1134 Grad: 0.7503 LR: 0.000997  \n",
            "Epoch: [1][800/1809] Elapsed 4m 53s (remain 6m 9s) Loss: 0.1064 Grad: 0.1262 LR: 0.000993  \n",
            "Epoch: [1][900/1809] Elapsed 5m 30s (remain 5m 32s) Loss: 0.1015 Grad: 1.7964 LR: 0.000987  \n",
            "Epoch: [1][1000/1809] Elapsed 6m 6s (remain 4m 56s) Loss: 0.0971 Grad: 0.6376 LR: 0.000978  \n",
            "Epoch: [1][1100/1809] Elapsed 6m 43s (remain 4m 19s) Loss: 0.0943 Grad: 0.0668 LR: 0.000968  \n",
            "Epoch: [1][1200/1809] Elapsed 7m 19s (remain 3m 42s) Loss: 0.0905 Grad: 2.2638 LR: 0.000956  \n",
            "Epoch: [1][1300/1809] Elapsed 7m 56s (remain 3m 6s) Loss: 0.0866 Grad: 0.0210 LR: 0.000942  \n",
            "Epoch: [1][1400/1809] Elapsed 8m 33s (remain 2m 29s) Loss: 0.0843 Grad: 0.0204 LR: 0.000926  \n",
            "Epoch: [1][1500/1809] Elapsed 9m 9s (remain 1m 52s) Loss: 0.0823 Grad: 0.0243 LR: 0.000908  \n",
            "Epoch: [1][1600/1809] Elapsed 9m 46s (remain 1m 16s) Loss: 0.0796 Grad: 0.3532 LR: 0.000889  \n",
            "Epoch: [1][1700/1809] Elapsed 10m 22s (remain 0m 39s) Loss: 0.0781 Grad: 0.2158 LR: 0.000867  \n",
            "Epoch: [1][1800/1809] Elapsed 10m 59s (remain 0m 2s) Loss: 0.0761 Grad: 0.0176 LR: 0.000845  \n",
            "Epoch: [1][1808/1809] Elapsed 11m 2s (remain 0m 0s) Loss: 0.0760 Grad: 0.0744 LR: 0.000843  \n",
            "EVAL: [0/453] Elapsed 0m 0s (remain 5m 47s) Loss: 0.0021 \n",
            "EVAL: [100/453] Elapsed 0m 12s (remain 0m 44s) Loss: 0.0415 \n",
            "EVAL: [200/453] Elapsed 0m 24s (remain 0m 30s) Loss: 0.0381 \n",
            "EVAL: [300/453] Elapsed 0m 36s (remain 0m 18s) Loss: 0.0394 \n",
            "EVAL: [400/453] Elapsed 0m 48s (remain 0m 6s) Loss: 0.0437 \n",
            "EVAL: [452/453] Elapsed 0m 54s (remain 0m 0s) Loss: 0.0427 \n"
          ],
          "name": "stdout"
        },
        {
          "output_type": "stream",
          "text": [
            "Epoch 1 - avg_train_loss: 0.0760  avg_val_loss: 0.0427  time: 718s\n",
            "Epoch 1 - Score: 0.9090909090909092\n",
            "Epoch 1 - Save Best Score: 0.9091 Model\n"
          ],
          "name": "stderr"
        },
        {
          "output_type": "stream",
          "text": [
            "Epoch: [2][0/1809] Elapsed 0m 1s (remain 33m 38s) Loss: 0.0023 Grad: 0.0657 LR: 0.000843  \n",
            "Epoch: [2][100/1809] Elapsed 0m 37s (remain 10m 36s) Loss: 0.0410 Grad: 0.0331 LR: 0.000819  \n",
            "Epoch: [2][200/1809] Elapsed 1m 14s (remain 9m 53s) Loss: 0.0429 Grad: 0.4638 LR: 0.000794  \n",
            "Epoch: [2][300/1809] Elapsed 1m 50s (remain 9m 14s) Loss: 0.0423 Grad: 0.6667 LR: 0.000767  \n",
            "Epoch: [2][400/1809] Elapsed 2m 27s (remain 8m 37s) Loss: 0.0381 Grad: 0.0369 LR: 0.000739  \n",
            "Epoch: [2][500/1809] Elapsed 3m 3s (remain 8m 0s) Loss: 0.0369 Grad: 0.0507 LR: 0.000710  \n",
            "Epoch: [2][600/1809] Elapsed 3m 40s (remain 7m 23s) Loss: 0.0355 Grad: 0.5031 LR: 0.000681  \n",
            "Epoch: [2][700/1809] Elapsed 4m 16s (remain 6m 46s) Loss: 0.0372 Grad: 0.5620 LR: 0.000650  \n",
            "Epoch: [2][800/1809] Elapsed 4m 53s (remain 6m 9s) Loss: 0.0379 Grad: 0.0874 LR: 0.000619  \n",
            "Epoch: [2][900/1809] Elapsed 5m 30s (remain 5m 32s) Loss: 0.0366 Grad: 0.0298 LR: 0.000588  \n",
            "Epoch: [2][1000/1809] Elapsed 6m 6s (remain 4m 55s) Loss: 0.0369 Grad: 0.9963 LR: 0.000556  \n",
            "Epoch: [2][1100/1809] Elapsed 6m 43s (remain 4m 19s) Loss: 0.0372 Grad: 0.1644 LR: 0.000524  \n",
            "Epoch: [2][1200/1809] Elapsed 7m 19s (remain 3m 42s) Loss: 0.0360 Grad: 0.2545 LR: 0.000492  \n",
            "Epoch: [2][1300/1809] Elapsed 7m 56s (remain 3m 6s) Loss: 0.0351 Grad: 0.0637 LR: 0.000460  \n",
            "Epoch: [2][1400/1809] Elapsed 8m 33s (remain 2m 29s) Loss: 0.0340 Grad: 0.0604 LR: 0.000428  \n",
            "Epoch: [2][1500/1809] Elapsed 9m 9s (remain 1m 52s) Loss: 0.0332 Grad: 0.0065 LR: 0.000396  \n",
            "Epoch: [2][1600/1809] Elapsed 9m 46s (remain 1m 16s) Loss: 0.0336 Grad: 0.7808 LR: 0.000365  \n",
            "Epoch: [2][1700/1809] Elapsed 10m 22s (remain 0m 39s) Loss: 0.0335 Grad: 1.2055 LR: 0.000334  \n",
            "Epoch: [2][1800/1809] Elapsed 10m 59s (remain 0m 2s) Loss: 0.0331 Grad: 0.0071 LR: 0.000304  \n",
            "Epoch: [2][1808/1809] Elapsed 11m 2s (remain 0m 0s) Loss: 0.0329 Grad: 0.0026 LR: 0.000302  \n",
            "EVAL: [0/453] Elapsed 0m 0s (remain 5m 39s) Loss: 0.0009 \n",
            "EVAL: [100/453] Elapsed 0m 12s (remain 0m 44s) Loss: 0.0298 \n",
            "EVAL: [200/453] Elapsed 0m 24s (remain 0m 30s) Loss: 0.0280 \n",
            "EVAL: [300/453] Elapsed 0m 36s (remain 0m 18s) Loss: 0.0297 \n",
            "EVAL: [400/453] Elapsed 0m 48s (remain 0m 6s) Loss: 0.0355 \n",
            "EVAL: [452/453] Elapsed 0m 54s (remain 0m 0s) Loss: 0.0342 \n"
          ],
          "name": "stdout"
        },
        {
          "output_type": "stream",
          "text": [
            "Epoch 2 - avg_train_loss: 0.0329  avg_val_loss: 0.0342  time: 718s\n",
            "Epoch 2 - Score: 0.9290540540540542\n",
            "Epoch 2 - Save Best Score: 0.9291 Model\n"
          ],
          "name": "stderr"
        },
        {
          "output_type": "stream",
          "text": [
            "Epoch: [3][0/1809] Elapsed 0m 1s (remain 31m 36s) Loss: 0.0002 Grad: 0.0021 LR: 0.000302  \n",
            "Epoch: [3][100/1809] Elapsed 0m 37s (remain 10m 35s) Loss: 0.0121 Grad: 0.0651 LR: 0.000273  \n",
            "Epoch: [3][200/1809] Elapsed 1m 14s (remain 9m 53s) Loss: 0.0113 Grad: 0.0088 LR: 0.000245  \n",
            "Epoch: [3][300/1809] Elapsed 1m 50s (remain 9m 14s) Loss: 0.0119 Grad: 1.1448 LR: 0.000218  \n",
            "Epoch: [3][400/1809] Elapsed 2m 27s (remain 8m 37s) Loss: 0.0117 Grad: 0.0017 LR: 0.000192  \n",
            "Epoch: [3][500/1809] Elapsed 3m 3s (remain 8m 0s) Loss: 0.0131 Grad: 0.0050 LR: 0.000167  \n",
            "Epoch: [3][600/1809] Elapsed 3m 40s (remain 7m 23s) Loss: 0.0133 Grad: 0.0266 LR: 0.000144  \n",
            "Epoch: [3][700/1809] Elapsed 4m 17s (remain 6m 46s) Loss: 0.0135 Grad: 0.0069 LR: 0.000122  \n",
            "Epoch: [3][800/1809] Elapsed 4m 53s (remain 6m 9s) Loss: 0.0140 Grad: 0.0078 LR: 0.000102  \n",
            "Epoch: [3][900/1809] Elapsed 5m 30s (remain 5m 32s) Loss: 0.0140 Grad: 0.6760 LR: 0.000083  \n",
            "Epoch: [3][1000/1809] Elapsed 6m 6s (remain 4m 56s) Loss: 0.0148 Grad: 0.0013 LR: 0.000066  \n",
            "Epoch: [3][1100/1809] Elapsed 6m 43s (remain 4m 19s) Loss: 0.0148 Grad: 0.3107 LR: 0.000051  \n",
            "Epoch: [3][1200/1809] Elapsed 7m 19s (remain 3m 42s) Loss: 0.0145 Grad: 0.0144 LR: 0.000038  \n",
            "Epoch: [3][1300/1809] Elapsed 7m 56s (remain 3m 6s) Loss: 0.0137 Grad: 0.0167 LR: 0.000026  \n",
            "Epoch: [3][1400/1809] Elapsed 8m 33s (remain 2m 29s) Loss: 0.0138 Grad: 0.0009 LR: 0.000017  \n",
            "Epoch: [3][1500/1809] Elapsed 9m 9s (remain 1m 52s) Loss: 0.0136 Grad: 0.0248 LR: 0.000010  \n",
            "Epoch: [3][1600/1809] Elapsed 9m 46s (remain 1m 16s) Loss: 0.0136 Grad: 3.1363 LR: 0.000004  \n",
            "Epoch: [3][1700/1809] Elapsed 10m 22s (remain 0m 39s) Loss: 0.0136 Grad: 0.0223 LR: 0.000001  \n",
            "Epoch: [3][1800/1809] Elapsed 10m 59s (remain 0m 2s) Loss: 0.0134 Grad: 0.0103 LR: 0.000000  \n",
            "Epoch: [3][1808/1809] Elapsed 11m 2s (remain 0m 0s) Loss: 0.0139 Grad: 0.0074 LR: 0.000000  \n",
            "EVAL: [0/453] Elapsed 0m 0s (remain 5m 17s) Loss: 0.0002 \n",
            "EVAL: [100/453] Elapsed 0m 12s (remain 0m 44s) Loss: 0.0360 \n",
            "EVAL: [200/453] Elapsed 0m 24s (remain 0m 30s) Loss: 0.0304 \n",
            "EVAL: [300/453] Elapsed 0m 36s (remain 0m 18s) Loss: 0.0313 \n",
            "EVAL: [400/453] Elapsed 0m 48s (remain 0m 6s) Loss: 0.0380 \n",
            "EVAL: [452/453] Elapsed 0m 54s (remain 0m 0s) Loss: 0.0366 \n"
          ],
          "name": "stdout"
        },
        {
          "output_type": "stream",
          "text": [
            "Epoch 3 - avg_train_loss: 0.0139  avg_val_loss: 0.0366  time: 717s\n",
            "Epoch 3 - Score: 0.9105058365758755\n",
            "========== fold: 2 result ==========\n",
            "Score: 0.92905\n",
            "========== fold: 3 training ==========\n",
            "Some weights of the model checkpoint at dmis-lab/biobert-base-cased-v1.1-squad were not used when initializing BertModel: ['qa_outputs.weight', 'qa_outputs.bias']\n",
            "- This IS expected if you are initializing BertModel from the checkpoint of a model trained on another task or with another architecture (e.g. initializing a BertForSequenceClassification model from a BertForPreTraining model).\n",
            "- This IS NOT expected if you are initializing BertModel from the checkpoint of a model that you expect to be exactly identical (initializing a BertForSequenceClassification model from a BertForSequenceClassification model).\n"
          ],
          "name": "stderr"
        },
        {
          "output_type": "stream",
          "text": [
            "Epoch: [1][0/1809] Elapsed 0m 1s (remain 30m 26s) Loss: 0.4627 Grad: 3.6732 LR: 0.000000  \n",
            "Epoch: [1][100/1809] Elapsed 0m 37s (remain 10m 34s) Loss: 0.1952 Grad: 0.9052 LR: 0.000185  \n",
            "Epoch: [1][200/1809] Elapsed 1m 14s (remain 9m 52s) Loss: 0.1502 Grad: 0.1502 LR: 0.000369  \n",
            "Epoch: [1][300/1809] Elapsed 1m 50s (remain 9m 14s) Loss: 0.1355 Grad: 0.1088 LR: 0.000554  \n",
            "Epoch: [1][400/1809] Elapsed 2m 27s (remain 8m 36s) Loss: 0.1295 Grad: 1.0069 LR: 0.000738  \n",
            "Epoch: [1][500/1809] Elapsed 3m 3s (remain 7m 59s) Loss: 0.1187 Grad: 0.0680 LR: 0.000923  \n",
            "Epoch: [1][600/1809] Elapsed 3m 40s (remain 7m 22s) Loss: 0.1123 Grad: 0.0601 LR: 0.001000  \n",
            "Epoch: [1][700/1809] Elapsed 4m 16s (remain 6m 45s) Loss: 0.1055 Grad: 0.1576 LR: 0.000997  \n",
            "Epoch: [1][800/1809] Elapsed 4m 53s (remain 6m 9s) Loss: 0.1027 Grad: 0.0123 LR: 0.000993  \n",
            "Epoch: [1][900/1809] Elapsed 5m 29s (remain 5m 32s) Loss: 0.0977 Grad: 0.1551 LR: 0.000987  \n",
            "Epoch: [1][1000/1809] Elapsed 6m 6s (remain 4m 55s) Loss: 0.0943 Grad: 0.4931 LR: 0.000978  \n",
            "Epoch: [1][1100/1809] Elapsed 6m 43s (remain 4m 19s) Loss: 0.0915 Grad: 0.0858 LR: 0.000968  \n",
            "Epoch: [1][1200/1809] Elapsed 7m 19s (remain 3m 42s) Loss: 0.0903 Grad: 0.0491 LR: 0.000956  \n",
            "Epoch: [1][1300/1809] Elapsed 7m 56s (remain 3m 5s) Loss: 0.0872 Grad: 0.9793 LR: 0.000942  \n",
            "Epoch: [1][1400/1809] Elapsed 8m 32s (remain 2m 29s) Loss: 0.0849 Grad: 0.3411 LR: 0.000926  \n",
            "Epoch: [1][1500/1809] Elapsed 9m 9s (remain 1m 52s) Loss: 0.0828 Grad: 5.4892 LR: 0.000908  \n",
            "Epoch: [1][1600/1809] Elapsed 9m 45s (remain 1m 16s) Loss: 0.0833 Grad: 0.0278 LR: 0.000889  \n",
            "Epoch: [1][1700/1809] Elapsed 10m 22s (remain 0m 39s) Loss: 0.0807 Grad: 0.0176 LR: 0.000867  \n",
            "Epoch: [1][1800/1809] Elapsed 10m 58s (remain 0m 2s) Loss: 0.0786 Grad: 0.2344 LR: 0.000845  \n",
            "Epoch: [1][1808/1809] Elapsed 11m 1s (remain 0m 0s) Loss: 0.0786 Grad: 0.0042 LR: 0.000843  \n",
            "EVAL: [0/453] Elapsed 0m 0s (remain 5m 22s) Loss: 0.0065 \n",
            "EVAL: [100/453] Elapsed 0m 12s (remain 0m 44s) Loss: 0.0412 \n",
            "EVAL: [200/453] Elapsed 0m 24s (remain 0m 30s) Loss: 0.0410 \n",
            "EVAL: [300/453] Elapsed 0m 36s (remain 0m 18s) Loss: 0.0397 \n",
            "EVAL: [400/453] Elapsed 0m 48s (remain 0m 6s) Loss: 0.0447 \n",
            "EVAL: [452/453] Elapsed 0m 54s (remain 0m 0s) Loss: 0.0456 \n"
          ],
          "name": "stdout"
        },
        {
          "output_type": "stream",
          "text": [
            "Epoch 1 - avg_train_loss: 0.0786  avg_val_loss: 0.0456  time: 717s\n",
            "Epoch 1 - Score: 0.8840115836000609\n",
            "Epoch 1 - Save Best Score: 0.8840 Model\n"
          ],
          "name": "stderr"
        },
        {
          "output_type": "stream",
          "text": [
            "Epoch: [2][0/1809] Elapsed 0m 1s (remain 31m 55s) Loss: 0.0006 Grad: 0.0082 LR: 0.000843  \n",
            "Epoch: [2][100/1809] Elapsed 0m 37s (remain 10m 36s) Loss: 0.0338 Grad: 0.0103 LR: 0.000819  \n",
            "Epoch: [2][200/1809] Elapsed 1m 14s (remain 9m 52s) Loss: 0.0375 Grad: 0.0101 LR: 0.000794  \n",
            "Epoch: [2][300/1809] Elapsed 1m 50s (remain 9m 14s) Loss: 0.0337 Grad: 0.0046 LR: 0.000767  \n",
            "Epoch: [2][400/1809] Elapsed 2m 27s (remain 8m 36s) Loss: 0.0318 Grad: 0.0445 LR: 0.000739  \n",
            "Epoch: [2][500/1809] Elapsed 3m 3s (remain 7m 59s) Loss: 0.0322 Grad: 0.0032 LR: 0.000710  \n",
            "Epoch: [2][600/1809] Elapsed 3m 40s (remain 7m 22s) Loss: 0.0346 Grad: 1.8065 LR: 0.000681  \n",
            "Epoch: [2][700/1809] Elapsed 4m 16s (remain 6m 45s) Loss: 0.0354 Grad: 0.4543 LR: 0.000650  \n",
            "Epoch: [2][800/1809] Elapsed 4m 53s (remain 6m 9s) Loss: 0.0345 Grad: 2.9728 LR: 0.000619  \n",
            "Epoch: [2][900/1809] Elapsed 5m 29s (remain 5m 32s) Loss: 0.0338 Grad: 0.0265 LR: 0.000588  \n",
            "Epoch: [2][1000/1809] Elapsed 6m 6s (remain 4m 55s) Loss: 0.0337 Grad: 0.4533 LR: 0.000556  \n",
            "Epoch: [2][1100/1809] Elapsed 6m 43s (remain 4m 19s) Loss: 0.0343 Grad: 0.2909 LR: 0.000524  \n",
            "Epoch: [2][1200/1809] Elapsed 7m 19s (remain 3m 42s) Loss: 0.0340 Grad: 0.0124 LR: 0.000492  \n",
            "Epoch: [2][1300/1809] Elapsed 7m 56s (remain 3m 5s) Loss: 0.0341 Grad: 0.0074 LR: 0.000460  \n",
            "Epoch: [2][1400/1809] Elapsed 8m 32s (remain 2m 29s) Loss: 0.0345 Grad: 0.0388 LR: 0.000428  \n",
            "Epoch: [2][1500/1809] Elapsed 9m 9s (remain 1m 52s) Loss: 0.0350 Grad: 0.1301 LR: 0.000396  \n",
            "Epoch: [2][1600/1809] Elapsed 9m 45s (remain 1m 16s) Loss: 0.0349 Grad: 1.4692 LR: 0.000365  \n",
            "Epoch: [2][1700/1809] Elapsed 10m 22s (remain 0m 39s) Loss: 0.0346 Grad: 0.0019 LR: 0.000334  \n",
            "Epoch: [2][1800/1809] Elapsed 10m 58s (remain 0m 2s) Loss: 0.0347 Grad: 0.3618 LR: 0.000304  \n",
            "Epoch: [2][1808/1809] Elapsed 11m 1s (remain 0m 0s) Loss: 0.0348 Grad: 0.0201 LR: 0.000302  \n",
            "EVAL: [0/453] Elapsed 0m 0s (remain 5m 21s) Loss: 0.0006 \n",
            "EVAL: [100/453] Elapsed 0m 12s (remain 0m 44s) Loss: 0.0408 \n",
            "EVAL: [200/453] Elapsed 0m 24s (remain 0m 30s) Loss: 0.0388 \n",
            "EVAL: [300/453] Elapsed 0m 36s (remain 0m 18s) Loss: 0.0383 \n",
            "EVAL: [400/453] Elapsed 0m 48s (remain 0m 6s) Loss: 0.0419 \n",
            "EVAL: [452/453] Elapsed 0m 54s (remain 0m 0s) Loss: 0.0425 \n"
          ],
          "name": "stdout"
        },
        {
          "output_type": "stream",
          "text": [
            "Epoch 2 - avg_train_loss: 0.0348  avg_val_loss: 0.0425  time: 717s\n",
            "Epoch 2 - Score: 0.9047405413488858\n",
            "Epoch 2 - Save Best Score: 0.9047 Model\n"
          ],
          "name": "stderr"
        },
        {
          "output_type": "stream",
          "text": [
            "Epoch: [3][0/1809] Elapsed 0m 1s (remain 31m 11s) Loss: 0.0272 Grad: 0.5433 LR: 0.000302  \n",
            "Epoch: [3][100/1809] Elapsed 0m 37s (remain 10m 35s) Loss: 0.0185 Grad: 0.0386 LR: 0.000273  \n",
            "Epoch: [3][200/1809] Elapsed 1m 14s (remain 9m 52s) Loss: 0.0199 Grad: 0.0015 LR: 0.000245  \n",
            "Epoch: [3][300/1809] Elapsed 1m 50s (remain 9m 14s) Loss: 0.0205 Grad: 2.8206 LR: 0.000218  \n",
            "Epoch: [3][400/1809] Elapsed 2m 27s (remain 8m 36s) Loss: 0.0192 Grad: 0.7539 LR: 0.000192  \n",
            "Epoch: [3][500/1809] Elapsed 3m 3s (remain 7m 59s) Loss: 0.0190 Grad: 0.0008 LR: 0.000167  \n",
            "Epoch: [3][600/1809] Elapsed 3m 40s (remain 7m 22s) Loss: 0.0183 Grad: 0.0372 LR: 0.000144  \n",
            "Epoch: [3][700/1809] Elapsed 4m 16s (remain 6m 46s) Loss: 0.0190 Grad: 0.0710 LR: 0.000122  \n",
            "Epoch: [3][800/1809] Elapsed 4m 53s (remain 6m 9s) Loss: 0.0186 Grad: 0.5238 LR: 0.000102  \n",
            "Epoch: [3][900/1809] Elapsed 5m 30s (remain 5m 32s) Loss: 0.0175 Grad: 0.0007 LR: 0.000083  \n",
            "Epoch: [3][1000/1809] Elapsed 6m 6s (remain 4m 55s) Loss: 0.0172 Grad: 0.0007 LR: 0.000066  \n",
            "Epoch: [3][1100/1809] Elapsed 6m 43s (remain 4m 19s) Loss: 0.0174 Grad: 0.2764 LR: 0.000051  \n",
            "Epoch: [3][1200/1809] Elapsed 7m 19s (remain 3m 42s) Loss: 0.0179 Grad: 0.1460 LR: 0.000038  \n",
            "Epoch: [3][1300/1809] Elapsed 7m 56s (remain 3m 5s) Loss: 0.0183 Grad: 0.2593 LR: 0.000026  \n",
            "Epoch: [3][1400/1809] Elapsed 8m 32s (remain 2m 29s) Loss: 0.0185 Grad: 0.0154 LR: 0.000017  \n",
            "Epoch: [3][1500/1809] Elapsed 9m 9s (remain 1m 52s) Loss: 0.0188 Grad: 0.1152 LR: 0.000010  \n",
            "Epoch: [3][1600/1809] Elapsed 9m 45s (remain 1m 16s) Loss: 0.0185 Grad: 0.1526 LR: 0.000004  \n",
            "Epoch: [3][1700/1809] Elapsed 10m 22s (remain 0m 39s) Loss: 0.0185 Grad: 0.0008 LR: 0.000001  \n",
            "Epoch: [3][1800/1809] Elapsed 10m 59s (remain 0m 2s) Loss: 0.0183 Grad: 0.3499 LR: 0.000000  \n",
            "Epoch: [3][1808/1809] Elapsed 11m 2s (remain 0m 0s) Loss: 0.0183 Grad: 0.5692 LR: 0.000000  \n",
            "EVAL: [0/453] Elapsed 0m 0s (remain 5m 29s) Loss: 0.0001 \n",
            "EVAL: [100/453] Elapsed 0m 12s (remain 0m 44s) Loss: 0.0353 \n",
            "EVAL: [200/453] Elapsed 0m 24s (remain 0m 30s) Loss: 0.0386 \n",
            "EVAL: [300/453] Elapsed 0m 36s (remain 0m 18s) Loss: 0.0392 \n",
            "EVAL: [400/453] Elapsed 0m 48s (remain 0m 6s) Loss: 0.0449 \n",
            "EVAL: [452/453] Elapsed 0m 54s (remain 0m 0s) Loss: 0.0459 \n"
          ],
          "name": "stdout"
        },
        {
          "output_type": "stream",
          "text": [
            "Epoch 3 - avg_train_loss: 0.0183  avg_val_loss: 0.0459  time: 717s\n",
            "Epoch 3 - Score: 0.852052672347018\n",
            "========== fold: 3 result ==========\n",
            "Score: 0.90474\n",
            "========== fold: 4 training ==========\n",
            "Some weights of the model checkpoint at dmis-lab/biobert-base-cased-v1.1-squad were not used when initializing BertModel: ['qa_outputs.weight', 'qa_outputs.bias']\n",
            "- This IS expected if you are initializing BertModel from the checkpoint of a model trained on another task or with another architecture (e.g. initializing a BertForSequenceClassification model from a BertForPreTraining model).\n",
            "- This IS NOT expected if you are initializing BertModel from the checkpoint of a model that you expect to be exactly identical (initializing a BertForSequenceClassification model from a BertForSequenceClassification model).\n"
          ],
          "name": "stderr"
        },
        {
          "output_type": "stream",
          "text": [
            "Epoch: [1][0/1809] Elapsed 0m 0s (remain 29m 38s) Loss: 0.7772 Grad: 5.2457 LR: 0.000000  \n",
            "Epoch: [1][100/1809] Elapsed 0m 37s (remain 10m 33s) Loss: 0.2785 Grad: 0.0915 LR: 0.000185  \n",
            "Epoch: [1][200/1809] Elapsed 1m 14s (remain 9m 52s) Loss: 0.1946 Grad: 0.7696 LR: 0.000369  \n",
            "Epoch: [1][300/1809] Elapsed 1m 50s (remain 9m 13s) Loss: 0.1696 Grad: 0.8224 LR: 0.000554  \n",
            "Epoch: [1][400/1809] Elapsed 2m 27s (remain 8m 36s) Loss: 0.1606 Grad: 0.3395 LR: 0.000738  \n",
            "Epoch: [1][500/1809] Elapsed 3m 3s (remain 7m 59s) Loss: 0.1496 Grad: 0.2190 LR: 0.000923  \n",
            "Epoch: [1][600/1809] Elapsed 3m 40s (remain 7m 22s) Loss: 0.1376 Grad: 1.2606 LR: 0.001000  \n",
            "Epoch: [1][700/1809] Elapsed 4m 16s (remain 6m 46s) Loss: 0.1298 Grad: 0.8783 LR: 0.000997  \n",
            "Epoch: [1][800/1809] Elapsed 4m 53s (remain 6m 9s) Loss: 0.1207 Grad: 0.1334 LR: 0.000993  \n",
            "Epoch: [1][900/1809] Elapsed 5m 30s (remain 5m 32s) Loss: 0.1117 Grad: 0.3164 LR: 0.000987  \n",
            "Epoch: [1][1000/1809] Elapsed 6m 6s (remain 4m 55s) Loss: 0.1050 Grad: 1.5060 LR: 0.000978  \n",
            "Epoch: [1][1100/1809] Elapsed 6m 43s (remain 4m 19s) Loss: 0.1014 Grad: 0.0176 LR: 0.000968  \n",
            "Epoch: [1][1200/1809] Elapsed 7m 19s (remain 3m 42s) Loss: 0.0981 Grad: 0.6208 LR: 0.000956  \n",
            "Epoch: [1][1300/1809] Elapsed 7m 56s (remain 3m 5s) Loss: 0.0960 Grad: 0.1218 LR: 0.000942  \n",
            "Epoch: [1][1400/1809] Elapsed 8m 32s (remain 2m 29s) Loss: 0.0947 Grad: 0.2205 LR: 0.000926  \n",
            "Epoch: [1][1500/1809] Elapsed 9m 9s (remain 1m 52s) Loss: 0.0909 Grad: 0.0155 LR: 0.000908  \n",
            "Epoch: [1][1600/1809] Elapsed 9m 45s (remain 1m 16s) Loss: 0.0886 Grad: 0.1947 LR: 0.000889  \n",
            "Epoch: [1][1700/1809] Elapsed 10m 22s (remain 0m 39s) Loss: 0.0871 Grad: 0.1880 LR: 0.000867  \n",
            "Epoch: [1][1800/1809] Elapsed 10m 59s (remain 0m 2s) Loss: 0.0859 Grad: 0.1667 LR: 0.000845  \n",
            "Epoch: [1][1808/1809] Elapsed 11m 1s (remain 0m 0s) Loss: 0.0858 Grad: 0.0414 LR: 0.000843  \n",
            "EVAL: [0/453] Elapsed 0m 0s (remain 5m 48s) Loss: 0.2413 \n",
            "EVAL: [100/453] Elapsed 0m 12s (remain 0m 44s) Loss: 0.0455 \n",
            "EVAL: [200/453] Elapsed 0m 24s (remain 0m 30s) Loss: 0.0473 \n",
            "EVAL: [300/453] Elapsed 0m 36s (remain 0m 18s) Loss: 0.0566 \n",
            "EVAL: [400/453] Elapsed 0m 48s (remain 0m 6s) Loss: 0.0548 \n",
            "EVAL: [452/453] Elapsed 0m 54s (remain 0m 0s) Loss: 0.0545 \n"
          ],
          "name": "stdout"
        },
        {
          "output_type": "stream",
          "text": [
            "Epoch 1 - avg_train_loss: 0.0858  avg_val_loss: 0.0545  time: 717s\n",
            "Epoch 1 - Score: 0.82249140122626\n",
            "Epoch 1 - Save Best Score: 0.8225 Model\n"
          ],
          "name": "stderr"
        },
        {
          "output_type": "stream",
          "text": [
            "Epoch: [2][0/1809] Elapsed 0m 1s (remain 33m 6s) Loss: 0.0054 Grad: 0.0556 LR: 0.000843  \n",
            "Epoch: [2][100/1809] Elapsed 0m 37s (remain 10m 37s) Loss: 0.0513 Grad: 0.9532 LR: 0.000819  \n",
            "Epoch: [2][200/1809] Elapsed 1m 14s (remain 9m 53s) Loss: 0.0455 Grad: 0.2018 LR: 0.000794  \n",
            "Epoch: [2][300/1809] Elapsed 1m 50s (remain 9m 15s) Loss: 0.0445 Grad: 0.0455 LR: 0.000767  \n",
            "Epoch: [2][400/1809] Elapsed 2m 27s (remain 8m 37s) Loss: 0.0438 Grad: 1.4746 LR: 0.000739  \n",
            "Epoch: [2][500/1809] Elapsed 3m 3s (remain 8m 0s) Loss: 0.0401 Grad: 0.0640 LR: 0.000710  \n",
            "Epoch: [2][600/1809] Elapsed 3m 40s (remain 7m 23s) Loss: 0.0384 Grad: 0.0258 LR: 0.000681  \n",
            "Epoch: [2][700/1809] Elapsed 4m 17s (remain 6m 46s) Loss: 0.0375 Grad: 0.1717 LR: 0.000650  \n",
            "Epoch: [2][800/1809] Elapsed 4m 53s (remain 6m 9s) Loss: 0.0376 Grad: 3.7147 LR: 0.000619  \n",
            "Epoch: [2][900/1809] Elapsed 5m 30s (remain 5m 32s) Loss: 0.0383 Grad: 1.0721 LR: 0.000588  \n",
            "Epoch: [2][1000/1809] Elapsed 6m 6s (remain 4m 56s) Loss: 0.0375 Grad: 1.2797 LR: 0.000556  \n",
            "Epoch: [2][1100/1809] Elapsed 6m 43s (remain 4m 19s) Loss: 0.0382 Grad: 0.1032 LR: 0.000524  \n",
            "Epoch: [2][1200/1809] Elapsed 7m 20s (remain 3m 42s) Loss: 0.0378 Grad: 1.6479 LR: 0.000492  \n",
            "Epoch: [2][1300/1809] Elapsed 7m 56s (remain 3m 6s) Loss: 0.0379 Grad: 0.3705 LR: 0.000460  \n",
            "Epoch: [2][1400/1809] Elapsed 8m 33s (remain 2m 29s) Loss: 0.0379 Grad: 0.0398 LR: 0.000428  \n",
            "Epoch: [2][1500/1809] Elapsed 9m 9s (remain 1m 52s) Loss: 0.0368 Grad: 0.0042 LR: 0.000396  \n",
            "Epoch: [2][1600/1809] Elapsed 9m 46s (remain 1m 16s) Loss: 0.0359 Grad: 0.1807 LR: 0.000365  \n",
            "Epoch: [2][1700/1809] Elapsed 10m 23s (remain 0m 39s) Loss: 0.0356 Grad: 0.0248 LR: 0.000334  \n",
            "Epoch: [2][1800/1809] Elapsed 10m 59s (remain 0m 2s) Loss: 0.0349 Grad: 0.0104 LR: 0.000304  \n",
            "Epoch: [2][1808/1809] Elapsed 11m 2s (remain 0m 0s) Loss: 0.0348 Grad: 0.0040 LR: 0.000302  \n",
            "EVAL: [0/453] Elapsed 0m 0s (remain 5m 32s) Loss: 0.0334 \n",
            "EVAL: [100/453] Elapsed 0m 12s (remain 0m 44s) Loss: 0.0439 \n",
            "EVAL: [200/453] Elapsed 0m 24s (remain 0m 30s) Loss: 0.0425 \n",
            "EVAL: [300/453] Elapsed 0m 36s (remain 0m 18s) Loss: 0.0463 \n",
            "EVAL: [400/453] Elapsed 0m 48s (remain 0m 6s) Loss: 0.0443 \n",
            "EVAL: [452/453] Elapsed 0m 54s (remain 0m 0s) Loss: 0.0434 \n"
          ],
          "name": "stdout"
        },
        {
          "output_type": "stream",
          "text": [
            "Epoch 2 - avg_train_loss: 0.0348  avg_val_loss: 0.0434  time: 718s\n",
            "Epoch 2 - Score: 0.8632543926661572\n",
            "Epoch 2 - Save Best Score: 0.8633 Model\n"
          ],
          "name": "stderr"
        },
        {
          "output_type": "stream",
          "text": [
            "Epoch: [3][0/1809] Elapsed 0m 1s (remain 31m 44s) Loss: 0.0016 Grad: 0.0399 LR: 0.000302  \n",
            "Epoch: [3][100/1809] Elapsed 0m 37s (remain 10m 36s) Loss: 0.0241 Grad: 0.0431 LR: 0.000273  \n",
            "Epoch: [3][200/1809] Elapsed 1m 14s (remain 9m 53s) Loss: 0.0224 Grad: 0.0384 LR: 0.000245  \n",
            "Epoch: [3][300/1809] Elapsed 1m 50s (remain 9m 14s) Loss: 0.0207 Grad: 0.3564 LR: 0.000218  \n",
            "Epoch: [3][400/1809] Elapsed 2m 27s (remain 8m 37s) Loss: 0.0190 Grad: 0.0018 LR: 0.000192  \n",
            "Epoch: [3][500/1809] Elapsed 3m 3s (remain 8m 0s) Loss: 0.0187 Grad: 0.0023 LR: 0.000167  \n",
            "Epoch: [3][600/1809] Elapsed 3m 40s (remain 7m 23s) Loss: 0.0177 Grad: 0.0931 LR: 0.000144  \n",
            "Epoch: [3][700/1809] Elapsed 4m 17s (remain 6m 46s) Loss: 0.0166 Grad: 0.0013 LR: 0.000122  \n",
            "Epoch: [3][800/1809] Elapsed 4m 53s (remain 6m 9s) Loss: 0.0155 Grad: 0.0010 LR: 0.000102  \n",
            "Epoch: [3][900/1809] Elapsed 5m 30s (remain 5m 32s) Loss: 0.0155 Grad: 0.0167 LR: 0.000083  \n",
            "Epoch: [3][1000/1809] Elapsed 6m 6s (remain 4m 55s) Loss: 0.0150 Grad: 0.0764 LR: 0.000066  \n",
            "Epoch: [3][1100/1809] Elapsed 6m 43s (remain 4m 19s) Loss: 0.0148 Grad: 0.0029 LR: 0.000051  \n",
            "Epoch: [3][1200/1809] Elapsed 7m 19s (remain 3m 42s) Loss: 0.0147 Grad: 0.0165 LR: 0.000038  \n",
            "Epoch: [3][1300/1809] Elapsed 7m 56s (remain 3m 6s) Loss: 0.0152 Grad: 0.0049 LR: 0.000026  \n",
            "Epoch: [3][1400/1809] Elapsed 8m 32s (remain 2m 29s) Loss: 0.0149 Grad: 0.3353 LR: 0.000017  \n",
            "Epoch: [3][1500/1809] Elapsed 9m 9s (remain 1m 52s) Loss: 0.0148 Grad: 0.0282 LR: 0.000010  \n",
            "Epoch: [3][1600/1809] Elapsed 9m 46s (remain 1m 16s) Loss: 0.0146 Grad: 0.1702 LR: 0.000004  \n",
            "Epoch: [3][1700/1809] Elapsed 10m 22s (remain 0m 39s) Loss: 0.0143 Grad: 0.0012 LR: 0.000001  \n",
            "Epoch: [3][1800/1809] Elapsed 10m 59s (remain 0m 2s) Loss: 0.0143 Grad: 0.0020 LR: 0.000000  \n",
            "Epoch: [3][1808/1809] Elapsed 11m 2s (remain 0m 0s) Loss: 0.0144 Grad: 2.6340 LR: 0.000000  \n",
            "EVAL: [0/453] Elapsed 0m 0s (remain 5m 30s) Loss: 0.0189 \n",
            "EVAL: [100/453] Elapsed 0m 12s (remain 0m 44s) Loss: 0.0514 \n",
            "EVAL: [200/453] Elapsed 0m 24s (remain 0m 30s) Loss: 0.0502 \n",
            "EVAL: [300/453] Elapsed 0m 36s (remain 0m 18s) Loss: 0.0558 \n",
            "EVAL: [400/453] Elapsed 0m 48s (remain 0m 6s) Loss: 0.0531 \n",
            "EVAL: [452/453] Elapsed 0m 54s (remain 0m 0s) Loss: 0.0511 \n"
          ],
          "name": "stdout"
        },
        {
          "output_type": "stream",
          "text": [
            "Epoch 3 - avg_train_loss: 0.0144  avg_val_loss: 0.0511  time: 717s\n",
            "Epoch 3 - Score: 0.8134490238611713\n",
            "========== fold: 4 result ==========\n",
            "Score: 0.86325\n",
            "========== CV ==========\n",
            "Score: 0.89377\n"
          ],
          "name": "stderr"
        }
      ]
    },
    {
      "cell_type": "code",
      "metadata": {
        "id": "CPHezhr_NHYR",
        "colab": {
          "base_uri": "https://localhost:8080/",
          "height": 1000,
          "referenced_widgets": [
            "7d33dfc73f6c4733be732faff6e01a5f",
            "9a9a0f5394844457ba1f079f9c85c520",
            "2e0ecda9236c4952aa2bfba6042d0f5f",
            "4e25535ab95545899cf670bdd6b19ed1",
            "ba52b4f8f49b4b5b98db59913c4a4e30",
            "1a43021596c44736937410edf7bc7018",
            "10f83e4e6f094a14b62e50832a7bdad5",
            "2b3196e8512b4e4faa2a6f99cb90140a"
          ]
        },
        "outputId": "d73ca9a2-38ba-487c-a0fe-ae0872710966"
      },
      "source": [
        "wandb.finish()"
      ],
      "execution_count": 65,
      "outputs": [
        {
          "output_type": "display_data",
          "data": {
            "text/html": [
              "<br/>Waiting for W&B process to finish, PID 6559<br/>Program ended successfully."
            ],
            "text/plain": [
              "<IPython.core.display.HTML object>"
            ]
          },
          "metadata": {
            "tags": []
          }
        },
        {
          "output_type": "display_data",
          "data": {
            "application/vnd.jupyter.widget-view+json": {
              "model_id": "7d33dfc73f6c4733be732faff6e01a5f",
              "version_minor": 0,
              "version_major": 2
            },
            "text/plain": [
              "VBox(children=(Label(value=' 2186.37MB of 2186.37MB uploaded (0.23MB deduped)\\r'), FloatProgress(value=1.0, ma…"
            ]
          },
          "metadata": {
            "tags": []
          }
        },
        {
          "output_type": "display_data",
          "data": {
            "text/html": [
              "Find user logs for this run at: <code>/content/wandb/run-20210807_041631-mxe0tzxa/logs/debug.log</code>"
            ],
            "text/plain": [
              "<IPython.core.display.HTML object>"
            ]
          },
          "metadata": {
            "tags": []
          }
        },
        {
          "output_type": "display_data",
          "data": {
            "text/html": [
              "Find internal logs for this run at: <code>/content/wandb/run-20210807_041631-mxe0tzxa/logs/debug-internal.log</code>"
            ],
            "text/plain": [
              "<IPython.core.display.HTML object>"
            ]
          },
          "metadata": {
            "tags": []
          }
        },
        {
          "output_type": "display_data",
          "data": {
            "text/html": [
              "<h3>Run summary:</h3><br/><style>\n",
              "    table.wandb td:nth-child(1) { padding: 0 10px; text-align: right }\n",
              "    </style><table class=\"wandb\">\n",
              "<tr><td>epoch</td><td>3</td></tr><tr><td>loss/train_fold0</td><td>0.01408</td></tr><tr><td>loss/val_fold0</td><td>0.04504</td></tr><tr><td>score/fold0</td><td>0.83777</td></tr><tr><td>_runtime</td><td>11014</td></tr><tr><td>_timestamp</td><td>1628320805</td></tr><tr><td>_step</td><td>14</td></tr><tr><td>CV_fold0</td><td>0.88496</td></tr><tr><td>loss/train_fold1</td><td>0.01528</td></tr><tr><td>loss/val_fold1</td><td>0.03879</td></tr><tr><td>score/fold1</td><td>0.86341</td></tr><tr><td>CV_fold1</td><td>0.88735</td></tr><tr><td>loss/train_fold2</td><td>0.01387</td></tr><tr><td>loss/val_fold2</td><td>0.03662</td></tr><tr><td>score/fold2</td><td>0.91051</td></tr><tr><td>CV_fold2</td><td>0.92905</td></tr><tr><td>loss/train_fold3</td><td>0.01826</td></tr><tr><td>loss/val_fold3</td><td>0.04587</td></tr><tr><td>score/fold3</td><td>0.85205</td></tr><tr><td>CV_fold3</td><td>0.90474</td></tr><tr><td>loss/train_fold4</td><td>0.01442</td></tr><tr><td>loss/val_fold4</td><td>0.05108</td></tr><tr><td>score/fold4</td><td>0.81345</td></tr><tr><td>CV_fold4</td><td>0.86325</td></tr><tr><td>CV</td><td>0.89377</td></tr></table>"
            ],
            "text/plain": [
              "<IPython.core.display.HTML object>"
            ]
          },
          "metadata": {
            "tags": []
          }
        },
        {
          "output_type": "display_data",
          "data": {
            "text/html": [
              "<h3>Run history:</h3><br/><style>\n",
              "    table.wandb td:nth-child(1) { padding: 0 10px; text-align: right }\n",
              "    </style><table class=\"wandb\">\n",
              "<tr><td>epoch</td><td>▁▅█▁▅█▁▅█▁▅█▁▅█</td></tr><tr><td>loss/train_fold0</td><td>█▃▁</td></tr><tr><td>loss/val_fold0</td><td>█▁█</td></tr><tr><td>score/fold0</td><td>█▁▁</td></tr><tr><td>_runtime</td><td>▁▁▂▃▃▃▄▄▅▆▆▆▇██</td></tr><tr><td>_timestamp</td><td>▁▁▂▃▃▃▄▄▅▆▆▆▇██</td></tr><tr><td>_step</td><td>▁▁▂▃▃▃▄▅▅▅▆▇▇▇█</td></tr><tr><td>loss/train_fold1</td><td>█▃▁</td></tr><tr><td>loss/val_fold1</td><td>█▁▃</td></tr><tr><td>score/fold1</td><td>▁█▄</td></tr><tr><td>loss/train_fold2</td><td>█▃▁</td></tr><tr><td>loss/val_fold2</td><td>█▁▃</td></tr><tr><td>score/fold2</td><td>▁█▁</td></tr><tr><td>loss/train_fold3</td><td>█▃▁</td></tr><tr><td>loss/val_fold3</td><td>▇▁█</td></tr><tr><td>score/fold3</td><td>▅█▁</td></tr><tr><td>loss/train_fold4</td><td>█▃▁</td></tr><tr><td>loss/val_fold4</td><td>█▁▆</td></tr><tr><td>score/fold4</td><td>▂█▁</td></tr></table><br/>"
            ],
            "text/plain": [
              "<IPython.core.display.HTML object>"
            ]
          },
          "metadata": {
            "tags": []
          }
        },
        {
          "output_type": "display_data",
          "data": {
            "text/html": [
              "Synced 5 W&B file(s), 0 media file(s), 43 artifact file(s) and 7 other file(s)"
            ],
            "text/plain": [
              "<IPython.core.display.HTML object>"
            ]
          },
          "metadata": {
            "tags": []
          }
        },
        {
          "output_type": "display_data",
          "data": {
            "text/html": [
              "\n",
              "                    <br/>Synced <strong style=\"color:#cdcd00\">still-sponge-64</strong>: <a href=\"https://wandb.ai/imokuri/signate-471/runs/mxe0tzxa\" target=\"_blank\">https://wandb.ai/imokuri/signate-471/runs/mxe0tzxa</a><br/>\n",
              "                "
            ],
            "text/plain": [
              "<IPython.core.display.HTML object>"
            ]
          },
          "metadata": {
            "tags": []
          }
        }
      ]
    },
    {
      "cell_type": "markdown",
      "metadata": {
        "id": "-scfhV4ueW4K"
      },
      "source": [
        "## Public LB"
      ]
    },
    {
      "cell_type": "code",
      "metadata": {
        "id": "jRNsH2CvA1He"
      },
      "source": [
        "RUN_ID = \"\"\n",
        "LB_SCORE = None\n",
        "\n",
        "WANDB_ENTITY = \"imokuri\"\n",
        "WANDB_PROJECT = \"signate-471\""
      ],
      "execution_count": 66,
      "outputs": []
    },
    {
      "cell_type": "code",
      "metadata": {
        "id": "AS7aRYF_eh7z"
      },
      "source": [
        "if RUN_ID is not None and LB_SCORE is not None:\n",
        "    import wandb\n",
        "    api = wandb.Api()\n",
        "\n",
        "    run = api.run(f\"{WANDB_ENTITY}/{WANDB_PROJECT}/{RUN_ID}\")\n",
        "    run.summary[\"LB\"] = LB_SCORE\n",
        "    run.summary.update()\n"
      ],
      "execution_count": 67,
      "outputs": []
    },
    {
      "cell_type": "code",
      "metadata": {
        "id": "ANpuUeypNmLF"
      },
      "source": [
        ""
      ],
      "execution_count": 67,
      "outputs": []
    }
  ]
}