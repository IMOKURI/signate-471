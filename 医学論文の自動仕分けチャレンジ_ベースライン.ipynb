{
  "nbformat": 4,
  "nbformat_minor": 0,
  "metadata": {
    "colab": {
      "name": "医学論文の自動仕分けチャレンジ ベースライン.ipynb",
      "provenance": [],
      "collapsed_sections": [],
      "toc_visible": true,
      "authorship_tag": "ABX9TyOGGThKS+sclImfzKvF5aqk",
      "include_colab_link": true
    },
    "kernelspec": {
      "name": "python3",
      "display_name": "Python 3"
    },
    "language_info": {
      "name": "python"
    },
    "accelerator": "GPU",
    "widgets": {
      "application/vnd.jupyter.widget-state+json": {
        "46a959b931db47f7b3279538e772347d": {
          "model_module": "@jupyter-widgets/controls",
          "model_name": "HBoxModel",
          "state": {
            "_view_name": "HBoxView",
            "_dom_classes": [],
            "_model_name": "HBoxModel",
            "_view_module": "@jupyter-widgets/controls",
            "_model_module_version": "1.5.0",
            "_view_count": null,
            "_view_module_version": "1.5.0",
            "box_style": "",
            "layout": "IPY_MODEL_655b935eeb864ed5930601c1a179790a",
            "_model_module": "@jupyter-widgets/controls",
            "children": [
              "IPY_MODEL_a28c0befa2ac4e02a29e7b4bda3dffa2",
              "IPY_MODEL_0c3fac4dc6d04658bea79c16fd2ff143"
            ]
          }
        },
        "655b935eeb864ed5930601c1a179790a": {
          "model_module": "@jupyter-widgets/base",
          "model_name": "LayoutModel",
          "state": {
            "_view_name": "LayoutView",
            "grid_template_rows": null,
            "right": null,
            "justify_content": null,
            "_view_module": "@jupyter-widgets/base",
            "overflow": null,
            "_model_module_version": "1.2.0",
            "_view_count": null,
            "flex_flow": null,
            "width": null,
            "min_width": null,
            "border": null,
            "align_items": null,
            "bottom": null,
            "_model_module": "@jupyter-widgets/base",
            "top": null,
            "grid_column": null,
            "overflow_y": null,
            "overflow_x": null,
            "grid_auto_flow": null,
            "grid_area": null,
            "grid_template_columns": null,
            "flex": null,
            "_model_name": "LayoutModel",
            "justify_items": null,
            "grid_row": null,
            "max_height": null,
            "align_content": null,
            "visibility": null,
            "align_self": null,
            "height": null,
            "min_height": null,
            "padding": null,
            "grid_auto_rows": null,
            "grid_gap": null,
            "max_width": null,
            "order": null,
            "_view_module_version": "1.2.0",
            "grid_template_areas": null,
            "object_position": null,
            "object_fit": null,
            "grid_auto_columns": null,
            "margin": null,
            "display": null,
            "left": null
          }
        },
        "a28c0befa2ac4e02a29e7b4bda3dffa2": {
          "model_module": "@jupyter-widgets/controls",
          "model_name": "FloatProgressModel",
          "state": {
            "_view_name": "ProgressView",
            "style": "IPY_MODEL_ce3f56dee928424f9dadb016510454aa",
            "_dom_classes": [],
            "description": "100%",
            "_model_name": "FloatProgressModel",
            "bar_style": "success",
            "max": 2553,
            "_view_module": "@jupyter-widgets/controls",
            "_model_module_version": "1.5.0",
            "value": 2553,
            "_view_count": null,
            "_view_module_version": "1.5.0",
            "orientation": "horizontal",
            "min": 0,
            "description_tooltip": null,
            "_model_module": "@jupyter-widgets/controls",
            "layout": "IPY_MODEL_5aa1c0d042964c0f984b0f1df7d08ece"
          }
        },
        "0c3fac4dc6d04658bea79c16fd2ff143": {
          "model_module": "@jupyter-widgets/controls",
          "model_name": "HTMLModel",
          "state": {
            "_view_name": "HTMLView",
            "style": "IPY_MODEL_c61ddb38257f410b841815b0b8503485",
            "_dom_classes": [],
            "description": "",
            "_model_name": "HTMLModel",
            "placeholder": "​",
            "_view_module": "@jupyter-widgets/controls",
            "_model_module_version": "1.5.0",
            "value": " 2553/2553 [01:35&lt;00:00, 26.80it/s]",
            "_view_count": null,
            "_view_module_version": "1.5.0",
            "description_tooltip": null,
            "_model_module": "@jupyter-widgets/controls",
            "layout": "IPY_MODEL_71d3294553184fa5b94044f4139a25be"
          }
        },
        "ce3f56dee928424f9dadb016510454aa": {
          "model_module": "@jupyter-widgets/controls",
          "model_name": "ProgressStyleModel",
          "state": {
            "_view_name": "StyleView",
            "_model_name": "ProgressStyleModel",
            "description_width": "initial",
            "_view_module": "@jupyter-widgets/base",
            "_model_module_version": "1.5.0",
            "_view_count": null,
            "_view_module_version": "1.2.0",
            "bar_color": null,
            "_model_module": "@jupyter-widgets/controls"
          }
        },
        "5aa1c0d042964c0f984b0f1df7d08ece": {
          "model_module": "@jupyter-widgets/base",
          "model_name": "LayoutModel",
          "state": {
            "_view_name": "LayoutView",
            "grid_template_rows": null,
            "right": null,
            "justify_content": null,
            "_view_module": "@jupyter-widgets/base",
            "overflow": null,
            "_model_module_version": "1.2.0",
            "_view_count": null,
            "flex_flow": null,
            "width": null,
            "min_width": null,
            "border": null,
            "align_items": null,
            "bottom": null,
            "_model_module": "@jupyter-widgets/base",
            "top": null,
            "grid_column": null,
            "overflow_y": null,
            "overflow_x": null,
            "grid_auto_flow": null,
            "grid_area": null,
            "grid_template_columns": null,
            "flex": null,
            "_model_name": "LayoutModel",
            "justify_items": null,
            "grid_row": null,
            "max_height": null,
            "align_content": null,
            "visibility": null,
            "align_self": null,
            "height": null,
            "min_height": null,
            "padding": null,
            "grid_auto_rows": null,
            "grid_gap": null,
            "max_width": null,
            "order": null,
            "_view_module_version": "1.2.0",
            "grid_template_areas": null,
            "object_position": null,
            "object_fit": null,
            "grid_auto_columns": null,
            "margin": null,
            "display": null,
            "left": null
          }
        },
        "c61ddb38257f410b841815b0b8503485": {
          "model_module": "@jupyter-widgets/controls",
          "model_name": "DescriptionStyleModel",
          "state": {
            "_view_name": "StyleView",
            "_model_name": "DescriptionStyleModel",
            "description_width": "",
            "_view_module": "@jupyter-widgets/base",
            "_model_module_version": "1.5.0",
            "_view_count": null,
            "_view_module_version": "1.2.0",
            "_model_module": "@jupyter-widgets/controls"
          }
        },
        "71d3294553184fa5b94044f4139a25be": {
          "model_module": "@jupyter-widgets/base",
          "model_name": "LayoutModel",
          "state": {
            "_view_name": "LayoutView",
            "grid_template_rows": null,
            "right": null,
            "justify_content": null,
            "_view_module": "@jupyter-widgets/base",
            "overflow": null,
            "_model_module_version": "1.2.0",
            "_view_count": null,
            "flex_flow": null,
            "width": null,
            "min_width": null,
            "border": null,
            "align_items": null,
            "bottom": null,
            "_model_module": "@jupyter-widgets/base",
            "top": null,
            "grid_column": null,
            "overflow_y": null,
            "overflow_x": null,
            "grid_auto_flow": null,
            "grid_area": null,
            "grid_template_columns": null,
            "flex": null,
            "_model_name": "LayoutModel",
            "justify_items": null,
            "grid_row": null,
            "max_height": null,
            "align_content": null,
            "visibility": null,
            "align_self": null,
            "height": null,
            "min_height": null,
            "padding": null,
            "grid_auto_rows": null,
            "grid_gap": null,
            "max_width": null,
            "order": null,
            "_view_module_version": "1.2.0",
            "grid_template_areas": null,
            "object_position": null,
            "object_fit": null,
            "grid_auto_columns": null,
            "margin": null,
            "display": null,
            "left": null
          }
        },
        "8875fdd857504c8094009eecd68c288a": {
          "model_module": "@jupyter-widgets/controls",
          "model_name": "HBoxModel",
          "state": {
            "_view_name": "HBoxView",
            "_dom_classes": [],
            "_model_name": "HBoxModel",
            "_view_module": "@jupyter-widgets/controls",
            "_model_module_version": "1.5.0",
            "_view_count": null,
            "_view_module_version": "1.5.0",
            "box_style": "",
            "layout": "IPY_MODEL_6b7df48f8e45411fbecf4d28ddd3cc26",
            "_model_module": "@jupyter-widgets/controls",
            "children": [
              "IPY_MODEL_8724d6cd89de4b8f872f75505c4ec1bb",
              "IPY_MODEL_230e23843e1f493eabc02067d24c8ff6"
            ]
          }
        },
        "6b7df48f8e45411fbecf4d28ddd3cc26": {
          "model_module": "@jupyter-widgets/base",
          "model_name": "LayoutModel",
          "state": {
            "_view_name": "LayoutView",
            "grid_template_rows": null,
            "right": null,
            "justify_content": null,
            "_view_module": "@jupyter-widgets/base",
            "overflow": null,
            "_model_module_version": "1.2.0",
            "_view_count": null,
            "flex_flow": null,
            "width": null,
            "min_width": null,
            "border": null,
            "align_items": null,
            "bottom": null,
            "_model_module": "@jupyter-widgets/base",
            "top": null,
            "grid_column": null,
            "overflow_y": null,
            "overflow_x": null,
            "grid_auto_flow": null,
            "grid_area": null,
            "grid_template_columns": null,
            "flex": null,
            "_model_name": "LayoutModel",
            "justify_items": null,
            "grid_row": null,
            "max_height": null,
            "align_content": null,
            "visibility": null,
            "align_self": null,
            "height": null,
            "min_height": null,
            "padding": null,
            "grid_auto_rows": null,
            "grid_gap": null,
            "max_width": null,
            "order": null,
            "_view_module_version": "1.2.0",
            "grid_template_areas": null,
            "object_position": null,
            "object_fit": null,
            "grid_auto_columns": null,
            "margin": null,
            "display": null,
            "left": null
          }
        },
        "8724d6cd89de4b8f872f75505c4ec1bb": {
          "model_module": "@jupyter-widgets/controls",
          "model_name": "FloatProgressModel",
          "state": {
            "_view_name": "ProgressView",
            "style": "IPY_MODEL_1f382d71f0754e2198f8ece9095fabd4",
            "_dom_classes": [],
            "description": "100%",
            "_model_name": "FloatProgressModel",
            "bar_style": "success",
            "max": 2553,
            "_view_module": "@jupyter-widgets/controls",
            "_model_module_version": "1.5.0",
            "value": 2553,
            "_view_count": null,
            "_view_module_version": "1.5.0",
            "orientation": "horizontal",
            "min": 0,
            "description_tooltip": null,
            "_model_module": "@jupyter-widgets/controls",
            "layout": "IPY_MODEL_5f0d7d7edf024f8193991351f2cd6665"
          }
        },
        "230e23843e1f493eabc02067d24c8ff6": {
          "model_module": "@jupyter-widgets/controls",
          "model_name": "HTMLModel",
          "state": {
            "_view_name": "HTMLView",
            "style": "IPY_MODEL_a18ff178f16d49fd95a89577c614038d",
            "_dom_classes": [],
            "description": "",
            "_model_name": "HTMLModel",
            "placeholder": "​",
            "_view_module": "@jupyter-widgets/controls",
            "_model_module_version": "1.5.0",
            "value": " 2553/2553 [01:35&lt;00:00, 26.71it/s]",
            "_view_count": null,
            "_view_module_version": "1.5.0",
            "description_tooltip": null,
            "_model_module": "@jupyter-widgets/controls",
            "layout": "IPY_MODEL_b6f8f0942bc2487f915c3ef7b8b74c0c"
          }
        },
        "1f382d71f0754e2198f8ece9095fabd4": {
          "model_module": "@jupyter-widgets/controls",
          "model_name": "ProgressStyleModel",
          "state": {
            "_view_name": "StyleView",
            "_model_name": "ProgressStyleModel",
            "description_width": "initial",
            "_view_module": "@jupyter-widgets/base",
            "_model_module_version": "1.5.0",
            "_view_count": null,
            "_view_module_version": "1.2.0",
            "bar_color": null,
            "_model_module": "@jupyter-widgets/controls"
          }
        },
        "5f0d7d7edf024f8193991351f2cd6665": {
          "model_module": "@jupyter-widgets/base",
          "model_name": "LayoutModel",
          "state": {
            "_view_name": "LayoutView",
            "grid_template_rows": null,
            "right": null,
            "justify_content": null,
            "_view_module": "@jupyter-widgets/base",
            "overflow": null,
            "_model_module_version": "1.2.0",
            "_view_count": null,
            "flex_flow": null,
            "width": null,
            "min_width": null,
            "border": null,
            "align_items": null,
            "bottom": null,
            "_model_module": "@jupyter-widgets/base",
            "top": null,
            "grid_column": null,
            "overflow_y": null,
            "overflow_x": null,
            "grid_auto_flow": null,
            "grid_area": null,
            "grid_template_columns": null,
            "flex": null,
            "_model_name": "LayoutModel",
            "justify_items": null,
            "grid_row": null,
            "max_height": null,
            "align_content": null,
            "visibility": null,
            "align_self": null,
            "height": null,
            "min_height": null,
            "padding": null,
            "grid_auto_rows": null,
            "grid_gap": null,
            "max_width": null,
            "order": null,
            "_view_module_version": "1.2.0",
            "grid_template_areas": null,
            "object_position": null,
            "object_fit": null,
            "grid_auto_columns": null,
            "margin": null,
            "display": null,
            "left": null
          }
        },
        "a18ff178f16d49fd95a89577c614038d": {
          "model_module": "@jupyter-widgets/controls",
          "model_name": "DescriptionStyleModel",
          "state": {
            "_view_name": "StyleView",
            "_model_name": "DescriptionStyleModel",
            "description_width": "",
            "_view_module": "@jupyter-widgets/base",
            "_model_module_version": "1.5.0",
            "_view_count": null,
            "_view_module_version": "1.2.0",
            "_model_module": "@jupyter-widgets/controls"
          }
        },
        "b6f8f0942bc2487f915c3ef7b8b74c0c": {
          "model_module": "@jupyter-widgets/base",
          "model_name": "LayoutModel",
          "state": {
            "_view_name": "LayoutView",
            "grid_template_rows": null,
            "right": null,
            "justify_content": null,
            "_view_module": "@jupyter-widgets/base",
            "overflow": null,
            "_model_module_version": "1.2.0",
            "_view_count": null,
            "flex_flow": null,
            "width": null,
            "min_width": null,
            "border": null,
            "align_items": null,
            "bottom": null,
            "_model_module": "@jupyter-widgets/base",
            "top": null,
            "grid_column": null,
            "overflow_y": null,
            "overflow_x": null,
            "grid_auto_flow": null,
            "grid_area": null,
            "grid_template_columns": null,
            "flex": null,
            "_model_name": "LayoutModel",
            "justify_items": null,
            "grid_row": null,
            "max_height": null,
            "align_content": null,
            "visibility": null,
            "align_self": null,
            "height": null,
            "min_height": null,
            "padding": null,
            "grid_auto_rows": null,
            "grid_gap": null,
            "max_width": null,
            "order": null,
            "_view_module_version": "1.2.0",
            "grid_template_areas": null,
            "object_position": null,
            "object_fit": null,
            "grid_auto_columns": null,
            "margin": null,
            "display": null,
            "left": null
          }
        },
        "aa034b7105434313a68cb6c43c53ce83": {
          "model_module": "@jupyter-widgets/controls",
          "model_name": "HBoxModel",
          "state": {
            "_view_name": "HBoxView",
            "_dom_classes": [],
            "_model_name": "HBoxModel",
            "_view_module": "@jupyter-widgets/controls",
            "_model_module_version": "1.5.0",
            "_view_count": null,
            "_view_module_version": "1.5.0",
            "box_style": "",
            "layout": "IPY_MODEL_fb9c2ff3d6c14852850622651afd0935",
            "_model_module": "@jupyter-widgets/controls",
            "children": [
              "IPY_MODEL_3192f298e8c943ba88b64e5485554651",
              "IPY_MODEL_0b09e379b6854ad690841989bf13108c"
            ]
          }
        },
        "fb9c2ff3d6c14852850622651afd0935": {
          "model_module": "@jupyter-widgets/base",
          "model_name": "LayoutModel",
          "state": {
            "_view_name": "LayoutView",
            "grid_template_rows": null,
            "right": null,
            "justify_content": null,
            "_view_module": "@jupyter-widgets/base",
            "overflow": null,
            "_model_module_version": "1.2.0",
            "_view_count": null,
            "flex_flow": null,
            "width": null,
            "min_width": null,
            "border": null,
            "align_items": null,
            "bottom": null,
            "_model_module": "@jupyter-widgets/base",
            "top": null,
            "grid_column": null,
            "overflow_y": null,
            "overflow_x": null,
            "grid_auto_flow": null,
            "grid_area": null,
            "grid_template_columns": null,
            "flex": null,
            "_model_name": "LayoutModel",
            "justify_items": null,
            "grid_row": null,
            "max_height": null,
            "align_content": null,
            "visibility": null,
            "align_self": null,
            "height": null,
            "min_height": null,
            "padding": null,
            "grid_auto_rows": null,
            "grid_gap": null,
            "max_width": null,
            "order": null,
            "_view_module_version": "1.2.0",
            "grid_template_areas": null,
            "object_position": null,
            "object_fit": null,
            "grid_auto_columns": null,
            "margin": null,
            "display": null,
            "left": null
          }
        },
        "3192f298e8c943ba88b64e5485554651": {
          "model_module": "@jupyter-widgets/controls",
          "model_name": "FloatProgressModel",
          "state": {
            "_view_name": "ProgressView",
            "style": "IPY_MODEL_62412dc4bddc421987768d6a801ac23d",
            "_dom_classes": [],
            "description": "100%",
            "_model_name": "FloatProgressModel",
            "bar_style": "success",
            "max": 2553,
            "_view_module": "@jupyter-widgets/controls",
            "_model_module_version": "1.5.0",
            "value": 2553,
            "_view_count": null,
            "_view_module_version": "1.5.0",
            "orientation": "horizontal",
            "min": 0,
            "description_tooltip": null,
            "_model_module": "@jupyter-widgets/controls",
            "layout": "IPY_MODEL_89db5931906f4b4997ffe3222efdf215"
          }
        },
        "0b09e379b6854ad690841989bf13108c": {
          "model_module": "@jupyter-widgets/controls",
          "model_name": "HTMLModel",
          "state": {
            "_view_name": "HTMLView",
            "style": "IPY_MODEL_6c3510d769d44390abf26a8cae789c13",
            "_dom_classes": [],
            "description": "",
            "_model_name": "HTMLModel",
            "placeholder": "​",
            "_view_module": "@jupyter-widgets/controls",
            "_model_module_version": "1.5.0",
            "value": " 2553/2553 [01:35&lt;00:00, 26.61it/s]",
            "_view_count": null,
            "_view_module_version": "1.5.0",
            "description_tooltip": null,
            "_model_module": "@jupyter-widgets/controls",
            "layout": "IPY_MODEL_4d284532fe834a78a8c09fed15c4a1c5"
          }
        },
        "62412dc4bddc421987768d6a801ac23d": {
          "model_module": "@jupyter-widgets/controls",
          "model_name": "ProgressStyleModel",
          "state": {
            "_view_name": "StyleView",
            "_model_name": "ProgressStyleModel",
            "description_width": "initial",
            "_view_module": "@jupyter-widgets/base",
            "_model_module_version": "1.5.0",
            "_view_count": null,
            "_view_module_version": "1.2.0",
            "bar_color": null,
            "_model_module": "@jupyter-widgets/controls"
          }
        },
        "89db5931906f4b4997ffe3222efdf215": {
          "model_module": "@jupyter-widgets/base",
          "model_name": "LayoutModel",
          "state": {
            "_view_name": "LayoutView",
            "grid_template_rows": null,
            "right": null,
            "justify_content": null,
            "_view_module": "@jupyter-widgets/base",
            "overflow": null,
            "_model_module_version": "1.2.0",
            "_view_count": null,
            "flex_flow": null,
            "width": null,
            "min_width": null,
            "border": null,
            "align_items": null,
            "bottom": null,
            "_model_module": "@jupyter-widgets/base",
            "top": null,
            "grid_column": null,
            "overflow_y": null,
            "overflow_x": null,
            "grid_auto_flow": null,
            "grid_area": null,
            "grid_template_columns": null,
            "flex": null,
            "_model_name": "LayoutModel",
            "justify_items": null,
            "grid_row": null,
            "max_height": null,
            "align_content": null,
            "visibility": null,
            "align_self": null,
            "height": null,
            "min_height": null,
            "padding": null,
            "grid_auto_rows": null,
            "grid_gap": null,
            "max_width": null,
            "order": null,
            "_view_module_version": "1.2.0",
            "grid_template_areas": null,
            "object_position": null,
            "object_fit": null,
            "grid_auto_columns": null,
            "margin": null,
            "display": null,
            "left": null
          }
        },
        "6c3510d769d44390abf26a8cae789c13": {
          "model_module": "@jupyter-widgets/controls",
          "model_name": "DescriptionStyleModel",
          "state": {
            "_view_name": "StyleView",
            "_model_name": "DescriptionStyleModel",
            "description_width": "",
            "_view_module": "@jupyter-widgets/base",
            "_model_module_version": "1.5.0",
            "_view_count": null,
            "_view_module_version": "1.2.0",
            "_model_module": "@jupyter-widgets/controls"
          }
        },
        "4d284532fe834a78a8c09fed15c4a1c5": {
          "model_module": "@jupyter-widgets/base",
          "model_name": "LayoutModel",
          "state": {
            "_view_name": "LayoutView",
            "grid_template_rows": null,
            "right": null,
            "justify_content": null,
            "_view_module": "@jupyter-widgets/base",
            "overflow": null,
            "_model_module_version": "1.2.0",
            "_view_count": null,
            "flex_flow": null,
            "width": null,
            "min_width": null,
            "border": null,
            "align_items": null,
            "bottom": null,
            "_model_module": "@jupyter-widgets/base",
            "top": null,
            "grid_column": null,
            "overflow_y": null,
            "overflow_x": null,
            "grid_auto_flow": null,
            "grid_area": null,
            "grid_template_columns": null,
            "flex": null,
            "_model_name": "LayoutModel",
            "justify_items": null,
            "grid_row": null,
            "max_height": null,
            "align_content": null,
            "visibility": null,
            "align_self": null,
            "height": null,
            "min_height": null,
            "padding": null,
            "grid_auto_rows": null,
            "grid_gap": null,
            "max_width": null,
            "order": null,
            "_view_module_version": "1.2.0",
            "grid_template_areas": null,
            "object_position": null,
            "object_fit": null,
            "grid_auto_columns": null,
            "margin": null,
            "display": null,
            "left": null
          }
        },
        "8b8c468155ae4001a4f9ae8e664ad752": {
          "model_module": "@jupyter-widgets/controls",
          "model_name": "HBoxModel",
          "state": {
            "_view_name": "HBoxView",
            "_dom_classes": [],
            "_model_name": "HBoxModel",
            "_view_module": "@jupyter-widgets/controls",
            "_model_module_version": "1.5.0",
            "_view_count": null,
            "_view_module_version": "1.5.0",
            "box_style": "",
            "layout": "IPY_MODEL_0f25b6ab5f7e4ebcb181f09a7d995884",
            "_model_module": "@jupyter-widgets/controls",
            "children": [
              "IPY_MODEL_9873d1b0dd0e4bc78f3e85a44d27ddfd",
              "IPY_MODEL_1f030599bd4347b08fb8cc43b1dbf831"
            ]
          }
        },
        "0f25b6ab5f7e4ebcb181f09a7d995884": {
          "model_module": "@jupyter-widgets/base",
          "model_name": "LayoutModel",
          "state": {
            "_view_name": "LayoutView",
            "grid_template_rows": null,
            "right": null,
            "justify_content": null,
            "_view_module": "@jupyter-widgets/base",
            "overflow": null,
            "_model_module_version": "1.2.0",
            "_view_count": null,
            "flex_flow": null,
            "width": null,
            "min_width": null,
            "border": null,
            "align_items": null,
            "bottom": null,
            "_model_module": "@jupyter-widgets/base",
            "top": null,
            "grid_column": null,
            "overflow_y": null,
            "overflow_x": null,
            "grid_auto_flow": null,
            "grid_area": null,
            "grid_template_columns": null,
            "flex": null,
            "_model_name": "LayoutModel",
            "justify_items": null,
            "grid_row": null,
            "max_height": null,
            "align_content": null,
            "visibility": null,
            "align_self": null,
            "height": null,
            "min_height": null,
            "padding": null,
            "grid_auto_rows": null,
            "grid_gap": null,
            "max_width": null,
            "order": null,
            "_view_module_version": "1.2.0",
            "grid_template_areas": null,
            "object_position": null,
            "object_fit": null,
            "grid_auto_columns": null,
            "margin": null,
            "display": null,
            "left": null
          }
        },
        "9873d1b0dd0e4bc78f3e85a44d27ddfd": {
          "model_module": "@jupyter-widgets/controls",
          "model_name": "FloatProgressModel",
          "state": {
            "_view_name": "ProgressView",
            "style": "IPY_MODEL_24d439589454465ea9d973616fe70cd9",
            "_dom_classes": [],
            "description": "100%",
            "_model_name": "FloatProgressModel",
            "bar_style": "success",
            "max": 2553,
            "_view_module": "@jupyter-widgets/controls",
            "_model_module_version": "1.5.0",
            "value": 2553,
            "_view_count": null,
            "_view_module_version": "1.5.0",
            "orientation": "horizontal",
            "min": 0,
            "description_tooltip": null,
            "_model_module": "@jupyter-widgets/controls",
            "layout": "IPY_MODEL_d48d99385ac84cf0af58b3ff7bebdfa4"
          }
        },
        "1f030599bd4347b08fb8cc43b1dbf831": {
          "model_module": "@jupyter-widgets/controls",
          "model_name": "HTMLModel",
          "state": {
            "_view_name": "HTMLView",
            "style": "IPY_MODEL_3d289e19d22542b9b0994a89d8389f8b",
            "_dom_classes": [],
            "description": "",
            "_model_name": "HTMLModel",
            "placeholder": "​",
            "_view_module": "@jupyter-widgets/controls",
            "_model_module_version": "1.5.0",
            "value": " 2553/2553 [01:38&lt;00:00, 25.99it/s]",
            "_view_count": null,
            "_view_module_version": "1.5.0",
            "description_tooltip": null,
            "_model_module": "@jupyter-widgets/controls",
            "layout": "IPY_MODEL_f839e28a9d02439d9bfcea407a08eac2"
          }
        },
        "24d439589454465ea9d973616fe70cd9": {
          "model_module": "@jupyter-widgets/controls",
          "model_name": "ProgressStyleModel",
          "state": {
            "_view_name": "StyleView",
            "_model_name": "ProgressStyleModel",
            "description_width": "initial",
            "_view_module": "@jupyter-widgets/base",
            "_model_module_version": "1.5.0",
            "_view_count": null,
            "_view_module_version": "1.2.0",
            "bar_color": null,
            "_model_module": "@jupyter-widgets/controls"
          }
        },
        "d48d99385ac84cf0af58b3ff7bebdfa4": {
          "model_module": "@jupyter-widgets/base",
          "model_name": "LayoutModel",
          "state": {
            "_view_name": "LayoutView",
            "grid_template_rows": null,
            "right": null,
            "justify_content": null,
            "_view_module": "@jupyter-widgets/base",
            "overflow": null,
            "_model_module_version": "1.2.0",
            "_view_count": null,
            "flex_flow": null,
            "width": null,
            "min_width": null,
            "border": null,
            "align_items": null,
            "bottom": null,
            "_model_module": "@jupyter-widgets/base",
            "top": null,
            "grid_column": null,
            "overflow_y": null,
            "overflow_x": null,
            "grid_auto_flow": null,
            "grid_area": null,
            "grid_template_columns": null,
            "flex": null,
            "_model_name": "LayoutModel",
            "justify_items": null,
            "grid_row": null,
            "max_height": null,
            "align_content": null,
            "visibility": null,
            "align_self": null,
            "height": null,
            "min_height": null,
            "padding": null,
            "grid_auto_rows": null,
            "grid_gap": null,
            "max_width": null,
            "order": null,
            "_view_module_version": "1.2.0",
            "grid_template_areas": null,
            "object_position": null,
            "object_fit": null,
            "grid_auto_columns": null,
            "margin": null,
            "display": null,
            "left": null
          }
        },
        "3d289e19d22542b9b0994a89d8389f8b": {
          "model_module": "@jupyter-widgets/controls",
          "model_name": "DescriptionStyleModel",
          "state": {
            "_view_name": "StyleView",
            "_model_name": "DescriptionStyleModel",
            "description_width": "",
            "_view_module": "@jupyter-widgets/base",
            "_model_module_version": "1.5.0",
            "_view_count": null,
            "_view_module_version": "1.2.0",
            "_model_module": "@jupyter-widgets/controls"
          }
        },
        "f839e28a9d02439d9bfcea407a08eac2": {
          "model_module": "@jupyter-widgets/base",
          "model_name": "LayoutModel",
          "state": {
            "_view_name": "LayoutView",
            "grid_template_rows": null,
            "right": null,
            "justify_content": null,
            "_view_module": "@jupyter-widgets/base",
            "overflow": null,
            "_model_module_version": "1.2.0",
            "_view_count": null,
            "flex_flow": null,
            "width": null,
            "min_width": null,
            "border": null,
            "align_items": null,
            "bottom": null,
            "_model_module": "@jupyter-widgets/base",
            "top": null,
            "grid_column": null,
            "overflow_y": null,
            "overflow_x": null,
            "grid_auto_flow": null,
            "grid_area": null,
            "grid_template_columns": null,
            "flex": null,
            "_model_name": "LayoutModel",
            "justify_items": null,
            "grid_row": null,
            "max_height": null,
            "align_content": null,
            "visibility": null,
            "align_self": null,
            "height": null,
            "min_height": null,
            "padding": null,
            "grid_auto_rows": null,
            "grid_gap": null,
            "max_width": null,
            "order": null,
            "_view_module_version": "1.2.0",
            "grid_template_areas": null,
            "object_position": null,
            "object_fit": null,
            "grid_auto_columns": null,
            "margin": null,
            "display": null,
            "left": null
          }
        },
        "a31fff94ec2a465290a4c14972207953": {
          "model_module": "@jupyter-widgets/controls",
          "model_name": "HBoxModel",
          "state": {
            "_view_name": "HBoxView",
            "_dom_classes": [],
            "_model_name": "HBoxModel",
            "_view_module": "@jupyter-widgets/controls",
            "_model_module_version": "1.5.0",
            "_view_count": null,
            "_view_module_version": "1.5.0",
            "box_style": "",
            "layout": "IPY_MODEL_98240e83bc284b19a4bd35ef6313992b",
            "_model_module": "@jupyter-widgets/controls",
            "children": [
              "IPY_MODEL_9ba825a63cf14fef9722c1289bb9b638",
              "IPY_MODEL_a4cc3c8a1b9347d49f6373c79eb19d0e"
            ]
          }
        },
        "98240e83bc284b19a4bd35ef6313992b": {
          "model_module": "@jupyter-widgets/base",
          "model_name": "LayoutModel",
          "state": {
            "_view_name": "LayoutView",
            "grid_template_rows": null,
            "right": null,
            "justify_content": null,
            "_view_module": "@jupyter-widgets/base",
            "overflow": null,
            "_model_module_version": "1.2.0",
            "_view_count": null,
            "flex_flow": null,
            "width": null,
            "min_width": null,
            "border": null,
            "align_items": null,
            "bottom": null,
            "_model_module": "@jupyter-widgets/base",
            "top": null,
            "grid_column": null,
            "overflow_y": null,
            "overflow_x": null,
            "grid_auto_flow": null,
            "grid_area": null,
            "grid_template_columns": null,
            "flex": null,
            "_model_name": "LayoutModel",
            "justify_items": null,
            "grid_row": null,
            "max_height": null,
            "align_content": null,
            "visibility": null,
            "align_self": null,
            "height": null,
            "min_height": null,
            "padding": null,
            "grid_auto_rows": null,
            "grid_gap": null,
            "max_width": null,
            "order": null,
            "_view_module_version": "1.2.0",
            "grid_template_areas": null,
            "object_position": null,
            "object_fit": null,
            "grid_auto_columns": null,
            "margin": null,
            "display": null,
            "left": null
          }
        },
        "9ba825a63cf14fef9722c1289bb9b638": {
          "model_module": "@jupyter-widgets/controls",
          "model_name": "FloatProgressModel",
          "state": {
            "_view_name": "ProgressView",
            "style": "IPY_MODEL_b9e9359f3c294fa290e23bb398f90dd1",
            "_dom_classes": [],
            "description": "100%",
            "_model_name": "FloatProgressModel",
            "bar_style": "success",
            "max": 2553,
            "_view_module": "@jupyter-widgets/controls",
            "_model_module_version": "1.5.0",
            "value": 2553,
            "_view_count": null,
            "_view_module_version": "1.5.0",
            "orientation": "horizontal",
            "min": 0,
            "description_tooltip": null,
            "_model_module": "@jupyter-widgets/controls",
            "layout": "IPY_MODEL_d70771a2cd564af8b668fa3bfe61f8c6"
          }
        },
        "a4cc3c8a1b9347d49f6373c79eb19d0e": {
          "model_module": "@jupyter-widgets/controls",
          "model_name": "HTMLModel",
          "state": {
            "_view_name": "HTMLView",
            "style": "IPY_MODEL_f47ecc76680d4c0284324a5a04ccf719",
            "_dom_classes": [],
            "description": "",
            "_model_name": "HTMLModel",
            "placeholder": "​",
            "_view_module": "@jupyter-widgets/controls",
            "_model_module_version": "1.5.0",
            "value": " 2553/2553 [01:35&lt;00:00, 26.60it/s]",
            "_view_count": null,
            "_view_module_version": "1.5.0",
            "description_tooltip": null,
            "_model_module": "@jupyter-widgets/controls",
            "layout": "IPY_MODEL_e326760e32d740ee8edc540315ae9dd8"
          }
        },
        "b9e9359f3c294fa290e23bb398f90dd1": {
          "model_module": "@jupyter-widgets/controls",
          "model_name": "ProgressStyleModel",
          "state": {
            "_view_name": "StyleView",
            "_model_name": "ProgressStyleModel",
            "description_width": "initial",
            "_view_module": "@jupyter-widgets/base",
            "_model_module_version": "1.5.0",
            "_view_count": null,
            "_view_module_version": "1.2.0",
            "bar_color": null,
            "_model_module": "@jupyter-widgets/controls"
          }
        },
        "d70771a2cd564af8b668fa3bfe61f8c6": {
          "model_module": "@jupyter-widgets/base",
          "model_name": "LayoutModel",
          "state": {
            "_view_name": "LayoutView",
            "grid_template_rows": null,
            "right": null,
            "justify_content": null,
            "_view_module": "@jupyter-widgets/base",
            "overflow": null,
            "_model_module_version": "1.2.0",
            "_view_count": null,
            "flex_flow": null,
            "width": null,
            "min_width": null,
            "border": null,
            "align_items": null,
            "bottom": null,
            "_model_module": "@jupyter-widgets/base",
            "top": null,
            "grid_column": null,
            "overflow_y": null,
            "overflow_x": null,
            "grid_auto_flow": null,
            "grid_area": null,
            "grid_template_columns": null,
            "flex": null,
            "_model_name": "LayoutModel",
            "justify_items": null,
            "grid_row": null,
            "max_height": null,
            "align_content": null,
            "visibility": null,
            "align_self": null,
            "height": null,
            "min_height": null,
            "padding": null,
            "grid_auto_rows": null,
            "grid_gap": null,
            "max_width": null,
            "order": null,
            "_view_module_version": "1.2.0",
            "grid_template_areas": null,
            "object_position": null,
            "object_fit": null,
            "grid_auto_columns": null,
            "margin": null,
            "display": null,
            "left": null
          }
        },
        "f47ecc76680d4c0284324a5a04ccf719": {
          "model_module": "@jupyter-widgets/controls",
          "model_name": "DescriptionStyleModel",
          "state": {
            "_view_name": "StyleView",
            "_model_name": "DescriptionStyleModel",
            "description_width": "",
            "_view_module": "@jupyter-widgets/base",
            "_model_module_version": "1.5.0",
            "_view_count": null,
            "_view_module_version": "1.2.0",
            "_model_module": "@jupyter-widgets/controls"
          }
        },
        "e326760e32d740ee8edc540315ae9dd8": {
          "model_module": "@jupyter-widgets/base",
          "model_name": "LayoutModel",
          "state": {
            "_view_name": "LayoutView",
            "grid_template_rows": null,
            "right": null,
            "justify_content": null,
            "_view_module": "@jupyter-widgets/base",
            "overflow": null,
            "_model_module_version": "1.2.0",
            "_view_count": null,
            "flex_flow": null,
            "width": null,
            "min_width": null,
            "border": null,
            "align_items": null,
            "bottom": null,
            "_model_module": "@jupyter-widgets/base",
            "top": null,
            "grid_column": null,
            "overflow_y": null,
            "overflow_x": null,
            "grid_auto_flow": null,
            "grid_area": null,
            "grid_template_columns": null,
            "flex": null,
            "_model_name": "LayoutModel",
            "justify_items": null,
            "grid_row": null,
            "max_height": null,
            "align_content": null,
            "visibility": null,
            "align_self": null,
            "height": null,
            "min_height": null,
            "padding": null,
            "grid_auto_rows": null,
            "grid_gap": null,
            "max_width": null,
            "order": null,
            "_view_module_version": "1.2.0",
            "grid_template_areas": null,
            "object_position": null,
            "object_fit": null,
            "grid_auto_columns": null,
            "margin": null,
            "display": null,
            "left": null
          }
        }
      }
    }
  },
  "cells": [
    {
      "cell_type": "markdown",
      "metadata": {
        "id": "view-in-github",
        "colab_type": "text"
      },
      "source": [
        "<a href=\"https://colab.research.google.com/github/IMOKURI/signate-471/blob/main/%E5%8C%BB%E5%AD%A6%E8%AB%96%E6%96%87%E3%81%AE%E8%87%AA%E5%8B%95%E4%BB%95%E5%88%86%E3%81%91%E3%83%81%E3%83%A3%E3%83%AC%E3%83%B3%E3%82%B8_%E3%83%99%E3%83%BC%E3%82%B9%E3%83%A9%E3%82%A4%E3%83%B3.ipynb\" target=\"_parent\"><img src=\"https://colab.research.google.com/assets/colab-badge.svg\" alt=\"Open In Colab\"/></a>"
      ]
    },
    {
      "cell_type": "markdown",
      "metadata": {
        "id": "0cusL-Xlbkt9"
      },
      "source": [
        "# 医学論文の自動仕分けチャレンジ ベースライン\n",
        "\n",
        "- Pytorch と BERT を使ったベースラインです。\n",
        "- `judgement` の値をもとにした層別交差検証 (Stratified KFold) をします。\n",
        "- `title` のみで学習・推論します。\n",
        "- モデルの出力は 0 ~ 1 の実数を想定した 回帰予測 とします。\n",
        "- モデルの出力をある境界値をもとに 0 と 1 にします。\n",
        "    - 境界値は 学習データの `judgement` の 0 と 1 の割合で決めます。\n",
        "- 交差検証で生成した5つのモデルでそれぞれ推論を行い、結果を平均して、テストコードの推論結果とします。\n",
        "\n",
        "## 前提\n",
        "\n",
        "- Google Colab で動かすことを想定します。\n",
        "\n",
        "## 事前準備\n",
        "\n",
        "- Google Drive の `マイドライブ/Datasets/signate-471` というフォルダに 本コンペのデータを配置してください。\n",
        "\n",
        "## アウトプット\n",
        "\n",
        "- `oof_df.csv`: 交差検証でのモデルの出力などが入っています。\n",
        "- `submission.csv`: 提出用のファイルです。\n",
        "\n",
        "## スコア\n",
        "\n",
        "- CV (交差検証): 0.82746\n",
        "- LB (リーダーボード): 0.8368283611616681\n",
        "\n",
        "## 謝辞\n",
        "\n",
        "この notebook は Kaggle で [@yasufuminakama](https://www.kaggle.com/yasufuminakama) さんが別コンペで公開されていた notebook をベースにしています。"
      ]
    },
    {
      "cell_type": "markdown",
      "metadata": {
        "id": "h0ZGYyZXcSZj"
      },
      "source": [
        "## データをドライブからコピー"
      ]
    },
    {
      "cell_type": "code",
      "metadata": {
        "colab": {
          "base_uri": "https://localhost:8080/"
        },
        "id": "1ej__6b7cSBw",
        "outputId": "3dd5f066-042f-4aa5-b1c4-648f99183e1e"
      },
      "source": [
        "import os\n",
        "import sys\n",
        "\n",
        "from google.colab import drive\n",
        "drive.mount('/gdrive')\n",
        "\n",
        "!cp /gdrive/MyDrive/Datasets/signate-471/train.csv .\n",
        "!cp /gdrive/MyDrive/Datasets/signate-471/test.csv .\n",
        "!cp /gdrive/MyDrive/Datasets/signate-471/sample_submit.csv ."
      ],
      "execution_count": null,
      "outputs": [
        {
          "output_type": "stream",
          "text": [
            "Drive already mounted at /gdrive; to attempt to forcibly remount, call drive.mount(\"/gdrive\", force_remount=True).\n"
          ],
          "name": "stdout"
        }
      ]
    },
    {
      "cell_type": "markdown",
      "metadata": {
        "id": "wiuX2u_RcknK"
      },
      "source": [
        "## ライブラリ インストール、インポート"
      ]
    },
    {
      "cell_type": "code",
      "metadata": {
        "id": "rz9W8Sw6baOT"
      },
      "source": [
        "!pip install -q transformers"
      ],
      "execution_count": null,
      "outputs": []
    },
    {
      "cell_type": "code",
      "metadata": {
        "id": "Rqcq9597cvjJ"
      },
      "source": [
        "import math\n",
        "import random\n",
        "import time\n",
        "import warnings\n",
        "\n",
        "import numpy as np\n",
        "import pandas as pd\n",
        "import torch\n",
        "import torch.nn as nn\n",
        "import transformers as T\n",
        "from sklearn.metrics import fbeta_score\n",
        "from sklearn.model_selection import StratifiedKFold\n",
        "from torch.utils.data import DataLoader, Dataset\n",
        "from tqdm.notebook import tqdm"
      ],
      "execution_count": null,
      "outputs": []
    },
    {
      "cell_type": "code",
      "metadata": {
        "id": "gHZnQzoLqdEi"
      },
      "source": [
        "DATA_DIR = \"./\"\n",
        "OUTPUT_DIR = \"./\""
      ],
      "execution_count": null,
      "outputs": []
    },
    {
      "cell_type": "code",
      "metadata": {
        "id": "kbxTpWsDdGfX"
      },
      "source": [
        "warnings.filterwarnings(\"ignore\")"
      ],
      "execution_count": null,
      "outputs": []
    },
    {
      "cell_type": "code",
      "metadata": {
        "id": "yii8MBqhdIFZ"
      },
      "source": [
        "device = torch.device(\"cuda\" if torch.cuda.is_available() else \"cpu\")"
      ],
      "execution_count": null,
      "outputs": []
    },
    {
      "cell_type": "code",
      "metadata": {
        "id": "W9eaCzQbnHDN"
      },
      "source": [
        "def init_logger(log_file=OUTPUT_DIR + \"train.log\"):\n",
        "    from logging import INFO, FileHandler, Formatter, StreamHandler, getLogger\n",
        "\n",
        "    logger = getLogger(__name__)\n",
        "    logger.setLevel(INFO)\n",
        "    handler1 = StreamHandler()\n",
        "    handler1.setFormatter(Formatter(\"%(message)s\"))\n",
        "    handler2 = FileHandler(filename=log_file)\n",
        "    handler2.setFormatter(Formatter(\"%(message)s\"))\n",
        "    logger.addHandler(handler1)\n",
        "    logger.addHandler(handler2)\n",
        "    return logger\n",
        "\n",
        "LOGGER = init_logger()"
      ],
      "execution_count": null,
      "outputs": []
    },
    {
      "cell_type": "code",
      "metadata": {
        "id": "ZRWnGA1xfHye"
      },
      "source": [
        "def seed_torch(seed=42):\n",
        "    random.seed(seed)\n",
        "    os.environ[\"PYTHONHASHSEED\"] = str(seed)\n",
        "    np.random.seed(seed)\n",
        "    torch.manual_seed(seed)\n",
        "    torch.cuda.manual_seed(seed)\n",
        "    torch.cuda.manual_seed_all(seed)\n",
        "    torch.backends.cudnn.deterministic = True\n",
        "\n",
        "seed = 471\n",
        "seed_torch(seed)"
      ],
      "execution_count": null,
      "outputs": []
    },
    {
      "cell_type": "markdown",
      "metadata": {
        "id": "yBlfYdRRdzLf"
      },
      "source": [
        "## データ読み込み"
      ]
    },
    {
      "cell_type": "code",
      "metadata": {
        "id": "0BhfE-s_d1Nm"
      },
      "source": [
        "train = pd.read_csv(DATA_DIR + \"train.csv\")\n",
        "test = pd.read_csv(DATA_DIR + \"test.csv\")\n",
        "sub = pd.read_csv(DATA_DIR + \"sample_submit.csv\", header=None)\n",
        "sub.columns = [\"id\", \"judgement\"]"
      ],
      "execution_count": null,
      "outputs": []
    },
    {
      "cell_type": "code",
      "metadata": {
        "colab": {
          "base_uri": "https://localhost:8080/"
        },
        "id": "9ZFE5izjmjPJ",
        "outputId": "cb0dcb56-905b-498c-c66d-7ff078da4570"
      },
      "source": [
        "# この値を境に、モデルの出力を 0 と 1 にします。\n",
        "border = len(train[train[\"judgement\"] == 1]) / len(train[\"judgement\"])\n",
        "print(border)"
      ],
      "execution_count": null,
      "outputs": [
        {
          "output_type": "stream",
          "text": [
            "0.023282372444280715\n"
          ],
          "name": "stdout"
        }
      ]
    },
    {
      "cell_type": "markdown",
      "metadata": {
        "id": "oY0huwKndTsn"
      },
      "source": [
        "## 前処理"
      ]
    },
    {
      "cell_type": "code",
      "metadata": {
        "id": "TFb8TzgZdVVt"
      },
      "source": [
        "def get_train_data(train):\n",
        "\n",
        "    # 交差検証 用の番号を振ります。\n",
        "    Fold = StratifiedKFold(n_splits=5, shuffle=True, random_state=seed)\n",
        "    for n, (train_index, val_index) in enumerate(Fold.split(train, train[\"judgement\"])):\n",
        "        train.loc[val_index, \"fold\"] = int(n)\n",
        "    train[\"fold\"] = train[\"fold\"].astype(np.uint8)\n",
        "\n",
        "    return train"
      ],
      "execution_count": null,
      "outputs": []
    },
    {
      "cell_type": "code",
      "metadata": {
        "id": "40S_QeLOdkvJ"
      },
      "source": [
        "def get_test_data(test):\n",
        "    return test"
      ],
      "execution_count": null,
      "outputs": []
    },
    {
      "cell_type": "code",
      "metadata": {
        "id": "f6-B4jsIjZtK"
      },
      "source": [
        "train = get_train_data(train)"
      ],
      "execution_count": null,
      "outputs": []
    },
    {
      "cell_type": "markdown",
      "metadata": {
        "id": "ZO8X49gwfyGR"
      },
      "source": [
        "## データセット 定義"
      ]
    },
    {
      "cell_type": "code",
      "metadata": {
        "id": "suTyuZivf0LY"
      },
      "source": [
        "class BaseDataset(Dataset):\n",
        "    def __init__(self, df, model_name, include_labels=True):\n",
        "        tokenizer = T.BertTokenizer.from_pretrained(model_name)\n",
        "\n",
        "        self.df = df\n",
        "        self.include_labels = include_labels\n",
        "\n",
        "        self.title = df[\"title\"].tolist()\n",
        "        self.encoded = tokenizer.batch_encode_plus(\n",
        "            self.title,\n",
        "            padding = 'max_length',            \n",
        "            max_length = 72,\n",
        "            truncation = True,\n",
        "            return_attention_mask=True\n",
        "        )\n",
        "        \n",
        "        if self.include_labels:\n",
        "            self.labels = df[\"judgement\"].values\n",
        "\n",
        "    def __len__(self):\n",
        "        return len(self.df)\n",
        "\n",
        "    def __getitem__(self, idx):\n",
        "        input_ids = torch.tensor(self.encoded['input_ids'][idx])\n",
        "        attention_mask = torch.tensor(self.encoded['attention_mask'][idx])\n",
        "\n",
        "        if self.include_labels:\n",
        "            label = torch.tensor(self.labels[idx]).float()\n",
        "            return input_ids, attention_mask, label\n",
        "\n",
        "        return input_ids, attention_mask"
      ],
      "execution_count": null,
      "outputs": []
    },
    {
      "cell_type": "markdown",
      "metadata": {
        "id": "NAqpjWAZgF_p"
      },
      "source": [
        "## モデル 定義"
      ]
    },
    {
      "cell_type": "code",
      "metadata": {
        "id": "e-qTnDTogHwa"
      },
      "source": [
        "class BaseModel(nn.Module):\n",
        "    def __init__(self, model_name):\n",
        "        super().__init__()\n",
        "\n",
        "        self.model = T.BertForSequenceClassification.from_pretrained(model_name, num_labels=1)\n",
        "        self.sigmoid = nn.Sigmoid()\n",
        "\n",
        "    def forward(self, input_ids, attention_mask):\n",
        "        out = self.model(input_ids=input_ids, attention_mask=attention_mask)\n",
        "        out = self.sigmoid(out.logits).squeeze()\n",
        "\n",
        "        return out"
      ],
      "execution_count": null,
      "outputs": []
    },
    {
      "cell_type": "markdown",
      "metadata": {
        "id": "RF7vkp0Igrw2"
      },
      "source": [
        "## ツール"
      ]
    },
    {
      "cell_type": "code",
      "metadata": {
        "id": "NU7njXztgu_z"
      },
      "source": [
        "class AverageMeter(object):\n",
        "    \"\"\"Computes and stores the average and current value\"\"\"\n",
        "\n",
        "    def __init__(self):\n",
        "        self.reset()\n",
        "\n",
        "    def reset(self):\n",
        "        self.val = 0\n",
        "        self.avg = 0\n",
        "        self.sum = 0\n",
        "        self.count = 0\n",
        "\n",
        "    def update(self, val, n=1):\n",
        "        self.val = val\n",
        "        self.sum += val * n\n",
        "        self.count += n\n",
        "        self.avg = self.sum / self.count\n",
        "\n",
        "\n",
        "def asMinutes(s):\n",
        "    m = math.floor(s / 60)\n",
        "    s -= m * 60\n",
        "    return \"%dm %ds\" % (m, s)\n",
        "\n",
        "\n",
        "def timeSince(since, percent):\n",
        "    now = time.time()\n",
        "    s = now - since\n",
        "    es = s / (percent)\n",
        "    rs = es - s\n",
        "    return \"%s (remain %s)\" % (asMinutes(s), asMinutes(rs))"
      ],
      "execution_count": null,
      "outputs": []
    },
    {
      "cell_type": "markdown",
      "metadata": {
        "id": "Zg3o9VyfgyeP"
      },
      "source": [
        "## 学習 補助関数"
      ]
    },
    {
      "cell_type": "code",
      "metadata": {
        "id": "h1ReAbi9g1o3"
      },
      "source": [
        "def train_fn(train_loader, model, criterion, optimizer, epoch, device):\n",
        "    start = end = time.time()\n",
        "    losses = AverageMeter()\n",
        "\n",
        "    # switch to train mode\n",
        "    model.train()\n",
        "\n",
        "    for step, (input_ids, attention_mask, labels) in enumerate(train_loader):\n",
        "        optimizer.zero_grad()\n",
        "\n",
        "        input_ids = input_ids.to(device)\n",
        "        attention_mask = attention_mask.to(device)\n",
        "        labels = labels.to(device)\n",
        "        batch_size = labels.size(0)\n",
        "\n",
        "        y_preds = model(input_ids, attention_mask)\n",
        "\n",
        "        loss = criterion(y_preds, labels)\n",
        "\n",
        "        # record loss\n",
        "        losses.update(loss.item(), batch_size)\n",
        "        loss.backward()\n",
        "\n",
        "        optimizer.step()\n",
        "\n",
        "        if step % 100 == 0 or step == (len(train_loader) - 1):\n",
        "            print(\n",
        "                f\"Epoch: [{epoch + 1}][{step}/{len(train_loader)}] \"\n",
        "                f\"Elapsed {timeSince(start, float(step + 1) / len(train_loader)):s} \"\n",
        "                f\"Loss: {losses.avg:.4f} \"\n",
        "            )\n",
        "\n",
        "    return losses.avg"
      ],
      "execution_count": null,
      "outputs": []
    },
    {
      "cell_type": "markdown",
      "metadata": {
        "id": "vI_PyEHUiSiY"
      },
      "source": [
        "## 評価 補助関数"
      ]
    },
    {
      "cell_type": "code",
      "metadata": {
        "id": "rFn9TdVfiUvi"
      },
      "source": [
        "def valid_fn(valid_loader, model, criterion, device):\n",
        "    start = end = time.time()\n",
        "    losses = AverageMeter()\n",
        "\n",
        "    # switch to evaluation mode\n",
        "    model.eval()\n",
        "    preds = []\n",
        "\n",
        "    for step, (input_ids, attention_mask, labels) in enumerate(valid_loader):\n",
        "        input_ids = input_ids.to(device)\n",
        "        attention_mask = attention_mask.to(device)\n",
        "        labels = labels.to(device)\n",
        "        batch_size = labels.size(0)\n",
        "\n",
        "        # compute loss\n",
        "        with torch.no_grad():\n",
        "            y_preds = model(input_ids, attention_mask)\n",
        "\n",
        "        loss = criterion(y_preds, labels)\n",
        "        losses.update(loss.item(), batch_size)\n",
        "\n",
        "        # record score\n",
        "        preds.append(y_preds.to(\"cpu\").numpy())\n",
        "\n",
        "        if step % 100 == 0 or step == (len(valid_loader) - 1):\n",
        "            print(\n",
        "                f\"EVAL: [{step}/{len(valid_loader)}] \"\n",
        "                f\"Elapsed {timeSince(start, float(step + 1) / len(valid_loader)):s} \"\n",
        "                f\"Loss: {losses.avg:.4f} \"\n",
        "            )\n",
        "\n",
        "    predictions = np.concatenate(preds)\n",
        "    return losses.avg, predictions"
      ],
      "execution_count": null,
      "outputs": []
    },
    {
      "cell_type": "markdown",
      "metadata": {
        "id": "2oac3wGMi7jW"
      },
      "source": [
        "## 推論関数"
      ]
    },
    {
      "cell_type": "code",
      "metadata": {
        "id": "MJbC7FfBjimX"
      },
      "source": [
        "def inference():\n",
        "    predictions = []\n",
        "\n",
        "    test_dataset = BaseDataset(test, \"bert-base-uncased\", include_labels=False)\n",
        "    test_loader = DataLoader(\n",
        "        test_dataset, batch_size=16, shuffle=False, num_workers=4, pin_memory=True\n",
        "    )\n",
        "\n",
        "    for fold in range(5):\n",
        "        LOGGER.info(f\"========== model: bert-base-uncased fold: {fold} inference ==========\")\n",
        "        model = BaseModel(\"bert-base-uncased\")\n",
        "        model.to(device)\n",
        "        model.load_state_dict(torch.load(OUTPUT_DIR + f\"bert-base-uncased_fold{fold}_best.pth\")[\"model\"])\n",
        "        model.eval()\n",
        "        preds = []\n",
        "        for i, (input_ids, attention_mask) in tqdm(enumerate(test_loader), total=len(test_loader)):\n",
        "            input_ids = input_ids.to(device)\n",
        "            attention_mask = attention_mask.to(device)\n",
        "            with torch.no_grad():\n",
        "                y_preds = model(input_ids, attention_mask)\n",
        "            preds.append(y_preds.to(\"cpu\").numpy())\n",
        "        preds = np.concatenate(preds)\n",
        "        predictions.append(preds)\n",
        "    predictions = np.mean(predictions, axis=0)\n",
        "\n",
        "    return predictions"
      ],
      "execution_count": null,
      "outputs": []
    },
    {
      "cell_type": "markdown",
      "metadata": {
        "id": "xYL4xB5wjmIN"
      },
      "source": [
        "## 学習"
      ]
    },
    {
      "cell_type": "code",
      "metadata": {
        "id": "s6GCgroQjo--"
      },
      "source": [
        "def train_loop(train, fold):\n",
        "\n",
        "    LOGGER.info(f\"========== fold: {fold} training ==========\")\n",
        "\n",
        "    # ====================================================\n",
        "    # Data Loader\n",
        "    # ====================================================\n",
        "    trn_idx = train[train[\"fold\"] != fold].index\n",
        "    val_idx = train[train[\"fold\"] == fold].index\n",
        "\n",
        "    train_folds = train.loc[trn_idx].reset_index(drop=True)\n",
        "    valid_folds = train.loc[val_idx].reset_index(drop=True)\n",
        "\n",
        "    train_dataset = BaseDataset(train_folds, \"bert-base-uncased\")\n",
        "    valid_dataset = BaseDataset(valid_folds, \"bert-base-uncased\")\n",
        "\n",
        "    train_loader = DataLoader(\n",
        "        train_dataset,\n",
        "        batch_size=16,\n",
        "        shuffle=True,\n",
        "        num_workers=4,\n",
        "        pin_memory=True,\n",
        "        drop_last=True,\n",
        "    )\n",
        "    valid_loader = DataLoader(\n",
        "        valid_dataset,\n",
        "        batch_size=16,\n",
        "        shuffle=False,\n",
        "        num_workers=4,\n",
        "        pin_memory=True,\n",
        "        drop_last=False,\n",
        "    )\n",
        "\n",
        "    # ====================================================\n",
        "    # Model\n",
        "    # ====================================================\n",
        "    model = BaseModel(\"bert-base-uncased\")\n",
        "    model.to(device)\n",
        "\n",
        "    optimizer = T.AdamW(model.parameters(), lr=2e-5)\n",
        "\n",
        "    criterion = nn.BCELoss()\n",
        "\n",
        "    # ====================================================\n",
        "    # Loop\n",
        "    # ====================================================\n",
        "    best_score = -1\n",
        "    best_loss = np.inf\n",
        "\n",
        "    for epoch in range(3):\n",
        "        start_time = time.time()\n",
        "        \n",
        "        # train\n",
        "        avg_loss = train_fn(train_loader, model, criterion, optimizer, epoch, device)\n",
        "\n",
        "        # eval\n",
        "        avg_val_loss, preds = valid_fn(valid_loader, model, criterion, device)\n",
        "        valid_labels = valid_folds[\"judgement\"].values\n",
        "\n",
        "        # scoring\n",
        "        score = fbeta_score(valid_labels, np.where(preds < border, 0, 1), beta=7.0)\n",
        "\n",
        "        elapsed = time.time() - start_time\n",
        "        LOGGER.info(\n",
        "            f\"Epoch {epoch+1} - avg_train_loss: {avg_loss:.4f}  avg_val_loss: {avg_val_loss:.4f}  time: {elapsed:.0f}s\"\n",
        "        )\n",
        "        LOGGER.info(f\"Epoch {epoch+1} - Score: {score}\")\n",
        "\n",
        "        if score > best_score:\n",
        "            best_score = score\n",
        "            LOGGER.info(f\"Epoch {epoch+1} - Save Best Score: {best_score:.4f} Model\")\n",
        "            torch.save(\n",
        "                {\"model\": model.state_dict(), \"preds\": preds}, OUTPUT_DIR + f\"bert-base-uncased_fold{fold}_best.pth\"\n",
        "            )\n",
        "\n",
        "    check_point = torch.load(OUTPUT_DIR + f\"bert-base-uncased_fold{fold}_best.pth\")\n",
        "\n",
        "    valid_folds[\"preds\"] = check_point[\"preds\"]\n",
        "\n",
        "    return valid_folds"
      ],
      "execution_count": null,
      "outputs": []
    },
    {
      "cell_type": "markdown",
      "metadata": {
        "id": "n3JRdByGnlFr"
      },
      "source": [
        "## メイン"
      ]
    },
    {
      "cell_type": "code",
      "metadata": {
        "id": "uSyyq0xRn6tJ"
      },
      "source": [
        "def get_result(result_df):\n",
        "    preds = result_df[\"preds\"].values\n",
        "    labels = result_df[\"judgement\"].values\n",
        "    score = fbeta_score(labels, np.where(preds < border, 0, 1), beta=7.0)\n",
        "    LOGGER.info(f\"Score: {score:<.5f}\")"
      ],
      "execution_count": null,
      "outputs": []
    },
    {
      "cell_type": "code",
      "metadata": {
        "id": "q7J93dUhnm_V"
      },
      "source": [
        "def main():\n",
        "    # Training\n",
        "    oof_df = pd.DataFrame()\n",
        "    for fold in range(5):\n",
        "        _oof_df = train_loop(train, fold)\n",
        "        oof_df = pd.concat([oof_df, _oof_df])\n",
        "        LOGGER.info(f\"========== fold: {fold} result ==========\")\n",
        "        get_result(_oof_df)\n",
        "        \n",
        "    # CV result\n",
        "    LOGGER.info(f\"========== CV ==========\")\n",
        "    get_result(oof_df)\n",
        "    \n",
        "    # Save OOF result\n",
        "    oof_df.to_csv(OUTPUT_DIR + \"oof_df.csv\", index=False)\n",
        "\n",
        "    # Inference\n",
        "    predictions = inference()\n",
        "    predictions = np.where(predictions < border, 0, 1)\n",
        "\n",
        "    # submission\n",
        "    sub[\"judgement\"] = predictions\n",
        "    sub.to_csv(OUTPUT_DIR + \"submission.csv\", index=False, header=False)"
      ],
      "execution_count": null,
      "outputs": []
    },
    {
      "cell_type": "code",
      "metadata": {
        "colab": {
          "base_uri": "https://localhost:8080/",
          "height": 1000,
          "referenced_widgets": [
            "46a959b931db47f7b3279538e772347d",
            "655b935eeb864ed5930601c1a179790a",
            "a28c0befa2ac4e02a29e7b4bda3dffa2",
            "0c3fac4dc6d04658bea79c16fd2ff143",
            "ce3f56dee928424f9dadb016510454aa",
            "5aa1c0d042964c0f984b0f1df7d08ece",
            "c61ddb38257f410b841815b0b8503485",
            "71d3294553184fa5b94044f4139a25be",
            "8875fdd857504c8094009eecd68c288a",
            "6b7df48f8e45411fbecf4d28ddd3cc26",
            "8724d6cd89de4b8f872f75505c4ec1bb",
            "230e23843e1f493eabc02067d24c8ff6",
            "1f382d71f0754e2198f8ece9095fabd4",
            "5f0d7d7edf024f8193991351f2cd6665",
            "a18ff178f16d49fd95a89577c614038d",
            "b6f8f0942bc2487f915c3ef7b8b74c0c",
            "aa034b7105434313a68cb6c43c53ce83",
            "fb9c2ff3d6c14852850622651afd0935",
            "3192f298e8c943ba88b64e5485554651",
            "0b09e379b6854ad690841989bf13108c",
            "62412dc4bddc421987768d6a801ac23d",
            "89db5931906f4b4997ffe3222efdf215",
            "6c3510d769d44390abf26a8cae789c13",
            "4d284532fe834a78a8c09fed15c4a1c5",
            "8b8c468155ae4001a4f9ae8e664ad752",
            "0f25b6ab5f7e4ebcb181f09a7d995884",
            "9873d1b0dd0e4bc78f3e85a44d27ddfd",
            "1f030599bd4347b08fb8cc43b1dbf831",
            "24d439589454465ea9d973616fe70cd9",
            "d48d99385ac84cf0af58b3ff7bebdfa4",
            "3d289e19d22542b9b0994a89d8389f8b",
            "f839e28a9d02439d9bfcea407a08eac2",
            "a31fff94ec2a465290a4c14972207953",
            "98240e83bc284b19a4bd35ef6313992b",
            "9ba825a63cf14fef9722c1289bb9b638",
            "a4cc3c8a1b9347d49f6373c79eb19d0e",
            "b9e9359f3c294fa290e23bb398f90dd1",
            "d70771a2cd564af8b668fa3bfe61f8c6",
            "f47ecc76680d4c0284324a5a04ccf719",
            "e326760e32d740ee8edc540315ae9dd8"
          ]
        },
        "id": "7gA-QNL1q1Nn",
        "outputId": "7865066e-28c0-442c-cf86-ee48906f34b9"
      },
      "source": [
        "if __name__ == \"__main__\":\n",
        "    main()"
      ],
      "execution_count": null,
      "outputs": [
        {
          "output_type": "stream",
          "text": [
            "========== fold: 0 training ==========\n",
            "Some weights of the model checkpoint at bert-base-uncased were not used when initializing BertForSequenceClassification: ['cls.seq_relationship.bias', 'cls.predictions.transform.dense.weight', 'cls.seq_relationship.weight', 'cls.predictions.decoder.weight', 'cls.predictions.transform.LayerNorm.bias', 'cls.predictions.transform.LayerNorm.weight', 'cls.predictions.transform.dense.bias', 'cls.predictions.bias']\n",
            "- This IS expected if you are initializing BertForSequenceClassification from the checkpoint of a model trained on another task or with another architecture (e.g. initializing a BertForSequenceClassification model from a BertForPreTraining model).\n",
            "- This IS NOT expected if you are initializing BertForSequenceClassification from the checkpoint of a model that you expect to be exactly identical (initializing a BertForSequenceClassification model from a BertForSequenceClassification model).\n",
            "Some weights of BertForSequenceClassification were not initialized from the model checkpoint at bert-base-uncased and are newly initialized: ['classifier.bias', 'classifier.weight']\n",
            "You should probably TRAIN this model on a down-stream task to be able to use it for predictions and inference.\n"
          ],
          "name": "stderr"
        },
        {
          "output_type": "stream",
          "text": [
            "Epoch: [1][0/1357] Elapsed 0m 0s (remain 7m 14s) Loss: 0.8725 \n",
            "Epoch: [1][100/1357] Elapsed 0m 12s (remain 2m 38s) Loss: 0.1579 \n",
            "Epoch: [1][200/1357] Elapsed 0m 25s (remain 2m 25s) Loss: 0.1343 \n",
            "Epoch: [1][300/1357] Elapsed 0m 37s (remain 2m 12s) Loss: 0.1202 \n",
            "Epoch: [1][400/1357] Elapsed 0m 50s (remain 1m 59s) Loss: 0.1130 \n",
            "Epoch: [1][500/1357] Elapsed 1m 2s (remain 1m 47s) Loss: 0.1070 \n",
            "Epoch: [1][600/1357] Elapsed 1m 15s (remain 1m 34s) Loss: 0.1014 \n",
            "Epoch: [1][700/1357] Elapsed 1m 27s (remain 1m 21s) Loss: 0.0971 \n",
            "Epoch: [1][800/1357] Elapsed 1m 39s (remain 1m 9s) Loss: 0.0921 \n",
            "Epoch: [1][900/1357] Elapsed 1m 52s (remain 0m 56s) Loss: 0.0895 \n",
            "Epoch: [1][1000/1357] Elapsed 2m 4s (remain 0m 44s) Loss: 0.0866 \n",
            "Epoch: [1][1100/1357] Elapsed 2m 17s (remain 0m 31s) Loss: 0.0853 \n",
            "Epoch: [1][1200/1357] Elapsed 2m 29s (remain 0m 19s) Loss: 0.0844 \n",
            "Epoch: [1][1300/1357] Elapsed 2m 42s (remain 0m 6s) Loss: 0.0824 \n",
            "Epoch: [1][1356/1357] Elapsed 2m 49s (remain 0m 0s) Loss: 0.0811 \n",
            "EVAL: [0/340] Elapsed 0m 0s (remain 1m 12s) Loss: 0.0022 \n",
            "EVAL: [100/340] Elapsed 0m 3s (remain 0m 9s) Loss: 0.0557 \n",
            "EVAL: [200/340] Elapsed 0m 7s (remain 0m 5s) Loss: 0.0614 \n",
            "EVAL: [300/340] Elapsed 0m 11s (remain 0m 1s) Loss: 0.0611 \n"
          ],
          "name": "stdout"
        },
        {
          "output_type": "stream",
          "text": [
            "Epoch 1 - avg_train_loss: 0.0811  avg_val_loss: 0.0615  time: 182s\n",
            "Epoch 1 - Score: 0.7376921882279858\n",
            "Epoch 1 - Save Best Score: 0.7377 Model\n"
          ],
          "name": "stderr"
        },
        {
          "output_type": "stream",
          "text": [
            "EVAL: [339/340] Elapsed 0m 12s (remain 0m 0s) Loss: 0.0615 \n",
            "Epoch: [2][0/1357] Elapsed 0m 0s (remain 6m 27s) Loss: 0.0023 \n",
            "Epoch: [2][100/1357] Elapsed 0m 12s (remain 2m 38s) Loss: 0.0514 \n",
            "Epoch: [2][200/1357] Elapsed 0m 25s (remain 2m 24s) Loss: 0.0524 \n",
            "Epoch: [2][300/1357] Elapsed 0m 37s (remain 2m 11s) Loss: 0.0541 \n",
            "Epoch: [2][400/1357] Elapsed 0m 50s (remain 1m 59s) Loss: 0.0503 \n",
            "Epoch: [2][500/1357] Elapsed 1m 2s (remain 1m 46s) Loss: 0.0519 \n",
            "Epoch: [2][600/1357] Elapsed 1m 14s (remain 1m 34s) Loss: 0.0498 \n",
            "Epoch: [2][700/1357] Elapsed 1m 27s (remain 1m 21s) Loss: 0.0509 \n",
            "Epoch: [2][800/1357] Elapsed 1m 39s (remain 1m 9s) Loss: 0.0501 \n",
            "Epoch: [2][900/1357] Elapsed 1m 52s (remain 0m 56s) Loss: 0.0508 \n",
            "Epoch: [2][1000/1357] Elapsed 2m 4s (remain 0m 44s) Loss: 0.0492 \n",
            "Epoch: [2][1100/1357] Elapsed 2m 17s (remain 0m 31s) Loss: 0.0480 \n",
            "Epoch: [2][1200/1357] Elapsed 2m 29s (remain 0m 19s) Loss: 0.0471 \n",
            "Epoch: [2][1300/1357] Elapsed 2m 42s (remain 0m 6s) Loss: 0.0473 \n",
            "Epoch: [2][1356/1357] Elapsed 2m 49s (remain 0m 0s) Loss: 0.0469 \n",
            "EVAL: [0/340] Elapsed 0m 0s (remain 1m 7s) Loss: 0.0020 \n",
            "EVAL: [100/340] Elapsed 0m 3s (remain 0m 9s) Loss: 0.0481 \n",
            "EVAL: [200/340] Elapsed 0m 7s (remain 0m 5s) Loss: 0.0531 \n",
            "EVAL: [300/340] Elapsed 0m 11s (remain 0m 1s) Loss: 0.0548 \n"
          ],
          "name": "stdout"
        },
        {
          "output_type": "stream",
          "text": [
            "Epoch 2 - avg_train_loss: 0.0469  avg_val_loss: 0.0554  time: 182s\n",
            "Epoch 2 - Score: 0.8434650455927051\n",
            "Epoch 2 - Save Best Score: 0.8435 Model\n"
          ],
          "name": "stderr"
        },
        {
          "output_type": "stream",
          "text": [
            "EVAL: [339/340] Elapsed 0m 12s (remain 0m 0s) Loss: 0.0554 \n",
            "Epoch: [3][0/1357] Elapsed 0m 0s (remain 6m 50s) Loss: 0.0029 \n",
            "Epoch: [3][100/1357] Elapsed 0m 12s (remain 2m 38s) Loss: 0.0261 \n",
            "Epoch: [3][200/1357] Elapsed 0m 25s (remain 2m 25s) Loss: 0.0268 \n",
            "Epoch: [3][300/1357] Elapsed 0m 37s (remain 2m 12s) Loss: 0.0280 \n",
            "Epoch: [3][400/1357] Elapsed 0m 50s (remain 1m 59s) Loss: 0.0301 \n",
            "Epoch: [3][500/1357] Elapsed 1m 2s (remain 1m 46s) Loss: 0.0284 \n",
            "Epoch: [3][600/1357] Elapsed 1m 15s (remain 1m 34s) Loss: 0.0303 \n",
            "Epoch: [3][700/1357] Elapsed 1m 27s (remain 1m 21s) Loss: 0.0312 \n",
            "Epoch: [3][800/1357] Elapsed 1m 39s (remain 1m 9s) Loss: 0.0308 \n",
            "Epoch: [3][900/1357] Elapsed 1m 52s (remain 0m 56s) Loss: 0.0318 \n",
            "Epoch: [3][1000/1357] Elapsed 2m 4s (remain 0m 44s) Loss: 0.0308 \n",
            "Epoch: [3][1100/1357] Elapsed 2m 17s (remain 0m 31s) Loss: 0.0307 \n",
            "Epoch: [3][1200/1357] Elapsed 2m 29s (remain 0m 19s) Loss: 0.0312 \n",
            "Epoch: [3][1300/1357] Elapsed 2m 42s (remain 0m 6s) Loss: 0.0312 \n",
            "Epoch: [3][1356/1357] Elapsed 2m 49s (remain 0m 0s) Loss: 0.0312 \n",
            "EVAL: [0/340] Elapsed 0m 0s (remain 1m 13s) Loss: 0.0013 \n",
            "EVAL: [100/340] Elapsed 0m 3s (remain 0m 9s) Loss: 0.0611 \n",
            "EVAL: [200/340] Elapsed 0m 7s (remain 0m 5s) Loss: 0.0584 \n",
            "EVAL: [300/340] Elapsed 0m 11s (remain 0m 1s) Loss: 0.0601 \n"
          ],
          "name": "stdout"
        },
        {
          "output_type": "stream",
          "text": [
            "Epoch 3 - avg_train_loss: 0.0312  avg_val_loss: 0.0593  time: 182s\n",
            "Epoch 3 - Score: 0.7607514361124049\n"
          ],
          "name": "stderr"
        },
        {
          "output_type": "stream",
          "text": [
            "EVAL: [339/340] Elapsed 0m 12s (remain 0m 0s) Loss: 0.0593 \n"
          ],
          "name": "stdout"
        },
        {
          "output_type": "stream",
          "text": [
            "========== fold: 0 result ==========\n",
            "Score: 0.84347\n",
            "========== fold: 1 training ==========\n",
            "Some weights of the model checkpoint at bert-base-uncased were not used when initializing BertForSequenceClassification: ['cls.seq_relationship.bias', 'cls.predictions.transform.dense.weight', 'cls.seq_relationship.weight', 'cls.predictions.decoder.weight', 'cls.predictions.transform.LayerNorm.bias', 'cls.predictions.transform.LayerNorm.weight', 'cls.predictions.transform.dense.bias', 'cls.predictions.bias']\n",
            "- This IS expected if you are initializing BertForSequenceClassification from the checkpoint of a model trained on another task or with another architecture (e.g. initializing a BertForSequenceClassification model from a BertForPreTraining model).\n",
            "- This IS NOT expected if you are initializing BertForSequenceClassification from the checkpoint of a model that you expect to be exactly identical (initializing a BertForSequenceClassification model from a BertForSequenceClassification model).\n",
            "Some weights of BertForSequenceClassification were not initialized from the model checkpoint at bert-base-uncased and are newly initialized: ['classifier.bias', 'classifier.weight']\n",
            "You should probably TRAIN this model on a down-stream task to be able to use it for predictions and inference.\n"
          ],
          "name": "stderr"
        },
        {
          "output_type": "stream",
          "text": [
            "Epoch: [1][0/1357] Elapsed 0m 0s (remain 6m 32s) Loss: 0.5983 \n",
            "Epoch: [1][100/1357] Elapsed 0m 12s (remain 2m 38s) Loss: 0.1455 \n",
            "Epoch: [1][200/1357] Elapsed 0m 25s (remain 2m 25s) Loss: 0.1154 \n",
            "Epoch: [1][300/1357] Elapsed 0m 37s (remain 2m 12s) Loss: 0.1128 \n",
            "Epoch: [1][400/1357] Elapsed 0m 50s (remain 1m 59s) Loss: 0.1034 \n",
            "Epoch: [1][500/1357] Elapsed 1m 2s (remain 1m 46s) Loss: 0.1004 \n",
            "Epoch: [1][600/1357] Elapsed 1m 15s (remain 1m 34s) Loss: 0.0969 \n",
            "Epoch: [1][700/1357] Elapsed 1m 27s (remain 1m 21s) Loss: 0.0937 \n",
            "Epoch: [1][800/1357] Elapsed 1m 39s (remain 1m 9s) Loss: 0.0934 \n",
            "Epoch: [1][900/1357] Elapsed 1m 52s (remain 0m 56s) Loss: 0.0894 \n",
            "Epoch: [1][1000/1357] Elapsed 2m 4s (remain 0m 44s) Loss: 0.0868 \n",
            "Epoch: [1][1100/1357] Elapsed 2m 17s (remain 0m 31s) Loss: 0.0834 \n",
            "Epoch: [1][1200/1357] Elapsed 2m 29s (remain 0m 19s) Loss: 0.0832 \n",
            "Epoch: [1][1300/1357] Elapsed 2m 42s (remain 0m 6s) Loss: 0.0811 \n",
            "Epoch: [1][1356/1357] Elapsed 2m 49s (remain 0m 0s) Loss: 0.0815 \n",
            "EVAL: [0/340] Elapsed 0m 0s (remain 1m 8s) Loss: 0.2728 \n",
            "EVAL: [100/340] Elapsed 0m 3s (remain 0m 9s) Loss: 0.0685 \n",
            "EVAL: [200/340] Elapsed 0m 7s (remain 0m 5s) Loss: 0.0597 \n",
            "EVAL: [300/340] Elapsed 0m 11s (remain 0m 1s) Loss: 0.0549 \n"
          ],
          "name": "stdout"
        },
        {
          "output_type": "stream",
          "text": [
            "Epoch 1 - avg_train_loss: 0.0815  avg_val_loss: 0.0556  time: 182s\n",
            "Epoch 1 - Score: 0.7954545454545455\n",
            "Epoch 1 - Save Best Score: 0.7955 Model\n"
          ],
          "name": "stderr"
        },
        {
          "output_type": "stream",
          "text": [
            "EVAL: [339/340] Elapsed 0m 12s (remain 0m 0s) Loss: 0.0556 \n",
            "Epoch: [2][0/1357] Elapsed 0m 0s (remain 7m 1s) Loss: 0.0159 \n",
            "Epoch: [2][100/1357] Elapsed 0m 12s (remain 2m 38s) Loss: 0.0503 \n",
            "Epoch: [2][200/1357] Elapsed 0m 25s (remain 2m 25s) Loss: 0.0387 \n",
            "Epoch: [2][300/1357] Elapsed 0m 37s (remain 2m 12s) Loss: 0.0392 \n",
            "Epoch: [2][400/1357] Elapsed 0m 50s (remain 1m 59s) Loss: 0.0401 \n",
            "Epoch: [2][500/1357] Elapsed 1m 2s (remain 1m 46s) Loss: 0.0398 \n",
            "Epoch: [2][600/1357] Elapsed 1m 15s (remain 1m 34s) Loss: 0.0419 \n",
            "Epoch: [2][700/1357] Elapsed 1m 27s (remain 1m 21s) Loss: 0.0433 \n",
            "Epoch: [2][800/1357] Elapsed 1m 39s (remain 1m 9s) Loss: 0.0426 \n",
            "Epoch: [2][900/1357] Elapsed 1m 52s (remain 0m 56s) Loss: 0.0431 \n",
            "Epoch: [2][1000/1357] Elapsed 2m 4s (remain 0m 44s) Loss: 0.0425 \n",
            "Epoch: [2][1100/1357] Elapsed 2m 17s (remain 0m 31s) Loss: 0.0429 \n",
            "Epoch: [2][1200/1357] Elapsed 2m 29s (remain 0m 19s) Loss: 0.0426 \n",
            "Epoch: [2][1300/1357] Elapsed 2m 42s (remain 0m 6s) Loss: 0.0438 \n",
            "Epoch: [2][1356/1357] Elapsed 2m 49s (remain 0m 0s) Loss: 0.0438 \n",
            "EVAL: [0/340] Elapsed 0m 0s (remain 1m 7s) Loss: 0.1179 \n",
            "EVAL: [100/340] Elapsed 0m 3s (remain 0m 9s) Loss: 0.0624 \n",
            "EVAL: [200/340] Elapsed 0m 7s (remain 0m 5s) Loss: 0.0550 \n",
            "EVAL: [300/340] Elapsed 0m 11s (remain 0m 1s) Loss: 0.0498 \n"
          ],
          "name": "stdout"
        },
        {
          "output_type": "stream",
          "text": [
            "Epoch 2 - avg_train_loss: 0.0438  avg_val_loss: 0.0511  time: 182s\n",
            "Epoch 2 - Score: 0.8572273130357669\n",
            "Epoch 2 - Save Best Score: 0.8572 Model\n"
          ],
          "name": "stderr"
        },
        {
          "output_type": "stream",
          "text": [
            "EVAL: [339/340] Elapsed 0m 12s (remain 0m 0s) Loss: 0.0511 \n",
            "Epoch: [3][0/1357] Elapsed 0m 0s (remain 7m 22s) Loss: 0.0488 \n",
            "Epoch: [3][100/1357] Elapsed 0m 12s (remain 2m 38s) Loss: 0.0256 \n",
            "Epoch: [3][200/1357] Elapsed 0m 25s (remain 2m 25s) Loss: 0.0272 \n",
            "Epoch: [3][300/1357] Elapsed 0m 37s (remain 2m 12s) Loss: 0.0294 \n",
            "Epoch: [3][400/1357] Elapsed 0m 50s (remain 1m 59s) Loss: 0.0278 \n",
            "Epoch: [3][500/1357] Elapsed 1m 2s (remain 1m 46s) Loss: 0.0255 \n",
            "Epoch: [3][600/1357] Elapsed 1m 15s (remain 1m 34s) Loss: 0.0253 \n",
            "Epoch: [3][700/1357] Elapsed 1m 27s (remain 1m 21s) Loss: 0.0244 \n",
            "Epoch: [3][800/1357] Elapsed 1m 39s (remain 1m 9s) Loss: 0.0249 \n",
            "Epoch: [3][900/1357] Elapsed 1m 52s (remain 0m 56s) Loss: 0.0244 \n",
            "Epoch: [3][1000/1357] Elapsed 2m 4s (remain 0m 44s) Loss: 0.0243 \n",
            "Epoch: [3][1100/1357] Elapsed 2m 17s (remain 0m 31s) Loss: 0.0245 \n",
            "Epoch: [3][1200/1357] Elapsed 2m 29s (remain 0m 19s) Loss: 0.0258 \n",
            "Epoch: [3][1300/1357] Elapsed 2m 42s (remain 0m 6s) Loss: 0.0264 \n",
            "Epoch: [3][1356/1357] Elapsed 2m 49s (remain 0m 0s) Loss: 0.0263 \n",
            "EVAL: [0/340] Elapsed 0m 0s (remain 1m 9s) Loss: 0.4124 \n",
            "EVAL: [100/340] Elapsed 0m 3s (remain 0m 9s) Loss: 0.0759 \n",
            "EVAL: [200/340] Elapsed 0m 7s (remain 0m 5s) Loss: 0.0676 \n",
            "EVAL: [300/340] Elapsed 0m 11s (remain 0m 1s) Loss: 0.0605 \n"
          ],
          "name": "stdout"
        },
        {
          "output_type": "stream",
          "text": [
            "Epoch 3 - avg_train_loss: 0.0263  avg_val_loss: 0.0611  time: 182s\n",
            "Epoch 3 - Score: 0.7569845481504605\n"
          ],
          "name": "stderr"
        },
        {
          "output_type": "stream",
          "text": [
            "EVAL: [339/340] Elapsed 0m 12s (remain 0m 0s) Loss: 0.0611 \n"
          ],
          "name": "stdout"
        },
        {
          "output_type": "stream",
          "text": [
            "========== fold: 1 result ==========\n",
            "Score: 0.85723\n",
            "========== fold: 2 training ==========\n",
            "Some weights of the model checkpoint at bert-base-uncased were not used when initializing BertForSequenceClassification: ['cls.seq_relationship.bias', 'cls.predictions.transform.dense.weight', 'cls.seq_relationship.weight', 'cls.predictions.decoder.weight', 'cls.predictions.transform.LayerNorm.bias', 'cls.predictions.transform.LayerNorm.weight', 'cls.predictions.transform.dense.bias', 'cls.predictions.bias']\n",
            "- This IS expected if you are initializing BertForSequenceClassification from the checkpoint of a model trained on another task or with another architecture (e.g. initializing a BertForSequenceClassification model from a BertForPreTraining model).\n",
            "- This IS NOT expected if you are initializing BertForSequenceClassification from the checkpoint of a model that you expect to be exactly identical (initializing a BertForSequenceClassification model from a BertForSequenceClassification model).\n",
            "Some weights of BertForSequenceClassification were not initialized from the model checkpoint at bert-base-uncased and are newly initialized: ['classifier.bias', 'classifier.weight']\n",
            "You should probably TRAIN this model on a down-stream task to be able to use it for predictions and inference.\n"
          ],
          "name": "stderr"
        },
        {
          "output_type": "stream",
          "text": [
            "Epoch: [1][0/1357] Elapsed 0m 0s (remain 6m 32s) Loss: 0.9346 \n",
            "Epoch: [1][100/1357] Elapsed 0m 12s (remain 2m 38s) Loss: 0.1605 \n",
            "Epoch: [1][200/1357] Elapsed 0m 25s (remain 2m 24s) Loss: 0.1388 \n",
            "Epoch: [1][300/1357] Elapsed 0m 37s (remain 2m 11s) Loss: 0.1274 \n",
            "Epoch: [1][400/1357] Elapsed 0m 50s (remain 1m 59s) Loss: 0.1183 \n",
            "Epoch: [1][500/1357] Elapsed 1m 2s (remain 1m 46s) Loss: 0.1130 \n",
            "Epoch: [1][600/1357] Elapsed 1m 14s (remain 1m 34s) Loss: 0.1072 \n",
            "Epoch: [1][700/1357] Elapsed 1m 27s (remain 1m 21s) Loss: 0.1040 \n",
            "Epoch: [1][800/1357] Elapsed 1m 39s (remain 1m 9s) Loss: 0.0995 \n",
            "Epoch: [1][900/1357] Elapsed 1m 52s (remain 0m 56s) Loss: 0.0959 \n",
            "Epoch: [1][1000/1357] Elapsed 2m 4s (remain 0m 44s) Loss: 0.0932 \n",
            "Epoch: [1][1100/1357] Elapsed 2m 17s (remain 0m 31s) Loss: 0.0910 \n",
            "Epoch: [1][1200/1357] Elapsed 2m 29s (remain 0m 19s) Loss: 0.0901 \n",
            "Epoch: [1][1300/1357] Elapsed 2m 42s (remain 0m 6s) Loss: 0.0875 \n",
            "Epoch: [1][1356/1357] Elapsed 2m 49s (remain 0m 0s) Loss: 0.0864 \n",
            "EVAL: [0/340] Elapsed 0m 0s (remain 1m 8s) Loss: 0.0181 \n",
            "EVAL: [100/340] Elapsed 0m 3s (remain 0m 9s) Loss: 0.0471 \n",
            "EVAL: [200/340] Elapsed 0m 7s (remain 0m 5s) Loss: 0.0533 \n",
            "EVAL: [300/340] Elapsed 0m 11s (remain 0m 1s) Loss: 0.0561 \n"
          ],
          "name": "stdout"
        },
        {
          "output_type": "stream",
          "text": [
            "Epoch 1 - avg_train_loss: 0.0864  avg_val_loss: 0.0555  time: 182s\n",
            "Epoch 1 - Score: 0.7900334244910362\n",
            "Epoch 1 - Save Best Score: 0.7900 Model\n"
          ],
          "name": "stderr"
        },
        {
          "output_type": "stream",
          "text": [
            "EVAL: [339/340] Elapsed 0m 12s (remain 0m 0s) Loss: 0.0555 \n",
            "Epoch: [2][0/1357] Elapsed 0m 0s (remain 6m 55s) Loss: 0.0027 \n",
            "Epoch: [2][100/1357] Elapsed 0m 12s (remain 2m 38s) Loss: 0.0423 \n",
            "Epoch: [2][200/1357] Elapsed 0m 25s (remain 2m 25s) Loss: 0.0417 \n",
            "Epoch: [2][300/1357] Elapsed 0m 37s (remain 2m 12s) Loss: 0.0420 \n",
            "Epoch: [2][400/1357] Elapsed 0m 50s (remain 1m 59s) Loss: 0.0453 \n",
            "Epoch: [2][500/1357] Elapsed 1m 2s (remain 1m 46s) Loss: 0.0415 \n",
            "Epoch: [2][600/1357] Elapsed 1m 15s (remain 1m 34s) Loss: 0.0407 \n",
            "Epoch: [2][700/1357] Elapsed 1m 27s (remain 1m 21s) Loss: 0.0429 \n",
            "Epoch: [2][800/1357] Elapsed 1m 39s (remain 1m 9s) Loss: 0.0433 \n",
            "Epoch: [2][900/1357] Elapsed 1m 52s (remain 0m 56s) Loss: 0.0443 \n",
            "Epoch: [2][1000/1357] Elapsed 2m 4s (remain 0m 44s) Loss: 0.0443 \n",
            "Epoch: [2][1100/1357] Elapsed 2m 17s (remain 0m 31s) Loss: 0.0439 \n",
            "Epoch: [2][1200/1357] Elapsed 2m 29s (remain 0m 19s) Loss: 0.0434 \n",
            "Epoch: [2][1300/1357] Elapsed 2m 42s (remain 0m 6s) Loss: 0.0440 \n",
            "Epoch: [2][1356/1357] Elapsed 2m 48s (remain 0m 0s) Loss: 0.0440 \n",
            "EVAL: [0/340] Elapsed 0m 0s (remain 1m 9s) Loss: 0.0151 \n",
            "EVAL: [100/340] Elapsed 0m 3s (remain 0m 9s) Loss: 0.0492 \n",
            "EVAL: [200/340] Elapsed 0m 7s (remain 0m 5s) Loss: 0.0588 \n",
            "EVAL: [300/340] Elapsed 0m 11s (remain 0m 1s) Loss: 0.0608 \n"
          ],
          "name": "stdout"
        },
        {
          "output_type": "stream",
          "text": [
            "Epoch 2 - avg_train_loss: 0.0440  avg_val_loss: 0.0621  time: 182s\n",
            "Epoch 2 - Score: 0.7211161624079009\n"
          ],
          "name": "stderr"
        },
        {
          "output_type": "stream",
          "text": [
            "EVAL: [339/340] Elapsed 0m 12s (remain 0m 0s) Loss: 0.0621 \n",
            "Epoch: [3][0/1357] Elapsed 0m 0s (remain 6m 38s) Loss: 0.2819 \n",
            "Epoch: [3][100/1357] Elapsed 0m 12s (remain 2m 37s) Loss: 0.0259 \n",
            "Epoch: [3][200/1357] Elapsed 0m 25s (remain 2m 24s) Loss: 0.0258 \n",
            "Epoch: [3][300/1357] Elapsed 0m 37s (remain 2m 11s) Loss: 0.0243 \n",
            "Epoch: [3][400/1357] Elapsed 0m 50s (remain 1m 59s) Loss: 0.0243 \n",
            "Epoch: [3][500/1357] Elapsed 1m 2s (remain 1m 46s) Loss: 0.0241 \n",
            "Epoch: [3][600/1357] Elapsed 1m 14s (remain 1m 34s) Loss: 0.0252 \n",
            "Epoch: [3][700/1357] Elapsed 1m 27s (remain 1m 21s) Loss: 0.0245 \n",
            "Epoch: [3][800/1357] Elapsed 1m 39s (remain 1m 9s) Loss: 0.0254 \n",
            "Epoch: [3][900/1357] Elapsed 1m 52s (remain 0m 56s) Loss: 0.0255 \n",
            "Epoch: [3][1000/1357] Elapsed 2m 4s (remain 0m 44s) Loss: 0.0258 \n",
            "Epoch: [3][1100/1357] Elapsed 2m 17s (remain 0m 31s) Loss: 0.0263 \n",
            "Epoch: [3][1200/1357] Elapsed 2m 29s (remain 0m 19s) Loss: 0.0270 \n",
            "Epoch: [3][1300/1357] Elapsed 2m 41s (remain 0m 6s) Loss: 0.0270 \n",
            "Epoch: [3][1356/1357] Elapsed 2m 48s (remain 0m 0s) Loss: 0.0266 \n",
            "EVAL: [0/340] Elapsed 0m 0s (remain 1m 6s) Loss: 0.0007 \n",
            "EVAL: [100/340] Elapsed 0m 3s (remain 0m 8s) Loss: 0.0543 \n",
            "EVAL: [200/340] Elapsed 0m 7s (remain 0m 5s) Loss: 0.0605 \n",
            "EVAL: [300/340] Elapsed 0m 11s (remain 0m 1s) Loss: 0.0643 \n"
          ],
          "name": "stdout"
        },
        {
          "output_type": "stream",
          "text": [
            "Epoch 3 - avg_train_loss: 0.0266  avg_val_loss: 0.0631  time: 181s\n",
            "Epoch 3 - Score: 0.7198748043818467\n"
          ],
          "name": "stderr"
        },
        {
          "output_type": "stream",
          "text": [
            "EVAL: [339/340] Elapsed 0m 12s (remain 0m 0s) Loss: 0.0631 \n"
          ],
          "name": "stdout"
        },
        {
          "output_type": "stream",
          "text": [
            "========== fold: 2 result ==========\n",
            "Score: 0.79003\n",
            "========== fold: 3 training ==========\n",
            "Some weights of the model checkpoint at bert-base-uncased were not used when initializing BertForSequenceClassification: ['cls.seq_relationship.bias', 'cls.predictions.transform.dense.weight', 'cls.seq_relationship.weight', 'cls.predictions.decoder.weight', 'cls.predictions.transform.LayerNorm.bias', 'cls.predictions.transform.LayerNorm.weight', 'cls.predictions.transform.dense.bias', 'cls.predictions.bias']\n",
            "- This IS expected if you are initializing BertForSequenceClassification from the checkpoint of a model trained on another task or with another architecture (e.g. initializing a BertForSequenceClassification model from a BertForPreTraining model).\n",
            "- This IS NOT expected if you are initializing BertForSequenceClassification from the checkpoint of a model that you expect to be exactly identical (initializing a BertForSequenceClassification model from a BertForSequenceClassification model).\n",
            "Some weights of BertForSequenceClassification were not initialized from the model checkpoint at bert-base-uncased and are newly initialized: ['classifier.bias', 'classifier.weight']\n",
            "You should probably TRAIN this model on a down-stream task to be able to use it for predictions and inference.\n"
          ],
          "name": "stderr"
        },
        {
          "output_type": "stream",
          "text": [
            "Epoch: [1][0/1357] Elapsed 0m 0s (remain 6m 40s) Loss: 1.0865 \n",
            "Epoch: [1][100/1357] Elapsed 0m 12s (remain 2m 38s) Loss: 0.1694 \n",
            "Epoch: [1][200/1357] Elapsed 0m 25s (remain 2m 24s) Loss: 0.1420 \n",
            "Epoch: [1][300/1357] Elapsed 0m 37s (remain 2m 11s) Loss: 0.1252 \n",
            "Epoch: [1][400/1357] Elapsed 0m 50s (remain 1m 59s) Loss: 0.1176 \n",
            "Epoch: [1][500/1357] Elapsed 1m 2s (remain 1m 46s) Loss: 0.1144 \n",
            "Epoch: [1][600/1357] Elapsed 1m 14s (remain 1m 34s) Loss: 0.1120 \n",
            "Epoch: [1][700/1357] Elapsed 1m 27s (remain 1m 21s) Loss: 0.1079 \n",
            "Epoch: [1][800/1357] Elapsed 1m 39s (remain 1m 9s) Loss: 0.1041 \n",
            "Epoch: [1][900/1357] Elapsed 1m 52s (remain 0m 56s) Loss: 0.1009 \n",
            "Epoch: [1][1000/1357] Elapsed 2m 4s (remain 0m 44s) Loss: 0.0982 \n",
            "Epoch: [1][1100/1357] Elapsed 2m 17s (remain 0m 31s) Loss: 0.0950 \n",
            "Epoch: [1][1200/1357] Elapsed 2m 29s (remain 0m 19s) Loss: 0.0948 \n",
            "Epoch: [1][1300/1357] Elapsed 2m 41s (remain 0m 6s) Loss: 0.0939 \n",
            "Epoch: [1][1356/1357] Elapsed 2m 48s (remain 0m 0s) Loss: 0.0918 \n",
            "EVAL: [0/340] Elapsed 0m 0s (remain 1m 9s) Loss: 0.0104 \n",
            "EVAL: [100/340] Elapsed 0m 3s (remain 0m 9s) Loss: 0.0784 \n",
            "EVAL: [200/340] Elapsed 0m 7s (remain 0m 5s) Loss: 0.0721 \n",
            "EVAL: [300/340] Elapsed 0m 11s (remain 0m 1s) Loss: 0.0679 \n"
          ],
          "name": "stdout"
        },
        {
          "output_type": "stream",
          "text": [
            "Epoch 1 - avg_train_loss: 0.0918  avg_val_loss: 0.0688  time: 182s\n",
            "Epoch 1 - Score: 0.7235338918507235\n",
            "Epoch 1 - Save Best Score: 0.7235 Model\n"
          ],
          "name": "stderr"
        },
        {
          "output_type": "stream",
          "text": [
            "EVAL: [339/340] Elapsed 0m 12s (remain 0m 0s) Loss: 0.0688 \n",
            "Epoch: [2][0/1357] Elapsed 0m 0s (remain 7m 2s) Loss: 0.0060 \n",
            "Epoch: [2][100/1357] Elapsed 0m 12s (remain 2m 38s) Loss: 0.0523 \n",
            "Epoch: [2][200/1357] Elapsed 0m 25s (remain 2m 24s) Loss: 0.0526 \n",
            "Epoch: [2][300/1357] Elapsed 0m 37s (remain 2m 11s) Loss: 0.0583 \n",
            "Epoch: [2][400/1357] Elapsed 0m 50s (remain 1m 59s) Loss: 0.0574 \n",
            "Epoch: [2][500/1357] Elapsed 1m 2s (remain 1m 46s) Loss: 0.0547 \n",
            "Epoch: [2][600/1357] Elapsed 1m 14s (remain 1m 34s) Loss: 0.0541 \n",
            "Epoch: [2][700/1357] Elapsed 1m 27s (remain 1m 21s) Loss: 0.0550 \n",
            "Epoch: [2][800/1357] Elapsed 1m 39s (remain 1m 9s) Loss: 0.0550 \n",
            "Epoch: [2][900/1357] Elapsed 1m 52s (remain 0m 56s) Loss: 0.0537 \n",
            "Epoch: [2][1000/1357] Elapsed 2m 4s (remain 0m 44s) Loss: 0.0538 \n",
            "Epoch: [2][1100/1357] Elapsed 2m 17s (remain 0m 31s) Loss: 0.0537 \n",
            "Epoch: [2][1200/1357] Elapsed 2m 29s (remain 0m 19s) Loss: 0.0532 \n",
            "Epoch: [2][1300/1357] Elapsed 2m 41s (remain 0m 6s) Loss: 0.0532 \n",
            "Epoch: [2][1356/1357] Elapsed 2m 48s (remain 0m 0s) Loss: 0.0524 \n",
            "EVAL: [0/340] Elapsed 0m 0s (remain 1m 11s) Loss: 0.0140 \n",
            "EVAL: [100/340] Elapsed 0m 3s (remain 0m 9s) Loss: 0.0676 \n",
            "EVAL: [200/340] Elapsed 0m 7s (remain 0m 5s) Loss: 0.0579 \n",
            "EVAL: [300/340] Elapsed 0m 11s (remain 0m 1s) Loss: 0.0583 \n"
          ],
          "name": "stdout"
        },
        {
          "output_type": "stream",
          "text": [
            "Epoch 2 - avg_train_loss: 0.0524  avg_val_loss: 0.0577  time: 182s\n",
            "Epoch 2 - Score: 0.7925621094345374\n",
            "Epoch 2 - Save Best Score: 0.7926 Model\n"
          ],
          "name": "stderr"
        },
        {
          "output_type": "stream",
          "text": [
            "EVAL: [339/340] Elapsed 0m 12s (remain 0m 0s) Loss: 0.0577 \n",
            "Epoch: [3][0/1357] Elapsed 0m 0s (remain 6m 52s) Loss: 0.0034 \n",
            "Epoch: [3][100/1357] Elapsed 0m 12s (remain 2m 38s) Loss: 0.0286 \n",
            "Epoch: [3][200/1357] Elapsed 0m 25s (remain 2m 24s) Loss: 0.0270 \n",
            "Epoch: [3][300/1357] Elapsed 0m 37s (remain 2m 11s) Loss: 0.0345 \n",
            "Epoch: [3][400/1357] Elapsed 0m 50s (remain 1m 59s) Loss: 0.0332 \n",
            "Epoch: [3][500/1357] Elapsed 1m 2s (remain 1m 46s) Loss: 0.0313 \n",
            "Epoch: [3][600/1357] Elapsed 1m 14s (remain 1m 34s) Loss: 0.0319 \n",
            "Epoch: [3][700/1357] Elapsed 1m 27s (remain 1m 21s) Loss: 0.0340 \n",
            "Epoch: [3][800/1357] Elapsed 1m 39s (remain 1m 9s) Loss: 0.0333 \n",
            "Epoch: [3][900/1357] Elapsed 1m 52s (remain 0m 56s) Loss: 0.0335 \n",
            "Epoch: [3][1000/1357] Elapsed 2m 4s (remain 0m 44s) Loss: 0.0330 \n",
            "Epoch: [3][1100/1357] Elapsed 2m 17s (remain 0m 31s) Loss: 0.0328 \n",
            "Epoch: [3][1200/1357] Elapsed 2m 29s (remain 0m 19s) Loss: 0.0319 \n",
            "Epoch: [3][1300/1357] Elapsed 2m 41s (remain 0m 6s) Loss: 0.0314 \n",
            "Epoch: [3][1356/1357] Elapsed 2m 48s (remain 0m 0s) Loss: 0.0313 \n",
            "EVAL: [0/340] Elapsed 0m 0s (remain 1m 10s) Loss: 0.0040 \n",
            "EVAL: [100/340] Elapsed 0m 3s (remain 0m 9s) Loss: 0.0657 \n",
            "EVAL: [200/340] Elapsed 0m 7s (remain 0m 5s) Loss: 0.0566 \n",
            "EVAL: [300/340] Elapsed 0m 11s (remain 0m 1s) Loss: 0.0578 \n"
          ],
          "name": "stdout"
        },
        {
          "output_type": "stream",
          "text": [
            "Epoch 3 - avg_train_loss: 0.0313  avg_val_loss: 0.0586  time: 181s\n",
            "Epoch 3 - Score: 0.7957153787299158\n",
            "Epoch 3 - Save Best Score: 0.7957 Model\n"
          ],
          "name": "stderr"
        },
        {
          "output_type": "stream",
          "text": [
            "EVAL: [339/340] Elapsed 0m 12s (remain 0m 0s) Loss: 0.0586 \n"
          ],
          "name": "stdout"
        },
        {
          "output_type": "stream",
          "text": [
            "========== fold: 3 result ==========\n",
            "Score: 0.79572\n",
            "========== fold: 4 training ==========\n",
            "Some weights of the model checkpoint at bert-base-uncased were not used when initializing BertForSequenceClassification: ['cls.seq_relationship.bias', 'cls.predictions.transform.dense.weight', 'cls.seq_relationship.weight', 'cls.predictions.decoder.weight', 'cls.predictions.transform.LayerNorm.bias', 'cls.predictions.transform.LayerNorm.weight', 'cls.predictions.transform.dense.bias', 'cls.predictions.bias']\n",
            "- This IS expected if you are initializing BertForSequenceClassification from the checkpoint of a model trained on another task or with another architecture (e.g. initializing a BertForSequenceClassification model from a BertForPreTraining model).\n",
            "- This IS NOT expected if you are initializing BertForSequenceClassification from the checkpoint of a model that you expect to be exactly identical (initializing a BertForSequenceClassification model from a BertForSequenceClassification model).\n",
            "Some weights of BertForSequenceClassification were not initialized from the model checkpoint at bert-base-uncased and are newly initialized: ['classifier.bias', 'classifier.weight']\n",
            "You should probably TRAIN this model on a down-stream task to be able to use it for predictions and inference.\n"
          ],
          "name": "stderr"
        },
        {
          "output_type": "stream",
          "text": [
            "Epoch: [1][0/1357] Elapsed 0m 0s (remain 6m 47s) Loss: 0.5861 \n",
            "Epoch: [1][100/1357] Elapsed 0m 12s (remain 2m 38s) Loss: 0.1429 \n",
            "Epoch: [1][200/1357] Elapsed 0m 25s (remain 2m 24s) Loss: 0.1205 \n",
            "Epoch: [1][300/1357] Elapsed 0m 37s (remain 2m 11s) Loss: 0.1225 \n",
            "Epoch: [1][400/1357] Elapsed 0m 50s (remain 1m 59s) Loss: 0.1130 \n",
            "Epoch: [1][500/1357] Elapsed 1m 2s (remain 1m 46s) Loss: 0.1096 \n",
            "Epoch: [1][600/1357] Elapsed 1m 14s (remain 1m 34s) Loss: 0.1035 \n",
            "Epoch: [1][700/1357] Elapsed 1m 27s (remain 1m 21s) Loss: 0.1012 \n",
            "Epoch: [1][800/1357] Elapsed 1m 39s (remain 1m 9s) Loss: 0.0997 \n",
            "Epoch: [1][900/1357] Elapsed 1m 52s (remain 0m 56s) Loss: 0.0970 \n",
            "Epoch: [1][1000/1357] Elapsed 2m 4s (remain 0m 44s) Loss: 0.0946 \n",
            "Epoch: [1][1100/1357] Elapsed 2m 17s (remain 0m 31s) Loss: 0.0904 \n",
            "Epoch: [1][1200/1357] Elapsed 2m 29s (remain 0m 19s) Loss: 0.0879 \n",
            "Epoch: [1][1300/1357] Elapsed 2m 41s (remain 0m 6s) Loss: 0.0862 \n",
            "Epoch: [1][1356/1357] Elapsed 2m 48s (remain 0m 0s) Loss: 0.0845 \n",
            "EVAL: [0/340] Elapsed 0m 0s (remain 1m 9s) Loss: 0.0267 \n",
            "EVAL: [100/340] Elapsed 0m 3s (remain 0m 9s) Loss: 0.0461 \n",
            "EVAL: [200/340] Elapsed 0m 7s (remain 0m 5s) Loss: 0.0526 \n",
            "EVAL: [300/340] Elapsed 0m 11s (remain 0m 1s) Loss: 0.0538 \n"
          ],
          "name": "stdout"
        },
        {
          "output_type": "stream",
          "text": [
            "Epoch 1 - avg_train_loss: 0.0845  avg_val_loss: 0.0546  time: 182s\n",
            "Epoch 1 - Score: 0.8484243547697135\n",
            "Epoch 1 - Save Best Score: 0.8484 Model\n"
          ],
          "name": "stderr"
        },
        {
          "output_type": "stream",
          "text": [
            "EVAL: [339/340] Elapsed 0m 12s (remain 0m 0s) Loss: 0.0546 \n",
            "Epoch: [2][0/1357] Elapsed 0m 0s (remain 7m 51s) Loss: 0.0059 \n",
            "Epoch: [2][100/1357] Elapsed 0m 12s (remain 2m 38s) Loss: 0.0419 \n",
            "Epoch: [2][200/1357] Elapsed 0m 25s (remain 2m 24s) Loss: 0.0407 \n",
            "Epoch: [2][300/1357] Elapsed 0m 37s (remain 2m 11s) Loss: 0.0465 \n",
            "Epoch: [2][400/1357] Elapsed 0m 50s (remain 1m 59s) Loss: 0.0472 \n",
            "Epoch: [2][500/1357] Elapsed 1m 2s (remain 1m 46s) Loss: 0.0461 \n",
            "Epoch: [2][600/1357] Elapsed 1m 14s (remain 1m 34s) Loss: 0.0462 \n",
            "Epoch: [2][700/1357] Elapsed 1m 27s (remain 1m 21s) Loss: 0.0462 \n",
            "Epoch: [2][800/1357] Elapsed 1m 39s (remain 1m 9s) Loss: 0.0469 \n",
            "Epoch: [2][900/1357] Elapsed 1m 52s (remain 0m 56s) Loss: 0.0465 \n",
            "Epoch: [2][1000/1357] Elapsed 2m 4s (remain 0m 44s) Loss: 0.0470 \n",
            "Epoch: [2][1100/1357] Elapsed 2m 16s (remain 0m 31s) Loss: 0.0478 \n",
            "Epoch: [2][1200/1357] Elapsed 2m 29s (remain 0m 19s) Loss: 0.0476 \n",
            "Epoch: [2][1300/1357] Elapsed 2m 41s (remain 0m 6s) Loss: 0.0476 \n",
            "Epoch: [2][1356/1357] Elapsed 2m 48s (remain 0m 0s) Loss: 0.0481 \n",
            "EVAL: [0/340] Elapsed 0m 0s (remain 1m 12s) Loss: 0.0125 \n",
            "EVAL: [100/340] Elapsed 0m 3s (remain 0m 9s) Loss: 0.0492 \n",
            "EVAL: [200/340] Elapsed 0m 7s (remain 0m 5s) Loss: 0.0539 \n",
            "EVAL: [300/340] Elapsed 0m 11s (remain 0m 1s) Loss: 0.0538 \n"
          ],
          "name": "stdout"
        },
        {
          "output_type": "stream",
          "text": [
            "Epoch 2 - avg_train_loss: 0.0481  avg_val_loss: 0.0547  time: 182s\n",
            "Epoch 2 - Score: 0.801618219958046\n"
          ],
          "name": "stderr"
        },
        {
          "output_type": "stream",
          "text": [
            "EVAL: [339/340] Elapsed 0m 12s (remain 0m 0s) Loss: 0.0547 \n",
            "Epoch: [3][0/1357] Elapsed 0m 0s (remain 6m 55s) Loss: 0.1031 \n",
            "Epoch: [3][100/1357] Elapsed 0m 12s (remain 2m 38s) Loss: 0.0235 \n",
            "Epoch: [3][200/1357] Elapsed 0m 25s (remain 2m 24s) Loss: 0.0334 \n",
            "Epoch: [3][300/1357] Elapsed 0m 37s (remain 2m 11s) Loss: 0.0308 \n",
            "Epoch: [3][400/1357] Elapsed 0m 50s (remain 1m 59s) Loss: 0.0284 \n",
            "Epoch: [3][500/1357] Elapsed 1m 2s (remain 1m 46s) Loss: 0.0287 \n",
            "Epoch: [3][600/1357] Elapsed 1m 14s (remain 1m 34s) Loss: 0.0322 \n",
            "Epoch: [3][700/1357] Elapsed 1m 27s (remain 1m 21s) Loss: 0.0325 \n",
            "Epoch: [3][800/1357] Elapsed 1m 39s (remain 1m 9s) Loss: 0.0321 \n",
            "Epoch: [3][900/1357] Elapsed 1m 52s (remain 0m 56s) Loss: 0.0328 \n",
            "Epoch: [3][1000/1357] Elapsed 2m 4s (remain 0m 44s) Loss: 0.0323 \n",
            "Epoch: [3][1100/1357] Elapsed 2m 16s (remain 0m 31s) Loss: 0.0322 \n",
            "Epoch: [3][1200/1357] Elapsed 2m 29s (remain 0m 19s) Loss: 0.0318 \n",
            "Epoch: [3][1300/1357] Elapsed 2m 41s (remain 0m 6s) Loss: 0.0320 \n",
            "Epoch: [3][1356/1357] Elapsed 2m 48s (remain 0m 0s) Loss: 0.0316 \n",
            "EVAL: [0/340] Elapsed 0m 0s (remain 1m 7s) Loss: 0.0010 \n",
            "EVAL: [100/340] Elapsed 0m 3s (remain 0m 9s) Loss: 0.0452 \n",
            "EVAL: [200/340] Elapsed 0m 7s (remain 0m 5s) Loss: 0.0520 \n",
            "EVAL: [300/340] Elapsed 0m 11s (remain 0m 1s) Loss: 0.0535 \n"
          ],
          "name": "stdout"
        },
        {
          "output_type": "stream",
          "text": [
            "Epoch 3 - avg_train_loss: 0.0316  avg_val_loss: 0.0550  time: 181s\n",
            "Epoch 3 - Score: 0.8141321044546851\n"
          ],
          "name": "stderr"
        },
        {
          "output_type": "stream",
          "text": [
            "EVAL: [339/340] Elapsed 0m 12s (remain 0m 0s) Loss: 0.0550 \n"
          ],
          "name": "stdout"
        },
        {
          "output_type": "stream",
          "text": [
            "========== fold: 4 result ==========\n",
            "Score: 0.84842\n",
            "========== CV ==========\n",
            "Score: 0.82746\n",
            "========== model: bert-base-uncased fold: 0 inference ==========\n",
            "Some weights of the model checkpoint at bert-base-uncased were not used when initializing BertForSequenceClassification: ['cls.seq_relationship.bias', 'cls.predictions.transform.dense.weight', 'cls.seq_relationship.weight', 'cls.predictions.decoder.weight', 'cls.predictions.transform.LayerNorm.bias', 'cls.predictions.transform.LayerNorm.weight', 'cls.predictions.transform.dense.bias', 'cls.predictions.bias']\n",
            "- This IS expected if you are initializing BertForSequenceClassification from the checkpoint of a model trained on another task or with another architecture (e.g. initializing a BertForSequenceClassification model from a BertForPreTraining model).\n",
            "- This IS NOT expected if you are initializing BertForSequenceClassification from the checkpoint of a model that you expect to be exactly identical (initializing a BertForSequenceClassification model from a BertForSequenceClassification model).\n",
            "Some weights of BertForSequenceClassification were not initialized from the model checkpoint at bert-base-uncased and are newly initialized: ['classifier.bias', 'classifier.weight']\n",
            "You should probably TRAIN this model on a down-stream task to be able to use it for predictions and inference.\n"
          ],
          "name": "stderr"
        },
        {
          "output_type": "display_data",
          "data": {
            "application/vnd.jupyter.widget-view+json": {
              "model_id": "46a959b931db47f7b3279538e772347d",
              "version_minor": 0,
              "version_major": 2
            },
            "text/plain": [
              "HBox(children=(FloatProgress(value=0.0, max=2553.0), HTML(value='')))"
            ]
          },
          "metadata": {
            "tags": []
          }
        },
        {
          "output_type": "stream",
          "text": [
            "========== model: bert-base-uncased fold: 1 inference ==========\n"
          ],
          "name": "stderr"
        },
        {
          "output_type": "stream",
          "text": [
            "\n"
          ],
          "name": "stdout"
        },
        {
          "output_type": "stream",
          "text": [
            "Some weights of the model checkpoint at bert-base-uncased were not used when initializing BertForSequenceClassification: ['cls.seq_relationship.bias', 'cls.predictions.transform.dense.weight', 'cls.seq_relationship.weight', 'cls.predictions.decoder.weight', 'cls.predictions.transform.LayerNorm.bias', 'cls.predictions.transform.LayerNorm.weight', 'cls.predictions.transform.dense.bias', 'cls.predictions.bias']\n",
            "- This IS expected if you are initializing BertForSequenceClassification from the checkpoint of a model trained on another task or with another architecture (e.g. initializing a BertForSequenceClassification model from a BertForPreTraining model).\n",
            "- This IS NOT expected if you are initializing BertForSequenceClassification from the checkpoint of a model that you expect to be exactly identical (initializing a BertForSequenceClassification model from a BertForSequenceClassification model).\n",
            "Some weights of BertForSequenceClassification were not initialized from the model checkpoint at bert-base-uncased and are newly initialized: ['classifier.bias', 'classifier.weight']\n",
            "You should probably TRAIN this model on a down-stream task to be able to use it for predictions and inference.\n"
          ],
          "name": "stderr"
        },
        {
          "output_type": "display_data",
          "data": {
            "application/vnd.jupyter.widget-view+json": {
              "model_id": "8875fdd857504c8094009eecd68c288a",
              "version_minor": 0,
              "version_major": 2
            },
            "text/plain": [
              "HBox(children=(FloatProgress(value=0.0, max=2553.0), HTML(value='')))"
            ]
          },
          "metadata": {
            "tags": []
          }
        },
        {
          "output_type": "stream",
          "text": [
            "========== model: bert-base-uncased fold: 2 inference ==========\n"
          ],
          "name": "stderr"
        },
        {
          "output_type": "stream",
          "text": [
            "\n"
          ],
          "name": "stdout"
        },
        {
          "output_type": "stream",
          "text": [
            "Some weights of the model checkpoint at bert-base-uncased were not used when initializing BertForSequenceClassification: ['cls.seq_relationship.bias', 'cls.predictions.transform.dense.weight', 'cls.seq_relationship.weight', 'cls.predictions.decoder.weight', 'cls.predictions.transform.LayerNorm.bias', 'cls.predictions.transform.LayerNorm.weight', 'cls.predictions.transform.dense.bias', 'cls.predictions.bias']\n",
            "- This IS expected if you are initializing BertForSequenceClassification from the checkpoint of a model trained on another task or with another architecture (e.g. initializing a BertForSequenceClassification model from a BertForPreTraining model).\n",
            "- This IS NOT expected if you are initializing BertForSequenceClassification from the checkpoint of a model that you expect to be exactly identical (initializing a BertForSequenceClassification model from a BertForSequenceClassification model).\n",
            "Some weights of BertForSequenceClassification were not initialized from the model checkpoint at bert-base-uncased and are newly initialized: ['classifier.bias', 'classifier.weight']\n",
            "You should probably TRAIN this model on a down-stream task to be able to use it for predictions and inference.\n"
          ],
          "name": "stderr"
        },
        {
          "output_type": "display_data",
          "data": {
            "application/vnd.jupyter.widget-view+json": {
              "model_id": "aa034b7105434313a68cb6c43c53ce83",
              "version_minor": 0,
              "version_major": 2
            },
            "text/plain": [
              "HBox(children=(FloatProgress(value=0.0, max=2553.0), HTML(value='')))"
            ]
          },
          "metadata": {
            "tags": []
          }
        },
        {
          "output_type": "stream",
          "text": [
            "========== model: bert-base-uncased fold: 3 inference ==========\n"
          ],
          "name": "stderr"
        },
        {
          "output_type": "stream",
          "text": [
            "\n"
          ],
          "name": "stdout"
        },
        {
          "output_type": "stream",
          "text": [
            "Some weights of the model checkpoint at bert-base-uncased were not used when initializing BertForSequenceClassification: ['cls.seq_relationship.bias', 'cls.predictions.transform.dense.weight', 'cls.seq_relationship.weight', 'cls.predictions.decoder.weight', 'cls.predictions.transform.LayerNorm.bias', 'cls.predictions.transform.LayerNorm.weight', 'cls.predictions.transform.dense.bias', 'cls.predictions.bias']\n",
            "- This IS expected if you are initializing BertForSequenceClassification from the checkpoint of a model trained on another task or with another architecture (e.g. initializing a BertForSequenceClassification model from a BertForPreTraining model).\n",
            "- This IS NOT expected if you are initializing BertForSequenceClassification from the checkpoint of a model that you expect to be exactly identical (initializing a BertForSequenceClassification model from a BertForSequenceClassification model).\n",
            "Some weights of BertForSequenceClassification were not initialized from the model checkpoint at bert-base-uncased and are newly initialized: ['classifier.bias', 'classifier.weight']\n",
            "You should probably TRAIN this model on a down-stream task to be able to use it for predictions and inference.\n"
          ],
          "name": "stderr"
        },
        {
          "output_type": "display_data",
          "data": {
            "application/vnd.jupyter.widget-view+json": {
              "model_id": "8b8c468155ae4001a4f9ae8e664ad752",
              "version_minor": 0,
              "version_major": 2
            },
            "text/plain": [
              "HBox(children=(FloatProgress(value=0.0, max=2553.0), HTML(value='')))"
            ]
          },
          "metadata": {
            "tags": []
          }
        },
        {
          "output_type": "stream",
          "text": [
            "========== model: bert-base-uncased fold: 4 inference ==========\n"
          ],
          "name": "stderr"
        },
        {
          "output_type": "stream",
          "text": [
            "\n"
          ],
          "name": "stdout"
        },
        {
          "output_type": "stream",
          "text": [
            "Some weights of the model checkpoint at bert-base-uncased were not used when initializing BertForSequenceClassification: ['cls.seq_relationship.bias', 'cls.predictions.transform.dense.weight', 'cls.seq_relationship.weight', 'cls.predictions.decoder.weight', 'cls.predictions.transform.LayerNorm.bias', 'cls.predictions.transform.LayerNorm.weight', 'cls.predictions.transform.dense.bias', 'cls.predictions.bias']\n",
            "- This IS expected if you are initializing BertForSequenceClassification from the checkpoint of a model trained on another task or with another architecture (e.g. initializing a BertForSequenceClassification model from a BertForPreTraining model).\n",
            "- This IS NOT expected if you are initializing BertForSequenceClassification from the checkpoint of a model that you expect to be exactly identical (initializing a BertForSequenceClassification model from a BertForSequenceClassification model).\n",
            "Some weights of BertForSequenceClassification were not initialized from the model checkpoint at bert-base-uncased and are newly initialized: ['classifier.bias', 'classifier.weight']\n",
            "You should probably TRAIN this model on a down-stream task to be able to use it for predictions and inference.\n"
          ],
          "name": "stderr"
        },
        {
          "output_type": "display_data",
          "data": {
            "application/vnd.jupyter.widget-view+json": {
              "model_id": "a31fff94ec2a465290a4c14972207953",
              "version_minor": 0,
              "version_major": 2
            },
            "text/plain": [
              "HBox(children=(FloatProgress(value=0.0, max=2553.0), HTML(value='')))"
            ]
          },
          "metadata": {
            "tags": []
          }
        },
        {
          "output_type": "stream",
          "text": [
            "\n"
          ],
          "name": "stdout"
        }
      ]
    }
  ]
}